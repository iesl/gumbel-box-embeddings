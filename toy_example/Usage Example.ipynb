{
 "cells": [
  {
   "cell_type": "code",
   "execution_count": 2,
   "metadata": {},
   "outputs": [],
   "source": [
    "from box_wrapper import SigmoidBoxTensor, BoxTensor, TBoxTensor, DeltaBoxTensor, MinDeltaBoxesOnTorus\n",
    "from modules import BoxEmbedding\n",
    "from utils import log1mexp\n",
    "from allennlp.modules.token_embedders import Embedding\n",
    "import torch\n",
    "import torch.nn as nn\n",
    "import numpy as np\n",
    "import torch.optim as optim"
   ]
  },
  {
   "cell_type": "markdown",
   "metadata": {},
   "source": [
    "# We will consider 3 entities in this toy example.\n",
    "- Positive edge: (0, 1) (Just repeated this one twice in the dataset)\n",
    "- Negative edges: (0, 2), (0,2), (1,2), (2,1)\n",
    "- for positive edges - P(A|B) = 1 (These can be any valid probability values)\n",
    "- for negative edges - P(B|A) = 0 (These can be any valid probability values)"
   ]
  },
  {
   "cell_type": "code",
   "execution_count": null,
   "metadata": {},
   "outputs": [],
   "source": [
    "num_entities = 3"
   ]
  },
  {
   "cell_type": "code",
   "execution_count": null,
   "metadata": {},
   "outputs": [],
   "source": [
    "def get_data():\n",
    "    head = torch.LongTensor([0, 0])\n",
    "    tail = torch.LongTensor([1, 1])\n",
    "    neg_head = torch.LongTensor([0, 2, 1, 2])\n",
    "    neg_tail = torch.LongTensor([2, 1, 2, 0])\n",
    "    return head, tail, neg_head, neg_tail"
   ]
  },
  {
   "cell_type": "markdown",
   "metadata": {},
   "source": [
    "### The training loop "
   ]
  },
  {
   "cell_type": "code",
   "execution_count": null,
   "metadata": {},
   "outputs": [],
   "source": [
    "def train_loop(my_net, max_epoch=10000, log_freq=2000):\n",
    "    embeddings = []\n",
    "    gradients = []\n",
    "    for epoch in range(max_epoch):\n",
    "        #for data in trainset:\n",
    "        my_net.zero_grad()\n",
    "        head, tail, neg_head, neg_tail = get_data()\n",
    "        output = my_net(head, tail, neg_head, neg_tail)\n",
    "        if epoch%log_freq == 0:\n",
    "            print(output)\n",
    "        output.backward()\n",
    "        xc = [ele.grad for ele in my_net.parameters()]\n",
    "        gradients.append(xc)\n",
    "        optimizer.step()\n",
    "    return embeddings , gradients"
   ]
  },
  {
   "cell_type": "markdown",
   "metadata": {},
   "source": [
    "### Box embedding model that implements the Algorithm 1 described in the paper."
   ]
  },
  {
   "cell_type": "code",
   "execution_count": null,
   "metadata": {},
   "outputs": [],
   "source": [
    "class toy_smooth_box(nn.Module):\n",
    "    def __init__(self, softbox_temp, gumbel_beta, regularisation=0.0):\n",
    "        super().__init__()\n",
    "        self.box_type = 'BoxTensor'\n",
    "        self.box = BoxEmbedding(\n",
    "            num_embeddings=num_entities,\n",
    "            box_embedding_dim=2,\n",
    "            box_type=self.box_type,\n",
    "            sparse=False,\n",
    "            init_interval_center = 0.2,\n",
    "            init_interval_delta = 0.01)\n",
    "        self.embedding_dim = 2\n",
    "        self.softbox_temp = softbox_temp\n",
    "        self.gumbel_beta = gumbel_beta\n",
    "        self.loss_f = torch.nn.NLLLoss(reduction='mean')\n",
    "        self.label = torch.tensor([1, 1, 0, 0, 0, 0], dtype=torch.long)\n",
    "        self.regularization_weight = regularisation\n",
    "\n",
    "    def forward(self, head, tail, neg_head, neg_tail):\n",
    "        pos_head = self.box(head)\n",
    "        pos_tail = self.box(tail)\n",
    "        neg_head = self.box(neg_head)\n",
    "        neg_tail = self.box(neg_tail)\n",
    "        pos_score = self.get_scores(pos_head, pos_tail)\n",
    "        neg_score = self.get_scores(neg_head, neg_tail)\n",
    "        loss = self.get_loss(torch.cat([pos_score, neg_score], 0), self.label)\n",
    "        return loss\n",
    "        \n",
    "    def _get_score(self, head, tail):\n",
    "        head_tail_box_vol = head.intersection_log_soft_volume(\n",
    "            tail, temp=self.softbox_temp)\n",
    "        # score = tail_head_relation_box_vol - tail_relation_box.log_soft_volume(\n",
    "        #    temp=self.softbox_temp)\n",
    "        score = head_tail_box_vol - tail.log_soft_volume(temp=self.softbox_temp)\n",
    "\n",
    "        return score\n",
    "    \n",
    "    def get_loss(self, scores, label):\n",
    "        log_p = scores\n",
    "        log1mp = log1mexp(log_p)\n",
    "        logits = torch.stack([log1mp, log_p], dim=-1)\n",
    "        logits = logits.view(6, 2)\n",
    "        loss = self.loss_f(logits, label)\n",
    "        if torch.isnan(loss).any():\n",
    "            breakpoint()\n",
    "        return loss\n",
    "    \n",
    "    def get_scores(self, head, tail) -> torch.Tensor:\n",
    "        p = self._get_score(head, tail)\n",
    "        return p"
   ]
  },
  {
   "cell_type": "markdown",
   "metadata": {},
   "source": [
    "### Gumbel Box Model"
   ]
  },
  {
   "cell_type": "code",
   "execution_count": null,
   "metadata": {},
   "outputs": [],
   "source": [
    "class toy_box_gumbel(toy_smooth_box):\n",
    "    def _get_score(self, head: BoxTensor, tail: BoxTensor) -> torch.Tensor:\n",
    "        intersection_box = head.gumbel_intersection(tail, gumbel_beta=self.gumbel_beta)\n",
    "        intersection_volume = intersection_box._log_soft_volume_adjusted(\n",
    "            intersection_box.z, intersection_box.Z , temp= self.softbox_temp)\n",
    "\n",
    "        tail_volume= tail._log_soft_volume_adjusted(tail.z, tail.Z, temp= self.softbox_temp, gumbel_beta = self.gumbel_beta)\n",
    "        \n",
    "        score = (intersection_volume - tail_volume)\n",
    "        if len(np.where(score>0)[0]):\n",
    "            breakpoint()\n",
    "        return score"
   ]
  },
  {
   "cell_type": "code",
   "execution_count": null,
   "metadata": {},
   "outputs": [],
   "source": [
    "class toy_box_gumbel_with_bessel_volume(toy_smooth_box):\n",
    "    def _get_score(self, head: BoxTensor, tail: BoxTensor) -> torch.Tensor:\n",
    "        intersection_box = head.gumbel_intersection(tail, gumbel_beta=self.gumbel_beta)\n",
    "        intersection_vol = intersection_box._log_bessel_volume(intersection_box.z,\n",
    "            intersection_box.Z, gumbel_beta=self.gumbel_beta)\n",
    "        tail_vol = tail._log_bessel_volume(tail.z, tail.Z, gumbel_beta=self.gumbel_beta)\n",
    "        score = intersection_vol - tail_vol\n",
    "        if len(np.where(score>0)[0]):\n",
    "            breakpoint()\n",
    "        return score"
   ]
  },
  {
   "cell_type": "code",
   "execution_count": null,
   "metadata": {},
   "outputs": [],
   "source": [
    "my_net = toy_box_gumbel(1.0, 1.0)\n",
    "optimizer = optim.Adam(my_net.parameters(), lr = 0.01)\n",
    "embeddings, grads = train_loop(my_net, 1000, 30)"
   ]
  },
  {
   "cell_type": "code",
   "execution_count": null,
   "metadata": {
    "scrolled": false
   },
   "outputs": [],
   "source": [
    "my_net = toy_box_gumbel_with_bessel_volume(1.0, 1.0)\n",
    "optimizer = optim.Adam(my_net.parameters(), lr = 0.01)\n",
    "embeddings, grads = train_loop(my_net, 1000, 30)"
   ]
  },
  {
   "cell_type": "code",
   "execution_count": null,
   "metadata": {},
   "outputs": [],
   "source": [
    "my_net = toy_smooth_box(1.0, 1.0)\n",
    "optimizer = optim.Adam(my_net.parameters(), lr = 0.01)\n",
    "embeddings, grads = train_loop(my_net, 1000, 30)"
   ]
  },
  {
   "cell_type": "markdown",
   "metadata": {},
   "source": [
    "### Test volume for BoxTensor"
   ]
  },
  {
   "cell_type": "code",
   "execution_count": 3,
   "metadata": {},
   "outputs": [],
   "source": [
    "test_box = BoxTensor(torch.tensor([[0.0,0.0], [1.0,1.0]]))"
   ]
  },
  {
   "cell_type": "code",
   "execution_count": 4,
   "metadata": {},
   "outputs": [
    {
     "name": "stdout",
     "output_type": "stream",
     "text": [
      "Min: tensor([0., 0.]), Max: tensor([1., 1.])\n"
     ]
    }
   ],
   "source": [
    "print(f\"Min: {test_box.z}, Max: {test_box.Z}\")"
   ]
  },
  {
   "cell_type": "markdown",
   "metadata": {},
   "source": [
    "- Volume = (1 - 0) * (1 - 0) = 1.0\n",
    "- log volume = log (1.0) = 0.0"
   ]
  },
  {
   "cell_type": "code",
   "execution_count": 5,
   "metadata": {},
   "outputs": [
    {
     "name": "stdout",
     "output_type": "stream",
     "text": [
      "hard volume: 0.0\n"
     ]
    }
   ],
   "source": [
    "print(f\"hard volume: {test_box.log_clamp_volume()}\")"
   ]
  },
  {
   "cell_type": "markdown",
   "metadata": {},
   "source": [
    "- Soft volume tends to converge to its hard value as temp decreases "
   ]
  },
  {
   "cell_type": "code",
   "execution_count": 14,
   "metadata": {},
   "outputs": [
    {
     "name": "stdout",
     "output_type": "stream",
     "text": [
      "Soft volume with temp 1/1.0: 0.5450276732444763\n",
      "Soft volume with temp 1/10.0: 9.059885087481234e-06\n",
      "Soft volume with temp 1/50.0: 0.0\n"
     ]
    }
   ],
   "source": [
    "print(f\"Soft volume with temp 1/1.0: {test_box.log_soft_volume(temp=1.)}\")\n",
    "print(f\"Soft volume with temp 1/10.0: {test_box.log_soft_volume(temp=10.)}\")\n",
    "print(f\"Soft volume with temp 1/50.0: {test_box.log_soft_volume(temp=50.)}\")"
   ]
  },
  {
   "cell_type": "markdown",
   "metadata": {},
   "source": [
    "- Soft volume with gumbel distribution tends to converge to its hard value as gumbel beta decreases"
   ]
  },
  {
   "cell_type": "code",
   "execution_count": 15,
   "metadata": {},
   "outputs": [
    {
     "name": "stdout",
     "output_type": "stream",
     "text": [
      "Soft volume with temp 1/1.0: -23.267623901367188\n",
      "Soft volume with temp 1/10.0: -0.02322288043797016\n",
      "Soft volume with temp 1/50.0: -0.00023092172341421247\n",
      "Soft volume with temp 1/50.0: -2.3126736778067425e-05\n",
      "Soft volume with temp 1/50.0: -2.384185791015625e-07\n",
      "Soft volume with temp 1/50.0: 0.0\n"
     ]
    }
   ],
   "source": [
    "print(f\"Soft volume with temp 1/1.0: {test_box.log_soft_volume_adjusted(temp=50., gumbel_beta = 1.)}\")\n",
    "print(f\"Soft volume with temp 1/10.0: {test_box.log_soft_volume_adjusted(temp=50., gumbel_beta = 0.01)}\")\n",
    "print(f\"Soft volume with temp 1/50.0: {test_box.log_soft_volume_adjusted(temp=50., gumbel_beta = 0.0001)}\")\n",
    "print(f\"Soft volume with temp 1/50.0: {test_box.log_soft_volume_adjusted(temp=50., gumbel_beta = 0.00001)}\")\n",
    "print(f\"Soft volume with temp 1/50.0: {test_box.log_soft_volume_adjusted(temp=50., gumbel_beta = 0.0000001)}\")\n",
    "print(f\"Soft volume with temp 1/50.0: {test_box.log_soft_volume_adjusted(temp=50., gumbel_beta = 0.0000000001)}\")"
   ]
  },
  {
   "cell_type": "markdown",
   "metadata": {},
   "source": [
    "### Adjustment in log_soft_volume_adjusted\n",
    "- The gumbel boxes are initiazed by its position parameters(mu). However the mean is shift by Euler_Mascheroni_Constant , i.e., mean = mu + Euler_Mascheroni_Constant * gumbel_beta.\n",
    "- As if the original box parameters would be shifted inwards by (Euler_Mascheroni_Constant * gumbel_beta) amount in both min and max.\n",
    "- Thus we need to adjust that in our volume calculation.\n",
    "- Verify that below.\n",
    "\n",
    "- More on that constant - https://en.wikipedia.org/wiki/Euler%E2%80%93Mascheroni_constant\n",
    "- More mean of gumbel dist - https://en.wikipedia.org/wiki/Gumbel_distribution (look at the property table)"
   ]
  },
  {
   "cell_type": "code",
   "execution_count": 33,
   "metadata": {},
   "outputs": [],
   "source": [
    "Euler_Mascheroni_Constant = euler_gamma = 0.577215664901532\n",
    "beta = 1.\n",
    "# Calulate the adjusted volume of the given box\n",
    "test_box = BoxTensor(torch.tensor([[0.0,0.0], [100.0,100.0]]))\n",
    "adjusted_volume_of_box =torch.exp(test_box.log_soft_volume_adjusted(temp=50.0, gumbel_beta = beta))\n",
    "\n",
    "# Calulated the volume of the adjusted box\n",
    "test_box = BoxTensor(torch.tensor([[0.0 + euler_gamma * beta ,0.0 + euler_gamma * beta], \n",
    "                                   [100.0 - euler_gamma * beta, 100.0 - euler_gamma * beta]]))\n",
    "volume_of_adjusted_box = torch.exp(test_box.log_soft_volume(temp=50.0))\n",
    "assert volume_of_adjusted_box == adjusted_volume_of_box"
   ]
  },
  {
   "cell_type": "code",
   "execution_count": 32,
   "metadata": {},
   "outputs": [],
   "source": []
  },
  {
   "cell_type": "code",
   "execution_count": null,
   "metadata": {},
   "outputs": [],
   "source": []
  }
 ],
 "metadata": {
  "kernelspec": {
   "display_name": "Python 3",
   "language": "python",
   "name": "python3"
  },
  "language_info": {
   "codemirror_mode": {
    "name": "ipython",
    "version": 3
   },
   "file_extension": ".py",
   "mimetype": "text/x-python",
   "name": "python",
   "nbconvert_exporter": "python",
   "pygments_lexer": "ipython3",
   "version": "3.7.4"
  }
 },
 "nbformat": 4,
 "nbformat_minor": 2
}

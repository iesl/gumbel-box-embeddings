{
 "cells": [
  {
   "cell_type": "code",
   "execution_count": 2,
   "metadata": {},
   "outputs": [
    {
     "ename": "ImportError",
     "evalue": "attempted relative import with no known parent package",
     "output_type": "error",
     "traceback": [
      "\u001b[0;31m---------------------------------------------------------------------------\u001b[0m",
      "\u001b[0;31mImportError\u001b[0m                               Traceback (most recent call last)",
      "\u001b[0;32m<ipython-input-2-77a35aa2a680>\u001b[0m in \u001b[0;36m<module>\u001b[0;34m\u001b[0m\n\u001b[1;32m      1\u001b[0m \u001b[0;32mfrom\u001b[0m \u001b[0mbox_wrapper\u001b[0m \u001b[0;32mimport\u001b[0m \u001b[0mSigmoidBoxTensor\u001b[0m\u001b[0;34m,\u001b[0m \u001b[0mBoxTensor\u001b[0m\u001b[0;34m,\u001b[0m \u001b[0mTBoxTensor\u001b[0m\u001b[0;34m,\u001b[0m \u001b[0mDeltaBoxTensor\u001b[0m\u001b[0;34m,\u001b[0m \u001b[0mMinDeltaBoxesOnTorus\u001b[0m\u001b[0;34m\u001b[0m\u001b[0;34m\u001b[0m\u001b[0m\n\u001b[0;32m----> 2\u001b[0;31m \u001b[0;32mfrom\u001b[0m \u001b[0mmodules\u001b[0m \u001b[0;32mimport\u001b[0m \u001b[0mBoxEmbedding\u001b[0m\u001b[0;34m\u001b[0m\u001b[0;34m\u001b[0m\u001b[0m\n\u001b[0m\u001b[1;32m      3\u001b[0m \u001b[0;32mfrom\u001b[0m \u001b[0mutils\u001b[0m \u001b[0;32mimport\u001b[0m \u001b[0mlog1mexp\u001b[0m\u001b[0;34m\u001b[0m\u001b[0;34m\u001b[0m\u001b[0m\n\u001b[1;32m      4\u001b[0m \u001b[0;32mfrom\u001b[0m \u001b[0mallennlp\u001b[0m\u001b[0;34m.\u001b[0m\u001b[0mmodules\u001b[0m\u001b[0;34m.\u001b[0m\u001b[0mtoken_embedders\u001b[0m \u001b[0;32mimport\u001b[0m \u001b[0mEmbedding\u001b[0m\u001b[0;34m\u001b[0m\u001b[0;34m\u001b[0m\u001b[0m\n\u001b[1;32m      5\u001b[0m \u001b[0;32mimport\u001b[0m \u001b[0mtorch\u001b[0m\u001b[0;34m\u001b[0m\u001b[0;34m\u001b[0m\u001b[0m\n",
      "\u001b[0;32m~/box_embedding/models/toy_example/modules.py\u001b[0m in \u001b[0;36m<module>\u001b[0;34m\u001b[0m\n\u001b[1;32m      3\u001b[0m \u001b[0;32mfrom\u001b[0m \u001b[0mtorch\u001b[0m\u001b[0;34m.\u001b[0m\u001b[0mnn\u001b[0m \u001b[0;32mimport\u001b[0m \u001b[0mModule\u001b[0m\u001b[0;34m,\u001b[0m \u001b[0mParameter\u001b[0m\u001b[0;34m\u001b[0m\u001b[0;34m\u001b[0m\u001b[0m\n\u001b[1;32m      4\u001b[0m \u001b[0;32mimport\u001b[0m \u001b[0mtorch\u001b[0m\u001b[0;34m.\u001b[0m\u001b[0mnn\u001b[0m\u001b[0;34m.\u001b[0m\u001b[0mfunctional\u001b[0m \u001b[0;32mas\u001b[0m \u001b[0mF\u001b[0m\u001b[0;34m\u001b[0m\u001b[0;34m\u001b[0m\u001b[0m\n\u001b[0;32m----> 5\u001b[0;31m \u001b[0;32mfrom\u001b[0m \u001b[0;34m.\u001b[0m\u001b[0mbox_wrapper\u001b[0m \u001b[0;32mimport\u001b[0m \u001b[0mSigmoidBoxTensor\u001b[0m\u001b[0;34m,\u001b[0m \u001b[0mBoxTensor\u001b[0m\u001b[0;34m,\u001b[0m \u001b[0mTBoxTensor\u001b[0m\u001b[0;34m,\u001b[0m \u001b[0mDeltaBoxTensor\u001b[0m\u001b[0;34m,\u001b[0m \u001b[0mDeltaExpBoxTensor\u001b[0m\u001b[0;34m\u001b[0m\u001b[0;34m\u001b[0m\u001b[0m\n\u001b[0m\u001b[1;32m      6\u001b[0m from typing import (List, Tuple, Dict, Optional, Any, Union, TypeVar, Type,\n\u001b[1;32m      7\u001b[0m                     Callable)\n",
      "\u001b[0;31mImportError\u001b[0m: attempted relative import with no known parent package"
     ]
    }
   ],
   "source": [
    "from box_wrapper import SigmoidBoxTensor, BoxTensor, TBoxTensor, DeltaBoxTensor, MinDeltaBoxesOnTorus\n",
    "from modules import BoxEmbedding\n",
    "from utils import log1mexp\n",
    "from allennlp.modules.token_embedders import Embedding\n",
    "import torch\n",
    "import torch.nn as nn\n",
    "import numpy as np\n",
    "import torch.optim as optim"
   ]
  },
  {
   "cell_type": "markdown",
   "metadata": {},
   "source": [
    "# We will consider 3 entities in this toy example.\n",
    "- Positive edge: (0, 1) (Just repeated this one twice in the dataset)\n",
    "- Negative edges: (0, 2), (0,2), (1,2), (2,1)\n",
    "- for positive edges - P(A|B) = 1 (These can be any valid probability values)\n",
    "- for negative edges - P(B|A) = 0 (These can be any valid probability values)"
   ]
  },
  {
   "cell_type": "code",
   "execution_count": 4,
   "metadata": {},
   "outputs": [],
   "source": [
    "num_entities = 3"
   ]
  },
  {
   "cell_type": "code",
   "execution_count": 5,
   "metadata": {},
   "outputs": [],
   "source": [
    "def get_data():\n",
    "    head = torch.LongTensor([0, 0])\n",
    "    tail = torch.LongTensor([1, 1])\n",
    "    neg_head = torch.LongTensor([0, 2, 1, 2])\n",
    "    neg_tail = torch.LongTensor([2, 1, 2, 0])\n",
    "    return head, tail, neg_head, neg_tail"
   ]
  },
  {
   "cell_type": "markdown",
   "metadata": {},
   "source": [
    "### The training loop "
   ]
  },
  {
   "cell_type": "code",
   "execution_count": 17,
   "metadata": {},
   "outputs": [],
   "source": [
    "def train_loop(my_net, max_epoch=10000, log_freq=2000):\n",
    "    embeddings = []\n",
    "    gradients = []\n",
    "    for epoch in range(max_epoch):\n",
    "        #for data in trainset:\n",
    "        my_net.zero_grad()\n",
    "        head, tail, neg_head, neg_tail = get_data()\n",
    "        output, boxes = my_net(head, tail, neg_head, neg_tail)\n",
    "        if epoch%log_freq == 0:\n",
    "            print(output)\n",
    "            embeddings.append(boxes)\n",
    "        output.backward()\n",
    "        xc = [ele.grad for ele in my_net.parameters()]\n",
    "        gradients.append(xc)\n",
    "        optimizer.step()\n",
    "    return embeddings , gradients"
   ]
  },
  {
   "cell_type": "markdown",
   "metadata": {},
   "source": [
    "### Box embedding model that implements the Algorithm 1 described in the paper."
   ]
  },
  {
   "cell_type": "code",
   "execution_count": 11,
   "metadata": {},
   "outputs": [],
   "source": [
    "class toy_box(nn.Module):\n",
    "    def __init__(self, softbox_temp, gumbel_beta, regularisation=0.0):\n",
    "        super().__init__()\n",
    "        self.box_type = 'DeltaBoxTensor'\n",
    "        self.box = BoxEmbedding(\n",
    "            num_embeddings=num_entities,\n",
    "            box_embedding_dim=2,\n",
    "            box_type=self.box_type,\n",
    "            sparse=False,\n",
    "            init_interval_center = 0.2,\n",
    "            init_interval_delta = 0.01)\n",
    "        self.embedding_dim = 2\n",
    "        self.softbox_temp = softbox_temp\n",
    "        self.gumbel_beta = gumbel_beta\n",
    "        self.loss_f = torch.nn.NLLLoss(reduction='mean')\n",
    "        self.label = torch.tensor([1, 1, 0, 0, 0, 0], dtype=torch.long)\n",
    "        self.regularization_weight = regularisation\n",
    "\n",
    "    def forward(self, head, tail, neg_head, neg_tail):\n",
    "        pos_head = self.box(head)\n",
    "        pos_tail = self.box(tail)\n",
    "        neg_head = self.box(neg_head)\n",
    "        neg_tail = self.box(neg_tail)\n",
    "        pos_score = self.get_scores(pos_head, pos_tail)\n",
    "        neg_score = self.get_scores(neg_head, neg_tail)\n",
    "        boxes = copy.deepcopy(self.box)\n",
    "        loss = self.get_loss(torch.cat([pos_score, neg_score], 0), self.label)\n",
    "        return loss, boxes\n",
    "        \n",
    "    def _get_score(self, head, tail):\n",
    "        head_tail_box_vol = head.intersection_log_soft_volume(\n",
    "            tail, temp=self.softbox_temp)\n",
    "        # score = tail_head_relation_box_vol - tail_relation_box.log_soft_volume(\n",
    "        #    temp=self.softbox_temp)\n",
    "        score = head_tail_box_vol - tail.log_soft_volume(temp=self.softbox_temp)\n",
    "\n",
    "        return score\n",
    "    \n",
    "    def get_loss(self, scores, label):\n",
    "        log_p = scores\n",
    "        log1mp = log1mexp(log_p)\n",
    "        logits = torch.stack([log1mp, log_p], dim=-1)\n",
    "        logits = logits.view(6, 2)\n",
    "        loss = self.loss_f(logits, label)\n",
    "        if torch.isnan(loss).any():\n",
    "            breakpoint()\n",
    "        return loss\n",
    "    \n",
    "    def get_scores(self, head, tail) -> torch.Tensor:\n",
    "        p = self._get_score(head, tail)\n",
    "        return p"
   ]
  },
  {
   "cell_type": "markdown",
   "metadata": {},
   "source": [
    "### Gumbel Box Model"
   ]
  },
  {
   "cell_type": "code",
   "execution_count": 14,
   "metadata": {},
   "outputs": [],
   "source": [
    "class toy_box_gumbel(toy_box):\n",
    "    def _get_score(self, head: BoxTensor, tail: BoxTensor) -> torch.Tensor:\n",
    "        intersection_box = head.gumbel_intersection(tail, gumbel_beta=self.gumbel_beta)\n",
    "        intersection_volume = intersection_box._log_soft_volume_adjusted(\n",
    "            intersection_box.z, intersection_box.Z , temp= self.softbox_temp)\n",
    "\n",
    "        tail_volume= tail._log_soft_volume_adjusted(tail.z, tail.Z, temp= self.softbox_temp, gumbel_beta = self.gumbel_beta)\n",
    "        \n",
    "        score = (intersection_volume - tail_volume)\n",
    "        if len(np.where(score>0)[0]):\n",
    "            breakpoint()\n",
    "        return score"
   ]
  },
  {
   "cell_type": "code",
   "execution_count": 925,
   "metadata": {},
   "outputs": [],
   "source": [
    "class toy_box_Bessel(toy_box):\n",
    "    def _get_score(self, head: BoxTensor, tail: BoxTensor) -> torch.Tensor:\n",
    "         intersection_box = head.gumbel_intersection(tail, gumbel_beta=self.gumbel_beta)\n",
    "        intersection_vol = intersection_box._log_bessel_volume(intersection_box.z,\n",
    "            intersection_box.Z, gumbel_beta=self.gumbel_beta)\n",
    "        tail_vol = tail._log_bessel_volume(tail.z, tail.Z, gumbel_beta=self.gumbel_beta)\n",
    "        score = intersection_vol - tail_vol\n",
    "        if len(np.where(score>0)[0]):\n",
    "            breakpoint()\n",
    "        return score"
   ]
  },
  {
   "cell_type": "code",
   "execution_count": 15,
   "metadata": {},
   "outputs": [
    {
     "name": "stdout",
     "output_type": "stream",
     "text": [
      "tensor(0.9055, grad_fn=<NllLossBackward>)\n",
      "tensor(0.7857, grad_fn=<NllLossBackward>)\n",
      "tensor(0.6825, grad_fn=<NllLossBackward>)\n",
      "tensor(0.5980, grad_fn=<NllLossBackward>)\n",
      "tensor(0.5297, grad_fn=<NllLossBackward>)\n",
      "tensor(0.4729, grad_fn=<NllLossBackward>)\n",
      "tensor(0.4246, grad_fn=<NllLossBackward>)\n",
      "tensor(0.3830, grad_fn=<NllLossBackward>)\n",
      "tensor(0.3470, grad_fn=<NllLossBackward>)\n",
      "tensor(0.3156, grad_fn=<NllLossBackward>)\n",
      "tensor(0.2881, grad_fn=<NllLossBackward>)\n",
      "tensor(0.2639, grad_fn=<NllLossBackward>)\n",
      "tensor(0.2426, grad_fn=<NllLossBackward>)\n",
      "tensor(0.2236, grad_fn=<NllLossBackward>)\n",
      "tensor(0.2068, grad_fn=<NllLossBackward>)\n",
      "tensor(0.1917, grad_fn=<NllLossBackward>)\n",
      "tensor(0.1783, grad_fn=<NllLossBackward>)\n",
      "tensor(0.1661, grad_fn=<NllLossBackward>)\n",
      "tensor(0.1552, grad_fn=<NllLossBackward>)\n",
      "tensor(0.1453, grad_fn=<NllLossBackward>)\n",
      "tensor(0.1363, grad_fn=<NllLossBackward>)\n",
      "tensor(0.1281, grad_fn=<NllLossBackward>)\n",
      "tensor(0.1206, grad_fn=<NllLossBackward>)\n",
      "tensor(0.1138, grad_fn=<NllLossBackward>)\n",
      "tensor(0.1075, grad_fn=<NllLossBackward>)\n",
      "tensor(0.1017, grad_fn=<NllLossBackward>)\n",
      "tensor(0.0964, grad_fn=<NllLossBackward>)\n",
      "tensor(0.0915, grad_fn=<NllLossBackward>)\n",
      "tensor(0.0869, grad_fn=<NllLossBackward>)\n",
      "tensor(0.0827, grad_fn=<NllLossBackward>)\n",
      "tensor(0.0787, grad_fn=<NllLossBackward>)\n",
      "tensor(0.0751, grad_fn=<NllLossBackward>)\n",
      "tensor(0.0717, grad_fn=<NllLossBackward>)\n",
      "tensor(0.0685, grad_fn=<NllLossBackward>)\n"
     ]
    }
   ],
   "source": [
    "my_net = toy_box_exact(1.0, 1.0)\n",
    "optimizer = optim.Adam(my_net.parameters(), lr = 0.01)\n",
    "embeddings, grads = train_loop(my_net, 1000, 30)"
   ]
  },
  {
   "cell_type": "code",
   "execution_count": 10,
   "metadata": {
    "scrolled": true
   },
   "outputs": [
    {
     "ename": "ModuleAttributeError",
     "evalue": "'toy_box' object has no attribute 'get_regularization_penalty'",
     "output_type": "error",
     "traceback": [
      "\u001b[0;31m---------------------------------------------------------------------------\u001b[0m",
      "\u001b[0;31mModuleAttributeError\u001b[0m                      Traceback (most recent call last)",
      "\u001b[0;32m<ipython-input-10-12337c132d70>\u001b[0m in \u001b[0;36m<module>\u001b[0;34m\u001b[0m\n\u001b[1;32m      1\u001b[0m \u001b[0mmy_net\u001b[0m \u001b[0;34m=\u001b[0m \u001b[0mtoy_box\u001b[0m\u001b[0;34m(\u001b[0m\u001b[0;36m1\u001b[0m\u001b[0;34m,\u001b[0m \u001b[0;36m30\u001b[0m\u001b[0;34m,\u001b[0m \u001b[0;36m0.0\u001b[0m\u001b[0;34m)\u001b[0m \u001b[0;31m#33.272?\u001b[0m\u001b[0;34m\u001b[0m\u001b[0;34m\u001b[0m\u001b[0m\n\u001b[1;32m      2\u001b[0m \u001b[0moptimizer\u001b[0m \u001b[0;34m=\u001b[0m \u001b[0moptim\u001b[0m\u001b[0;34m.\u001b[0m\u001b[0mAdam\u001b[0m\u001b[0;34m(\u001b[0m\u001b[0mmy_net\u001b[0m\u001b[0;34m.\u001b[0m\u001b[0mparameters\u001b[0m\u001b[0;34m(\u001b[0m\u001b[0;34m)\u001b[0m\u001b[0;34m,\u001b[0m \u001b[0mlr\u001b[0m \u001b[0;34m=\u001b[0m \u001b[0;36m0.01\u001b[0m\u001b[0;34m)\u001b[0m\u001b[0;34m\u001b[0m\u001b[0;34m\u001b[0m\u001b[0m\n\u001b[0;32m----> 3\u001b[0;31m \u001b[0membeddings\u001b[0m\u001b[0;34m,\u001b[0m \u001b[0mgrads\u001b[0m \u001b[0;34m=\u001b[0m \u001b[0mtrain_loop\u001b[0m\u001b[0;34m(\u001b[0m\u001b[0mmy_net\u001b[0m\u001b[0;34m,\u001b[0m \u001b[0;36m5000\u001b[0m\u001b[0;34m,\u001b[0m \u001b[0;36m200\u001b[0m\u001b[0;34m)\u001b[0m\u001b[0;34m\u001b[0m\u001b[0;34m\u001b[0m\u001b[0m\n\u001b[0m",
      "\u001b[0;32m<ipython-input-6-72a4b4209b8c>\u001b[0m in \u001b[0;36mtrain_loop\u001b[0;34m(my_net, max_epoch, log_freq)\u001b[0m\n\u001b[1;32m      6\u001b[0m         \u001b[0mmy_net\u001b[0m\u001b[0;34m.\u001b[0m\u001b[0mzero_grad\u001b[0m\u001b[0;34m(\u001b[0m\u001b[0;34m)\u001b[0m\u001b[0;34m\u001b[0m\u001b[0;34m\u001b[0m\u001b[0m\n\u001b[1;32m      7\u001b[0m         \u001b[0mhead\u001b[0m\u001b[0;34m,\u001b[0m \u001b[0mtail\u001b[0m\u001b[0;34m,\u001b[0m \u001b[0mneg_head\u001b[0m\u001b[0;34m,\u001b[0m \u001b[0mneg_tail\u001b[0m \u001b[0;34m=\u001b[0m \u001b[0mget_data\u001b[0m\u001b[0;34m(\u001b[0m\u001b[0;34m)\u001b[0m\u001b[0;34m\u001b[0m\u001b[0;34m\u001b[0m\u001b[0m\n\u001b[0;32m----> 8\u001b[0;31m         \u001b[0moutput\u001b[0m\u001b[0;34m,\u001b[0m \u001b[0mboxes\u001b[0m \u001b[0;34m=\u001b[0m \u001b[0mmy_net\u001b[0m\u001b[0;34m(\u001b[0m\u001b[0mhead\u001b[0m\u001b[0;34m,\u001b[0m \u001b[0mtail\u001b[0m\u001b[0;34m,\u001b[0m \u001b[0mneg_head\u001b[0m\u001b[0;34m,\u001b[0m \u001b[0mneg_tail\u001b[0m\u001b[0;34m)\u001b[0m\u001b[0;34m\u001b[0m\u001b[0;34m\u001b[0m\u001b[0m\n\u001b[0m\u001b[1;32m      9\u001b[0m         \u001b[0;32mif\u001b[0m \u001b[0mepoch\u001b[0m\u001b[0;34m%\u001b[0m\u001b[0mlog_freq\u001b[0m \u001b[0;34m==\u001b[0m \u001b[0;36m0\u001b[0m\u001b[0;34m:\u001b[0m\u001b[0;34m\u001b[0m\u001b[0;34m\u001b[0m\u001b[0m\n\u001b[1;32m     10\u001b[0m             \u001b[0mprint\u001b[0m\u001b[0;34m(\u001b[0m\u001b[0moutput\u001b[0m\u001b[0;34m)\u001b[0m\u001b[0;34m\u001b[0m\u001b[0;34m\u001b[0m\u001b[0m\n",
      "\u001b[0;32m~/miniconda3/envs/kbc/lib/python3.7/site-packages/torch/nn/modules/module.py\u001b[0m in \u001b[0;36m_call_impl\u001b[0;34m(self, *input, **kwargs)\u001b[0m\n\u001b[1;32m    725\u001b[0m             \u001b[0mresult\u001b[0m \u001b[0;34m=\u001b[0m \u001b[0mself\u001b[0m\u001b[0;34m.\u001b[0m\u001b[0m_slow_forward\u001b[0m\u001b[0;34m(\u001b[0m\u001b[0;34m*\u001b[0m\u001b[0minput\u001b[0m\u001b[0;34m,\u001b[0m \u001b[0;34m**\u001b[0m\u001b[0mkwargs\u001b[0m\u001b[0;34m)\u001b[0m\u001b[0;34m\u001b[0m\u001b[0;34m\u001b[0m\u001b[0m\n\u001b[1;32m    726\u001b[0m         \u001b[0;32melse\u001b[0m\u001b[0;34m:\u001b[0m\u001b[0;34m\u001b[0m\u001b[0;34m\u001b[0m\u001b[0m\n\u001b[0;32m--> 727\u001b[0;31m             \u001b[0mresult\u001b[0m \u001b[0;34m=\u001b[0m \u001b[0mself\u001b[0m\u001b[0;34m.\u001b[0m\u001b[0mforward\u001b[0m\u001b[0;34m(\u001b[0m\u001b[0;34m*\u001b[0m\u001b[0minput\u001b[0m\u001b[0;34m,\u001b[0m \u001b[0;34m**\u001b[0m\u001b[0mkwargs\u001b[0m\u001b[0;34m)\u001b[0m\u001b[0;34m\u001b[0m\u001b[0;34m\u001b[0m\u001b[0m\n\u001b[0m\u001b[1;32m    728\u001b[0m         for hook in itertools.chain(\n\u001b[1;32m    729\u001b[0m                 \u001b[0m_global_forward_hooks\u001b[0m\u001b[0;34m.\u001b[0m\u001b[0mvalues\u001b[0m\u001b[0;34m(\u001b[0m\u001b[0;34m)\u001b[0m\u001b[0;34m,\u001b[0m\u001b[0;34m\u001b[0m\u001b[0;34m\u001b[0m\u001b[0m\n",
      "\u001b[0;32m<ipython-input-9-028d2db9fe04>\u001b[0m in \u001b[0;36mforward\u001b[0;34m(self, head, tail, neg_head, neg_tail)\u001b[0m\n\u001b[1;32m     25\u001b[0m         \u001b[0mneg_score\u001b[0m \u001b[0;34m=\u001b[0m \u001b[0mself\u001b[0m\u001b[0;34m.\u001b[0m\u001b[0mget_scores\u001b[0m\u001b[0;34m(\u001b[0m\u001b[0mneg_head\u001b[0m\u001b[0;34m,\u001b[0m \u001b[0mneg_tail\u001b[0m\u001b[0;34m)\u001b[0m\u001b[0;34m\u001b[0m\u001b[0;34m\u001b[0m\u001b[0m\n\u001b[1;32m     26\u001b[0m         \u001b[0mboxes\u001b[0m \u001b[0;34m=\u001b[0m \u001b[0mcopy\u001b[0m\u001b[0;34m.\u001b[0m\u001b[0mdeepcopy\u001b[0m\u001b[0;34m(\u001b[0m\u001b[0mself\u001b[0m\u001b[0;34m.\u001b[0m\u001b[0mbox\u001b[0m\u001b[0;34m)\u001b[0m\u001b[0;34m\u001b[0m\u001b[0;34m\u001b[0m\u001b[0m\n\u001b[0;32m---> 27\u001b[0;31m         \u001b[0mloss\u001b[0m \u001b[0;34m=\u001b[0m \u001b[0mself\u001b[0m\u001b[0;34m.\u001b[0m\u001b[0mget_loss\u001b[0m\u001b[0;34m(\u001b[0m\u001b[0mtorch\u001b[0m\u001b[0;34m.\u001b[0m\u001b[0mcat\u001b[0m\u001b[0;34m(\u001b[0m\u001b[0;34m[\u001b[0m\u001b[0mpos_score\u001b[0m\u001b[0;34m,\u001b[0m \u001b[0mneg_score\u001b[0m\u001b[0;34m]\u001b[0m\u001b[0;34m,\u001b[0m \u001b[0;36m0\u001b[0m\u001b[0;34m)\u001b[0m\u001b[0;34m,\u001b[0m \u001b[0mself\u001b[0m\u001b[0;34m.\u001b[0m\u001b[0mlabel\u001b[0m\u001b[0;34m)\u001b[0m\u001b[0;34m\u001b[0m\u001b[0;34m\u001b[0m\u001b[0m\n\u001b[0m\u001b[1;32m     28\u001b[0m         \u001b[0;32mreturn\u001b[0m \u001b[0mloss\u001b[0m\u001b[0;34m,\u001b[0m \u001b[0mboxes\u001b[0m\u001b[0;34m\u001b[0m\u001b[0;34m\u001b[0m\u001b[0m\n\u001b[1;32m     29\u001b[0m \u001b[0;34m\u001b[0m\u001b[0m\n",
      "\u001b[0;32m<ipython-input-9-028d2db9fe04>\u001b[0m in \u001b[0;36mget_loss\u001b[0;34m(self, scores, label)\u001b[0m\n\u001b[1;32m     42\u001b[0m         \u001b[0mlogits\u001b[0m \u001b[0;34m=\u001b[0m \u001b[0mtorch\u001b[0m\u001b[0;34m.\u001b[0m\u001b[0mstack\u001b[0m\u001b[0;34m(\u001b[0m\u001b[0;34m[\u001b[0m\u001b[0mlog1mp\u001b[0m\u001b[0;34m,\u001b[0m \u001b[0mlog_p\u001b[0m\u001b[0;34m]\u001b[0m\u001b[0;34m,\u001b[0m \u001b[0mdim\u001b[0m\u001b[0;34m=\u001b[0m\u001b[0;34m-\u001b[0m\u001b[0;36m1\u001b[0m\u001b[0;34m)\u001b[0m\u001b[0;34m\u001b[0m\u001b[0;34m\u001b[0m\u001b[0m\n\u001b[1;32m     43\u001b[0m         \u001b[0mlogits\u001b[0m \u001b[0;34m=\u001b[0m \u001b[0mlogits\u001b[0m\u001b[0;34m.\u001b[0m\u001b[0mview\u001b[0m\u001b[0;34m(\u001b[0m\u001b[0;36m6\u001b[0m\u001b[0;34m,\u001b[0m \u001b[0;36m2\u001b[0m\u001b[0;34m)\u001b[0m\u001b[0;34m\u001b[0m\u001b[0;34m\u001b[0m\u001b[0m\n\u001b[0;32m---> 44\u001b[0;31m         \u001b[0mloss\u001b[0m \u001b[0;34m=\u001b[0m \u001b[0mself\u001b[0m\u001b[0;34m.\u001b[0m\u001b[0mloss_f\u001b[0m\u001b[0;34m(\u001b[0m\u001b[0mlogits\u001b[0m\u001b[0;34m,\u001b[0m \u001b[0mlabel\u001b[0m\u001b[0;34m)\u001b[0m \u001b[0;34m+\u001b[0m \u001b[0mself\u001b[0m\u001b[0;34m.\u001b[0m\u001b[0mget_regularization_penalty\u001b[0m\u001b[0;34m(\u001b[0m\u001b[0;34m)\u001b[0m\u001b[0;34m\u001b[0m\u001b[0;34m\u001b[0m\u001b[0m\n\u001b[0m\u001b[1;32m     45\u001b[0m         \u001b[0;32mif\u001b[0m \u001b[0mtorch\u001b[0m\u001b[0;34m.\u001b[0m\u001b[0misnan\u001b[0m\u001b[0;34m(\u001b[0m\u001b[0mloss\u001b[0m\u001b[0;34m)\u001b[0m\u001b[0;34m.\u001b[0m\u001b[0many\u001b[0m\u001b[0;34m(\u001b[0m\u001b[0;34m)\u001b[0m\u001b[0;34m:\u001b[0m\u001b[0;34m\u001b[0m\u001b[0;34m\u001b[0m\u001b[0m\n\u001b[1;32m     46\u001b[0m             \u001b[0mbreakpoint\u001b[0m\u001b[0;34m(\u001b[0m\u001b[0;34m)\u001b[0m\u001b[0;34m\u001b[0m\u001b[0;34m\u001b[0m\u001b[0m\n",
      "\u001b[0;32m~/miniconda3/envs/kbc/lib/python3.7/site-packages/torch/nn/modules/module.py\u001b[0m in \u001b[0;36m__getattr__\u001b[0;34m(self, name)\u001b[0m\n\u001b[1;32m    777\u001b[0m                 \u001b[0;32mreturn\u001b[0m \u001b[0mmodules\u001b[0m\u001b[0;34m[\u001b[0m\u001b[0mname\u001b[0m\u001b[0;34m]\u001b[0m\u001b[0;34m\u001b[0m\u001b[0;34m\u001b[0m\u001b[0m\n\u001b[1;32m    778\u001b[0m         raise ModuleAttributeError(\"'{}' object has no attribute '{}'\".format(\n\u001b[0;32m--> 779\u001b[0;31m             type(self).__name__, name))\n\u001b[0m\u001b[1;32m    780\u001b[0m \u001b[0;34m\u001b[0m\u001b[0m\n\u001b[1;32m    781\u001b[0m     \u001b[0;32mdef\u001b[0m \u001b[0m__setattr__\u001b[0m\u001b[0;34m(\u001b[0m\u001b[0mself\u001b[0m\u001b[0;34m,\u001b[0m \u001b[0mname\u001b[0m\u001b[0;34m:\u001b[0m \u001b[0mstr\u001b[0m\u001b[0;34m,\u001b[0m \u001b[0mvalue\u001b[0m\u001b[0;34m:\u001b[0m \u001b[0mUnion\u001b[0m\u001b[0;34m[\u001b[0m\u001b[0mTensor\u001b[0m\u001b[0;34m,\u001b[0m \u001b[0;34m'Module'\u001b[0m\u001b[0;34m]\u001b[0m\u001b[0;34m)\u001b[0m \u001b[0;34m->\u001b[0m \u001b[0;32mNone\u001b[0m\u001b[0;34m:\u001b[0m\u001b[0;34m\u001b[0m\u001b[0;34m\u001b[0m\u001b[0m\n",
      "\u001b[0;31mModuleAttributeError\u001b[0m: 'toy_box' object has no attribute 'get_regularization_penalty'"
     ]
    }
   ],
   "source": [
    "my_net = toy_box(1, 30, 0.0) #33.272?\n",
    "optimizer = optim.Adam(my_net.parameters(), lr = 0.01)\n",
    "embeddings, grads = train_loop(my_net, 5000, 200)"
   ]
  },
  {
   "cell_type": "code",
   "execution_count": 915,
   "metadata": {},
   "outputs": [
    {
     "data": {
      "application/vnd.plotly.v1+json": {
       "config": {
        "plotlyServerURL": "https://plot.ly"
       },
       "data": [
        {
         "fill": "toself",
         "marker": {
          "color": "#a6cee3"
         },
         "mode": "lines",
         "name": "0",
         "showlegend": true,
         "type": "scatter",
         "x": [
          -5,
          -5,
          -4,
          -4,
          -5
         ],
         "y": [
          -5,
          -4,
          -4,
          -5,
          -5
         ]
        },
        {
         "fill": "toself",
         "marker": {
          "color": "#1f78b4"
         },
         "mode": "lines",
         "name": "1",
         "showlegend": true,
         "type": "scatter",
         "x": [
          7,
          7,
          8,
          8,
          7
         ],
         "y": [
          -2,
          -1,
          -1,
          -2,
          -2
         ]
        },
        {
         "fill": "toself",
         "marker": {
          "color": "#b2df8a"
         },
         "mode": "lines",
         "name": "2",
         "showlegend": true,
         "type": "scatter",
         "x": [
          -3,
          -3,
          6,
          6,
          -3
         ],
         "y": [
          -9,
          0,
          0,
          -9,
          -9
         ]
        }
       ],
       "frames": [
        {
         "data": [
          {
           "fill": "toself",
           "marker": {
            "color": "#a6cee3"
           },
           "mode": "lines",
           "name": "0",
           "showlegend": true,
           "type": "scatter",
           "x": [
            -5,
            -5,
            -4,
            -4,
            -5
           ],
           "y": [
            -5,
            -4,
            -4,
            -5,
            -5
           ]
          },
          {
           "fill": "toself",
           "marker": {
            "color": "#1f78b4"
           },
           "mode": "lines",
           "name": "1",
           "showlegend": true,
           "type": "scatter",
           "x": [
            7,
            7,
            8,
            8,
            7
           ],
           "y": [
            -2,
            -1,
            -1,
            -2,
            -2
           ]
          },
          {
           "fill": "toself",
           "marker": {
            "color": "#b2df8a"
           },
           "mode": "lines",
           "name": "2",
           "showlegend": true,
           "type": "scatter",
           "x": [
            -3,
            -3,
            6,
            6,
            -3
           ],
           "y": [
            -9,
            0,
            0,
            -9,
            -9
           ]
          }
         ],
         "name": "0"
        },
        {
         "data": [
          {
           "fill": "toself",
           "marker": {
            "color": "#a6cee3"
           },
           "mode": "lines",
           "name": "0",
           "showlegend": true,
           "type": "scatter",
           "x": [
            -6.2349138259887695,
            -6.2349138259887695,
            -1.9947539567947388,
            -1.9947539567947388,
            -6.2349138259887695
           ],
           "y": [
            -3.2319865226745605,
            -2.4934635162353516,
            -2.4934635162353516,
            -3.2319865226745605,
            -3.2319865226745605
           ]
          },
          {
           "fill": "toself",
           "marker": {
            "color": "#1f78b4"
           },
           "mode": "lines",
           "name": "1",
           "showlegend": true,
           "type": "scatter",
           "x": [
            5.000204563140869,
            5.000204563140869,
            6.000058650970459,
            6.000058650970459,
            5.000204563140869
           ],
           "y": [
            -3.0976080894470215,
            -2.6759815216064453,
            -2.6759815216064453,
            -3.0976080894470215,
            -3.0976080894470215
           ]
          },
          {
           "fill": "toself",
           "marker": {
            "color": "#b2df8a"
           },
           "mode": "lines",
           "name": "2",
           "showlegend": true,
           "type": "scatter",
           "x": [
            -1.4404566287994385,
            -1.4404566287994385,
            4.002011299133301,
            4.002011299133301,
            -1.4404566287994385
           ],
           "y": [
            -10.884454727172852,
            1.8844528198242188,
            1.8844528198242188,
            -10.884454727172852,
            -10.884454727172852
           ]
          }
         ],
         "name": "1"
        },
        {
         "data": [
          {
           "fill": "toself",
           "marker": {
            "color": "#a6cee3"
           },
           "mode": "lines",
           "name": "0",
           "showlegend": true,
           "type": "scatter",
           "x": [
            -6.96352481842041,
            -6.96352481842041,
            8.832383900880814e-05,
            8.832383900880814e-05,
            -6.96352481842041
           ],
           "y": [
            -3.167374610900879,
            -2.5058794021606445,
            -2.5058794021606445,
            -3.167374610900879,
            -3.167374610900879
           ]
          },
          {
           "fill": "toself",
           "marker": {
            "color": "#1f78b4"
           },
           "mode": "lines",
           "name": "1",
           "showlegend": true,
           "type": "scatter",
           "x": [
            3.025203227996826,
            3.025203227996826,
            3.998687982559204,
            3.998687982559204,
            3.025203227996826
           ],
           "y": [
            -3.040639877319336,
            -2.685748815536499,
            -2.685748815536499,
            -3.040639877319336,
            -3.040639877319336
           ]
          },
          {
           "fill": "toself",
           "marker": {
            "color": "#b2df8a"
           },
           "mode": "lines",
           "name": "2",
           "showlegend": true,
           "type": "scatter",
           "x": [
            -0.025385159999132156,
            -0.025385159999132156,
            2.0121850967407227,
            2.0121850967407227,
            -0.025385159999132156
           ],
           "y": [
            -13.125113487243652,
            4.1251115798950195,
            4.1251115798950195,
            -13.125113487243652,
            -13.125113487243652
           ]
          }
         ],
         "name": "2"
        },
        {
         "data": [
          {
           "fill": "toself",
           "marker": {
            "color": "#a6cee3"
           },
           "mode": "lines",
           "name": "0",
           "showlegend": true,
           "type": "scatter",
           "x": [
            -7.493964195251465,
            -7.493964195251465,
            1.818152666091919,
            1.818152666091919,
            -7.493964195251465
           ],
           "y": [
            -2.9654769897460938,
            -2.5648739337921143,
            -2.5648739337921143,
            -2.9654769897460938,
            -2.9654769897460938
           ]
          },
          {
           "fill": "toself",
           "marker": {
            "color": "#1f78b4"
           },
           "mode": "lines",
           "name": "1",
           "showlegend": true,
           "type": "scatter",
           "x": [
            1.7824087142944336,
            1.7824087142944336,
            1.8625527620315552,
            1.8625527620315552,
            1.7824087142944336
           ],
           "y": [
            -2.8650705814361572,
            -2.7151682376861572,
            -2.7151682376861572,
            -2.8650705814361572,
            -2.8650705814361572
           ]
          },
          {
           "fill": "toself",
           "marker": {
            "color": "#b2df8a"
           },
           "mode": "lines",
           "name": "2",
           "showlegend": true,
           "type": "scatter",
           "x": [
            1.0643082857131958,
            1.0643082857131958,
            -0.03769799694418907,
            -0.03769799694418907,
            1.0643082857131958
           ],
           "y": [
            -16.432680130004883,
            7.43267297744751,
            7.43267297744751,
            -16.432680130004883,
            -16.432680130004883
           ]
          }
         ],
         "name": "3"
        },
        {
         "data": [
          {
           "fill": "toself",
           "marker": {
            "color": "#a6cee3"
           },
           "mode": "lines",
           "name": "0",
           "showlegend": true,
           "type": "scatter",
           "x": [
            -7.599532604217529,
            -7.599532604217529,
            1.9165610074996948,
            1.9165610074996948,
            -7.599532604217529
           ],
           "y": [
            -2.792534589767456,
            -2.634464740753174,
            -2.634464740753174,
            -2.792534589767456,
            -2.792534589767456
           ]
          },
          {
           "fill": "toself",
           "marker": {
            "color": "#1f78b4"
           },
           "mode": "lines",
           "name": "1",
           "showlegend": true,
           "type": "scatter",
           "x": [
            1.9198899269104004,
            1.9198899269104004,
            1.9142142534255981,
            1.9142142534255981,
            1.9198899269104004
           ],
           "y": [
            -2.6602654457092285,
            -2.758047580718994,
            -2.758047580718994,
            -2.6602654457092285,
            -2.6602654457092285
           ]
          },
          {
           "fill": "toself",
           "marker": {
            "color": "#b2df8a"
           },
           "mode": "lines",
           "name": "2",
           "showlegend": true,
           "type": "scatter",
           "x": [
            1.129704236984253,
            1.129704236984253,
            -1.1801730394363403,
            -1.1801730394363403,
            1.129704236984253
           ],
           "y": [
            -18.45763397216797,
            9.45765209197998,
            9.45765209197998,
            -18.45763397216797,
            -18.45763397216797
           ]
          }
         ],
         "name": "4"
        },
        {
         "data": [
          {
           "fill": "toself",
           "marker": {
            "color": "#a6cee3"
           },
           "mode": "lines",
           "name": "0",
           "showlegend": true,
           "type": "scatter",
           "x": [
            -7.656364440917969,
            -7.656364440917969,
            1.9587211608886719,
            1.9587211608886719,
            -7.656364440917969
           ],
           "y": [
            -2.629444122314453,
            -2.7005441188812256,
            -2.7005441188812256,
            -2.629444122314453,
            -2.629444122314453
           ]
          },
          {
           "fill": "toself",
           "marker": {
            "color": "#1f78b4"
           },
           "mode": "lines",
           "name": "1",
           "showlegend": true,
           "type": "scatter",
           "x": [
            2.007708787918091,
            2.007708787918091,
            1.9390591382980347,
            1.9390591382980347,
            2.007708787918091
           ],
           "y": [
            -2.5099146366119385,
            -2.7934608459472656,
            -2.7934608459472656,
            -2.5099146366119385,
            -2.5099146366119385
           ]
          },
          {
           "fill": "toself",
           "marker": {
            "color": "#b2df8a"
           },
           "mode": "lines",
           "name": "2",
           "showlegend": true,
           "type": "scatter",
           "x": [
            1.0954359769821167,
            1.0954359769821167,
            -1.7076449394226074,
            -1.7076449394226074,
            1.0954359769821167
           ],
           "y": [
            -19.820358276367188,
            10.8203763961792,
            10.8203763961792,
            -19.820358276367188,
            -19.820358276367188
           ]
          }
         ],
         "name": "5"
        },
        {
         "data": [
          {
           "fill": "toself",
           "marker": {
            "color": "#a6cee3"
           },
           "mode": "lines",
           "name": "0",
           "showlegend": true,
           "type": "scatter",
           "x": [
            -7.700109481811523,
            -7.700109481811523,
            1.9857327938079834,
            1.9857327938079834,
            -7.700109481811523
           ],
           "y": [
            -2.50374698638916,
            -2.7643916606903076,
            -2.7643916606903076,
            -2.50374698638916,
            -2.50374698638916
           ]
          },
          {
           "fill": "toself",
           "marker": {
            "color": "#1f78b4"
           },
           "mode": "lines",
           "name": "1",
           "showlegend": true,
           "type": "scatter",
           "x": [
            2.0742886066436768,
            2.0742886066436768,
            1.9621928930282593,
            1.9621928930282593,
            2.0742886066436768
           ],
           "y": [
            -2.3711183071136475,
            -2.8240373134613037,
            -2.8240373134613037,
            -2.3711183071136475,
            -2.3711183071136475
           ]
          },
          {
           "fill": "toself",
           "marker": {
            "color": "#b2df8a"
           },
           "mode": "lines",
           "name": "2",
           "showlegend": true,
           "type": "scatter",
           "x": [
            1.0547385215759277,
            1.0547385215759277,
            -2.0842926502227783,
            -2.0842926502227783,
            1.0547385215759277
           ],
           "y": [
            -20.887920379638672,
            11.887943267822266,
            11.887943267822266,
            -20.887920379638672,
            -20.887920379638672
           ]
          }
         ],
         "name": "6"
        },
        {
         "data": [
          {
           "fill": "toself",
           "marker": {
            "color": "#a6cee3"
           },
           "mode": "lines",
           "name": "0",
           "showlegend": true,
           "type": "scatter",
           "x": [
            -7.737185478210449,
            -7.737185478210449,
            2.001041889190674,
            2.001041889190674,
            -7.737185478210449
           ],
           "y": [
            -2.4176719188690186,
            -2.8263282775878906,
            -2.8263282775878906,
            -2.4176719188690186,
            -2.4176719188690186
           ]
          },
          {
           "fill": "toself",
           "marker": {
            "color": "#1f78b4"
           },
           "mode": "lines",
           "name": "1",
           "showlegend": true,
           "type": "scatter",
           "x": [
            2.1290090084075928,
            2.1290090084075928,
            1.9919040203094482,
            1.9919040203094482,
            2.1290090084075928
           ],
           "y": [
            -2.2295150756835938,
            -2.851325750350952,
            -2.851325750350952,
            -2.2295150756835938,
            -2.2295150756835938
           ]
          },
          {
           "fill": "toself",
           "marker": {
            "color": "#b2df8a"
           },
           "mode": "lines",
           "name": "2",
           "showlegend": true,
           "type": "scatter",
           "x": [
            1.0167818069458008,
            1.0167818069458008,
            -2.3854100704193115,
            -2.3854100704193115,
            1.0167818069458008
           ],
           "y": [
            -21.779451370239258,
            12.77947998046875,
            12.77947998046875,
            -21.779451370239258,
            -21.779451370239258
           ]
          }
         ],
         "name": "7"
        },
        {
         "data": [
          {
           "fill": "toself",
           "marker": {
            "color": "#a6cee3"
           },
           "mode": "lines",
           "name": "0",
           "showlegend": true,
           "type": "scatter",
           "x": [
            -7.770084857940674,
            -7.770084857940674,
            2.01772141456604,
            2.01772141456604,
            -7.770084857940674
           ],
           "y": [
            -2.2229559421539307,
            -2.8400676250457764,
            -2.8400676250457764,
            -2.2229559421539307,
            -2.2229559421539307
           ]
          },
          {
           "fill": "toself",
           "marker": {
            "color": "#1f78b4"
           },
           "mode": "lines",
           "name": "1",
           "showlegend": true,
           "type": "scatter",
           "x": [
            2.1754634380340576,
            2.1754634380340576,
            2.009999990463257,
            2.009999990463257,
            2.1754634380340576
           ],
           "y": [
            -2.1885995864868164,
            -2.9402432441711426,
            -2.9402432441711426,
            -2.1885995864868164,
            -2.1885995864868164
           ]
          },
          {
           "fill": "toself",
           "marker": {
            "color": "#b2df8a"
           },
           "mode": "lines",
           "name": "2",
           "showlegend": true,
           "type": "scatter",
           "x": [
            0.986570417881012,
            0.986570417881012,
            -2.6402080059051514,
            -2.6402080059051514,
            0.986570417881012
           ],
           "y": [
            -22.564016342163086,
            13.564041137695312,
            13.564041137695312,
            -22.564016342163086,
            -22.564016342163086
           ]
          }
         ],
         "name": "8"
        },
        {
         "data": [
          {
           "fill": "toself",
           "marker": {
            "color": "#a6cee3"
           },
           "mode": "lines",
           "name": "0",
           "showlegend": true,
           "type": "scatter",
           "x": [
            -7.799972057342529,
            -7.799972057342529,
            2.0365712642669678,
            2.0365712642669678,
            -7.799972057342529
           ],
           "y": [
            -2.1906750202178955,
            -2.9013118743896484,
            -2.9013118743896484,
            -2.1906750202178955,
            -2.1906750202178955
           ]
          },
          {
           "fill": "toself",
           "marker": {
            "color": "#1f78b4"
           },
           "mode": "lines",
           "name": "1",
           "showlegend": true,
           "type": "scatter",
           "x": [
            2.215596914291382,
            2.215596914291382,
            2.0181498527526855,
            2.0181498527526855,
            2.215596914291382
           ],
           "y": [
            -2.044598340988159,
            -2.961521625518799,
            -2.961521625518799,
            -2.044598340988159,
            -2.044598340988159
           ]
          },
          {
           "fill": "toself",
           "marker": {
            "color": "#b2df8a"
           },
           "mode": "lines",
           "name": "2",
           "showlegend": true,
           "type": "scatter",
           "x": [
            0.9658581614494324,
            0.9658581614494324,
            -2.8639001846313477,
            -2.8639001846313477,
            0.9658581614494324
           ],
           "y": [
            -23.276874542236328,
            14.276891708374023,
            14.276891708374023,
            -23.276874542236328,
            -23.276874542236328
           ]
          }
         ],
         "name": "9"
        },
        {
         "data": [
          {
           "fill": "toself",
           "marker": {
            "color": "#a6cee3"
           },
           "mode": "lines",
           "name": "0",
           "showlegend": true,
           "type": "scatter",
           "x": [
            -7.827572345733643,
            -7.827572345733643,
            2.058583974838257,
            2.058583974838257,
            -7.827572345733643
           ],
           "y": [
            -2.0272679328918457,
            -2.960054397583008,
            -2.960054397583008,
            -2.0272679328918457,
            -2.0272679328918457
           ]
          },
          {
           "fill": "toself",
           "marker": {
            "color": "#1f78b4"
           },
           "mode": "lines",
           "name": "1",
           "showlegend": true,
           "type": "scatter",
           "x": [
            2.2523088455200195,
            2.2523088455200195,
            2.016218662261963,
            2.016218662261963,
            2.2523088455200195
           ],
           "y": [
            -2.0127501487731934,
            -2.9818997383117676,
            -2.9818997383117676,
            -2.0127501487731934,
            -2.0127501487731934
           ]
          },
          {
           "fill": "toself",
           "marker": {
            "color": "#b2df8a"
           },
           "mode": "lines",
           "name": "2",
           "showlegend": true,
           "type": "scatter",
           "x": [
            0.9437905550003052,
            0.9437905550003052,
            -3.0645804405212402,
            -3.0645804405212402,
            0.9437905550003052
           ],
           "y": [
            -23.91136932373047,
            14.911360740661621,
            14.911360740661621,
            -23.91136932373047,
            -23.91136932373047
           ]
          }
         ],
         "name": "10"
        },
        {
         "data": [
          {
           "fill": "toself",
           "marker": {
            "color": "#a6cee3"
           },
           "mode": "lines",
           "name": "0",
           "showlegend": true,
           "type": "scatter",
           "x": [
            -7.853448867797852,
            -7.853448867797852,
            2.0591235160827637,
            2.0591235160827637,
            -7.853448867797852
           ],
           "y": [
            -2.0379445552825928,
            -2.950928211212158,
            -2.950928211212158,
            -2.0379445552825928,
            -2.0379445552825928
           ]
          },
          {
           "fill": "toself",
           "marker": {
            "color": "#1f78b4"
           },
           "mode": "lines",
           "name": "1",
           "showlegend": true,
           "type": "scatter",
           "x": [
            2.2849202156066895,
            2.2849202156066895,
            2.0495121479034424,
            2.0495121479034424,
            2.2849202156066895
           ],
           "y": [
            -1.858541488647461,
            -3.0921037197113037,
            -3.0921037197113037,
            -1.858541488647461,
            -1.858541488647461
           ]
          },
          {
           "fill": "toself",
           "marker": {
            "color": "#b2df8a"
           },
           "mode": "lines",
           "name": "2",
           "showlegend": true,
           "type": "scatter",
           "x": [
            0.9309150576591492,
            0.9309150576591492,
            -3.247947931289673,
            -3.247947931289673,
            0.9309150576591492
           ],
           "y": [
            -24.51896858215332,
            15.518964767456055,
            15.518964767456055,
            -24.51896858215332,
            -24.51896858215332
           ]
          }
         ],
         "name": "11"
        },
        {
         "data": [
          {
           "fill": "toself",
           "marker": {
            "color": "#a6cee3"
           },
           "mode": "lines",
           "name": "0",
           "showlegend": true,
           "type": "scatter",
           "x": [
            -7.877778053283691,
            -7.877778053283691,
            2.0860915184020996,
            2.0860915184020996,
            -7.877778053283691
           ],
           "y": [
            -1.895622968673706,
            -3.0096595287323,
            -3.0096595287323,
            -1.895622968673706,
            -1.895622968673706
           ]
          },
          {
           "fill": "toself",
           "marker": {
            "color": "#1f78b4"
           },
           "mode": "lines",
           "name": "1",
           "showlegend": true,
           "type": "scatter",
           "x": [
            2.314967155456543,
            2.314967155456543,
            2.0330684185028076,
            2.0330684185028076,
            2.314967155456543
           ],
           "y": [
            -1.8341959714889526,
            -3.108536958694458,
            -3.108536958694458,
            -1.8341959714889526,
            -1.8341959714889526
           ]
          },
          {
           "fill": "toself",
           "marker": {
            "color": "#b2df8a"
           },
           "mode": "lines",
           "name": "2",
           "showlegend": true,
           "type": "scatter",
           "x": [
            0.9204141497612,
            0.9204141497612,
            -3.418389320373535,
            -3.418389320373535,
            0.9204141497612
           ],
           "y": [
            -25.0827579498291,
            16.082752227783203,
            16.082752227783203,
            -25.0827579498291,
            -25.0827579498291
           ]
          }
         ],
         "name": "12"
        },
        {
         "data": [
          {
           "fill": "toself",
           "marker": {
            "color": "#a6cee3"
           },
           "mode": "lines",
           "name": "0",
           "showlegend": true,
           "type": "scatter",
           "x": [
            -7.900922775268555,
            -7.900922775268555,
            2.0865683555603027,
            2.0865683555603027,
            -7.900922775268555
           ],
           "y": [
            -1.9427590370178223,
            -3.067495584487915,
            -3.067495584487915,
            -1.9427590370178223,
            -1.9427590370178223
           ]
          },
          {
           "fill": "toself",
           "marker": {
            "color": "#1f78b4"
           },
           "mode": "lines",
           "name": "1",
           "showlegend": true,
           "type": "scatter",
           "x": [
            2.3432557582855225,
            2.3432557582855225,
            2.061706066131592,
            2.061706066131592,
            2.3432557582855225
           ],
           "y": [
            -1.660607099533081,
            -3.1244564056396484,
            -3.1244564056396484,
            -1.660607099533081,
            -1.660607099533081
           ]
          },
          {
           "fill": "toself",
           "marker": {
            "color": "#b2df8a"
           },
           "mode": "lines",
           "name": "2",
           "showlegend": true,
           "type": "scatter",
           "x": [
            0.90976482629776,
            0.90976482629776,
            -3.577763795852661,
            -3.577763795852661,
            0.90976482629776
           ],
           "y": [
            -25.609682083129883,
            16.609676361083984,
            16.609676361083984,
            -25.609682083129883,
            -25.609682083129883
           ]
          }
         ],
         "name": "13"
        },
        {
         "data": [
          {
           "fill": "toself",
           "marker": {
            "color": "#a6cee3"
           },
           "mode": "lines",
           "name": "0",
           "showlegend": true,
           "type": "scatter",
           "x": [
            -7.923096656799316,
            -7.923096656799316,
            2.1086313724517822,
            2.1086313724517822,
            -7.923096656799316
           ],
           "y": [
            -1.8246606588363647,
            -3.127074718475342,
            -3.127074718475342,
            -1.8246606588363647,
            -1.8246606588363647
           ]
          },
          {
           "fill": "toself",
           "marker": {
            "color": "#1f78b4"
           },
           "mode": "lines",
           "name": "1",
           "showlegend": true,
           "type": "scatter",
           "x": [
            2.369537591934204,
            2.369537591934204,
            2.050295352935791,
            2.050295352935791,
            2.369537591934204
           ],
           "y": [
            -1.6413295269012451,
            -3.139437437057495,
            -3.139437437057495,
            -1.6413295269012451,
            -1.6413295269012451
           ]
          },
          {
           "fill": "toself",
           "marker": {
            "color": "#b2df8a"
           },
           "mode": "lines",
           "name": "2",
           "showlegend": true,
           "type": "scatter",
           "x": [
            0.9027178883552551,
            0.9027178883552551,
            -3.7266063690185547,
            -3.7266063690185547,
            0.9027178883552551
           ],
           "y": [
            -26.123329162597656,
            17.123323440551758,
            17.123323440551758,
            -26.123329162597656,
            -26.123329162597656
           ]
          }
         ],
         "name": "14"
        },
        {
         "data": [
          {
           "fill": "toself",
           "marker": {
            "color": "#a6cee3"
           },
           "mode": "lines",
           "name": "0",
           "showlegend": true,
           "type": "scatter",
           "x": [
            -7.944326877593994,
            -7.944326877593994,
            2.1228280067443848,
            2.1228280067443848,
            -7.944326877593994
           ],
           "y": [
            -1.7071149349212646,
            -3.0813536643981934,
            -3.0813536643981934,
            -1.7071149349212646,
            -1.7071149349212646
           ]
          },
          {
           "fill": "toself",
           "marker": {
            "color": "#1f78b4"
           },
           "mode": "lines",
           "name": "1",
           "showlegend": true,
           "type": "scatter",
           "x": [
            2.3944058418273926,
            2.3944058418273926,
            2.051854133605957,
            2.051854133605957,
            2.3944058418273926
           ],
           "y": [
            -1.6228848695755005,
            -3.2838594913482666,
            -3.2838594913482666,
            -1.6228848695755005,
            -1.6228848695755005
           ]
          },
          {
           "fill": "toself",
           "marker": {
            "color": "#b2df8a"
           },
           "mode": "lines",
           "name": "2",
           "showlegend": true,
           "type": "scatter",
           "x": [
            0.8972429037094116,
            0.8972429037094116,
            -3.8717217445373535,
            -3.8717217445373535,
            0.8972429037094116
           ],
           "y": [
            -26.611034393310547,
            17.61102867126465,
            17.61102867126465,
            -26.611034393310547,
            -26.611034393310547
           ]
          }
         ],
         "name": "15"
        },
        {
         "data": [
          {
           "fill": "toself",
           "marker": {
            "color": "#a6cee3"
           },
           "mode": "lines",
           "name": "0",
           "showlegend": true,
           "type": "scatter",
           "x": [
            -7.964809417724609,
            -7.964809417724609,
            2.1232571601867676,
            2.1232571601867676,
            -7.964809417724609
           ],
           "y": [
            -1.7807730436325073,
            -3.1364285945892334,
            -3.1364285945892334,
            -1.7807730436325073,
            -1.7807730436325073
           ]
          },
          {
           "fill": "toself",
           "marker": {
            "color": "#1f78b4"
           },
           "mode": "lines",
           "name": "1",
           "showlegend": true,
           "type": "scatter",
           "x": [
            2.4182016849517822,
            2.4182016849517822,
            2.076148271560669,
            2.076148271560669,
            2.4182016849517822
           ],
           "y": [
            -1.4360007047653198,
            -3.296557903289795,
            -3.296557903289795,
            -1.4360007047653198,
            -1.4360007047653198
           ]
          },
          {
           "fill": "toself",
           "marker": {
            "color": "#b2df8a"
           },
           "mode": "lines",
           "name": "2",
           "showlegend": true,
           "type": "scatter",
           "x": [
            0.8916317224502563,
            0.8916317224502563,
            -4.009139060974121,
            -4.009139060974121,
            0.8916317224502563
           ],
           "y": [
            -27.072507858276367,
            18.07250213623047,
            18.07250213623047,
            -27.072507858276367,
            -27.072507858276367
           ]
          }
         ],
         "name": "16"
        },
        {
         "data": [
          {
           "fill": "toself",
           "marker": {
            "color": "#a6cee3"
           },
           "mode": "lines",
           "name": "0",
           "showlegend": true,
           "type": "scatter",
           "x": [
            -7.984649181365967,
            -7.984649181365967,
            2.1236846446990967,
            2.1236846446990967,
            -7.984649181365967
           ],
           "y": [
            -1.6951476335525513,
            -3.1974167823791504,
            -3.1974167823791504,
            -1.6951476335525513,
            -1.6951476335525513
           ]
          },
          {
           "fill": "toself",
           "marker": {
            "color": "#1f78b4"
           },
           "mode": "lines",
           "name": "1",
           "showlegend": true,
           "type": "scatter",
           "x": [
            2.4399454593658447,
            2.4399454593658447,
            2.099163770675659,
            2.099163770675659,
            2.4399454593658447
           ],
           "y": [
            -1.4110113382339478,
            -3.3079278469085693,
            -3.3079278469085693,
            -1.4110113382339478,
            -1.4110113382339478
           ]
          },
          {
           "fill": "toself",
           "marker": {
            "color": "#b2df8a"
           },
           "mode": "lines",
           "name": "2",
           "showlegend": true,
           "type": "scatter",
           "x": [
            0.8937095403671265,
            0.8937095403671265,
            -4.139907360076904,
            -4.139907360076904,
            0.8937095403671265
           ],
           "y": [
            -27.555824279785156,
            18.555818557739258,
            18.555818557739258,
            -27.555824279785156,
            -27.555824279785156
           ]
          }
         ],
         "name": "17"
        },
        {
         "data": [
          {
           "fill": "toself",
           "marker": {
            "color": "#a6cee3"
           },
           "mode": "lines",
           "name": "0",
           "showlegend": true,
           "type": "scatter",
           "x": [
            -8.003928184509277,
            -8.003928184509277,
            2.124066114425659,
            2.124066114425659,
            -8.003928184509277
           ],
           "y": [
            -1.6006875038146973,
            -3.255826711654663,
            -3.255826711654663,
            -1.6006875038146973,
            -1.6006875038146973
           ]
          },
          {
           "fill": "toself",
           "marker": {
            "color": "#1f78b4"
           },
           "mode": "lines",
           "name": "1",
           "showlegend": true,
           "type": "scatter",
           "x": [
            2.461611270904541,
            2.461611270904541,
            2.1211116313934326,
            2.1211116313934326,
            2.461611270904541
           ],
           "y": [
            -1.3973884582519531,
            -3.319727659225464,
            -3.319727659225464,
            -1.3973884582519531,
            -1.3973884582519531
           ]
          },
          {
           "fill": "toself",
           "marker": {
            "color": "#b2df8a"
           },
           "mode": "lines",
           "name": "2",
           "showlegend": true,
           "type": "scatter",
           "x": [
            0.8910437822341919,
            0.8910437822341919,
            -4.265121936798096,
            -4.265121936798096,
            0.8910437822341919
           ],
           "y": [
            -28.00611114501953,
            19.006105422973633,
            19.006105422973633,
            -28.00611114501953,
            -28.00611114501953
           ]
          }
         ],
         "name": "18"
        },
        {
         "data": [
          {
           "fill": "toself",
           "marker": {
            "color": "#a6cee3"
           },
           "mode": "lines",
           "name": "0",
           "showlegend": true,
           "type": "scatter",
           "x": [
            -8.022664070129395,
            -8.022664070129395,
            2.1789603233337402,
            2.1789603233337402,
            -8.022664070129395
           ],
           "y": [
            -1.5101364850997925,
            -3.311828136444092,
            -3.311828136444092,
            -1.5101364850997925,
            -1.5101364850997925
           ]
          },
          {
           "fill": "toself",
           "marker": {
            "color": "#1f78b4"
           },
           "mode": "lines",
           "name": "1",
           "showlegend": true,
           "type": "scatter",
           "x": [
            2.4833269119262695,
            2.4833269119262695,
            2.0497446060180664,
            2.0497446060180664,
            2.4833269119262695
           ],
           "y": [
            -1.3832799196243286,
            -3.3319480419158936,
            -3.3319480419158936,
            -1.3832799196243286,
            -1.3832799196243286
           ]
          },
          {
           "fill": "toself",
           "marker": {
            "color": "#b2df8a"
           },
           "mode": "lines",
           "name": "2",
           "showlegend": true,
           "type": "scatter",
           "x": [
            0.8839725255966187,
            0.8839725255966187,
            -4.3908772468566895,
            -4.3908772468566895,
            0.8839725255966187
           ],
           "y": [
            -28.427995681762695,
            19.427989959716797,
            19.427989959716797,
            -28.427995681762695,
            -28.427995681762695
           ]
          }
         ],
         "name": "19"
        },
        {
         "data": [
          {
           "fill": "toself",
           "marker": {
            "color": "#a6cee3"
           },
           "mode": "lines",
           "name": "0",
           "showlegend": true,
           "type": "scatter",
           "x": [
            -8.041015625,
            -8.041015625,
            2.1793417930603027,
            2.1793417930603027,
            -8.041015625
           ],
           "y": [
            -1.4178580045700073,
            -3.207432746887207,
            -3.207432746887207,
            -1.4178580045700073,
            -1.4178580045700073
           ]
          },
          {
           "fill": "toself",
           "marker": {
            "color": "#1f78b4"
           },
           "mode": "lines",
           "name": "1",
           "showlegend": true,
           "type": "scatter",
           "x": [
            2.5041801929473877,
            2.5041801929473877,
            2.0707430839538574,
            2.0707430839538574,
            2.5041801929473877
           ],
           "y": [
            -1.3696558475494385,
            -3.5293033123016357,
            -3.5293033123016357,
            -1.3696558475494385,
            -1.3696558475494385
           ]
          },
          {
           "fill": "toself",
           "marker": {
            "color": "#b2df8a"
           },
           "mode": "lines",
           "name": "2",
           "showlegend": true,
           "type": "scatter",
           "x": [
            0.8788137435913086,
            0.8788137435913086,
            -4.513481140136719,
            -4.513481140136719,
            0.8788137435913086
           ],
           "y": [
            -28.843198776245117,
            19.84319305419922,
            19.84319305419922,
            -28.843198776245117,
            -28.843198776245117
           ]
          }
         ],
         "name": "20"
        },
        {
         "data": [
          {
           "fill": "toself",
           "marker": {
            "color": "#a6cee3"
           },
           "mode": "lines",
           "name": "0",
           "showlegend": true,
           "type": "scatter",
           "x": [
            -8.05898666381836,
            -8.05898666381836,
            2.1797232627868652,
            2.1797232627868652,
            -8.05898666381836
           ],
           "y": [
            -1.5587862730026245,
            -3.2622017860412598,
            -3.2622017860412598,
            -1.5587862730026245,
            -1.5587862730026245
           ]
          },
          {
           "fill": "toself",
           "marker": {
            "color": "#1f78b4"
           },
           "mode": "lines",
           "name": "1",
           "showlegend": true,
           "type": "scatter",
           "x": [
            2.523306131362915,
            2.523306131362915,
            2.0909276008605957,
            2.0909276008605957,
            2.523306131362915
           ],
           "y": [
            -1.1405178308486938,
            -3.5377538204193115,
            -3.5377538204193115,
            -1.1405178308486938,
            -1.1405178308486938
           ]
          },
          {
           "fill": "toself",
           "marker": {
            "color": "#b2df8a"
           },
           "mode": "lines",
           "name": "2",
           "showlegend": true,
           "type": "scatter",
           "x": [
            0.8816200494766235,
            0.8816200494766235,
            -4.631784439086914,
            -4.631784439086914,
            0.8816200494766235
           ],
           "y": [
            -29.2811222076416,
            20.281116485595703,
            20.281116485595703,
            -29.2811222076416,
            -29.2811222076416
           ]
          }
         ],
         "name": "21"
        },
        {
         "data": [
          {
           "fill": "toself",
           "marker": {
            "color": "#a6cee3"
           },
           "mode": "lines",
           "name": "0",
           "showlegend": true,
           "type": "scatter",
           "x": [
            -8.076522827148438,
            -8.076522827148438,
            2.1800827980041504,
            2.1800827980041504,
            -8.076522827148438
           ],
           "y": [
            -1.4815454483032227,
            -3.3223249912261963,
            -3.3223249912261963,
            -1.4815454483032227,
            -1.4815454483032227
           ]
          },
          {
           "fill": "toself",
           "marker": {
            "color": "#1f78b4"
           },
           "mode": "lines",
           "name": "1",
           "showlegend": true,
           "type": "scatter",
           "x": [
            2.541271448135376,
            2.541271448135376,
            2.1104187965393066,
            2.1104187965393066,
            2.541271448135376
           ],
           "y": [
            -1.1324269771575928,
            -3.545545816421509,
            -3.545545816421509,
            -1.1324269771575928,
            -1.1324269771575928
           ]
          },
          {
           "fill": "toself",
           "marker": {
            "color": "#b2df8a"
           },
           "mode": "lines",
           "name": "2",
           "showlegend": true,
           "type": "scatter",
           "x": [
            0.8886763453483582,
            0.8886763453483582,
            -4.746294021606445,
            -4.746294021606445,
            0.8886763453483582
           ],
           "y": [
            -29.742246627807617,
            20.74224090576172,
            20.74224090576172,
            -29.742246627807617,
            -29.742246627807617
           ]
          }
         ],
         "name": "22"
        },
        {
         "data": [
          {
           "fill": "toself",
           "marker": {
            "color": "#a6cee3"
           },
           "mode": "lines",
           "name": "0",
           "showlegend": true,
           "type": "scatter",
           "x": [
            -8.093730926513672,
            -8.093730926513672,
            2.1804165840148926,
            2.1804165840148926,
            -8.093730926513672
           ],
           "y": [
            -1.4068336486816406,
            -3.380458116531372,
            -3.380458116531372,
            -1.4068336486816406,
            -1.4068336486816406
           ]
          },
          {
           "fill": "toself",
           "marker": {
            "color": "#1f78b4"
           },
           "mode": "lines",
           "name": "1",
           "showlegend": true,
           "type": "scatter",
           "x": [
            2.5595016479492188,
            2.5595016479492188,
            2.129314422607422,
            2.129314422607422,
            2.5595016479492188
           ],
           "y": [
            -1.1239125728607178,
            -3.553778886795044,
            -3.553778886795044,
            -1.1239125728607178,
            -1.1239125728607178
           ]
          },
          {
           "fill": "toself",
           "marker": {
            "color": "#b2df8a"
           },
           "mode": "lines",
           "name": "2",
           "showlegend": true,
           "type": "scatter",
           "x": [
            0.8909521698951721,
            0.8909521698951721,
            -4.857585906982422,
            -4.857585906982422,
            0.8909521698951721
           ],
           "y": [
            -30.178300857543945,
            21.178295135498047,
            21.178295135498047,
            -30.178300857543945,
            -30.178300857543945
           ]
          }
         ],
         "name": "23"
        },
        {
         "data": [
          {
           "fill": "toself",
           "marker": {
            "color": "#a6cee3"
           },
           "mode": "lines",
           "name": "0",
           "showlegend": true,
           "type": "scatter",
           "x": [
            -8.110706329345703,
            -8.110706329345703,
            2.1807503700256348,
            2.1807503700256348,
            -8.110706329345703
           ],
           "y": [
            -1.334396481513977,
            -3.436824321746826,
            -3.436824321746826,
            -1.334396481513977,
            -1.334396481513977
           ]
          },
          {
           "fill": "toself",
           "marker": {
            "color": "#1f78b4"
           },
           "mode": "lines",
           "name": "1",
           "showlegend": true,
           "type": "scatter",
           "x": [
            2.5780043601989746,
            2.5780043601989746,
            2.1476924419403076,
            2.1476924419403076,
            2.5780043601989746
           ],
           "y": [
            -1.1149566173553467,
            -3.562438726425171,
            -3.562438726425171,
            -1.1149566173553467,
            -1.1149566173553467
           ]
          },
          {
           "fill": "toself",
           "marker": {
            "color": "#b2df8a"
           },
           "mode": "lines",
           "name": "2",
           "showlegend": true,
           "type": "scatter",
           "x": [
            0.8890830278396606,
            0.8890830278396606,
            -4.966183185577393,
            -4.966183185577393,
            0.8890830278396606
           ],
           "y": [
            -30.59299087524414,
            21.592985153198242,
            21.592985153198242,
            -30.59299087524414,
            -30.59299087524414
           ]
          }
         ],
         "name": "24"
        }
       ],
       "layout": {
        "autosize": true,
        "height": 600,
        "sliders": [
         {
          "active": 0,
          "currentvalue": {
           "font": {
            "size": 20
           },
           "prefix": "Step:",
           "visible": true,
           "xanchor": "right"
          },
          "len": 0.9,
          "pad": {
           "b": 10,
           "t": 50
          },
          "steps": [
           {
            "args": [
             [
              "0"
             ],
             {
              "frame": {
               "duration": 300,
               "redraw": false
              },
              "mode": "immediate",
              "transition": {
               "duration": 300,
               "easing": "linear"
              }
             }
            ],
            "label": "0",
            "method": "animate"
           },
           {
            "args": [
             [
              "1"
             ],
             {
              "frame": {
               "duration": 300,
               "redraw": false
              },
              "mode": "immediate",
              "transition": {
               "duration": 300,
               "easing": "linear"
              }
             }
            ],
            "label": "1",
            "method": "animate"
           },
           {
            "args": [
             [
              "2"
             ],
             {
              "frame": {
               "duration": 300,
               "redraw": false
              },
              "mode": "immediate",
              "transition": {
               "duration": 300,
               "easing": "linear"
              }
             }
            ],
            "label": "2",
            "method": "animate"
           },
           {
            "args": [
             [
              "3"
             ],
             {
              "frame": {
               "duration": 300,
               "redraw": false
              },
              "mode": "immediate",
              "transition": {
               "duration": 300,
               "easing": "linear"
              }
             }
            ],
            "label": "3",
            "method": "animate"
           },
           {
            "args": [
             [
              "4"
             ],
             {
              "frame": {
               "duration": 300,
               "redraw": false
              },
              "mode": "immediate",
              "transition": {
               "duration": 300,
               "easing": "linear"
              }
             }
            ],
            "label": "4",
            "method": "animate"
           },
           {
            "args": [
             [
              "5"
             ],
             {
              "frame": {
               "duration": 300,
               "redraw": false
              },
              "mode": "immediate",
              "transition": {
               "duration": 300,
               "easing": "linear"
              }
             }
            ],
            "label": "5",
            "method": "animate"
           },
           {
            "args": [
             [
              "6"
             ],
             {
              "frame": {
               "duration": 300,
               "redraw": false
              },
              "mode": "immediate",
              "transition": {
               "duration": 300,
               "easing": "linear"
              }
             }
            ],
            "label": "6",
            "method": "animate"
           },
           {
            "args": [
             [
              "7"
             ],
             {
              "frame": {
               "duration": 300,
               "redraw": false
              },
              "mode": "immediate",
              "transition": {
               "duration": 300,
               "easing": "linear"
              }
             }
            ],
            "label": "7",
            "method": "animate"
           },
           {
            "args": [
             [
              "8"
             ],
             {
              "frame": {
               "duration": 300,
               "redraw": false
              },
              "mode": "immediate",
              "transition": {
               "duration": 300,
               "easing": "linear"
              }
             }
            ],
            "label": "8",
            "method": "animate"
           },
           {
            "args": [
             [
              "9"
             ],
             {
              "frame": {
               "duration": 300,
               "redraw": false
              },
              "mode": "immediate",
              "transition": {
               "duration": 300,
               "easing": "linear"
              }
             }
            ],
            "label": "9",
            "method": "animate"
           },
           {
            "args": [
             [
              "10"
             ],
             {
              "frame": {
               "duration": 300,
               "redraw": false
              },
              "mode": "immediate",
              "transition": {
               "duration": 300,
               "easing": "linear"
              }
             }
            ],
            "label": "10",
            "method": "animate"
           },
           {
            "args": [
             [
              "11"
             ],
             {
              "frame": {
               "duration": 300,
               "redraw": false
              },
              "mode": "immediate",
              "transition": {
               "duration": 300,
               "easing": "linear"
              }
             }
            ],
            "label": "11",
            "method": "animate"
           },
           {
            "args": [
             [
              "12"
             ],
             {
              "frame": {
               "duration": 300,
               "redraw": false
              },
              "mode": "immediate",
              "transition": {
               "duration": 300,
               "easing": "linear"
              }
             }
            ],
            "label": "12",
            "method": "animate"
           },
           {
            "args": [
             [
              "13"
             ],
             {
              "frame": {
               "duration": 300,
               "redraw": false
              },
              "mode": "immediate",
              "transition": {
               "duration": 300,
               "easing": "linear"
              }
             }
            ],
            "label": "13",
            "method": "animate"
           },
           {
            "args": [
             [
              "14"
             ],
             {
              "frame": {
               "duration": 300,
               "redraw": false
              },
              "mode": "immediate",
              "transition": {
               "duration": 300,
               "easing": "linear"
              }
             }
            ],
            "label": "14",
            "method": "animate"
           },
           {
            "args": [
             [
              "15"
             ],
             {
              "frame": {
               "duration": 300,
               "redraw": false
              },
              "mode": "immediate",
              "transition": {
               "duration": 300,
               "easing": "linear"
              }
             }
            ],
            "label": "15",
            "method": "animate"
           },
           {
            "args": [
             [
              "16"
             ],
             {
              "frame": {
               "duration": 300,
               "redraw": false
              },
              "mode": "immediate",
              "transition": {
               "duration": 300,
               "easing": "linear"
              }
             }
            ],
            "label": "16",
            "method": "animate"
           },
           {
            "args": [
             [
              "17"
             ],
             {
              "frame": {
               "duration": 300,
               "redraw": false
              },
              "mode": "immediate",
              "transition": {
               "duration": 300,
               "easing": "linear"
              }
             }
            ],
            "label": "17",
            "method": "animate"
           },
           {
            "args": [
             [
              "18"
             ],
             {
              "frame": {
               "duration": 300,
               "redraw": false
              },
              "mode": "immediate",
              "transition": {
               "duration": 300,
               "easing": "linear"
              }
             }
            ],
            "label": "18",
            "method": "animate"
           },
           {
            "args": [
             [
              "19"
             ],
             {
              "frame": {
               "duration": 300,
               "redraw": false
              },
              "mode": "immediate",
              "transition": {
               "duration": 300,
               "easing": "linear"
              }
             }
            ],
            "label": "19",
            "method": "animate"
           },
           {
            "args": [
             [
              "20"
             ],
             {
              "frame": {
               "duration": 300,
               "redraw": false
              },
              "mode": "immediate",
              "transition": {
               "duration": 300,
               "easing": "linear"
              }
             }
            ],
            "label": "20",
            "method": "animate"
           },
           {
            "args": [
             [
              "21"
             ],
             {
              "frame": {
               "duration": 300,
               "redraw": false
              },
              "mode": "immediate",
              "transition": {
               "duration": 300,
               "easing": "linear"
              }
             }
            ],
            "label": "21",
            "method": "animate"
           },
           {
            "args": [
             [
              "22"
             ],
             {
              "frame": {
               "duration": 300,
               "redraw": false
              },
              "mode": "immediate",
              "transition": {
               "duration": 300,
               "easing": "linear"
              }
             }
            ],
            "label": "22",
            "method": "animate"
           },
           {
            "args": [
             [
              "23"
             ],
             {
              "frame": {
               "duration": 300,
               "redraw": false
              },
              "mode": "immediate",
              "transition": {
               "duration": 300,
               "easing": "linear"
              }
             }
            ],
            "label": "23",
            "method": "animate"
           },
           {
            "args": [
             [
              "24"
             ],
             {
              "frame": {
               "duration": 300,
               "redraw": false
              },
              "mode": "immediate",
              "transition": {
               "duration": 300,
               "easing": "linear"
              }
             }
            ],
            "label": "24",
            "method": "animate"
           }
          ],
          "transition": {
           "duration": 300,
           "easing": "linear"
          },
          "x": 0.1,
          "xanchor": "left",
          "y": 0,
          "yanchor": "top"
         }
        ],
        "template": {
         "data": {
          "bar": [
           {
            "error_x": {
             "color": "#2a3f5f"
            },
            "error_y": {
             "color": "#2a3f5f"
            },
            "marker": {
             "line": {
              "color": "#E5ECF6",
              "width": 0.5
             }
            },
            "type": "bar"
           }
          ],
          "barpolar": [
           {
            "marker": {
             "line": {
              "color": "#E5ECF6",
              "width": 0.5
             }
            },
            "type": "barpolar"
           }
          ],
          "carpet": [
           {
            "aaxis": {
             "endlinecolor": "#2a3f5f",
             "gridcolor": "white",
             "linecolor": "white",
             "minorgridcolor": "white",
             "startlinecolor": "#2a3f5f"
            },
            "baxis": {
             "endlinecolor": "#2a3f5f",
             "gridcolor": "white",
             "linecolor": "white",
             "minorgridcolor": "white",
             "startlinecolor": "#2a3f5f"
            },
            "type": "carpet"
           }
          ],
          "choropleth": [
           {
            "colorbar": {
             "outlinewidth": 0,
             "ticks": ""
            },
            "type": "choropleth"
           }
          ],
          "contour": [
           {
            "colorbar": {
             "outlinewidth": 0,
             "ticks": ""
            },
            "colorscale": [
             [
              0,
              "#0d0887"
             ],
             [
              0.1111111111111111,
              "#46039f"
             ],
             [
              0.2222222222222222,
              "#7201a8"
             ],
             [
              0.3333333333333333,
              "#9c179e"
             ],
             [
              0.4444444444444444,
              "#bd3786"
             ],
             [
              0.5555555555555556,
              "#d8576b"
             ],
             [
              0.6666666666666666,
              "#ed7953"
             ],
             [
              0.7777777777777778,
              "#fb9f3a"
             ],
             [
              0.8888888888888888,
              "#fdca26"
             ],
             [
              1,
              "#f0f921"
             ]
            ],
            "type": "contour"
           }
          ],
          "contourcarpet": [
           {
            "colorbar": {
             "outlinewidth": 0,
             "ticks": ""
            },
            "type": "contourcarpet"
           }
          ],
          "heatmap": [
           {
            "colorbar": {
             "outlinewidth": 0,
             "ticks": ""
            },
            "colorscale": [
             [
              0,
              "#0d0887"
             ],
             [
              0.1111111111111111,
              "#46039f"
             ],
             [
              0.2222222222222222,
              "#7201a8"
             ],
             [
              0.3333333333333333,
              "#9c179e"
             ],
             [
              0.4444444444444444,
              "#bd3786"
             ],
             [
              0.5555555555555556,
              "#d8576b"
             ],
             [
              0.6666666666666666,
              "#ed7953"
             ],
             [
              0.7777777777777778,
              "#fb9f3a"
             ],
             [
              0.8888888888888888,
              "#fdca26"
             ],
             [
              1,
              "#f0f921"
             ]
            ],
            "type": "heatmap"
           }
          ],
          "heatmapgl": [
           {
            "colorbar": {
             "outlinewidth": 0,
             "ticks": ""
            },
            "colorscale": [
             [
              0,
              "#0d0887"
             ],
             [
              0.1111111111111111,
              "#46039f"
             ],
             [
              0.2222222222222222,
              "#7201a8"
             ],
             [
              0.3333333333333333,
              "#9c179e"
             ],
             [
              0.4444444444444444,
              "#bd3786"
             ],
             [
              0.5555555555555556,
              "#d8576b"
             ],
             [
              0.6666666666666666,
              "#ed7953"
             ],
             [
              0.7777777777777778,
              "#fb9f3a"
             ],
             [
              0.8888888888888888,
              "#fdca26"
             ],
             [
              1,
              "#f0f921"
             ]
            ],
            "type": "heatmapgl"
           }
          ],
          "histogram": [
           {
            "marker": {
             "colorbar": {
              "outlinewidth": 0,
              "ticks": ""
             }
            },
            "type": "histogram"
           }
          ],
          "histogram2d": [
           {
            "colorbar": {
             "outlinewidth": 0,
             "ticks": ""
            },
            "colorscale": [
             [
              0,
              "#0d0887"
             ],
             [
              0.1111111111111111,
              "#46039f"
             ],
             [
              0.2222222222222222,
              "#7201a8"
             ],
             [
              0.3333333333333333,
              "#9c179e"
             ],
             [
              0.4444444444444444,
              "#bd3786"
             ],
             [
              0.5555555555555556,
              "#d8576b"
             ],
             [
              0.6666666666666666,
              "#ed7953"
             ],
             [
              0.7777777777777778,
              "#fb9f3a"
             ],
             [
              0.8888888888888888,
              "#fdca26"
             ],
             [
              1,
              "#f0f921"
             ]
            ],
            "type": "histogram2d"
           }
          ],
          "histogram2dcontour": [
           {
            "colorbar": {
             "outlinewidth": 0,
             "ticks": ""
            },
            "colorscale": [
             [
              0,
              "#0d0887"
             ],
             [
              0.1111111111111111,
              "#46039f"
             ],
             [
              0.2222222222222222,
              "#7201a8"
             ],
             [
              0.3333333333333333,
              "#9c179e"
             ],
             [
              0.4444444444444444,
              "#bd3786"
             ],
             [
              0.5555555555555556,
              "#d8576b"
             ],
             [
              0.6666666666666666,
              "#ed7953"
             ],
             [
              0.7777777777777778,
              "#fb9f3a"
             ],
             [
              0.8888888888888888,
              "#fdca26"
             ],
             [
              1,
              "#f0f921"
             ]
            ],
            "type": "histogram2dcontour"
           }
          ],
          "mesh3d": [
           {
            "colorbar": {
             "outlinewidth": 0,
             "ticks": ""
            },
            "type": "mesh3d"
           }
          ],
          "parcoords": [
           {
            "line": {
             "colorbar": {
              "outlinewidth": 0,
              "ticks": ""
             }
            },
            "type": "parcoords"
           }
          ],
          "scatter": [
           {
            "marker": {
             "colorbar": {
              "outlinewidth": 0,
              "ticks": ""
             }
            },
            "type": "scatter"
           }
          ],
          "scatter3d": [
           {
            "line": {
             "colorbar": {
              "outlinewidth": 0,
              "ticks": ""
             }
            },
            "marker": {
             "colorbar": {
              "outlinewidth": 0,
              "ticks": ""
             }
            },
            "type": "scatter3d"
           }
          ],
          "scattercarpet": [
           {
            "marker": {
             "colorbar": {
              "outlinewidth": 0,
              "ticks": ""
             }
            },
            "type": "scattercarpet"
           }
          ],
          "scattergeo": [
           {
            "marker": {
             "colorbar": {
              "outlinewidth": 0,
              "ticks": ""
             }
            },
            "type": "scattergeo"
           }
          ],
          "scattergl": [
           {
            "marker": {
             "colorbar": {
              "outlinewidth": 0,
              "ticks": ""
             }
            },
            "type": "scattergl"
           }
          ],
          "scattermapbox": [
           {
            "marker": {
             "colorbar": {
              "outlinewidth": 0,
              "ticks": ""
             }
            },
            "type": "scattermapbox"
           }
          ],
          "scatterpolar": [
           {
            "marker": {
             "colorbar": {
              "outlinewidth": 0,
              "ticks": ""
             }
            },
            "type": "scatterpolar"
           }
          ],
          "scatterpolargl": [
           {
            "marker": {
             "colorbar": {
              "outlinewidth": 0,
              "ticks": ""
             }
            },
            "type": "scatterpolargl"
           }
          ],
          "scatterternary": [
           {
            "marker": {
             "colorbar": {
              "outlinewidth": 0,
              "ticks": ""
             }
            },
            "type": "scatterternary"
           }
          ],
          "surface": [
           {
            "colorbar": {
             "outlinewidth": 0,
             "ticks": ""
            },
            "colorscale": [
             [
              0,
              "#0d0887"
             ],
             [
              0.1111111111111111,
              "#46039f"
             ],
             [
              0.2222222222222222,
              "#7201a8"
             ],
             [
              0.3333333333333333,
              "#9c179e"
             ],
             [
              0.4444444444444444,
              "#bd3786"
             ],
             [
              0.5555555555555556,
              "#d8576b"
             ],
             [
              0.6666666666666666,
              "#ed7953"
             ],
             [
              0.7777777777777778,
              "#fb9f3a"
             ],
             [
              0.8888888888888888,
              "#fdca26"
             ],
             [
              1,
              "#f0f921"
             ]
            ],
            "type": "surface"
           }
          ],
          "table": [
           {
            "cells": {
             "fill": {
              "color": "#EBF0F8"
             },
             "line": {
              "color": "white"
             }
            },
            "header": {
             "fill": {
              "color": "#C8D4E3"
             },
             "line": {
              "color": "white"
             }
            },
            "type": "table"
           }
          ]
         },
         "layout": {
          "annotationdefaults": {
           "arrowcolor": "#2a3f5f",
           "arrowhead": 0,
           "arrowwidth": 1
          },
          "colorscale": {
           "diverging": [
            [
             0,
             "#8e0152"
            ],
            [
             0.1,
             "#c51b7d"
            ],
            [
             0.2,
             "#de77ae"
            ],
            [
             0.3,
             "#f1b6da"
            ],
            [
             0.4,
             "#fde0ef"
            ],
            [
             0.5,
             "#f7f7f7"
            ],
            [
             0.6,
             "#e6f5d0"
            ],
            [
             0.7,
             "#b8e186"
            ],
            [
             0.8,
             "#7fbc41"
            ],
            [
             0.9,
             "#4d9221"
            ],
            [
             1,
             "#276419"
            ]
           ],
           "sequential": [
            [
             0,
             "#0d0887"
            ],
            [
             0.1111111111111111,
             "#46039f"
            ],
            [
             0.2222222222222222,
             "#7201a8"
            ],
            [
             0.3333333333333333,
             "#9c179e"
            ],
            [
             0.4444444444444444,
             "#bd3786"
            ],
            [
             0.5555555555555556,
             "#d8576b"
            ],
            [
             0.6666666666666666,
             "#ed7953"
            ],
            [
             0.7777777777777778,
             "#fb9f3a"
            ],
            [
             0.8888888888888888,
             "#fdca26"
            ],
            [
             1,
             "#f0f921"
            ]
           ],
           "sequentialminus": [
            [
             0,
             "#0d0887"
            ],
            [
             0.1111111111111111,
             "#46039f"
            ],
            [
             0.2222222222222222,
             "#7201a8"
            ],
            [
             0.3333333333333333,
             "#9c179e"
            ],
            [
             0.4444444444444444,
             "#bd3786"
            ],
            [
             0.5555555555555556,
             "#d8576b"
            ],
            [
             0.6666666666666666,
             "#ed7953"
            ],
            [
             0.7777777777777778,
             "#fb9f3a"
            ],
            [
             0.8888888888888888,
             "#fdca26"
            ],
            [
             1,
             "#f0f921"
            ]
           ]
          },
          "colorway": [
           "#636efa",
           "#EF553B",
           "#00cc96",
           "#ab63fa",
           "#FFA15A",
           "#19d3f3",
           "#FF6692",
           "#B6E880",
           "#FF97FF",
           "#FECB52"
          ],
          "font": {
           "color": "#2a3f5f"
          },
          "geo": {
           "bgcolor": "white",
           "lakecolor": "white",
           "landcolor": "#E5ECF6",
           "showlakes": true,
           "showland": true,
           "subunitcolor": "white"
          },
          "hoverlabel": {
           "align": "left"
          },
          "hovermode": "closest",
          "mapbox": {
           "style": "light"
          },
          "paper_bgcolor": "white",
          "plot_bgcolor": "#E5ECF6",
          "polar": {
           "angularaxis": {
            "gridcolor": "white",
            "linecolor": "white",
            "ticks": ""
           },
           "bgcolor": "#E5ECF6",
           "radialaxis": {
            "gridcolor": "white",
            "linecolor": "white",
            "ticks": ""
           }
          },
          "scene": {
           "xaxis": {
            "backgroundcolor": "#E5ECF6",
            "gridcolor": "white",
            "gridwidth": 2,
            "linecolor": "white",
            "showbackground": true,
            "ticks": "",
            "zerolinecolor": "white"
           },
           "yaxis": {
            "backgroundcolor": "#E5ECF6",
            "gridcolor": "white",
            "gridwidth": 2,
            "linecolor": "white",
            "showbackground": true,
            "ticks": "",
            "zerolinecolor": "white"
           },
           "zaxis": {
            "backgroundcolor": "#E5ECF6",
            "gridcolor": "white",
            "gridwidth": 2,
            "linecolor": "white",
            "showbackground": true,
            "ticks": "",
            "zerolinecolor": "white"
           }
          },
          "shapedefaults": {
           "line": {
            "color": "#2a3f5f"
           }
          },
          "ternary": {
           "aaxis": {
            "gridcolor": "white",
            "linecolor": "white",
            "ticks": ""
           },
           "baxis": {
            "gridcolor": "white",
            "linecolor": "white",
            "ticks": ""
           },
           "bgcolor": "#E5ECF6",
           "caxis": {
            "gridcolor": "white",
            "linecolor": "white",
            "ticks": ""
           }
          },
          "title": {
           "x": 0.05
          },
          "xaxis": {
           "automargin": true,
           "gridcolor": "white",
           "linecolor": "white",
           "ticks": "",
           "zerolinecolor": "white",
           "zerolinewidth": 2
          },
          "yaxis": {
           "automargin": true,
           "gridcolor": "white",
           "linecolor": "white",
           "ticks": "",
           "zerolinecolor": "white",
           "zerolinewidth": 2
          }
         }
        },
        "updatemenus": [
         {
          "buttons": [
           {
            "args": [
             null,
             {
              "frame": {
               "duration": 500,
               "redraw": false
              },
              "fromcurrent": true,
              "transition": {
               "duration": 300,
               "easing": "linear"
              }
             }
            ],
            "label": "Play",
            "method": "animate"
           },
           {
            "args": [
             null,
             {
              "frame": {
               "duration": 0,
               "redraw": false
              },
              "mode": "immediate",
              "transition": {
               "duration": 0
              }
             }
            ],
            "label": "Pause",
            "method": "animate"
           }
          ],
          "direction": "left",
          "pad": {
           "r": 10,
           "t": 87
          },
          "showactive": false,
          "type": "buttons",
          "x": 0.1,
          "xanchor": "right",
          "y": 0,
          "yanchor": "top"
         }
        ],
        "width": 600,
        "xaxis": {
         "range": [
          0,
          0.1
         ],
         "showgrid": false,
         "showline": false,
         "showticklabels": false,
         "ticks": "",
         "zeroline": false
        },
        "yaxis": {
         "range": [
          0,
          0.1
         ],
         "scaleanchor": "x",
         "showgrid": false,
         "showline": false,
         "showticklabels": false,
         "ticks": "",
         "zeroline": false
        }
       }
      },
      "text/html": [
       "<div>\n",
       "        \n",
       "        \n",
       "            <div id=\"1e00fc2c-a999-4df1-8689-99988061550d\" class=\"plotly-graph-div\" style=\"height:600px; width:600px;\"></div>\n",
       "            <script type=\"text/javascript\">\n",
       "                require([\"plotly\"], function(Plotly) {\n",
       "                    window.PLOTLYENV=window.PLOTLYENV || {};\n",
       "                    \n",
       "                if (document.getElementById(\"1e00fc2c-a999-4df1-8689-99988061550d\")) {\n",
       "                    Plotly.newPlot(\n",
       "                        '1e00fc2c-a999-4df1-8689-99988061550d',\n",
       "                        [{\"fill\": \"toself\", \"marker\": {\"color\": \"#a6cee3\"}, \"mode\": \"lines\", \"name\": \"0\", \"showlegend\": true, \"type\": \"scatter\", \"x\": [-5.0, -5.0, -4.0, -4.0, -5.0], \"y\": [-5.0, -4.0, -4.0, -5.0, -5.0]}, {\"fill\": \"toself\", \"marker\": {\"color\": \"#1f78b4\"}, \"mode\": \"lines\", \"name\": \"1\", \"showlegend\": true, \"type\": \"scatter\", \"x\": [7.0, 7.0, 8.0, 8.0, 7.0], \"y\": [-2.0, -1.0, -1.0, -2.0, -2.0]}, {\"fill\": \"toself\", \"marker\": {\"color\": \"#b2df8a\"}, \"mode\": \"lines\", \"name\": \"2\", \"showlegend\": true, \"type\": \"scatter\", \"x\": [-3.0, -3.0, 6.0, 6.0, -3.0], \"y\": [-9.0, 0.0, 0.0, -9.0, -9.0]}],\n",
       "                        {\"autosize\": true, \"height\": 600, \"sliders\": [{\"active\": 0, \"currentvalue\": {\"font\": {\"size\": 20}, \"prefix\": \"Step:\", \"visible\": true, \"xanchor\": \"right\"}, \"len\": 0.9, \"pad\": {\"b\": 10, \"t\": 50}, \"steps\": [{\"args\": [[\"0\"], {\"frame\": {\"duration\": 300, \"redraw\": false}, \"mode\": \"immediate\", \"transition\": {\"duration\": 300, \"easing\": \"linear\"}}], \"label\": \"0\", \"method\": \"animate\"}, {\"args\": [[\"1\"], {\"frame\": {\"duration\": 300, \"redraw\": false}, \"mode\": \"immediate\", \"transition\": {\"duration\": 300, \"easing\": \"linear\"}}], \"label\": \"1\", \"method\": \"animate\"}, {\"args\": [[\"2\"], {\"frame\": {\"duration\": 300, \"redraw\": false}, \"mode\": \"immediate\", \"transition\": {\"duration\": 300, \"easing\": \"linear\"}}], \"label\": \"2\", \"method\": \"animate\"}, {\"args\": [[\"3\"], {\"frame\": {\"duration\": 300, \"redraw\": false}, \"mode\": \"immediate\", \"transition\": {\"duration\": 300, \"easing\": \"linear\"}}], \"label\": \"3\", \"method\": \"animate\"}, {\"args\": [[\"4\"], {\"frame\": {\"duration\": 300, \"redraw\": false}, \"mode\": \"immediate\", \"transition\": {\"duration\": 300, \"easing\": \"linear\"}}], \"label\": \"4\", \"method\": \"animate\"}, {\"args\": [[\"5\"], {\"frame\": {\"duration\": 300, \"redraw\": false}, \"mode\": \"immediate\", \"transition\": {\"duration\": 300, \"easing\": \"linear\"}}], \"label\": \"5\", \"method\": \"animate\"}, {\"args\": [[\"6\"], {\"frame\": {\"duration\": 300, \"redraw\": false}, \"mode\": \"immediate\", \"transition\": {\"duration\": 300, \"easing\": \"linear\"}}], \"label\": \"6\", \"method\": \"animate\"}, {\"args\": [[\"7\"], {\"frame\": {\"duration\": 300, \"redraw\": false}, \"mode\": \"immediate\", \"transition\": {\"duration\": 300, \"easing\": \"linear\"}}], \"label\": \"7\", \"method\": \"animate\"}, {\"args\": [[\"8\"], {\"frame\": {\"duration\": 300, \"redraw\": false}, \"mode\": \"immediate\", \"transition\": {\"duration\": 300, \"easing\": \"linear\"}}], \"label\": \"8\", \"method\": \"animate\"}, {\"args\": [[\"9\"], {\"frame\": {\"duration\": 300, \"redraw\": false}, \"mode\": \"immediate\", \"transition\": {\"duration\": 300, \"easing\": \"linear\"}}], \"label\": \"9\", \"method\": \"animate\"}, {\"args\": [[\"10\"], {\"frame\": {\"duration\": 300, \"redraw\": false}, \"mode\": \"immediate\", \"transition\": {\"duration\": 300, \"easing\": \"linear\"}}], \"label\": \"10\", \"method\": \"animate\"}, {\"args\": [[\"11\"], {\"frame\": {\"duration\": 300, \"redraw\": false}, \"mode\": \"immediate\", \"transition\": {\"duration\": 300, \"easing\": \"linear\"}}], \"label\": \"11\", \"method\": \"animate\"}, {\"args\": [[\"12\"], {\"frame\": {\"duration\": 300, \"redraw\": false}, \"mode\": \"immediate\", \"transition\": {\"duration\": 300, \"easing\": \"linear\"}}], \"label\": \"12\", \"method\": \"animate\"}, {\"args\": [[\"13\"], {\"frame\": {\"duration\": 300, \"redraw\": false}, \"mode\": \"immediate\", \"transition\": {\"duration\": 300, \"easing\": \"linear\"}}], \"label\": \"13\", \"method\": \"animate\"}, {\"args\": [[\"14\"], {\"frame\": {\"duration\": 300, \"redraw\": false}, \"mode\": \"immediate\", \"transition\": {\"duration\": 300, \"easing\": \"linear\"}}], \"label\": \"14\", \"method\": \"animate\"}, {\"args\": [[\"15\"], {\"frame\": {\"duration\": 300, \"redraw\": false}, \"mode\": \"immediate\", \"transition\": {\"duration\": 300, \"easing\": \"linear\"}}], \"label\": \"15\", \"method\": \"animate\"}, {\"args\": [[\"16\"], {\"frame\": {\"duration\": 300, \"redraw\": false}, \"mode\": \"immediate\", \"transition\": {\"duration\": 300, \"easing\": \"linear\"}}], \"label\": \"16\", \"method\": \"animate\"}, {\"args\": [[\"17\"], {\"frame\": {\"duration\": 300, \"redraw\": false}, \"mode\": \"immediate\", \"transition\": {\"duration\": 300, \"easing\": \"linear\"}}], \"label\": \"17\", \"method\": \"animate\"}, {\"args\": [[\"18\"], {\"frame\": {\"duration\": 300, \"redraw\": false}, \"mode\": \"immediate\", \"transition\": {\"duration\": 300, \"easing\": \"linear\"}}], \"label\": \"18\", \"method\": \"animate\"}, {\"args\": [[\"19\"], {\"frame\": {\"duration\": 300, \"redraw\": false}, \"mode\": \"immediate\", \"transition\": {\"duration\": 300, \"easing\": \"linear\"}}], \"label\": \"19\", \"method\": \"animate\"}, {\"args\": [[\"20\"], {\"frame\": {\"duration\": 300, \"redraw\": false}, \"mode\": \"immediate\", \"transition\": {\"duration\": 300, \"easing\": \"linear\"}}], \"label\": \"20\", \"method\": \"animate\"}, {\"args\": [[\"21\"], {\"frame\": {\"duration\": 300, \"redraw\": false}, \"mode\": \"immediate\", \"transition\": {\"duration\": 300, \"easing\": \"linear\"}}], \"label\": \"21\", \"method\": \"animate\"}, {\"args\": [[\"22\"], {\"frame\": {\"duration\": 300, \"redraw\": false}, \"mode\": \"immediate\", \"transition\": {\"duration\": 300, \"easing\": \"linear\"}}], \"label\": \"22\", \"method\": \"animate\"}, {\"args\": [[\"23\"], {\"frame\": {\"duration\": 300, \"redraw\": false}, \"mode\": \"immediate\", \"transition\": {\"duration\": 300, \"easing\": \"linear\"}}], \"label\": \"23\", \"method\": \"animate\"}, {\"args\": [[\"24\"], {\"frame\": {\"duration\": 300, \"redraw\": false}, \"mode\": \"immediate\", \"transition\": {\"duration\": 300, \"easing\": \"linear\"}}], \"label\": \"24\", \"method\": \"animate\"}], \"transition\": {\"duration\": 300, \"easing\": \"linear\"}, \"x\": 0.1, \"xanchor\": \"left\", \"y\": 0, \"yanchor\": \"top\"}], \"template\": {\"data\": {\"bar\": [{\"error_x\": {\"color\": \"#2a3f5f\"}, \"error_y\": {\"color\": \"#2a3f5f\"}, \"marker\": {\"line\": {\"color\": \"#E5ECF6\", \"width\": 0.5}}, \"type\": \"bar\"}], \"barpolar\": [{\"marker\": {\"line\": {\"color\": \"#E5ECF6\", \"width\": 0.5}}, \"type\": \"barpolar\"}], \"carpet\": [{\"aaxis\": {\"endlinecolor\": \"#2a3f5f\", \"gridcolor\": \"white\", \"linecolor\": \"white\", \"minorgridcolor\": \"white\", \"startlinecolor\": \"#2a3f5f\"}, \"baxis\": {\"endlinecolor\": \"#2a3f5f\", \"gridcolor\": \"white\", \"linecolor\": \"white\", \"minorgridcolor\": \"white\", \"startlinecolor\": \"#2a3f5f\"}, \"type\": \"carpet\"}], \"choropleth\": [{\"colorbar\": {\"outlinewidth\": 0, \"ticks\": \"\"}, \"type\": \"choropleth\"}], \"contour\": [{\"colorbar\": {\"outlinewidth\": 0, \"ticks\": \"\"}, \"colorscale\": [[0.0, \"#0d0887\"], [0.1111111111111111, \"#46039f\"], [0.2222222222222222, \"#7201a8\"], [0.3333333333333333, \"#9c179e\"], [0.4444444444444444, \"#bd3786\"], [0.5555555555555556, \"#d8576b\"], [0.6666666666666666, \"#ed7953\"], [0.7777777777777778, \"#fb9f3a\"], [0.8888888888888888, \"#fdca26\"], [1.0, \"#f0f921\"]], \"type\": \"contour\"}], \"contourcarpet\": [{\"colorbar\": {\"outlinewidth\": 0, \"ticks\": \"\"}, \"type\": \"contourcarpet\"}], \"heatmap\": [{\"colorbar\": {\"outlinewidth\": 0, \"ticks\": \"\"}, \"colorscale\": [[0.0, \"#0d0887\"], [0.1111111111111111, \"#46039f\"], [0.2222222222222222, \"#7201a8\"], [0.3333333333333333, \"#9c179e\"], [0.4444444444444444, \"#bd3786\"], [0.5555555555555556, \"#d8576b\"], [0.6666666666666666, \"#ed7953\"], [0.7777777777777778, \"#fb9f3a\"], [0.8888888888888888, \"#fdca26\"], [1.0, \"#f0f921\"]], \"type\": \"heatmap\"}], \"heatmapgl\": [{\"colorbar\": {\"outlinewidth\": 0, \"ticks\": \"\"}, \"colorscale\": [[0.0, \"#0d0887\"], [0.1111111111111111, \"#46039f\"], [0.2222222222222222, \"#7201a8\"], [0.3333333333333333, \"#9c179e\"], [0.4444444444444444, \"#bd3786\"], [0.5555555555555556, \"#d8576b\"], [0.6666666666666666, \"#ed7953\"], [0.7777777777777778, \"#fb9f3a\"], [0.8888888888888888, \"#fdca26\"], [1.0, \"#f0f921\"]], \"type\": \"heatmapgl\"}], \"histogram\": [{\"marker\": {\"colorbar\": {\"outlinewidth\": 0, \"ticks\": \"\"}}, \"type\": \"histogram\"}], \"histogram2d\": [{\"colorbar\": {\"outlinewidth\": 0, \"ticks\": \"\"}, \"colorscale\": [[0.0, \"#0d0887\"], [0.1111111111111111, \"#46039f\"], [0.2222222222222222, \"#7201a8\"], [0.3333333333333333, \"#9c179e\"], [0.4444444444444444, \"#bd3786\"], [0.5555555555555556, \"#d8576b\"], [0.6666666666666666, \"#ed7953\"], [0.7777777777777778, \"#fb9f3a\"], [0.8888888888888888, \"#fdca26\"], [1.0, \"#f0f921\"]], \"type\": \"histogram2d\"}], \"histogram2dcontour\": [{\"colorbar\": {\"outlinewidth\": 0, \"ticks\": \"\"}, \"colorscale\": [[0.0, \"#0d0887\"], [0.1111111111111111, \"#46039f\"], [0.2222222222222222, \"#7201a8\"], [0.3333333333333333, \"#9c179e\"], [0.4444444444444444, \"#bd3786\"], [0.5555555555555556, \"#d8576b\"], [0.6666666666666666, \"#ed7953\"], [0.7777777777777778, \"#fb9f3a\"], [0.8888888888888888, \"#fdca26\"], [1.0, \"#f0f921\"]], \"type\": \"histogram2dcontour\"}], \"mesh3d\": [{\"colorbar\": {\"outlinewidth\": 0, \"ticks\": \"\"}, \"type\": \"mesh3d\"}], \"parcoords\": [{\"line\": {\"colorbar\": {\"outlinewidth\": 0, \"ticks\": \"\"}}, \"type\": \"parcoords\"}], \"scatter\": [{\"marker\": {\"colorbar\": {\"outlinewidth\": 0, \"ticks\": \"\"}}, \"type\": \"scatter\"}], \"scatter3d\": [{\"line\": {\"colorbar\": {\"outlinewidth\": 0, \"ticks\": \"\"}}, \"marker\": {\"colorbar\": {\"outlinewidth\": 0, \"ticks\": \"\"}}, \"type\": \"scatter3d\"}], \"scattercarpet\": [{\"marker\": {\"colorbar\": {\"outlinewidth\": 0, \"ticks\": \"\"}}, \"type\": \"scattercarpet\"}], \"scattergeo\": [{\"marker\": {\"colorbar\": {\"outlinewidth\": 0, \"ticks\": \"\"}}, \"type\": \"scattergeo\"}], \"scattergl\": [{\"marker\": {\"colorbar\": {\"outlinewidth\": 0, \"ticks\": \"\"}}, \"type\": \"scattergl\"}], \"scattermapbox\": [{\"marker\": {\"colorbar\": {\"outlinewidth\": 0, \"ticks\": \"\"}}, \"type\": \"scattermapbox\"}], \"scatterpolar\": [{\"marker\": {\"colorbar\": {\"outlinewidth\": 0, \"ticks\": \"\"}}, \"type\": \"scatterpolar\"}], \"scatterpolargl\": [{\"marker\": {\"colorbar\": {\"outlinewidth\": 0, \"ticks\": \"\"}}, \"type\": \"scatterpolargl\"}], \"scatterternary\": [{\"marker\": {\"colorbar\": {\"outlinewidth\": 0, \"ticks\": \"\"}}, \"type\": \"scatterternary\"}], \"surface\": [{\"colorbar\": {\"outlinewidth\": 0, \"ticks\": \"\"}, \"colorscale\": [[0.0, \"#0d0887\"], [0.1111111111111111, \"#46039f\"], [0.2222222222222222, \"#7201a8\"], [0.3333333333333333, \"#9c179e\"], [0.4444444444444444, \"#bd3786\"], [0.5555555555555556, \"#d8576b\"], [0.6666666666666666, \"#ed7953\"], [0.7777777777777778, \"#fb9f3a\"], [0.8888888888888888, \"#fdca26\"], [1.0, \"#f0f921\"]], \"type\": \"surface\"}], \"table\": [{\"cells\": {\"fill\": {\"color\": \"#EBF0F8\"}, \"line\": {\"color\": \"white\"}}, \"header\": {\"fill\": {\"color\": \"#C8D4E3\"}, \"line\": {\"color\": \"white\"}}, \"type\": \"table\"}]}, \"layout\": {\"annotationdefaults\": {\"arrowcolor\": \"#2a3f5f\", \"arrowhead\": 0, \"arrowwidth\": 1}, \"colorscale\": {\"diverging\": [[0, \"#8e0152\"], [0.1, \"#c51b7d\"], [0.2, \"#de77ae\"], [0.3, \"#f1b6da\"], [0.4, \"#fde0ef\"], [0.5, \"#f7f7f7\"], [0.6, \"#e6f5d0\"], [0.7, \"#b8e186\"], [0.8, \"#7fbc41\"], [0.9, \"#4d9221\"], [1, \"#276419\"]], \"sequential\": [[0.0, \"#0d0887\"], [0.1111111111111111, \"#46039f\"], [0.2222222222222222, \"#7201a8\"], [0.3333333333333333, \"#9c179e\"], [0.4444444444444444, \"#bd3786\"], [0.5555555555555556, \"#d8576b\"], [0.6666666666666666, \"#ed7953\"], [0.7777777777777778, \"#fb9f3a\"], [0.8888888888888888, \"#fdca26\"], [1.0, \"#f0f921\"]], \"sequentialminus\": [[0.0, \"#0d0887\"], [0.1111111111111111, \"#46039f\"], [0.2222222222222222, \"#7201a8\"], [0.3333333333333333, \"#9c179e\"], [0.4444444444444444, \"#bd3786\"], [0.5555555555555556, \"#d8576b\"], [0.6666666666666666, \"#ed7953\"], [0.7777777777777778, \"#fb9f3a\"], [0.8888888888888888, \"#fdca26\"], [1.0, \"#f0f921\"]]}, \"colorway\": [\"#636efa\", \"#EF553B\", \"#00cc96\", \"#ab63fa\", \"#FFA15A\", \"#19d3f3\", \"#FF6692\", \"#B6E880\", \"#FF97FF\", \"#FECB52\"], \"font\": {\"color\": \"#2a3f5f\"}, \"geo\": {\"bgcolor\": \"white\", \"lakecolor\": \"white\", \"landcolor\": \"#E5ECF6\", \"showlakes\": true, \"showland\": true, \"subunitcolor\": \"white\"}, \"hoverlabel\": {\"align\": \"left\"}, \"hovermode\": \"closest\", \"mapbox\": {\"style\": \"light\"}, \"paper_bgcolor\": \"white\", \"plot_bgcolor\": \"#E5ECF6\", \"polar\": {\"angularaxis\": {\"gridcolor\": \"white\", \"linecolor\": \"white\", \"ticks\": \"\"}, \"bgcolor\": \"#E5ECF6\", \"radialaxis\": {\"gridcolor\": \"white\", \"linecolor\": \"white\", \"ticks\": \"\"}}, \"scene\": {\"xaxis\": {\"backgroundcolor\": \"#E5ECF6\", \"gridcolor\": \"white\", \"gridwidth\": 2, \"linecolor\": \"white\", \"showbackground\": true, \"ticks\": \"\", \"zerolinecolor\": \"white\"}, \"yaxis\": {\"backgroundcolor\": \"#E5ECF6\", \"gridcolor\": \"white\", \"gridwidth\": 2, \"linecolor\": \"white\", \"showbackground\": true, \"ticks\": \"\", \"zerolinecolor\": \"white\"}, \"zaxis\": {\"backgroundcolor\": \"#E5ECF6\", \"gridcolor\": \"white\", \"gridwidth\": 2, \"linecolor\": \"white\", \"showbackground\": true, \"ticks\": \"\", \"zerolinecolor\": \"white\"}}, \"shapedefaults\": {\"line\": {\"color\": \"#2a3f5f\"}}, \"ternary\": {\"aaxis\": {\"gridcolor\": \"white\", \"linecolor\": \"white\", \"ticks\": \"\"}, \"baxis\": {\"gridcolor\": \"white\", \"linecolor\": \"white\", \"ticks\": \"\"}, \"bgcolor\": \"#E5ECF6\", \"caxis\": {\"gridcolor\": \"white\", \"linecolor\": \"white\", \"ticks\": \"\"}}, \"title\": {\"x\": 0.05}, \"xaxis\": {\"automargin\": true, \"gridcolor\": \"white\", \"linecolor\": \"white\", \"ticks\": \"\", \"zerolinecolor\": \"white\", \"zerolinewidth\": 2}, \"yaxis\": {\"automargin\": true, \"gridcolor\": \"white\", \"linecolor\": \"white\", \"ticks\": \"\", \"zerolinecolor\": \"white\", \"zerolinewidth\": 2}}}, \"updatemenus\": [{\"buttons\": [{\"args\": [null, {\"frame\": {\"duration\": 500, \"redraw\": false}, \"fromcurrent\": true, \"transition\": {\"duration\": 300, \"easing\": \"linear\"}}], \"label\": \"Play\", \"method\": \"animate\"}, {\"args\": [null, {\"frame\": {\"duration\": 0, \"redraw\": false}, \"mode\": \"immediate\", \"transition\": {\"duration\": 0}}], \"label\": \"Pause\", \"method\": \"animate\"}], \"direction\": \"left\", \"pad\": {\"r\": 10, \"t\": 87}, \"showactive\": false, \"type\": \"buttons\", \"x\": 0.1, \"xanchor\": \"right\", \"y\": 0, \"yanchor\": \"top\"}], \"width\": 600, \"xaxis\": {\"range\": [0, 0.1], \"showgrid\": false, \"showline\": false, \"showticklabels\": false, \"ticks\": \"\", \"zeroline\": false}, \"yaxis\": {\"range\": [0, 0.1], \"scaleanchor\": \"x\", \"showgrid\": false, \"showline\": false, \"showticklabels\": false, \"ticks\": \"\", \"zeroline\": false}},\n",
       "                        {\"responsive\": true}\n",
       "                    ).then(function(){\n",
       "                            Plotly.addFrames('1e00fc2c-a999-4df1-8689-99988061550d', [{\"data\": [{\"fill\": \"toself\", \"marker\": {\"color\": \"#a6cee3\"}, \"mode\": \"lines\", \"name\": \"0\", \"showlegend\": true, \"x\": [-5.0, -5.0, -4.0, -4.0, -5.0], \"y\": [-5.0, -4.0, -4.0, -5.0, -5.0], \"type\": \"scatter\"}, {\"fill\": \"toself\", \"marker\": {\"color\": \"#1f78b4\"}, \"mode\": \"lines\", \"name\": \"1\", \"showlegend\": true, \"x\": [7.0, 7.0, 8.0, 8.0, 7.0], \"y\": [-2.0, -1.0, -1.0, -2.0, -2.0], \"type\": \"scatter\"}, {\"fill\": \"toself\", \"marker\": {\"color\": \"#b2df8a\"}, \"mode\": \"lines\", \"name\": \"2\", \"showlegend\": true, \"x\": [-3.0, -3.0, 6.0, 6.0, -3.0], \"y\": [-9.0, 0.0, 0.0, -9.0, -9.0], \"type\": \"scatter\"}], \"name\": \"0\"}, {\"data\": [{\"fill\": \"toself\", \"marker\": {\"color\": \"#a6cee3\"}, \"mode\": \"lines\", \"name\": \"0\", \"showlegend\": true, \"x\": [-6.2349138259887695, -6.2349138259887695, -1.9947539567947388, -1.9947539567947388, -6.2349138259887695], \"y\": [-3.2319865226745605, -2.4934635162353516, -2.4934635162353516, -3.2319865226745605, -3.2319865226745605], \"type\": \"scatter\"}, {\"fill\": \"toself\", \"marker\": {\"color\": \"#1f78b4\"}, \"mode\": \"lines\", \"name\": \"1\", \"showlegend\": true, \"x\": [5.000204563140869, 5.000204563140869, 6.000058650970459, 6.000058650970459, 5.000204563140869], \"y\": [-3.0976080894470215, -2.6759815216064453, -2.6759815216064453, -3.0976080894470215, -3.0976080894470215], \"type\": \"scatter\"}, {\"fill\": \"toself\", \"marker\": {\"color\": \"#b2df8a\"}, \"mode\": \"lines\", \"name\": \"2\", \"showlegend\": true, \"x\": [-1.4404566287994385, -1.4404566287994385, 4.002011299133301, 4.002011299133301, -1.4404566287994385], \"y\": [-10.884454727172852, 1.8844528198242188, 1.8844528198242188, -10.884454727172852, -10.884454727172852], \"type\": \"scatter\"}], \"name\": \"1\"}, {\"data\": [{\"fill\": \"toself\", \"marker\": {\"color\": \"#a6cee3\"}, \"mode\": \"lines\", \"name\": \"0\", \"showlegend\": true, \"x\": [-6.96352481842041, -6.96352481842041, 8.832383900880814e-05, 8.832383900880814e-05, -6.96352481842041], \"y\": [-3.167374610900879, -2.5058794021606445, -2.5058794021606445, -3.167374610900879, -3.167374610900879], \"type\": \"scatter\"}, {\"fill\": \"toself\", \"marker\": {\"color\": \"#1f78b4\"}, \"mode\": \"lines\", \"name\": \"1\", \"showlegend\": true, \"x\": [3.025203227996826, 3.025203227996826, 3.998687982559204, 3.998687982559204, 3.025203227996826], \"y\": [-3.040639877319336, -2.685748815536499, -2.685748815536499, -3.040639877319336, -3.040639877319336], \"type\": \"scatter\"}, {\"fill\": \"toself\", \"marker\": {\"color\": \"#b2df8a\"}, \"mode\": \"lines\", \"name\": \"2\", \"showlegend\": true, \"x\": [-0.025385159999132156, -0.025385159999132156, 2.0121850967407227, 2.0121850967407227, -0.025385159999132156], \"y\": [-13.125113487243652, 4.1251115798950195, 4.1251115798950195, -13.125113487243652, -13.125113487243652], \"type\": \"scatter\"}], \"name\": \"2\"}, {\"data\": [{\"fill\": \"toself\", \"marker\": {\"color\": \"#a6cee3\"}, \"mode\": \"lines\", \"name\": \"0\", \"showlegend\": true, \"x\": [-7.493964195251465, -7.493964195251465, 1.818152666091919, 1.818152666091919, -7.493964195251465], \"y\": [-2.9654769897460938, -2.5648739337921143, -2.5648739337921143, -2.9654769897460938, -2.9654769897460938], \"type\": \"scatter\"}, {\"fill\": \"toself\", \"marker\": {\"color\": \"#1f78b4\"}, \"mode\": \"lines\", \"name\": \"1\", \"showlegend\": true, \"x\": [1.7824087142944336, 1.7824087142944336, 1.8625527620315552, 1.8625527620315552, 1.7824087142944336], \"y\": [-2.8650705814361572, -2.7151682376861572, -2.7151682376861572, -2.8650705814361572, -2.8650705814361572], \"type\": \"scatter\"}, {\"fill\": \"toself\", \"marker\": {\"color\": \"#b2df8a\"}, \"mode\": \"lines\", \"name\": \"2\", \"showlegend\": true, \"x\": [1.0643082857131958, 1.0643082857131958, -0.03769799694418907, -0.03769799694418907, 1.0643082857131958], \"y\": [-16.432680130004883, 7.43267297744751, 7.43267297744751, -16.432680130004883, -16.432680130004883], \"type\": \"scatter\"}], \"name\": \"3\"}, {\"data\": [{\"fill\": \"toself\", \"marker\": {\"color\": \"#a6cee3\"}, \"mode\": \"lines\", \"name\": \"0\", \"showlegend\": true, \"x\": [-7.599532604217529, -7.599532604217529, 1.9165610074996948, 1.9165610074996948, -7.599532604217529], \"y\": [-2.792534589767456, -2.634464740753174, -2.634464740753174, -2.792534589767456, -2.792534589767456], \"type\": \"scatter\"}, {\"fill\": \"toself\", \"marker\": {\"color\": \"#1f78b4\"}, \"mode\": \"lines\", \"name\": \"1\", \"showlegend\": true, \"x\": [1.9198899269104004, 1.9198899269104004, 1.9142142534255981, 1.9142142534255981, 1.9198899269104004], \"y\": [-2.6602654457092285, -2.758047580718994, -2.758047580718994, -2.6602654457092285, -2.6602654457092285], \"type\": \"scatter\"}, {\"fill\": \"toself\", \"marker\": {\"color\": \"#b2df8a\"}, \"mode\": \"lines\", \"name\": \"2\", \"showlegend\": true, \"x\": [1.129704236984253, 1.129704236984253, -1.1801730394363403, -1.1801730394363403, 1.129704236984253], \"y\": [-18.45763397216797, 9.45765209197998, 9.45765209197998, -18.45763397216797, -18.45763397216797], \"type\": \"scatter\"}], \"name\": \"4\"}, {\"data\": [{\"fill\": \"toself\", \"marker\": {\"color\": \"#a6cee3\"}, \"mode\": \"lines\", \"name\": \"0\", \"showlegend\": true, \"x\": [-7.656364440917969, -7.656364440917969, 1.9587211608886719, 1.9587211608886719, -7.656364440917969], \"y\": [-2.629444122314453, -2.7005441188812256, -2.7005441188812256, -2.629444122314453, -2.629444122314453], \"type\": \"scatter\"}, {\"fill\": \"toself\", \"marker\": {\"color\": \"#1f78b4\"}, \"mode\": \"lines\", \"name\": \"1\", \"showlegend\": true, \"x\": [2.007708787918091, 2.007708787918091, 1.9390591382980347, 1.9390591382980347, 2.007708787918091], \"y\": [-2.5099146366119385, -2.7934608459472656, -2.7934608459472656, -2.5099146366119385, -2.5099146366119385], \"type\": \"scatter\"}, {\"fill\": \"toself\", \"marker\": {\"color\": \"#b2df8a\"}, \"mode\": \"lines\", \"name\": \"2\", \"showlegend\": true, \"x\": [1.0954359769821167, 1.0954359769821167, -1.7076449394226074, -1.7076449394226074, 1.0954359769821167], \"y\": [-19.820358276367188, 10.8203763961792, 10.8203763961792, -19.820358276367188, -19.820358276367188], \"type\": \"scatter\"}], \"name\": \"5\"}, {\"data\": [{\"fill\": \"toself\", \"marker\": {\"color\": \"#a6cee3\"}, \"mode\": \"lines\", \"name\": \"0\", \"showlegend\": true, \"x\": [-7.700109481811523, -7.700109481811523, 1.9857327938079834, 1.9857327938079834, -7.700109481811523], \"y\": [-2.50374698638916, -2.7643916606903076, -2.7643916606903076, -2.50374698638916, -2.50374698638916], \"type\": \"scatter\"}, {\"fill\": \"toself\", \"marker\": {\"color\": \"#1f78b4\"}, \"mode\": \"lines\", \"name\": \"1\", \"showlegend\": true, \"x\": [2.0742886066436768, 2.0742886066436768, 1.9621928930282593, 1.9621928930282593, 2.0742886066436768], \"y\": [-2.3711183071136475, -2.8240373134613037, -2.8240373134613037, -2.3711183071136475, -2.3711183071136475], \"type\": \"scatter\"}, {\"fill\": \"toself\", \"marker\": {\"color\": \"#b2df8a\"}, \"mode\": \"lines\", \"name\": \"2\", \"showlegend\": true, \"x\": [1.0547385215759277, 1.0547385215759277, -2.0842926502227783, -2.0842926502227783, 1.0547385215759277], \"y\": [-20.887920379638672, 11.887943267822266, 11.887943267822266, -20.887920379638672, -20.887920379638672], \"type\": \"scatter\"}], \"name\": \"6\"}, {\"data\": [{\"fill\": \"toself\", \"marker\": {\"color\": \"#a6cee3\"}, \"mode\": \"lines\", \"name\": \"0\", \"showlegend\": true, \"x\": [-7.737185478210449, -7.737185478210449, 2.001041889190674, 2.001041889190674, -7.737185478210449], \"y\": [-2.4176719188690186, -2.8263282775878906, -2.8263282775878906, -2.4176719188690186, -2.4176719188690186], \"type\": \"scatter\"}, {\"fill\": \"toself\", \"marker\": {\"color\": \"#1f78b4\"}, \"mode\": \"lines\", \"name\": \"1\", \"showlegend\": true, \"x\": [2.1290090084075928, 2.1290090084075928, 1.9919040203094482, 1.9919040203094482, 2.1290090084075928], \"y\": [-2.2295150756835938, -2.851325750350952, -2.851325750350952, -2.2295150756835938, -2.2295150756835938], \"type\": \"scatter\"}, {\"fill\": \"toself\", \"marker\": {\"color\": \"#b2df8a\"}, \"mode\": \"lines\", \"name\": \"2\", \"showlegend\": true, \"x\": [1.0167818069458008, 1.0167818069458008, -2.3854100704193115, -2.3854100704193115, 1.0167818069458008], \"y\": [-21.779451370239258, 12.77947998046875, 12.77947998046875, -21.779451370239258, -21.779451370239258], \"type\": \"scatter\"}], \"name\": \"7\"}, {\"data\": [{\"fill\": \"toself\", \"marker\": {\"color\": \"#a6cee3\"}, \"mode\": \"lines\", \"name\": \"0\", \"showlegend\": true, \"x\": [-7.770084857940674, -7.770084857940674, 2.01772141456604, 2.01772141456604, -7.770084857940674], \"y\": [-2.2229559421539307, -2.8400676250457764, -2.8400676250457764, -2.2229559421539307, -2.2229559421539307], \"type\": \"scatter\"}, {\"fill\": \"toself\", \"marker\": {\"color\": \"#1f78b4\"}, \"mode\": \"lines\", \"name\": \"1\", \"showlegend\": true, \"x\": [2.1754634380340576, 2.1754634380340576, 2.009999990463257, 2.009999990463257, 2.1754634380340576], \"y\": [-2.1885995864868164, -2.9402432441711426, -2.9402432441711426, -2.1885995864868164, -2.1885995864868164], \"type\": \"scatter\"}, {\"fill\": \"toself\", \"marker\": {\"color\": \"#b2df8a\"}, \"mode\": \"lines\", \"name\": \"2\", \"showlegend\": true, \"x\": [0.986570417881012, 0.986570417881012, -2.6402080059051514, -2.6402080059051514, 0.986570417881012], \"y\": [-22.564016342163086, 13.564041137695312, 13.564041137695312, -22.564016342163086, -22.564016342163086], \"type\": \"scatter\"}], \"name\": \"8\"}, {\"data\": [{\"fill\": \"toself\", \"marker\": {\"color\": \"#a6cee3\"}, \"mode\": \"lines\", \"name\": \"0\", \"showlegend\": true, \"x\": [-7.799972057342529, -7.799972057342529, 2.0365712642669678, 2.0365712642669678, -7.799972057342529], \"y\": [-2.1906750202178955, -2.9013118743896484, -2.9013118743896484, -2.1906750202178955, -2.1906750202178955], \"type\": \"scatter\"}, {\"fill\": \"toself\", \"marker\": {\"color\": \"#1f78b4\"}, \"mode\": \"lines\", \"name\": \"1\", \"showlegend\": true, \"x\": [2.215596914291382, 2.215596914291382, 2.0181498527526855, 2.0181498527526855, 2.215596914291382], \"y\": [-2.044598340988159, -2.961521625518799, -2.961521625518799, -2.044598340988159, -2.044598340988159], \"type\": \"scatter\"}, {\"fill\": \"toself\", \"marker\": {\"color\": \"#b2df8a\"}, \"mode\": \"lines\", \"name\": \"2\", \"showlegend\": true, \"x\": [0.9658581614494324, 0.9658581614494324, -2.8639001846313477, -2.8639001846313477, 0.9658581614494324], \"y\": [-23.276874542236328, 14.276891708374023, 14.276891708374023, -23.276874542236328, -23.276874542236328], \"type\": \"scatter\"}], \"name\": \"9\"}, {\"data\": [{\"fill\": \"toself\", \"marker\": {\"color\": \"#a6cee3\"}, \"mode\": \"lines\", \"name\": \"0\", \"showlegend\": true, \"x\": [-7.827572345733643, -7.827572345733643, 2.058583974838257, 2.058583974838257, -7.827572345733643], \"y\": [-2.0272679328918457, -2.960054397583008, -2.960054397583008, -2.0272679328918457, -2.0272679328918457], \"type\": \"scatter\"}, {\"fill\": \"toself\", \"marker\": {\"color\": \"#1f78b4\"}, \"mode\": \"lines\", \"name\": \"1\", \"showlegend\": true, \"x\": [2.2523088455200195, 2.2523088455200195, 2.016218662261963, 2.016218662261963, 2.2523088455200195], \"y\": [-2.0127501487731934, -2.9818997383117676, -2.9818997383117676, -2.0127501487731934, -2.0127501487731934], \"type\": \"scatter\"}, {\"fill\": \"toself\", \"marker\": {\"color\": \"#b2df8a\"}, \"mode\": \"lines\", \"name\": \"2\", \"showlegend\": true, \"x\": [0.9437905550003052, 0.9437905550003052, -3.0645804405212402, -3.0645804405212402, 0.9437905550003052], \"y\": [-23.91136932373047, 14.911360740661621, 14.911360740661621, -23.91136932373047, -23.91136932373047], \"type\": \"scatter\"}], \"name\": \"10\"}, {\"data\": [{\"fill\": \"toself\", \"marker\": {\"color\": \"#a6cee3\"}, \"mode\": \"lines\", \"name\": \"0\", \"showlegend\": true, \"x\": [-7.853448867797852, -7.853448867797852, 2.0591235160827637, 2.0591235160827637, -7.853448867797852], \"y\": [-2.0379445552825928, -2.950928211212158, -2.950928211212158, -2.0379445552825928, -2.0379445552825928], \"type\": \"scatter\"}, {\"fill\": \"toself\", \"marker\": {\"color\": \"#1f78b4\"}, \"mode\": \"lines\", \"name\": \"1\", \"showlegend\": true, \"x\": [2.2849202156066895, 2.2849202156066895, 2.0495121479034424, 2.0495121479034424, 2.2849202156066895], \"y\": [-1.858541488647461, -3.0921037197113037, -3.0921037197113037, -1.858541488647461, -1.858541488647461], \"type\": \"scatter\"}, {\"fill\": \"toself\", \"marker\": {\"color\": \"#b2df8a\"}, \"mode\": \"lines\", \"name\": \"2\", \"showlegend\": true, \"x\": [0.9309150576591492, 0.9309150576591492, -3.247947931289673, -3.247947931289673, 0.9309150576591492], \"y\": [-24.51896858215332, 15.518964767456055, 15.518964767456055, -24.51896858215332, -24.51896858215332], \"type\": \"scatter\"}], \"name\": \"11\"}, {\"data\": [{\"fill\": \"toself\", \"marker\": {\"color\": \"#a6cee3\"}, \"mode\": \"lines\", \"name\": \"0\", \"showlegend\": true, \"x\": [-7.877778053283691, -7.877778053283691, 2.0860915184020996, 2.0860915184020996, -7.877778053283691], \"y\": [-1.895622968673706, -3.0096595287323, -3.0096595287323, -1.895622968673706, -1.895622968673706], \"type\": \"scatter\"}, {\"fill\": \"toself\", \"marker\": {\"color\": \"#1f78b4\"}, \"mode\": \"lines\", \"name\": \"1\", \"showlegend\": true, \"x\": [2.314967155456543, 2.314967155456543, 2.0330684185028076, 2.0330684185028076, 2.314967155456543], \"y\": [-1.8341959714889526, -3.108536958694458, -3.108536958694458, -1.8341959714889526, -1.8341959714889526], \"type\": \"scatter\"}, {\"fill\": \"toself\", \"marker\": {\"color\": \"#b2df8a\"}, \"mode\": \"lines\", \"name\": \"2\", \"showlegend\": true, \"x\": [0.9204141497612, 0.9204141497612, -3.418389320373535, -3.418389320373535, 0.9204141497612], \"y\": [-25.0827579498291, 16.082752227783203, 16.082752227783203, -25.0827579498291, -25.0827579498291], \"type\": \"scatter\"}], \"name\": \"12\"}, {\"data\": [{\"fill\": \"toself\", \"marker\": {\"color\": \"#a6cee3\"}, \"mode\": \"lines\", \"name\": \"0\", \"showlegend\": true, \"x\": [-7.900922775268555, -7.900922775268555, 2.0865683555603027, 2.0865683555603027, -7.900922775268555], \"y\": [-1.9427590370178223, -3.067495584487915, -3.067495584487915, -1.9427590370178223, -1.9427590370178223], \"type\": \"scatter\"}, {\"fill\": \"toself\", \"marker\": {\"color\": \"#1f78b4\"}, \"mode\": \"lines\", \"name\": \"1\", \"showlegend\": true, \"x\": [2.3432557582855225, 2.3432557582855225, 2.061706066131592, 2.061706066131592, 2.3432557582855225], \"y\": [-1.660607099533081, -3.1244564056396484, -3.1244564056396484, -1.660607099533081, -1.660607099533081], \"type\": \"scatter\"}, {\"fill\": \"toself\", \"marker\": {\"color\": \"#b2df8a\"}, \"mode\": \"lines\", \"name\": \"2\", \"showlegend\": true, \"x\": [0.90976482629776, 0.90976482629776, -3.577763795852661, -3.577763795852661, 0.90976482629776], \"y\": [-25.609682083129883, 16.609676361083984, 16.609676361083984, -25.609682083129883, -25.609682083129883], \"type\": \"scatter\"}], \"name\": \"13\"}, {\"data\": [{\"fill\": \"toself\", \"marker\": {\"color\": \"#a6cee3\"}, \"mode\": \"lines\", \"name\": \"0\", \"showlegend\": true, \"x\": [-7.923096656799316, -7.923096656799316, 2.1086313724517822, 2.1086313724517822, -7.923096656799316], \"y\": [-1.8246606588363647, -3.127074718475342, -3.127074718475342, -1.8246606588363647, -1.8246606588363647], \"type\": \"scatter\"}, {\"fill\": \"toself\", \"marker\": {\"color\": \"#1f78b4\"}, \"mode\": \"lines\", \"name\": \"1\", \"showlegend\": true, \"x\": [2.369537591934204, 2.369537591934204, 2.050295352935791, 2.050295352935791, 2.369537591934204], \"y\": [-1.6413295269012451, -3.139437437057495, -3.139437437057495, -1.6413295269012451, -1.6413295269012451], \"type\": \"scatter\"}, {\"fill\": \"toself\", \"marker\": {\"color\": \"#b2df8a\"}, \"mode\": \"lines\", \"name\": \"2\", \"showlegend\": true, \"x\": [0.9027178883552551, 0.9027178883552551, -3.7266063690185547, -3.7266063690185547, 0.9027178883552551], \"y\": [-26.123329162597656, 17.123323440551758, 17.123323440551758, -26.123329162597656, -26.123329162597656], \"type\": \"scatter\"}], \"name\": \"14\"}, {\"data\": [{\"fill\": \"toself\", \"marker\": {\"color\": \"#a6cee3\"}, \"mode\": \"lines\", \"name\": \"0\", \"showlegend\": true, \"x\": [-7.944326877593994, -7.944326877593994, 2.1228280067443848, 2.1228280067443848, -7.944326877593994], \"y\": [-1.7071149349212646, -3.0813536643981934, -3.0813536643981934, -1.7071149349212646, -1.7071149349212646], \"type\": \"scatter\"}, {\"fill\": \"toself\", \"marker\": {\"color\": \"#1f78b4\"}, \"mode\": \"lines\", \"name\": \"1\", \"showlegend\": true, \"x\": [2.3944058418273926, 2.3944058418273926, 2.051854133605957, 2.051854133605957, 2.3944058418273926], \"y\": [-1.6228848695755005, -3.2838594913482666, -3.2838594913482666, -1.6228848695755005, -1.6228848695755005], \"type\": \"scatter\"}, {\"fill\": \"toself\", \"marker\": {\"color\": \"#b2df8a\"}, \"mode\": \"lines\", \"name\": \"2\", \"showlegend\": true, \"x\": [0.8972429037094116, 0.8972429037094116, -3.8717217445373535, -3.8717217445373535, 0.8972429037094116], \"y\": [-26.611034393310547, 17.61102867126465, 17.61102867126465, -26.611034393310547, -26.611034393310547], \"type\": \"scatter\"}], \"name\": \"15\"}, {\"data\": [{\"fill\": \"toself\", \"marker\": {\"color\": \"#a6cee3\"}, \"mode\": \"lines\", \"name\": \"0\", \"showlegend\": true, \"x\": [-7.964809417724609, -7.964809417724609, 2.1232571601867676, 2.1232571601867676, -7.964809417724609], \"y\": [-1.7807730436325073, -3.1364285945892334, -3.1364285945892334, -1.7807730436325073, -1.7807730436325073], \"type\": \"scatter\"}, {\"fill\": \"toself\", \"marker\": {\"color\": \"#1f78b4\"}, \"mode\": \"lines\", \"name\": \"1\", \"showlegend\": true, \"x\": [2.4182016849517822, 2.4182016849517822, 2.076148271560669, 2.076148271560669, 2.4182016849517822], \"y\": [-1.4360007047653198, -3.296557903289795, -3.296557903289795, -1.4360007047653198, -1.4360007047653198], \"type\": \"scatter\"}, {\"fill\": \"toself\", \"marker\": {\"color\": \"#b2df8a\"}, \"mode\": \"lines\", \"name\": \"2\", \"showlegend\": true, \"x\": [0.8916317224502563, 0.8916317224502563, -4.009139060974121, -4.009139060974121, 0.8916317224502563], \"y\": [-27.072507858276367, 18.07250213623047, 18.07250213623047, -27.072507858276367, -27.072507858276367], \"type\": \"scatter\"}], \"name\": \"16\"}, {\"data\": [{\"fill\": \"toself\", \"marker\": {\"color\": \"#a6cee3\"}, \"mode\": \"lines\", \"name\": \"0\", \"showlegend\": true, \"x\": [-7.984649181365967, -7.984649181365967, 2.1236846446990967, 2.1236846446990967, -7.984649181365967], \"y\": [-1.6951476335525513, -3.1974167823791504, -3.1974167823791504, -1.6951476335525513, -1.6951476335525513], \"type\": \"scatter\"}, {\"fill\": \"toself\", \"marker\": {\"color\": \"#1f78b4\"}, \"mode\": \"lines\", \"name\": \"1\", \"showlegend\": true, \"x\": [2.4399454593658447, 2.4399454593658447, 2.099163770675659, 2.099163770675659, 2.4399454593658447], \"y\": [-1.4110113382339478, -3.3079278469085693, -3.3079278469085693, -1.4110113382339478, -1.4110113382339478], \"type\": \"scatter\"}, {\"fill\": \"toself\", \"marker\": {\"color\": \"#b2df8a\"}, \"mode\": \"lines\", \"name\": \"2\", \"showlegend\": true, \"x\": [0.8937095403671265, 0.8937095403671265, -4.139907360076904, -4.139907360076904, 0.8937095403671265], \"y\": [-27.555824279785156, 18.555818557739258, 18.555818557739258, -27.555824279785156, -27.555824279785156], \"type\": \"scatter\"}], \"name\": \"17\"}, {\"data\": [{\"fill\": \"toself\", \"marker\": {\"color\": \"#a6cee3\"}, \"mode\": \"lines\", \"name\": \"0\", \"showlegend\": true, \"x\": [-8.003928184509277, -8.003928184509277, 2.124066114425659, 2.124066114425659, -8.003928184509277], \"y\": [-1.6006875038146973, -3.255826711654663, -3.255826711654663, -1.6006875038146973, -1.6006875038146973], \"type\": \"scatter\"}, {\"fill\": \"toself\", \"marker\": {\"color\": \"#1f78b4\"}, \"mode\": \"lines\", \"name\": \"1\", \"showlegend\": true, \"x\": [2.461611270904541, 2.461611270904541, 2.1211116313934326, 2.1211116313934326, 2.461611270904541], \"y\": [-1.3973884582519531, -3.319727659225464, -3.319727659225464, -1.3973884582519531, -1.3973884582519531], \"type\": \"scatter\"}, {\"fill\": \"toself\", \"marker\": {\"color\": \"#b2df8a\"}, \"mode\": \"lines\", \"name\": \"2\", \"showlegend\": true, \"x\": [0.8910437822341919, 0.8910437822341919, -4.265121936798096, -4.265121936798096, 0.8910437822341919], \"y\": [-28.00611114501953, 19.006105422973633, 19.006105422973633, -28.00611114501953, -28.00611114501953], \"type\": \"scatter\"}], \"name\": \"18\"}, {\"data\": [{\"fill\": \"toself\", \"marker\": {\"color\": \"#a6cee3\"}, \"mode\": \"lines\", \"name\": \"0\", \"showlegend\": true, \"x\": [-8.022664070129395, -8.022664070129395, 2.1789603233337402, 2.1789603233337402, -8.022664070129395], \"y\": [-1.5101364850997925, -3.311828136444092, -3.311828136444092, -1.5101364850997925, -1.5101364850997925], \"type\": \"scatter\"}, {\"fill\": \"toself\", \"marker\": {\"color\": \"#1f78b4\"}, \"mode\": \"lines\", \"name\": \"1\", \"showlegend\": true, \"x\": [2.4833269119262695, 2.4833269119262695, 2.0497446060180664, 2.0497446060180664, 2.4833269119262695], \"y\": [-1.3832799196243286, -3.3319480419158936, -3.3319480419158936, -1.3832799196243286, -1.3832799196243286], \"type\": \"scatter\"}, {\"fill\": \"toself\", \"marker\": {\"color\": \"#b2df8a\"}, \"mode\": \"lines\", \"name\": \"2\", \"showlegend\": true, \"x\": [0.8839725255966187, 0.8839725255966187, -4.3908772468566895, -4.3908772468566895, 0.8839725255966187], \"y\": [-28.427995681762695, 19.427989959716797, 19.427989959716797, -28.427995681762695, -28.427995681762695], \"type\": \"scatter\"}], \"name\": \"19\"}, {\"data\": [{\"fill\": \"toself\", \"marker\": {\"color\": \"#a6cee3\"}, \"mode\": \"lines\", \"name\": \"0\", \"showlegend\": true, \"x\": [-8.041015625, -8.041015625, 2.1793417930603027, 2.1793417930603027, -8.041015625], \"y\": [-1.4178580045700073, -3.207432746887207, -3.207432746887207, -1.4178580045700073, -1.4178580045700073], \"type\": \"scatter\"}, {\"fill\": \"toself\", \"marker\": {\"color\": \"#1f78b4\"}, \"mode\": \"lines\", \"name\": \"1\", \"showlegend\": true, \"x\": [2.5041801929473877, 2.5041801929473877, 2.0707430839538574, 2.0707430839538574, 2.5041801929473877], \"y\": [-1.3696558475494385, -3.5293033123016357, -3.5293033123016357, -1.3696558475494385, -1.3696558475494385], \"type\": \"scatter\"}, {\"fill\": \"toself\", \"marker\": {\"color\": \"#b2df8a\"}, \"mode\": \"lines\", \"name\": \"2\", \"showlegend\": true, \"x\": [0.8788137435913086, 0.8788137435913086, -4.513481140136719, -4.513481140136719, 0.8788137435913086], \"y\": [-28.843198776245117, 19.84319305419922, 19.84319305419922, -28.843198776245117, -28.843198776245117], \"type\": \"scatter\"}], \"name\": \"20\"}, {\"data\": [{\"fill\": \"toself\", \"marker\": {\"color\": \"#a6cee3\"}, \"mode\": \"lines\", \"name\": \"0\", \"showlegend\": true, \"x\": [-8.05898666381836, -8.05898666381836, 2.1797232627868652, 2.1797232627868652, -8.05898666381836], \"y\": [-1.5587862730026245, -3.2622017860412598, -3.2622017860412598, -1.5587862730026245, -1.5587862730026245], \"type\": \"scatter\"}, {\"fill\": \"toself\", \"marker\": {\"color\": \"#1f78b4\"}, \"mode\": \"lines\", \"name\": \"1\", \"showlegend\": true, \"x\": [2.523306131362915, 2.523306131362915, 2.0909276008605957, 2.0909276008605957, 2.523306131362915], \"y\": [-1.1405178308486938, -3.5377538204193115, -3.5377538204193115, -1.1405178308486938, -1.1405178308486938], \"type\": \"scatter\"}, {\"fill\": \"toself\", \"marker\": {\"color\": \"#b2df8a\"}, \"mode\": \"lines\", \"name\": \"2\", \"showlegend\": true, \"x\": [0.8816200494766235, 0.8816200494766235, -4.631784439086914, -4.631784439086914, 0.8816200494766235], \"y\": [-29.2811222076416, 20.281116485595703, 20.281116485595703, -29.2811222076416, -29.2811222076416], \"type\": \"scatter\"}], \"name\": \"21\"}, {\"data\": [{\"fill\": \"toself\", \"marker\": {\"color\": \"#a6cee3\"}, \"mode\": \"lines\", \"name\": \"0\", \"showlegend\": true, \"x\": [-8.076522827148438, -8.076522827148438, 2.1800827980041504, 2.1800827980041504, -8.076522827148438], \"y\": [-1.4815454483032227, -3.3223249912261963, -3.3223249912261963, -1.4815454483032227, -1.4815454483032227], \"type\": \"scatter\"}, {\"fill\": \"toself\", \"marker\": {\"color\": \"#1f78b4\"}, \"mode\": \"lines\", \"name\": \"1\", \"showlegend\": true, \"x\": [2.541271448135376, 2.541271448135376, 2.1104187965393066, 2.1104187965393066, 2.541271448135376], \"y\": [-1.1324269771575928, -3.545545816421509, -3.545545816421509, -1.1324269771575928, -1.1324269771575928], \"type\": \"scatter\"}, {\"fill\": \"toself\", \"marker\": {\"color\": \"#b2df8a\"}, \"mode\": \"lines\", \"name\": \"2\", \"showlegend\": true, \"x\": [0.8886763453483582, 0.8886763453483582, -4.746294021606445, -4.746294021606445, 0.8886763453483582], \"y\": [-29.742246627807617, 20.74224090576172, 20.74224090576172, -29.742246627807617, -29.742246627807617], \"type\": \"scatter\"}], \"name\": \"22\"}, {\"data\": [{\"fill\": \"toself\", \"marker\": {\"color\": \"#a6cee3\"}, \"mode\": \"lines\", \"name\": \"0\", \"showlegend\": true, \"x\": [-8.093730926513672, -8.093730926513672, 2.1804165840148926, 2.1804165840148926, -8.093730926513672], \"y\": [-1.4068336486816406, -3.380458116531372, -3.380458116531372, -1.4068336486816406, -1.4068336486816406], \"type\": \"scatter\"}, {\"fill\": \"toself\", \"marker\": {\"color\": \"#1f78b4\"}, \"mode\": \"lines\", \"name\": \"1\", \"showlegend\": true, \"x\": [2.5595016479492188, 2.5595016479492188, 2.129314422607422, 2.129314422607422, 2.5595016479492188], \"y\": [-1.1239125728607178, -3.553778886795044, -3.553778886795044, -1.1239125728607178, -1.1239125728607178], \"type\": \"scatter\"}, {\"fill\": \"toself\", \"marker\": {\"color\": \"#b2df8a\"}, \"mode\": \"lines\", \"name\": \"2\", \"showlegend\": true, \"x\": [0.8909521698951721, 0.8909521698951721, -4.857585906982422, -4.857585906982422, 0.8909521698951721], \"y\": [-30.178300857543945, 21.178295135498047, 21.178295135498047, -30.178300857543945, -30.178300857543945], \"type\": \"scatter\"}], \"name\": \"23\"}, {\"data\": [{\"fill\": \"toself\", \"marker\": {\"color\": \"#a6cee3\"}, \"mode\": \"lines\", \"name\": \"0\", \"showlegend\": true, \"x\": [-8.110706329345703, -8.110706329345703, 2.1807503700256348, 2.1807503700256348, -8.110706329345703], \"y\": [-1.334396481513977, -3.436824321746826, -3.436824321746826, -1.334396481513977, -1.334396481513977], \"type\": \"scatter\"}, {\"fill\": \"toself\", \"marker\": {\"color\": \"#1f78b4\"}, \"mode\": \"lines\", \"name\": \"1\", \"showlegend\": true, \"x\": [2.5780043601989746, 2.5780043601989746, 2.1476924419403076, 2.1476924419403076, 2.5780043601989746], \"y\": [-1.1149566173553467, -3.562438726425171, -3.562438726425171, -1.1149566173553467, -1.1149566173553467], \"type\": \"scatter\"}, {\"fill\": \"toself\", \"marker\": {\"color\": \"#b2df8a\"}, \"mode\": \"lines\", \"name\": \"2\", \"showlegend\": true, \"x\": [0.8890830278396606, 0.8890830278396606, -4.966183185577393, -4.966183185577393, 0.8890830278396606], \"y\": [-30.59299087524414, 21.592985153198242, 21.592985153198242, -30.59299087524414, -30.59299087524414], \"type\": \"scatter\"}], \"name\": \"24\"}]);\n",
       "                        }).then(function(){\n",
       "                            \n",
       "var gd = document.getElementById('1e00fc2c-a999-4df1-8689-99988061550d');\n",
       "var x = new MutationObserver(function (mutations, observer) {{\n",
       "        var display = window.getComputedStyle(gd).display;\n",
       "        if (!display || display === 'none') {{\n",
       "            console.log([gd, 'removed!']);\n",
       "            Plotly.purge(gd);\n",
       "            observer.disconnect();\n",
       "        }}\n",
       "}});\n",
       "\n",
       "// Listen for the removal of the full notebook cells\n",
       "var notebookContainer = gd.closest('#notebook-container');\n",
       "if (notebookContainer) {{\n",
       "    x.observe(notebookContainer, {childList: true});\n",
       "}}\n",
       "\n",
       "// Listen for the clearing of the current output cell\n",
       "var outputEl = gd.closest('.output');\n",
       "if (outputEl) {{\n",
       "    x.observe(outputEl, {childList: true});\n",
       "}}\n",
       "\n",
       "                        })\n",
       "                };\n",
       "                });\n",
       "            </script>\n",
       "        </div>"
      ]
     },
     "metadata": {},
     "output_type": "display_data"
    }
   ],
   "source": [
    "plot(embeddings)"
   ]
  },
  {
   "cell_type": "code",
   "execution_count": 780,
   "metadata": {},
   "outputs": [
    {
     "data": {
      "text/plain": [
       "[[tensor([[ 6.1065e-04,  0.0000e+00, -1.6383e-03,  0.0000e+00],\n",
       "          [-5.9953e-04,  0.0000e+00,  2.1006e-05,  0.0000e+00],\n",
       "          [-1.1116e-05,  0.0000e+00, -9.8944e-06,  0.0000e+00]])],\n",
       " [tensor([[ 6.1065e-04,  0.0000e+00, -1.6383e-03,  0.0000e+00],\n",
       "          [-5.9953e-04,  0.0000e+00,  2.1006e-05,  0.0000e+00],\n",
       "          [-1.1116e-05,  0.0000e+00, -9.8944e-06,  0.0000e+00]])],\n",
       " [tensor([[ 6.1065e-04,  0.0000e+00, -1.6383e-03,  0.0000e+00],\n",
       "          [-5.9953e-04,  0.0000e+00,  2.1006e-05,  0.0000e+00],\n",
       "          [-1.1116e-05,  0.0000e+00, -9.8944e-06,  0.0000e+00]])],\n",
       " [tensor([[ 6.1065e-04,  0.0000e+00, -1.6383e-03,  0.0000e+00],\n",
       "          [-5.9953e-04,  0.0000e+00,  2.1006e-05,  0.0000e+00],\n",
       "          [-1.1116e-05,  0.0000e+00, -9.8944e-06,  0.0000e+00]])],\n",
       " [tensor([[ 6.1065e-04,  0.0000e+00, -1.6383e-03,  0.0000e+00],\n",
       "          [-5.9953e-04,  0.0000e+00,  2.1006e-05,  0.0000e+00],\n",
       "          [-1.1116e-05,  0.0000e+00, -9.8944e-06,  0.0000e+00]])],\n",
       " [tensor([[ 6.1065e-04,  0.0000e+00, -1.6383e-03,  0.0000e+00],\n",
       "          [-5.9953e-04,  0.0000e+00,  2.1006e-05,  0.0000e+00],\n",
       "          [-1.1116e-05,  0.0000e+00, -9.8944e-06,  0.0000e+00]])],\n",
       " [tensor([[ 6.1065e-04,  0.0000e+00, -1.6383e-03,  0.0000e+00],\n",
       "          [-5.9953e-04,  0.0000e+00,  2.1006e-05,  0.0000e+00],\n",
       "          [-1.1116e-05,  0.0000e+00, -9.8944e-06,  0.0000e+00]])],\n",
       " [tensor([[ 6.1065e-04,  0.0000e+00, -1.6383e-03,  0.0000e+00],\n",
       "          [-5.9953e-04,  0.0000e+00,  2.1006e-05,  0.0000e+00],\n",
       "          [-1.1116e-05,  0.0000e+00, -9.8944e-06,  0.0000e+00]])],\n",
       " [tensor([[ 6.1065e-04,  0.0000e+00, -1.6383e-03,  0.0000e+00],\n",
       "          [-5.9953e-04,  0.0000e+00,  2.1006e-05,  0.0000e+00],\n",
       "          [-1.1116e-05,  0.0000e+00, -9.8944e-06,  0.0000e+00]])],\n",
       " [tensor([[ 6.1065e-04,  0.0000e+00, -1.6383e-03,  0.0000e+00],\n",
       "          [-5.9953e-04,  0.0000e+00,  2.1006e-05,  0.0000e+00],\n",
       "          [-1.1116e-05,  0.0000e+00, -9.8944e-06,  0.0000e+00]])],\n",
       " [tensor([[ 6.1065e-04,  0.0000e+00, -1.6383e-03,  0.0000e+00],\n",
       "          [-5.9953e-04,  0.0000e+00,  2.1006e-05,  0.0000e+00],\n",
       "          [-1.1116e-05,  0.0000e+00, -9.8944e-06,  0.0000e+00]])],\n",
       " [tensor([[ 6.1065e-04,  0.0000e+00, -1.6383e-03,  0.0000e+00],\n",
       "          [-5.9953e-04,  0.0000e+00,  2.1006e-05,  0.0000e+00],\n",
       "          [-1.1116e-05,  0.0000e+00, -9.8944e-06,  0.0000e+00]])],\n",
       " [tensor([[ 6.1065e-04,  0.0000e+00, -1.6383e-03,  0.0000e+00],\n",
       "          [-5.9953e-04,  0.0000e+00,  2.1006e-05,  0.0000e+00],\n",
       "          [-1.1116e-05,  0.0000e+00, -9.8944e-06,  0.0000e+00]])],\n",
       " [tensor([[ 6.1065e-04,  0.0000e+00, -1.6383e-03,  0.0000e+00],\n",
       "          [-5.9953e-04,  0.0000e+00,  2.1006e-05,  0.0000e+00],\n",
       "          [-1.1116e-05,  0.0000e+00, -9.8944e-06,  0.0000e+00]])],\n",
       " [tensor([[ 6.1065e-04,  0.0000e+00, -1.6383e-03,  0.0000e+00],\n",
       "          [-5.9953e-04,  0.0000e+00,  2.1006e-05,  0.0000e+00],\n",
       "          [-1.1116e-05,  0.0000e+00, -9.8944e-06,  0.0000e+00]])],\n",
       " [tensor([[ 6.1065e-04,  0.0000e+00, -1.6383e-03,  0.0000e+00],\n",
       "          [-5.9953e-04,  0.0000e+00,  2.1006e-05,  0.0000e+00],\n",
       "          [-1.1116e-05,  0.0000e+00, -9.8944e-06,  0.0000e+00]])],\n",
       " [tensor([[ 6.1065e-04,  0.0000e+00, -1.6383e-03,  0.0000e+00],\n",
       "          [-5.9953e-04,  0.0000e+00,  2.1006e-05,  0.0000e+00],\n",
       "          [-1.1116e-05,  0.0000e+00, -9.8944e-06,  0.0000e+00]])],\n",
       " [tensor([[ 6.1065e-04,  0.0000e+00, -1.6383e-03,  0.0000e+00],\n",
       "          [-5.9953e-04,  0.0000e+00,  2.1006e-05,  0.0000e+00],\n",
       "          [-1.1116e-05,  0.0000e+00, -9.8944e-06,  0.0000e+00]])],\n",
       " [tensor([[ 6.1065e-04,  0.0000e+00, -1.6383e-03,  0.0000e+00],\n",
       "          [-5.9953e-04,  0.0000e+00,  2.1006e-05,  0.0000e+00],\n",
       "          [-1.1116e-05,  0.0000e+00, -9.8944e-06,  0.0000e+00]])],\n",
       " [tensor([[ 6.1065e-04,  0.0000e+00, -1.6383e-03,  0.0000e+00],\n",
       "          [-5.9953e-04,  0.0000e+00,  2.1006e-05,  0.0000e+00],\n",
       "          [-1.1116e-05,  0.0000e+00, -9.8944e-06,  0.0000e+00]])],\n",
       " [tensor([[ 6.1065e-04,  0.0000e+00, -1.6383e-03,  0.0000e+00],\n",
       "          [-5.9953e-04,  0.0000e+00,  2.1006e-05,  0.0000e+00],\n",
       "          [-1.1116e-05,  0.0000e+00, -9.8944e-06,  0.0000e+00]])],\n",
       " [tensor([[ 6.1065e-04,  0.0000e+00, -1.6383e-03,  0.0000e+00],\n",
       "          [-5.9953e-04,  0.0000e+00,  2.1006e-05,  0.0000e+00],\n",
       "          [-1.1116e-05,  0.0000e+00, -9.8944e-06,  0.0000e+00]])],\n",
       " [tensor([[ 6.1065e-04,  0.0000e+00, -1.6383e-03,  0.0000e+00],\n",
       "          [-5.9953e-04,  0.0000e+00,  2.1006e-05,  0.0000e+00],\n",
       "          [-1.1116e-05,  0.0000e+00, -9.8944e-06,  0.0000e+00]])],\n",
       " [tensor([[ 6.1065e-04,  0.0000e+00, -1.6383e-03,  0.0000e+00],\n",
       "          [-5.9953e-04,  0.0000e+00,  2.1006e-05,  0.0000e+00],\n",
       "          [-1.1116e-05,  0.0000e+00, -9.8944e-06,  0.0000e+00]])],\n",
       " [tensor([[ 6.1065e-04,  0.0000e+00, -1.6383e-03,  0.0000e+00],\n",
       "          [-5.9953e-04,  0.0000e+00,  2.1006e-05,  0.0000e+00],\n",
       "          [-1.1116e-05,  0.0000e+00, -9.8944e-06,  0.0000e+00]])],\n",
       " [tensor([[ 6.1065e-04,  0.0000e+00, -1.6383e-03,  0.0000e+00],\n",
       "          [-5.9953e-04,  0.0000e+00,  2.1006e-05,  0.0000e+00],\n",
       "          [-1.1116e-05,  0.0000e+00, -9.8944e-06,  0.0000e+00]])],\n",
       " [tensor([[ 6.1065e-04,  0.0000e+00, -1.6383e-03,  0.0000e+00],\n",
       "          [-5.9953e-04,  0.0000e+00,  2.1006e-05,  0.0000e+00],\n",
       "          [-1.1116e-05,  0.0000e+00, -9.8944e-06,  0.0000e+00]])],\n",
       " [tensor([[ 6.1065e-04,  0.0000e+00, -1.6383e-03,  0.0000e+00],\n",
       "          [-5.9953e-04,  0.0000e+00,  2.1006e-05,  0.0000e+00],\n",
       "          [-1.1116e-05,  0.0000e+00, -9.8944e-06,  0.0000e+00]])],\n",
       " [tensor([[ 6.1065e-04,  0.0000e+00, -1.6383e-03,  0.0000e+00],\n",
       "          [-5.9953e-04,  0.0000e+00,  2.1006e-05,  0.0000e+00],\n",
       "          [-1.1116e-05,  0.0000e+00, -9.8944e-06,  0.0000e+00]])],\n",
       " [tensor([[ 6.1065e-04,  0.0000e+00, -1.6383e-03,  0.0000e+00],\n",
       "          [-5.9953e-04,  0.0000e+00,  2.1006e-05,  0.0000e+00],\n",
       "          [-1.1116e-05,  0.0000e+00, -9.8944e-06,  0.0000e+00]])],\n",
       " [tensor([[ 6.1065e-04,  0.0000e+00, -1.6383e-03,  0.0000e+00],\n",
       "          [-5.9953e-04,  0.0000e+00,  2.1006e-05,  0.0000e+00],\n",
       "          [-1.1116e-05,  0.0000e+00, -9.8944e-06,  0.0000e+00]])],\n",
       " [tensor([[ 6.1065e-04,  0.0000e+00, -1.6383e-03,  0.0000e+00],\n",
       "          [-5.9953e-04,  0.0000e+00,  2.1006e-05,  0.0000e+00],\n",
       "          [-1.1116e-05,  0.0000e+00, -9.8944e-06,  0.0000e+00]])],\n",
       " [tensor([[ 6.1065e-04,  0.0000e+00, -1.6383e-03,  0.0000e+00],\n",
       "          [-5.9953e-04,  0.0000e+00,  2.1006e-05,  0.0000e+00],\n",
       "          [-1.1116e-05,  0.0000e+00, -9.8944e-06,  0.0000e+00]])],\n",
       " [tensor([[ 6.1065e-04,  0.0000e+00, -1.6383e-03,  0.0000e+00],\n",
       "          [-5.9953e-04,  0.0000e+00,  2.1006e-05,  0.0000e+00],\n",
       "          [-1.1116e-05,  0.0000e+00, -9.8944e-06,  0.0000e+00]])],\n",
       " [tensor([[ 6.1065e-04,  0.0000e+00, -1.6383e-03,  0.0000e+00],\n",
       "          [-5.9953e-04,  0.0000e+00,  2.1006e-05,  0.0000e+00],\n",
       "          [-1.1116e-05,  0.0000e+00, -9.8944e-06,  0.0000e+00]])],\n",
       " [tensor([[ 6.1065e-04,  0.0000e+00, -1.6383e-03,  0.0000e+00],\n",
       "          [-5.9953e-04,  0.0000e+00,  2.1006e-05,  0.0000e+00],\n",
       "          [-1.1116e-05,  0.0000e+00, -9.8944e-06,  0.0000e+00]])],\n",
       " [tensor([[ 6.1065e-04,  0.0000e+00, -1.6383e-03,  0.0000e+00],\n",
       "          [-5.9953e-04,  0.0000e+00,  2.1006e-05,  0.0000e+00],\n",
       "          [-1.1116e-05,  0.0000e+00, -9.8944e-06,  0.0000e+00]])],\n",
       " [tensor([[ 6.1065e-04,  0.0000e+00, -1.6383e-03,  0.0000e+00],\n",
       "          [-5.9953e-04,  0.0000e+00,  2.1006e-05,  0.0000e+00],\n",
       "          [-1.1116e-05,  0.0000e+00, -9.8944e-06,  0.0000e+00]])],\n",
       " [tensor([[ 6.1065e-04,  0.0000e+00, -1.6383e-03,  0.0000e+00],\n",
       "          [-5.9953e-04,  0.0000e+00,  2.1006e-05,  0.0000e+00],\n",
       "          [-1.1116e-05,  0.0000e+00, -9.8944e-06,  0.0000e+00]])],\n",
       " [tensor([[ 6.1065e-04,  0.0000e+00, -1.6383e-03,  0.0000e+00],\n",
       "          [-5.9953e-04,  0.0000e+00,  2.1006e-05,  0.0000e+00],\n",
       "          [-1.1116e-05,  0.0000e+00, -9.8944e-06,  0.0000e+00]])],\n",
       " [tensor([[ 6.1065e-04,  0.0000e+00, -1.6383e-03,  0.0000e+00],\n",
       "          [-5.9953e-04,  0.0000e+00,  2.1006e-05,  0.0000e+00],\n",
       "          [-1.1116e-05,  0.0000e+00, -9.8944e-06,  0.0000e+00]])],\n",
       " [tensor([[ 6.1065e-04,  0.0000e+00, -1.6383e-03,  0.0000e+00],\n",
       "          [-5.9953e-04,  0.0000e+00,  2.1006e-05,  0.0000e+00],\n",
       "          [-1.1116e-05,  0.0000e+00, -9.8944e-06,  0.0000e+00]])],\n",
       " [tensor([[ 6.1065e-04,  0.0000e+00, -1.6383e-03,  0.0000e+00],\n",
       "          [-5.9953e-04,  0.0000e+00,  2.1006e-05,  0.0000e+00],\n",
       "          [-1.1116e-05,  0.0000e+00, -9.8944e-06,  0.0000e+00]])],\n",
       " [tensor([[ 6.1065e-04,  0.0000e+00, -1.6383e-03,  0.0000e+00],\n",
       "          [-5.9953e-04,  0.0000e+00,  2.1006e-05,  0.0000e+00],\n",
       "          [-1.1116e-05,  0.0000e+00, -9.8944e-06,  0.0000e+00]])],\n",
       " [tensor([[ 6.1065e-04,  0.0000e+00, -1.6383e-03,  0.0000e+00],\n",
       "          [-5.9953e-04,  0.0000e+00,  2.1006e-05,  0.0000e+00],\n",
       "          [-1.1116e-05,  0.0000e+00, -9.8944e-06,  0.0000e+00]])],\n",
       " [tensor([[ 6.1065e-04,  0.0000e+00, -1.6383e-03,  0.0000e+00],\n",
       "          [-5.9953e-04,  0.0000e+00,  2.1006e-05,  0.0000e+00],\n",
       "          [-1.1116e-05,  0.0000e+00, -9.8944e-06,  0.0000e+00]])],\n",
       " [tensor([[ 6.1065e-04,  0.0000e+00, -1.6383e-03,  0.0000e+00],\n",
       "          [-5.9953e-04,  0.0000e+00,  2.1006e-05,  0.0000e+00],\n",
       "          [-1.1116e-05,  0.0000e+00, -9.8944e-06,  0.0000e+00]])],\n",
       " [tensor([[ 6.1065e-04,  0.0000e+00, -1.6383e-03,  0.0000e+00],\n",
       "          [-5.9953e-04,  0.0000e+00,  2.1006e-05,  0.0000e+00],\n",
       "          [-1.1116e-05,  0.0000e+00, -9.8944e-06,  0.0000e+00]])],\n",
       " [tensor([[ 6.1065e-04,  0.0000e+00, -1.6383e-03,  0.0000e+00],\n",
       "          [-5.9953e-04,  0.0000e+00,  2.1006e-05,  0.0000e+00],\n",
       "          [-1.1116e-05,  0.0000e+00, -9.8944e-06,  0.0000e+00]])],\n",
       " [tensor([[ 6.1065e-04,  0.0000e+00, -1.6383e-03,  0.0000e+00],\n",
       "          [-5.9953e-04,  0.0000e+00,  2.1006e-05,  0.0000e+00],\n",
       "          [-1.1116e-05,  0.0000e+00, -9.8944e-06,  0.0000e+00]])],\n",
       " [tensor([[ 6.1065e-04,  0.0000e+00, -1.6383e-03,  0.0000e+00],\n",
       "          [-5.9953e-04,  0.0000e+00,  2.1006e-05,  0.0000e+00],\n",
       "          [-1.1116e-05,  0.0000e+00, -9.8944e-06,  0.0000e+00]])],\n",
       " [tensor([[ 6.1065e-04,  0.0000e+00, -1.6383e-03,  0.0000e+00],\n",
       "          [-5.9953e-04,  0.0000e+00,  2.1006e-05,  0.0000e+00],\n",
       "          [-1.1116e-05,  0.0000e+00, -9.8944e-06,  0.0000e+00]])],\n",
       " [tensor([[ 6.1065e-04,  0.0000e+00, -1.6383e-03,  0.0000e+00],\n",
       "          [-5.9953e-04,  0.0000e+00,  2.1006e-05,  0.0000e+00],\n",
       "          [-1.1116e-05,  0.0000e+00, -9.8944e-06,  0.0000e+00]])],\n",
       " [tensor([[ 6.1065e-04,  0.0000e+00, -1.6383e-03,  0.0000e+00],\n",
       "          [-5.9953e-04,  0.0000e+00,  2.1006e-05,  0.0000e+00],\n",
       "          [-1.1116e-05,  0.0000e+00, -9.8944e-06,  0.0000e+00]])],\n",
       " [tensor([[ 6.1065e-04,  0.0000e+00, -1.6383e-03,  0.0000e+00],\n",
       "          [-5.9953e-04,  0.0000e+00,  2.1006e-05,  0.0000e+00],\n",
       "          [-1.1116e-05,  0.0000e+00, -9.8944e-06,  0.0000e+00]])],\n",
       " [tensor([[ 6.1065e-04,  0.0000e+00, -1.6383e-03,  0.0000e+00],\n",
       "          [-5.9953e-04,  0.0000e+00,  2.1006e-05,  0.0000e+00],\n",
       "          [-1.1116e-05,  0.0000e+00, -9.8944e-06,  0.0000e+00]])],\n",
       " [tensor([[ 6.1065e-04,  0.0000e+00, -1.6383e-03,  0.0000e+00],\n",
       "          [-5.9953e-04,  0.0000e+00,  2.1006e-05,  0.0000e+00],\n",
       "          [-1.1116e-05,  0.0000e+00, -9.8944e-06,  0.0000e+00]])],\n",
       " [tensor([[ 6.1065e-04,  0.0000e+00, -1.6383e-03,  0.0000e+00],\n",
       "          [-5.9953e-04,  0.0000e+00,  2.1006e-05,  0.0000e+00],\n",
       "          [-1.1116e-05,  0.0000e+00, -9.8944e-06,  0.0000e+00]])],\n",
       " [tensor([[ 6.1065e-04,  0.0000e+00, -1.6383e-03,  0.0000e+00],\n",
       "          [-5.9953e-04,  0.0000e+00,  2.1006e-05,  0.0000e+00],\n",
       "          [-1.1116e-05,  0.0000e+00, -9.8944e-06,  0.0000e+00]])],\n",
       " [tensor([[ 6.1065e-04,  0.0000e+00, -1.6383e-03,  0.0000e+00],\n",
       "          [-5.9953e-04,  0.0000e+00,  2.1006e-05,  0.0000e+00],\n",
       "          [-1.1116e-05,  0.0000e+00, -9.8944e-06,  0.0000e+00]])],\n",
       " [tensor([[ 6.1065e-04,  0.0000e+00, -1.6383e-03,  0.0000e+00],\n",
       "          [-5.9953e-04,  0.0000e+00,  2.1006e-05,  0.0000e+00],\n",
       "          [-1.1116e-05,  0.0000e+00, -9.8944e-06,  0.0000e+00]])],\n",
       " [tensor([[ 6.1065e-04,  0.0000e+00, -1.6383e-03,  0.0000e+00],\n",
       "          [-5.9953e-04,  0.0000e+00,  2.1006e-05,  0.0000e+00],\n",
       "          [-1.1116e-05,  0.0000e+00, -9.8944e-06,  0.0000e+00]])],\n",
       " [tensor([[ 6.1065e-04,  0.0000e+00, -1.6383e-03,  0.0000e+00],\n",
       "          [-5.9953e-04,  0.0000e+00,  2.1006e-05,  0.0000e+00],\n",
       "          [-1.1116e-05,  0.0000e+00, -9.8944e-06,  0.0000e+00]])],\n",
       " [tensor([[ 6.1065e-04,  0.0000e+00, -1.6383e-03,  0.0000e+00],\n",
       "          [-5.9953e-04,  0.0000e+00,  2.1006e-05,  0.0000e+00],\n",
       "          [-1.1116e-05,  0.0000e+00, -9.8944e-06,  0.0000e+00]])],\n",
       " [tensor([[ 6.1065e-04,  0.0000e+00, -1.6383e-03,  0.0000e+00],\n",
       "          [-5.9953e-04,  0.0000e+00,  2.1006e-05,  0.0000e+00],\n",
       "          [-1.1116e-05,  0.0000e+00, -9.8944e-06,  0.0000e+00]])],\n",
       " [tensor([[ 6.1065e-04,  0.0000e+00, -1.6383e-03,  0.0000e+00],\n",
       "          [-5.9953e-04,  0.0000e+00,  2.1006e-05,  0.0000e+00],\n",
       "          [-1.1116e-05,  0.0000e+00, -9.8944e-06,  0.0000e+00]])],\n",
       " [tensor([[ 6.1065e-04,  0.0000e+00, -1.6383e-03,  0.0000e+00],\n",
       "          [-5.9953e-04,  0.0000e+00,  2.1006e-05,  0.0000e+00],\n",
       "          [-1.1116e-05,  0.0000e+00, -9.8944e-06,  0.0000e+00]])],\n",
       " [tensor([[ 6.1065e-04,  0.0000e+00, -1.6383e-03,  0.0000e+00],\n",
       "          [-5.9953e-04,  0.0000e+00,  2.1006e-05,  0.0000e+00],\n",
       "          [-1.1116e-05,  0.0000e+00, -9.8944e-06,  0.0000e+00]])],\n",
       " [tensor([[ 6.1065e-04,  0.0000e+00, -1.6383e-03,  0.0000e+00],\n",
       "          [-5.9953e-04,  0.0000e+00,  2.1006e-05,  0.0000e+00],\n",
       "          [-1.1116e-05,  0.0000e+00, -9.8944e-06,  0.0000e+00]])],\n",
       " [tensor([[ 6.1065e-04,  0.0000e+00, -1.6383e-03,  0.0000e+00],\n",
       "          [-5.9953e-04,  0.0000e+00,  2.1006e-05,  0.0000e+00],\n",
       "          [-1.1116e-05,  0.0000e+00, -9.8944e-06,  0.0000e+00]])],\n",
       " [tensor([[ 6.1065e-04,  0.0000e+00, -1.6383e-03,  0.0000e+00],\n",
       "          [-5.9953e-04,  0.0000e+00,  2.1006e-05,  0.0000e+00],\n",
       "          [-1.1116e-05,  0.0000e+00, -9.8944e-06,  0.0000e+00]])],\n",
       " [tensor([[ 6.1065e-04,  0.0000e+00, -1.6383e-03,  0.0000e+00],\n",
       "          [-5.9953e-04,  0.0000e+00,  2.1006e-05,  0.0000e+00],\n",
       "          [-1.1116e-05,  0.0000e+00, -9.8944e-06,  0.0000e+00]])],\n",
       " [tensor([[ 6.1065e-04,  0.0000e+00, -1.6383e-03,  0.0000e+00],\n",
       "          [-5.9953e-04,  0.0000e+00,  2.1006e-05,  0.0000e+00],\n",
       "          [-1.1116e-05,  0.0000e+00, -9.8944e-06,  0.0000e+00]])],\n",
       " [tensor([[ 6.1065e-04,  0.0000e+00, -1.6383e-03,  0.0000e+00],\n",
       "          [-5.9953e-04,  0.0000e+00,  2.1006e-05,  0.0000e+00],\n",
       "          [-1.1116e-05,  0.0000e+00, -9.8944e-06,  0.0000e+00]])],\n",
       " [tensor([[ 6.1065e-04,  0.0000e+00, -1.6383e-03,  0.0000e+00],\n",
       "          [-5.9953e-04,  0.0000e+00,  2.1006e-05,  0.0000e+00],\n",
       "          [-1.1116e-05,  0.0000e+00, -9.8944e-06,  0.0000e+00]])],\n",
       " [tensor([[ 6.1065e-04,  0.0000e+00, -1.6383e-03,  0.0000e+00],\n",
       "          [-5.9953e-04,  0.0000e+00,  2.1006e-05,  0.0000e+00],\n",
       "          [-1.1116e-05,  0.0000e+00, -9.8944e-06,  0.0000e+00]])],\n",
       " [tensor([[ 6.1065e-04,  0.0000e+00, -1.6383e-03,  0.0000e+00],\n",
       "          [-5.9953e-04,  0.0000e+00,  2.1006e-05,  0.0000e+00],\n",
       "          [-1.1116e-05,  0.0000e+00, -9.8944e-06,  0.0000e+00]])],\n",
       " [tensor([[ 6.1065e-04,  0.0000e+00, -1.6383e-03,  0.0000e+00],\n",
       "          [-5.9953e-04,  0.0000e+00,  2.1006e-05,  0.0000e+00],\n",
       "          [-1.1116e-05,  0.0000e+00, -9.8944e-06,  0.0000e+00]])],\n",
       " [tensor([[ 6.1065e-04,  0.0000e+00, -1.6383e-03,  0.0000e+00],\n",
       "          [-5.9953e-04,  0.0000e+00,  2.1006e-05,  0.0000e+00],\n",
       "          [-1.1116e-05,  0.0000e+00, -9.8944e-06,  0.0000e+00]])],\n",
       " [tensor([[ 6.1065e-04,  0.0000e+00, -1.6383e-03,  0.0000e+00],\n",
       "          [-5.9953e-04,  0.0000e+00,  2.1006e-05,  0.0000e+00],\n",
       "          [-1.1116e-05,  0.0000e+00, -9.8944e-06,  0.0000e+00]])],\n",
       " [tensor([[ 6.1065e-04,  0.0000e+00, -1.6383e-03,  0.0000e+00],\n",
       "          [-5.9953e-04,  0.0000e+00,  2.1006e-05,  0.0000e+00],\n",
       "          [-1.1116e-05,  0.0000e+00, -9.8944e-06,  0.0000e+00]])],\n",
       " [tensor([[ 6.1065e-04,  0.0000e+00, -1.6383e-03,  0.0000e+00],\n",
       "          [-5.9953e-04,  0.0000e+00,  2.1006e-05,  0.0000e+00],\n",
       "          [-1.1116e-05,  0.0000e+00, -9.8944e-06,  0.0000e+00]])],\n",
       " [tensor([[ 6.1065e-04,  0.0000e+00, -1.6383e-03,  0.0000e+00],\n",
       "          [-5.9953e-04,  0.0000e+00,  2.1006e-05,  0.0000e+00],\n",
       "          [-1.1116e-05,  0.0000e+00, -9.8944e-06,  0.0000e+00]])],\n",
       " [tensor([[ 6.1065e-04,  0.0000e+00, -1.6383e-03,  0.0000e+00],\n",
       "          [-5.9953e-04,  0.0000e+00,  2.1006e-05,  0.0000e+00],\n",
       "          [-1.1116e-05,  0.0000e+00, -9.8944e-06,  0.0000e+00]])],\n",
       " [tensor([[ 6.1065e-04,  0.0000e+00, -1.6383e-03,  0.0000e+00],\n",
       "          [-5.9953e-04,  0.0000e+00,  2.1006e-05,  0.0000e+00],\n",
       "          [-1.1116e-05,  0.0000e+00, -9.8944e-06,  0.0000e+00]])],\n",
       " [tensor([[ 6.1065e-04,  0.0000e+00, -1.6383e-03,  0.0000e+00],\n",
       "          [-5.9953e-04,  0.0000e+00,  2.1006e-05,  0.0000e+00],\n",
       "          [-1.1116e-05,  0.0000e+00, -9.8944e-06,  0.0000e+00]])],\n",
       " [tensor([[ 6.1065e-04,  0.0000e+00, -1.6383e-03,  0.0000e+00],\n",
       "          [-5.9953e-04,  0.0000e+00,  2.1006e-05,  0.0000e+00],\n",
       "          [-1.1116e-05,  0.0000e+00, -9.8944e-06,  0.0000e+00]])],\n",
       " [tensor([[ 6.1065e-04,  0.0000e+00, -1.6383e-03,  0.0000e+00],\n",
       "          [-5.9953e-04,  0.0000e+00,  2.1006e-05,  0.0000e+00],\n",
       "          [-1.1116e-05,  0.0000e+00, -9.8944e-06,  0.0000e+00]])],\n",
       " [tensor([[ 6.1065e-04,  0.0000e+00, -1.6383e-03,  0.0000e+00],\n",
       "          [-5.9953e-04,  0.0000e+00,  2.1006e-05,  0.0000e+00],\n",
       "          [-1.1116e-05,  0.0000e+00, -9.8944e-06,  0.0000e+00]])],\n",
       " [tensor([[ 6.1065e-04,  0.0000e+00, -1.6383e-03,  0.0000e+00],\n",
       "          [-5.9953e-04,  0.0000e+00,  2.1006e-05,  0.0000e+00],\n",
       "          [-1.1116e-05,  0.0000e+00, -9.8944e-06,  0.0000e+00]])],\n",
       " [tensor([[ 6.1065e-04,  0.0000e+00, -1.6383e-03,  0.0000e+00],\n",
       "          [-5.9953e-04,  0.0000e+00,  2.1006e-05,  0.0000e+00],\n",
       "          [-1.1116e-05,  0.0000e+00, -9.8944e-06,  0.0000e+00]])],\n",
       " [tensor([[ 6.1065e-04,  0.0000e+00, -1.6383e-03,  0.0000e+00],\n",
       "          [-5.9953e-04,  0.0000e+00,  2.1006e-05,  0.0000e+00],\n",
       "          [-1.1116e-05,  0.0000e+00, -9.8944e-06,  0.0000e+00]])],\n",
       " [tensor([[ 6.1065e-04,  0.0000e+00, -1.6383e-03,  0.0000e+00],\n",
       "          [-5.9953e-04,  0.0000e+00,  2.1006e-05,  0.0000e+00],\n",
       "          [-1.1116e-05,  0.0000e+00, -9.8944e-06,  0.0000e+00]])],\n",
       " [tensor([[ 6.1065e-04,  0.0000e+00, -1.6383e-03,  0.0000e+00],\n",
       "          [-5.9953e-04,  0.0000e+00,  2.1006e-05,  0.0000e+00],\n",
       "          [-1.1116e-05,  0.0000e+00, -9.8944e-06,  0.0000e+00]])],\n",
       " [tensor([[ 6.1065e-04,  0.0000e+00, -1.6383e-03,  0.0000e+00],\n",
       "          [-5.9953e-04,  0.0000e+00,  2.1006e-05,  0.0000e+00],\n",
       "          [-1.1116e-05,  0.0000e+00, -9.8944e-06,  0.0000e+00]])],\n",
       " [tensor([[ 6.1065e-04,  0.0000e+00, -1.6383e-03,  0.0000e+00],\n",
       "          [-5.9953e-04,  0.0000e+00,  2.1006e-05,  0.0000e+00],\n",
       "          [-1.1116e-05,  0.0000e+00, -9.8944e-06,  0.0000e+00]])],\n",
       " [tensor([[ 6.1065e-04,  0.0000e+00, -1.6383e-03,  0.0000e+00],\n",
       "          [-5.9953e-04,  0.0000e+00,  2.1006e-05,  0.0000e+00],\n",
       "          [-1.1116e-05,  0.0000e+00, -9.8944e-06,  0.0000e+00]])],\n",
       " [tensor([[ 6.1065e-04,  0.0000e+00, -1.6383e-03,  0.0000e+00],\n",
       "          [-5.9953e-04,  0.0000e+00,  2.1006e-05,  0.0000e+00],\n",
       "          [-1.1116e-05,  0.0000e+00, -9.8944e-06,  0.0000e+00]])],\n",
       " [tensor([[ 6.1065e-04,  0.0000e+00, -1.6383e-03,  0.0000e+00],\n",
       "          [-5.9953e-04,  0.0000e+00,  2.1006e-05,  0.0000e+00],\n",
       "          [-1.1116e-05,  0.0000e+00, -9.8944e-06,  0.0000e+00]])],\n",
       " [tensor([[ 6.1065e-04,  0.0000e+00, -1.6383e-03,  0.0000e+00],\n",
       "          [-5.9953e-04,  0.0000e+00,  2.1006e-05,  0.0000e+00],\n",
       "          [-1.1116e-05,  0.0000e+00, -9.8944e-06,  0.0000e+00]])],\n",
       " [tensor([[ 6.1065e-04,  0.0000e+00, -1.6383e-03,  0.0000e+00],\n",
       "          [-5.9953e-04,  0.0000e+00,  2.1006e-05,  0.0000e+00],\n",
       "          [-1.1116e-05,  0.0000e+00, -9.8944e-06,  0.0000e+00]])],\n",
       " [tensor([[ 6.1065e-04,  0.0000e+00, -1.6383e-03,  0.0000e+00],\n",
       "          [-5.9953e-04,  0.0000e+00,  2.1006e-05,  0.0000e+00],\n",
       "          [-1.1116e-05,  0.0000e+00, -9.8944e-06,  0.0000e+00]])],\n",
       " [tensor([[ 6.1065e-04,  0.0000e+00, -1.6383e-03,  0.0000e+00],\n",
       "          [-5.9953e-04,  0.0000e+00,  2.1006e-05,  0.0000e+00],\n",
       "          [-1.1116e-05,  0.0000e+00, -9.8944e-06,  0.0000e+00]])],\n",
       " [tensor([[ 6.1065e-04,  0.0000e+00, -1.6383e-03,  0.0000e+00],\n",
       "          [-5.9953e-04,  0.0000e+00,  2.1006e-05,  0.0000e+00],\n",
       "          [-1.1116e-05,  0.0000e+00, -9.8944e-06,  0.0000e+00]])],\n",
       " [tensor([[ 6.1065e-04,  0.0000e+00, -1.6383e-03,  0.0000e+00],\n",
       "          [-5.9953e-04,  0.0000e+00,  2.1006e-05,  0.0000e+00],\n",
       "          [-1.1116e-05,  0.0000e+00, -9.8944e-06,  0.0000e+00]])],\n",
       " [tensor([[ 6.1065e-04,  0.0000e+00, -1.6383e-03,  0.0000e+00],\n",
       "          [-5.9953e-04,  0.0000e+00,  2.1006e-05,  0.0000e+00],\n",
       "          [-1.1116e-05,  0.0000e+00, -9.8944e-06,  0.0000e+00]])],\n",
       " [tensor([[ 6.1065e-04,  0.0000e+00, -1.6383e-03,  0.0000e+00],\n",
       "          [-5.9953e-04,  0.0000e+00,  2.1006e-05,  0.0000e+00],\n",
       "          [-1.1116e-05,  0.0000e+00, -9.8944e-06,  0.0000e+00]])],\n",
       " [tensor([[ 6.1065e-04,  0.0000e+00, -1.6383e-03,  0.0000e+00],\n",
       "          [-5.9953e-04,  0.0000e+00,  2.1006e-05,  0.0000e+00],\n",
       "          [-1.1116e-05,  0.0000e+00, -9.8944e-06,  0.0000e+00]])],\n",
       " [tensor([[ 6.1065e-04,  0.0000e+00, -1.6383e-03,  0.0000e+00],\n",
       "          [-5.9953e-04,  0.0000e+00,  2.1006e-05,  0.0000e+00],\n",
       "          [-1.1116e-05,  0.0000e+00, -9.8944e-06,  0.0000e+00]])],\n",
       " [tensor([[ 6.1065e-04,  0.0000e+00, -1.6383e-03,  0.0000e+00],\n",
       "          [-5.9953e-04,  0.0000e+00,  2.1006e-05,  0.0000e+00],\n",
       "          [-1.1116e-05,  0.0000e+00, -9.8944e-06,  0.0000e+00]])],\n",
       " [tensor([[ 6.1065e-04,  0.0000e+00, -1.6383e-03,  0.0000e+00],\n",
       "          [-5.9953e-04,  0.0000e+00,  2.1006e-05,  0.0000e+00],\n",
       "          [-1.1116e-05,  0.0000e+00, -9.8944e-06,  0.0000e+00]])],\n",
       " [tensor([[ 6.1065e-04,  0.0000e+00, -1.6383e-03,  0.0000e+00],\n",
       "          [-5.9953e-04,  0.0000e+00,  2.1006e-05,  0.0000e+00],\n",
       "          [-1.1116e-05,  0.0000e+00, -9.8944e-06,  0.0000e+00]])],\n",
       " [tensor([[ 6.1065e-04,  0.0000e+00, -1.6383e-03,  0.0000e+00],\n",
       "          [-5.9953e-04,  0.0000e+00,  2.1006e-05,  0.0000e+00],\n",
       "          [-1.1116e-05,  0.0000e+00, -9.8944e-06,  0.0000e+00]])],\n",
       " [tensor([[ 6.1065e-04,  0.0000e+00, -1.6383e-03,  0.0000e+00],\n",
       "          [-5.9953e-04,  0.0000e+00,  2.1006e-05,  0.0000e+00],\n",
       "          [-1.1116e-05,  0.0000e+00, -9.8944e-06,  0.0000e+00]])],\n",
       " [tensor([[ 6.1065e-04,  0.0000e+00, -1.6383e-03,  0.0000e+00],\n",
       "          [-5.9953e-04,  0.0000e+00,  2.1006e-05,  0.0000e+00],\n",
       "          [-1.1116e-05,  0.0000e+00, -9.8944e-06,  0.0000e+00]])],\n",
       " [tensor([[ 6.1065e-04,  0.0000e+00, -1.6383e-03,  0.0000e+00],\n",
       "          [-5.9953e-04,  0.0000e+00,  2.1006e-05,  0.0000e+00],\n",
       "          [-1.1116e-05,  0.0000e+00, -9.8944e-06,  0.0000e+00]])],\n",
       " [tensor([[ 6.1065e-04,  0.0000e+00, -1.6383e-03,  0.0000e+00],\n",
       "          [-5.9953e-04,  0.0000e+00,  2.1006e-05,  0.0000e+00],\n",
       "          [-1.1116e-05,  0.0000e+00, -9.8944e-06,  0.0000e+00]])],\n",
       " [tensor([[ 6.1065e-04,  0.0000e+00, -1.6383e-03,  0.0000e+00],\n",
       "          [-5.9953e-04,  0.0000e+00,  2.1006e-05,  0.0000e+00],\n",
       "          [-1.1116e-05,  0.0000e+00, -9.8944e-06,  0.0000e+00]])],\n",
       " [tensor([[ 6.1065e-04,  0.0000e+00, -1.6383e-03,  0.0000e+00],\n",
       "          [-5.9953e-04,  0.0000e+00,  2.1006e-05,  0.0000e+00],\n",
       "          [-1.1116e-05,  0.0000e+00, -9.8944e-06,  0.0000e+00]])],\n",
       " [tensor([[ 6.1065e-04,  0.0000e+00, -1.6383e-03,  0.0000e+00],\n",
       "          [-5.9953e-04,  0.0000e+00,  2.1006e-05,  0.0000e+00],\n",
       "          [-1.1116e-05,  0.0000e+00, -9.8944e-06,  0.0000e+00]])],\n",
       " [tensor([[ 6.1065e-04,  0.0000e+00, -1.6383e-03,  0.0000e+00],\n",
       "          [-5.9953e-04,  0.0000e+00,  2.1006e-05,  0.0000e+00],\n",
       "          [-1.1116e-05,  0.0000e+00, -9.8944e-06,  0.0000e+00]])],\n",
       " [tensor([[ 6.1065e-04,  0.0000e+00, -1.6383e-03,  0.0000e+00],\n",
       "          [-5.9953e-04,  0.0000e+00,  2.1006e-05,  0.0000e+00],\n",
       "          [-1.1116e-05,  0.0000e+00, -9.8944e-06,  0.0000e+00]])],\n",
       " [tensor([[ 6.1065e-04,  0.0000e+00, -1.6383e-03,  0.0000e+00],\n",
       "          [-5.9953e-04,  0.0000e+00,  2.1006e-05,  0.0000e+00],\n",
       "          [-1.1116e-05,  0.0000e+00, -9.8944e-06,  0.0000e+00]])],\n",
       " [tensor([[ 6.1065e-04,  0.0000e+00, -1.6383e-03,  0.0000e+00],\n",
       "          [-5.9953e-04,  0.0000e+00,  2.1006e-05,  0.0000e+00],\n",
       "          [-1.1116e-05,  0.0000e+00, -9.8944e-06,  0.0000e+00]])],\n",
       " [tensor([[ 6.1065e-04,  0.0000e+00, -1.6383e-03,  0.0000e+00],\n",
       "          [-5.9953e-04,  0.0000e+00,  2.1006e-05,  0.0000e+00],\n",
       "          [-1.1116e-05,  0.0000e+00, -9.8944e-06,  0.0000e+00]])],\n",
       " [tensor([[ 6.1065e-04,  0.0000e+00, -1.6383e-03,  0.0000e+00],\n",
       "          [-5.9953e-04,  0.0000e+00,  2.1006e-05,  0.0000e+00],\n",
       "          [-1.1116e-05,  0.0000e+00, -9.8944e-06,  0.0000e+00]])],\n",
       " [tensor([[ 6.1065e-04,  0.0000e+00, -1.6383e-03,  0.0000e+00],\n",
       "          [-5.9953e-04,  0.0000e+00,  2.1006e-05,  0.0000e+00],\n",
       "          [-1.1116e-05,  0.0000e+00, -9.8944e-06,  0.0000e+00]])],\n",
       " [tensor([[ 6.1065e-04,  0.0000e+00, -1.6383e-03,  0.0000e+00],\n",
       "          [-5.9953e-04,  0.0000e+00,  2.1006e-05,  0.0000e+00],\n",
       "          [-1.1116e-05,  0.0000e+00, -9.8944e-06,  0.0000e+00]])],\n",
       " [tensor([[ 6.1065e-04,  0.0000e+00, -1.6383e-03,  0.0000e+00],\n",
       "          [-5.9953e-04,  0.0000e+00,  2.1006e-05,  0.0000e+00],\n",
       "          [-1.1116e-05,  0.0000e+00, -9.8944e-06,  0.0000e+00]])],\n",
       " [tensor([[ 6.1065e-04,  0.0000e+00, -1.6383e-03,  0.0000e+00],\n",
       "          [-5.9953e-04,  0.0000e+00,  2.1006e-05,  0.0000e+00],\n",
       "          [-1.1116e-05,  0.0000e+00, -9.8944e-06,  0.0000e+00]])],\n",
       " [tensor([[ 6.1065e-04,  0.0000e+00, -1.6383e-03,  0.0000e+00],\n",
       "          [-5.9953e-04,  0.0000e+00,  2.1006e-05,  0.0000e+00],\n",
       "          [-1.1116e-05,  0.0000e+00, -9.8944e-06,  0.0000e+00]])],\n",
       " [tensor([[ 6.1065e-04,  0.0000e+00, -1.6383e-03,  0.0000e+00],\n",
       "          [-5.9953e-04,  0.0000e+00,  2.1006e-05,  0.0000e+00],\n",
       "          [-1.1116e-05,  0.0000e+00, -9.8944e-06,  0.0000e+00]])],\n",
       " [tensor([[ 6.1065e-04,  0.0000e+00, -1.6383e-03,  0.0000e+00],\n",
       "          [-5.9953e-04,  0.0000e+00,  2.1006e-05,  0.0000e+00],\n",
       "          [-1.1116e-05,  0.0000e+00, -9.8944e-06,  0.0000e+00]])],\n",
       " [tensor([[ 6.1065e-04,  0.0000e+00, -1.6383e-03,  0.0000e+00],\n",
       "          [-5.9953e-04,  0.0000e+00,  2.1006e-05,  0.0000e+00],\n",
       "          [-1.1116e-05,  0.0000e+00, -9.8944e-06,  0.0000e+00]])],\n",
       " [tensor([[ 6.1065e-04,  0.0000e+00, -1.6383e-03,  0.0000e+00],\n",
       "          [-5.9953e-04,  0.0000e+00,  2.1006e-05,  0.0000e+00],\n",
       "          [-1.1116e-05,  0.0000e+00, -9.8944e-06,  0.0000e+00]])],\n",
       " [tensor([[ 6.1065e-04,  0.0000e+00, -1.6383e-03,  0.0000e+00],\n",
       "          [-5.9953e-04,  0.0000e+00,  2.1006e-05,  0.0000e+00],\n",
       "          [-1.1116e-05,  0.0000e+00, -9.8944e-06,  0.0000e+00]])],\n",
       " [tensor([[ 6.1065e-04,  0.0000e+00, -1.6383e-03,  0.0000e+00],\n",
       "          [-5.9953e-04,  0.0000e+00,  2.1006e-05,  0.0000e+00],\n",
       "          [-1.1116e-05,  0.0000e+00, -9.8944e-06,  0.0000e+00]])],\n",
       " [tensor([[ 6.1065e-04,  0.0000e+00, -1.6383e-03,  0.0000e+00],\n",
       "          [-5.9953e-04,  0.0000e+00,  2.1006e-05,  0.0000e+00],\n",
       "          [-1.1116e-05,  0.0000e+00, -9.8944e-06,  0.0000e+00]])],\n",
       " [tensor([[ 6.1065e-04,  0.0000e+00, -1.6383e-03,  0.0000e+00],\n",
       "          [-5.9953e-04,  0.0000e+00,  2.1006e-05,  0.0000e+00],\n",
       "          [-1.1116e-05,  0.0000e+00, -9.8944e-06,  0.0000e+00]])],\n",
       " [tensor([[ 6.1065e-04,  0.0000e+00, -1.6383e-03,  0.0000e+00],\n",
       "          [-5.9953e-04,  0.0000e+00,  2.1006e-05,  0.0000e+00],\n",
       "          [-1.1116e-05,  0.0000e+00, -9.8944e-06,  0.0000e+00]])],\n",
       " [tensor([[ 6.1065e-04,  0.0000e+00, -1.6383e-03,  0.0000e+00],\n",
       "          [-5.9953e-04,  0.0000e+00,  2.1006e-05,  0.0000e+00],\n",
       "          [-1.1116e-05,  0.0000e+00, -9.8944e-06,  0.0000e+00]])],\n",
       " [tensor([[ 6.1065e-04,  0.0000e+00, -1.6383e-03,  0.0000e+00],\n",
       "          [-5.9953e-04,  0.0000e+00,  2.1006e-05,  0.0000e+00],\n",
       "          [-1.1116e-05,  0.0000e+00, -9.8944e-06,  0.0000e+00]])],\n",
       " [tensor([[ 6.1065e-04,  0.0000e+00, -1.6383e-03,  0.0000e+00],\n",
       "          [-5.9953e-04,  0.0000e+00,  2.1006e-05,  0.0000e+00],\n",
       "          [-1.1116e-05,  0.0000e+00, -9.8944e-06,  0.0000e+00]])],\n",
       " [tensor([[ 6.1065e-04,  0.0000e+00, -1.6383e-03,  0.0000e+00],\n",
       "          [-5.9953e-04,  0.0000e+00,  2.1006e-05,  0.0000e+00],\n",
       "          [-1.1116e-05,  0.0000e+00, -9.8944e-06,  0.0000e+00]])],\n",
       " [tensor([[ 6.1065e-04,  0.0000e+00, -1.6383e-03,  0.0000e+00],\n",
       "          [-5.9953e-04,  0.0000e+00,  2.1006e-05,  0.0000e+00],\n",
       "          [-1.1116e-05,  0.0000e+00, -9.8944e-06,  0.0000e+00]])],\n",
       " [tensor([[ 6.1065e-04,  0.0000e+00, -1.6383e-03,  0.0000e+00],\n",
       "          [-5.9953e-04,  0.0000e+00,  2.1006e-05,  0.0000e+00],\n",
       "          [-1.1116e-05,  0.0000e+00, -9.8944e-06,  0.0000e+00]])],\n",
       " [tensor([[ 6.1065e-04,  0.0000e+00, -1.6383e-03,  0.0000e+00],\n",
       "          [-5.9953e-04,  0.0000e+00,  2.1006e-05,  0.0000e+00],\n",
       "          [-1.1116e-05,  0.0000e+00, -9.8944e-06,  0.0000e+00]])],\n",
       " [tensor([[ 6.1065e-04,  0.0000e+00, -1.6383e-03,  0.0000e+00],\n",
       "          [-5.9953e-04,  0.0000e+00,  2.1006e-05,  0.0000e+00],\n",
       "          [-1.1116e-05,  0.0000e+00, -9.8944e-06,  0.0000e+00]])],\n",
       " [tensor([[ 6.1065e-04,  0.0000e+00, -1.6383e-03,  0.0000e+00],\n",
       "          [-5.9953e-04,  0.0000e+00,  2.1006e-05,  0.0000e+00],\n",
       "          [-1.1116e-05,  0.0000e+00, -9.8944e-06,  0.0000e+00]])],\n",
       " [tensor([[ 6.1065e-04,  0.0000e+00, -1.6383e-03,  0.0000e+00],\n",
       "          [-5.9953e-04,  0.0000e+00,  2.1006e-05,  0.0000e+00],\n",
       "          [-1.1116e-05,  0.0000e+00, -9.8944e-06,  0.0000e+00]])],\n",
       " [tensor([[ 6.1065e-04,  0.0000e+00, -1.6383e-03,  0.0000e+00],\n",
       "          [-5.9953e-04,  0.0000e+00,  2.1006e-05,  0.0000e+00],\n",
       "          [-1.1116e-05,  0.0000e+00, -9.8944e-06,  0.0000e+00]])],\n",
       " [tensor([[ 6.1065e-04,  0.0000e+00, -1.6383e-03,  0.0000e+00],\n",
       "          [-5.9953e-04,  0.0000e+00,  2.1006e-05,  0.0000e+00],\n",
       "          [-1.1116e-05,  0.0000e+00, -9.8944e-06,  0.0000e+00]])],\n",
       " [tensor([[ 6.1065e-04,  0.0000e+00, -1.6383e-03,  0.0000e+00],\n",
       "          [-5.9953e-04,  0.0000e+00,  2.1006e-05,  0.0000e+00],\n",
       "          [-1.1116e-05,  0.0000e+00, -9.8944e-06,  0.0000e+00]])],\n",
       " [tensor([[ 6.1065e-04,  0.0000e+00, -1.6383e-03,  0.0000e+00],\n",
       "          [-5.9953e-04,  0.0000e+00,  2.1006e-05,  0.0000e+00],\n",
       "          [-1.1116e-05,  0.0000e+00, -9.8944e-06,  0.0000e+00]])],\n",
       " [tensor([[ 6.1065e-04,  0.0000e+00, -1.6383e-03,  0.0000e+00],\n",
       "          [-5.9953e-04,  0.0000e+00,  2.1006e-05,  0.0000e+00],\n",
       "          [-1.1116e-05,  0.0000e+00, -9.8944e-06,  0.0000e+00]])],\n",
       " [tensor([[ 6.1065e-04,  0.0000e+00, -1.6383e-03,  0.0000e+00],\n",
       "          [-5.9953e-04,  0.0000e+00,  2.1006e-05,  0.0000e+00],\n",
       "          [-1.1116e-05,  0.0000e+00, -9.8944e-06,  0.0000e+00]])],\n",
       " [tensor([[ 6.1065e-04,  0.0000e+00, -1.6383e-03,  0.0000e+00],\n",
       "          [-5.9953e-04,  0.0000e+00,  2.1006e-05,  0.0000e+00],\n",
       "          [-1.1116e-05,  0.0000e+00, -9.8944e-06,  0.0000e+00]])],\n",
       " [tensor([[ 6.1065e-04,  0.0000e+00, -1.6383e-03,  0.0000e+00],\n",
       "          [-5.9953e-04,  0.0000e+00,  2.1006e-05,  0.0000e+00],\n",
       "          [-1.1116e-05,  0.0000e+00, -9.8944e-06,  0.0000e+00]])],\n",
       " [tensor([[ 6.1065e-04,  0.0000e+00, -1.6383e-03,  0.0000e+00],\n",
       "          [-5.9953e-04,  0.0000e+00,  2.1006e-05,  0.0000e+00],\n",
       "          [-1.1116e-05,  0.0000e+00, -9.8944e-06,  0.0000e+00]])],\n",
       " [tensor([[ 6.1065e-04,  0.0000e+00, -1.6383e-03,  0.0000e+00],\n",
       "          [-5.9953e-04,  0.0000e+00,  2.1006e-05,  0.0000e+00],\n",
       "          [-1.1116e-05,  0.0000e+00, -9.8944e-06,  0.0000e+00]])],\n",
       " [tensor([[ 6.1065e-04,  0.0000e+00, -1.6383e-03,  0.0000e+00],\n",
       "          [-5.9953e-04,  0.0000e+00,  2.1006e-05,  0.0000e+00],\n",
       "          [-1.1116e-05,  0.0000e+00, -9.8944e-06,  0.0000e+00]])],\n",
       " [tensor([[ 6.1065e-04,  0.0000e+00, -1.6383e-03,  0.0000e+00],\n",
       "          [-5.9953e-04,  0.0000e+00,  2.1006e-05,  0.0000e+00],\n",
       "          [-1.1116e-05,  0.0000e+00, -9.8944e-06,  0.0000e+00]])],\n",
       " [tensor([[ 6.1065e-04,  0.0000e+00, -1.6383e-03,  0.0000e+00],\n",
       "          [-5.9953e-04,  0.0000e+00,  2.1006e-05,  0.0000e+00],\n",
       "          [-1.1116e-05,  0.0000e+00, -9.8944e-06,  0.0000e+00]])],\n",
       " [tensor([[ 6.1065e-04,  0.0000e+00, -1.6383e-03,  0.0000e+00],\n",
       "          [-5.9953e-04,  0.0000e+00,  2.1006e-05,  0.0000e+00],\n",
       "          [-1.1116e-05,  0.0000e+00, -9.8944e-06,  0.0000e+00]])],\n",
       " [tensor([[ 6.1065e-04,  0.0000e+00, -1.6383e-03,  0.0000e+00],\n",
       "          [-5.9953e-04,  0.0000e+00,  2.1006e-05,  0.0000e+00],\n",
       "          [-1.1116e-05,  0.0000e+00, -9.8944e-06,  0.0000e+00]])],\n",
       " [tensor([[ 6.1065e-04,  0.0000e+00, -1.6383e-03,  0.0000e+00],\n",
       "          [-5.9953e-04,  0.0000e+00,  2.1006e-05,  0.0000e+00],\n",
       "          [-1.1116e-05,  0.0000e+00, -9.8944e-06,  0.0000e+00]])],\n",
       " [tensor([[ 6.1065e-04,  0.0000e+00, -1.6383e-03,  0.0000e+00],\n",
       "          [-5.9953e-04,  0.0000e+00,  2.1006e-05,  0.0000e+00],\n",
       "          [-1.1116e-05,  0.0000e+00, -9.8944e-06,  0.0000e+00]])],\n",
       " [tensor([[ 6.1065e-04,  0.0000e+00, -1.6383e-03,  0.0000e+00],\n",
       "          [-5.9953e-04,  0.0000e+00,  2.1006e-05,  0.0000e+00],\n",
       "          [-1.1116e-05,  0.0000e+00, -9.8944e-06,  0.0000e+00]])],\n",
       " [tensor([[ 6.1065e-04,  0.0000e+00, -1.6383e-03,  0.0000e+00],\n",
       "          [-5.9953e-04,  0.0000e+00,  2.1006e-05,  0.0000e+00],\n",
       "          [-1.1116e-05,  0.0000e+00, -9.8944e-06,  0.0000e+00]])],\n",
       " [tensor([[ 6.1065e-04,  0.0000e+00, -1.6383e-03,  0.0000e+00],\n",
       "          [-5.9953e-04,  0.0000e+00,  2.1006e-05,  0.0000e+00],\n",
       "          [-1.1116e-05,  0.0000e+00, -9.8944e-06,  0.0000e+00]])],\n",
       " [tensor([[ 6.1065e-04,  0.0000e+00, -1.6383e-03,  0.0000e+00],\n",
       "          [-5.9953e-04,  0.0000e+00,  2.1006e-05,  0.0000e+00],\n",
       "          [-1.1116e-05,  0.0000e+00, -9.8944e-06,  0.0000e+00]])],\n",
       " [tensor([[ 6.1065e-04,  0.0000e+00, -1.6383e-03,  0.0000e+00],\n",
       "          [-5.9953e-04,  0.0000e+00,  2.1006e-05,  0.0000e+00],\n",
       "          [-1.1116e-05,  0.0000e+00, -9.8944e-06,  0.0000e+00]])],\n",
       " [tensor([[ 6.1065e-04,  0.0000e+00, -1.6383e-03,  0.0000e+00],\n",
       "          [-5.9953e-04,  0.0000e+00,  2.1006e-05,  0.0000e+00],\n",
       "          [-1.1116e-05,  0.0000e+00, -9.8944e-06,  0.0000e+00]])],\n",
       " [tensor([[ 6.1065e-04,  0.0000e+00, -1.6383e-03,  0.0000e+00],\n",
       "          [-5.9953e-04,  0.0000e+00,  2.1006e-05,  0.0000e+00],\n",
       "          [-1.1116e-05,  0.0000e+00, -9.8944e-06,  0.0000e+00]])],\n",
       " [tensor([[ 6.1065e-04,  0.0000e+00, -1.6383e-03,  0.0000e+00],\n",
       "          [-5.9953e-04,  0.0000e+00,  2.1006e-05,  0.0000e+00],\n",
       "          [-1.1116e-05,  0.0000e+00, -9.8944e-06,  0.0000e+00]])],\n",
       " [tensor([[ 6.1065e-04,  0.0000e+00, -1.6383e-03,  0.0000e+00],\n",
       "          [-5.9953e-04,  0.0000e+00,  2.1006e-05,  0.0000e+00],\n",
       "          [-1.1116e-05,  0.0000e+00, -9.8944e-06,  0.0000e+00]])],\n",
       " [tensor([[ 6.1065e-04,  0.0000e+00, -1.6383e-03,  0.0000e+00],\n",
       "          [-5.9953e-04,  0.0000e+00,  2.1006e-05,  0.0000e+00],\n",
       "          [-1.1116e-05,  0.0000e+00, -9.8944e-06,  0.0000e+00]])],\n",
       " [tensor([[ 6.1065e-04,  0.0000e+00, -1.6383e-03,  0.0000e+00],\n",
       "          [-5.9953e-04,  0.0000e+00,  2.1006e-05,  0.0000e+00],\n",
       "          [-1.1116e-05,  0.0000e+00, -9.8944e-06,  0.0000e+00]])],\n",
       " [tensor([[ 6.1065e-04,  0.0000e+00, -1.6383e-03,  0.0000e+00],\n",
       "          [-5.9953e-04,  0.0000e+00,  2.1006e-05,  0.0000e+00],\n",
       "          [-1.1116e-05,  0.0000e+00, -9.8944e-06,  0.0000e+00]])],\n",
       " [tensor([[ 6.1065e-04,  0.0000e+00, -1.6383e-03,  0.0000e+00],\n",
       "          [-5.9953e-04,  0.0000e+00,  2.1006e-05,  0.0000e+00],\n",
       "          [-1.1116e-05,  0.0000e+00, -9.8944e-06,  0.0000e+00]])],\n",
       " [tensor([[ 6.1065e-04,  0.0000e+00, -1.6383e-03,  0.0000e+00],\n",
       "          [-5.9953e-04,  0.0000e+00,  2.1006e-05,  0.0000e+00],\n",
       "          [-1.1116e-05,  0.0000e+00, -9.8944e-06,  0.0000e+00]])],\n",
       " [tensor([[ 6.1065e-04,  0.0000e+00, -1.6383e-03,  0.0000e+00],\n",
       "          [-5.9953e-04,  0.0000e+00,  2.1006e-05,  0.0000e+00],\n",
       "          [-1.1116e-05,  0.0000e+00, -9.8944e-06,  0.0000e+00]])],\n",
       " [tensor([[ 6.1065e-04,  0.0000e+00, -1.6383e-03,  0.0000e+00],\n",
       "          [-5.9953e-04,  0.0000e+00,  2.1006e-05,  0.0000e+00],\n",
       "          [-1.1116e-05,  0.0000e+00, -9.8944e-06,  0.0000e+00]])],\n",
       " [tensor([[ 6.1065e-04,  0.0000e+00, -1.6383e-03,  0.0000e+00],\n",
       "          [-5.9953e-04,  0.0000e+00,  2.1006e-05,  0.0000e+00],\n",
       "          [-1.1116e-05,  0.0000e+00, -9.8944e-06,  0.0000e+00]])],\n",
       " [tensor([[ 6.1065e-04,  0.0000e+00, -1.6383e-03,  0.0000e+00],\n",
       "          [-5.9953e-04,  0.0000e+00,  2.1006e-05,  0.0000e+00],\n",
       "          [-1.1116e-05,  0.0000e+00, -9.8944e-06,  0.0000e+00]])],\n",
       " [tensor([[ 6.1065e-04,  0.0000e+00, -1.6383e-03,  0.0000e+00],\n",
       "          [-5.9953e-04,  0.0000e+00,  2.1006e-05,  0.0000e+00],\n",
       "          [-1.1116e-05,  0.0000e+00, -9.8944e-06,  0.0000e+00]])],\n",
       " [tensor([[ 6.1065e-04,  0.0000e+00, -1.6383e-03,  0.0000e+00],\n",
       "          [-5.9953e-04,  0.0000e+00,  2.1006e-05,  0.0000e+00],\n",
       "          [-1.1116e-05,  0.0000e+00, -9.8944e-06,  0.0000e+00]])],\n",
       " [tensor([[ 6.1065e-04,  0.0000e+00, -1.6383e-03,  0.0000e+00],\n",
       "          [-5.9953e-04,  0.0000e+00,  2.1006e-05,  0.0000e+00],\n",
       "          [-1.1116e-05,  0.0000e+00, -9.8944e-06,  0.0000e+00]])],\n",
       " [tensor([[ 6.1065e-04,  0.0000e+00, -1.6383e-03,  0.0000e+00],\n",
       "          [-5.9953e-04,  0.0000e+00,  2.1006e-05,  0.0000e+00],\n",
       "          [-1.1116e-05,  0.0000e+00, -9.8944e-06,  0.0000e+00]])],\n",
       " [tensor([[ 6.1065e-04,  0.0000e+00, -1.6383e-03,  0.0000e+00],\n",
       "          [-5.9953e-04,  0.0000e+00,  2.1006e-05,  0.0000e+00],\n",
       "          [-1.1116e-05,  0.0000e+00, -9.8944e-06,  0.0000e+00]])],\n",
       " [tensor([[ 6.1065e-04,  0.0000e+00, -1.6383e-03,  0.0000e+00],\n",
       "          [-5.9953e-04,  0.0000e+00,  2.1006e-05,  0.0000e+00],\n",
       "          [-1.1116e-05,  0.0000e+00, -9.8944e-06,  0.0000e+00]])],\n",
       " [tensor([[ 6.1065e-04,  0.0000e+00, -1.6383e-03,  0.0000e+00],\n",
       "          [-5.9953e-04,  0.0000e+00,  2.1006e-05,  0.0000e+00],\n",
       "          [-1.1116e-05,  0.0000e+00, -9.8944e-06,  0.0000e+00]])],\n",
       " [tensor([[ 6.1065e-04,  0.0000e+00, -1.6383e-03,  0.0000e+00],\n",
       "          [-5.9953e-04,  0.0000e+00,  2.1006e-05,  0.0000e+00],\n",
       "          [-1.1116e-05,  0.0000e+00, -9.8944e-06,  0.0000e+00]])],\n",
       " [tensor([[ 6.1065e-04,  0.0000e+00, -1.6383e-03,  0.0000e+00],\n",
       "          [-5.9953e-04,  0.0000e+00,  2.1006e-05,  0.0000e+00],\n",
       "          [-1.1116e-05,  0.0000e+00, -9.8944e-06,  0.0000e+00]])],\n",
       " [tensor([[ 6.1065e-04,  0.0000e+00, -1.6383e-03,  0.0000e+00],\n",
       "          [-5.9953e-04,  0.0000e+00,  2.1006e-05,  0.0000e+00],\n",
       "          [-1.1116e-05,  0.0000e+00, -9.8944e-06,  0.0000e+00]])],\n",
       " [tensor([[ 6.1065e-04,  0.0000e+00, -1.6383e-03,  0.0000e+00],\n",
       "          [-5.9953e-04,  0.0000e+00,  2.1006e-05,  0.0000e+00],\n",
       "          [-1.1116e-05,  0.0000e+00, -9.8944e-06,  0.0000e+00]])],\n",
       " [tensor([[ 6.1065e-04,  0.0000e+00, -1.6383e-03,  0.0000e+00],\n",
       "          [-5.9953e-04,  0.0000e+00,  2.1006e-05,  0.0000e+00],\n",
       "          [-1.1116e-05,  0.0000e+00, -9.8944e-06,  0.0000e+00]])],\n",
       " [tensor([[ 6.1065e-04,  0.0000e+00, -1.6383e-03,  0.0000e+00],\n",
       "          [-5.9953e-04,  0.0000e+00,  2.1006e-05,  0.0000e+00],\n",
       "          [-1.1116e-05,  0.0000e+00, -9.8944e-06,  0.0000e+00]])],\n",
       " [tensor([[ 6.1065e-04,  0.0000e+00, -1.6383e-03,  0.0000e+00],\n",
       "          [-5.9953e-04,  0.0000e+00,  2.1006e-05,  0.0000e+00],\n",
       "          [-1.1116e-05,  0.0000e+00, -9.8944e-06,  0.0000e+00]])],\n",
       " [tensor([[ 6.1065e-04,  0.0000e+00, -1.6383e-03,  0.0000e+00],\n",
       "          [-5.9953e-04,  0.0000e+00,  2.1006e-05,  0.0000e+00],\n",
       "          [-1.1116e-05,  0.0000e+00, -9.8944e-06,  0.0000e+00]])],\n",
       " [tensor([[ 6.1065e-04,  0.0000e+00, -1.6383e-03,  0.0000e+00],\n",
       "          [-5.9953e-04,  0.0000e+00,  2.1006e-05,  0.0000e+00],\n",
       "          [-1.1116e-05,  0.0000e+00, -9.8944e-06,  0.0000e+00]])],\n",
       " [tensor([[ 6.1065e-04,  0.0000e+00, -1.6383e-03,  0.0000e+00],\n",
       "          [-5.9953e-04,  0.0000e+00,  2.1006e-05,  0.0000e+00],\n",
       "          [-1.1116e-05,  0.0000e+00, -9.8944e-06,  0.0000e+00]])],\n",
       " [tensor([[ 6.1065e-04,  0.0000e+00, -1.6383e-03,  0.0000e+00],\n",
       "          [-5.9953e-04,  0.0000e+00,  2.1006e-05,  0.0000e+00],\n",
       "          [-1.1116e-05,  0.0000e+00, -9.8944e-06,  0.0000e+00]])],\n",
       " [tensor([[ 6.1065e-04,  0.0000e+00, -1.6383e-03,  0.0000e+00],\n",
       "          [-5.9953e-04,  0.0000e+00,  2.1006e-05,  0.0000e+00],\n",
       "          [-1.1116e-05,  0.0000e+00, -9.8944e-06,  0.0000e+00]])],\n",
       " [tensor([[ 6.1065e-04,  0.0000e+00, -1.6383e-03,  0.0000e+00],\n",
       "          [-5.9953e-04,  0.0000e+00,  2.1006e-05,  0.0000e+00],\n",
       "          [-1.1116e-05,  0.0000e+00, -9.8944e-06,  0.0000e+00]])],\n",
       " [tensor([[ 6.1065e-04,  0.0000e+00, -1.6383e-03,  0.0000e+00],\n",
       "          [-5.9953e-04,  0.0000e+00,  2.1006e-05,  0.0000e+00],\n",
       "          [-1.1116e-05,  0.0000e+00, -9.8944e-06,  0.0000e+00]])],\n",
       " [tensor([[ 6.1065e-04,  0.0000e+00, -1.6383e-03,  0.0000e+00],\n",
       "          [-5.9953e-04,  0.0000e+00,  2.1006e-05,  0.0000e+00],\n",
       "          [-1.1116e-05,  0.0000e+00, -9.8944e-06,  0.0000e+00]])],\n",
       " [tensor([[ 6.1065e-04,  0.0000e+00, -1.6383e-03,  0.0000e+00],\n",
       "          [-5.9953e-04,  0.0000e+00,  2.1006e-05,  0.0000e+00],\n",
       "          [-1.1116e-05,  0.0000e+00, -9.8944e-06,  0.0000e+00]])],\n",
       " [tensor([[ 6.1065e-04,  0.0000e+00, -1.6383e-03,  0.0000e+00],\n",
       "          [-5.9953e-04,  0.0000e+00,  2.1006e-05,  0.0000e+00],\n",
       "          [-1.1116e-05,  0.0000e+00, -9.8944e-06,  0.0000e+00]])],\n",
       " [tensor([[ 6.1065e-04,  0.0000e+00, -1.6383e-03,  0.0000e+00],\n",
       "          [-5.9953e-04,  0.0000e+00,  2.1006e-05,  0.0000e+00],\n",
       "          [-1.1116e-05,  0.0000e+00, -9.8944e-06,  0.0000e+00]])],\n",
       " [tensor([[ 6.1065e-04,  0.0000e+00, -1.6383e-03,  0.0000e+00],\n",
       "          [-5.9953e-04,  0.0000e+00,  2.1006e-05,  0.0000e+00],\n",
       "          [-1.1116e-05,  0.0000e+00, -9.8944e-06,  0.0000e+00]])],\n",
       " [tensor([[ 6.1065e-04,  0.0000e+00, -1.6383e-03,  0.0000e+00],\n",
       "          [-5.9953e-04,  0.0000e+00,  2.1006e-05,  0.0000e+00],\n",
       "          [-1.1116e-05,  0.0000e+00, -9.8944e-06,  0.0000e+00]])],\n",
       " [tensor([[ 6.1065e-04,  0.0000e+00, -1.6383e-03,  0.0000e+00],\n",
       "          [-5.9953e-04,  0.0000e+00,  2.1006e-05,  0.0000e+00],\n",
       "          [-1.1116e-05,  0.0000e+00, -9.8944e-06,  0.0000e+00]])],\n",
       " [tensor([[ 6.1065e-04,  0.0000e+00, -1.6383e-03,  0.0000e+00],\n",
       "          [-5.9953e-04,  0.0000e+00,  2.1006e-05,  0.0000e+00],\n",
       "          [-1.1116e-05,  0.0000e+00, -9.8944e-06,  0.0000e+00]])],\n",
       " [tensor([[ 6.1065e-04,  0.0000e+00, -1.6383e-03,  0.0000e+00],\n",
       "          [-5.9953e-04,  0.0000e+00,  2.1006e-05,  0.0000e+00],\n",
       "          [-1.1116e-05,  0.0000e+00, -9.8944e-06,  0.0000e+00]])],\n",
       " [tensor([[ 6.1065e-04,  0.0000e+00, -1.6383e-03,  0.0000e+00],\n",
       "          [-5.9953e-04,  0.0000e+00,  2.1006e-05,  0.0000e+00],\n",
       "          [-1.1116e-05,  0.0000e+00, -9.8944e-06,  0.0000e+00]])],\n",
       " [tensor([[ 6.1065e-04,  0.0000e+00, -1.6383e-03,  0.0000e+00],\n",
       "          [-5.9953e-04,  0.0000e+00,  2.1006e-05,  0.0000e+00],\n",
       "          [-1.1116e-05,  0.0000e+00, -9.8944e-06,  0.0000e+00]])],\n",
       " [tensor([[ 6.1065e-04,  0.0000e+00, -1.6383e-03,  0.0000e+00],\n",
       "          [-5.9953e-04,  0.0000e+00,  2.1006e-05,  0.0000e+00],\n",
       "          [-1.1116e-05,  0.0000e+00, -9.8944e-06,  0.0000e+00]])],\n",
       " [tensor([[ 6.1065e-04,  0.0000e+00, -1.6383e-03,  0.0000e+00],\n",
       "          [-5.9953e-04,  0.0000e+00,  2.1006e-05,  0.0000e+00],\n",
       "          [-1.1116e-05,  0.0000e+00, -9.8944e-06,  0.0000e+00]])],\n",
       " [tensor([[ 6.1065e-04,  0.0000e+00, -1.6383e-03,  0.0000e+00],\n",
       "          [-5.9953e-04,  0.0000e+00,  2.1006e-05,  0.0000e+00],\n",
       "          [-1.1116e-05,  0.0000e+00, -9.8944e-06,  0.0000e+00]])],\n",
       " [tensor([[ 6.1065e-04,  0.0000e+00, -1.6383e-03,  0.0000e+00],\n",
       "          [-5.9953e-04,  0.0000e+00,  2.1006e-05,  0.0000e+00],\n",
       "          [-1.1116e-05,  0.0000e+00, -9.8944e-06,  0.0000e+00]])],\n",
       " [tensor([[ 6.1065e-04,  0.0000e+00, -1.6383e-03,  0.0000e+00],\n",
       "          [-5.9953e-04,  0.0000e+00,  2.1006e-05,  0.0000e+00],\n",
       "          [-1.1116e-05,  0.0000e+00, -9.8944e-06,  0.0000e+00]])],\n",
       " [tensor([[ 6.1065e-04,  0.0000e+00, -1.6383e-03,  0.0000e+00],\n",
       "          [-5.9953e-04,  0.0000e+00,  2.1006e-05,  0.0000e+00],\n",
       "          [-1.1116e-05,  0.0000e+00, -9.8944e-06,  0.0000e+00]])],\n",
       " [tensor([[ 6.1065e-04,  0.0000e+00, -1.6383e-03,  0.0000e+00],\n",
       "          [-5.9953e-04,  0.0000e+00,  2.1006e-05,  0.0000e+00],\n",
       "          [-1.1116e-05,  0.0000e+00, -9.8944e-06,  0.0000e+00]])],\n",
       " [tensor([[ 6.1065e-04,  0.0000e+00, -1.6383e-03,  0.0000e+00],\n",
       "          [-5.9953e-04,  0.0000e+00,  2.1006e-05,  0.0000e+00],\n",
       "          [-1.1116e-05,  0.0000e+00, -9.8944e-06,  0.0000e+00]])],\n",
       " [tensor([[ 6.1065e-04,  0.0000e+00, -1.6383e-03,  0.0000e+00],\n",
       "          [-5.9953e-04,  0.0000e+00,  2.1006e-05,  0.0000e+00],\n",
       "          [-1.1116e-05,  0.0000e+00, -9.8944e-06,  0.0000e+00]])],\n",
       " [tensor([[ 6.1065e-04,  0.0000e+00, -1.6383e-03,  0.0000e+00],\n",
       "          [-5.9953e-04,  0.0000e+00,  2.1006e-05,  0.0000e+00],\n",
       "          [-1.1116e-05,  0.0000e+00, -9.8944e-06,  0.0000e+00]])],\n",
       " [tensor([[ 6.1065e-04,  0.0000e+00, -1.6383e-03,  0.0000e+00],\n",
       "          [-5.9953e-04,  0.0000e+00,  2.1006e-05,  0.0000e+00],\n",
       "          [-1.1116e-05,  0.0000e+00, -9.8944e-06,  0.0000e+00]])],\n",
       " [tensor([[ 6.1065e-04,  0.0000e+00, -1.6383e-03,  0.0000e+00],\n",
       "          [-5.9953e-04,  0.0000e+00,  2.1006e-05,  0.0000e+00],\n",
       "          [-1.1116e-05,  0.0000e+00, -9.8944e-06,  0.0000e+00]])],\n",
       " [tensor([[ 6.1065e-04,  0.0000e+00, -1.6383e-03,  0.0000e+00],\n",
       "          [-5.9953e-04,  0.0000e+00,  2.1006e-05,  0.0000e+00],\n",
       "          [-1.1116e-05,  0.0000e+00, -9.8944e-06,  0.0000e+00]])],\n",
       " [tensor([[ 6.1065e-04,  0.0000e+00, -1.6383e-03,  0.0000e+00],\n",
       "          [-5.9953e-04,  0.0000e+00,  2.1006e-05,  0.0000e+00],\n",
       "          [-1.1116e-05,  0.0000e+00, -9.8944e-06,  0.0000e+00]])],\n",
       " [tensor([[ 6.1065e-04,  0.0000e+00, -1.6383e-03,  0.0000e+00],\n",
       "          [-5.9953e-04,  0.0000e+00,  2.1006e-05,  0.0000e+00],\n",
       "          [-1.1116e-05,  0.0000e+00, -9.8944e-06,  0.0000e+00]])],\n",
       " [tensor([[ 6.1065e-04,  0.0000e+00, -1.6383e-03,  0.0000e+00],\n",
       "          [-5.9953e-04,  0.0000e+00,  2.1006e-05,  0.0000e+00],\n",
       "          [-1.1116e-05,  0.0000e+00, -9.8944e-06,  0.0000e+00]])],\n",
       " [tensor([[ 6.1065e-04,  0.0000e+00, -1.6383e-03,  0.0000e+00],\n",
       "          [-5.9953e-04,  0.0000e+00,  2.1006e-05,  0.0000e+00],\n",
       "          [-1.1116e-05,  0.0000e+00, -9.8944e-06,  0.0000e+00]])],\n",
       " [tensor([[ 6.1065e-04,  0.0000e+00, -1.6383e-03,  0.0000e+00],\n",
       "          [-5.9953e-04,  0.0000e+00,  2.1006e-05,  0.0000e+00],\n",
       "          [-1.1116e-05,  0.0000e+00, -9.8944e-06,  0.0000e+00]])],\n",
       " [tensor([[ 6.1065e-04,  0.0000e+00, -1.6383e-03,  0.0000e+00],\n",
       "          [-5.9953e-04,  0.0000e+00,  2.1006e-05,  0.0000e+00],\n",
       "          [-1.1116e-05,  0.0000e+00, -9.8944e-06,  0.0000e+00]])],\n",
       " [tensor([[ 6.1065e-04,  0.0000e+00, -1.6383e-03,  0.0000e+00],\n",
       "          [-5.9953e-04,  0.0000e+00,  2.1006e-05,  0.0000e+00],\n",
       "          [-1.1116e-05,  0.0000e+00, -9.8944e-06,  0.0000e+00]])],\n",
       " [tensor([[ 6.1065e-04,  0.0000e+00, -1.6383e-03,  0.0000e+00],\n",
       "          [-5.9953e-04,  0.0000e+00,  2.1006e-05,  0.0000e+00],\n",
       "          [-1.1116e-05,  0.0000e+00, -9.8944e-06,  0.0000e+00]])],\n",
       " [tensor([[ 6.1065e-04,  0.0000e+00, -1.6383e-03,  0.0000e+00],\n",
       "          [-5.9953e-04,  0.0000e+00,  2.1006e-05,  0.0000e+00],\n",
       "          [-1.1116e-05,  0.0000e+00, -9.8944e-06,  0.0000e+00]])],\n",
       " [tensor([[ 6.1065e-04,  0.0000e+00, -1.6383e-03,  0.0000e+00],\n",
       "          [-5.9953e-04,  0.0000e+00,  2.1006e-05,  0.0000e+00],\n",
       "          [-1.1116e-05,  0.0000e+00, -9.8944e-06,  0.0000e+00]])],\n",
       " [tensor([[ 6.1065e-04,  0.0000e+00, -1.6383e-03,  0.0000e+00],\n",
       "          [-5.9953e-04,  0.0000e+00,  2.1006e-05,  0.0000e+00],\n",
       "          [-1.1116e-05,  0.0000e+00, -9.8944e-06,  0.0000e+00]])],\n",
       " [tensor([[ 6.1065e-04,  0.0000e+00, -1.6383e-03,  0.0000e+00],\n",
       "          [-5.9953e-04,  0.0000e+00,  2.1006e-05,  0.0000e+00],\n",
       "          [-1.1116e-05,  0.0000e+00, -9.8944e-06,  0.0000e+00]])],\n",
       " [tensor([[ 6.1065e-04,  0.0000e+00, -1.6383e-03,  0.0000e+00],\n",
       "          [-5.9953e-04,  0.0000e+00,  2.1006e-05,  0.0000e+00],\n",
       "          [-1.1116e-05,  0.0000e+00, -9.8944e-06,  0.0000e+00]])],\n",
       " [tensor([[ 6.1065e-04,  0.0000e+00, -1.6383e-03,  0.0000e+00],\n",
       "          [-5.9953e-04,  0.0000e+00,  2.1006e-05,  0.0000e+00],\n",
       "          [-1.1116e-05,  0.0000e+00, -9.8944e-06,  0.0000e+00]])],\n",
       " [tensor([[ 6.1065e-04,  0.0000e+00, -1.6383e-03,  0.0000e+00],\n",
       "          [-5.9953e-04,  0.0000e+00,  2.1006e-05,  0.0000e+00],\n",
       "          [-1.1116e-05,  0.0000e+00, -9.8944e-06,  0.0000e+00]])],\n",
       " [tensor([[ 6.1065e-04,  0.0000e+00, -1.6383e-03,  0.0000e+00],\n",
       "          [-5.9953e-04,  0.0000e+00,  2.1006e-05,  0.0000e+00],\n",
       "          [-1.1116e-05,  0.0000e+00, -9.8944e-06,  0.0000e+00]])],\n",
       " [tensor([[ 6.1065e-04,  0.0000e+00, -1.6383e-03,  0.0000e+00],\n",
       "          [-5.9953e-04,  0.0000e+00,  2.1006e-05,  0.0000e+00],\n",
       "          [-1.1116e-05,  0.0000e+00, -9.8944e-06,  0.0000e+00]])],\n",
       " [tensor([[ 6.1065e-04,  0.0000e+00, -1.6383e-03,  0.0000e+00],\n",
       "          [-5.9953e-04,  0.0000e+00,  2.1006e-05,  0.0000e+00],\n",
       "          [-1.1116e-05,  0.0000e+00, -9.8944e-06,  0.0000e+00]])],\n",
       " [tensor([[ 6.1065e-04,  0.0000e+00, -1.6383e-03,  0.0000e+00],\n",
       "          [-5.9953e-04,  0.0000e+00,  2.1006e-05,  0.0000e+00],\n",
       "          [-1.1116e-05,  0.0000e+00, -9.8944e-06,  0.0000e+00]])],\n",
       " [tensor([[ 6.1065e-04,  0.0000e+00, -1.6383e-03,  0.0000e+00],\n",
       "          [-5.9953e-04,  0.0000e+00,  2.1006e-05,  0.0000e+00],\n",
       "          [-1.1116e-05,  0.0000e+00, -9.8944e-06,  0.0000e+00]])],\n",
       " [tensor([[ 6.1065e-04,  0.0000e+00, -1.6383e-03,  0.0000e+00],\n",
       "          [-5.9953e-04,  0.0000e+00,  2.1006e-05,  0.0000e+00],\n",
       "          [-1.1116e-05,  0.0000e+00, -9.8944e-06,  0.0000e+00]])],\n",
       " [tensor([[ 6.1065e-04,  0.0000e+00, -1.6383e-03,  0.0000e+00],\n",
       "          [-5.9953e-04,  0.0000e+00,  2.1006e-05,  0.0000e+00],\n",
       "          [-1.1116e-05,  0.0000e+00, -9.8944e-06,  0.0000e+00]])],\n",
       " [tensor([[ 6.1065e-04,  0.0000e+00, -1.6383e-03,  0.0000e+00],\n",
       "          [-5.9953e-04,  0.0000e+00,  2.1006e-05,  0.0000e+00],\n",
       "          [-1.1116e-05,  0.0000e+00, -9.8944e-06,  0.0000e+00]])],\n",
       " [tensor([[ 6.1065e-04,  0.0000e+00, -1.6383e-03,  0.0000e+00],\n",
       "          [-5.9953e-04,  0.0000e+00,  2.1006e-05,  0.0000e+00],\n",
       "          [-1.1116e-05,  0.0000e+00, -9.8944e-06,  0.0000e+00]])],\n",
       " [tensor([[ 6.1065e-04,  0.0000e+00, -1.6383e-03,  0.0000e+00],\n",
       "          [-5.9953e-04,  0.0000e+00,  2.1006e-05,  0.0000e+00],\n",
       "          [-1.1116e-05,  0.0000e+00, -9.8944e-06,  0.0000e+00]])],\n",
       " [tensor([[ 6.1065e-04,  0.0000e+00, -1.6383e-03,  0.0000e+00],\n",
       "          [-5.9953e-04,  0.0000e+00,  2.1006e-05,  0.0000e+00],\n",
       "          [-1.1116e-05,  0.0000e+00, -9.8944e-06,  0.0000e+00]])],\n",
       " [tensor([[ 6.1065e-04,  0.0000e+00, -1.6383e-03,  0.0000e+00],\n",
       "          [-5.9953e-04,  0.0000e+00,  2.1006e-05,  0.0000e+00],\n",
       "          [-1.1116e-05,  0.0000e+00, -9.8944e-06,  0.0000e+00]])],\n",
       " [tensor([[ 6.1065e-04,  0.0000e+00, -1.6383e-03,  0.0000e+00],\n",
       "          [-5.9953e-04,  0.0000e+00,  2.1006e-05,  0.0000e+00],\n",
       "          [-1.1116e-05,  0.0000e+00, -9.8944e-06,  0.0000e+00]])],\n",
       " [tensor([[ 6.1065e-04,  0.0000e+00, -1.6383e-03,  0.0000e+00],\n",
       "          [-5.9953e-04,  0.0000e+00,  2.1006e-05,  0.0000e+00],\n",
       "          [-1.1116e-05,  0.0000e+00, -9.8944e-06,  0.0000e+00]])],\n",
       " [tensor([[ 6.1065e-04,  0.0000e+00, -1.6383e-03,  0.0000e+00],\n",
       "          [-5.9953e-04,  0.0000e+00,  2.1006e-05,  0.0000e+00],\n",
       "          [-1.1116e-05,  0.0000e+00, -9.8944e-06,  0.0000e+00]])],\n",
       " [tensor([[ 6.1065e-04,  0.0000e+00, -1.6383e-03,  0.0000e+00],\n",
       "          [-5.9953e-04,  0.0000e+00,  2.1006e-05,  0.0000e+00],\n",
       "          [-1.1116e-05,  0.0000e+00, -9.8944e-06,  0.0000e+00]])],\n",
       " [tensor([[ 6.1065e-04,  0.0000e+00, -1.6383e-03,  0.0000e+00],\n",
       "          [-5.9953e-04,  0.0000e+00,  2.1006e-05,  0.0000e+00],\n",
       "          [-1.1116e-05,  0.0000e+00, -9.8944e-06,  0.0000e+00]])],\n",
       " [tensor([[ 6.1065e-04,  0.0000e+00, -1.6383e-03,  0.0000e+00],\n",
       "          [-5.9953e-04,  0.0000e+00,  2.1006e-05,  0.0000e+00],\n",
       "          [-1.1116e-05,  0.0000e+00, -9.8944e-06,  0.0000e+00]])],\n",
       " [tensor([[ 6.1065e-04,  0.0000e+00, -1.6383e-03,  0.0000e+00],\n",
       "          [-5.9953e-04,  0.0000e+00,  2.1006e-05,  0.0000e+00],\n",
       "          [-1.1116e-05,  0.0000e+00, -9.8944e-06,  0.0000e+00]])],\n",
       " [tensor([[ 6.1065e-04,  0.0000e+00, -1.6383e-03,  0.0000e+00],\n",
       "          [-5.9953e-04,  0.0000e+00,  2.1006e-05,  0.0000e+00],\n",
       "          [-1.1116e-05,  0.0000e+00, -9.8944e-06,  0.0000e+00]])],\n",
       " [tensor([[ 6.1065e-04,  0.0000e+00, -1.6383e-03,  0.0000e+00],\n",
       "          [-5.9953e-04,  0.0000e+00,  2.1006e-05,  0.0000e+00],\n",
       "          [-1.1116e-05,  0.0000e+00, -9.8944e-06,  0.0000e+00]])],\n",
       " [tensor([[ 6.1065e-04,  0.0000e+00, -1.6383e-03,  0.0000e+00],\n",
       "          [-5.9953e-04,  0.0000e+00,  2.1006e-05,  0.0000e+00],\n",
       "          [-1.1116e-05,  0.0000e+00, -9.8944e-06,  0.0000e+00]])],\n",
       " [tensor([[ 6.1065e-04,  0.0000e+00, -1.6383e-03,  0.0000e+00],\n",
       "          [-5.9953e-04,  0.0000e+00,  2.1006e-05,  0.0000e+00],\n",
       "          [-1.1116e-05,  0.0000e+00, -9.8944e-06,  0.0000e+00]])],\n",
       " [tensor([[ 6.1065e-04,  0.0000e+00, -1.6383e-03,  0.0000e+00],\n",
       "          [-5.9953e-04,  0.0000e+00,  2.1006e-05,  0.0000e+00],\n",
       "          [-1.1116e-05,  0.0000e+00, -9.8944e-06,  0.0000e+00]])],\n",
       " [tensor([[ 6.1065e-04,  0.0000e+00, -1.6383e-03,  0.0000e+00],\n",
       "          [-5.9953e-04,  0.0000e+00,  2.1006e-05,  0.0000e+00],\n",
       "          [-1.1116e-05,  0.0000e+00, -9.8944e-06,  0.0000e+00]])],\n",
       " [tensor([[ 6.1065e-04,  0.0000e+00, -1.6383e-03,  0.0000e+00],\n",
       "          [-5.9953e-04,  0.0000e+00,  2.1006e-05,  0.0000e+00],\n",
       "          [-1.1116e-05,  0.0000e+00, -9.8944e-06,  0.0000e+00]])],\n",
       " [tensor([[ 6.1065e-04,  0.0000e+00, -1.6383e-03,  0.0000e+00],\n",
       "          [-5.9953e-04,  0.0000e+00,  2.1006e-05,  0.0000e+00],\n",
       "          [-1.1116e-05,  0.0000e+00, -9.8944e-06,  0.0000e+00]])],\n",
       " [tensor([[ 6.1065e-04,  0.0000e+00, -1.6383e-03,  0.0000e+00],\n",
       "          [-5.9953e-04,  0.0000e+00,  2.1006e-05,  0.0000e+00],\n",
       "          [-1.1116e-05,  0.0000e+00, -9.8944e-06,  0.0000e+00]])],\n",
       " [tensor([[ 6.1065e-04,  0.0000e+00, -1.6383e-03,  0.0000e+00],\n",
       "          [-5.9953e-04,  0.0000e+00,  2.1006e-05,  0.0000e+00],\n",
       "          [-1.1116e-05,  0.0000e+00, -9.8944e-06,  0.0000e+00]])],\n",
       " [tensor([[ 6.1065e-04,  0.0000e+00, -1.6383e-03,  0.0000e+00],\n",
       "          [-5.9953e-04,  0.0000e+00,  2.1006e-05,  0.0000e+00],\n",
       "          [-1.1116e-05,  0.0000e+00, -9.8944e-06,  0.0000e+00]])],\n",
       " [tensor([[ 6.1065e-04,  0.0000e+00, -1.6383e-03,  0.0000e+00],\n",
       "          [-5.9953e-04,  0.0000e+00,  2.1006e-05,  0.0000e+00],\n",
       "          [-1.1116e-05,  0.0000e+00, -9.8944e-06,  0.0000e+00]])],\n",
       " [tensor([[ 6.1065e-04,  0.0000e+00, -1.6383e-03,  0.0000e+00],\n",
       "          [-5.9953e-04,  0.0000e+00,  2.1006e-05,  0.0000e+00],\n",
       "          [-1.1116e-05,  0.0000e+00, -9.8944e-06,  0.0000e+00]])],\n",
       " [tensor([[ 6.1065e-04,  0.0000e+00, -1.6383e-03,  0.0000e+00],\n",
       "          [-5.9953e-04,  0.0000e+00,  2.1006e-05,  0.0000e+00],\n",
       "          [-1.1116e-05,  0.0000e+00, -9.8944e-06,  0.0000e+00]])],\n",
       " [tensor([[ 6.1065e-04,  0.0000e+00, -1.6383e-03,  0.0000e+00],\n",
       "          [-5.9953e-04,  0.0000e+00,  2.1006e-05,  0.0000e+00],\n",
       "          [-1.1116e-05,  0.0000e+00, -9.8944e-06,  0.0000e+00]])],\n",
       " [tensor([[ 6.1065e-04,  0.0000e+00, -1.6383e-03,  0.0000e+00],\n",
       "          [-5.9953e-04,  0.0000e+00,  2.1006e-05,  0.0000e+00],\n",
       "          [-1.1116e-05,  0.0000e+00, -9.8944e-06,  0.0000e+00]])],\n",
       " [tensor([[ 6.1065e-04,  0.0000e+00, -1.6383e-03,  0.0000e+00],\n",
       "          [-5.9953e-04,  0.0000e+00,  2.1006e-05,  0.0000e+00],\n",
       "          [-1.1116e-05,  0.0000e+00, -9.8944e-06,  0.0000e+00]])],\n",
       " [tensor([[ 6.1065e-04,  0.0000e+00, -1.6383e-03,  0.0000e+00],\n",
       "          [-5.9953e-04,  0.0000e+00,  2.1006e-05,  0.0000e+00],\n",
       "          [-1.1116e-05,  0.0000e+00, -9.8944e-06,  0.0000e+00]])],\n",
       " [tensor([[ 6.1065e-04,  0.0000e+00, -1.6383e-03,  0.0000e+00],\n",
       "          [-5.9953e-04,  0.0000e+00,  2.1006e-05,  0.0000e+00],\n",
       "          [-1.1116e-05,  0.0000e+00, -9.8944e-06,  0.0000e+00]])],\n",
       " [tensor([[ 6.1065e-04,  0.0000e+00, -1.6383e-03,  0.0000e+00],\n",
       "          [-5.9953e-04,  0.0000e+00,  2.1006e-05,  0.0000e+00],\n",
       "          [-1.1116e-05,  0.0000e+00, -9.8944e-06,  0.0000e+00]])],\n",
       " [tensor([[ 6.1065e-04,  0.0000e+00, -1.6383e-03,  0.0000e+00],\n",
       "          [-5.9953e-04,  0.0000e+00,  2.1006e-05,  0.0000e+00],\n",
       "          [-1.1116e-05,  0.0000e+00, -9.8944e-06,  0.0000e+00]])],\n",
       " [tensor([[ 6.1065e-04,  0.0000e+00, -1.6383e-03,  0.0000e+00],\n",
       "          [-5.9953e-04,  0.0000e+00,  2.1006e-05,  0.0000e+00],\n",
       "          [-1.1116e-05,  0.0000e+00, -9.8944e-06,  0.0000e+00]])],\n",
       " [tensor([[ 6.1065e-04,  0.0000e+00, -1.6383e-03,  0.0000e+00],\n",
       "          [-5.9953e-04,  0.0000e+00,  2.1006e-05,  0.0000e+00],\n",
       "          [-1.1116e-05,  0.0000e+00, -9.8944e-06,  0.0000e+00]])],\n",
       " [tensor([[ 6.1065e-04,  0.0000e+00, -1.6383e-03,  0.0000e+00],\n",
       "          [-5.9953e-04,  0.0000e+00,  2.1006e-05,  0.0000e+00],\n",
       "          [-1.1116e-05,  0.0000e+00, -9.8944e-06,  0.0000e+00]])],\n",
       " [tensor([[ 6.1065e-04,  0.0000e+00, -1.6383e-03,  0.0000e+00],\n",
       "          [-5.9953e-04,  0.0000e+00,  2.1006e-05,  0.0000e+00],\n",
       "          [-1.1116e-05,  0.0000e+00, -9.8944e-06,  0.0000e+00]])],\n",
       " [tensor([[ 6.1065e-04,  0.0000e+00, -1.6383e-03,  0.0000e+00],\n",
       "          [-5.9953e-04,  0.0000e+00,  2.1006e-05,  0.0000e+00],\n",
       "          [-1.1116e-05,  0.0000e+00, -9.8944e-06,  0.0000e+00]])],\n",
       " [tensor([[ 6.1065e-04,  0.0000e+00, -1.6383e-03,  0.0000e+00],\n",
       "          [-5.9953e-04,  0.0000e+00,  2.1006e-05,  0.0000e+00],\n",
       "          [-1.1116e-05,  0.0000e+00, -9.8944e-06,  0.0000e+00]])],\n",
       " [tensor([[ 6.1065e-04,  0.0000e+00, -1.6383e-03,  0.0000e+00],\n",
       "          [-5.9953e-04,  0.0000e+00,  2.1006e-05,  0.0000e+00],\n",
       "          [-1.1116e-05,  0.0000e+00, -9.8944e-06,  0.0000e+00]])],\n",
       " [tensor([[ 6.1065e-04,  0.0000e+00, -1.6383e-03,  0.0000e+00],\n",
       "          [-5.9953e-04,  0.0000e+00,  2.1006e-05,  0.0000e+00],\n",
       "          [-1.1116e-05,  0.0000e+00, -9.8944e-06,  0.0000e+00]])],\n",
       " [tensor([[ 6.1065e-04,  0.0000e+00, -1.6383e-03,  0.0000e+00],\n",
       "          [-5.9953e-04,  0.0000e+00,  2.1006e-05,  0.0000e+00],\n",
       "          [-1.1116e-05,  0.0000e+00, -9.8944e-06,  0.0000e+00]])],\n",
       " [tensor([[ 6.1065e-04,  0.0000e+00, -1.6383e-03,  0.0000e+00],\n",
       "          [-5.9953e-04,  0.0000e+00,  2.1006e-05,  0.0000e+00],\n",
       "          [-1.1116e-05,  0.0000e+00, -9.8944e-06,  0.0000e+00]])],\n",
       " [tensor([[ 6.1065e-04,  0.0000e+00, -1.6383e-03,  0.0000e+00],\n",
       "          [-5.9953e-04,  0.0000e+00,  2.1006e-05,  0.0000e+00],\n",
       "          [-1.1116e-05,  0.0000e+00, -9.8944e-06,  0.0000e+00]])],\n",
       " [tensor([[ 6.1065e-04,  0.0000e+00, -1.6383e-03,  0.0000e+00],\n",
       "          [-5.9953e-04,  0.0000e+00,  2.1006e-05,  0.0000e+00],\n",
       "          [-1.1116e-05,  0.0000e+00, -9.8944e-06,  0.0000e+00]])],\n",
       " [tensor([[ 6.1065e-04,  0.0000e+00, -1.6383e-03,  0.0000e+00],\n",
       "          [-5.9953e-04,  0.0000e+00,  2.1006e-05,  0.0000e+00],\n",
       "          [-1.1116e-05,  0.0000e+00, -9.8944e-06,  0.0000e+00]])],\n",
       " [tensor([[ 6.1065e-04,  0.0000e+00, -1.6383e-03,  0.0000e+00],\n",
       "          [-5.9953e-04,  0.0000e+00,  2.1006e-05,  0.0000e+00],\n",
       "          [-1.1116e-05,  0.0000e+00, -9.8944e-06,  0.0000e+00]])],\n",
       " [tensor([[ 6.1065e-04,  0.0000e+00, -1.6383e-03,  0.0000e+00],\n",
       "          [-5.9953e-04,  0.0000e+00,  2.1006e-05,  0.0000e+00],\n",
       "          [-1.1116e-05,  0.0000e+00, -9.8944e-06,  0.0000e+00]])],\n",
       " [tensor([[ 6.1065e-04,  0.0000e+00, -1.6383e-03,  0.0000e+00],\n",
       "          [-5.9953e-04,  0.0000e+00,  2.1006e-05,  0.0000e+00],\n",
       "          [-1.1116e-05,  0.0000e+00, -9.8944e-06,  0.0000e+00]])],\n",
       " [tensor([[ 6.1065e-04,  0.0000e+00, -1.6383e-03,  0.0000e+00],\n",
       "          [-5.9953e-04,  0.0000e+00,  2.1006e-05,  0.0000e+00],\n",
       "          [-1.1116e-05,  0.0000e+00, -9.8944e-06,  0.0000e+00]])],\n",
       " [tensor([[ 6.1065e-04,  0.0000e+00, -1.6383e-03,  0.0000e+00],\n",
       "          [-5.9953e-04,  0.0000e+00,  2.1006e-05,  0.0000e+00],\n",
       "          [-1.1116e-05,  0.0000e+00, -9.8944e-06,  0.0000e+00]])],\n",
       " [tensor([[ 6.1065e-04,  0.0000e+00, -1.6383e-03,  0.0000e+00],\n",
       "          [-5.9953e-04,  0.0000e+00,  2.1006e-05,  0.0000e+00],\n",
       "          [-1.1116e-05,  0.0000e+00, -9.8944e-06,  0.0000e+00]])],\n",
       " [tensor([[ 6.1065e-04,  0.0000e+00, -1.6383e-03,  0.0000e+00],\n",
       "          [-5.9953e-04,  0.0000e+00,  2.1006e-05,  0.0000e+00],\n",
       "          [-1.1116e-05,  0.0000e+00, -9.8944e-06,  0.0000e+00]])],\n",
       " [tensor([[ 6.1065e-04,  0.0000e+00, -1.6383e-03,  0.0000e+00],\n",
       "          [-5.9953e-04,  0.0000e+00,  2.1006e-05,  0.0000e+00],\n",
       "          [-1.1116e-05,  0.0000e+00, -9.8944e-06,  0.0000e+00]])],\n",
       " [tensor([[ 6.1065e-04,  0.0000e+00, -1.6383e-03,  0.0000e+00],\n",
       "          [-5.9953e-04,  0.0000e+00,  2.1006e-05,  0.0000e+00],\n",
       "          [-1.1116e-05,  0.0000e+00, -9.8944e-06,  0.0000e+00]])],\n",
       " [tensor([[ 6.1065e-04,  0.0000e+00, -1.6383e-03,  0.0000e+00],\n",
       "          [-5.9953e-04,  0.0000e+00,  2.1006e-05,  0.0000e+00],\n",
       "          [-1.1116e-05,  0.0000e+00, -9.8944e-06,  0.0000e+00]])],\n",
       " [tensor([[ 6.1065e-04,  0.0000e+00, -1.6383e-03,  0.0000e+00],\n",
       "          [-5.9953e-04,  0.0000e+00,  2.1006e-05,  0.0000e+00],\n",
       "          [-1.1116e-05,  0.0000e+00, -9.8944e-06,  0.0000e+00]])],\n",
       " [tensor([[ 6.1065e-04,  0.0000e+00, -1.6383e-03,  0.0000e+00],\n",
       "          [-5.9953e-04,  0.0000e+00,  2.1006e-05,  0.0000e+00],\n",
       "          [-1.1116e-05,  0.0000e+00, -9.8944e-06,  0.0000e+00]])],\n",
       " [tensor([[ 6.1065e-04,  0.0000e+00, -1.6383e-03,  0.0000e+00],\n",
       "          [-5.9953e-04,  0.0000e+00,  2.1006e-05,  0.0000e+00],\n",
       "          [-1.1116e-05,  0.0000e+00, -9.8944e-06,  0.0000e+00]])],\n",
       " [tensor([[ 6.1065e-04,  0.0000e+00, -1.6383e-03,  0.0000e+00],\n",
       "          [-5.9953e-04,  0.0000e+00,  2.1006e-05,  0.0000e+00],\n",
       "          [-1.1116e-05,  0.0000e+00, -9.8944e-06,  0.0000e+00]])],\n",
       " [tensor([[ 6.1065e-04,  0.0000e+00, -1.6383e-03,  0.0000e+00],\n",
       "          [-5.9953e-04,  0.0000e+00,  2.1006e-05,  0.0000e+00],\n",
       "          [-1.1116e-05,  0.0000e+00, -9.8944e-06,  0.0000e+00]])],\n",
       " [tensor([[ 6.1065e-04,  0.0000e+00, -1.6383e-03,  0.0000e+00],\n",
       "          [-5.9953e-04,  0.0000e+00,  2.1006e-05,  0.0000e+00],\n",
       "          [-1.1116e-05,  0.0000e+00, -9.8944e-06,  0.0000e+00]])],\n",
       " [tensor([[ 6.1065e-04,  0.0000e+00, -1.6383e-03,  0.0000e+00],\n",
       "          [-5.9953e-04,  0.0000e+00,  2.1006e-05,  0.0000e+00],\n",
       "          [-1.1116e-05,  0.0000e+00, -9.8944e-06,  0.0000e+00]])],\n",
       " [tensor([[ 6.1065e-04,  0.0000e+00, -1.6383e-03,  0.0000e+00],\n",
       "          [-5.9953e-04,  0.0000e+00,  2.1006e-05,  0.0000e+00],\n",
       "          [-1.1116e-05,  0.0000e+00, -9.8944e-06,  0.0000e+00]])],\n",
       " [tensor([[ 6.1065e-04,  0.0000e+00, -1.6383e-03,  0.0000e+00],\n",
       "          [-5.9953e-04,  0.0000e+00,  2.1006e-05,  0.0000e+00],\n",
       "          [-1.1116e-05,  0.0000e+00, -9.8944e-06,  0.0000e+00]])],\n",
       " [tensor([[ 6.1065e-04,  0.0000e+00, -1.6383e-03,  0.0000e+00],\n",
       "          [-5.9953e-04,  0.0000e+00,  2.1006e-05,  0.0000e+00],\n",
       "          [-1.1116e-05,  0.0000e+00, -9.8944e-06,  0.0000e+00]])],\n",
       " [tensor([[ 6.1065e-04,  0.0000e+00, -1.6383e-03,  0.0000e+00],\n",
       "          [-5.9953e-04,  0.0000e+00,  2.1006e-05,  0.0000e+00],\n",
       "          [-1.1116e-05,  0.0000e+00, -9.8944e-06,  0.0000e+00]])],\n",
       " [tensor([[ 6.1065e-04,  0.0000e+00, -1.6383e-03,  0.0000e+00],\n",
       "          [-5.9953e-04,  0.0000e+00,  2.1006e-05,  0.0000e+00],\n",
       "          [-1.1116e-05,  0.0000e+00, -9.8944e-06,  0.0000e+00]])],\n",
       " [tensor([[ 6.1065e-04,  0.0000e+00, -1.6383e-03,  0.0000e+00],\n",
       "          [-5.9953e-04,  0.0000e+00,  2.1006e-05,  0.0000e+00],\n",
       "          [-1.1116e-05,  0.0000e+00, -9.8944e-06,  0.0000e+00]])],\n",
       " [tensor([[ 6.1065e-04,  0.0000e+00, -1.6383e-03,  0.0000e+00],\n",
       "          [-5.9953e-04,  0.0000e+00,  2.1006e-05,  0.0000e+00],\n",
       "          [-1.1116e-05,  0.0000e+00, -9.8944e-06,  0.0000e+00]])],\n",
       " [tensor([[ 6.1065e-04,  0.0000e+00, -1.6383e-03,  0.0000e+00],\n",
       "          [-5.9953e-04,  0.0000e+00,  2.1006e-05,  0.0000e+00],\n",
       "          [-1.1116e-05,  0.0000e+00, -9.8944e-06,  0.0000e+00]])],\n",
       " [tensor([[ 6.1065e-04,  0.0000e+00, -1.6383e-03,  0.0000e+00],\n",
       "          [-5.9953e-04,  0.0000e+00,  2.1006e-05,  0.0000e+00],\n",
       "          [-1.1116e-05,  0.0000e+00, -9.8944e-06,  0.0000e+00]])],\n",
       " [tensor([[ 6.1065e-04,  0.0000e+00, -1.6383e-03,  0.0000e+00],\n",
       "          [-5.9953e-04,  0.0000e+00,  2.1006e-05,  0.0000e+00],\n",
       "          [-1.1116e-05,  0.0000e+00, -9.8944e-06,  0.0000e+00]])],\n",
       " [tensor([[ 6.1065e-04,  0.0000e+00, -1.6383e-03,  0.0000e+00],\n",
       "          [-5.9953e-04,  0.0000e+00,  2.1006e-05,  0.0000e+00],\n",
       "          [-1.1116e-05,  0.0000e+00, -9.8944e-06,  0.0000e+00]])],\n",
       " [tensor([[ 6.1065e-04,  0.0000e+00, -1.6383e-03,  0.0000e+00],\n",
       "          [-5.9953e-04,  0.0000e+00,  2.1006e-05,  0.0000e+00],\n",
       "          [-1.1116e-05,  0.0000e+00, -9.8944e-06,  0.0000e+00]])],\n",
       " [tensor([[ 6.1065e-04,  0.0000e+00, -1.6383e-03,  0.0000e+00],\n",
       "          [-5.9953e-04,  0.0000e+00,  2.1006e-05,  0.0000e+00],\n",
       "          [-1.1116e-05,  0.0000e+00, -9.8944e-06,  0.0000e+00]])],\n",
       " [tensor([[ 6.1065e-04,  0.0000e+00, -1.6383e-03,  0.0000e+00],\n",
       "          [-5.9953e-04,  0.0000e+00,  2.1006e-05,  0.0000e+00],\n",
       "          [-1.1116e-05,  0.0000e+00, -9.8944e-06,  0.0000e+00]])],\n",
       " [tensor([[ 6.1065e-04,  0.0000e+00, -1.6383e-03,  0.0000e+00],\n",
       "          [-5.9953e-04,  0.0000e+00,  2.1006e-05,  0.0000e+00],\n",
       "          [-1.1116e-05,  0.0000e+00, -9.8944e-06,  0.0000e+00]])],\n",
       " [tensor([[ 6.1065e-04,  0.0000e+00, -1.6383e-03,  0.0000e+00],\n",
       "          [-5.9953e-04,  0.0000e+00,  2.1006e-05,  0.0000e+00],\n",
       "          [-1.1116e-05,  0.0000e+00, -9.8944e-06,  0.0000e+00]])],\n",
       " [tensor([[ 6.1065e-04,  0.0000e+00, -1.6383e-03,  0.0000e+00],\n",
       "          [-5.9953e-04,  0.0000e+00,  2.1006e-05,  0.0000e+00],\n",
       "          [-1.1116e-05,  0.0000e+00, -9.8944e-06,  0.0000e+00]])],\n",
       " [tensor([[ 6.1065e-04,  0.0000e+00, -1.6383e-03,  0.0000e+00],\n",
       "          [-5.9953e-04,  0.0000e+00,  2.1006e-05,  0.0000e+00],\n",
       "          [-1.1116e-05,  0.0000e+00, -9.8944e-06,  0.0000e+00]])],\n",
       " [tensor([[ 6.1065e-04,  0.0000e+00, -1.6383e-03,  0.0000e+00],\n",
       "          [-5.9953e-04,  0.0000e+00,  2.1006e-05,  0.0000e+00],\n",
       "          [-1.1116e-05,  0.0000e+00, -9.8944e-06,  0.0000e+00]])],\n",
       " [tensor([[ 6.1065e-04,  0.0000e+00, -1.6383e-03,  0.0000e+00],\n",
       "          [-5.9953e-04,  0.0000e+00,  2.1006e-05,  0.0000e+00],\n",
       "          [-1.1116e-05,  0.0000e+00, -9.8944e-06,  0.0000e+00]])],\n",
       " [tensor([[ 6.1065e-04,  0.0000e+00, -1.6383e-03,  0.0000e+00],\n",
       "          [-5.9953e-04,  0.0000e+00,  2.1006e-05,  0.0000e+00],\n",
       "          [-1.1116e-05,  0.0000e+00, -9.8944e-06,  0.0000e+00]])],\n",
       " [tensor([[ 6.1065e-04,  0.0000e+00, -1.6383e-03,  0.0000e+00],\n",
       "          [-5.9953e-04,  0.0000e+00,  2.1006e-05,  0.0000e+00],\n",
       "          [-1.1116e-05,  0.0000e+00, -9.8944e-06,  0.0000e+00]])],\n",
       " [tensor([[ 6.1065e-04,  0.0000e+00, -1.6383e-03,  0.0000e+00],\n",
       "          [-5.9953e-04,  0.0000e+00,  2.1006e-05,  0.0000e+00],\n",
       "          [-1.1116e-05,  0.0000e+00, -9.8944e-06,  0.0000e+00]])],\n",
       " [tensor([[ 6.1065e-04,  0.0000e+00, -1.6383e-03,  0.0000e+00],\n",
       "          [-5.9953e-04,  0.0000e+00,  2.1006e-05,  0.0000e+00],\n",
       "          [-1.1116e-05,  0.0000e+00, -9.8944e-06,  0.0000e+00]])],\n",
       " [tensor([[ 6.1065e-04,  0.0000e+00, -1.6383e-03,  0.0000e+00],\n",
       "          [-5.9953e-04,  0.0000e+00,  2.1006e-05,  0.0000e+00],\n",
       "          [-1.1116e-05,  0.0000e+00, -9.8944e-06,  0.0000e+00]])],\n",
       " [tensor([[ 6.1065e-04,  0.0000e+00, -1.6383e-03,  0.0000e+00],\n",
       "          [-5.9953e-04,  0.0000e+00,  2.1006e-05,  0.0000e+00],\n",
       "          [-1.1116e-05,  0.0000e+00, -9.8944e-06,  0.0000e+00]])],\n",
       " [tensor([[ 6.1065e-04,  0.0000e+00, -1.6383e-03,  0.0000e+00],\n",
       "          [-5.9953e-04,  0.0000e+00,  2.1006e-05,  0.0000e+00],\n",
       "          [-1.1116e-05,  0.0000e+00, -9.8944e-06,  0.0000e+00]])],\n",
       " [tensor([[ 6.1065e-04,  0.0000e+00, -1.6383e-03,  0.0000e+00],\n",
       "          [-5.9953e-04,  0.0000e+00,  2.1006e-05,  0.0000e+00],\n",
       "          [-1.1116e-05,  0.0000e+00, -9.8944e-06,  0.0000e+00]])],\n",
       " [tensor([[ 6.1065e-04,  0.0000e+00, -1.6383e-03,  0.0000e+00],\n",
       "          [-5.9953e-04,  0.0000e+00,  2.1006e-05,  0.0000e+00],\n",
       "          [-1.1116e-05,  0.0000e+00, -9.8944e-06,  0.0000e+00]])],\n",
       " [tensor([[ 6.1065e-04,  0.0000e+00, -1.6383e-03,  0.0000e+00],\n",
       "          [-5.9953e-04,  0.0000e+00,  2.1006e-05,  0.0000e+00],\n",
       "          [-1.1116e-05,  0.0000e+00, -9.8944e-06,  0.0000e+00]])],\n",
       " [tensor([[ 6.1065e-04,  0.0000e+00, -1.6383e-03,  0.0000e+00],\n",
       "          [-5.9953e-04,  0.0000e+00,  2.1006e-05,  0.0000e+00],\n",
       "          [-1.1116e-05,  0.0000e+00, -9.8944e-06,  0.0000e+00]])],\n",
       " [tensor([[ 6.1065e-04,  0.0000e+00, -1.6383e-03,  0.0000e+00],\n",
       "          [-5.9953e-04,  0.0000e+00,  2.1006e-05,  0.0000e+00],\n",
       "          [-1.1116e-05,  0.0000e+00, -9.8944e-06,  0.0000e+00]])],\n",
       " [tensor([[ 6.1065e-04,  0.0000e+00, -1.6383e-03,  0.0000e+00],\n",
       "          [-5.9953e-04,  0.0000e+00,  2.1006e-05,  0.0000e+00],\n",
       "          [-1.1116e-05,  0.0000e+00, -9.8944e-06,  0.0000e+00]])],\n",
       " [tensor([[ 6.1065e-04,  0.0000e+00, -1.6383e-03,  0.0000e+00],\n",
       "          [-5.9953e-04,  0.0000e+00,  2.1006e-05,  0.0000e+00],\n",
       "          [-1.1116e-05,  0.0000e+00, -9.8944e-06,  0.0000e+00]])],\n",
       " [tensor([[ 6.1065e-04,  0.0000e+00, -1.6383e-03,  0.0000e+00],\n",
       "          [-5.9953e-04,  0.0000e+00,  2.1006e-05,  0.0000e+00],\n",
       "          [-1.1116e-05,  0.0000e+00, -9.8944e-06,  0.0000e+00]])],\n",
       " [tensor([[ 6.1065e-04,  0.0000e+00, -1.6383e-03,  0.0000e+00],\n",
       "          [-5.9953e-04,  0.0000e+00,  2.1006e-05,  0.0000e+00],\n",
       "          [-1.1116e-05,  0.0000e+00, -9.8944e-06,  0.0000e+00]])],\n",
       " [tensor([[ 6.1065e-04,  0.0000e+00, -1.6383e-03,  0.0000e+00],\n",
       "          [-5.9953e-04,  0.0000e+00,  2.1006e-05,  0.0000e+00],\n",
       "          [-1.1116e-05,  0.0000e+00, -9.8944e-06,  0.0000e+00]])],\n",
       " [tensor([[ 6.1065e-04,  0.0000e+00, -1.6383e-03,  0.0000e+00],\n",
       "          [-5.9953e-04,  0.0000e+00,  2.1006e-05,  0.0000e+00],\n",
       "          [-1.1116e-05,  0.0000e+00, -9.8944e-06,  0.0000e+00]])],\n",
       " [tensor([[ 6.1065e-04,  0.0000e+00, -1.6383e-03,  0.0000e+00],\n",
       "          [-5.9953e-04,  0.0000e+00,  2.1006e-05,  0.0000e+00],\n",
       "          [-1.1116e-05,  0.0000e+00, -9.8944e-06,  0.0000e+00]])],\n",
       " [tensor([[ 6.1065e-04,  0.0000e+00, -1.6383e-03,  0.0000e+00],\n",
       "          [-5.9953e-04,  0.0000e+00,  2.1006e-05,  0.0000e+00],\n",
       "          [-1.1116e-05,  0.0000e+00, -9.8944e-06,  0.0000e+00]])],\n",
       " [tensor([[ 6.1065e-04,  0.0000e+00, -1.6383e-03,  0.0000e+00],\n",
       "          [-5.9953e-04,  0.0000e+00,  2.1006e-05,  0.0000e+00],\n",
       "          [-1.1116e-05,  0.0000e+00, -9.8944e-06,  0.0000e+00]])],\n",
       " [tensor([[ 6.1065e-04,  0.0000e+00, -1.6383e-03,  0.0000e+00],\n",
       "          [-5.9953e-04,  0.0000e+00,  2.1006e-05,  0.0000e+00],\n",
       "          [-1.1116e-05,  0.0000e+00, -9.8944e-06,  0.0000e+00]])],\n",
       " [tensor([[ 6.1065e-04,  0.0000e+00, -1.6383e-03,  0.0000e+00],\n",
       "          [-5.9953e-04,  0.0000e+00,  2.1006e-05,  0.0000e+00],\n",
       "          [-1.1116e-05,  0.0000e+00, -9.8944e-06,  0.0000e+00]])],\n",
       " [tensor([[ 6.1065e-04,  0.0000e+00, -1.6383e-03,  0.0000e+00],\n",
       "          [-5.9953e-04,  0.0000e+00,  2.1006e-05,  0.0000e+00],\n",
       "          [-1.1116e-05,  0.0000e+00, -9.8944e-06,  0.0000e+00]])],\n",
       " [tensor([[ 6.1065e-04,  0.0000e+00, -1.6383e-03,  0.0000e+00],\n",
       "          [-5.9953e-04,  0.0000e+00,  2.1006e-05,  0.0000e+00],\n",
       "          [-1.1116e-05,  0.0000e+00, -9.8944e-06,  0.0000e+00]])],\n",
       " [tensor([[ 6.1065e-04,  0.0000e+00, -1.6383e-03,  0.0000e+00],\n",
       "          [-5.9953e-04,  0.0000e+00,  2.1006e-05,  0.0000e+00],\n",
       "          [-1.1116e-05,  0.0000e+00, -9.8944e-06,  0.0000e+00]])],\n",
       " [tensor([[ 6.1065e-04,  0.0000e+00, -1.6383e-03,  0.0000e+00],\n",
       "          [-5.9953e-04,  0.0000e+00,  2.1006e-05,  0.0000e+00],\n",
       "          [-1.1116e-05,  0.0000e+00, -9.8944e-06,  0.0000e+00]])],\n",
       " [tensor([[ 6.1065e-04,  0.0000e+00, -1.6383e-03,  0.0000e+00],\n",
       "          [-5.9953e-04,  0.0000e+00,  2.1006e-05,  0.0000e+00],\n",
       "          [-1.1116e-05,  0.0000e+00, -9.8944e-06,  0.0000e+00]])],\n",
       " [tensor([[ 6.1065e-04,  0.0000e+00, -1.6383e-03,  0.0000e+00],\n",
       "          [-5.9953e-04,  0.0000e+00,  2.1006e-05,  0.0000e+00],\n",
       "          [-1.1116e-05,  0.0000e+00, -9.8944e-06,  0.0000e+00]])],\n",
       " [tensor([[ 6.1065e-04,  0.0000e+00, -1.6383e-03,  0.0000e+00],\n",
       "          [-5.9953e-04,  0.0000e+00,  2.1006e-05,  0.0000e+00],\n",
       "          [-1.1116e-05,  0.0000e+00, -9.8944e-06,  0.0000e+00]])],\n",
       " [tensor([[ 6.1065e-04,  0.0000e+00, -1.6383e-03,  0.0000e+00],\n",
       "          [-5.9953e-04,  0.0000e+00,  2.1006e-05,  0.0000e+00],\n",
       "          [-1.1116e-05,  0.0000e+00, -9.8944e-06,  0.0000e+00]])],\n",
       " [tensor([[ 6.1065e-04,  0.0000e+00, -1.6383e-03,  0.0000e+00],\n",
       "          [-5.9953e-04,  0.0000e+00,  2.1006e-05,  0.0000e+00],\n",
       "          [-1.1116e-05,  0.0000e+00, -9.8944e-06,  0.0000e+00]])],\n",
       " [tensor([[ 6.1065e-04,  0.0000e+00, -1.6383e-03,  0.0000e+00],\n",
       "          [-5.9953e-04,  0.0000e+00,  2.1006e-05,  0.0000e+00],\n",
       "          [-1.1116e-05,  0.0000e+00, -9.8944e-06,  0.0000e+00]])],\n",
       " [tensor([[ 6.1065e-04,  0.0000e+00, -1.6383e-03,  0.0000e+00],\n",
       "          [-5.9953e-04,  0.0000e+00,  2.1006e-05,  0.0000e+00],\n",
       "          [-1.1116e-05,  0.0000e+00, -9.8944e-06,  0.0000e+00]])],\n",
       " [tensor([[ 6.1065e-04,  0.0000e+00, -1.6383e-03,  0.0000e+00],\n",
       "          [-5.9953e-04,  0.0000e+00,  2.1006e-05,  0.0000e+00],\n",
       "          [-1.1116e-05,  0.0000e+00, -9.8944e-06,  0.0000e+00]])],\n",
       " [tensor([[ 6.1065e-04,  0.0000e+00, -1.6383e-03,  0.0000e+00],\n",
       "          [-5.9953e-04,  0.0000e+00,  2.1006e-05,  0.0000e+00],\n",
       "          [-1.1116e-05,  0.0000e+00, -9.8944e-06,  0.0000e+00]])],\n",
       " [tensor([[ 6.1065e-04,  0.0000e+00, -1.6383e-03,  0.0000e+00],\n",
       "          [-5.9953e-04,  0.0000e+00,  2.1006e-05,  0.0000e+00],\n",
       "          [-1.1116e-05,  0.0000e+00, -9.8944e-06,  0.0000e+00]])],\n",
       " [tensor([[ 6.1065e-04,  0.0000e+00, -1.6383e-03,  0.0000e+00],\n",
       "          [-5.9953e-04,  0.0000e+00,  2.1006e-05,  0.0000e+00],\n",
       "          [-1.1116e-05,  0.0000e+00, -9.8944e-06,  0.0000e+00]])],\n",
       " [tensor([[ 6.1065e-04,  0.0000e+00, -1.6383e-03,  0.0000e+00],\n",
       "          [-5.9953e-04,  0.0000e+00,  2.1006e-05,  0.0000e+00],\n",
       "          [-1.1116e-05,  0.0000e+00, -9.8944e-06,  0.0000e+00]])],\n",
       " [tensor([[ 6.1065e-04,  0.0000e+00, -1.6383e-03,  0.0000e+00],\n",
       "          [-5.9953e-04,  0.0000e+00,  2.1006e-05,  0.0000e+00],\n",
       "          [-1.1116e-05,  0.0000e+00, -9.8944e-06,  0.0000e+00]])],\n",
       " [tensor([[ 6.1065e-04,  0.0000e+00, -1.6383e-03,  0.0000e+00],\n",
       "          [-5.9953e-04,  0.0000e+00,  2.1006e-05,  0.0000e+00],\n",
       "          [-1.1116e-05,  0.0000e+00, -9.8944e-06,  0.0000e+00]])],\n",
       " [tensor([[ 6.1065e-04,  0.0000e+00, -1.6383e-03,  0.0000e+00],\n",
       "          [-5.9953e-04,  0.0000e+00,  2.1006e-05,  0.0000e+00],\n",
       "          [-1.1116e-05,  0.0000e+00, -9.8944e-06,  0.0000e+00]])],\n",
       " [tensor([[ 6.1065e-04,  0.0000e+00, -1.6383e-03,  0.0000e+00],\n",
       "          [-5.9953e-04,  0.0000e+00,  2.1006e-05,  0.0000e+00],\n",
       "          [-1.1116e-05,  0.0000e+00, -9.8944e-06,  0.0000e+00]])],\n",
       " [tensor([[ 6.1065e-04,  0.0000e+00, -1.6383e-03,  0.0000e+00],\n",
       "          [-5.9953e-04,  0.0000e+00,  2.1006e-05,  0.0000e+00],\n",
       "          [-1.1116e-05,  0.0000e+00, -9.8944e-06,  0.0000e+00]])],\n",
       " [tensor([[ 6.1065e-04,  0.0000e+00, -1.6383e-03,  0.0000e+00],\n",
       "          [-5.9953e-04,  0.0000e+00,  2.1006e-05,  0.0000e+00],\n",
       "          [-1.1116e-05,  0.0000e+00, -9.8944e-06,  0.0000e+00]])],\n",
       " [tensor([[ 6.1065e-04,  0.0000e+00, -1.6383e-03,  0.0000e+00],\n",
       "          [-5.9953e-04,  0.0000e+00,  2.1006e-05,  0.0000e+00],\n",
       "          [-1.1116e-05,  0.0000e+00, -9.8944e-06,  0.0000e+00]])],\n",
       " [tensor([[ 6.1065e-04,  0.0000e+00, -1.6383e-03,  0.0000e+00],\n",
       "          [-5.9953e-04,  0.0000e+00,  2.1006e-05,  0.0000e+00],\n",
       "          [-1.1116e-05,  0.0000e+00, -9.8944e-06,  0.0000e+00]])],\n",
       " [tensor([[ 6.1065e-04,  0.0000e+00, -1.6383e-03,  0.0000e+00],\n",
       "          [-5.9953e-04,  0.0000e+00,  2.1006e-05,  0.0000e+00],\n",
       "          [-1.1116e-05,  0.0000e+00, -9.8944e-06,  0.0000e+00]])],\n",
       " [tensor([[ 6.1065e-04,  0.0000e+00, -1.6383e-03,  0.0000e+00],\n",
       "          [-5.9953e-04,  0.0000e+00,  2.1006e-05,  0.0000e+00],\n",
       "          [-1.1116e-05,  0.0000e+00, -9.8944e-06,  0.0000e+00]])],\n",
       " [tensor([[ 6.1065e-04,  0.0000e+00, -1.6383e-03,  0.0000e+00],\n",
       "          [-5.9953e-04,  0.0000e+00,  2.1006e-05,  0.0000e+00],\n",
       "          [-1.1116e-05,  0.0000e+00, -9.8944e-06,  0.0000e+00]])],\n",
       " [tensor([[ 6.1065e-04,  0.0000e+00, -1.6383e-03,  0.0000e+00],\n",
       "          [-5.9953e-04,  0.0000e+00,  2.1006e-05,  0.0000e+00],\n",
       "          [-1.1116e-05,  0.0000e+00, -9.8944e-06,  0.0000e+00]])],\n",
       " [tensor([[ 6.1065e-04,  0.0000e+00, -1.6383e-03,  0.0000e+00],\n",
       "          [-5.9953e-04,  0.0000e+00,  2.1006e-05,  0.0000e+00],\n",
       "          [-1.1116e-05,  0.0000e+00, -9.8944e-06,  0.0000e+00]])],\n",
       " [tensor([[ 6.1065e-04,  0.0000e+00, -1.6383e-03,  0.0000e+00],\n",
       "          [-5.9953e-04,  0.0000e+00,  2.1006e-05,  0.0000e+00],\n",
       "          [-1.1116e-05,  0.0000e+00, -9.8944e-06,  0.0000e+00]])],\n",
       " [tensor([[ 6.1065e-04,  0.0000e+00, -1.6383e-03,  0.0000e+00],\n",
       "          [-5.9953e-04,  0.0000e+00,  2.1006e-05,  0.0000e+00],\n",
       "          [-1.1116e-05,  0.0000e+00, -9.8944e-06,  0.0000e+00]])],\n",
       " [tensor([[ 6.1065e-04,  0.0000e+00, -1.6383e-03,  0.0000e+00],\n",
       "          [-5.9953e-04,  0.0000e+00,  2.1006e-05,  0.0000e+00],\n",
       "          [-1.1116e-05,  0.0000e+00, -9.8944e-06,  0.0000e+00]])],\n",
       " [tensor([[ 6.1065e-04,  0.0000e+00, -1.6383e-03,  0.0000e+00],\n",
       "          [-5.9953e-04,  0.0000e+00,  2.1006e-05,  0.0000e+00],\n",
       "          [-1.1116e-05,  0.0000e+00, -9.8944e-06,  0.0000e+00]])],\n",
       " [tensor([[ 6.1065e-04,  0.0000e+00, -1.6383e-03,  0.0000e+00],\n",
       "          [-5.9953e-04,  0.0000e+00,  2.1006e-05,  0.0000e+00],\n",
       "          [-1.1116e-05,  0.0000e+00, -9.8944e-06,  0.0000e+00]])],\n",
       " [tensor([[ 6.1065e-04,  0.0000e+00, -1.6383e-03,  0.0000e+00],\n",
       "          [-5.9953e-04,  0.0000e+00,  2.1006e-05,  0.0000e+00],\n",
       "          [-1.1116e-05,  0.0000e+00, -9.8944e-06,  0.0000e+00]])],\n",
       " [tensor([[ 6.1065e-04,  0.0000e+00, -1.6383e-03,  0.0000e+00],\n",
       "          [-5.9953e-04,  0.0000e+00,  2.1006e-05,  0.0000e+00],\n",
       "          [-1.1116e-05,  0.0000e+00, -9.8944e-06,  0.0000e+00]])],\n",
       " [tensor([[ 6.1065e-04,  0.0000e+00, -1.6383e-03,  0.0000e+00],\n",
       "          [-5.9953e-04,  0.0000e+00,  2.1006e-05,  0.0000e+00],\n",
       "          [-1.1116e-05,  0.0000e+00, -9.8944e-06,  0.0000e+00]])],\n",
       " [tensor([[ 6.1065e-04,  0.0000e+00, -1.6383e-03,  0.0000e+00],\n",
       "          [-5.9953e-04,  0.0000e+00,  2.1006e-05,  0.0000e+00],\n",
       "          [-1.1116e-05,  0.0000e+00, -9.8944e-06,  0.0000e+00]])],\n",
       " [tensor([[ 6.1065e-04,  0.0000e+00, -1.6383e-03,  0.0000e+00],\n",
       "          [-5.9953e-04,  0.0000e+00,  2.1006e-05,  0.0000e+00],\n",
       "          [-1.1116e-05,  0.0000e+00, -9.8944e-06,  0.0000e+00]])],\n",
       " [tensor([[ 6.1065e-04,  0.0000e+00, -1.6383e-03,  0.0000e+00],\n",
       "          [-5.9953e-04,  0.0000e+00,  2.1006e-05,  0.0000e+00],\n",
       "          [-1.1116e-05,  0.0000e+00, -9.8944e-06,  0.0000e+00]])],\n",
       " [tensor([[ 6.1065e-04,  0.0000e+00, -1.6383e-03,  0.0000e+00],\n",
       "          [-5.9953e-04,  0.0000e+00,  2.1006e-05,  0.0000e+00],\n",
       "          [-1.1116e-05,  0.0000e+00, -9.8944e-06,  0.0000e+00]])],\n",
       " [tensor([[ 6.1065e-04,  0.0000e+00, -1.6383e-03,  0.0000e+00],\n",
       "          [-5.9953e-04,  0.0000e+00,  2.1006e-05,  0.0000e+00],\n",
       "          [-1.1116e-05,  0.0000e+00, -9.8944e-06,  0.0000e+00]])],\n",
       " [tensor([[ 6.1065e-04,  0.0000e+00, -1.6383e-03,  0.0000e+00],\n",
       "          [-5.9953e-04,  0.0000e+00,  2.1006e-05,  0.0000e+00],\n",
       "          [-1.1116e-05,  0.0000e+00, -9.8944e-06,  0.0000e+00]])],\n",
       " [tensor([[ 6.1065e-04,  0.0000e+00, -1.6383e-03,  0.0000e+00],\n",
       "          [-5.9953e-04,  0.0000e+00,  2.1006e-05,  0.0000e+00],\n",
       "          [-1.1116e-05,  0.0000e+00, -9.8944e-06,  0.0000e+00]])],\n",
       " [tensor([[ 6.1065e-04,  0.0000e+00, -1.6383e-03,  0.0000e+00],\n",
       "          [-5.9953e-04,  0.0000e+00,  2.1006e-05,  0.0000e+00],\n",
       "          [-1.1116e-05,  0.0000e+00, -9.8944e-06,  0.0000e+00]])],\n",
       " [tensor([[ 6.1065e-04,  0.0000e+00, -1.6383e-03,  0.0000e+00],\n",
       "          [-5.9953e-04,  0.0000e+00,  2.1006e-05,  0.0000e+00],\n",
       "          [-1.1116e-05,  0.0000e+00, -9.8944e-06,  0.0000e+00]])],\n",
       " [tensor([[ 6.1065e-04,  0.0000e+00, -1.6383e-03,  0.0000e+00],\n",
       "          [-5.9953e-04,  0.0000e+00,  2.1006e-05,  0.0000e+00],\n",
       "          [-1.1116e-05,  0.0000e+00, -9.8944e-06,  0.0000e+00]])],\n",
       " [tensor([[ 6.1065e-04,  0.0000e+00, -1.6383e-03,  0.0000e+00],\n",
       "          [-5.9953e-04,  0.0000e+00,  2.1006e-05,  0.0000e+00],\n",
       "          [-1.1116e-05,  0.0000e+00, -9.8944e-06,  0.0000e+00]])],\n",
       " [tensor([[ 6.1065e-04,  0.0000e+00, -1.6383e-03,  0.0000e+00],\n",
       "          [-5.9953e-04,  0.0000e+00,  2.1006e-05,  0.0000e+00],\n",
       "          [-1.1116e-05,  0.0000e+00, -9.8944e-06,  0.0000e+00]])],\n",
       " [tensor([[ 6.1065e-04,  0.0000e+00, -1.6383e-03,  0.0000e+00],\n",
       "          [-5.9953e-04,  0.0000e+00,  2.1006e-05,  0.0000e+00],\n",
       "          [-1.1116e-05,  0.0000e+00, -9.8944e-06,  0.0000e+00]])],\n",
       " [tensor([[ 6.1065e-04,  0.0000e+00, -1.6383e-03,  0.0000e+00],\n",
       "          [-5.9953e-04,  0.0000e+00,  2.1006e-05,  0.0000e+00],\n",
       "          [-1.1116e-05,  0.0000e+00, -9.8944e-06,  0.0000e+00]])],\n",
       " [tensor([[ 6.1065e-04,  0.0000e+00, -1.6383e-03,  0.0000e+00],\n",
       "          [-5.9953e-04,  0.0000e+00,  2.1006e-05,  0.0000e+00],\n",
       "          [-1.1116e-05,  0.0000e+00, -9.8944e-06,  0.0000e+00]])],\n",
       " [tensor([[ 6.1065e-04,  0.0000e+00, -1.6383e-03,  0.0000e+00],\n",
       "          [-5.9953e-04,  0.0000e+00,  2.1006e-05,  0.0000e+00],\n",
       "          [-1.1116e-05,  0.0000e+00, -9.8944e-06,  0.0000e+00]])],\n",
       " [tensor([[ 6.1065e-04,  0.0000e+00, -1.6383e-03,  0.0000e+00],\n",
       "          [-5.9953e-04,  0.0000e+00,  2.1006e-05,  0.0000e+00],\n",
       "          [-1.1116e-05,  0.0000e+00, -9.8944e-06,  0.0000e+00]])],\n",
       " [tensor([[ 6.1065e-04,  0.0000e+00, -1.6383e-03,  0.0000e+00],\n",
       "          [-5.9953e-04,  0.0000e+00,  2.1006e-05,  0.0000e+00],\n",
       "          [-1.1116e-05,  0.0000e+00, -9.8944e-06,  0.0000e+00]])],\n",
       " [tensor([[ 6.1065e-04,  0.0000e+00, -1.6383e-03,  0.0000e+00],\n",
       "          [-5.9953e-04,  0.0000e+00,  2.1006e-05,  0.0000e+00],\n",
       "          [-1.1116e-05,  0.0000e+00, -9.8944e-06,  0.0000e+00]])],\n",
       " [tensor([[ 6.1065e-04,  0.0000e+00, -1.6383e-03,  0.0000e+00],\n",
       "          [-5.9953e-04,  0.0000e+00,  2.1006e-05,  0.0000e+00],\n",
       "          [-1.1116e-05,  0.0000e+00, -9.8944e-06,  0.0000e+00]])],\n",
       " [tensor([[ 6.1065e-04,  0.0000e+00, -1.6383e-03,  0.0000e+00],\n",
       "          [-5.9953e-04,  0.0000e+00,  2.1006e-05,  0.0000e+00],\n",
       "          [-1.1116e-05,  0.0000e+00, -9.8944e-06,  0.0000e+00]])],\n",
       " [tensor([[ 6.1065e-04,  0.0000e+00, -1.6383e-03,  0.0000e+00],\n",
       "          [-5.9953e-04,  0.0000e+00,  2.1006e-05,  0.0000e+00],\n",
       "          [-1.1116e-05,  0.0000e+00, -9.8944e-06,  0.0000e+00]])],\n",
       " [tensor([[ 6.1065e-04,  0.0000e+00, -1.6383e-03,  0.0000e+00],\n",
       "          [-5.9953e-04,  0.0000e+00,  2.1006e-05,  0.0000e+00],\n",
       "          [-1.1116e-05,  0.0000e+00, -9.8944e-06,  0.0000e+00]])],\n",
       " [tensor([[ 6.1065e-04,  0.0000e+00, -1.6383e-03,  0.0000e+00],\n",
       "          [-5.9953e-04,  0.0000e+00,  2.1006e-05,  0.0000e+00],\n",
       "          [-1.1116e-05,  0.0000e+00, -9.8944e-06,  0.0000e+00]])],\n",
       " [tensor([[ 6.1065e-04,  0.0000e+00, -1.6383e-03,  0.0000e+00],\n",
       "          [-5.9953e-04,  0.0000e+00,  2.1006e-05,  0.0000e+00],\n",
       "          [-1.1116e-05,  0.0000e+00, -9.8944e-06,  0.0000e+00]])],\n",
       " [tensor([[ 6.1065e-04,  0.0000e+00, -1.6383e-03,  0.0000e+00],\n",
       "          [-5.9953e-04,  0.0000e+00,  2.1006e-05,  0.0000e+00],\n",
       "          [-1.1116e-05,  0.0000e+00, -9.8944e-06,  0.0000e+00]])],\n",
       " [tensor([[ 6.1065e-04,  0.0000e+00, -1.6383e-03,  0.0000e+00],\n",
       "          [-5.9953e-04,  0.0000e+00,  2.1006e-05,  0.0000e+00],\n",
       "          [-1.1116e-05,  0.0000e+00, -9.8944e-06,  0.0000e+00]])],\n",
       " [tensor([[ 6.1065e-04,  0.0000e+00, -1.6383e-03,  0.0000e+00],\n",
       "          [-5.9953e-04,  0.0000e+00,  2.1006e-05,  0.0000e+00],\n",
       "          [-1.1116e-05,  0.0000e+00, -9.8944e-06,  0.0000e+00]])],\n",
       " [tensor([[ 6.1065e-04,  0.0000e+00, -1.6383e-03,  0.0000e+00],\n",
       "          [-5.9953e-04,  0.0000e+00,  2.1006e-05,  0.0000e+00],\n",
       "          [-1.1116e-05,  0.0000e+00, -9.8944e-06,  0.0000e+00]])],\n",
       " [tensor([[ 6.1065e-04,  0.0000e+00, -1.6383e-03,  0.0000e+00],\n",
       "          [-5.9953e-04,  0.0000e+00,  2.1006e-05,  0.0000e+00],\n",
       "          [-1.1116e-05,  0.0000e+00, -9.8944e-06,  0.0000e+00]])],\n",
       " [tensor([[ 6.1065e-04,  0.0000e+00, -1.6383e-03,  0.0000e+00],\n",
       "          [-5.9953e-04,  0.0000e+00,  2.1006e-05,  0.0000e+00],\n",
       "          [-1.1116e-05,  0.0000e+00, -9.8944e-06,  0.0000e+00]])],\n",
       " [tensor([[ 6.1065e-04,  0.0000e+00, -1.6383e-03,  0.0000e+00],\n",
       "          [-5.9953e-04,  0.0000e+00,  2.1006e-05,  0.0000e+00],\n",
       "          [-1.1116e-05,  0.0000e+00, -9.8944e-06,  0.0000e+00]])],\n",
       " [tensor([[ 6.1065e-04,  0.0000e+00, -1.6383e-03,  0.0000e+00],\n",
       "          [-5.9953e-04,  0.0000e+00,  2.1006e-05,  0.0000e+00],\n",
       "          [-1.1116e-05,  0.0000e+00, -9.8944e-06,  0.0000e+00]])],\n",
       " [tensor([[ 6.1065e-04,  0.0000e+00, -1.6383e-03,  0.0000e+00],\n",
       "          [-5.9953e-04,  0.0000e+00,  2.1006e-05,  0.0000e+00],\n",
       "          [-1.1116e-05,  0.0000e+00, -9.8944e-06,  0.0000e+00]])],\n",
       " [tensor([[ 6.1065e-04,  0.0000e+00, -1.6383e-03,  0.0000e+00],\n",
       "          [-5.9953e-04,  0.0000e+00,  2.1006e-05,  0.0000e+00],\n",
       "          [-1.1116e-05,  0.0000e+00, -9.8944e-06,  0.0000e+00]])],\n",
       " [tensor([[ 6.1065e-04,  0.0000e+00, -1.6383e-03,  0.0000e+00],\n",
       "          [-5.9953e-04,  0.0000e+00,  2.1006e-05,  0.0000e+00],\n",
       "          [-1.1116e-05,  0.0000e+00, -9.8944e-06,  0.0000e+00]])],\n",
       " [tensor([[ 6.1065e-04,  0.0000e+00, -1.6383e-03,  0.0000e+00],\n",
       "          [-5.9953e-04,  0.0000e+00,  2.1006e-05,  0.0000e+00],\n",
       "          [-1.1116e-05,  0.0000e+00, -9.8944e-06,  0.0000e+00]])],\n",
       " [tensor([[ 6.1065e-04,  0.0000e+00, -1.6383e-03,  0.0000e+00],\n",
       "          [-5.9953e-04,  0.0000e+00,  2.1006e-05,  0.0000e+00],\n",
       "          [-1.1116e-05,  0.0000e+00, -9.8944e-06,  0.0000e+00]])],\n",
       " [tensor([[ 6.1065e-04,  0.0000e+00, -1.6383e-03,  0.0000e+00],\n",
       "          [-5.9953e-04,  0.0000e+00,  2.1006e-05,  0.0000e+00],\n",
       "          [-1.1116e-05,  0.0000e+00, -9.8944e-06,  0.0000e+00]])],\n",
       " [tensor([[ 6.1065e-04,  0.0000e+00, -1.6383e-03,  0.0000e+00],\n",
       "          [-5.9953e-04,  0.0000e+00,  2.1006e-05,  0.0000e+00],\n",
       "          [-1.1116e-05,  0.0000e+00, -9.8944e-06,  0.0000e+00]])],\n",
       " [tensor([[ 6.1065e-04,  0.0000e+00, -1.6383e-03,  0.0000e+00],\n",
       "          [-5.9953e-04,  0.0000e+00,  2.1006e-05,  0.0000e+00],\n",
       "          [-1.1116e-05,  0.0000e+00, -9.8944e-06,  0.0000e+00]])],\n",
       " [tensor([[ 6.1065e-04,  0.0000e+00, -1.6383e-03,  0.0000e+00],\n",
       "          [-5.9953e-04,  0.0000e+00,  2.1006e-05,  0.0000e+00],\n",
       "          [-1.1116e-05,  0.0000e+00, -9.8944e-06,  0.0000e+00]])],\n",
       " [tensor([[ 6.1065e-04,  0.0000e+00, -1.6383e-03,  0.0000e+00],\n",
       "          [-5.9953e-04,  0.0000e+00,  2.1006e-05,  0.0000e+00],\n",
       "          [-1.1116e-05,  0.0000e+00, -9.8944e-06,  0.0000e+00]])],\n",
       " [tensor([[ 6.1065e-04,  0.0000e+00, -1.6383e-03,  0.0000e+00],\n",
       "          [-5.9953e-04,  0.0000e+00,  2.1006e-05,  0.0000e+00],\n",
       "          [-1.1116e-05,  0.0000e+00, -9.8944e-06,  0.0000e+00]])],\n",
       " [tensor([[ 6.1065e-04,  0.0000e+00, -1.6383e-03,  0.0000e+00],\n",
       "          [-5.9953e-04,  0.0000e+00,  2.1006e-05,  0.0000e+00],\n",
       "          [-1.1116e-05,  0.0000e+00, -9.8944e-06,  0.0000e+00]])],\n",
       " [tensor([[ 6.1065e-04,  0.0000e+00, -1.6383e-03,  0.0000e+00],\n",
       "          [-5.9953e-04,  0.0000e+00,  2.1006e-05,  0.0000e+00],\n",
       "          [-1.1116e-05,  0.0000e+00, -9.8944e-06,  0.0000e+00]])],\n",
       " [tensor([[ 6.1065e-04,  0.0000e+00, -1.6383e-03,  0.0000e+00],\n",
       "          [-5.9953e-04,  0.0000e+00,  2.1006e-05,  0.0000e+00],\n",
       "          [-1.1116e-05,  0.0000e+00, -9.8944e-06,  0.0000e+00]])],\n",
       " [tensor([[ 6.1065e-04,  0.0000e+00, -1.6383e-03,  0.0000e+00],\n",
       "          [-5.9953e-04,  0.0000e+00,  2.1006e-05,  0.0000e+00],\n",
       "          [-1.1116e-05,  0.0000e+00, -9.8944e-06,  0.0000e+00]])],\n",
       " [tensor([[ 6.1065e-04,  0.0000e+00, -1.6383e-03,  0.0000e+00],\n",
       "          [-5.9953e-04,  0.0000e+00,  2.1006e-05,  0.0000e+00],\n",
       "          [-1.1116e-05,  0.0000e+00, -9.8944e-06,  0.0000e+00]])],\n",
       " [tensor([[ 6.1065e-04,  0.0000e+00, -1.6383e-03,  0.0000e+00],\n",
       "          [-5.9953e-04,  0.0000e+00,  2.1006e-05,  0.0000e+00],\n",
       "          [-1.1116e-05,  0.0000e+00, -9.8944e-06,  0.0000e+00]])],\n",
       " [tensor([[ 6.1065e-04,  0.0000e+00, -1.6383e-03,  0.0000e+00],\n",
       "          [-5.9953e-04,  0.0000e+00,  2.1006e-05,  0.0000e+00],\n",
       "          [-1.1116e-05,  0.0000e+00, -9.8944e-06,  0.0000e+00]])],\n",
       " [tensor([[ 6.1065e-04,  0.0000e+00, -1.6383e-03,  0.0000e+00],\n",
       "          [-5.9953e-04,  0.0000e+00,  2.1006e-05,  0.0000e+00],\n",
       "          [-1.1116e-05,  0.0000e+00, -9.8944e-06,  0.0000e+00]])],\n",
       " [tensor([[ 6.1065e-04,  0.0000e+00, -1.6383e-03,  0.0000e+00],\n",
       "          [-5.9953e-04,  0.0000e+00,  2.1006e-05,  0.0000e+00],\n",
       "          [-1.1116e-05,  0.0000e+00, -9.8944e-06,  0.0000e+00]])],\n",
       " [tensor([[ 6.1065e-04,  0.0000e+00, -1.6383e-03,  0.0000e+00],\n",
       "          [-5.9953e-04,  0.0000e+00,  2.1006e-05,  0.0000e+00],\n",
       "          [-1.1116e-05,  0.0000e+00, -9.8944e-06,  0.0000e+00]])],\n",
       " [tensor([[ 6.1065e-04,  0.0000e+00, -1.6383e-03,  0.0000e+00],\n",
       "          [-5.9953e-04,  0.0000e+00,  2.1006e-05,  0.0000e+00],\n",
       "          [-1.1116e-05,  0.0000e+00, -9.8944e-06,  0.0000e+00]])],\n",
       " [tensor([[ 6.1065e-04,  0.0000e+00, -1.6383e-03,  0.0000e+00],\n",
       "          [-5.9953e-04,  0.0000e+00,  2.1006e-05,  0.0000e+00],\n",
       "          [-1.1116e-05,  0.0000e+00, -9.8944e-06,  0.0000e+00]])],\n",
       " [tensor([[ 6.1065e-04,  0.0000e+00, -1.6383e-03,  0.0000e+00],\n",
       "          [-5.9953e-04,  0.0000e+00,  2.1006e-05,  0.0000e+00],\n",
       "          [-1.1116e-05,  0.0000e+00, -9.8944e-06,  0.0000e+00]])],\n",
       " [tensor([[ 6.1065e-04,  0.0000e+00, -1.6383e-03,  0.0000e+00],\n",
       "          [-5.9953e-04,  0.0000e+00,  2.1006e-05,  0.0000e+00],\n",
       "          [-1.1116e-05,  0.0000e+00, -9.8944e-06,  0.0000e+00]])],\n",
       " [tensor([[ 6.1065e-04,  0.0000e+00, -1.6383e-03,  0.0000e+00],\n",
       "          [-5.9953e-04,  0.0000e+00,  2.1006e-05,  0.0000e+00],\n",
       "          [-1.1116e-05,  0.0000e+00, -9.8944e-06,  0.0000e+00]])],\n",
       " [tensor([[ 6.1065e-04,  0.0000e+00, -1.6383e-03,  0.0000e+00],\n",
       "          [-5.9953e-04,  0.0000e+00,  2.1006e-05,  0.0000e+00],\n",
       "          [-1.1116e-05,  0.0000e+00, -9.8944e-06,  0.0000e+00]])],\n",
       " [tensor([[ 6.1065e-04,  0.0000e+00, -1.6383e-03,  0.0000e+00],\n",
       "          [-5.9953e-04,  0.0000e+00,  2.1006e-05,  0.0000e+00],\n",
       "          [-1.1116e-05,  0.0000e+00, -9.8944e-06,  0.0000e+00]])],\n",
       " [tensor([[ 6.1065e-04,  0.0000e+00, -1.6383e-03,  0.0000e+00],\n",
       "          [-5.9953e-04,  0.0000e+00,  2.1006e-05,  0.0000e+00],\n",
       "          [-1.1116e-05,  0.0000e+00, -9.8944e-06,  0.0000e+00]])],\n",
       " [tensor([[ 6.1065e-04,  0.0000e+00, -1.6383e-03,  0.0000e+00],\n",
       "          [-5.9953e-04,  0.0000e+00,  2.1006e-05,  0.0000e+00],\n",
       "          [-1.1116e-05,  0.0000e+00, -9.8944e-06,  0.0000e+00]])],\n",
       " [tensor([[ 6.1065e-04,  0.0000e+00, -1.6383e-03,  0.0000e+00],\n",
       "          [-5.9953e-04,  0.0000e+00,  2.1006e-05,  0.0000e+00],\n",
       "          [-1.1116e-05,  0.0000e+00, -9.8944e-06,  0.0000e+00]])],\n",
       " [tensor([[ 6.1065e-04,  0.0000e+00, -1.6383e-03,  0.0000e+00],\n",
       "          [-5.9953e-04,  0.0000e+00,  2.1006e-05,  0.0000e+00],\n",
       "          [-1.1116e-05,  0.0000e+00, -9.8944e-06,  0.0000e+00]])],\n",
       " [tensor([[ 6.1065e-04,  0.0000e+00, -1.6383e-03,  0.0000e+00],\n",
       "          [-5.9953e-04,  0.0000e+00,  2.1006e-05,  0.0000e+00],\n",
       "          [-1.1116e-05,  0.0000e+00, -9.8944e-06,  0.0000e+00]])],\n",
       " [tensor([[ 6.1065e-04,  0.0000e+00, -1.6383e-03,  0.0000e+00],\n",
       "          [-5.9953e-04,  0.0000e+00,  2.1006e-05,  0.0000e+00],\n",
       "          [-1.1116e-05,  0.0000e+00, -9.8944e-06,  0.0000e+00]])],\n",
       " [tensor([[ 6.1065e-04,  0.0000e+00, -1.6383e-03,  0.0000e+00],\n",
       "          [-5.9953e-04,  0.0000e+00,  2.1006e-05,  0.0000e+00],\n",
       "          [-1.1116e-05,  0.0000e+00, -9.8944e-06,  0.0000e+00]])],\n",
       " [tensor([[ 6.1065e-04,  0.0000e+00, -1.6383e-03,  0.0000e+00],\n",
       "          [-5.9953e-04,  0.0000e+00,  2.1006e-05,  0.0000e+00],\n",
       "          [-1.1116e-05,  0.0000e+00, -9.8944e-06,  0.0000e+00]])],\n",
       " [tensor([[ 6.1065e-04,  0.0000e+00, -1.6383e-03,  0.0000e+00],\n",
       "          [-5.9953e-04,  0.0000e+00,  2.1006e-05,  0.0000e+00],\n",
       "          [-1.1116e-05,  0.0000e+00, -9.8944e-06,  0.0000e+00]])],\n",
       " [tensor([[ 6.1065e-04,  0.0000e+00, -1.6383e-03,  0.0000e+00],\n",
       "          [-5.9953e-04,  0.0000e+00,  2.1006e-05,  0.0000e+00],\n",
       "          [-1.1116e-05,  0.0000e+00, -9.8944e-06,  0.0000e+00]])],\n",
       " [tensor([[ 6.1065e-04,  0.0000e+00, -1.6383e-03,  0.0000e+00],\n",
       "          [-5.9953e-04,  0.0000e+00,  2.1006e-05,  0.0000e+00],\n",
       "          [-1.1116e-05,  0.0000e+00, -9.8944e-06,  0.0000e+00]])],\n",
       " [tensor([[ 6.1065e-04,  0.0000e+00, -1.6383e-03,  0.0000e+00],\n",
       "          [-5.9953e-04,  0.0000e+00,  2.1006e-05,  0.0000e+00],\n",
       "          [-1.1116e-05,  0.0000e+00, -9.8944e-06,  0.0000e+00]])],\n",
       " [tensor([[ 6.1065e-04,  0.0000e+00, -1.6383e-03,  0.0000e+00],\n",
       "          [-5.9953e-04,  0.0000e+00,  2.1006e-05,  0.0000e+00],\n",
       "          [-1.1116e-05,  0.0000e+00, -9.8944e-06,  0.0000e+00]])],\n",
       " [tensor([[ 6.1065e-04,  0.0000e+00, -1.6383e-03,  0.0000e+00],\n",
       "          [-5.9953e-04,  0.0000e+00,  2.1006e-05,  0.0000e+00],\n",
       "          [-1.1116e-05,  0.0000e+00, -9.8944e-06,  0.0000e+00]])],\n",
       " [tensor([[ 6.1065e-04,  0.0000e+00, -1.6383e-03,  0.0000e+00],\n",
       "          [-5.9953e-04,  0.0000e+00,  2.1006e-05,  0.0000e+00],\n",
       "          [-1.1116e-05,  0.0000e+00, -9.8944e-06,  0.0000e+00]])],\n",
       " [tensor([[ 6.1065e-04,  0.0000e+00, -1.6383e-03,  0.0000e+00],\n",
       "          [-5.9953e-04,  0.0000e+00,  2.1006e-05,  0.0000e+00],\n",
       "          [-1.1116e-05,  0.0000e+00, -9.8944e-06,  0.0000e+00]])],\n",
       " [tensor([[ 6.1065e-04,  0.0000e+00, -1.6383e-03,  0.0000e+00],\n",
       "          [-5.9953e-04,  0.0000e+00,  2.1006e-05,  0.0000e+00],\n",
       "          [-1.1116e-05,  0.0000e+00, -9.8944e-06,  0.0000e+00]])],\n",
       " [tensor([[ 6.1065e-04,  0.0000e+00, -1.6383e-03,  0.0000e+00],\n",
       "          [-5.9953e-04,  0.0000e+00,  2.1006e-05,  0.0000e+00],\n",
       "          [-1.1116e-05,  0.0000e+00, -9.8944e-06,  0.0000e+00]])],\n",
       " [tensor([[ 6.1065e-04,  0.0000e+00, -1.6383e-03,  0.0000e+00],\n",
       "          [-5.9953e-04,  0.0000e+00,  2.1006e-05,  0.0000e+00],\n",
       "          [-1.1116e-05,  0.0000e+00, -9.8944e-06,  0.0000e+00]])],\n",
       " [tensor([[ 6.1065e-04,  0.0000e+00, -1.6383e-03,  0.0000e+00],\n",
       "          [-5.9953e-04,  0.0000e+00,  2.1006e-05,  0.0000e+00],\n",
       "          [-1.1116e-05,  0.0000e+00, -9.8944e-06,  0.0000e+00]])],\n",
       " [tensor([[ 6.1065e-04,  0.0000e+00, -1.6383e-03,  0.0000e+00],\n",
       "          [-5.9953e-04,  0.0000e+00,  2.1006e-05,  0.0000e+00],\n",
       "          [-1.1116e-05,  0.0000e+00, -9.8944e-06,  0.0000e+00]])],\n",
       " [tensor([[ 6.1065e-04,  0.0000e+00, -1.6383e-03,  0.0000e+00],\n",
       "          [-5.9953e-04,  0.0000e+00,  2.1006e-05,  0.0000e+00],\n",
       "          [-1.1116e-05,  0.0000e+00, -9.8944e-06,  0.0000e+00]])],\n",
       " [tensor([[ 6.1065e-04,  0.0000e+00, -1.6383e-03,  0.0000e+00],\n",
       "          [-5.9953e-04,  0.0000e+00,  2.1006e-05,  0.0000e+00],\n",
       "          [-1.1116e-05,  0.0000e+00, -9.8944e-06,  0.0000e+00]])],\n",
       " [tensor([[ 6.1065e-04,  0.0000e+00, -1.6383e-03,  0.0000e+00],\n",
       "          [-5.9953e-04,  0.0000e+00,  2.1006e-05,  0.0000e+00],\n",
       "          [-1.1116e-05,  0.0000e+00, -9.8944e-06,  0.0000e+00]])],\n",
       " [tensor([[ 6.1065e-04,  0.0000e+00, -1.6383e-03,  0.0000e+00],\n",
       "          [-5.9953e-04,  0.0000e+00,  2.1006e-05,  0.0000e+00],\n",
       "          [-1.1116e-05,  0.0000e+00, -9.8944e-06,  0.0000e+00]])],\n",
       " [tensor([[ 6.1065e-04,  0.0000e+00, -1.6383e-03,  0.0000e+00],\n",
       "          [-5.9953e-04,  0.0000e+00,  2.1006e-05,  0.0000e+00],\n",
       "          [-1.1116e-05,  0.0000e+00, -9.8944e-06,  0.0000e+00]])],\n",
       " [tensor([[ 6.1065e-04,  0.0000e+00, -1.6383e-03,  0.0000e+00],\n",
       "          [-5.9953e-04,  0.0000e+00,  2.1006e-05,  0.0000e+00],\n",
       "          [-1.1116e-05,  0.0000e+00, -9.8944e-06,  0.0000e+00]])],\n",
       " [tensor([[ 6.1065e-04,  0.0000e+00, -1.6383e-03,  0.0000e+00],\n",
       "          [-5.9953e-04,  0.0000e+00,  2.1006e-05,  0.0000e+00],\n",
       "          [-1.1116e-05,  0.0000e+00, -9.8944e-06,  0.0000e+00]])],\n",
       " [tensor([[ 6.1065e-04,  0.0000e+00, -1.6383e-03,  0.0000e+00],\n",
       "          [-5.9953e-04,  0.0000e+00,  2.1006e-05,  0.0000e+00],\n",
       "          [-1.1116e-05,  0.0000e+00, -9.8944e-06,  0.0000e+00]])],\n",
       " [tensor([[ 6.1065e-04,  0.0000e+00, -1.6383e-03,  0.0000e+00],\n",
       "          [-5.9953e-04,  0.0000e+00,  2.1006e-05,  0.0000e+00],\n",
       "          [-1.1116e-05,  0.0000e+00, -9.8944e-06,  0.0000e+00]])],\n",
       " [tensor([[ 6.1065e-04,  0.0000e+00, -1.6383e-03,  0.0000e+00],\n",
       "          [-5.9953e-04,  0.0000e+00,  2.1006e-05,  0.0000e+00],\n",
       "          [-1.1116e-05,  0.0000e+00, -9.8944e-06,  0.0000e+00]])],\n",
       " [tensor([[ 6.1065e-04,  0.0000e+00, -1.6383e-03,  0.0000e+00],\n",
       "          [-5.9953e-04,  0.0000e+00,  2.1006e-05,  0.0000e+00],\n",
       "          [-1.1116e-05,  0.0000e+00, -9.8944e-06,  0.0000e+00]])],\n",
       " [tensor([[ 6.1065e-04,  0.0000e+00, -1.6383e-03,  0.0000e+00],\n",
       "          [-5.9953e-04,  0.0000e+00,  2.1006e-05,  0.0000e+00],\n",
       "          [-1.1116e-05,  0.0000e+00, -9.8944e-06,  0.0000e+00]])],\n",
       " [tensor([[ 6.1065e-04,  0.0000e+00, -1.6383e-03,  0.0000e+00],\n",
       "          [-5.9953e-04,  0.0000e+00,  2.1006e-05,  0.0000e+00],\n",
       "          [-1.1116e-05,  0.0000e+00, -9.8944e-06,  0.0000e+00]])],\n",
       " [tensor([[ 6.1065e-04,  0.0000e+00, -1.6383e-03,  0.0000e+00],\n",
       "          [-5.9953e-04,  0.0000e+00,  2.1006e-05,  0.0000e+00],\n",
       "          [-1.1116e-05,  0.0000e+00, -9.8944e-06,  0.0000e+00]])],\n",
       " [tensor([[ 6.1065e-04,  0.0000e+00, -1.6383e-03,  0.0000e+00],\n",
       "          [-5.9953e-04,  0.0000e+00,  2.1006e-05,  0.0000e+00],\n",
       "          [-1.1116e-05,  0.0000e+00, -9.8944e-06,  0.0000e+00]])],\n",
       " [tensor([[ 6.1065e-04,  0.0000e+00, -1.6383e-03,  0.0000e+00],\n",
       "          [-5.9953e-04,  0.0000e+00,  2.1006e-05,  0.0000e+00],\n",
       "          [-1.1116e-05,  0.0000e+00, -9.8944e-06,  0.0000e+00]])],\n",
       " [tensor([[ 6.1065e-04,  0.0000e+00, -1.6383e-03,  0.0000e+00],\n",
       "          [-5.9953e-04,  0.0000e+00,  2.1006e-05,  0.0000e+00],\n",
       "          [-1.1116e-05,  0.0000e+00, -9.8944e-06,  0.0000e+00]])],\n",
       " [tensor([[ 6.1065e-04,  0.0000e+00, -1.6383e-03,  0.0000e+00],\n",
       "          [-5.9953e-04,  0.0000e+00,  2.1006e-05,  0.0000e+00],\n",
       "          [-1.1116e-05,  0.0000e+00, -9.8944e-06,  0.0000e+00]])],\n",
       " [tensor([[ 6.1065e-04,  0.0000e+00, -1.6383e-03,  0.0000e+00],\n",
       "          [-5.9953e-04,  0.0000e+00,  2.1006e-05,  0.0000e+00],\n",
       "          [-1.1116e-05,  0.0000e+00, -9.8944e-06,  0.0000e+00]])],\n",
       " [tensor([[ 6.1065e-04,  0.0000e+00, -1.6383e-03,  0.0000e+00],\n",
       "          [-5.9953e-04,  0.0000e+00,  2.1006e-05,  0.0000e+00],\n",
       "          [-1.1116e-05,  0.0000e+00, -9.8944e-06,  0.0000e+00]])],\n",
       " [tensor([[ 6.1065e-04,  0.0000e+00, -1.6383e-03,  0.0000e+00],\n",
       "          [-5.9953e-04,  0.0000e+00,  2.1006e-05,  0.0000e+00],\n",
       "          [-1.1116e-05,  0.0000e+00, -9.8944e-06,  0.0000e+00]])],\n",
       " [tensor([[ 6.1065e-04,  0.0000e+00, -1.6383e-03,  0.0000e+00],\n",
       "          [-5.9953e-04,  0.0000e+00,  2.1006e-05,  0.0000e+00],\n",
       "          [-1.1116e-05,  0.0000e+00, -9.8944e-06,  0.0000e+00]])],\n",
       " [tensor([[ 6.1065e-04,  0.0000e+00, -1.6383e-03,  0.0000e+00],\n",
       "          [-5.9953e-04,  0.0000e+00,  2.1006e-05,  0.0000e+00],\n",
       "          [-1.1116e-05,  0.0000e+00, -9.8944e-06,  0.0000e+00]])],\n",
       " [tensor([[ 6.1065e-04,  0.0000e+00, -1.6383e-03,  0.0000e+00],\n",
       "          [-5.9953e-04,  0.0000e+00,  2.1006e-05,  0.0000e+00],\n",
       "          [-1.1116e-05,  0.0000e+00, -9.8944e-06,  0.0000e+00]])],\n",
       " [tensor([[ 6.1065e-04,  0.0000e+00, -1.6383e-03,  0.0000e+00],\n",
       "          [-5.9953e-04,  0.0000e+00,  2.1006e-05,  0.0000e+00],\n",
       "          [-1.1116e-05,  0.0000e+00, -9.8944e-06,  0.0000e+00]])],\n",
       " [tensor([[ 6.1065e-04,  0.0000e+00, -1.6383e-03,  0.0000e+00],\n",
       "          [-5.9953e-04,  0.0000e+00,  2.1006e-05,  0.0000e+00],\n",
       "          [-1.1116e-05,  0.0000e+00, -9.8944e-06,  0.0000e+00]])],\n",
       " [tensor([[ 6.1065e-04,  0.0000e+00, -1.6383e-03,  0.0000e+00],\n",
       "          [-5.9953e-04,  0.0000e+00,  2.1006e-05,  0.0000e+00],\n",
       "          [-1.1116e-05,  0.0000e+00, -9.8944e-06,  0.0000e+00]])],\n",
       " [tensor([[ 6.1065e-04,  0.0000e+00, -1.6383e-03,  0.0000e+00],\n",
       "          [-5.9953e-04,  0.0000e+00,  2.1006e-05,  0.0000e+00],\n",
       "          [-1.1116e-05,  0.0000e+00, -9.8944e-06,  0.0000e+00]])],\n",
       " [tensor([[ 6.1065e-04,  0.0000e+00, -1.6383e-03,  0.0000e+00],\n",
       "          [-5.9953e-04,  0.0000e+00,  2.1006e-05,  0.0000e+00],\n",
       "          [-1.1116e-05,  0.0000e+00, -9.8944e-06,  0.0000e+00]])],\n",
       " [tensor([[ 6.1065e-04,  0.0000e+00, -1.6383e-03,  0.0000e+00],\n",
       "          [-5.9953e-04,  0.0000e+00,  2.1006e-05,  0.0000e+00],\n",
       "          [-1.1116e-05,  0.0000e+00, -9.8944e-06,  0.0000e+00]])],\n",
       " [tensor([[ 6.1065e-04,  0.0000e+00, -1.6383e-03,  0.0000e+00],\n",
       "          [-5.9953e-04,  0.0000e+00,  2.1006e-05,  0.0000e+00],\n",
       "          [-1.1116e-05,  0.0000e+00, -9.8944e-06,  0.0000e+00]])],\n",
       " [tensor([[ 6.1065e-04,  0.0000e+00, -1.6383e-03,  0.0000e+00],\n",
       "          [-5.9953e-04,  0.0000e+00,  2.1006e-05,  0.0000e+00],\n",
       "          [-1.1116e-05,  0.0000e+00, -9.8944e-06,  0.0000e+00]])],\n",
       " [tensor([[ 6.1065e-04,  0.0000e+00, -1.6383e-03,  0.0000e+00],\n",
       "          [-5.9953e-04,  0.0000e+00,  2.1006e-05,  0.0000e+00],\n",
       "          [-1.1116e-05,  0.0000e+00, -9.8944e-06,  0.0000e+00]])],\n",
       " [tensor([[ 6.1065e-04,  0.0000e+00, -1.6383e-03,  0.0000e+00],\n",
       "          [-5.9953e-04,  0.0000e+00,  2.1006e-05,  0.0000e+00],\n",
       "          [-1.1116e-05,  0.0000e+00, -9.8944e-06,  0.0000e+00]])],\n",
       " [tensor([[ 6.1065e-04,  0.0000e+00, -1.6383e-03,  0.0000e+00],\n",
       "          [-5.9953e-04,  0.0000e+00,  2.1006e-05,  0.0000e+00],\n",
       "          [-1.1116e-05,  0.0000e+00, -9.8944e-06,  0.0000e+00]])],\n",
       " [tensor([[ 6.1065e-04,  0.0000e+00, -1.6383e-03,  0.0000e+00],\n",
       "          [-5.9953e-04,  0.0000e+00,  2.1006e-05,  0.0000e+00],\n",
       "          [-1.1116e-05,  0.0000e+00, -9.8944e-06,  0.0000e+00]])],\n",
       " [tensor([[ 6.1065e-04,  0.0000e+00, -1.6383e-03,  0.0000e+00],\n",
       "          [-5.9953e-04,  0.0000e+00,  2.1006e-05,  0.0000e+00],\n",
       "          [-1.1116e-05,  0.0000e+00, -9.8944e-06,  0.0000e+00]])],\n",
       " [tensor([[ 6.1065e-04,  0.0000e+00, -1.6383e-03,  0.0000e+00],\n",
       "          [-5.9953e-04,  0.0000e+00,  2.1006e-05,  0.0000e+00],\n",
       "          [-1.1116e-05,  0.0000e+00, -9.8944e-06,  0.0000e+00]])],\n",
       " [tensor([[ 6.1065e-04,  0.0000e+00, -1.6383e-03,  0.0000e+00],\n",
       "          [-5.9953e-04,  0.0000e+00,  2.1006e-05,  0.0000e+00],\n",
       "          [-1.1116e-05,  0.0000e+00, -9.8944e-06,  0.0000e+00]])],\n",
       " [tensor([[ 6.1065e-04,  0.0000e+00, -1.6383e-03,  0.0000e+00],\n",
       "          [-5.9953e-04,  0.0000e+00,  2.1006e-05,  0.0000e+00],\n",
       "          [-1.1116e-05,  0.0000e+00, -9.8944e-06,  0.0000e+00]])],\n",
       " [tensor([[ 6.1065e-04,  0.0000e+00, -1.6383e-03,  0.0000e+00],\n",
       "          [-5.9953e-04,  0.0000e+00,  2.1006e-05,  0.0000e+00],\n",
       "          [-1.1116e-05,  0.0000e+00, -9.8944e-06,  0.0000e+00]])],\n",
       " [tensor([[ 6.1065e-04,  0.0000e+00, -1.6383e-03,  0.0000e+00],\n",
       "          [-5.9953e-04,  0.0000e+00,  2.1006e-05,  0.0000e+00],\n",
       "          [-1.1116e-05,  0.0000e+00, -9.8944e-06,  0.0000e+00]])],\n",
       " [tensor([[ 6.1065e-04,  0.0000e+00, -1.6383e-03,  0.0000e+00],\n",
       "          [-5.9953e-04,  0.0000e+00,  2.1006e-05,  0.0000e+00],\n",
       "          [-1.1116e-05,  0.0000e+00, -9.8944e-06,  0.0000e+00]])],\n",
       " [tensor([[ 6.1065e-04,  0.0000e+00, -1.6383e-03,  0.0000e+00],\n",
       "          [-5.9953e-04,  0.0000e+00,  2.1006e-05,  0.0000e+00],\n",
       "          [-1.1116e-05,  0.0000e+00, -9.8944e-06,  0.0000e+00]])],\n",
       " [tensor([[ 6.1065e-04,  0.0000e+00, -1.6383e-03,  0.0000e+00],\n",
       "          [-5.9953e-04,  0.0000e+00,  2.1006e-05,  0.0000e+00],\n",
       "          [-1.1116e-05,  0.0000e+00, -9.8944e-06,  0.0000e+00]])],\n",
       " [tensor([[ 6.1065e-04,  0.0000e+00, -1.6383e-03,  0.0000e+00],\n",
       "          [-5.9953e-04,  0.0000e+00,  2.1006e-05,  0.0000e+00],\n",
       "          [-1.1116e-05,  0.0000e+00, -9.8944e-06,  0.0000e+00]])],\n",
       " [tensor([[ 6.1065e-04,  0.0000e+00, -1.6383e-03,  0.0000e+00],\n",
       "          [-5.9953e-04,  0.0000e+00,  2.1006e-05,  0.0000e+00],\n",
       "          [-1.1116e-05,  0.0000e+00, -9.8944e-06,  0.0000e+00]])],\n",
       " [tensor([[ 6.1065e-04,  0.0000e+00, -1.6383e-03,  0.0000e+00],\n",
       "          [-5.9953e-04,  0.0000e+00,  2.1006e-05,  0.0000e+00],\n",
       "          [-1.1116e-05,  0.0000e+00, -9.8944e-06,  0.0000e+00]])],\n",
       " [tensor([[ 6.1065e-04,  0.0000e+00, -1.6383e-03,  0.0000e+00],\n",
       "          [-5.9953e-04,  0.0000e+00,  2.1006e-05,  0.0000e+00],\n",
       "          [-1.1116e-05,  0.0000e+00, -9.8944e-06,  0.0000e+00]])],\n",
       " [tensor([[ 6.1065e-04,  0.0000e+00, -1.6383e-03,  0.0000e+00],\n",
       "          [-5.9953e-04,  0.0000e+00,  2.1006e-05,  0.0000e+00],\n",
       "          [-1.1116e-05,  0.0000e+00, -9.8944e-06,  0.0000e+00]])],\n",
       " [tensor([[ 6.1065e-04,  0.0000e+00, -1.6383e-03,  0.0000e+00],\n",
       "          [-5.9953e-04,  0.0000e+00,  2.1006e-05,  0.0000e+00],\n",
       "          [-1.1116e-05,  0.0000e+00, -9.8944e-06,  0.0000e+00]])],\n",
       " [tensor([[ 6.1065e-04,  0.0000e+00, -1.6383e-03,  0.0000e+00],\n",
       "          [-5.9953e-04,  0.0000e+00,  2.1006e-05,  0.0000e+00],\n",
       "          [-1.1116e-05,  0.0000e+00, -9.8944e-06,  0.0000e+00]])],\n",
       " [tensor([[ 6.1065e-04,  0.0000e+00, -1.6383e-03,  0.0000e+00],\n",
       "          [-5.9953e-04,  0.0000e+00,  2.1006e-05,  0.0000e+00],\n",
       "          [-1.1116e-05,  0.0000e+00, -9.8944e-06,  0.0000e+00]])],\n",
       " [tensor([[ 6.1065e-04,  0.0000e+00, -1.6383e-03,  0.0000e+00],\n",
       "          [-5.9953e-04,  0.0000e+00,  2.1006e-05,  0.0000e+00],\n",
       "          [-1.1116e-05,  0.0000e+00, -9.8944e-06,  0.0000e+00]])],\n",
       " [tensor([[ 6.1065e-04,  0.0000e+00, -1.6383e-03,  0.0000e+00],\n",
       "          [-5.9953e-04,  0.0000e+00,  2.1006e-05,  0.0000e+00],\n",
       "          [-1.1116e-05,  0.0000e+00, -9.8944e-06,  0.0000e+00]])],\n",
       " [tensor([[ 6.1065e-04,  0.0000e+00, -1.6383e-03,  0.0000e+00],\n",
       "          [-5.9953e-04,  0.0000e+00,  2.1006e-05,  0.0000e+00],\n",
       "          [-1.1116e-05,  0.0000e+00, -9.8944e-06,  0.0000e+00]])],\n",
       " [tensor([[ 6.1065e-04,  0.0000e+00, -1.6383e-03,  0.0000e+00],\n",
       "          [-5.9953e-04,  0.0000e+00,  2.1006e-05,  0.0000e+00],\n",
       "          [-1.1116e-05,  0.0000e+00, -9.8944e-06,  0.0000e+00]])],\n",
       " [tensor([[ 6.1065e-04,  0.0000e+00, -1.6383e-03,  0.0000e+00],\n",
       "          [-5.9953e-04,  0.0000e+00,  2.1006e-05,  0.0000e+00],\n",
       "          [-1.1116e-05,  0.0000e+00, -9.8944e-06,  0.0000e+00]])],\n",
       " [tensor([[ 6.1065e-04,  0.0000e+00, -1.6383e-03,  0.0000e+00],\n",
       "          [-5.9953e-04,  0.0000e+00,  2.1006e-05,  0.0000e+00],\n",
       "          [-1.1116e-05,  0.0000e+00, -9.8944e-06,  0.0000e+00]])],\n",
       " [tensor([[ 6.1065e-04,  0.0000e+00, -1.6383e-03,  0.0000e+00],\n",
       "          [-5.9953e-04,  0.0000e+00,  2.1006e-05,  0.0000e+00],\n",
       "          [-1.1116e-05,  0.0000e+00, -9.8944e-06,  0.0000e+00]])],\n",
       " [tensor([[ 6.1065e-04,  0.0000e+00, -1.6383e-03,  0.0000e+00],\n",
       "          [-5.9953e-04,  0.0000e+00,  2.1006e-05,  0.0000e+00],\n",
       "          [-1.1116e-05,  0.0000e+00, -9.8944e-06,  0.0000e+00]])],\n",
       " [tensor([[ 6.1065e-04,  0.0000e+00, -1.6383e-03,  0.0000e+00],\n",
       "          [-5.9953e-04,  0.0000e+00,  2.1006e-05,  0.0000e+00],\n",
       "          [-1.1116e-05,  0.0000e+00, -9.8944e-06,  0.0000e+00]])],\n",
       " [tensor([[ 6.1065e-04,  0.0000e+00, -1.6383e-03,  0.0000e+00],\n",
       "          [-5.9953e-04,  0.0000e+00,  2.1006e-05,  0.0000e+00],\n",
       "          [-1.1116e-05,  0.0000e+00, -9.8944e-06,  0.0000e+00]])],\n",
       " [tensor([[ 6.1065e-04,  0.0000e+00, -1.6383e-03,  0.0000e+00],\n",
       "          [-5.9953e-04,  0.0000e+00,  2.1006e-05,  0.0000e+00],\n",
       "          [-1.1116e-05,  0.0000e+00, -9.8944e-06,  0.0000e+00]])],\n",
       " [tensor([[ 6.1065e-04,  0.0000e+00, -1.6383e-03,  0.0000e+00],\n",
       "          [-5.9953e-04,  0.0000e+00,  2.1006e-05,  0.0000e+00],\n",
       "          [-1.1116e-05,  0.0000e+00, -9.8944e-06,  0.0000e+00]])],\n",
       " [tensor([[ 6.1065e-04,  0.0000e+00, -1.6383e-03,  0.0000e+00],\n",
       "          [-5.9953e-04,  0.0000e+00,  2.1006e-05,  0.0000e+00],\n",
       "          [-1.1116e-05,  0.0000e+00, -9.8944e-06,  0.0000e+00]])],\n",
       " [tensor([[ 6.1065e-04,  0.0000e+00, -1.6383e-03,  0.0000e+00],\n",
       "          [-5.9953e-04,  0.0000e+00,  2.1006e-05,  0.0000e+00],\n",
       "          [-1.1116e-05,  0.0000e+00, -9.8944e-06,  0.0000e+00]])],\n",
       " [tensor([[ 6.1065e-04,  0.0000e+00, -1.6383e-03,  0.0000e+00],\n",
       "          [-5.9953e-04,  0.0000e+00,  2.1006e-05,  0.0000e+00],\n",
       "          [-1.1116e-05,  0.0000e+00, -9.8944e-06,  0.0000e+00]])],\n",
       " [tensor([[ 6.1065e-04,  0.0000e+00, -1.6383e-03,  0.0000e+00],\n",
       "          [-5.9953e-04,  0.0000e+00,  2.1006e-05,  0.0000e+00],\n",
       "          [-1.1116e-05,  0.0000e+00, -9.8944e-06,  0.0000e+00]])],\n",
       " [tensor([[ 6.1065e-04,  0.0000e+00, -1.6383e-03,  0.0000e+00],\n",
       "          [-5.9953e-04,  0.0000e+00,  2.1006e-05,  0.0000e+00],\n",
       "          [-1.1116e-05,  0.0000e+00, -9.8944e-06,  0.0000e+00]])],\n",
       " [tensor([[ 6.1065e-04,  0.0000e+00, -1.6383e-03,  0.0000e+00],\n",
       "          [-5.9953e-04,  0.0000e+00,  2.1006e-05,  0.0000e+00],\n",
       "          [-1.1116e-05,  0.0000e+00, -9.8944e-06,  0.0000e+00]])],\n",
       " [tensor([[ 6.1065e-04,  0.0000e+00, -1.6383e-03,  0.0000e+00],\n",
       "          [-5.9953e-04,  0.0000e+00,  2.1006e-05,  0.0000e+00],\n",
       "          [-1.1116e-05,  0.0000e+00, -9.8944e-06,  0.0000e+00]])],\n",
       " [tensor([[ 6.1065e-04,  0.0000e+00, -1.6383e-03,  0.0000e+00],\n",
       "          [-5.9953e-04,  0.0000e+00,  2.1006e-05,  0.0000e+00],\n",
       "          [-1.1116e-05,  0.0000e+00, -9.8944e-06,  0.0000e+00]])],\n",
       " [tensor([[ 6.1065e-04,  0.0000e+00, -1.6383e-03,  0.0000e+00],\n",
       "          [-5.9953e-04,  0.0000e+00,  2.1006e-05,  0.0000e+00],\n",
       "          [-1.1116e-05,  0.0000e+00, -9.8944e-06,  0.0000e+00]])],\n",
       " [tensor([[ 6.1065e-04,  0.0000e+00, -1.6383e-03,  0.0000e+00],\n",
       "          [-5.9953e-04,  0.0000e+00,  2.1006e-05,  0.0000e+00],\n",
       "          [-1.1116e-05,  0.0000e+00, -9.8944e-06,  0.0000e+00]])],\n",
       " [tensor([[ 6.1065e-04,  0.0000e+00, -1.6383e-03,  0.0000e+00],\n",
       "          [-5.9953e-04,  0.0000e+00,  2.1006e-05,  0.0000e+00],\n",
       "          [-1.1116e-05,  0.0000e+00, -9.8944e-06,  0.0000e+00]])],\n",
       " [tensor([[ 6.1065e-04,  0.0000e+00, -1.6383e-03,  0.0000e+00],\n",
       "          [-5.9953e-04,  0.0000e+00,  2.1006e-05,  0.0000e+00],\n",
       "          [-1.1116e-05,  0.0000e+00, -9.8944e-06,  0.0000e+00]])],\n",
       " [tensor([[ 6.1065e-04,  0.0000e+00, -1.6383e-03,  0.0000e+00],\n",
       "          [-5.9953e-04,  0.0000e+00,  2.1006e-05,  0.0000e+00],\n",
       "          [-1.1116e-05,  0.0000e+00, -9.8944e-06,  0.0000e+00]])],\n",
       " [tensor([[ 6.1065e-04,  0.0000e+00, -1.6383e-03,  0.0000e+00],\n",
       "          [-5.9953e-04,  0.0000e+00,  2.1006e-05,  0.0000e+00],\n",
       "          [-1.1116e-05,  0.0000e+00, -9.8944e-06,  0.0000e+00]])],\n",
       " [tensor([[ 6.1065e-04,  0.0000e+00, -1.6383e-03,  0.0000e+00],\n",
       "          [-5.9953e-04,  0.0000e+00,  2.1006e-05,  0.0000e+00],\n",
       "          [-1.1116e-05,  0.0000e+00, -9.8944e-06,  0.0000e+00]])],\n",
       " [tensor([[ 6.1065e-04,  0.0000e+00, -1.6383e-03,  0.0000e+00],\n",
       "          [-5.9953e-04,  0.0000e+00,  2.1006e-05,  0.0000e+00],\n",
       "          [-1.1116e-05,  0.0000e+00, -9.8944e-06,  0.0000e+00]])],\n",
       " [tensor([[ 6.1065e-04,  0.0000e+00, -1.6383e-03,  0.0000e+00],\n",
       "          [-5.9953e-04,  0.0000e+00,  2.1006e-05,  0.0000e+00],\n",
       "          [-1.1116e-05,  0.0000e+00, -9.8944e-06,  0.0000e+00]])],\n",
       " [tensor([[ 6.1065e-04,  0.0000e+00, -1.6383e-03,  0.0000e+00],\n",
       "          [-5.9953e-04,  0.0000e+00,  2.1006e-05,  0.0000e+00],\n",
       "          [-1.1116e-05,  0.0000e+00, -9.8944e-06,  0.0000e+00]])],\n",
       " [tensor([[ 6.1065e-04,  0.0000e+00, -1.6383e-03,  0.0000e+00],\n",
       "          [-5.9953e-04,  0.0000e+00,  2.1006e-05,  0.0000e+00],\n",
       "          [-1.1116e-05,  0.0000e+00, -9.8944e-06,  0.0000e+00]])],\n",
       " [tensor([[ 6.1065e-04,  0.0000e+00, -1.6383e-03,  0.0000e+00],\n",
       "          [-5.9953e-04,  0.0000e+00,  2.1006e-05,  0.0000e+00],\n",
       "          [-1.1116e-05,  0.0000e+00, -9.8944e-06,  0.0000e+00]])],\n",
       " [tensor([[ 6.1065e-04,  0.0000e+00, -1.6383e-03,  0.0000e+00],\n",
       "          [-5.9953e-04,  0.0000e+00,  2.1006e-05,  0.0000e+00],\n",
       "          [-1.1116e-05,  0.0000e+00, -9.8944e-06,  0.0000e+00]])],\n",
       " [tensor([[ 6.1065e-04,  0.0000e+00, -1.6383e-03,  0.0000e+00],\n",
       "          [-5.9953e-04,  0.0000e+00,  2.1006e-05,  0.0000e+00],\n",
       "          [-1.1116e-05,  0.0000e+00, -9.8944e-06,  0.0000e+00]])],\n",
       " [tensor([[ 6.1065e-04,  0.0000e+00, -1.6383e-03,  0.0000e+00],\n",
       "          [-5.9953e-04,  0.0000e+00,  2.1006e-05,  0.0000e+00],\n",
       "          [-1.1116e-05,  0.0000e+00, -9.8944e-06,  0.0000e+00]])],\n",
       " [tensor([[ 6.1065e-04,  0.0000e+00, -1.6383e-03,  0.0000e+00],\n",
       "          [-5.9953e-04,  0.0000e+00,  2.1006e-05,  0.0000e+00],\n",
       "          [-1.1116e-05,  0.0000e+00, -9.8944e-06,  0.0000e+00]])],\n",
       " [tensor([[ 6.1065e-04,  0.0000e+00, -1.6383e-03,  0.0000e+00],\n",
       "          [-5.9953e-04,  0.0000e+00,  2.1006e-05,  0.0000e+00],\n",
       "          [-1.1116e-05,  0.0000e+00, -9.8944e-06,  0.0000e+00]])],\n",
       " [tensor([[ 6.1065e-04,  0.0000e+00, -1.6383e-03,  0.0000e+00],\n",
       "          [-5.9953e-04,  0.0000e+00,  2.1006e-05,  0.0000e+00],\n",
       "          [-1.1116e-05,  0.0000e+00, -9.8944e-06,  0.0000e+00]])],\n",
       " [tensor([[ 6.1065e-04,  0.0000e+00, -1.6383e-03,  0.0000e+00],\n",
       "          [-5.9953e-04,  0.0000e+00,  2.1006e-05,  0.0000e+00],\n",
       "          [-1.1116e-05,  0.0000e+00, -9.8944e-06,  0.0000e+00]])],\n",
       " [tensor([[ 6.1065e-04,  0.0000e+00, -1.6383e-03,  0.0000e+00],\n",
       "          [-5.9953e-04,  0.0000e+00,  2.1006e-05,  0.0000e+00],\n",
       "          [-1.1116e-05,  0.0000e+00, -9.8944e-06,  0.0000e+00]])],\n",
       " [tensor([[ 6.1065e-04,  0.0000e+00, -1.6383e-03,  0.0000e+00],\n",
       "          [-5.9953e-04,  0.0000e+00,  2.1006e-05,  0.0000e+00],\n",
       "          [-1.1116e-05,  0.0000e+00, -9.8944e-06,  0.0000e+00]])],\n",
       " [tensor([[ 6.1065e-04,  0.0000e+00, -1.6383e-03,  0.0000e+00],\n",
       "          [-5.9953e-04,  0.0000e+00,  2.1006e-05,  0.0000e+00],\n",
       "          [-1.1116e-05,  0.0000e+00, -9.8944e-06,  0.0000e+00]])],\n",
       " [tensor([[ 6.1065e-04,  0.0000e+00, -1.6383e-03,  0.0000e+00],\n",
       "          [-5.9953e-04,  0.0000e+00,  2.1006e-05,  0.0000e+00],\n",
       "          [-1.1116e-05,  0.0000e+00, -9.8944e-06,  0.0000e+00]])],\n",
       " [tensor([[ 6.1065e-04,  0.0000e+00, -1.6383e-03,  0.0000e+00],\n",
       "          [-5.9953e-04,  0.0000e+00,  2.1006e-05,  0.0000e+00],\n",
       "          [-1.1116e-05,  0.0000e+00, -9.8944e-06,  0.0000e+00]])],\n",
       " [tensor([[ 6.1065e-04,  0.0000e+00, -1.6383e-03,  0.0000e+00],\n",
       "          [-5.9953e-04,  0.0000e+00,  2.1006e-05,  0.0000e+00],\n",
       "          [-1.1116e-05,  0.0000e+00, -9.8944e-06,  0.0000e+00]])],\n",
       " [tensor([[ 6.1065e-04,  0.0000e+00, -1.6383e-03,  0.0000e+00],\n",
       "          [-5.9953e-04,  0.0000e+00,  2.1006e-05,  0.0000e+00],\n",
       "          [-1.1116e-05,  0.0000e+00, -9.8944e-06,  0.0000e+00]])],\n",
       " [tensor([[ 6.1065e-04,  0.0000e+00, -1.6383e-03,  0.0000e+00],\n",
       "          [-5.9953e-04,  0.0000e+00,  2.1006e-05,  0.0000e+00],\n",
       "          [-1.1116e-05,  0.0000e+00, -9.8944e-06,  0.0000e+00]])],\n",
       " [tensor([[ 6.1065e-04,  0.0000e+00, -1.6383e-03,  0.0000e+00],\n",
       "          [-5.9953e-04,  0.0000e+00,  2.1006e-05,  0.0000e+00],\n",
       "          [-1.1116e-05,  0.0000e+00, -9.8944e-06,  0.0000e+00]])],\n",
       " [tensor([[ 6.1065e-04,  0.0000e+00, -1.6383e-03,  0.0000e+00],\n",
       "          [-5.9953e-04,  0.0000e+00,  2.1006e-05,  0.0000e+00],\n",
       "          [-1.1116e-05,  0.0000e+00, -9.8944e-06,  0.0000e+00]])],\n",
       " [tensor([[ 6.1065e-04,  0.0000e+00, -1.6383e-03,  0.0000e+00],\n",
       "          [-5.9953e-04,  0.0000e+00,  2.1006e-05,  0.0000e+00],\n",
       "          [-1.1116e-05,  0.0000e+00, -9.8944e-06,  0.0000e+00]])],\n",
       " [tensor([[ 6.1065e-04,  0.0000e+00, -1.6383e-03,  0.0000e+00],\n",
       "          [-5.9953e-04,  0.0000e+00,  2.1006e-05,  0.0000e+00],\n",
       "          [-1.1116e-05,  0.0000e+00, -9.8944e-06,  0.0000e+00]])],\n",
       " [tensor([[ 6.1065e-04,  0.0000e+00, -1.6383e-03,  0.0000e+00],\n",
       "          [-5.9953e-04,  0.0000e+00,  2.1006e-05,  0.0000e+00],\n",
       "          [-1.1116e-05,  0.0000e+00, -9.8944e-06,  0.0000e+00]])],\n",
       " [tensor([[ 6.1065e-04,  0.0000e+00, -1.6383e-03,  0.0000e+00],\n",
       "          [-5.9953e-04,  0.0000e+00,  2.1006e-05,  0.0000e+00],\n",
       "          [-1.1116e-05,  0.0000e+00, -9.8944e-06,  0.0000e+00]])],\n",
       " [tensor([[ 6.1065e-04,  0.0000e+00, -1.6383e-03,  0.0000e+00],\n",
       "          [-5.9953e-04,  0.0000e+00,  2.1006e-05,  0.0000e+00],\n",
       "          [-1.1116e-05,  0.0000e+00, -9.8944e-06,  0.0000e+00]])],\n",
       " [tensor([[ 6.1065e-04,  0.0000e+00, -1.6383e-03,  0.0000e+00],\n",
       "          [-5.9953e-04,  0.0000e+00,  2.1006e-05,  0.0000e+00],\n",
       "          [-1.1116e-05,  0.0000e+00, -9.8944e-06,  0.0000e+00]])],\n",
       " [tensor([[ 6.1065e-04,  0.0000e+00, -1.6383e-03,  0.0000e+00],\n",
       "          [-5.9953e-04,  0.0000e+00,  2.1006e-05,  0.0000e+00],\n",
       "          [-1.1116e-05,  0.0000e+00, -9.8944e-06,  0.0000e+00]])],\n",
       " [tensor([[ 6.1065e-04,  0.0000e+00, -1.6383e-03,  0.0000e+00],\n",
       "          [-5.9953e-04,  0.0000e+00,  2.1006e-05,  0.0000e+00],\n",
       "          [-1.1116e-05,  0.0000e+00, -9.8944e-06,  0.0000e+00]])],\n",
       " [tensor([[ 6.1065e-04,  0.0000e+00, -1.6383e-03,  0.0000e+00],\n",
       "          [-5.9953e-04,  0.0000e+00,  2.1006e-05,  0.0000e+00],\n",
       "          [-1.1116e-05,  0.0000e+00, -9.8944e-06,  0.0000e+00]])],\n",
       " [tensor([[ 6.1065e-04,  0.0000e+00, -1.6383e-03,  0.0000e+00],\n",
       "          [-5.9953e-04,  0.0000e+00,  2.1006e-05,  0.0000e+00],\n",
       "          [-1.1116e-05,  0.0000e+00, -9.8944e-06,  0.0000e+00]])],\n",
       " [tensor([[ 6.1065e-04,  0.0000e+00, -1.6383e-03,  0.0000e+00],\n",
       "          [-5.9953e-04,  0.0000e+00,  2.1006e-05,  0.0000e+00],\n",
       "          [-1.1116e-05,  0.0000e+00, -9.8944e-06,  0.0000e+00]])],\n",
       " [tensor([[ 6.1065e-04,  0.0000e+00, -1.6383e-03,  0.0000e+00],\n",
       "          [-5.9953e-04,  0.0000e+00,  2.1006e-05,  0.0000e+00],\n",
       "          [-1.1116e-05,  0.0000e+00, -9.8944e-06,  0.0000e+00]])],\n",
       " [tensor([[ 6.1065e-04,  0.0000e+00, -1.6383e-03,  0.0000e+00],\n",
       "          [-5.9953e-04,  0.0000e+00,  2.1006e-05,  0.0000e+00],\n",
       "          [-1.1116e-05,  0.0000e+00, -9.8944e-06,  0.0000e+00]])],\n",
       " [tensor([[ 6.1065e-04,  0.0000e+00, -1.6383e-03,  0.0000e+00],\n",
       "          [-5.9953e-04,  0.0000e+00,  2.1006e-05,  0.0000e+00],\n",
       "          [-1.1116e-05,  0.0000e+00, -9.8944e-06,  0.0000e+00]])],\n",
       " [tensor([[ 6.1065e-04,  0.0000e+00, -1.6383e-03,  0.0000e+00],\n",
       "          [-5.9953e-04,  0.0000e+00,  2.1006e-05,  0.0000e+00],\n",
       "          [-1.1116e-05,  0.0000e+00, -9.8944e-06,  0.0000e+00]])],\n",
       " [tensor([[ 6.1065e-04,  0.0000e+00, -1.6383e-03,  0.0000e+00],\n",
       "          [-5.9953e-04,  0.0000e+00,  2.1006e-05,  0.0000e+00],\n",
       "          [-1.1116e-05,  0.0000e+00, -9.8944e-06,  0.0000e+00]])],\n",
       " [tensor([[ 6.1065e-04,  0.0000e+00, -1.6383e-03,  0.0000e+00],\n",
       "          [-5.9953e-04,  0.0000e+00,  2.1006e-05,  0.0000e+00],\n",
       "          [-1.1116e-05,  0.0000e+00, -9.8944e-06,  0.0000e+00]])],\n",
       " [tensor([[ 6.1065e-04,  0.0000e+00, -1.6383e-03,  0.0000e+00],\n",
       "          [-5.9953e-04,  0.0000e+00,  2.1006e-05,  0.0000e+00],\n",
       "          [-1.1116e-05,  0.0000e+00, -9.8944e-06,  0.0000e+00]])],\n",
       " [tensor([[ 6.1065e-04,  0.0000e+00, -1.6383e-03,  0.0000e+00],\n",
       "          [-5.9953e-04,  0.0000e+00,  2.1006e-05,  0.0000e+00],\n",
       "          [-1.1116e-05,  0.0000e+00, -9.8944e-06,  0.0000e+00]])],\n",
       " [tensor([[ 6.1065e-04,  0.0000e+00, -1.6383e-03,  0.0000e+00],\n",
       "          [-5.9953e-04,  0.0000e+00,  2.1006e-05,  0.0000e+00],\n",
       "          [-1.1116e-05,  0.0000e+00, -9.8944e-06,  0.0000e+00]])],\n",
       " [tensor([[ 6.1065e-04,  0.0000e+00, -1.6383e-03,  0.0000e+00],\n",
       "          [-5.9953e-04,  0.0000e+00,  2.1006e-05,  0.0000e+00],\n",
       "          [-1.1116e-05,  0.0000e+00, -9.8944e-06,  0.0000e+00]])],\n",
       " [tensor([[ 6.1065e-04,  0.0000e+00, -1.6383e-03,  0.0000e+00],\n",
       "          [-5.9953e-04,  0.0000e+00,  2.1006e-05,  0.0000e+00],\n",
       "          [-1.1116e-05,  0.0000e+00, -9.8944e-06,  0.0000e+00]])],\n",
       " [tensor([[ 6.1065e-04,  0.0000e+00, -1.6383e-03,  0.0000e+00],\n",
       "          [-5.9953e-04,  0.0000e+00,  2.1006e-05,  0.0000e+00],\n",
       "          [-1.1116e-05,  0.0000e+00, -9.8944e-06,  0.0000e+00]])],\n",
       " [tensor([[ 6.1065e-04,  0.0000e+00, -1.6383e-03,  0.0000e+00],\n",
       "          [-5.9953e-04,  0.0000e+00,  2.1006e-05,  0.0000e+00],\n",
       "          [-1.1116e-05,  0.0000e+00, -9.8944e-06,  0.0000e+00]])],\n",
       " [tensor([[ 6.1065e-04,  0.0000e+00, -1.6383e-03,  0.0000e+00],\n",
       "          [-5.9953e-04,  0.0000e+00,  2.1006e-05,  0.0000e+00],\n",
       "          [-1.1116e-05,  0.0000e+00, -9.8944e-06,  0.0000e+00]])],\n",
       " [tensor([[ 6.1065e-04,  0.0000e+00, -1.6383e-03,  0.0000e+00],\n",
       "          [-5.9953e-04,  0.0000e+00,  2.1006e-05,  0.0000e+00],\n",
       "          [-1.1116e-05,  0.0000e+00, -9.8944e-06,  0.0000e+00]])],\n",
       " [tensor([[ 6.1065e-04,  0.0000e+00, -1.6383e-03,  0.0000e+00],\n",
       "          [-5.9953e-04,  0.0000e+00,  2.1006e-05,  0.0000e+00],\n",
       "          [-1.1116e-05,  0.0000e+00, -9.8944e-06,  0.0000e+00]])],\n",
       " [tensor([[ 6.1065e-04,  0.0000e+00, -1.6383e-03,  0.0000e+00],\n",
       "          [-5.9953e-04,  0.0000e+00,  2.1006e-05,  0.0000e+00],\n",
       "          [-1.1116e-05,  0.0000e+00, -9.8944e-06,  0.0000e+00]])],\n",
       " [tensor([[ 6.1065e-04,  0.0000e+00, -1.6383e-03,  0.0000e+00],\n",
       "          [-5.9953e-04,  0.0000e+00,  2.1006e-05,  0.0000e+00],\n",
       "          [-1.1116e-05,  0.0000e+00, -9.8944e-06,  0.0000e+00]])],\n",
       " [tensor([[ 6.1065e-04,  0.0000e+00, -1.6383e-03,  0.0000e+00],\n",
       "          [-5.9953e-04,  0.0000e+00,  2.1006e-05,  0.0000e+00],\n",
       "          [-1.1116e-05,  0.0000e+00, -9.8944e-06,  0.0000e+00]])],\n",
       " [tensor([[ 6.1065e-04,  0.0000e+00, -1.6383e-03,  0.0000e+00],\n",
       "          [-5.9953e-04,  0.0000e+00,  2.1006e-05,  0.0000e+00],\n",
       "          [-1.1116e-05,  0.0000e+00, -9.8944e-06,  0.0000e+00]])],\n",
       " [tensor([[ 6.1065e-04,  0.0000e+00, -1.6383e-03,  0.0000e+00],\n",
       "          [-5.9953e-04,  0.0000e+00,  2.1006e-05,  0.0000e+00],\n",
       "          [-1.1116e-05,  0.0000e+00, -9.8944e-06,  0.0000e+00]])],\n",
       " [tensor([[ 6.1065e-04,  0.0000e+00, -1.6383e-03,  0.0000e+00],\n",
       "          [-5.9953e-04,  0.0000e+00,  2.1006e-05,  0.0000e+00],\n",
       "          [-1.1116e-05,  0.0000e+00, -9.8944e-06,  0.0000e+00]])],\n",
       " [tensor([[ 6.1065e-04,  0.0000e+00, -1.6383e-03,  0.0000e+00],\n",
       "          [-5.9953e-04,  0.0000e+00,  2.1006e-05,  0.0000e+00],\n",
       "          [-1.1116e-05,  0.0000e+00, -9.8944e-06,  0.0000e+00]])],\n",
       " [tensor([[ 6.1065e-04,  0.0000e+00, -1.6383e-03,  0.0000e+00],\n",
       "          [-5.9953e-04,  0.0000e+00,  2.1006e-05,  0.0000e+00],\n",
       "          [-1.1116e-05,  0.0000e+00, -9.8944e-06,  0.0000e+00]])],\n",
       " [tensor([[ 6.1065e-04,  0.0000e+00, -1.6383e-03,  0.0000e+00],\n",
       "          [-5.9953e-04,  0.0000e+00,  2.1006e-05,  0.0000e+00],\n",
       "          [-1.1116e-05,  0.0000e+00, -9.8944e-06,  0.0000e+00]])],\n",
       " [tensor([[ 6.1065e-04,  0.0000e+00, -1.6383e-03,  0.0000e+00],\n",
       "          [-5.9953e-04,  0.0000e+00,  2.1006e-05,  0.0000e+00],\n",
       "          [-1.1116e-05,  0.0000e+00, -9.8944e-06,  0.0000e+00]])],\n",
       " [tensor([[ 6.1065e-04,  0.0000e+00, -1.6383e-03,  0.0000e+00],\n",
       "          [-5.9953e-04,  0.0000e+00,  2.1006e-05,  0.0000e+00],\n",
       "          [-1.1116e-05,  0.0000e+00, -9.8944e-06,  0.0000e+00]])],\n",
       " [tensor([[ 6.1065e-04,  0.0000e+00, -1.6383e-03,  0.0000e+00],\n",
       "          [-5.9953e-04,  0.0000e+00,  2.1006e-05,  0.0000e+00],\n",
       "          [-1.1116e-05,  0.0000e+00, -9.8944e-06,  0.0000e+00]])],\n",
       " [tensor([[ 6.1065e-04,  0.0000e+00, -1.6383e-03,  0.0000e+00],\n",
       "          [-5.9953e-04,  0.0000e+00,  2.1006e-05,  0.0000e+00],\n",
       "          [-1.1116e-05,  0.0000e+00, -9.8944e-06,  0.0000e+00]])],\n",
       " [tensor([[ 6.1065e-04,  0.0000e+00, -1.6383e-03,  0.0000e+00],\n",
       "          [-5.9953e-04,  0.0000e+00,  2.1006e-05,  0.0000e+00],\n",
       "          [-1.1116e-05,  0.0000e+00, -9.8944e-06,  0.0000e+00]])],\n",
       " [tensor([[ 6.1065e-04,  0.0000e+00, -1.6383e-03,  0.0000e+00],\n",
       "          [-5.9953e-04,  0.0000e+00,  2.1006e-05,  0.0000e+00],\n",
       "          [-1.1116e-05,  0.0000e+00, -9.8944e-06,  0.0000e+00]])],\n",
       " [tensor([[ 6.1065e-04,  0.0000e+00, -1.6383e-03,  0.0000e+00],\n",
       "          [-5.9953e-04,  0.0000e+00,  2.1006e-05,  0.0000e+00],\n",
       "          [-1.1116e-05,  0.0000e+00, -9.8944e-06,  0.0000e+00]])],\n",
       " [tensor([[ 6.1065e-04,  0.0000e+00, -1.6383e-03,  0.0000e+00],\n",
       "          [-5.9953e-04,  0.0000e+00,  2.1006e-05,  0.0000e+00],\n",
       "          [-1.1116e-05,  0.0000e+00, -9.8944e-06,  0.0000e+00]])],\n",
       " [tensor([[ 6.1065e-04,  0.0000e+00, -1.6383e-03,  0.0000e+00],\n",
       "          [-5.9953e-04,  0.0000e+00,  2.1006e-05,  0.0000e+00],\n",
       "          [-1.1116e-05,  0.0000e+00, -9.8944e-06,  0.0000e+00]])],\n",
       " [tensor([[ 6.1065e-04,  0.0000e+00, -1.6383e-03,  0.0000e+00],\n",
       "          [-5.9953e-04,  0.0000e+00,  2.1006e-05,  0.0000e+00],\n",
       "          [-1.1116e-05,  0.0000e+00, -9.8944e-06,  0.0000e+00]])],\n",
       " [tensor([[ 6.1065e-04,  0.0000e+00, -1.6383e-03,  0.0000e+00],\n",
       "          [-5.9953e-04,  0.0000e+00,  2.1006e-05,  0.0000e+00],\n",
       "          [-1.1116e-05,  0.0000e+00, -9.8944e-06,  0.0000e+00]])],\n",
       " [tensor([[ 6.1065e-04,  0.0000e+00, -1.6383e-03,  0.0000e+00],\n",
       "          [-5.9953e-04,  0.0000e+00,  2.1006e-05,  0.0000e+00],\n",
       "          [-1.1116e-05,  0.0000e+00, -9.8944e-06,  0.0000e+00]])],\n",
       " [tensor([[ 6.1065e-04,  0.0000e+00, -1.6383e-03,  0.0000e+00],\n",
       "          [-5.9953e-04,  0.0000e+00,  2.1006e-05,  0.0000e+00],\n",
       "          [-1.1116e-05,  0.0000e+00, -9.8944e-06,  0.0000e+00]])],\n",
       " [tensor([[ 6.1065e-04,  0.0000e+00, -1.6383e-03,  0.0000e+00],\n",
       "          [-5.9953e-04,  0.0000e+00,  2.1006e-05,  0.0000e+00],\n",
       "          [-1.1116e-05,  0.0000e+00, -9.8944e-06,  0.0000e+00]])],\n",
       " [tensor([[ 6.1065e-04,  0.0000e+00, -1.6383e-03,  0.0000e+00],\n",
       "          [-5.9953e-04,  0.0000e+00,  2.1006e-05,  0.0000e+00],\n",
       "          [-1.1116e-05,  0.0000e+00, -9.8944e-06,  0.0000e+00]])],\n",
       " [tensor([[ 6.1065e-04,  0.0000e+00, -1.6383e-03,  0.0000e+00],\n",
       "          [-5.9953e-04,  0.0000e+00,  2.1006e-05,  0.0000e+00],\n",
       "          [-1.1116e-05,  0.0000e+00, -9.8944e-06,  0.0000e+00]])],\n",
       " [tensor([[ 6.1065e-04,  0.0000e+00, -1.6383e-03,  0.0000e+00],\n",
       "          [-5.9953e-04,  0.0000e+00,  2.1006e-05,  0.0000e+00],\n",
       "          [-1.1116e-05,  0.0000e+00, -9.8944e-06,  0.0000e+00]])],\n",
       " [tensor([[ 6.1065e-04,  0.0000e+00, -1.6383e-03,  0.0000e+00],\n",
       "          [-5.9953e-04,  0.0000e+00,  2.1006e-05,  0.0000e+00],\n",
       "          [-1.1116e-05,  0.0000e+00, -9.8944e-06,  0.0000e+00]])],\n",
       " [tensor([[ 6.1065e-04,  0.0000e+00, -1.6383e-03,  0.0000e+00],\n",
       "          [-5.9953e-04,  0.0000e+00,  2.1006e-05,  0.0000e+00],\n",
       "          [-1.1116e-05,  0.0000e+00, -9.8944e-06,  0.0000e+00]])],\n",
       " [tensor([[ 6.1065e-04,  0.0000e+00, -1.6383e-03,  0.0000e+00],\n",
       "          [-5.9953e-04,  0.0000e+00,  2.1006e-05,  0.0000e+00],\n",
       "          [-1.1116e-05,  0.0000e+00, -9.8944e-06,  0.0000e+00]])],\n",
       " [tensor([[ 6.1065e-04,  0.0000e+00, -1.6383e-03,  0.0000e+00],\n",
       "          [-5.9953e-04,  0.0000e+00,  2.1006e-05,  0.0000e+00],\n",
       "          [-1.1116e-05,  0.0000e+00, -9.8944e-06,  0.0000e+00]])],\n",
       " [tensor([[ 6.1065e-04,  0.0000e+00, -1.6383e-03,  0.0000e+00],\n",
       "          [-5.9953e-04,  0.0000e+00,  2.1006e-05,  0.0000e+00],\n",
       "          [-1.1116e-05,  0.0000e+00, -9.8944e-06,  0.0000e+00]])],\n",
       " [tensor([[ 6.1065e-04,  0.0000e+00, -1.6383e-03,  0.0000e+00],\n",
       "          [-5.9953e-04,  0.0000e+00,  2.1006e-05,  0.0000e+00],\n",
       "          [-1.1116e-05,  0.0000e+00, -9.8944e-06,  0.0000e+00]])],\n",
       " [tensor([[ 6.1065e-04,  0.0000e+00, -1.6383e-03,  0.0000e+00],\n",
       "          [-5.9953e-04,  0.0000e+00,  2.1006e-05,  0.0000e+00],\n",
       "          [-1.1116e-05,  0.0000e+00, -9.8944e-06,  0.0000e+00]])],\n",
       " [tensor([[ 6.1065e-04,  0.0000e+00, -1.6383e-03,  0.0000e+00],\n",
       "          [-5.9953e-04,  0.0000e+00,  2.1006e-05,  0.0000e+00],\n",
       "          [-1.1116e-05,  0.0000e+00, -9.8944e-06,  0.0000e+00]])],\n",
       " [tensor([[ 6.1065e-04,  0.0000e+00, -1.6383e-03,  0.0000e+00],\n",
       "          [-5.9953e-04,  0.0000e+00,  2.1006e-05,  0.0000e+00],\n",
       "          [-1.1116e-05,  0.0000e+00, -9.8944e-06,  0.0000e+00]])],\n",
       " [tensor([[ 6.1065e-04,  0.0000e+00, -1.6383e-03,  0.0000e+00],\n",
       "          [-5.9953e-04,  0.0000e+00,  2.1006e-05,  0.0000e+00],\n",
       "          [-1.1116e-05,  0.0000e+00, -9.8944e-06,  0.0000e+00]])],\n",
       " [tensor([[ 6.1065e-04,  0.0000e+00, -1.6383e-03,  0.0000e+00],\n",
       "          [-5.9953e-04,  0.0000e+00,  2.1006e-05,  0.0000e+00],\n",
       "          [-1.1116e-05,  0.0000e+00, -9.8944e-06,  0.0000e+00]])],\n",
       " [tensor([[ 6.1065e-04,  0.0000e+00, -1.6383e-03,  0.0000e+00],\n",
       "          [-5.9953e-04,  0.0000e+00,  2.1006e-05,  0.0000e+00],\n",
       "          [-1.1116e-05,  0.0000e+00, -9.8944e-06,  0.0000e+00]])],\n",
       " [tensor([[ 6.1065e-04,  0.0000e+00, -1.6383e-03,  0.0000e+00],\n",
       "          [-5.9953e-04,  0.0000e+00,  2.1006e-05,  0.0000e+00],\n",
       "          [-1.1116e-05,  0.0000e+00, -9.8944e-06,  0.0000e+00]])],\n",
       " [tensor([[ 6.1065e-04,  0.0000e+00, -1.6383e-03,  0.0000e+00],\n",
       "          [-5.9953e-04,  0.0000e+00,  2.1006e-05,  0.0000e+00],\n",
       "          [-1.1116e-05,  0.0000e+00, -9.8944e-06,  0.0000e+00]])],\n",
       " [tensor([[ 6.1065e-04,  0.0000e+00, -1.6383e-03,  0.0000e+00],\n",
       "          [-5.9953e-04,  0.0000e+00,  2.1006e-05,  0.0000e+00],\n",
       "          [-1.1116e-05,  0.0000e+00, -9.8944e-06,  0.0000e+00]])],\n",
       " [tensor([[ 6.1065e-04,  0.0000e+00, -1.6383e-03,  0.0000e+00],\n",
       "          [-5.9953e-04,  0.0000e+00,  2.1006e-05,  0.0000e+00],\n",
       "          [-1.1116e-05,  0.0000e+00, -9.8944e-06,  0.0000e+00]])],\n",
       " [tensor([[ 6.1065e-04,  0.0000e+00, -1.6383e-03,  0.0000e+00],\n",
       "          [-5.9953e-04,  0.0000e+00,  2.1006e-05,  0.0000e+00],\n",
       "          [-1.1116e-05,  0.0000e+00, -9.8944e-06,  0.0000e+00]])],\n",
       " [tensor([[ 6.1065e-04,  0.0000e+00, -1.6383e-03,  0.0000e+00],\n",
       "          [-5.9953e-04,  0.0000e+00,  2.1006e-05,  0.0000e+00],\n",
       "          [-1.1116e-05,  0.0000e+00, -9.8944e-06,  0.0000e+00]])],\n",
       " [tensor([[ 6.1065e-04,  0.0000e+00, -1.6383e-03,  0.0000e+00],\n",
       "          [-5.9953e-04,  0.0000e+00,  2.1006e-05,  0.0000e+00],\n",
       "          [-1.1116e-05,  0.0000e+00, -9.8944e-06,  0.0000e+00]])],\n",
       " [tensor([[ 6.1065e-04,  0.0000e+00, -1.6383e-03,  0.0000e+00],\n",
       "          [-5.9953e-04,  0.0000e+00,  2.1006e-05,  0.0000e+00],\n",
       "          [-1.1116e-05,  0.0000e+00, -9.8944e-06,  0.0000e+00]])],\n",
       " [tensor([[ 6.1065e-04,  0.0000e+00, -1.6383e-03,  0.0000e+00],\n",
       "          [-5.9953e-04,  0.0000e+00,  2.1006e-05,  0.0000e+00],\n",
       "          [-1.1116e-05,  0.0000e+00, -9.8944e-06,  0.0000e+00]])],\n",
       " [tensor([[ 6.1065e-04,  0.0000e+00, -1.6383e-03,  0.0000e+00],\n",
       "          [-5.9953e-04,  0.0000e+00,  2.1006e-05,  0.0000e+00],\n",
       "          [-1.1116e-05,  0.0000e+00, -9.8944e-06,  0.0000e+00]])],\n",
       " [tensor([[ 6.1065e-04,  0.0000e+00, -1.6383e-03,  0.0000e+00],\n",
       "          [-5.9953e-04,  0.0000e+00,  2.1006e-05,  0.0000e+00],\n",
       "          [-1.1116e-05,  0.0000e+00, -9.8944e-06,  0.0000e+00]])],\n",
       " [tensor([[ 6.1065e-04,  0.0000e+00, -1.6383e-03,  0.0000e+00],\n",
       "          [-5.9953e-04,  0.0000e+00,  2.1006e-05,  0.0000e+00],\n",
       "          [-1.1116e-05,  0.0000e+00, -9.8944e-06,  0.0000e+00]])],\n",
       " [tensor([[ 6.1065e-04,  0.0000e+00, -1.6383e-03,  0.0000e+00],\n",
       "          [-5.9953e-04,  0.0000e+00,  2.1006e-05,  0.0000e+00],\n",
       "          [-1.1116e-05,  0.0000e+00, -9.8944e-06,  0.0000e+00]])],\n",
       " [tensor([[ 6.1065e-04,  0.0000e+00, -1.6383e-03,  0.0000e+00],\n",
       "          [-5.9953e-04,  0.0000e+00,  2.1006e-05,  0.0000e+00],\n",
       "          [-1.1116e-05,  0.0000e+00, -9.8944e-06,  0.0000e+00]])],\n",
       " [tensor([[ 6.1065e-04,  0.0000e+00, -1.6383e-03,  0.0000e+00],\n",
       "          [-5.9953e-04,  0.0000e+00,  2.1006e-05,  0.0000e+00],\n",
       "          [-1.1116e-05,  0.0000e+00, -9.8944e-06,  0.0000e+00]])],\n",
       " [tensor([[ 6.1065e-04,  0.0000e+00, -1.6383e-03,  0.0000e+00],\n",
       "          [-5.9953e-04,  0.0000e+00,  2.1006e-05,  0.0000e+00],\n",
       "          [-1.1116e-05,  0.0000e+00, -9.8944e-06,  0.0000e+00]])],\n",
       " [tensor([[ 6.1065e-04,  0.0000e+00, -1.6383e-03,  0.0000e+00],\n",
       "          [-5.9953e-04,  0.0000e+00,  2.1006e-05,  0.0000e+00],\n",
       "          [-1.1116e-05,  0.0000e+00, -9.8944e-06,  0.0000e+00]])],\n",
       " [tensor([[ 6.1065e-04,  0.0000e+00, -1.6383e-03,  0.0000e+00],\n",
       "          [-5.9953e-04,  0.0000e+00,  2.1006e-05,  0.0000e+00],\n",
       "          [-1.1116e-05,  0.0000e+00, -9.8944e-06,  0.0000e+00]])],\n",
       " [tensor([[ 6.1065e-04,  0.0000e+00, -1.6383e-03,  0.0000e+00],\n",
       "          [-5.9953e-04,  0.0000e+00,  2.1006e-05,  0.0000e+00],\n",
       "          [-1.1116e-05,  0.0000e+00, -9.8944e-06,  0.0000e+00]])],\n",
       " [tensor([[ 6.1065e-04,  0.0000e+00, -1.6383e-03,  0.0000e+00],\n",
       "          [-5.9953e-04,  0.0000e+00,  2.1006e-05,  0.0000e+00],\n",
       "          [-1.1116e-05,  0.0000e+00, -9.8944e-06,  0.0000e+00]])],\n",
       " [tensor([[ 6.1065e-04,  0.0000e+00, -1.6383e-03,  0.0000e+00],\n",
       "          [-5.9953e-04,  0.0000e+00,  2.1006e-05,  0.0000e+00],\n",
       "          [-1.1116e-05,  0.0000e+00, -9.8944e-06,  0.0000e+00]])],\n",
       " [tensor([[ 6.1065e-04,  0.0000e+00, -1.6383e-03,  0.0000e+00],\n",
       "          [-5.9953e-04,  0.0000e+00,  2.1006e-05,  0.0000e+00],\n",
       "          [-1.1116e-05,  0.0000e+00, -9.8944e-06,  0.0000e+00]])],\n",
       " [tensor([[ 6.1065e-04,  0.0000e+00, -1.6383e-03,  0.0000e+00],\n",
       "          [-5.9953e-04,  0.0000e+00,  2.1006e-05,  0.0000e+00],\n",
       "          [-1.1116e-05,  0.0000e+00, -9.8944e-06,  0.0000e+00]])],\n",
       " [tensor([[ 6.1065e-04,  0.0000e+00, -1.6383e-03,  0.0000e+00],\n",
       "          [-5.9953e-04,  0.0000e+00,  2.1006e-05,  0.0000e+00],\n",
       "          [-1.1116e-05,  0.0000e+00, -9.8944e-06,  0.0000e+00]])],\n",
       " [tensor([[ 6.1065e-04,  0.0000e+00, -1.6383e-03,  0.0000e+00],\n",
       "          [-5.9953e-04,  0.0000e+00,  2.1006e-05,  0.0000e+00],\n",
       "          [-1.1116e-05,  0.0000e+00, -9.8944e-06,  0.0000e+00]])],\n",
       " [tensor([[ 6.1065e-04,  0.0000e+00, -1.6383e-03,  0.0000e+00],\n",
       "          [-5.9953e-04,  0.0000e+00,  2.1006e-05,  0.0000e+00],\n",
       "          [-1.1116e-05,  0.0000e+00, -9.8944e-06,  0.0000e+00]])],\n",
       " [tensor([[ 6.1065e-04,  0.0000e+00, -1.6383e-03,  0.0000e+00],\n",
       "          [-5.9953e-04,  0.0000e+00,  2.1006e-05,  0.0000e+00],\n",
       "          [-1.1116e-05,  0.0000e+00, -9.8944e-06,  0.0000e+00]])],\n",
       " [tensor([[ 6.1065e-04,  0.0000e+00, -1.6383e-03,  0.0000e+00],\n",
       "          [-5.9953e-04,  0.0000e+00,  2.1006e-05,  0.0000e+00],\n",
       "          [-1.1116e-05,  0.0000e+00, -9.8944e-06,  0.0000e+00]])],\n",
       " [tensor([[ 6.1065e-04,  0.0000e+00, -1.6383e-03,  0.0000e+00],\n",
       "          [-5.9953e-04,  0.0000e+00,  2.1006e-05,  0.0000e+00],\n",
       "          [-1.1116e-05,  0.0000e+00, -9.8944e-06,  0.0000e+00]])],\n",
       " [tensor([[ 6.1065e-04,  0.0000e+00, -1.6383e-03,  0.0000e+00],\n",
       "          [-5.9953e-04,  0.0000e+00,  2.1006e-05,  0.0000e+00],\n",
       "          [-1.1116e-05,  0.0000e+00, -9.8944e-06,  0.0000e+00]])],\n",
       " [tensor([[ 6.1065e-04,  0.0000e+00, -1.6383e-03,  0.0000e+00],\n",
       "          [-5.9953e-04,  0.0000e+00,  2.1006e-05,  0.0000e+00],\n",
       "          [-1.1116e-05,  0.0000e+00, -9.8944e-06,  0.0000e+00]])],\n",
       " [tensor([[ 6.1065e-04,  0.0000e+00, -1.6383e-03,  0.0000e+00],\n",
       "          [-5.9953e-04,  0.0000e+00,  2.1006e-05,  0.0000e+00],\n",
       "          [-1.1116e-05,  0.0000e+00, -9.8944e-06,  0.0000e+00]])],\n",
       " [tensor([[ 6.1065e-04,  0.0000e+00, -1.6383e-03,  0.0000e+00],\n",
       "          [-5.9953e-04,  0.0000e+00,  2.1006e-05,  0.0000e+00],\n",
       "          [-1.1116e-05,  0.0000e+00, -9.8944e-06,  0.0000e+00]])],\n",
       " [tensor([[ 6.1065e-04,  0.0000e+00, -1.6383e-03,  0.0000e+00],\n",
       "          [-5.9953e-04,  0.0000e+00,  2.1006e-05,  0.0000e+00],\n",
       "          [-1.1116e-05,  0.0000e+00, -9.8944e-06,  0.0000e+00]])],\n",
       " [tensor([[ 6.1065e-04,  0.0000e+00, -1.6383e-03,  0.0000e+00],\n",
       "          [-5.9953e-04,  0.0000e+00,  2.1006e-05,  0.0000e+00],\n",
       "          [-1.1116e-05,  0.0000e+00, -9.8944e-06,  0.0000e+00]])],\n",
       " [tensor([[ 6.1065e-04,  0.0000e+00, -1.6383e-03,  0.0000e+00],\n",
       "          [-5.9953e-04,  0.0000e+00,  2.1006e-05,  0.0000e+00],\n",
       "          [-1.1116e-05,  0.0000e+00, -9.8944e-06,  0.0000e+00]])],\n",
       " [tensor([[ 6.1065e-04,  0.0000e+00, -1.6383e-03,  0.0000e+00],\n",
       "          [-5.9953e-04,  0.0000e+00,  2.1006e-05,  0.0000e+00],\n",
       "          [-1.1116e-05,  0.0000e+00, -9.8944e-06,  0.0000e+00]])],\n",
       " [tensor([[ 6.1065e-04,  0.0000e+00, -1.6383e-03,  0.0000e+00],\n",
       "          [-5.9953e-04,  0.0000e+00,  2.1006e-05,  0.0000e+00],\n",
       "          [-1.1116e-05,  0.0000e+00, -9.8944e-06,  0.0000e+00]])],\n",
       " [tensor([[ 6.1065e-04,  0.0000e+00, -1.6383e-03,  0.0000e+00],\n",
       "          [-5.9953e-04,  0.0000e+00,  2.1006e-05,  0.0000e+00],\n",
       "          [-1.1116e-05,  0.0000e+00, -9.8944e-06,  0.0000e+00]])],\n",
       " [tensor([[ 6.1065e-04,  0.0000e+00, -1.6383e-03,  0.0000e+00],\n",
       "          [-5.9953e-04,  0.0000e+00,  2.1006e-05,  0.0000e+00],\n",
       "          [-1.1116e-05,  0.0000e+00, -9.8944e-06,  0.0000e+00]])],\n",
       " [tensor([[ 6.1065e-04,  0.0000e+00, -1.6383e-03,  0.0000e+00],\n",
       "          [-5.9953e-04,  0.0000e+00,  2.1006e-05,  0.0000e+00],\n",
       "          [-1.1116e-05,  0.0000e+00, -9.8944e-06,  0.0000e+00]])],\n",
       " [tensor([[ 6.1065e-04,  0.0000e+00, -1.6383e-03,  0.0000e+00],\n",
       "          [-5.9953e-04,  0.0000e+00,  2.1006e-05,  0.0000e+00],\n",
       "          [-1.1116e-05,  0.0000e+00, -9.8944e-06,  0.0000e+00]])],\n",
       " [tensor([[ 6.1065e-04,  0.0000e+00, -1.6383e-03,  0.0000e+00],\n",
       "          [-5.9953e-04,  0.0000e+00,  2.1006e-05,  0.0000e+00],\n",
       "          [-1.1116e-05,  0.0000e+00, -9.8944e-06,  0.0000e+00]])],\n",
       " [tensor([[ 6.1065e-04,  0.0000e+00, -1.6383e-03,  0.0000e+00],\n",
       "          [-5.9953e-04,  0.0000e+00,  2.1006e-05,  0.0000e+00],\n",
       "          [-1.1116e-05,  0.0000e+00, -9.8944e-06,  0.0000e+00]])],\n",
       " [tensor([[ 6.1065e-04,  0.0000e+00, -1.6383e-03,  0.0000e+00],\n",
       "          [-5.9953e-04,  0.0000e+00,  2.1006e-05,  0.0000e+00],\n",
       "          [-1.1116e-05,  0.0000e+00, -9.8944e-06,  0.0000e+00]])],\n",
       " [tensor([[ 6.1065e-04,  0.0000e+00, -1.6383e-03,  0.0000e+00],\n",
       "          [-5.9953e-04,  0.0000e+00,  2.1006e-05,  0.0000e+00],\n",
       "          [-1.1116e-05,  0.0000e+00, -9.8944e-06,  0.0000e+00]])],\n",
       " [tensor([[ 6.1065e-04,  0.0000e+00, -1.6383e-03,  0.0000e+00],\n",
       "          [-5.9953e-04,  0.0000e+00,  2.1006e-05,  0.0000e+00],\n",
       "          [-1.1116e-05,  0.0000e+00, -9.8944e-06,  0.0000e+00]])],\n",
       " [tensor([[ 6.1065e-04,  0.0000e+00, -1.6383e-03,  0.0000e+00],\n",
       "          [-5.9953e-04,  0.0000e+00,  2.1006e-05,  0.0000e+00],\n",
       "          [-1.1116e-05,  0.0000e+00, -9.8944e-06,  0.0000e+00]])],\n",
       " [tensor([[ 6.1065e-04,  0.0000e+00, -1.6383e-03,  0.0000e+00],\n",
       "          [-5.9953e-04,  0.0000e+00,  2.1006e-05,  0.0000e+00],\n",
       "          [-1.1116e-05,  0.0000e+00, -9.8944e-06,  0.0000e+00]])],\n",
       " [tensor([[ 6.1065e-04,  0.0000e+00, -1.6383e-03,  0.0000e+00],\n",
       "          [-5.9953e-04,  0.0000e+00,  2.1006e-05,  0.0000e+00],\n",
       "          [-1.1116e-05,  0.0000e+00, -9.8944e-06,  0.0000e+00]])],\n",
       " [tensor([[ 6.1065e-04,  0.0000e+00, -1.6383e-03,  0.0000e+00],\n",
       "          [-5.9953e-04,  0.0000e+00,  2.1006e-05,  0.0000e+00],\n",
       "          [-1.1116e-05,  0.0000e+00, -9.8944e-06,  0.0000e+00]])],\n",
       " [tensor([[ 6.1065e-04,  0.0000e+00, -1.6383e-03,  0.0000e+00],\n",
       "          [-5.9953e-04,  0.0000e+00,  2.1006e-05,  0.0000e+00],\n",
       "          [-1.1116e-05,  0.0000e+00, -9.8944e-06,  0.0000e+00]])],\n",
       " [tensor([[ 6.1065e-04,  0.0000e+00, -1.6383e-03,  0.0000e+00],\n",
       "          [-5.9953e-04,  0.0000e+00,  2.1006e-05,  0.0000e+00],\n",
       "          [-1.1116e-05,  0.0000e+00, -9.8944e-06,  0.0000e+00]])],\n",
       " [tensor([[ 6.1065e-04,  0.0000e+00, -1.6383e-03,  0.0000e+00],\n",
       "          [-5.9953e-04,  0.0000e+00,  2.1006e-05,  0.0000e+00],\n",
       "          [-1.1116e-05,  0.0000e+00, -9.8944e-06,  0.0000e+00]])],\n",
       " [tensor([[ 6.1065e-04,  0.0000e+00, -1.6383e-03,  0.0000e+00],\n",
       "          [-5.9953e-04,  0.0000e+00,  2.1006e-05,  0.0000e+00],\n",
       "          [-1.1116e-05,  0.0000e+00, -9.8944e-06,  0.0000e+00]])],\n",
       " [tensor([[ 6.1065e-04,  0.0000e+00, -1.6383e-03,  0.0000e+00],\n",
       "          [-5.9953e-04,  0.0000e+00,  2.1006e-05,  0.0000e+00],\n",
       "          [-1.1116e-05,  0.0000e+00, -9.8944e-06,  0.0000e+00]])],\n",
       " [tensor([[ 6.1065e-04,  0.0000e+00, -1.6383e-03,  0.0000e+00],\n",
       "          [-5.9953e-04,  0.0000e+00,  2.1006e-05,  0.0000e+00],\n",
       "          [-1.1116e-05,  0.0000e+00, -9.8944e-06,  0.0000e+00]])],\n",
       " [tensor([[ 6.1065e-04,  0.0000e+00, -1.6383e-03,  0.0000e+00],\n",
       "          [-5.9953e-04,  0.0000e+00,  2.1006e-05,  0.0000e+00],\n",
       "          [-1.1116e-05,  0.0000e+00, -9.8944e-06,  0.0000e+00]])],\n",
       " [tensor([[ 6.1065e-04,  0.0000e+00, -1.6383e-03,  0.0000e+00],\n",
       "          [-5.9953e-04,  0.0000e+00,  2.1006e-05,  0.0000e+00],\n",
       "          [-1.1116e-05,  0.0000e+00, -9.8944e-06,  0.0000e+00]])],\n",
       " [tensor([[ 6.1065e-04,  0.0000e+00, -1.6383e-03,  0.0000e+00],\n",
       "          [-5.9953e-04,  0.0000e+00,  2.1006e-05,  0.0000e+00],\n",
       "          [-1.1116e-05,  0.0000e+00, -9.8944e-06,  0.0000e+00]])],\n",
       " [tensor([[ 6.1065e-04,  0.0000e+00, -1.6383e-03,  0.0000e+00],\n",
       "          [-5.9953e-04,  0.0000e+00,  2.1006e-05,  0.0000e+00],\n",
       "          [-1.1116e-05,  0.0000e+00, -9.8944e-06,  0.0000e+00]])],\n",
       " [tensor([[ 6.1065e-04,  0.0000e+00, -1.6383e-03,  0.0000e+00],\n",
       "          [-5.9953e-04,  0.0000e+00,  2.1006e-05,  0.0000e+00],\n",
       "          [-1.1116e-05,  0.0000e+00, -9.8944e-06,  0.0000e+00]])],\n",
       " [tensor([[ 6.1065e-04,  0.0000e+00, -1.6383e-03,  0.0000e+00],\n",
       "          [-5.9953e-04,  0.0000e+00,  2.1006e-05,  0.0000e+00],\n",
       "          [-1.1116e-05,  0.0000e+00, -9.8944e-06,  0.0000e+00]])],\n",
       " [tensor([[ 6.1065e-04,  0.0000e+00, -1.6383e-03,  0.0000e+00],\n",
       "          [-5.9953e-04,  0.0000e+00,  2.1006e-05,  0.0000e+00],\n",
       "          [-1.1116e-05,  0.0000e+00, -9.8944e-06,  0.0000e+00]])],\n",
       " [tensor([[ 6.1065e-04,  0.0000e+00, -1.6383e-03,  0.0000e+00],\n",
       "          [-5.9953e-04,  0.0000e+00,  2.1006e-05,  0.0000e+00],\n",
       "          [-1.1116e-05,  0.0000e+00, -9.8944e-06,  0.0000e+00]])],\n",
       " [tensor([[ 6.1065e-04,  0.0000e+00, -1.6383e-03,  0.0000e+00],\n",
       "          [-5.9953e-04,  0.0000e+00,  2.1006e-05,  0.0000e+00],\n",
       "          [-1.1116e-05,  0.0000e+00, -9.8944e-06,  0.0000e+00]])],\n",
       " [tensor([[ 6.1065e-04,  0.0000e+00, -1.6383e-03,  0.0000e+00],\n",
       "          [-5.9953e-04,  0.0000e+00,  2.1006e-05,  0.0000e+00],\n",
       "          [-1.1116e-05,  0.0000e+00, -9.8944e-06,  0.0000e+00]])],\n",
       " [tensor([[ 6.1065e-04,  0.0000e+00, -1.6383e-03,  0.0000e+00],\n",
       "          [-5.9953e-04,  0.0000e+00,  2.1006e-05,  0.0000e+00],\n",
       "          [-1.1116e-05,  0.0000e+00, -9.8944e-06,  0.0000e+00]])],\n",
       " [tensor([[ 6.1065e-04,  0.0000e+00, -1.6383e-03,  0.0000e+00],\n",
       "          [-5.9953e-04,  0.0000e+00,  2.1006e-05,  0.0000e+00],\n",
       "          [-1.1116e-05,  0.0000e+00, -9.8944e-06,  0.0000e+00]])],\n",
       " [tensor([[ 6.1065e-04,  0.0000e+00, -1.6383e-03,  0.0000e+00],\n",
       "          [-5.9953e-04,  0.0000e+00,  2.1006e-05,  0.0000e+00],\n",
       "          [-1.1116e-05,  0.0000e+00, -9.8944e-06,  0.0000e+00]])],\n",
       " [tensor([[ 6.1065e-04,  0.0000e+00, -1.6383e-03,  0.0000e+00],\n",
       "          [-5.9953e-04,  0.0000e+00,  2.1006e-05,  0.0000e+00],\n",
       "          [-1.1116e-05,  0.0000e+00, -9.8944e-06,  0.0000e+00]])],\n",
       " [tensor([[ 6.1065e-04,  0.0000e+00, -1.6383e-03,  0.0000e+00],\n",
       "          [-5.9953e-04,  0.0000e+00,  2.1006e-05,  0.0000e+00],\n",
       "          [-1.1116e-05,  0.0000e+00, -9.8944e-06,  0.0000e+00]])],\n",
       " [tensor([[ 6.1065e-04,  0.0000e+00, -1.6383e-03,  0.0000e+00],\n",
       "          [-5.9953e-04,  0.0000e+00,  2.1006e-05,  0.0000e+00],\n",
       "          [-1.1116e-05,  0.0000e+00, -9.8944e-06,  0.0000e+00]])],\n",
       " [tensor([[ 6.1065e-04,  0.0000e+00, -1.6383e-03,  0.0000e+00],\n",
       "          [-5.9953e-04,  0.0000e+00,  2.1006e-05,  0.0000e+00],\n",
       "          [-1.1116e-05,  0.0000e+00, -9.8944e-06,  0.0000e+00]])],\n",
       " [tensor([[ 6.1065e-04,  0.0000e+00, -1.6383e-03,  0.0000e+00],\n",
       "          [-5.9953e-04,  0.0000e+00,  2.1006e-05,  0.0000e+00],\n",
       "          [-1.1116e-05,  0.0000e+00, -9.8944e-06,  0.0000e+00]])],\n",
       " [tensor([[ 6.1065e-04,  0.0000e+00, -1.6383e-03,  0.0000e+00],\n",
       "          [-5.9953e-04,  0.0000e+00,  2.1006e-05,  0.0000e+00],\n",
       "          [-1.1116e-05,  0.0000e+00, -9.8944e-06,  0.0000e+00]])],\n",
       " [tensor([[ 6.1065e-04,  0.0000e+00, -1.6383e-03,  0.0000e+00],\n",
       "          [-5.9953e-04,  0.0000e+00,  2.1006e-05,  0.0000e+00],\n",
       "          [-1.1116e-05,  0.0000e+00, -9.8944e-06,  0.0000e+00]])],\n",
       " [tensor([[ 6.1065e-04,  0.0000e+00, -1.6383e-03,  0.0000e+00],\n",
       "          [-5.9953e-04,  0.0000e+00,  2.1006e-05,  0.0000e+00],\n",
       "          [-1.1116e-05,  0.0000e+00, -9.8944e-06,  0.0000e+00]])],\n",
       " [tensor([[ 6.1065e-04,  0.0000e+00, -1.6383e-03,  0.0000e+00],\n",
       "          [-5.9953e-04,  0.0000e+00,  2.1006e-05,  0.0000e+00],\n",
       "          [-1.1116e-05,  0.0000e+00, -9.8944e-06,  0.0000e+00]])],\n",
       " [tensor([[ 6.1065e-04,  0.0000e+00, -1.6383e-03,  0.0000e+00],\n",
       "          [-5.9953e-04,  0.0000e+00,  2.1006e-05,  0.0000e+00],\n",
       "          [-1.1116e-05,  0.0000e+00, -9.8944e-06,  0.0000e+00]])],\n",
       " [tensor([[ 6.1065e-04,  0.0000e+00, -1.6383e-03,  0.0000e+00],\n",
       "          [-5.9953e-04,  0.0000e+00,  2.1006e-05,  0.0000e+00],\n",
       "          [-1.1116e-05,  0.0000e+00, -9.8944e-06,  0.0000e+00]])],\n",
       " [tensor([[ 6.1065e-04,  0.0000e+00, -1.6383e-03,  0.0000e+00],\n",
       "          [-5.9953e-04,  0.0000e+00,  2.1006e-05,  0.0000e+00],\n",
       "          [-1.1116e-05,  0.0000e+00, -9.8944e-06,  0.0000e+00]])],\n",
       " [tensor([[ 6.1065e-04,  0.0000e+00, -1.6383e-03,  0.0000e+00],\n",
       "          [-5.9953e-04,  0.0000e+00,  2.1006e-05,  0.0000e+00],\n",
       "          [-1.1116e-05,  0.0000e+00, -9.8944e-06,  0.0000e+00]])],\n",
       " [tensor([[ 6.1065e-04,  0.0000e+00, -1.6383e-03,  0.0000e+00],\n",
       "          [-5.9953e-04,  0.0000e+00,  2.1006e-05,  0.0000e+00],\n",
       "          [-1.1116e-05,  0.0000e+00, -9.8944e-06,  0.0000e+00]])],\n",
       " [tensor([[ 6.1065e-04,  0.0000e+00, -1.6383e-03,  0.0000e+00],\n",
       "          [-5.9953e-04,  0.0000e+00,  2.1006e-05,  0.0000e+00],\n",
       "          [-1.1116e-05,  0.0000e+00, -9.8944e-06,  0.0000e+00]])],\n",
       " [tensor([[ 6.1065e-04,  0.0000e+00, -1.6383e-03,  0.0000e+00],\n",
       "          [-5.9953e-04,  0.0000e+00,  2.1006e-05,  0.0000e+00],\n",
       "          [-1.1116e-05,  0.0000e+00, -9.8944e-06,  0.0000e+00]])],\n",
       " [tensor([[ 6.1065e-04,  0.0000e+00, -1.6383e-03,  0.0000e+00],\n",
       "          [-5.9953e-04,  0.0000e+00,  2.1006e-05,  0.0000e+00],\n",
       "          [-1.1116e-05,  0.0000e+00, -9.8944e-06,  0.0000e+00]])],\n",
       " [tensor([[ 6.1065e-04,  0.0000e+00, -1.6383e-03,  0.0000e+00],\n",
       "          [-5.9953e-04,  0.0000e+00,  2.1006e-05,  0.0000e+00],\n",
       "          [-1.1116e-05,  0.0000e+00, -9.8944e-06,  0.0000e+00]])],\n",
       " [tensor([[ 6.1065e-04,  0.0000e+00, -1.6383e-03,  0.0000e+00],\n",
       "          [-5.9953e-04,  0.0000e+00,  2.1006e-05,  0.0000e+00],\n",
       "          [-1.1116e-05,  0.0000e+00, -9.8944e-06,  0.0000e+00]])],\n",
       " [tensor([[ 6.1065e-04,  0.0000e+00, -1.6383e-03,  0.0000e+00],\n",
       "          [-5.9953e-04,  0.0000e+00,  2.1006e-05,  0.0000e+00],\n",
       "          [-1.1116e-05,  0.0000e+00, -9.8944e-06,  0.0000e+00]])],\n",
       " [tensor([[ 6.1065e-04,  0.0000e+00, -1.6383e-03,  0.0000e+00],\n",
       "          [-5.9953e-04,  0.0000e+00,  2.1006e-05,  0.0000e+00],\n",
       "          [-1.1116e-05,  0.0000e+00, -9.8944e-06,  0.0000e+00]])],\n",
       " [tensor([[ 6.1065e-04,  0.0000e+00, -1.6383e-03,  0.0000e+00],\n",
       "          [-5.9953e-04,  0.0000e+00,  2.1006e-05,  0.0000e+00],\n",
       "          [-1.1116e-05,  0.0000e+00, -9.8944e-06,  0.0000e+00]])],\n",
       " [tensor([[ 6.1065e-04,  0.0000e+00, -1.6383e-03,  0.0000e+00],\n",
       "          [-5.9953e-04,  0.0000e+00,  2.1006e-05,  0.0000e+00],\n",
       "          [-1.1116e-05,  0.0000e+00, -9.8944e-06,  0.0000e+00]])],\n",
       " [tensor([[ 6.1065e-04,  0.0000e+00, -1.6383e-03,  0.0000e+00],\n",
       "          [-5.9953e-04,  0.0000e+00,  2.1006e-05,  0.0000e+00],\n",
       "          [-1.1116e-05,  0.0000e+00, -9.8944e-06,  0.0000e+00]])],\n",
       " [tensor([[ 6.1065e-04,  0.0000e+00, -1.6383e-03,  0.0000e+00],\n",
       "          [-5.9953e-04,  0.0000e+00,  2.1006e-05,  0.0000e+00],\n",
       "          [-1.1116e-05,  0.0000e+00, -9.8944e-06,  0.0000e+00]])],\n",
       " [tensor([[ 6.1065e-04,  0.0000e+00, -1.6383e-03,  0.0000e+00],\n",
       "          [-5.9953e-04,  0.0000e+00,  2.1006e-05,  0.0000e+00],\n",
       "          [-1.1116e-05,  0.0000e+00, -9.8944e-06,  0.0000e+00]])],\n",
       " [tensor([[ 6.1065e-04,  0.0000e+00, -1.6383e-03,  0.0000e+00],\n",
       "          [-5.9953e-04,  0.0000e+00,  2.1006e-05,  0.0000e+00],\n",
       "          [-1.1116e-05,  0.0000e+00, -9.8944e-06,  0.0000e+00]])],\n",
       " [tensor([[ 6.1065e-04,  0.0000e+00, -1.6383e-03,  0.0000e+00],\n",
       "          [-5.9953e-04,  0.0000e+00,  2.1006e-05,  0.0000e+00],\n",
       "          [-1.1116e-05,  0.0000e+00, -9.8944e-06,  0.0000e+00]])],\n",
       " [tensor([[ 6.1065e-04,  0.0000e+00, -1.6383e-03,  0.0000e+00],\n",
       "          [-5.9953e-04,  0.0000e+00,  2.1006e-05,  0.0000e+00],\n",
       "          [-1.1116e-05,  0.0000e+00, -9.8944e-06,  0.0000e+00]])],\n",
       " [tensor([[ 6.1065e-04,  0.0000e+00, -1.6383e-03,  0.0000e+00],\n",
       "          [-5.9953e-04,  0.0000e+00,  2.1006e-05,  0.0000e+00],\n",
       "          [-1.1116e-05,  0.0000e+00, -9.8944e-06,  0.0000e+00]])],\n",
       " [tensor([[ 6.1065e-04,  0.0000e+00, -1.6383e-03,  0.0000e+00],\n",
       "          [-5.9953e-04,  0.0000e+00,  2.1006e-05,  0.0000e+00],\n",
       "          [-1.1116e-05,  0.0000e+00, -9.8944e-06,  0.0000e+00]])],\n",
       " [tensor([[ 6.1065e-04,  0.0000e+00, -1.6383e-03,  0.0000e+00],\n",
       "          [-5.9953e-04,  0.0000e+00,  2.1006e-05,  0.0000e+00],\n",
       "          [-1.1116e-05,  0.0000e+00, -9.8944e-06,  0.0000e+00]])],\n",
       " [tensor([[ 6.1065e-04,  0.0000e+00, -1.6383e-03,  0.0000e+00],\n",
       "          [-5.9953e-04,  0.0000e+00,  2.1006e-05,  0.0000e+00],\n",
       "          [-1.1116e-05,  0.0000e+00, -9.8944e-06,  0.0000e+00]])],\n",
       " [tensor([[ 6.1065e-04,  0.0000e+00, -1.6383e-03,  0.0000e+00],\n",
       "          [-5.9953e-04,  0.0000e+00,  2.1006e-05,  0.0000e+00],\n",
       "          [-1.1116e-05,  0.0000e+00, -9.8944e-06,  0.0000e+00]])],\n",
       " [tensor([[ 6.1065e-04,  0.0000e+00, -1.6383e-03,  0.0000e+00],\n",
       "          [-5.9953e-04,  0.0000e+00,  2.1006e-05,  0.0000e+00],\n",
       "          [-1.1116e-05,  0.0000e+00, -9.8944e-06,  0.0000e+00]])],\n",
       " [tensor([[ 6.1065e-04,  0.0000e+00, -1.6383e-03,  0.0000e+00],\n",
       "          [-5.9953e-04,  0.0000e+00,  2.1006e-05,  0.0000e+00],\n",
       "          [-1.1116e-05,  0.0000e+00, -9.8944e-06,  0.0000e+00]])],\n",
       " [tensor([[ 6.1065e-04,  0.0000e+00, -1.6383e-03,  0.0000e+00],\n",
       "          [-5.9953e-04,  0.0000e+00,  2.1006e-05,  0.0000e+00],\n",
       "          [-1.1116e-05,  0.0000e+00, -9.8944e-06,  0.0000e+00]])],\n",
       " [tensor([[ 6.1065e-04,  0.0000e+00, -1.6383e-03,  0.0000e+00],\n",
       "          [-5.9953e-04,  0.0000e+00,  2.1006e-05,  0.0000e+00],\n",
       "          [-1.1116e-05,  0.0000e+00, -9.8944e-06,  0.0000e+00]])],\n",
       " [tensor([[ 6.1065e-04,  0.0000e+00, -1.6383e-03,  0.0000e+00],\n",
       "          [-5.9953e-04,  0.0000e+00,  2.1006e-05,  0.0000e+00],\n",
       "          [-1.1116e-05,  0.0000e+00, -9.8944e-06,  0.0000e+00]])],\n",
       " [tensor([[ 6.1065e-04,  0.0000e+00, -1.6383e-03,  0.0000e+00],\n",
       "          [-5.9953e-04,  0.0000e+00,  2.1006e-05,  0.0000e+00],\n",
       "          [-1.1116e-05,  0.0000e+00, -9.8944e-06,  0.0000e+00]])],\n",
       " [tensor([[ 6.1065e-04,  0.0000e+00, -1.6383e-03,  0.0000e+00],\n",
       "          [-5.9953e-04,  0.0000e+00,  2.1006e-05,  0.0000e+00],\n",
       "          [-1.1116e-05,  0.0000e+00, -9.8944e-06,  0.0000e+00]])],\n",
       " [tensor([[ 6.1065e-04,  0.0000e+00, -1.6383e-03,  0.0000e+00],\n",
       "          [-5.9953e-04,  0.0000e+00,  2.1006e-05,  0.0000e+00],\n",
       "          [-1.1116e-05,  0.0000e+00, -9.8944e-06,  0.0000e+00]])],\n",
       " [tensor([[ 6.1065e-04,  0.0000e+00, -1.6383e-03,  0.0000e+00],\n",
       "          [-5.9953e-04,  0.0000e+00,  2.1006e-05,  0.0000e+00],\n",
       "          [-1.1116e-05,  0.0000e+00, -9.8944e-06,  0.0000e+00]])],\n",
       " [tensor([[ 6.1065e-04,  0.0000e+00, -1.6383e-03,  0.0000e+00],\n",
       "          [-5.9953e-04,  0.0000e+00,  2.1006e-05,  0.0000e+00],\n",
       "          [-1.1116e-05,  0.0000e+00, -9.8944e-06,  0.0000e+00]])],\n",
       " [tensor([[ 6.1065e-04,  0.0000e+00, -1.6383e-03,  0.0000e+00],\n",
       "          [-5.9953e-04,  0.0000e+00,  2.1006e-05,  0.0000e+00],\n",
       "          [-1.1116e-05,  0.0000e+00, -9.8944e-06,  0.0000e+00]])],\n",
       " [tensor([[ 6.1065e-04,  0.0000e+00, -1.6383e-03,  0.0000e+00],\n",
       "          [-5.9953e-04,  0.0000e+00,  2.1006e-05,  0.0000e+00],\n",
       "          [-1.1116e-05,  0.0000e+00, -9.8944e-06,  0.0000e+00]])],\n",
       " [tensor([[ 6.1065e-04,  0.0000e+00, -1.6383e-03,  0.0000e+00],\n",
       "          [-5.9953e-04,  0.0000e+00,  2.1006e-05,  0.0000e+00],\n",
       "          [-1.1116e-05,  0.0000e+00, -9.8944e-06,  0.0000e+00]])],\n",
       " [tensor([[ 6.1065e-04,  0.0000e+00, -1.6383e-03,  0.0000e+00],\n",
       "          [-5.9953e-04,  0.0000e+00,  2.1006e-05,  0.0000e+00],\n",
       "          [-1.1116e-05,  0.0000e+00, -9.8944e-06,  0.0000e+00]])],\n",
       " [tensor([[ 6.1065e-04,  0.0000e+00, -1.6383e-03,  0.0000e+00],\n",
       "          [-5.9953e-04,  0.0000e+00,  2.1006e-05,  0.0000e+00],\n",
       "          [-1.1116e-05,  0.0000e+00, -9.8944e-06,  0.0000e+00]])],\n",
       " [tensor([[ 6.1065e-04,  0.0000e+00, -1.6383e-03,  0.0000e+00],\n",
       "          [-5.9953e-04,  0.0000e+00,  2.1006e-05,  0.0000e+00],\n",
       "          [-1.1116e-05,  0.0000e+00, -9.8944e-06,  0.0000e+00]])],\n",
       " [tensor([[ 6.1065e-04,  0.0000e+00, -1.6383e-03,  0.0000e+00],\n",
       "          [-5.9953e-04,  0.0000e+00,  2.1006e-05,  0.0000e+00],\n",
       "          [-1.1116e-05,  0.0000e+00, -9.8944e-06,  0.0000e+00]])],\n",
       " [tensor([[ 6.1065e-04,  0.0000e+00, -1.6383e-03,  0.0000e+00],\n",
       "          [-5.9953e-04,  0.0000e+00,  2.1006e-05,  0.0000e+00],\n",
       "          [-1.1116e-05,  0.0000e+00, -9.8944e-06,  0.0000e+00]])],\n",
       " [tensor([[ 6.1065e-04,  0.0000e+00, -1.6383e-03,  0.0000e+00],\n",
       "          [-5.9953e-04,  0.0000e+00,  2.1006e-05,  0.0000e+00],\n",
       "          [-1.1116e-05,  0.0000e+00, -9.8944e-06,  0.0000e+00]])],\n",
       " [tensor([[ 6.1065e-04,  0.0000e+00, -1.6383e-03,  0.0000e+00],\n",
       "          [-5.9953e-04,  0.0000e+00,  2.1006e-05,  0.0000e+00],\n",
       "          [-1.1116e-05,  0.0000e+00, -9.8944e-06,  0.0000e+00]])],\n",
       " [tensor([[ 6.1065e-04,  0.0000e+00, -1.6383e-03,  0.0000e+00],\n",
       "          [-5.9953e-04,  0.0000e+00,  2.1006e-05,  0.0000e+00],\n",
       "          [-1.1116e-05,  0.0000e+00, -9.8944e-06,  0.0000e+00]])],\n",
       " [tensor([[ 6.1065e-04,  0.0000e+00, -1.6383e-03,  0.0000e+00],\n",
       "          [-5.9953e-04,  0.0000e+00,  2.1006e-05,  0.0000e+00],\n",
       "          [-1.1116e-05,  0.0000e+00, -9.8944e-06,  0.0000e+00]])],\n",
       " [tensor([[ 6.1065e-04,  0.0000e+00, -1.6383e-03,  0.0000e+00],\n",
       "          [-5.9953e-04,  0.0000e+00,  2.1006e-05,  0.0000e+00],\n",
       "          [-1.1116e-05,  0.0000e+00, -9.8944e-06,  0.0000e+00]])],\n",
       " [tensor([[ 6.1065e-04,  0.0000e+00, -1.6383e-03,  0.0000e+00],\n",
       "          [-5.9953e-04,  0.0000e+00,  2.1006e-05,  0.0000e+00],\n",
       "          [-1.1116e-05,  0.0000e+00, -9.8944e-06,  0.0000e+00]])],\n",
       " [tensor([[ 6.1065e-04,  0.0000e+00, -1.6383e-03,  0.0000e+00],\n",
       "          [-5.9953e-04,  0.0000e+00,  2.1006e-05,  0.0000e+00],\n",
       "          [-1.1116e-05,  0.0000e+00, -9.8944e-06,  0.0000e+00]])],\n",
       " [tensor([[ 6.1065e-04,  0.0000e+00, -1.6383e-03,  0.0000e+00],\n",
       "          [-5.9953e-04,  0.0000e+00,  2.1006e-05,  0.0000e+00],\n",
       "          [-1.1116e-05,  0.0000e+00, -9.8944e-06,  0.0000e+00]])],\n",
       " [tensor([[ 6.1065e-04,  0.0000e+00, -1.6383e-03,  0.0000e+00],\n",
       "          [-5.9953e-04,  0.0000e+00,  2.1006e-05,  0.0000e+00],\n",
       "          [-1.1116e-05,  0.0000e+00, -9.8944e-06,  0.0000e+00]])],\n",
       " [tensor([[ 6.1065e-04,  0.0000e+00, -1.6383e-03,  0.0000e+00],\n",
       "          [-5.9953e-04,  0.0000e+00,  2.1006e-05,  0.0000e+00],\n",
       "          [-1.1116e-05,  0.0000e+00, -9.8944e-06,  0.0000e+00]])],\n",
       " [tensor([[ 6.1065e-04,  0.0000e+00, -1.6383e-03,  0.0000e+00],\n",
       "          [-5.9953e-04,  0.0000e+00,  2.1006e-05,  0.0000e+00],\n",
       "          [-1.1116e-05,  0.0000e+00, -9.8944e-06,  0.0000e+00]])],\n",
       " [tensor([[ 6.1065e-04,  0.0000e+00, -1.6383e-03,  0.0000e+00],\n",
       "          [-5.9953e-04,  0.0000e+00,  2.1006e-05,  0.0000e+00],\n",
       "          [-1.1116e-05,  0.0000e+00, -9.8944e-06,  0.0000e+00]])],\n",
       " [tensor([[ 6.1065e-04,  0.0000e+00, -1.6383e-03,  0.0000e+00],\n",
       "          [-5.9953e-04,  0.0000e+00,  2.1006e-05,  0.0000e+00],\n",
       "          [-1.1116e-05,  0.0000e+00, -9.8944e-06,  0.0000e+00]])],\n",
       " [tensor([[ 6.1065e-04,  0.0000e+00, -1.6383e-03,  0.0000e+00],\n",
       "          [-5.9953e-04,  0.0000e+00,  2.1006e-05,  0.0000e+00],\n",
       "          [-1.1116e-05,  0.0000e+00, -9.8944e-06,  0.0000e+00]])],\n",
       " [tensor([[ 6.1065e-04,  0.0000e+00, -1.6383e-03,  0.0000e+00],\n",
       "          [-5.9953e-04,  0.0000e+00,  2.1006e-05,  0.0000e+00],\n",
       "          [-1.1116e-05,  0.0000e+00, -9.8944e-06,  0.0000e+00]])],\n",
       " [tensor([[ 6.1065e-04,  0.0000e+00, -1.6383e-03,  0.0000e+00],\n",
       "          [-5.9953e-04,  0.0000e+00,  2.1006e-05,  0.0000e+00],\n",
       "          [-1.1116e-05,  0.0000e+00, -9.8944e-06,  0.0000e+00]])],\n",
       " [tensor([[ 6.1065e-04,  0.0000e+00, -1.6383e-03,  0.0000e+00],\n",
       "          [-5.9953e-04,  0.0000e+00,  2.1006e-05,  0.0000e+00],\n",
       "          [-1.1116e-05,  0.0000e+00, -9.8944e-06,  0.0000e+00]])],\n",
       " [tensor([[ 6.1065e-04,  0.0000e+00, -1.6383e-03,  0.0000e+00],\n",
       "          [-5.9953e-04,  0.0000e+00,  2.1006e-05,  0.0000e+00],\n",
       "          [-1.1116e-05,  0.0000e+00, -9.8944e-06,  0.0000e+00]])],\n",
       " [tensor([[ 6.1065e-04,  0.0000e+00, -1.6383e-03,  0.0000e+00],\n",
       "          [-5.9953e-04,  0.0000e+00,  2.1006e-05,  0.0000e+00],\n",
       "          [-1.1116e-05,  0.0000e+00, -9.8944e-06,  0.0000e+00]])],\n",
       " [tensor([[ 6.1065e-04,  0.0000e+00, -1.6383e-03,  0.0000e+00],\n",
       "          [-5.9953e-04,  0.0000e+00,  2.1006e-05,  0.0000e+00],\n",
       "          [-1.1116e-05,  0.0000e+00, -9.8944e-06,  0.0000e+00]])],\n",
       " [tensor([[ 6.1065e-04,  0.0000e+00, -1.6383e-03,  0.0000e+00],\n",
       "          [-5.9953e-04,  0.0000e+00,  2.1006e-05,  0.0000e+00],\n",
       "          [-1.1116e-05,  0.0000e+00, -9.8944e-06,  0.0000e+00]])],\n",
       " [tensor([[ 6.1065e-04,  0.0000e+00, -1.6383e-03,  0.0000e+00],\n",
       "          [-5.9953e-04,  0.0000e+00,  2.1006e-05,  0.0000e+00],\n",
       "          [-1.1116e-05,  0.0000e+00, -9.8944e-06,  0.0000e+00]])],\n",
       " [tensor([[ 6.1065e-04,  0.0000e+00, -1.6383e-03,  0.0000e+00],\n",
       "          [-5.9953e-04,  0.0000e+00,  2.1006e-05,  0.0000e+00],\n",
       "          [-1.1116e-05,  0.0000e+00, -9.8944e-06,  0.0000e+00]])],\n",
       " [tensor([[ 6.1065e-04,  0.0000e+00, -1.6383e-03,  0.0000e+00],\n",
       "          [-5.9953e-04,  0.0000e+00,  2.1006e-05,  0.0000e+00],\n",
       "          [-1.1116e-05,  0.0000e+00, -9.8944e-06,  0.0000e+00]])],\n",
       " [tensor([[ 6.1065e-04,  0.0000e+00, -1.6383e-03,  0.0000e+00],\n",
       "          [-5.9953e-04,  0.0000e+00,  2.1006e-05,  0.0000e+00],\n",
       "          [-1.1116e-05,  0.0000e+00, -9.8944e-06,  0.0000e+00]])],\n",
       " [tensor([[ 6.1065e-04,  0.0000e+00, -1.6383e-03,  0.0000e+00],\n",
       "          [-5.9953e-04,  0.0000e+00,  2.1006e-05,  0.0000e+00],\n",
       "          [-1.1116e-05,  0.0000e+00, -9.8944e-06,  0.0000e+00]])],\n",
       " [tensor([[ 6.1065e-04,  0.0000e+00, -1.6383e-03,  0.0000e+00],\n",
       "          [-5.9953e-04,  0.0000e+00,  2.1006e-05,  0.0000e+00],\n",
       "          [-1.1116e-05,  0.0000e+00, -9.8944e-06,  0.0000e+00]])],\n",
       " [tensor([[ 6.1065e-04,  0.0000e+00, -1.6383e-03,  0.0000e+00],\n",
       "          [-5.9953e-04,  0.0000e+00,  2.1006e-05,  0.0000e+00],\n",
       "          [-1.1116e-05,  0.0000e+00, -9.8944e-06,  0.0000e+00]])],\n",
       " [tensor([[ 6.1065e-04,  0.0000e+00, -1.6383e-03,  0.0000e+00],\n",
       "          [-5.9953e-04,  0.0000e+00,  2.1006e-05,  0.0000e+00],\n",
       "          [-1.1116e-05,  0.0000e+00, -9.8944e-06,  0.0000e+00]])],\n",
       " [tensor([[ 6.1065e-04,  0.0000e+00, -1.6383e-03,  0.0000e+00],\n",
       "          [-5.9953e-04,  0.0000e+00,  2.1006e-05,  0.0000e+00],\n",
       "          [-1.1116e-05,  0.0000e+00, -9.8944e-06,  0.0000e+00]])],\n",
       " [tensor([[ 6.1065e-04,  0.0000e+00, -1.6383e-03,  0.0000e+00],\n",
       "          [-5.9953e-04,  0.0000e+00,  2.1006e-05,  0.0000e+00],\n",
       "          [-1.1116e-05,  0.0000e+00, -9.8944e-06,  0.0000e+00]])],\n",
       " [tensor([[ 6.1065e-04,  0.0000e+00, -1.6383e-03,  0.0000e+00],\n",
       "          [-5.9953e-04,  0.0000e+00,  2.1006e-05,  0.0000e+00],\n",
       "          [-1.1116e-05,  0.0000e+00, -9.8944e-06,  0.0000e+00]])],\n",
       " [tensor([[ 6.1065e-04,  0.0000e+00, -1.6383e-03,  0.0000e+00],\n",
       "          [-5.9953e-04,  0.0000e+00,  2.1006e-05,  0.0000e+00],\n",
       "          [-1.1116e-05,  0.0000e+00, -9.8944e-06,  0.0000e+00]])],\n",
       " [tensor([[ 6.1065e-04,  0.0000e+00, -1.6383e-03,  0.0000e+00],\n",
       "          [-5.9953e-04,  0.0000e+00,  2.1006e-05,  0.0000e+00],\n",
       "          [-1.1116e-05,  0.0000e+00, -9.8944e-06,  0.0000e+00]])],\n",
       " [tensor([[ 6.1065e-04,  0.0000e+00, -1.6383e-03,  0.0000e+00],\n",
       "          [-5.9953e-04,  0.0000e+00,  2.1006e-05,  0.0000e+00],\n",
       "          [-1.1116e-05,  0.0000e+00, -9.8944e-06,  0.0000e+00]])],\n",
       " [tensor([[ 6.1065e-04,  0.0000e+00, -1.6383e-03,  0.0000e+00],\n",
       "          [-5.9953e-04,  0.0000e+00,  2.1006e-05,  0.0000e+00],\n",
       "          [-1.1116e-05,  0.0000e+00, -9.8944e-06,  0.0000e+00]])],\n",
       " [tensor([[ 6.1065e-04,  0.0000e+00, -1.6383e-03,  0.0000e+00],\n",
       "          [-5.9953e-04,  0.0000e+00,  2.1006e-05,  0.0000e+00],\n",
       "          [-1.1116e-05,  0.0000e+00, -9.8944e-06,  0.0000e+00]])],\n",
       " [tensor([[ 6.1065e-04,  0.0000e+00, -1.6383e-03,  0.0000e+00],\n",
       "          [-5.9953e-04,  0.0000e+00,  2.1006e-05,  0.0000e+00],\n",
       "          [-1.1116e-05,  0.0000e+00, -9.8944e-06,  0.0000e+00]])],\n",
       " [tensor([[ 6.1065e-04,  0.0000e+00, -1.6383e-03,  0.0000e+00],\n",
       "          [-5.9953e-04,  0.0000e+00,  2.1006e-05,  0.0000e+00],\n",
       "          [-1.1116e-05,  0.0000e+00, -9.8944e-06,  0.0000e+00]])],\n",
       " [tensor([[ 6.1065e-04,  0.0000e+00, -1.6383e-03,  0.0000e+00],\n",
       "          [-5.9953e-04,  0.0000e+00,  2.1006e-05,  0.0000e+00],\n",
       "          [-1.1116e-05,  0.0000e+00, -9.8944e-06,  0.0000e+00]])],\n",
       " [tensor([[ 6.1065e-04,  0.0000e+00, -1.6383e-03,  0.0000e+00],\n",
       "          [-5.9953e-04,  0.0000e+00,  2.1006e-05,  0.0000e+00],\n",
       "          [-1.1116e-05,  0.0000e+00, -9.8944e-06,  0.0000e+00]])],\n",
       " [tensor([[ 6.1065e-04,  0.0000e+00, -1.6383e-03,  0.0000e+00],\n",
       "          [-5.9953e-04,  0.0000e+00,  2.1006e-05,  0.0000e+00],\n",
       "          [-1.1116e-05,  0.0000e+00, -9.8944e-06,  0.0000e+00]])],\n",
       " [tensor([[ 6.1065e-04,  0.0000e+00, -1.6383e-03,  0.0000e+00],\n",
       "          [-5.9953e-04,  0.0000e+00,  2.1006e-05,  0.0000e+00],\n",
       "          [-1.1116e-05,  0.0000e+00, -9.8944e-06,  0.0000e+00]])],\n",
       " [tensor([[ 6.1065e-04,  0.0000e+00, -1.6383e-03,  0.0000e+00],\n",
       "          [-5.9953e-04,  0.0000e+00,  2.1006e-05,  0.0000e+00],\n",
       "          [-1.1116e-05,  0.0000e+00, -9.8944e-06,  0.0000e+00]])],\n",
       " [tensor([[ 6.1065e-04,  0.0000e+00, -1.6383e-03,  0.0000e+00],\n",
       "          [-5.9953e-04,  0.0000e+00,  2.1006e-05,  0.0000e+00],\n",
       "          [-1.1116e-05,  0.0000e+00, -9.8944e-06,  0.0000e+00]])],\n",
       " [tensor([[ 6.1065e-04,  0.0000e+00, -1.6383e-03,  0.0000e+00],\n",
       "          [-5.9953e-04,  0.0000e+00,  2.1006e-05,  0.0000e+00],\n",
       "          [-1.1116e-05,  0.0000e+00, -9.8944e-06,  0.0000e+00]])],\n",
       " [tensor([[ 6.1065e-04,  0.0000e+00, -1.6383e-03,  0.0000e+00],\n",
       "          [-5.9953e-04,  0.0000e+00,  2.1006e-05,  0.0000e+00],\n",
       "          [-1.1116e-05,  0.0000e+00, -9.8944e-06,  0.0000e+00]])],\n",
       " [tensor([[ 6.1065e-04,  0.0000e+00, -1.6383e-03,  0.0000e+00],\n",
       "          [-5.9953e-04,  0.0000e+00,  2.1006e-05,  0.0000e+00],\n",
       "          [-1.1116e-05,  0.0000e+00, -9.8944e-06,  0.0000e+00]])],\n",
       " [tensor([[ 6.1065e-04,  0.0000e+00, -1.6383e-03,  0.0000e+00],\n",
       "          [-5.9953e-04,  0.0000e+00,  2.1006e-05,  0.0000e+00],\n",
       "          [-1.1116e-05,  0.0000e+00, -9.8944e-06,  0.0000e+00]])],\n",
       " [tensor([[ 6.1065e-04,  0.0000e+00, -1.6383e-03,  0.0000e+00],\n",
       "          [-5.9953e-04,  0.0000e+00,  2.1006e-05,  0.0000e+00],\n",
       "          [-1.1116e-05,  0.0000e+00, -9.8944e-06,  0.0000e+00]])],\n",
       " [tensor([[ 6.1065e-04,  0.0000e+00, -1.6383e-03,  0.0000e+00],\n",
       "          [-5.9953e-04,  0.0000e+00,  2.1006e-05,  0.0000e+00],\n",
       "          [-1.1116e-05,  0.0000e+00, -9.8944e-06,  0.0000e+00]])],\n",
       " [tensor([[ 6.1065e-04,  0.0000e+00, -1.6383e-03,  0.0000e+00],\n",
       "          [-5.9953e-04,  0.0000e+00,  2.1006e-05,  0.0000e+00],\n",
       "          [-1.1116e-05,  0.0000e+00, -9.8944e-06,  0.0000e+00]])],\n",
       " [tensor([[ 6.1065e-04,  0.0000e+00, -1.6383e-03,  0.0000e+00],\n",
       "          [-5.9953e-04,  0.0000e+00,  2.1006e-05,  0.0000e+00],\n",
       "          [-1.1116e-05,  0.0000e+00, -9.8944e-06,  0.0000e+00]])],\n",
       " [tensor([[ 6.1065e-04,  0.0000e+00, -1.6383e-03,  0.0000e+00],\n",
       "          [-5.9953e-04,  0.0000e+00,  2.1006e-05,  0.0000e+00],\n",
       "          [-1.1116e-05,  0.0000e+00, -9.8944e-06,  0.0000e+00]])],\n",
       " [tensor([[ 6.1065e-04,  0.0000e+00, -1.6383e-03,  0.0000e+00],\n",
       "          [-5.9953e-04,  0.0000e+00,  2.1006e-05,  0.0000e+00],\n",
       "          [-1.1116e-05,  0.0000e+00, -9.8944e-06,  0.0000e+00]])],\n",
       " [tensor([[ 6.1065e-04,  0.0000e+00, -1.6383e-03,  0.0000e+00],\n",
       "          [-5.9953e-04,  0.0000e+00,  2.1006e-05,  0.0000e+00],\n",
       "          [-1.1116e-05,  0.0000e+00, -9.8944e-06,  0.0000e+00]])],\n",
       " [tensor([[ 6.1065e-04,  0.0000e+00, -1.6383e-03,  0.0000e+00],\n",
       "          [-5.9953e-04,  0.0000e+00,  2.1006e-05,  0.0000e+00],\n",
       "          [-1.1116e-05,  0.0000e+00, -9.8944e-06,  0.0000e+00]])],\n",
       " [tensor([[ 6.1065e-04,  0.0000e+00, -1.6383e-03,  0.0000e+00],\n",
       "          [-5.9953e-04,  0.0000e+00,  2.1006e-05,  0.0000e+00],\n",
       "          [-1.1116e-05,  0.0000e+00, -9.8944e-06,  0.0000e+00]])],\n",
       " [tensor([[ 6.1065e-04,  0.0000e+00, -1.6383e-03,  0.0000e+00],\n",
       "          [-5.9953e-04,  0.0000e+00,  2.1006e-05,  0.0000e+00],\n",
       "          [-1.1116e-05,  0.0000e+00, -9.8944e-06,  0.0000e+00]])],\n",
       " [tensor([[ 6.1065e-04,  0.0000e+00, -1.6383e-03,  0.0000e+00],\n",
       "          [-5.9953e-04,  0.0000e+00,  2.1006e-05,  0.0000e+00],\n",
       "          [-1.1116e-05,  0.0000e+00, -9.8944e-06,  0.0000e+00]])],\n",
       " [tensor([[ 6.1065e-04,  0.0000e+00, -1.6383e-03,  0.0000e+00],\n",
       "          [-5.9953e-04,  0.0000e+00,  2.1006e-05,  0.0000e+00],\n",
       "          [-1.1116e-05,  0.0000e+00, -9.8944e-06,  0.0000e+00]])],\n",
       " [tensor([[ 6.1065e-04,  0.0000e+00, -1.6383e-03,  0.0000e+00],\n",
       "          [-5.9953e-04,  0.0000e+00,  2.1006e-05,  0.0000e+00],\n",
       "          [-1.1116e-05,  0.0000e+00, -9.8944e-06,  0.0000e+00]])],\n",
       " [tensor([[ 6.1065e-04,  0.0000e+00, -1.6383e-03,  0.0000e+00],\n",
       "          [-5.9953e-04,  0.0000e+00,  2.1006e-05,  0.0000e+00],\n",
       "          [-1.1116e-05,  0.0000e+00, -9.8944e-06,  0.0000e+00]])],\n",
       " [tensor([[ 6.1065e-04,  0.0000e+00, -1.6383e-03,  0.0000e+00],\n",
       "          [-5.9953e-04,  0.0000e+00,  2.1006e-05,  0.0000e+00],\n",
       "          [-1.1116e-05,  0.0000e+00, -9.8944e-06,  0.0000e+00]])],\n",
       " [tensor([[ 6.1065e-04,  0.0000e+00, -1.6383e-03,  0.0000e+00],\n",
       "          [-5.9953e-04,  0.0000e+00,  2.1006e-05,  0.0000e+00],\n",
       "          [-1.1116e-05,  0.0000e+00, -9.8944e-06,  0.0000e+00]])],\n",
       " [tensor([[ 6.1065e-04,  0.0000e+00, -1.6383e-03,  0.0000e+00],\n",
       "          [-5.9953e-04,  0.0000e+00,  2.1006e-05,  0.0000e+00],\n",
       "          [-1.1116e-05,  0.0000e+00, -9.8944e-06,  0.0000e+00]])],\n",
       " [tensor([[ 6.1065e-04,  0.0000e+00, -1.6383e-03,  0.0000e+00],\n",
       "          [-5.9953e-04,  0.0000e+00,  2.1006e-05,  0.0000e+00],\n",
       "          [-1.1116e-05,  0.0000e+00, -9.8944e-06,  0.0000e+00]])],\n",
       " [tensor([[ 6.1065e-04,  0.0000e+00, -1.6383e-03,  0.0000e+00],\n",
       "          [-5.9953e-04,  0.0000e+00,  2.1006e-05,  0.0000e+00],\n",
       "          [-1.1116e-05,  0.0000e+00, -9.8944e-06,  0.0000e+00]])],\n",
       " [tensor([[ 6.1065e-04,  0.0000e+00, -1.6383e-03,  0.0000e+00],\n",
       "          [-5.9953e-04,  0.0000e+00,  2.1006e-05,  0.0000e+00],\n",
       "          [-1.1116e-05,  0.0000e+00, -9.8944e-06,  0.0000e+00]])],\n",
       " [tensor([[ 6.1065e-04,  0.0000e+00, -1.6383e-03,  0.0000e+00],\n",
       "          [-5.9953e-04,  0.0000e+00,  2.1006e-05,  0.0000e+00],\n",
       "          [-1.1116e-05,  0.0000e+00, -9.8944e-06,  0.0000e+00]])],\n",
       " [tensor([[ 6.1065e-04,  0.0000e+00, -1.6383e-03,  0.0000e+00],\n",
       "          [-5.9953e-04,  0.0000e+00,  2.1006e-05,  0.0000e+00],\n",
       "          [-1.1116e-05,  0.0000e+00, -9.8944e-06,  0.0000e+00]])],\n",
       " [tensor([[ 6.1065e-04,  0.0000e+00, -1.6383e-03,  0.0000e+00],\n",
       "          [-5.9953e-04,  0.0000e+00,  2.1006e-05,  0.0000e+00],\n",
       "          [-1.1116e-05,  0.0000e+00, -9.8944e-06,  0.0000e+00]])],\n",
       " [tensor([[ 6.1065e-04,  0.0000e+00, -1.6383e-03,  0.0000e+00],\n",
       "          [-5.9953e-04,  0.0000e+00,  2.1006e-05,  0.0000e+00],\n",
       "          [-1.1116e-05,  0.0000e+00, -9.8944e-06,  0.0000e+00]])],\n",
       " [tensor([[ 6.1065e-04,  0.0000e+00, -1.6383e-03,  0.0000e+00],\n",
       "          [-5.9953e-04,  0.0000e+00,  2.1006e-05,  0.0000e+00],\n",
       "          [-1.1116e-05,  0.0000e+00, -9.8944e-06,  0.0000e+00]])],\n",
       " [tensor([[ 6.1065e-04,  0.0000e+00, -1.6383e-03,  0.0000e+00],\n",
       "          [-5.9953e-04,  0.0000e+00,  2.1006e-05,  0.0000e+00],\n",
       "          [-1.1116e-05,  0.0000e+00, -9.8944e-06,  0.0000e+00]])],\n",
       " [tensor([[ 6.1065e-04,  0.0000e+00, -1.6383e-03,  0.0000e+00],\n",
       "          [-5.9953e-04,  0.0000e+00,  2.1006e-05,  0.0000e+00],\n",
       "          [-1.1116e-05,  0.0000e+00, -9.8944e-06,  0.0000e+00]])],\n",
       " [tensor([[ 6.1065e-04,  0.0000e+00, -1.6383e-03,  0.0000e+00],\n",
       "          [-5.9953e-04,  0.0000e+00,  2.1006e-05,  0.0000e+00],\n",
       "          [-1.1116e-05,  0.0000e+00, -9.8944e-06,  0.0000e+00]])],\n",
       " [tensor([[ 6.1065e-04,  0.0000e+00, -1.6383e-03,  0.0000e+00],\n",
       "          [-5.9953e-04,  0.0000e+00,  2.1006e-05,  0.0000e+00],\n",
       "          [-1.1116e-05,  0.0000e+00, -9.8944e-06,  0.0000e+00]])],\n",
       " [tensor([[ 6.1065e-04,  0.0000e+00, -1.6383e-03,  0.0000e+00],\n",
       "          [-5.9953e-04,  0.0000e+00,  2.1006e-05,  0.0000e+00],\n",
       "          [-1.1116e-05,  0.0000e+00, -9.8944e-06,  0.0000e+00]])],\n",
       " [tensor([[ 6.1065e-04,  0.0000e+00, -1.6383e-03,  0.0000e+00],\n",
       "          [-5.9953e-04,  0.0000e+00,  2.1006e-05,  0.0000e+00],\n",
       "          [-1.1116e-05,  0.0000e+00, -9.8944e-06,  0.0000e+00]])],\n",
       " [tensor([[ 6.1065e-04,  0.0000e+00, -1.6383e-03,  0.0000e+00],\n",
       "          [-5.9953e-04,  0.0000e+00,  2.1006e-05,  0.0000e+00],\n",
       "          [-1.1116e-05,  0.0000e+00, -9.8944e-06,  0.0000e+00]])],\n",
       " [tensor([[ 6.1065e-04,  0.0000e+00, -1.6383e-03,  0.0000e+00],\n",
       "          [-5.9953e-04,  0.0000e+00,  2.1006e-05,  0.0000e+00],\n",
       "          [-1.1116e-05,  0.0000e+00, -9.8944e-06,  0.0000e+00]])],\n",
       " [tensor([[ 6.1065e-04,  0.0000e+00, -1.6383e-03,  0.0000e+00],\n",
       "          [-5.9953e-04,  0.0000e+00,  2.1006e-05,  0.0000e+00],\n",
       "          [-1.1116e-05,  0.0000e+00, -9.8944e-06,  0.0000e+00]])],\n",
       " [tensor([[ 6.1065e-04,  0.0000e+00, -1.6383e-03,  0.0000e+00],\n",
       "          [-5.9953e-04,  0.0000e+00,  2.1006e-05,  0.0000e+00],\n",
       "          [-1.1116e-05,  0.0000e+00, -9.8944e-06,  0.0000e+00]])],\n",
       " [tensor([[ 6.1065e-04,  0.0000e+00, -1.6383e-03,  0.0000e+00],\n",
       "          [-5.9953e-04,  0.0000e+00,  2.1006e-05,  0.0000e+00],\n",
       "          [-1.1116e-05,  0.0000e+00, -9.8944e-06,  0.0000e+00]])],\n",
       " [tensor([[ 6.1065e-04,  0.0000e+00, -1.6383e-03,  0.0000e+00],\n",
       "          [-5.9953e-04,  0.0000e+00,  2.1006e-05,  0.0000e+00],\n",
       "          [-1.1116e-05,  0.0000e+00, -9.8944e-06,  0.0000e+00]])],\n",
       " [tensor([[ 6.1065e-04,  0.0000e+00, -1.6383e-03,  0.0000e+00],\n",
       "          [-5.9953e-04,  0.0000e+00,  2.1006e-05,  0.0000e+00],\n",
       "          [-1.1116e-05,  0.0000e+00, -9.8944e-06,  0.0000e+00]])],\n",
       " [tensor([[ 6.1065e-04,  0.0000e+00, -1.6383e-03,  0.0000e+00],\n",
       "          [-5.9953e-04,  0.0000e+00,  2.1006e-05,  0.0000e+00],\n",
       "          [-1.1116e-05,  0.0000e+00, -9.8944e-06,  0.0000e+00]])],\n",
       " [tensor([[ 6.1065e-04,  0.0000e+00, -1.6383e-03,  0.0000e+00],\n",
       "          [-5.9953e-04,  0.0000e+00,  2.1006e-05,  0.0000e+00],\n",
       "          [-1.1116e-05,  0.0000e+00, -9.8944e-06,  0.0000e+00]])],\n",
       " [tensor([[ 6.1065e-04,  0.0000e+00, -1.6383e-03,  0.0000e+00],\n",
       "          [-5.9953e-04,  0.0000e+00,  2.1006e-05,  0.0000e+00],\n",
       "          [-1.1116e-05,  0.0000e+00, -9.8944e-06,  0.0000e+00]])],\n",
       " [tensor([[ 6.1065e-04,  0.0000e+00, -1.6383e-03,  0.0000e+00],\n",
       "          [-5.9953e-04,  0.0000e+00,  2.1006e-05,  0.0000e+00],\n",
       "          [-1.1116e-05,  0.0000e+00, -9.8944e-06,  0.0000e+00]])],\n",
       " [tensor([[ 6.1065e-04,  0.0000e+00, -1.6383e-03,  0.0000e+00],\n",
       "          [-5.9953e-04,  0.0000e+00,  2.1006e-05,  0.0000e+00],\n",
       "          [-1.1116e-05,  0.0000e+00, -9.8944e-06,  0.0000e+00]])],\n",
       " [tensor([[ 6.1065e-04,  0.0000e+00, -1.6383e-03,  0.0000e+00],\n",
       "          [-5.9953e-04,  0.0000e+00,  2.1006e-05,  0.0000e+00],\n",
       "          [-1.1116e-05,  0.0000e+00, -9.8944e-06,  0.0000e+00]])],\n",
       " [tensor([[ 6.1065e-04,  0.0000e+00, -1.6383e-03,  0.0000e+00],\n",
       "          [-5.9953e-04,  0.0000e+00,  2.1006e-05,  0.0000e+00],\n",
       "          [-1.1116e-05,  0.0000e+00, -9.8944e-06,  0.0000e+00]])],\n",
       " [tensor([[ 6.1065e-04,  0.0000e+00, -1.6383e-03,  0.0000e+00],\n",
       "          [-5.9953e-04,  0.0000e+00,  2.1006e-05,  0.0000e+00],\n",
       "          [-1.1116e-05,  0.0000e+00, -9.8944e-06,  0.0000e+00]])],\n",
       " [tensor([[ 6.1065e-04,  0.0000e+00, -1.6383e-03,  0.0000e+00],\n",
       "          [-5.9953e-04,  0.0000e+00,  2.1006e-05,  0.0000e+00],\n",
       "          [-1.1116e-05,  0.0000e+00, -9.8944e-06,  0.0000e+00]])],\n",
       " [tensor([[ 6.1065e-04,  0.0000e+00, -1.6383e-03,  0.0000e+00],\n",
       "          [-5.9953e-04,  0.0000e+00,  2.1006e-05,  0.0000e+00],\n",
       "          [-1.1116e-05,  0.0000e+00, -9.8944e-06,  0.0000e+00]])],\n",
       " [tensor([[ 6.1065e-04,  0.0000e+00, -1.6383e-03,  0.0000e+00],\n",
       "          [-5.9953e-04,  0.0000e+00,  2.1006e-05,  0.0000e+00],\n",
       "          [-1.1116e-05,  0.0000e+00, -9.8944e-06,  0.0000e+00]])],\n",
       " [tensor([[ 6.1065e-04,  0.0000e+00, -1.6383e-03,  0.0000e+00],\n",
       "          [-5.9953e-04,  0.0000e+00,  2.1006e-05,  0.0000e+00],\n",
       "          [-1.1116e-05,  0.0000e+00, -9.8944e-06,  0.0000e+00]])],\n",
       " [tensor([[ 6.1065e-04,  0.0000e+00, -1.6383e-03,  0.0000e+00],\n",
       "          [-5.9953e-04,  0.0000e+00,  2.1006e-05,  0.0000e+00],\n",
       "          [-1.1116e-05,  0.0000e+00, -9.8944e-06,  0.0000e+00]])],\n",
       " [tensor([[ 6.1065e-04,  0.0000e+00, -1.6383e-03,  0.0000e+00],\n",
       "          [-5.9953e-04,  0.0000e+00,  2.1006e-05,  0.0000e+00],\n",
       "          [-1.1116e-05,  0.0000e+00, -9.8944e-06,  0.0000e+00]])],\n",
       " [tensor([[ 6.1065e-04,  0.0000e+00, -1.6383e-03,  0.0000e+00],\n",
       "          [-5.9953e-04,  0.0000e+00,  2.1006e-05,  0.0000e+00],\n",
       "          [-1.1116e-05,  0.0000e+00, -9.8944e-06,  0.0000e+00]])],\n",
       " [tensor([[ 6.1065e-04,  0.0000e+00, -1.6383e-03,  0.0000e+00],\n",
       "          [-5.9953e-04,  0.0000e+00,  2.1006e-05,  0.0000e+00],\n",
       "          [-1.1116e-05,  0.0000e+00, -9.8944e-06,  0.0000e+00]])],\n",
       " [tensor([[ 6.1065e-04,  0.0000e+00, -1.6383e-03,  0.0000e+00],\n",
       "          [-5.9953e-04,  0.0000e+00,  2.1006e-05,  0.0000e+00],\n",
       "          [-1.1116e-05,  0.0000e+00, -9.8944e-06,  0.0000e+00]])],\n",
       " [tensor([[ 6.1065e-04,  0.0000e+00, -1.6383e-03,  0.0000e+00],\n",
       "          [-5.9953e-04,  0.0000e+00,  2.1006e-05,  0.0000e+00],\n",
       "          [-1.1116e-05,  0.0000e+00, -9.8944e-06,  0.0000e+00]])],\n",
       " [tensor([[ 6.1065e-04,  0.0000e+00, -1.6383e-03,  0.0000e+00],\n",
       "          [-5.9953e-04,  0.0000e+00,  2.1006e-05,  0.0000e+00],\n",
       "          [-1.1116e-05,  0.0000e+00, -9.8944e-06,  0.0000e+00]])],\n",
       " [tensor([[ 6.1065e-04,  0.0000e+00, -1.6383e-03,  0.0000e+00],\n",
       "          [-5.9953e-04,  0.0000e+00,  2.1006e-05,  0.0000e+00],\n",
       "          [-1.1116e-05,  0.0000e+00, -9.8944e-06,  0.0000e+00]])],\n",
       " [tensor([[ 6.1065e-04,  0.0000e+00, -1.6383e-03,  0.0000e+00],\n",
       "          [-5.9953e-04,  0.0000e+00,  2.1006e-05,  0.0000e+00],\n",
       "          [-1.1116e-05,  0.0000e+00, -9.8944e-06,  0.0000e+00]])],\n",
       " [tensor([[ 6.1065e-04,  0.0000e+00, -1.6383e-03,  0.0000e+00],\n",
       "          [-5.9953e-04,  0.0000e+00,  2.1006e-05,  0.0000e+00],\n",
       "          [-1.1116e-05,  0.0000e+00, -9.8944e-06,  0.0000e+00]])],\n",
       " [tensor([[ 6.1065e-04,  0.0000e+00, -1.6383e-03,  0.0000e+00],\n",
       "          [-5.9953e-04,  0.0000e+00,  2.1006e-05,  0.0000e+00],\n",
       "          [-1.1116e-05,  0.0000e+00, -9.8944e-06,  0.0000e+00]])],\n",
       " [tensor([[ 6.1065e-04,  0.0000e+00, -1.6383e-03,  0.0000e+00],\n",
       "          [-5.9953e-04,  0.0000e+00,  2.1006e-05,  0.0000e+00],\n",
       "          [-1.1116e-05,  0.0000e+00, -9.8944e-06,  0.0000e+00]])],\n",
       " [tensor([[ 6.1065e-04,  0.0000e+00, -1.6383e-03,  0.0000e+00],\n",
       "          [-5.9953e-04,  0.0000e+00,  2.1006e-05,  0.0000e+00],\n",
       "          [-1.1116e-05,  0.0000e+00, -9.8944e-06,  0.0000e+00]])],\n",
       " [tensor([[ 6.1065e-04,  0.0000e+00, -1.6383e-03,  0.0000e+00],\n",
       "          [-5.9953e-04,  0.0000e+00,  2.1006e-05,  0.0000e+00],\n",
       "          [-1.1116e-05,  0.0000e+00, -9.8944e-06,  0.0000e+00]])],\n",
       " [tensor([[ 6.1065e-04,  0.0000e+00, -1.6383e-03,  0.0000e+00],\n",
       "          [-5.9953e-04,  0.0000e+00,  2.1006e-05,  0.0000e+00],\n",
       "          [-1.1116e-05,  0.0000e+00, -9.8944e-06,  0.0000e+00]])],\n",
       " [tensor([[ 6.1065e-04,  0.0000e+00, -1.6383e-03,  0.0000e+00],\n",
       "          [-5.9953e-04,  0.0000e+00,  2.1006e-05,  0.0000e+00],\n",
       "          [-1.1116e-05,  0.0000e+00, -9.8944e-06,  0.0000e+00]])],\n",
       " [tensor([[ 6.1065e-04,  0.0000e+00, -1.6383e-03,  0.0000e+00],\n",
       "          [-5.9953e-04,  0.0000e+00,  2.1006e-05,  0.0000e+00],\n",
       "          [-1.1116e-05,  0.0000e+00, -9.8944e-06,  0.0000e+00]])],\n",
       " [tensor([[ 6.1065e-04,  0.0000e+00, -1.6383e-03,  0.0000e+00],\n",
       "          [-5.9953e-04,  0.0000e+00,  2.1006e-05,  0.0000e+00],\n",
       "          [-1.1116e-05,  0.0000e+00, -9.8944e-06,  0.0000e+00]])],\n",
       " [tensor([[ 6.1065e-04,  0.0000e+00, -1.6383e-03,  0.0000e+00],\n",
       "          [-5.9953e-04,  0.0000e+00,  2.1006e-05,  0.0000e+00],\n",
       "          [-1.1116e-05,  0.0000e+00, -9.8944e-06,  0.0000e+00]])],\n",
       " [tensor([[ 6.1065e-04,  0.0000e+00, -1.6383e-03,  0.0000e+00],\n",
       "          [-5.9953e-04,  0.0000e+00,  2.1006e-05,  0.0000e+00],\n",
       "          [-1.1116e-05,  0.0000e+00, -9.8944e-06,  0.0000e+00]])],\n",
       " [tensor([[ 6.1065e-04,  0.0000e+00, -1.6383e-03,  0.0000e+00],\n",
       "          [-5.9953e-04,  0.0000e+00,  2.1006e-05,  0.0000e+00],\n",
       "          [-1.1116e-05,  0.0000e+00, -9.8944e-06,  0.0000e+00]])],\n",
       " [tensor([[ 6.1065e-04,  0.0000e+00, -1.6383e-03,  0.0000e+00],\n",
       "          [-5.9953e-04,  0.0000e+00,  2.1006e-05,  0.0000e+00],\n",
       "          [-1.1116e-05,  0.0000e+00, -9.8944e-06,  0.0000e+00]])],\n",
       " [tensor([[ 6.1065e-04,  0.0000e+00, -1.6383e-03,  0.0000e+00],\n",
       "          [-5.9953e-04,  0.0000e+00,  2.1006e-05,  0.0000e+00],\n",
       "          [-1.1116e-05,  0.0000e+00, -9.8944e-06,  0.0000e+00]])],\n",
       " [tensor([[ 6.1065e-04,  0.0000e+00, -1.6383e-03,  0.0000e+00],\n",
       "          [-5.9953e-04,  0.0000e+00,  2.1006e-05,  0.0000e+00],\n",
       "          [-1.1116e-05,  0.0000e+00, -9.8944e-06,  0.0000e+00]])],\n",
       " [tensor([[ 6.1065e-04,  0.0000e+00, -1.6383e-03,  0.0000e+00],\n",
       "          [-5.9953e-04,  0.0000e+00,  2.1006e-05,  0.0000e+00],\n",
       "          [-1.1116e-05,  0.0000e+00, -9.8944e-06,  0.0000e+00]])],\n",
       " [tensor([[ 6.1065e-04,  0.0000e+00, -1.6383e-03,  0.0000e+00],\n",
       "          [-5.9953e-04,  0.0000e+00,  2.1006e-05,  0.0000e+00],\n",
       "          [-1.1116e-05,  0.0000e+00, -9.8944e-06,  0.0000e+00]])],\n",
       " [tensor([[ 6.1065e-04,  0.0000e+00, -1.6383e-03,  0.0000e+00],\n",
       "          [-5.9953e-04,  0.0000e+00,  2.1006e-05,  0.0000e+00],\n",
       "          [-1.1116e-05,  0.0000e+00, -9.8944e-06,  0.0000e+00]])],\n",
       " [tensor([[ 6.1065e-04,  0.0000e+00, -1.6383e-03,  0.0000e+00],\n",
       "          [-5.9953e-04,  0.0000e+00,  2.1006e-05,  0.0000e+00],\n",
       "          [-1.1116e-05,  0.0000e+00, -9.8944e-06,  0.0000e+00]])],\n",
       " [tensor([[ 6.1065e-04,  0.0000e+00, -1.6383e-03,  0.0000e+00],\n",
       "          [-5.9953e-04,  0.0000e+00,  2.1006e-05,  0.0000e+00],\n",
       "          [-1.1116e-05,  0.0000e+00, -9.8944e-06,  0.0000e+00]])],\n",
       " [tensor([[ 6.1065e-04,  0.0000e+00, -1.6383e-03,  0.0000e+00],\n",
       "          [-5.9953e-04,  0.0000e+00,  2.1006e-05,  0.0000e+00],\n",
       "          [-1.1116e-05,  0.0000e+00, -9.8944e-06,  0.0000e+00]])],\n",
       " [tensor([[ 6.1065e-04,  0.0000e+00, -1.6383e-03,  0.0000e+00],\n",
       "          [-5.9953e-04,  0.0000e+00,  2.1006e-05,  0.0000e+00],\n",
       "          [-1.1116e-05,  0.0000e+00, -9.8944e-06,  0.0000e+00]])],\n",
       " [tensor([[ 6.1065e-04,  0.0000e+00, -1.6383e-03,  0.0000e+00],\n",
       "          [-5.9953e-04,  0.0000e+00,  2.1006e-05,  0.0000e+00],\n",
       "          [-1.1116e-05,  0.0000e+00, -9.8944e-06,  0.0000e+00]])],\n",
       " [tensor([[ 6.1065e-04,  0.0000e+00, -1.6383e-03,  0.0000e+00],\n",
       "          [-5.9953e-04,  0.0000e+00,  2.1006e-05,  0.0000e+00],\n",
       "          [-1.1116e-05,  0.0000e+00, -9.8944e-06,  0.0000e+00]])],\n",
       " [tensor([[ 6.1065e-04,  0.0000e+00, -1.6383e-03,  0.0000e+00],\n",
       "          [-5.9953e-04,  0.0000e+00,  2.1006e-05,  0.0000e+00],\n",
       "          [-1.1116e-05,  0.0000e+00, -9.8944e-06,  0.0000e+00]])],\n",
       " [tensor([[ 6.1065e-04,  0.0000e+00, -1.6383e-03,  0.0000e+00],\n",
       "          [-5.9953e-04,  0.0000e+00,  2.1006e-05,  0.0000e+00],\n",
       "          [-1.1116e-05,  0.0000e+00, -9.8944e-06,  0.0000e+00]])],\n",
       " [tensor([[ 6.1065e-04,  0.0000e+00, -1.6383e-03,  0.0000e+00],\n",
       "          [-5.9953e-04,  0.0000e+00,  2.1006e-05,  0.0000e+00],\n",
       "          [-1.1116e-05,  0.0000e+00, -9.8944e-06,  0.0000e+00]])],\n",
       " [tensor([[ 6.1065e-04,  0.0000e+00, -1.6383e-03,  0.0000e+00],\n",
       "          [-5.9953e-04,  0.0000e+00,  2.1006e-05,  0.0000e+00],\n",
       "          [-1.1116e-05,  0.0000e+00, -9.8944e-06,  0.0000e+00]])],\n",
       " [tensor([[ 6.1065e-04,  0.0000e+00, -1.6383e-03,  0.0000e+00],\n",
       "          [-5.9953e-04,  0.0000e+00,  2.1006e-05,  0.0000e+00],\n",
       "          [-1.1116e-05,  0.0000e+00, -9.8944e-06,  0.0000e+00]])],\n",
       " [tensor([[ 6.1065e-04,  0.0000e+00, -1.6383e-03,  0.0000e+00],\n",
       "          [-5.9953e-04,  0.0000e+00,  2.1006e-05,  0.0000e+00],\n",
       "          [-1.1116e-05,  0.0000e+00, -9.8944e-06,  0.0000e+00]])],\n",
       " [tensor([[ 6.1065e-04,  0.0000e+00, -1.6383e-03,  0.0000e+00],\n",
       "          [-5.9953e-04,  0.0000e+00,  2.1006e-05,  0.0000e+00],\n",
       "          [-1.1116e-05,  0.0000e+00, -9.8944e-06,  0.0000e+00]])],\n",
       " [tensor([[ 6.1065e-04,  0.0000e+00, -1.6383e-03,  0.0000e+00],\n",
       "          [-5.9953e-04,  0.0000e+00,  2.1006e-05,  0.0000e+00],\n",
       "          [-1.1116e-05,  0.0000e+00, -9.8944e-06,  0.0000e+00]])],\n",
       " [tensor([[ 6.1065e-04,  0.0000e+00, -1.6383e-03,  0.0000e+00],\n",
       "          [-5.9953e-04,  0.0000e+00,  2.1006e-05,  0.0000e+00],\n",
       "          [-1.1116e-05,  0.0000e+00, -9.8944e-06,  0.0000e+00]])],\n",
       " [tensor([[ 6.1065e-04,  0.0000e+00, -1.6383e-03,  0.0000e+00],\n",
       "          [-5.9953e-04,  0.0000e+00,  2.1006e-05,  0.0000e+00],\n",
       "          [-1.1116e-05,  0.0000e+00, -9.8944e-06,  0.0000e+00]])],\n",
       " [tensor([[ 6.1065e-04,  0.0000e+00, -1.6383e-03,  0.0000e+00],\n",
       "          [-5.9953e-04,  0.0000e+00,  2.1006e-05,  0.0000e+00],\n",
       "          [-1.1116e-05,  0.0000e+00, -9.8944e-06,  0.0000e+00]])],\n",
       " [tensor([[ 6.1065e-04,  0.0000e+00, -1.6383e-03,  0.0000e+00],\n",
       "          [-5.9953e-04,  0.0000e+00,  2.1006e-05,  0.0000e+00],\n",
       "          [-1.1116e-05,  0.0000e+00, -9.8944e-06,  0.0000e+00]])],\n",
       " [tensor([[ 6.1065e-04,  0.0000e+00, -1.6383e-03,  0.0000e+00],\n",
       "          [-5.9953e-04,  0.0000e+00,  2.1006e-05,  0.0000e+00],\n",
       "          [-1.1116e-05,  0.0000e+00, -9.8944e-06,  0.0000e+00]])],\n",
       " [tensor([[ 6.1065e-04,  0.0000e+00, -1.6383e-03,  0.0000e+00],\n",
       "          [-5.9953e-04,  0.0000e+00,  2.1006e-05,  0.0000e+00],\n",
       "          [-1.1116e-05,  0.0000e+00, -9.8944e-06,  0.0000e+00]])],\n",
       " [tensor([[ 6.1065e-04,  0.0000e+00, -1.6383e-03,  0.0000e+00],\n",
       "          [-5.9953e-04,  0.0000e+00,  2.1006e-05,  0.0000e+00],\n",
       "          [-1.1116e-05,  0.0000e+00, -9.8944e-06,  0.0000e+00]])],\n",
       " [tensor([[ 6.1065e-04,  0.0000e+00, -1.6383e-03,  0.0000e+00],\n",
       "          [-5.9953e-04,  0.0000e+00,  2.1006e-05,  0.0000e+00],\n",
       "          [-1.1116e-05,  0.0000e+00, -9.8944e-06,  0.0000e+00]])],\n",
       " [tensor([[ 6.1065e-04,  0.0000e+00, -1.6383e-03,  0.0000e+00],\n",
       "          [-5.9953e-04,  0.0000e+00,  2.1006e-05,  0.0000e+00],\n",
       "          [-1.1116e-05,  0.0000e+00, -9.8944e-06,  0.0000e+00]])],\n",
       " [tensor([[ 6.1065e-04,  0.0000e+00, -1.6383e-03,  0.0000e+00],\n",
       "          [-5.9953e-04,  0.0000e+00,  2.1006e-05,  0.0000e+00],\n",
       "          [-1.1116e-05,  0.0000e+00, -9.8944e-06,  0.0000e+00]])],\n",
       " [tensor([[ 6.1065e-04,  0.0000e+00, -1.6383e-03,  0.0000e+00],\n",
       "          [-5.9953e-04,  0.0000e+00,  2.1006e-05,  0.0000e+00],\n",
       "          [-1.1116e-05,  0.0000e+00, -9.8944e-06,  0.0000e+00]])],\n",
       " [tensor([[ 6.1065e-04,  0.0000e+00, -1.6383e-03,  0.0000e+00],\n",
       "          [-5.9953e-04,  0.0000e+00,  2.1006e-05,  0.0000e+00],\n",
       "          [-1.1116e-05,  0.0000e+00, -9.8944e-06,  0.0000e+00]])],\n",
       " [tensor([[ 6.1065e-04,  0.0000e+00, -1.6383e-03,  0.0000e+00],\n",
       "          [-5.9953e-04,  0.0000e+00,  2.1006e-05,  0.0000e+00],\n",
       "          [-1.1116e-05,  0.0000e+00, -9.8944e-06,  0.0000e+00]])],\n",
       " [tensor([[ 6.1065e-04,  0.0000e+00, -1.6383e-03,  0.0000e+00],\n",
       "          [-5.9953e-04,  0.0000e+00,  2.1006e-05,  0.0000e+00],\n",
       "          [-1.1116e-05,  0.0000e+00, -9.8944e-06,  0.0000e+00]])],\n",
       " [tensor([[ 6.1065e-04,  0.0000e+00, -1.6383e-03,  0.0000e+00],\n",
       "          [-5.9953e-04,  0.0000e+00,  2.1006e-05,  0.0000e+00],\n",
       "          [-1.1116e-05,  0.0000e+00, -9.8944e-06,  0.0000e+00]])],\n",
       " [tensor([[ 6.1065e-04,  0.0000e+00, -1.6383e-03,  0.0000e+00],\n",
       "          [-5.9953e-04,  0.0000e+00,  2.1006e-05,  0.0000e+00],\n",
       "          [-1.1116e-05,  0.0000e+00, -9.8944e-06,  0.0000e+00]])],\n",
       " [tensor([[ 6.1065e-04,  0.0000e+00, -1.6383e-03,  0.0000e+00],\n",
       "          [-5.9953e-04,  0.0000e+00,  2.1006e-05,  0.0000e+00],\n",
       "          [-1.1116e-05,  0.0000e+00, -9.8944e-06,  0.0000e+00]])],\n",
       " [tensor([[ 6.1065e-04,  0.0000e+00, -1.6383e-03,  0.0000e+00],\n",
       "          [-5.9953e-04,  0.0000e+00,  2.1006e-05,  0.0000e+00],\n",
       "          [-1.1116e-05,  0.0000e+00, -9.8944e-06,  0.0000e+00]])],\n",
       " [tensor([[ 6.1065e-04,  0.0000e+00, -1.6383e-03,  0.0000e+00],\n",
       "          [-5.9953e-04,  0.0000e+00,  2.1006e-05,  0.0000e+00],\n",
       "          [-1.1116e-05,  0.0000e+00, -9.8944e-06,  0.0000e+00]])],\n",
       " [tensor([[ 6.1065e-04,  0.0000e+00, -1.6383e-03,  0.0000e+00],\n",
       "          [-5.9953e-04,  0.0000e+00,  2.1006e-05,  0.0000e+00],\n",
       "          [-1.1116e-05,  0.0000e+00, -9.8944e-06,  0.0000e+00]])],\n",
       " [tensor([[ 6.1065e-04,  0.0000e+00, -1.6383e-03,  0.0000e+00],\n",
       "          [-5.9953e-04,  0.0000e+00,  2.1006e-05,  0.0000e+00],\n",
       "          [-1.1116e-05,  0.0000e+00, -9.8944e-06,  0.0000e+00]])],\n",
       " [tensor([[ 6.1065e-04,  0.0000e+00, -1.6383e-03,  0.0000e+00],\n",
       "          [-5.9953e-04,  0.0000e+00,  2.1006e-05,  0.0000e+00],\n",
       "          [-1.1116e-05,  0.0000e+00, -9.8944e-06,  0.0000e+00]])],\n",
       " [tensor([[ 6.1065e-04,  0.0000e+00, -1.6383e-03,  0.0000e+00],\n",
       "          [-5.9953e-04,  0.0000e+00,  2.1006e-05,  0.0000e+00],\n",
       "          [-1.1116e-05,  0.0000e+00, -9.8944e-06,  0.0000e+00]])],\n",
       " [tensor([[ 6.1065e-04,  0.0000e+00, -1.6383e-03,  0.0000e+00],\n",
       "          [-5.9953e-04,  0.0000e+00,  2.1006e-05,  0.0000e+00],\n",
       "          [-1.1116e-05,  0.0000e+00, -9.8944e-06,  0.0000e+00]])],\n",
       " [tensor([[ 6.1065e-04,  0.0000e+00, -1.6383e-03,  0.0000e+00],\n",
       "          [-5.9953e-04,  0.0000e+00,  2.1006e-05,  0.0000e+00],\n",
       "          [-1.1116e-05,  0.0000e+00, -9.8944e-06,  0.0000e+00]])],\n",
       " [tensor([[ 6.1065e-04,  0.0000e+00, -1.6383e-03,  0.0000e+00],\n",
       "          [-5.9953e-04,  0.0000e+00,  2.1006e-05,  0.0000e+00],\n",
       "          [-1.1116e-05,  0.0000e+00, -9.8944e-06,  0.0000e+00]])],\n",
       " [tensor([[ 6.1065e-04,  0.0000e+00, -1.6383e-03,  0.0000e+00],\n",
       "          [-5.9953e-04,  0.0000e+00,  2.1006e-05,  0.0000e+00],\n",
       "          [-1.1116e-05,  0.0000e+00, -9.8944e-06,  0.0000e+00]])],\n",
       " [tensor([[ 6.1065e-04,  0.0000e+00, -1.6383e-03,  0.0000e+00],\n",
       "          [-5.9953e-04,  0.0000e+00,  2.1006e-05,  0.0000e+00],\n",
       "          [-1.1116e-05,  0.0000e+00, -9.8944e-06,  0.0000e+00]])],\n",
       " [tensor([[ 6.1065e-04,  0.0000e+00, -1.6383e-03,  0.0000e+00],\n",
       "          [-5.9953e-04,  0.0000e+00,  2.1006e-05,  0.0000e+00],\n",
       "          [-1.1116e-05,  0.0000e+00, -9.8944e-06,  0.0000e+00]])],\n",
       " [tensor([[ 6.1065e-04,  0.0000e+00, -1.6383e-03,  0.0000e+00],\n",
       "          [-5.9953e-04,  0.0000e+00,  2.1006e-05,  0.0000e+00],\n",
       "          [-1.1116e-05,  0.0000e+00, -9.8944e-06,  0.0000e+00]])],\n",
       " [tensor([[ 6.1065e-04,  0.0000e+00, -1.6383e-03,  0.0000e+00],\n",
       "          [-5.9953e-04,  0.0000e+00,  2.1006e-05,  0.0000e+00],\n",
       "          [-1.1116e-05,  0.0000e+00, -9.8944e-06,  0.0000e+00]])],\n",
       " [tensor([[ 6.1065e-04,  0.0000e+00, -1.6383e-03,  0.0000e+00],\n",
       "          [-5.9953e-04,  0.0000e+00,  2.1006e-05,  0.0000e+00],\n",
       "          [-1.1116e-05,  0.0000e+00, -9.8944e-06,  0.0000e+00]])],\n",
       " [tensor([[ 6.1065e-04,  0.0000e+00, -1.6383e-03,  0.0000e+00],\n",
       "          [-5.9953e-04,  0.0000e+00,  2.1006e-05,  0.0000e+00],\n",
       "          [-1.1116e-05,  0.0000e+00, -9.8944e-06,  0.0000e+00]])],\n",
       " [tensor([[ 6.1065e-04,  0.0000e+00, -1.6383e-03,  0.0000e+00],\n",
       "          [-5.9953e-04,  0.0000e+00,  2.1006e-05,  0.0000e+00],\n",
       "          [-1.1116e-05,  0.0000e+00, -9.8944e-06,  0.0000e+00]])],\n",
       " [tensor([[ 6.1065e-04,  0.0000e+00, -1.6383e-03,  0.0000e+00],\n",
       "          [-5.9953e-04,  0.0000e+00,  2.1006e-05,  0.0000e+00],\n",
       "          [-1.1116e-05,  0.0000e+00, -9.8944e-06,  0.0000e+00]])],\n",
       " [tensor([[ 6.1065e-04,  0.0000e+00, -1.6383e-03,  0.0000e+00],\n",
       "          [-5.9953e-04,  0.0000e+00,  2.1006e-05,  0.0000e+00],\n",
       "          [-1.1116e-05,  0.0000e+00, -9.8944e-06,  0.0000e+00]])],\n",
       " [tensor([[ 6.1065e-04,  0.0000e+00, -1.6383e-03,  0.0000e+00],\n",
       "          [-5.9953e-04,  0.0000e+00,  2.1006e-05,  0.0000e+00],\n",
       "          [-1.1116e-05,  0.0000e+00, -9.8944e-06,  0.0000e+00]])],\n",
       " [tensor([[ 6.1065e-04,  0.0000e+00, -1.6383e-03,  0.0000e+00],\n",
       "          [-5.9953e-04,  0.0000e+00,  2.1006e-05,  0.0000e+00],\n",
       "          [-1.1116e-05,  0.0000e+00, -9.8944e-06,  0.0000e+00]])],\n",
       " [tensor([[ 6.1065e-04,  0.0000e+00, -1.6383e-03,  0.0000e+00],\n",
       "          [-5.9953e-04,  0.0000e+00,  2.1006e-05,  0.0000e+00],\n",
       "          [-1.1116e-05,  0.0000e+00, -9.8944e-06,  0.0000e+00]])],\n",
       " [tensor([[ 6.1065e-04,  0.0000e+00, -1.6383e-03,  0.0000e+00],\n",
       "          [-5.9953e-04,  0.0000e+00,  2.1006e-05,  0.0000e+00],\n",
       "          [-1.1116e-05,  0.0000e+00, -9.8944e-06,  0.0000e+00]])],\n",
       " [tensor([[ 6.1065e-04,  0.0000e+00, -1.6383e-03,  0.0000e+00],\n",
       "          [-5.9953e-04,  0.0000e+00,  2.1006e-05,  0.0000e+00],\n",
       "          [-1.1116e-05,  0.0000e+00, -9.8944e-06,  0.0000e+00]])],\n",
       " [tensor([[ 6.1065e-04,  0.0000e+00, -1.6383e-03,  0.0000e+00],\n",
       "          [-5.9953e-04,  0.0000e+00,  2.1006e-05,  0.0000e+00],\n",
       "          [-1.1116e-05,  0.0000e+00, -9.8944e-06,  0.0000e+00]])],\n",
       " [tensor([[ 6.1065e-04,  0.0000e+00, -1.6383e-03,  0.0000e+00],\n",
       "          [-5.9953e-04,  0.0000e+00,  2.1006e-05,  0.0000e+00],\n",
       "          [-1.1116e-05,  0.0000e+00, -9.8944e-06,  0.0000e+00]])],\n",
       " [tensor([[ 6.1065e-04,  0.0000e+00, -1.6383e-03,  0.0000e+00],\n",
       "          [-5.9953e-04,  0.0000e+00,  2.1006e-05,  0.0000e+00],\n",
       "          [-1.1116e-05,  0.0000e+00, -9.8944e-06,  0.0000e+00]])],\n",
       " [tensor([[ 6.1065e-04,  0.0000e+00, -1.6383e-03,  0.0000e+00],\n",
       "          [-5.9953e-04,  0.0000e+00,  2.1006e-05,  0.0000e+00],\n",
       "          [-1.1116e-05,  0.0000e+00, -9.8944e-06,  0.0000e+00]])],\n",
       " [tensor([[ 6.1065e-04,  0.0000e+00, -1.6383e-03,  0.0000e+00],\n",
       "          [-5.9953e-04,  0.0000e+00,  2.1006e-05,  0.0000e+00],\n",
       "          [-1.1116e-05,  0.0000e+00, -9.8944e-06,  0.0000e+00]])],\n",
       " [tensor([[ 6.1065e-04,  0.0000e+00, -1.6383e-03,  0.0000e+00],\n",
       "          [-5.9953e-04,  0.0000e+00,  2.1006e-05,  0.0000e+00],\n",
       "          [-1.1116e-05,  0.0000e+00, -9.8944e-06,  0.0000e+00]])],\n",
       " [tensor([[ 6.1065e-04,  0.0000e+00, -1.6383e-03,  0.0000e+00],\n",
       "          [-5.9953e-04,  0.0000e+00,  2.1006e-05,  0.0000e+00],\n",
       "          [-1.1116e-05,  0.0000e+00, -9.8944e-06,  0.0000e+00]])],\n",
       " [tensor([[ 6.1065e-04,  0.0000e+00, -1.6383e-03,  0.0000e+00],\n",
       "          [-5.9953e-04,  0.0000e+00,  2.1006e-05,  0.0000e+00],\n",
       "          [-1.1116e-05,  0.0000e+00, -9.8944e-06,  0.0000e+00]])],\n",
       " [tensor([[ 6.1065e-04,  0.0000e+00, -1.6383e-03,  0.0000e+00],\n",
       "          [-5.9953e-04,  0.0000e+00,  2.1006e-05,  0.0000e+00],\n",
       "          [-1.1116e-05,  0.0000e+00, -9.8944e-06,  0.0000e+00]])],\n",
       " [tensor([[ 6.1065e-04,  0.0000e+00, -1.6383e-03,  0.0000e+00],\n",
       "          [-5.9953e-04,  0.0000e+00,  2.1006e-05,  0.0000e+00],\n",
       "          [-1.1116e-05,  0.0000e+00, -9.8944e-06,  0.0000e+00]])],\n",
       " [tensor([[ 6.1065e-04,  0.0000e+00, -1.6383e-03,  0.0000e+00],\n",
       "          [-5.9953e-04,  0.0000e+00,  2.1006e-05,  0.0000e+00],\n",
       "          [-1.1116e-05,  0.0000e+00, -9.8944e-06,  0.0000e+00]])],\n",
       " [tensor([[ 6.1065e-04,  0.0000e+00, -1.6383e-03,  0.0000e+00],\n",
       "          [-5.9953e-04,  0.0000e+00,  2.1006e-05,  0.0000e+00],\n",
       "          [-1.1116e-05,  0.0000e+00, -9.8944e-06,  0.0000e+00]])],\n",
       " [tensor([[ 6.1065e-04,  0.0000e+00, -1.6383e-03,  0.0000e+00],\n",
       "          [-5.9953e-04,  0.0000e+00,  2.1006e-05,  0.0000e+00],\n",
       "          [-1.1116e-05,  0.0000e+00, -9.8944e-06,  0.0000e+00]])],\n",
       " [tensor([[ 6.1065e-04,  0.0000e+00, -1.6383e-03,  0.0000e+00],\n",
       "          [-5.9953e-04,  0.0000e+00,  2.1006e-05,  0.0000e+00],\n",
       "          [-1.1116e-05,  0.0000e+00, -9.8944e-06,  0.0000e+00]])],\n",
       " [tensor([[ 6.1065e-04,  0.0000e+00, -1.6383e-03,  0.0000e+00],\n",
       "          [-5.9953e-04,  0.0000e+00,  2.1006e-05,  0.0000e+00],\n",
       "          [-1.1116e-05,  0.0000e+00, -9.8944e-06,  0.0000e+00]])],\n",
       " [tensor([[ 6.1065e-04,  0.0000e+00, -1.6383e-03,  0.0000e+00],\n",
       "          [-5.9953e-04,  0.0000e+00,  2.1006e-05,  0.0000e+00],\n",
       "          [-1.1116e-05,  0.0000e+00, -9.8944e-06,  0.0000e+00]])],\n",
       " [tensor([[ 6.1065e-04,  0.0000e+00, -1.6383e-03,  0.0000e+00],\n",
       "          [-5.9953e-04,  0.0000e+00,  2.1006e-05,  0.0000e+00],\n",
       "          [-1.1116e-05,  0.0000e+00, -9.8944e-06,  0.0000e+00]])],\n",
       " [tensor([[ 6.1065e-04,  0.0000e+00, -1.6383e-03,  0.0000e+00],\n",
       "          [-5.9953e-04,  0.0000e+00,  2.1006e-05,  0.0000e+00],\n",
       "          [-1.1116e-05,  0.0000e+00, -9.8944e-06,  0.0000e+00]])],\n",
       " [tensor([[ 6.1065e-04,  0.0000e+00, -1.6383e-03,  0.0000e+00],\n",
       "          [-5.9953e-04,  0.0000e+00,  2.1006e-05,  0.0000e+00],\n",
       "          [-1.1116e-05,  0.0000e+00, -9.8944e-06,  0.0000e+00]])],\n",
       " [tensor([[ 6.1065e-04,  0.0000e+00, -1.6383e-03,  0.0000e+00],\n",
       "          [-5.9953e-04,  0.0000e+00,  2.1006e-05,  0.0000e+00],\n",
       "          [-1.1116e-05,  0.0000e+00, -9.8944e-06,  0.0000e+00]])],\n",
       " [tensor([[ 6.1065e-04,  0.0000e+00, -1.6383e-03,  0.0000e+00],\n",
       "          [-5.9953e-04,  0.0000e+00,  2.1006e-05,  0.0000e+00],\n",
       "          [-1.1116e-05,  0.0000e+00, -9.8944e-06,  0.0000e+00]])],\n",
       " [tensor([[ 6.1065e-04,  0.0000e+00, -1.6383e-03,  0.0000e+00],\n",
       "          [-5.9953e-04,  0.0000e+00,  2.1006e-05,  0.0000e+00],\n",
       "          [-1.1116e-05,  0.0000e+00, -9.8944e-06,  0.0000e+00]])],\n",
       " [tensor([[ 6.1065e-04,  0.0000e+00, -1.6383e-03,  0.0000e+00],\n",
       "          [-5.9953e-04,  0.0000e+00,  2.1006e-05,  0.0000e+00],\n",
       "          [-1.1116e-05,  0.0000e+00, -9.8944e-06,  0.0000e+00]])],\n",
       " [tensor([[ 6.1065e-04,  0.0000e+00, -1.6383e-03,  0.0000e+00],\n",
       "          [-5.9953e-04,  0.0000e+00,  2.1006e-05,  0.0000e+00],\n",
       "          [-1.1116e-05,  0.0000e+00, -9.8944e-06,  0.0000e+00]])],\n",
       " [tensor([[ 6.1065e-04,  0.0000e+00, -1.6383e-03,  0.0000e+00],\n",
       "          [-5.9953e-04,  0.0000e+00,  2.1006e-05,  0.0000e+00],\n",
       "          [-1.1116e-05,  0.0000e+00, -9.8944e-06,  0.0000e+00]])],\n",
       " [tensor([[ 6.1065e-04,  0.0000e+00, -1.6383e-03,  0.0000e+00],\n",
       "          [-5.9953e-04,  0.0000e+00,  2.1006e-05,  0.0000e+00],\n",
       "          [-1.1116e-05,  0.0000e+00, -9.8944e-06,  0.0000e+00]])],\n",
       " [tensor([[ 6.1065e-04,  0.0000e+00, -1.6383e-03,  0.0000e+00],\n",
       "          [-5.9953e-04,  0.0000e+00,  2.1006e-05,  0.0000e+00],\n",
       "          [-1.1116e-05,  0.0000e+00, -9.8944e-06,  0.0000e+00]])],\n",
       " [tensor([[ 6.1065e-04,  0.0000e+00, -1.6383e-03,  0.0000e+00],\n",
       "          [-5.9953e-04,  0.0000e+00,  2.1006e-05,  0.0000e+00],\n",
       "          [-1.1116e-05,  0.0000e+00, -9.8944e-06,  0.0000e+00]])],\n",
       " [tensor([[ 6.1065e-04,  0.0000e+00, -1.6383e-03,  0.0000e+00],\n",
       "          [-5.9953e-04,  0.0000e+00,  2.1006e-05,  0.0000e+00],\n",
       "          [-1.1116e-05,  0.0000e+00, -9.8944e-06,  0.0000e+00]])],\n",
       " [tensor([[ 6.1065e-04,  0.0000e+00, -1.6383e-03,  0.0000e+00],\n",
       "          [-5.9953e-04,  0.0000e+00,  2.1006e-05,  0.0000e+00],\n",
       "          [-1.1116e-05,  0.0000e+00, -9.8944e-06,  0.0000e+00]])],\n",
       " [tensor([[ 6.1065e-04,  0.0000e+00, -1.6383e-03,  0.0000e+00],\n",
       "          [-5.9953e-04,  0.0000e+00,  2.1006e-05,  0.0000e+00],\n",
       "          [-1.1116e-05,  0.0000e+00, -9.8944e-06,  0.0000e+00]])],\n",
       " [tensor([[ 6.1065e-04,  0.0000e+00, -1.6383e-03,  0.0000e+00],\n",
       "          [-5.9953e-04,  0.0000e+00,  2.1006e-05,  0.0000e+00],\n",
       "          [-1.1116e-05,  0.0000e+00, -9.8944e-06,  0.0000e+00]])],\n",
       " [tensor([[ 6.1065e-04,  0.0000e+00, -1.6383e-03,  0.0000e+00],\n",
       "          [-5.9953e-04,  0.0000e+00,  2.1006e-05,  0.0000e+00],\n",
       "          [-1.1116e-05,  0.0000e+00, -9.8944e-06,  0.0000e+00]])],\n",
       " [tensor([[ 6.1065e-04,  0.0000e+00, -1.6383e-03,  0.0000e+00],\n",
       "          [-5.9953e-04,  0.0000e+00,  2.1006e-05,  0.0000e+00],\n",
       "          [-1.1116e-05,  0.0000e+00, -9.8944e-06,  0.0000e+00]])],\n",
       " [tensor([[ 6.1065e-04,  0.0000e+00, -1.6383e-03,  0.0000e+00],\n",
       "          [-5.9953e-04,  0.0000e+00,  2.1006e-05,  0.0000e+00],\n",
       "          [-1.1116e-05,  0.0000e+00, -9.8944e-06,  0.0000e+00]])],\n",
       " [tensor([[ 6.1065e-04,  0.0000e+00, -1.6383e-03,  0.0000e+00],\n",
       "          [-5.9953e-04,  0.0000e+00,  2.1006e-05,  0.0000e+00],\n",
       "          [-1.1116e-05,  0.0000e+00, -9.8944e-06,  0.0000e+00]])],\n",
       " [tensor([[ 6.1065e-04,  0.0000e+00, -1.6383e-03,  0.0000e+00],\n",
       "          [-5.9953e-04,  0.0000e+00,  2.1006e-05,  0.0000e+00],\n",
       "          [-1.1116e-05,  0.0000e+00, -9.8944e-06,  0.0000e+00]])],\n",
       " [tensor([[ 6.1065e-04,  0.0000e+00, -1.6383e-03,  0.0000e+00],\n",
       "          [-5.9953e-04,  0.0000e+00,  2.1006e-05,  0.0000e+00],\n",
       "          [-1.1116e-05,  0.0000e+00, -9.8944e-06,  0.0000e+00]])],\n",
       " [tensor([[ 6.1065e-04,  0.0000e+00, -1.6383e-03,  0.0000e+00],\n",
       "          [-5.9953e-04,  0.0000e+00,  2.1006e-05,  0.0000e+00],\n",
       "          [-1.1116e-05,  0.0000e+00, -9.8944e-06,  0.0000e+00]])],\n",
       " [tensor([[ 6.1065e-04,  0.0000e+00, -1.6383e-03,  0.0000e+00],\n",
       "          [-5.9953e-04,  0.0000e+00,  2.1006e-05,  0.0000e+00],\n",
       "          [-1.1116e-05,  0.0000e+00, -9.8944e-06,  0.0000e+00]])],\n",
       " [tensor([[ 6.1065e-04,  0.0000e+00, -1.6383e-03,  0.0000e+00],\n",
       "          [-5.9953e-04,  0.0000e+00,  2.1006e-05,  0.0000e+00],\n",
       "          [-1.1116e-05,  0.0000e+00, -9.8944e-06,  0.0000e+00]])],\n",
       " [tensor([[ 6.1065e-04,  0.0000e+00, -1.6383e-03,  0.0000e+00],\n",
       "          [-5.9953e-04,  0.0000e+00,  2.1006e-05,  0.0000e+00],\n",
       "          [-1.1116e-05,  0.0000e+00, -9.8944e-06,  0.0000e+00]])],\n",
       " [tensor([[ 6.1065e-04,  0.0000e+00, -1.6383e-03,  0.0000e+00],\n",
       "          [-5.9953e-04,  0.0000e+00,  2.1006e-05,  0.0000e+00],\n",
       "          [-1.1116e-05,  0.0000e+00, -9.8944e-06,  0.0000e+00]])],\n",
       " [tensor([[ 6.1065e-04,  0.0000e+00, -1.6383e-03,  0.0000e+00],\n",
       "          [-5.9953e-04,  0.0000e+00,  2.1006e-05,  0.0000e+00],\n",
       "          [-1.1116e-05,  0.0000e+00, -9.8944e-06,  0.0000e+00]])],\n",
       " [tensor([[ 6.1065e-04,  0.0000e+00, -1.6383e-03,  0.0000e+00],\n",
       "          [-5.9953e-04,  0.0000e+00,  2.1006e-05,  0.0000e+00],\n",
       "          [-1.1116e-05,  0.0000e+00, -9.8944e-06,  0.0000e+00]])],\n",
       " [tensor([[ 6.1065e-04,  0.0000e+00, -1.6383e-03,  0.0000e+00],\n",
       "          [-5.9953e-04,  0.0000e+00,  2.1006e-05,  0.0000e+00],\n",
       "          [-1.1116e-05,  0.0000e+00, -9.8944e-06,  0.0000e+00]])],\n",
       " [tensor([[ 6.1065e-04,  0.0000e+00, -1.6383e-03,  0.0000e+00],\n",
       "          [-5.9953e-04,  0.0000e+00,  2.1006e-05,  0.0000e+00],\n",
       "          [-1.1116e-05,  0.0000e+00, -9.8944e-06,  0.0000e+00]])],\n",
       " [tensor([[ 6.1065e-04,  0.0000e+00, -1.6383e-03,  0.0000e+00],\n",
       "          [-5.9953e-04,  0.0000e+00,  2.1006e-05,  0.0000e+00],\n",
       "          [-1.1116e-05,  0.0000e+00, -9.8944e-06,  0.0000e+00]])],\n",
       " [tensor([[ 6.1065e-04,  0.0000e+00, -1.6383e-03,  0.0000e+00],\n",
       "          [-5.9953e-04,  0.0000e+00,  2.1006e-05,  0.0000e+00],\n",
       "          [-1.1116e-05,  0.0000e+00, -9.8944e-06,  0.0000e+00]])],\n",
       " [tensor([[ 6.1065e-04,  0.0000e+00, -1.6383e-03,  0.0000e+00],\n",
       "          [-5.9953e-04,  0.0000e+00,  2.1006e-05,  0.0000e+00],\n",
       "          [-1.1116e-05,  0.0000e+00, -9.8944e-06,  0.0000e+00]])],\n",
       " [tensor([[ 6.1065e-04,  0.0000e+00, -1.6383e-03,  0.0000e+00],\n",
       "          [-5.9953e-04,  0.0000e+00,  2.1006e-05,  0.0000e+00],\n",
       "          [-1.1116e-05,  0.0000e+00, -9.8944e-06,  0.0000e+00]])],\n",
       " [tensor([[ 6.1065e-04,  0.0000e+00, -1.6383e-03,  0.0000e+00],\n",
       "          [-5.9953e-04,  0.0000e+00,  2.1006e-05,  0.0000e+00],\n",
       "          [-1.1116e-05,  0.0000e+00, -9.8944e-06,  0.0000e+00]])],\n",
       " [tensor([[ 6.1065e-04,  0.0000e+00, -1.6383e-03,  0.0000e+00],\n",
       "          [-5.9953e-04,  0.0000e+00,  2.1006e-05,  0.0000e+00],\n",
       "          [-1.1116e-05,  0.0000e+00, -9.8944e-06,  0.0000e+00]])],\n",
       " ...]"
      ]
     },
     "execution_count": 780,
     "metadata": {},
     "output_type": "execute_result"
    }
   ],
   "source": [
    "grads"
   ]
  },
  {
   "cell_type": "code",
   "execution_count": 293,
   "metadata": {},
   "outputs": [
    {
     "name": "stdout",
     "output_type": "stream",
     "text": [
      "tensor(4.4940, grad_fn=<NllLossBackward>)\n",
      "tensor(4.4103, grad_fn=<NllLossBackward>)\n",
      "tensor(4.3331, grad_fn=<NllLossBackward>)\n",
      "tensor(4.2614, grad_fn=<NllLossBackward>)\n",
      "tensor(4.1901, grad_fn=<NllLossBackward>)\n",
      "tensor(4.1200, grad_fn=<NllLossBackward>)\n",
      "tensor(4.0517, grad_fn=<NllLossBackward>)\n",
      "tensor(3.9830, grad_fn=<NllLossBackward>)\n",
      "tensor(3.9108, grad_fn=<NllLossBackward>)\n",
      "tensor(3.8440, grad_fn=<NllLossBackward>)\n",
      "tensor(3.7760, grad_fn=<NllLossBackward>)\n",
      "tensor(3.7079, grad_fn=<NllLossBackward>)\n",
      "tensor(3.6409, grad_fn=<NllLossBackward>)\n",
      "tensor(3.5727, grad_fn=<NllLossBackward>)\n",
      "tensor(3.5056, grad_fn=<NllLossBackward>)\n",
      "tensor(3.4400, grad_fn=<NllLossBackward>)\n",
      "tensor(3.3761, grad_fn=<NllLossBackward>)\n",
      "tensor(3.3066, grad_fn=<NllLossBackward>)\n",
      "tensor(3.2401, grad_fn=<NllLossBackward>)\n",
      "tensor(3.1745, grad_fn=<NllLossBackward>)\n",
      "tensor(3.1108, grad_fn=<NllLossBackward>)\n",
      "tensor(3.0431, grad_fn=<NllLossBackward>)\n",
      "tensor(2.9690, grad_fn=<NllLossBackward>)\n",
      "tensor(2.9082, grad_fn=<NllLossBackward>)\n",
      "tensor(2.8439, grad_fn=<NllLossBackward>)\n",
      "tensor(2.7754, grad_fn=<NllLossBackward>)\n",
      "tensor(2.7139, grad_fn=<NllLossBackward>)\n",
      "tensor(2.6456, grad_fn=<NllLossBackward>)\n",
      "tensor(2.5783, grad_fn=<NllLossBackward>)\n",
      "tensor(2.5087, grad_fn=<NllLossBackward>)\n",
      "tensor(2.4576, grad_fn=<NllLossBackward>)\n",
      "tensor(2.3756, grad_fn=<NllLossBackward>)\n",
      "tensor(2.3206, grad_fn=<NllLossBackward>)\n",
      "tensor(2.2613, grad_fn=<NllLossBackward>)\n",
      "tensor(2.1831, grad_fn=<NllLossBackward>)\n",
      "tensor(2.1177, grad_fn=<NllLossBackward>)\n",
      "tensor(2.0489, grad_fn=<NllLossBackward>)\n",
      "tensor(1.9887, grad_fn=<NllLossBackward>)\n",
      "tensor(1.9406, grad_fn=<NllLossBackward>)\n",
      "tensor(1.8872, grad_fn=<NllLossBackward>)\n",
      "tensor(1.8106, grad_fn=<NllLossBackward>)\n",
      "tensor(1.7423, grad_fn=<NllLossBackward>)\n",
      "tensor(1.6761, grad_fn=<NllLossBackward>)\n",
      "tensor(1.6060, grad_fn=<NllLossBackward>)\n",
      "tensor(1.5642, grad_fn=<NllLossBackward>)\n",
      "tensor(1.5234, grad_fn=<NllLossBackward>)\n",
      "tensor(1.4264, grad_fn=<NllLossBackward>)\n",
      "tensor(1.3806, grad_fn=<NllLossBackward>)\n",
      "tensor(1.2841, grad_fn=<NllLossBackward>)\n",
      "tensor(1.2403, grad_fn=<NllLossBackward>)\n",
      "tensor(1.1763, grad_fn=<NllLossBackward>)\n",
      "tensor(1.1503, grad_fn=<NllLossBackward>)\n",
      "tensor(1.1133, grad_fn=<NllLossBackward>)\n",
      "tensor(1.0244, grad_fn=<NllLossBackward>)\n",
      "tensor(0.9634, grad_fn=<NllLossBackward>)\n",
      "tensor(0.9294, grad_fn=<NllLossBackward>)\n",
      "tensor(0.8925, grad_fn=<NllLossBackward>)\n",
      "tensor(0.8349, grad_fn=<NllLossBackward>)\n",
      "tensor(0.7957, grad_fn=<NllLossBackward>)\n",
      "tensor(0.7122, grad_fn=<NllLossBackward>)\n",
      "tensor(0.6447, grad_fn=<NllLossBackward>)\n",
      "tensor(0.5864, grad_fn=<NllLossBackward>)\n",
      "tensor(0.5139, grad_fn=<NllLossBackward>)\n",
      "tensor(0.4473, grad_fn=<NllLossBackward>)\n",
      "tensor(0.4012, grad_fn=<NllLossBackward>)\n",
      "tensor(0.3447, grad_fn=<NllLossBackward>)\n",
      "tensor(0.2839, grad_fn=<NllLossBackward>)\n",
      "tensor(0.2197, grad_fn=<NllLossBackward>)\n",
      "tensor(0.1667, grad_fn=<NllLossBackward>)\n",
      "tensor(0.1187, grad_fn=<NllLossBackward>)\n",
      "tensor(0.0683, grad_fn=<NllLossBackward>)\n",
      "tensor(0.0626, grad_fn=<NllLossBackward>)\n",
      "tensor(0.0580, grad_fn=<NllLossBackward>)\n",
      "tensor(0.0542, grad_fn=<NllLossBackward>)\n",
      "tensor(0.0510, grad_fn=<NllLossBackward>)\n",
      "tensor(0.0479, grad_fn=<NllLossBackward>)\n",
      "tensor(0.0455, grad_fn=<NllLossBackward>)\n",
      "tensor(0.0425, grad_fn=<NllLossBackward>)\n",
      "tensor(0.0397, grad_fn=<NllLossBackward>)\n",
      "tensor(0.0376, grad_fn=<NllLossBackward>)\n",
      "tensor(0.0357, grad_fn=<NllLossBackward>)\n",
      "tensor(0.0338, grad_fn=<NllLossBackward>)\n",
      "tensor(0.0320, grad_fn=<NllLossBackward>)\n",
      "tensor(0.0302, grad_fn=<NllLossBackward>)\n",
      "tensor(0.0286, grad_fn=<NllLossBackward>)\n",
      "tensor(0.0272, grad_fn=<NllLossBackward>)\n",
      "tensor(0.0258, grad_fn=<NllLossBackward>)\n",
      "tensor(0.0244, grad_fn=<NllLossBackward>)\n",
      "tensor(0.0231, grad_fn=<NllLossBackward>)\n",
      "tensor(0.0219, grad_fn=<NllLossBackward>)\n",
      "tensor(0.0208, grad_fn=<NllLossBackward>)\n",
      "tensor(0.0194, grad_fn=<NllLossBackward>)\n",
      "tensor(0.0171, grad_fn=<NllLossBackward>)\n",
      "tensor(0.0154, grad_fn=<NllLossBackward>)\n",
      "tensor(0.0138, grad_fn=<NllLossBackward>)\n",
      "tensor(0.0127, grad_fn=<NllLossBackward>)\n",
      "tensor(0.0117, grad_fn=<NllLossBackward>)\n",
      "tensor(0.0108, grad_fn=<NllLossBackward>)\n",
      "tensor(0.0101, grad_fn=<NllLossBackward>)\n",
      "tensor(0.0094, grad_fn=<NllLossBackward>)\n"
     ]
    }
   ],
   "source": [
    "my_net = toy_box_sampled(1, 3.0, 0.001, 5)\n",
    "optimizer = optim.Adam(my_net.parameters(), lr = 0.001)\n",
    "embeddings = train_loop(my_net, 10000, 100)"
   ]
  },
  {
   "cell_type": "code",
   "execution_count": 294,
   "metadata": {},
   "outputs": [
    {
     "data": {
      "application/vnd.plotly.v1+json": {
       "config": {
        "plotlyServerURL": "https://plot.ly"
       },
       "data": [
        {
         "fill": "toself",
         "marker": {
          "color": "#a6cee3"
         },
         "mode": "lines",
         "name": "0",
         "showlegend": true,
         "type": "scatter",
         "x": [
          0,
          0,
          1,
          1,
          0
         ],
         "y": [
          0,
          1,
          1,
          0,
          0
         ]
        },
        {
         "fill": "toself",
         "marker": {
          "color": "#1f78b4"
         },
         "mode": "lines",
         "name": "1",
         "showlegend": true,
         "type": "scatter",
         "x": [
          14,
          14,
          15,
          15,
          14
         ],
         "y": [
          0,
          1,
          1,
          0,
          0
         ]
        },
        {
         "fill": "toself",
         "marker": {
          "color": "#b2df8a"
         },
         "mode": "lines",
         "name": "2",
         "showlegend": true,
         "type": "scatter",
         "x": [
          2,
          2,
          12,
          12,
          2
         ],
         "y": [
          0,
          1,
          1,
          0,
          0
         ]
        }
       ],
       "frames": [
        {
         "data": [
          {
           "fill": "toself",
           "marker": {
            "color": "#a6cee3"
           },
           "mode": "lines",
           "name": "0",
           "showlegend": true,
           "type": "scatter",
           "x": [
            0,
            0,
            1,
            1,
            0
           ],
           "y": [
            0,
            1,
            1,
            0,
            0
           ]
          },
          {
           "fill": "toself",
           "marker": {
            "color": "#1f78b4"
           },
           "mode": "lines",
           "name": "1",
           "showlegend": true,
           "type": "scatter",
           "x": [
            14,
            14,
            15,
            15,
            14
           ],
           "y": [
            0,
            1,
            1,
            0,
            0
           ]
          },
          {
           "fill": "toself",
           "marker": {
            "color": "#b2df8a"
           },
           "mode": "lines",
           "name": "2",
           "showlegend": true,
           "type": "scatter",
           "x": [
            2,
            2,
            12,
            12,
            2
           ],
           "y": [
            0,
            1,
            1,
            0,
            0
           ]
          }
         ],
         "name": "0"
        },
        {
         "data": [
          {
           "fill": "toself",
           "marker": {
            "color": "#a6cee3"
           },
           "mode": "lines",
           "name": "0",
           "showlegend": true,
           "type": "scatter",
           "x": [
            -0.0927918329834938,
            -0.0927918329834938,
            1.1003519296646118,
            1.1003519296646118,
            -0.0927918329834938
           ],
           "y": [
            -0.07788249105215073,
            1.0659700632095337,
            1.0659700632095337,
            -0.07788249105215073,
            -0.07788249105215073
           ]
          },
          {
           "fill": "toself",
           "marker": {
            "color": "#1f78b4"
           },
           "mode": "lines",
           "name": "1",
           "showlegend": true,
           "type": "scatter",
           "x": [
            13.899556159973145,
            13.899556159973145,
            14.899847030639648,
            14.899847030639648,
            13.899556159973145
           ],
           "y": [
            -0.05203567072749138,
            1.0235532522201538,
            1.0235532522201538,
            -0.05203567072749138,
            -0.05203567072749138
           ]
          },
          {
           "fill": "toself",
           "marker": {
            "color": "#b2df8a"
           },
           "mode": "lines",
           "name": "2",
           "showlegend": true,
           "type": "scatter",
           "x": [
            2.0943493843078613,
            2.0943493843078613,
            11.90262222290039,
            11.90262222290039,
            2.0943493843078613
           ],
           "y": [
            0.09589552879333496,
            0.9021338224411011,
            0.9021338224411011,
            0.09589552879333496,
            0.09589552879333496
           ]
          }
         ],
         "name": "1"
        },
        {
         "data": [
          {
           "fill": "toself",
           "marker": {
            "color": "#a6cee3"
           },
           "mode": "lines",
           "name": "0",
           "showlegend": true,
           "type": "scatter",
           "x": [
            -0.16873419284820557,
            -0.16873419284820557,
            1.200907826423645,
            1.200907826423645,
            -0.16873419284820557
           ],
           "y": [
            -0.14844800531864166,
            1.129870891571045,
            1.129870891571045,
            -0.14844800531864166,
            -0.14844800531864166
           ]
          },
          {
           "fill": "toself",
           "marker": {
            "color": "#1f78b4"
           },
           "mode": "lines",
           "name": "1",
           "showlegend": true,
           "type": "scatter",
           "x": [
            13.799202919006348,
            13.799202919006348,
            14.799324035644531,
            14.799324035644531,
            13.799202919006348
           ],
           "y": [
            -0.121769979596138,
            1.068231463432312,
            1.068231463432312,
            -0.121769979596138,
            -0.121769979596138
           ]
          },
          {
           "fill": "toself",
           "marker": {
            "color": "#b2df8a"
           },
           "mode": "lines",
           "name": "2",
           "showlegend": true,
           "type": "scatter",
           "x": [
            2.175870180130005,
            2.175870180130005,
            11.812623023986816,
            11.812623023986816,
            2.175870180130005
           ],
           "y": [
            0.1811951994895935,
            0.8155499696731567,
            0.8155499696731567,
            0.1811951994895935,
            0.1811951994895935
           ]
          }
         ],
         "name": "2"
        },
        {
         "data": [
          {
           "fill": "toself",
           "marker": {
            "color": "#a6cee3"
           },
           "mode": "lines",
           "name": "0",
           "showlegend": true,
           "type": "scatter",
           "x": [
            -0.23269908130168915,
            -0.23269908130168915,
            1.3016853332519531,
            1.3016853332519531,
            -0.23269908130168915
           ],
           "y": [
            -0.20961357653141022,
            1.1863725185394287,
            1.1863725185394287,
            -0.20961357653141022,
            -0.20961357653141022
           ]
          },
          {
           "fill": "toself",
           "marker": {
            "color": "#1f78b4"
           },
           "mode": "lines",
           "name": "1",
           "showlegend": true,
           "type": "scatter",
           "x": [
            13.6985502243042,
            13.6985502243042,
            14.69853687286377,
            14.69853687286377,
            13.6985502243042
           ],
           "y": [
            -0.1888371706008911,
            1.1144521236419678,
            1.1144521236419678,
            -0.1888371706008911,
            -0.1888371706008911
           ]
          },
          {
           "fill": "toself",
           "marker": {
            "color": "#b2df8a"
           },
           "mode": "lines",
           "name": "2",
           "showlegend": true,
           "type": "scatter",
           "x": [
            2.2488791942596436,
            2.2488791942596436,
            11.72879409790039,
            11.72879409790039,
            2.2488791942596436
           ],
           "y": [
            0.25903308391571045,
            0.7369183897972107,
            0.7369183897972107,
            0.25903308391571045,
            0.25903308391571045
           ]
          }
         ],
         "name": "3"
        },
        {
         "data": [
          {
           "fill": "toself",
           "marker": {
            "color": "#a6cee3"
           },
           "mode": "lines",
           "name": "0",
           "showlegend": true,
           "type": "scatter",
           "x": [
            -0.28777286410331726,
            -0.28777286410331726,
            1.4024651050567627,
            1.4024651050567627,
            -0.28777286410331726
           ],
           "y": [
            -0.26330551505088806,
            1.2364046573638916,
            1.2364046573638916,
            -0.26330551505088806,
            -0.26330551505088806
           ]
          },
          {
           "fill": "toself",
           "marker": {
            "color": "#1f78b4"
           },
           "mode": "lines",
           "name": "1",
           "showlegend": true,
           "type": "scatter",
           "x": [
            13.597933769226074,
            13.597933769226074,
            14.5975923538208,
            14.5975923538208,
            13.597933769226074
           ],
           "y": [
            -0.2518235146999359,
            1.1596676111221313,
            1.1596676111221313,
            -0.2518235146999359,
            -0.2518235146999359
           ]
          },
          {
           "fill": "toself",
           "marker": {
            "color": "#b2df8a"
           },
           "mode": "lines",
           "name": "2",
           "showlegend": true,
           "type": "scatter",
           "x": [
            2.316127061843872,
            2.316127061843872,
            11.649823188781738,
            11.649823188781738,
            2.316127061843872
           ],
           "y": [
            0.3313293755054474,
            0.6640312671661377,
            0.6640312671661377,
            0.3313293755054474,
            0.3313293755054474
           ]
          }
         ],
         "name": "4"
        },
        {
         "data": [
          {
           "fill": "toself",
           "marker": {
            "color": "#a6cee3"
           },
           "mode": "lines",
           "name": "0",
           "showlegend": true,
           "type": "scatter",
           "x": [
            -0.33595237135887146,
            -0.33595237135887146,
            1.5032832622528076,
            1.5032832622528076,
            -0.33595237135887146
           ],
           "y": [
            -0.3152780830860138,
            1.2811552286148071,
            1.2811552286148071,
            -0.3152780830860138,
            -0.3152780830860138
           ]
          },
          {
           "fill": "toself",
           "marker": {
            "color": "#1f78b4"
           },
           "mode": "lines",
           "name": "1",
           "showlegend": true,
           "type": "scatter",
           "x": [
            13.497196197509766,
            13.497196197509766,
            14.496576309204102,
            14.496576309204102,
            13.497196197509766
           ],
           "y": [
            -0.3005697727203369,
            1.2031415700912476,
            1.2031415700912476,
            -0.3005697727203369,
            -0.3005697727203369
           ]
          },
          {
           "fill": "toself",
           "marker": {
            "color": "#b2df8a"
           },
           "mode": "lines",
           "name": "2",
           "showlegend": true,
           "type": "scatter",
           "x": [
            2.379375457763672,
            2.379375457763672,
            11.57468318939209,
            11.57468318939209,
            2.379375457763672
           ],
           "y": [
            0.39929133653640747,
            0.5955910682678223,
            0.5955910682678223,
            0.39929133653640747,
            0.39929133653640747
           ]
          }
         ],
         "name": "5"
        },
        {
         "data": [
          {
           "fill": "toself",
           "marker": {
            "color": "#a6cee3"
           },
           "mode": "lines",
           "name": "0",
           "showlegend": true,
           "type": "scatter",
           "x": [
            -0.3785434067249298,
            -0.3785434067249298,
            1.6041433811187744,
            1.6041433811187744,
            -0.3785434067249298
           ],
           "y": [
            -0.36069852113723755,
            1.3214445114135742,
            1.3214445114135742,
            -0.36069852113723755,
            -0.36069852113723755
           ]
          },
          {
           "fill": "toself",
           "marker": {
            "color": "#1f78b4"
           },
           "mode": "lines",
           "name": "1",
           "showlegend": true,
           "type": "scatter",
           "x": [
            13.396320343017578,
            13.396320343017578,
            14.395486831665039,
            14.395486831665039,
            13.396320343017578
           ],
           "y": [
            -0.33635106682777405,
            1.2453871965408325,
            1.2453871965408325,
            -0.33635106682777405,
            -0.33635106682777405
           ]
          },
          {
           "fill": "toself",
           "marker": {
            "color": "#b2df8a"
           },
           "mode": "lines",
           "name": "2",
           "showlegend": true,
           "type": "scatter",
           "x": [
            2.4398012161254883,
            2.4398012161254883,
            11.50199031829834,
            11.50199031829834,
            2.4398012161254883
           ],
           "y": [
            0.4639202356338501,
            0.530555248260498,
            0.530555248260498,
            0.4639202356338501,
            0.4639202356338501
           ]
          }
         ],
         "name": "6"
        },
        {
         "data": [
          {
           "fill": "toself",
           "marker": {
            "color": "#a6cee3"
           },
           "mode": "lines",
           "name": "0",
           "showlegend": true,
           "type": "scatter",
           "x": [
            -0.4167097806930542,
            -0.4167097806930542,
            1.7049345970153809,
            1.7049345970153809,
            -0.4167097806930542
           ],
           "y": [
            -0.3970228433609009,
            1.3582704067230225,
            1.3582704067230225,
            -0.3970228433609009,
            -0.3970228433609009
           ]
          },
          {
           "fill": "toself",
           "marker": {
            "color": "#1f78b4"
           },
           "mode": "lines",
           "name": "1",
           "showlegend": true,
           "type": "scatter",
           "x": [
            13.295516967773438,
            13.295516967773438,
            14.294397354125977,
            14.294397354125977,
            13.295516967773438
           ],
           "y": [
            -0.3797666132450104,
            1.285937786102295,
            1.285937786102295,
            -0.3797666132450104,
            -0.3797666132450104
           ]
          },
          {
           "fill": "toself",
           "marker": {
            "color": "#b2df8a"
           },
           "mode": "lines",
           "name": "2",
           "showlegend": true,
           "type": "scatter",
           "x": [
            2.4984946250915527,
            2.4984946250915527,
            11.43166732788086,
            11.43166732788086,
            2.4984946250915527
           ],
           "y": [
            0.5257603526115417,
            0.4683580696582794,
            0.4683580696582794,
            0.5257603526115417,
            0.5257603526115417
           ]
          }
         ],
         "name": "7"
        },
        {
         "data": [
          {
           "fill": "toself",
           "marker": {
            "color": "#a6cee3"
           },
           "mode": "lines",
           "name": "0",
           "showlegend": true,
           "type": "scatter",
           "x": [
            -0.45114225149154663,
            -0.45114225149154663,
            1.805641770362854,
            1.805641770362854,
            -0.45114225149154663
           ],
           "y": [
            -0.4304589629173279,
            1.3921575546264648,
            1.3921575546264648,
            -0.4304589629173279,
            -0.4304589629173279
           ]
          },
          {
           "fill": "toself",
           "marker": {
            "color": "#1f78b4"
           },
           "mode": "lines",
           "name": "1",
           "showlegend": true,
           "type": "scatter",
           "x": [
            13.194801330566406,
            13.194801330566406,
            14.193307876586914,
            14.193307876586914,
            13.194801330566406
           ],
           "y": [
            -0.42131727933883667,
            1.3248324394226074,
            1.3248324394226074,
            -0.42131727933883667,
            -0.42131727933883667
           ]
          },
          {
           "fill": "toself",
           "marker": {
            "color": "#b2df8a"
           },
           "mode": "lines",
           "name": "2",
           "showlegend": true,
           "type": "scatter",
           "x": [
            2.5561606884002686,
            2.5561606884002686,
            11.363306999206543,
            11.363306999206543,
            2.5561606884002686
           ],
           "y": [
            0.5851729512214661,
            0.4086269438266754,
            0.4086269438266754,
            0.5851729512214661,
            0.5851729512214661
           ]
          }
         ],
         "name": "8"
        },
        {
         "data": [
          {
           "fill": "toself",
           "marker": {
            "color": "#a6cee3"
           },
           "mode": "lines",
           "name": "0",
           "showlegend": true,
           "type": "scatter",
           "x": [
            -0.48239123821258545,
            -0.48239123821258545,
            1.9062918424606323,
            1.9062918424606323,
            -0.48239123821258545
           ],
           "y": [
            -0.4669698178768158,
            1.4235042333602905,
            1.4235042333602905,
            -0.4669698178768158,
            -0.4669698178768158
           ]
          },
          {
           "fill": "toself",
           "marker": {
            "color": "#1f78b4"
           },
           "mode": "lines",
           "name": "1",
           "showlegend": true,
           "type": "scatter",
           "x": [
            13.09411907196045,
            13.09411907196045,
            14.092218399047852,
            14.092218399047852,
            13.09411907196045
           ],
           "y": [
            -0.449694961309433,
            1.3621996641159058,
            1.3621996641159058,
            -0.449694961309433,
            -0.449694961309433
           ]
          },
          {
           "fill": "toself",
           "marker": {
            "color": "#b2df8a"
           },
           "mode": "lines",
           "name": "2",
           "showlegend": true,
           "type": "scatter",
           "x": [
            2.6133317947387695,
            2.6133317947387695,
            11.296463012695312,
            11.296463012695312,
            2.6133317947387695
           ],
           "y": [
            0.6424461007118225,
            0.35106468200683594,
            0.35106468200683594,
            0.6424461007118225,
            0.6424461007118225
           ]
          }
         ],
         "name": "9"
        },
        {
         "data": [
          {
           "fill": "toself",
           "marker": {
            "color": "#a6cee3"
           },
           "mode": "lines",
           "name": "0",
           "showlegend": true,
           "type": "scatter",
           "x": [
            -0.5108642578125,
            -0.5108642578125,
            2.0068612098693848,
            2.0068612098693848,
            -0.5108642578125
           ],
           "y": [
            -0.4947485327720642,
            1.4525889158248901,
            1.4525889158248901,
            -0.4947485327720642,
            -0.4947485327720642
           ]
          },
          {
           "fill": "toself",
           "marker": {
            "color": "#1f78b4"
           },
           "mode": "lines",
           "name": "1",
           "showlegend": true,
           "type": "scatter",
           "x": [
            12.993535995483398,
            12.993535995483398,
            13.991128921508789,
            13.991128921508789,
            12.993535995483398
           ],
           "y": [
            -0.48488327860832214,
            1.3984187841415405,
            1.3984187841415405,
            -0.48488327860832214,
            -0.48488327860832214
           ]
          },
          {
           "fill": "toself",
           "marker": {
            "color": "#b2df8a"
           },
           "mode": "lines",
           "name": "2",
           "showlegend": true,
           "type": "scatter",
           "x": [
            2.6704680919647217,
            2.6704680919647217,
            11.230597496032715,
            11.230597496032715,
            2.6704680919647217
           ],
           "y": [
            0.6979017853736877,
            0.2953440845012665,
            0.2953440845012665,
            0.6979017853736877,
            0.6979017853736877
           ]
          }
         ],
         "name": "10"
        },
        {
         "data": [
          {
           "fill": "toself",
           "marker": {
            "color": "#a6cee3"
           },
           "mode": "lines",
           "name": "0",
           "showlegend": true,
           "type": "scatter",
           "x": [
            -0.53691565990448,
            -0.53691565990448,
            2.1073520183563232,
            2.1073520183563232,
            -0.53691565990448
           ],
           "y": [
            -0.5261290073394775,
            1.4796860218048096,
            1.4796860218048096,
            -0.5261290073394775,
            -0.5261290073394775
           ]
          },
          {
           "fill": "toself",
           "marker": {
            "color": "#1f78b4"
           },
           "mode": "lines",
           "name": "1",
           "showlegend": true,
           "type": "scatter",
           "x": [
            12.893038749694824,
            12.893038749694824,
            13.890122413635254,
            13.890122413635254,
            12.893038749694824
           ],
           "y": [
            -0.5065087676048279,
            1.433538556098938,
            1.433538556098938,
            -0.5065087676048279,
            -0.5065087676048279
           ]
          },
          {
           "fill": "toself",
           "marker": {
            "color": "#b2df8a"
           },
           "mode": "lines",
           "name": "2",
           "showlegend": true,
           "type": "scatter",
           "x": [
            2.727970600128174,
            2.727970600128174,
            11.165492057800293,
            11.165492057800293,
            2.727970600128174
           ],
           "y": [
            0.7516797780990601,
            0.24132053554058075,
            0.24132053554058075,
            0.7516797780990601,
            0.7516797780990601
           ]
          }
         ],
         "name": "11"
        },
        {
         "data": [
          {
           "fill": "toself",
           "marker": {
            "color": "#a6cee3"
           },
           "mode": "lines",
           "name": "0",
           "showlegend": true,
           "type": "scatter",
           "x": [
            -0.5608558654785156,
            -0.5608558654785156,
            2.207794189453125,
            2.207794189453125,
            -0.5608558654785156
           ],
           "y": [
            -0.5494930148124695,
            1.5050666332244873,
            1.5050666332244873,
            -0.5494930148124695,
            -0.5494930148124695
           ]
          },
          {
           "fill": "toself",
           "marker": {
            "color": "#1f78b4"
           },
           "mode": "lines",
           "name": "1",
           "showlegend": true,
           "type": "scatter",
           "x": [
            12.792557716369629,
            12.792557716369629,
            13.789128303527832,
            13.789128303527832,
            12.792557716369629
           ],
           "y": [
            -0.5370965003967285,
            1.4674708843231201,
            1.4674708843231201,
            -0.5370965003967285,
            -0.5370965003967285
           ]
          },
          {
           "fill": "toself",
           "marker": {
            "color": "#b2df8a"
           },
           "mode": "lines",
           "name": "2",
           "showlegend": true,
           "type": "scatter",
           "x": [
            2.786224126815796,
            2.786224126815796,
            11.101127624511719,
            11.101127624511719,
            2.786224126815796
           ],
           "y": [
            0.8038566708564758,
            0.1889151632785797,
            0.1889151632785797,
            0.8038566708564758,
            0.8038566708564758
           ]
          }
         ],
         "name": "12"
        },
        {
         "data": [
          {
           "fill": "toself",
           "marker": {
            "color": "#a6cee3"
           },
           "mode": "lines",
           "name": "0",
           "showlegend": true,
           "type": "scatter",
           "x": [
            -0.5829353332519531,
            -0.5829353332519531,
            2.3081328868865967,
            2.3081328868865967,
            -0.5829353332519531
           ],
           "y": [
            -0.5714754462242126,
            1.5289325714111328,
            1.5289325714111328,
            -0.5714754462242126,
            -0.5714754462242126
           ]
          },
          {
           "fill": "toself",
           "marker": {
            "color": "#1f78b4"
           },
           "mode": "lines",
           "name": "1",
           "showlegend": true,
           "type": "scatter",
           "x": [
            12.692214012145996,
            12.692214012145996,
            13.68813419342041,
            13.68813419342041,
            12.692214012145996
           ],
           "y": [
            -0.56670081615448,
            1.5002636909484863,
            1.5002636909484863,
            -0.56670081615448,
            -0.56670081615448
           ]
          },
          {
           "fill": "toself",
           "marker": {
            "color": "#b2df8a"
           },
           "mode": "lines",
           "name": "2",
           "showlegend": true,
           "type": "scatter",
           "x": [
            2.8455657958984375,
            2.8455657958984375,
            11.037313461303711,
            11.037313461303711,
            2.8455657958984375
           ],
           "y": [
            0.854550302028656,
            0.1380077749490738,
            0.1380077749490738,
            0.854550302028656,
            0.854550302028656
           ]
          }
         ],
         "name": "13"
        },
        {
         "data": [
          {
           "fill": "toself",
           "marker": {
            "color": "#a6cee3"
           },
           "mode": "lines",
           "name": "0",
           "showlegend": true,
           "type": "scatter",
           "x": [
            -0.6033267378807068,
            -0.6033267378807068,
            2.408398389816284,
            2.408398389816284,
            -0.6033267378807068
           ],
           "y": [
            -0.598543643951416,
            1.5513637065887451,
            1.5513637065887451,
            -0.598543643951416,
            -0.598543643951416
           ]
          },
          {
           "fill": "toself",
           "marker": {
            "color": "#1f78b4"
           },
           "mode": "lines",
           "name": "1",
           "showlegend": true,
           "type": "scatter",
           "x": [
            12.591967582702637,
            12.591967582702637,
            13.587140083312988,
            13.587140083312988,
            12.591967582702637
           ],
           "y": [
            -0.5826410055160522,
            1.5322859287261963,
            1.5322859287261963,
            -0.5826410055160522,
            -0.5826410055160522
           ]
          },
          {
           "fill": "toself",
           "marker": {
            "color": "#b2df8a"
           },
           "mode": "lines",
           "name": "2",
           "showlegend": true,
           "type": "scatter",
           "x": [
            2.9062082767486572,
            2.9062082767486572,
            10.97354507446289,
            10.97354507446289,
            2.9062082767486572
           ],
           "y": [
            0.9039662480354309,
            0.08839073777198792,
            0.08839073777198792,
            0.9039662480354309,
            0.9039662480354309
           ]
          }
         ],
         "name": "14"
        },
        {
         "data": [
          {
           "fill": "toself",
           "marker": {
            "color": "#a6cee3"
           },
           "mode": "lines",
           "name": "0",
           "showlegend": true,
           "type": "scatter",
           "x": [
            -0.622229814529419,
            -0.622229814529419,
            2.508589744567871,
            2.508589744567871,
            -0.622229814529419
           ],
           "y": [
            -0.6173518896102905,
            1.5725491046905518,
            1.5725491046905518,
            -0.6173518896102905,
            -0.6173518896102905
           ]
          },
          {
           "fill": "toself",
           "marker": {
            "color": "#1f78b4"
           },
           "mode": "lines",
           "name": "1",
           "showlegend": true,
           "type": "scatter",
           "x": [
            12.491809844970703,
            12.491809844970703,
            13.486225128173828,
            13.486225128173828,
            12.491809844970703
           ],
           "y": [
            -0.608642578125,
            1.5634088516235352,
            1.5634088516235352,
            -0.608642578125,
            -0.608642578125
           ]
          },
          {
           "fill": "toself",
           "marker": {
            "color": "#b2df8a"
           },
           "mode": "lines",
           "name": "2",
           "showlegend": true,
           "type": "scatter",
           "x": [
            2.9683735370635986,
            2.9683735370635986,
            10.909862518310547,
            10.909862518310547,
            2.9683735370635986
           ],
           "y": [
            0.9521188735961914,
            0.040047869086265564,
            0.040047869086265564,
            0.9521188735961914,
            0.9521188735961914
           ]
          }
         ],
         "name": "15"
        },
        {
         "data": [
          {
           "fill": "toself",
           "marker": {
            "color": "#a6cee3"
           },
           "mode": "lines",
           "name": "0",
           "showlegend": true,
           "type": "scatter",
           "x": [
            -0.6397409439086914,
            -0.6397409439086914,
            2.608708620071411,
            2.608708620071411,
            -0.6397409439086914
           ],
           "y": [
            -0.642493724822998,
            1.6005213260650635,
            1.6005213260650635,
            -0.642493724822998,
            -0.642493724822998
           ]
          },
          {
           "fill": "toself",
           "marker": {
            "color": "#1f78b4"
           },
           "mode": "lines",
           "name": "1",
           "showlegend": true,
           "type": "scatter",
           "x": [
            12.391754150390625,
            12.391754150390625,
            13.385326385498047,
            13.385326385498047,
            12.391754150390625
           ],
           "y": [
            -0.6220800280570984,
            1.5790766477584839,
            1.5790766477584839,
            -0.6220800280570984,
            -0.6220800280570984
           ]
          },
          {
           "fill": "toself",
           "marker": {
            "color": "#b2df8a"
           },
           "mode": "lines",
           "name": "2",
           "showlegend": true,
           "type": "scatter",
           "x": [
            3.032271385192871,
            3.032271385192871,
            10.846061706542969,
            10.846061706542969,
            3.032271385192871
           ],
           "y": [
            0.9990367889404297,
            -0.00704996706917882,
            -0.00704996706917882,
            0.9990367889404297,
            0.9990367889404297
           ]
          }
         ],
         "name": "16"
        },
        {
         "data": [
          {
           "fill": "toself",
           "marker": {
            "color": "#a6cee3"
           },
           "mode": "lines",
           "name": "0",
           "showlegend": true,
           "type": "scatter",
           "x": [
            -0.6559890508651733,
            -0.6559890508651733,
            2.7087562084198,
            2.7087562084198,
            -0.6559890508651733
           ],
           "y": [
            -0.6586208939552307,
            1.6184337139129639,
            1.6184337139129639,
            -0.6586208939552307,
            -0.6586208939552307
           ]
          },
          {
           "fill": "toself",
           "marker": {
            "color": "#1f78b4"
           },
           "mode": "lines",
           "name": "1",
           "showlegend": true,
           "type": "scatter",
           "x": [
            12.291791915893555,
            12.291791915893555,
            13.284427642822266,
            13.284427642822266,
            12.291791915893555
           ],
           "y": [
            -0.6451234817504883,
            1.6058646440505981,
            1.6058646440505981,
            -0.6451234817504883,
            -0.6451234817504883
           ]
          },
          {
           "fill": "toself",
           "marker": {
            "color": "#b2df8a"
           },
           "mode": "lines",
           "name": "2",
           "showlegend": true,
           "type": "scatter",
           "x": [
            3.0980677604675293,
            3.0980677604675293,
            10.781819343566895,
            10.781819343566895,
            3.0980677604675293
           ],
           "y": [
            1.0449048280715942,
            -0.05308937281370163,
            -0.05308937281370163,
            1.0449048280715942,
            1.0449048280715942
           ]
          }
         ],
         "name": "17"
        },
        {
         "data": [
          {
           "fill": "toself",
           "marker": {
            "color": "#a6cee3"
           },
           "mode": "lines",
           "name": "0",
           "showlegend": true,
           "type": "scatter",
           "x": [
            -0.6711525917053223,
            -0.6711525917053223,
            2.808732509613037,
            2.808732509613037,
            -0.6711525917053223
           ],
           "y": [
            -0.6739007234573364,
            1.6354560852050781,
            1.6354560852050781,
            -0.6739007234573364,
            -0.6739007234573364
           ]
          },
          {
           "fill": "toself",
           "marker": {
            "color": "#1f78b4"
           },
           "mode": "lines",
           "name": "1",
           "showlegend": true,
           "type": "scatter",
           "x": [
            12.191917419433594,
            12.191917419433594,
            13.183528900146484,
            13.183528900146484,
            12.191917419433594
           ],
           "y": [
            -0.6677457094192505,
            1.6320465803146362,
            1.6320465803146362,
            -0.6677457094192505,
            -0.6677457094192505
           ]
          },
          {
           "fill": "toself",
           "marker": {
            "color": "#b2df8a"
           },
           "mode": "lines",
           "name": "2",
           "showlegend": true,
           "type": "scatter",
           "x": [
            3.1659529209136963,
            3.1659529209136963,
            10.717208862304688,
            10.717208862304688,
            3.1659529209136963
           ],
           "y": [
            1.0897151231765747,
            -0.09806320071220398,
            -0.09806320071220398,
            1.0897151231765747,
            1.0897151231765747
           ]
          }
         ],
         "name": "18"
        },
        {
         "data": [
          {
           "fill": "toself",
           "marker": {
            "color": "#a6cee3"
           },
           "mode": "lines",
           "name": "0",
           "showlegend": true,
           "type": "scatter",
           "x": [
            -0.6852438449859619,
            -0.6852438449859619,
            2.908639669418335,
            2.908639669418335,
            -0.6852438449859619
           ],
           "y": [
            -0.6963416934013367,
            1.6601638793945312,
            1.6601638793945312,
            -0.6963416934013367,
            -0.6963416934013367
           ]
          },
          {
           "fill": "toself",
           "marker": {
            "color": "#1f78b4"
           },
           "mode": "lines",
           "name": "1",
           "showlegend": true,
           "type": "scatter",
           "x": [
            12.092164993286133,
            12.092164993286133,
            13.08267593383789,
            13.08267593383789,
            12.092164993286133
           ],
           "y": [
            -0.6771366000175476,
            1.6427345275878906,
            1.6427345275878906,
            -0.6771366000175476,
            -0.6771366000175476
           ]
          },
          {
           "fill": "toself",
           "marker": {
            "color": "#b2df8a"
           },
           "mode": "lines",
           "name": "2",
           "showlegend": true,
           "type": "scatter",
           "x": [
            3.2359628677368164,
            3.2359628677368164,
            10.652013778686523,
            10.652013778686523,
            3.2359628677368164
           ],
           "y": [
            1.1335177421569824,
            -0.14202195405960083,
            -0.14202195405960083,
            1.1335177421569824,
            1.1335177421569824
           ]
          }
         ],
         "name": "19"
        },
        {
         "data": [
          {
           "fill": "toself",
           "marker": {
            "color": "#a6cee3"
           },
           "mode": "lines",
           "name": "0",
           "showlegend": true,
           "type": "scatter",
           "x": [
            -0.6983566284179688,
            -0.6983566284179688,
            3.0084822177886963,
            3.0084822177886963,
            -0.6983566284179688
           ],
           "y": [
            -0.709385097026825,
            1.6833449602127075,
            1.6833449602127075,
            -0.709385097026825,
            -0.709385097026825
           ]
          },
          {
           "fill": "toself",
           "marker": {
            "color": "#1f78b4"
           },
           "mode": "lines",
           "name": "1",
           "showlegend": true,
           "type": "scatter",
           "x": [
            11.992533683776855,
            11.992533683776855,
            12.98187255859375,
            12.98187255859375,
            11.992533683776855
           ],
           "y": [
            -0.6975196003913879,
            1.6517329216003418,
            1.6517329216003418,
            -0.6975196003913879,
            -0.6975196003913879
           ]
          },
          {
           "fill": "toself",
           "marker": {
            "color": "#b2df8a"
           },
           "mode": "lines",
           "name": "2",
           "showlegend": true,
           "type": "scatter",
           "x": [
            3.3081398010253906,
            3.3081398010253906,
            10.585983276367188,
            10.585983276367188,
            3.3081398010253906
           ],
           "y": [
            1.1764030456542969,
            -0.18505658209323883,
            -0.18505658209323883,
            1.1764030456542969,
            1.1764030456542969
           ]
          }
         ],
         "name": "20"
        },
        {
         "data": [
          {
           "fill": "toself",
           "marker": {
            "color": "#a6cee3"
           },
           "mode": "lines",
           "name": "0",
           "showlegend": true,
           "type": "scatter",
           "x": [
            -0.7106055617332458,
            -0.7106055617332458,
            3.1082539558410645,
            3.1082539558410645,
            -0.7106055617332458
           ],
           "y": [
            -0.7217850685119629,
            1.6962957382202148,
            1.6962957382202148,
            -0.7217850685119629,
            -0.7217850685119629
           ]
          },
          {
           "fill": "toself",
           "marker": {
            "color": "#1f78b4"
           },
           "mode": "lines",
           "name": "1",
           "showlegend": true,
           "type": "scatter",
           "x": [
            11.892998695373535,
            11.892998695373535,
            12.88106918334961,
            12.88106918334961,
            11.892998695373535
           ],
           "y": [
            -0.717624306678772,
            1.672283411026001,
            1.672283411026001,
            -0.717624306678772,
            -0.717624306678772
           ]
          },
          {
           "fill": "toself",
           "marker": {
            "color": "#b2df8a"
           },
           "mode": "lines",
           "name": "2",
           "showlegend": true,
           "type": "scatter",
           "x": [
            3.3826839923858643,
            3.3826839923858643,
            10.519303321838379,
            10.519303321838379,
            3.3826839923858643
           ],
           "y": [
            1.2183716297149658,
            -0.22716830670833588,
            -0.22716830670833588,
            1.2183716297149658,
            1.2183716297149658
           ]
          }
         ],
         "name": "21"
        },
        {
         "data": [
          {
           "fill": "toself",
           "marker": {
            "color": "#a6cee3"
           },
           "mode": "lines",
           "name": "0",
           "showlegend": true,
           "type": "scatter",
           "x": [
            -0.7220602035522461,
            -0.7220602035522461,
            3.2079646587371826,
            3.2079646587371826,
            -0.7220602035522461
           ],
           "y": [
            -0.742310643196106,
            1.7172478437423706,
            1.7172478437423706,
            -0.742310643196106,
            -0.742310643196106
           ]
          },
          {
           "fill": "toself",
           "marker": {
            "color": "#1f78b4"
           },
           "mode": "lines",
           "name": "1",
           "showlegend": true,
           "type": "scatter",
           "x": [
            11.79357624053955,
            11.79357624053955,
            12.780265808105469,
            12.780265808105469,
            11.79357624053955
           ],
           "y": [
            -0.7238216400146484,
            1.68081796169281,
            1.68081796169281,
            -0.7238216400146484,
            -0.7238216400146484
           ]
          },
          {
           "fill": "toself",
           "marker": {
            "color": "#b2df8a"
           },
           "mode": "lines",
           "name": "2",
           "showlegend": true,
           "type": "scatter",
           "x": [
            3.4594337940216064,
            3.4594337940216064,
            10.451791763305664,
            10.451791763305664,
            3.4594337940216064
           ],
           "y": [
            1.2594460248947144,
            -0.26838040351867676,
            -0.26838040351867676,
            1.2594460248947144,
            1.2594460248947144
           ]
          }
         ],
         "name": "22"
        },
        {
         "data": [
          {
           "fill": "toself",
           "marker": {
            "color": "#a6cee3"
           },
           "mode": "lines",
           "name": "0",
           "showlegend": true,
           "type": "scatter",
           "x": [
            -0.7327591180801392,
            -0.7327591180801392,
            3.3076064586639404,
            3.3076064586639404,
            -0.7327591180801392
           ],
           "y": [
            -0.7529388666152954,
            1.7293509244918823,
            1.7293509244918823,
            -0.7529388666152954,
            -0.7529388666152954
           ]
          },
          {
           "fill": "toself",
           "marker": {
            "color": "#1f78b4"
           },
           "mode": "lines",
           "name": "1",
           "showlegend": true,
           "type": "scatter",
           "x": [
            11.694276809692383,
            11.694276809692383,
            12.679462432861328,
            12.679462432861328,
            11.694276809692383
           ],
           "y": [
            -0.7419074177742004,
            1.6977403163909912,
            1.6977403163909912,
            -0.7419074177742004,
            -0.7419074177742004
           ]
          },
          {
           "fill": "toself",
           "marker": {
            "color": "#b2df8a"
           },
           "mode": "lines",
           "name": "2",
           "showlegend": true,
           "type": "scatter",
           "x": [
            3.538597822189331,
            3.538597822189331,
            10.383234977722168,
            10.383234977722168,
            3.538597822189331
           ],
           "y": [
            1.2997684478759766,
            -0.30883556604385376,
            -0.30883556604385376,
            1.2997684478759766,
            1.2997684478759766
           ]
          }
         ],
         "name": "23"
        },
        {
         "data": [
          {
           "fill": "toself",
           "marker": {
            "color": "#a6cee3"
           },
           "mode": "lines",
           "name": "0",
           "showlegend": true,
           "type": "scatter",
           "x": [
            -0.7428094744682312,
            -0.7428094744682312,
            3.4071829319000244,
            3.4071829319000244,
            -0.7428094744682312
           ],
           "y": [
            -0.7649821043014526,
            1.7398881912231445,
            1.7398881912231445,
            -0.7649821043014526,
            -0.7649821043014526
           ]
          },
          {
           "fill": "toself",
           "marker": {
            "color": "#1f78b4"
           },
           "mode": "lines",
           "name": "1",
           "showlegend": true,
           "type": "scatter",
           "x": [
            11.595102310180664,
            11.595102310180664,
            12.578659057617188,
            12.578659057617188,
            11.595102310180664
           ],
           "y": [
            -0.7572966814041138,
            1.7158006429672241,
            1.7158006429672241,
            -0.7572966814041138,
            -0.7572966814041138
           ]
          },
          {
           "fill": "toself",
           "marker": {
            "color": "#b2df8a"
           },
           "mode": "lines",
           "name": "2",
           "showlegend": true,
           "type": "scatter",
           "x": [
            3.620060682296753,
            3.620060682296753,
            10.313934326171875,
            10.313934326171875,
            3.620060682296753
           ],
           "y": [
            1.3392857313156128,
            -0.348479688167572,
            -0.348479688167572,
            1.3392857313156128,
            1.3392857313156128
           ]
          }
         ],
         "name": "24"
        },
        {
         "data": [
          {
           "fill": "toself",
           "marker": {
            "color": "#a6cee3"
           },
           "mode": "lines",
           "name": "0",
           "showlegend": true,
           "type": "scatter",
           "x": [
            -0.7522037625312805,
            -0.7522037625312805,
            3.506697177886963,
            3.506697177886963,
            -0.7522037625312805
           ],
           "y": [
            -0.7821718454360962,
            1.7498973608016968,
            1.7498973608016968,
            -0.7821718454360962,
            -0.7821718454360962
           ]
          },
          {
           "fill": "toself",
           "marker": {
            "color": "#1f78b4"
           },
           "mode": "lines",
           "name": "1",
           "showlegend": true,
           "type": "scatter",
           "x": [
            11.49605655670166,
            11.49605655670166,
            12.477855682373047,
            12.477855682373047,
            11.49605655670166
           ],
           "y": [
            -0.7631074786186218,
            1.7337027788162231,
            1.7337027788162231,
            -0.7631074786186218,
            -0.7631074786186218
           ]
          },
          {
           "fill": "toself",
           "marker": {
            "color": "#b2df8a"
           },
           "mode": "lines",
           "name": "2",
           "showlegend": true,
           "type": "scatter",
           "x": [
            3.703728675842285,
            3.703728675842285,
            10.243570327758789,
            10.243570327758789,
            3.703728675842285
           ],
           "y": [
            1.3779921531677246,
            -0.3873087465763092,
            -0.3873087465763092,
            1.3779921531677246,
            1.3779921531677246
           ]
          }
         ],
         "name": "25"
        },
        {
         "data": [
          {
           "fill": "toself",
           "marker": {
            "color": "#a6cee3"
           },
           "mode": "lines",
           "name": "0",
           "showlegend": true,
           "type": "scatter",
           "x": [
            -0.761055588722229,
            -0.761055588722229,
            3.606152296066284,
            3.606152296066284,
            -0.761055588722229
           ],
           "y": [
            -0.7909154891967773,
            1.7594975233078003,
            1.7594975233078003,
            -0.7909154891967773,
            -0.7909154891967773
           ]
          },
          {
           "fill": "toself",
           "marker": {
            "color": "#1f78b4"
           },
           "mode": "lines",
           "name": "1",
           "showlegend": true,
           "type": "scatter",
           "x": [
            11.397139549255371,
            11.397139549255371,
            12.377052307128906,
            12.377052307128906,
            11.397139549255371
           ],
           "y": [
            -0.7789236903190613,
            1.7512974739074707,
            1.7512974739074707,
            -0.7789236903190613,
            -0.7789236903190613
           ]
          },
          {
           "fill": "toself",
           "marker": {
            "color": "#b2df8a"
           },
           "mode": "lines",
           "name": "2",
           "showlegend": true,
           "type": "scatter",
           "x": [
            3.789506435394287,
            3.789506435394287,
            10.172258377075195,
            10.172258377075195,
            3.789506435394287
           ],
           "y": [
            1.4158918857574463,
            -0.42532676458358765,
            -0.42532676458358765,
            1.4158918857574463,
            1.4158918857574463
           ]
          }
         ],
         "name": "26"
        },
        {
         "data": [
          {
           "fill": "toself",
           "marker": {
            "color": "#a6cee3"
           },
           "mode": "lines",
           "name": "0",
           "showlegend": true,
           "type": "scatter",
           "x": [
            -0.7693281769752502,
            -0.7693281769752502,
            3.705533981323242,
            3.705533981323242,
            -0.7693281769752502
           ],
           "y": [
            -0.8078182339668274,
            1.7795172929763794,
            1.7795172929763794,
            -0.8078182339668274,
            -0.8078182339668274
           ]
          },
          {
           "fill": "toself",
           "marker": {
            "color": "#1f78b4"
           },
           "mode": "lines",
           "name": "1",
           "showlegend": true,
           "type": "scatter",
           "x": [
            11.29837417602539,
            11.29837417602539,
            12.276248931884766,
            12.276248931884766,
            11.29837417602539
           ],
           "y": [
            -0.7837336659431458,
            1.7535885572433472,
            1.7535885572433472,
            -0.7837336659431458,
            -0.7837336659431458
           ]
          },
          {
           "fill": "toself",
           "marker": {
            "color": "#b2df8a"
           },
           "mode": "lines",
           "name": "2",
           "showlegend": true,
           "type": "scatter",
           "x": [
            3.877525806427002,
            3.877525806427002,
            10.100098609924316,
            10.100098609924316,
            3.877525806427002
           ],
           "y": [
            1.4530521631240845,
            -0.46260175108909607,
            -0.46260175108909607,
            1.4530521631240845,
            1.4530521631240845
           ]
          }
         ],
         "name": "27"
        },
        {
         "data": [
          {
           "fill": "toself",
           "marker": {
            "color": "#a6cee3"
           },
           "mode": "lines",
           "name": "0",
           "showlegend": true,
           "type": "scatter",
           "x": [
            -0.7770935893058777,
            -0.7770935893058777,
            3.804847240447998,
            3.804847240447998,
            -0.7770935893058777
           ],
           "y": [
            -0.8172160983085632,
            1.7875860929489136,
            1.7875860929489136,
            -0.8172160983085632,
            -0.8172160983085632
           ]
          },
          {
           "fill": "toself",
           "marker": {
            "color": "#1f78b4"
           },
           "mode": "lines",
           "name": "1",
           "showlegend": true,
           "type": "scatter",
           "x": [
            11.199738502502441,
            11.199738502502441,
            12.175445556640625,
            12.175445556640625,
            11.199738502502441
           ],
           "y": [
            -0.7955368757247925,
            1.769167184829712,
            1.769167184829712,
            -0.7955368757247925,
            -0.7955368757247925
           ]
          },
          {
           "fill": "toself",
           "marker": {
            "color": "#b2df8a"
           },
           "mode": "lines",
           "name": "2",
           "showlegend": true,
           "type": "scatter",
           "x": [
            3.9676501750946045,
            3.9676501750946045,
            10.02709674835205,
            10.02709674835205,
            3.9676501750946045
           ],
           "y": [
            1.4896564483642578,
            -0.49931633472442627,
            -0.49931633472442627,
            1.4896564483642578,
            1.4896564483642578
           ]
          }
         ],
         "name": "28"
        },
        {
         "data": [
          {
           "fill": "toself",
           "marker": {
            "color": "#a6cee3"
           },
           "mode": "lines",
           "name": "0",
           "showlegend": true,
           "type": "scatter",
           "x": [
            -0.7844096422195435,
            -0.7844096422195435,
            3.9040889739990234,
            3.9040889739990234,
            -0.7844096422195435
           ],
           "y": [
            -0.8243070244789124,
            1.8065544366836548,
            1.8065544366836548,
            -0.8243070244789124,
            -0.8243070244789124
           ]
          },
          {
           "fill": "toself",
           "marker": {
            "color": "#1f78b4"
           },
           "mode": "lines",
           "name": "1",
           "showlegend": true,
           "type": "scatter",
           "x": [
            11.10126781463623,
            11.10126781463623,
            12.074642181396484,
            12.074642181396484,
            11.10126781463623
           ],
           "y": [
            -0.8096973299980164,
            1.7699799537658691,
            1.7699799537658691,
            -0.8096973299980164,
            -0.8096973299980164
           ]
          },
          {
           "fill": "toself",
           "marker": {
            "color": "#b2df8a"
           },
           "mode": "lines",
           "name": "2",
           "showlegend": true,
           "type": "scatter",
           "x": [
            4.059695720672607,
            4.059695720672607,
            9.95312213897705,
            9.95312213897705,
            4.059695720672607
           ],
           "y": [
            1.525649070739746,
            -0.5354164838790894,
            -0.5354164838790894,
            1.525649070739746,
            1.525649070739746
           ]
          }
         ],
         "name": "29"
        },
        {
         "data": [
          {
           "fill": "toself",
           "marker": {
            "color": "#a6cee3"
           },
           "mode": "lines",
           "name": "0",
           "showlegend": true,
           "type": "scatter",
           "x": [
            -0.7912594676017761,
            -0.7912594676017761,
            4.003266334533691,
            4.003266334533691,
            -0.7912594676017761
           ],
           "y": [
            -0.8420066833496094,
            1.813378095626831,
            1.813378095626831,
            -0.8420066833496094,
            -0.8420066833496094
           ]
          },
          {
           "fill": "toself",
           "marker": {
            "color": "#1f78b4"
           },
           "mode": "lines",
           "name": "1",
           "showlegend": true,
           "type": "scatter",
           "x": [
            11.002957344055176,
            11.002957344055176,
            11.973838806152344,
            11.973838806152344,
            11.002957344055176
           ],
           "y": [
            -0.8099738955497742,
            1.7837376594543457,
            1.7837376594543457,
            -0.8099738955497742,
            -0.8099738955497742
           ]
          },
          {
           "fill": "toself",
           "marker": {
            "color": "#b2df8a"
           },
           "mode": "lines",
           "name": "2",
           "showlegend": true,
           "type": "scatter",
           "x": [
            4.153390884399414,
            4.153390884399414,
            9.878409385681152,
            9.878409385681152,
            4.153390884399414
           ],
           "y": [
            1.5609642267227173,
            -0.5708358883857727,
            -0.5708358883857727,
            1.5609642267227173,
            1.5609642267227173
           ]
          }
         ],
         "name": "30"
        },
        {
         "data": [
          {
           "fill": "toself",
           "marker": {
            "color": "#a6cee3"
           },
           "mode": "lines",
           "name": "0",
           "showlegend": true,
           "type": "scatter",
           "x": [
            -0.7977093458175659,
            -0.7977093458175659,
            4.102365016937256,
            4.102365016937256,
            -0.7977093458175659
           ],
           "y": [
            -0.8481668829917908,
            1.8198621273040771,
            1.8198621273040771,
            -0.8481668829917908,
            -0.8481668829917908
           ]
          },
          {
           "fill": "toself",
           "marker": {
            "color": "#1f78b4"
           },
           "mode": "lines",
           "name": "1",
           "showlegend": true,
           "type": "scatter",
           "x": [
            10.904806137084961,
            10.904806137084961,
            11.873035430908203,
            11.873035430908203,
            10.904806137084961
           ],
           "y": [
            -0.8224287033081055,
            1.7974853515625,
            1.7974853515625,
            -0.8224287033081055,
            -0.8224287033081055
           ]
          },
          {
           "fill": "toself",
           "marker": {
            "color": "#b2df8a"
           },
           "mode": "lines",
           "name": "2",
           "showlegend": true,
           "type": "scatter",
           "x": [
            4.248817443847656,
            4.248817443847656,
            9.803205490112305,
            9.803205490112305,
            4.248817443847656
           ],
           "y": [
            1.5957235097885132,
            -0.6056960225105286,
            -0.6056960225105286,
            1.5957235097885132,
            1.5957235097885132
           ]
          }
         ],
         "name": "31"
        },
        {
         "data": [
          {
           "fill": "toself",
           "marker": {
            "color": "#a6cee3"
           },
           "mode": "lines",
           "name": "0",
           "showlegend": true,
           "type": "scatter",
           "x": [
            -0.8037769198417664,
            -0.8037769198417664,
            4.201394081115723,
            4.201394081115723,
            -0.8037769198417664
           ],
           "y": [
            -0.8538987040519714,
            1.8260670900344849,
            1.8260670900344849,
            -0.8538987040519714,
            -0.8538987040519714
           ]
          },
          {
           "fill": "toself",
           "marker": {
            "color": "#1f78b4"
           },
           "mode": "lines",
           "name": "1",
           "showlegend": true,
           "type": "scatter",
           "x": [
            10.806849479675293,
            10.806849479675293,
            11.772232055664062,
            11.772232055664062,
            10.806849479675293
           ],
           "y": [
            -0.83497154712677,
            1.8111059665679932,
            1.8111059665679932,
            -0.83497154712677,
            -0.83497154712677
           ]
          },
          {
           "fill": "toself",
           "marker": {
            "color": "#b2df8a"
           },
           "mode": "lines",
           "name": "2",
           "showlegend": true,
           "type": "scatter",
           "x": [
            4.345548629760742,
            4.345548629760742,
            9.727413177490234,
            9.727413177490234,
            4.345548629760742
           ],
           "y": [
            1.6298673152923584,
            -0.6399376392364502,
            -0.6399376392364502,
            1.6298673152923584,
            1.6298673152923584
           ]
          }
         ],
         "name": "32"
        },
        {
         "data": [
          {
           "fill": "toself",
           "marker": {
            "color": "#a6cee3"
           },
           "mode": "lines",
           "name": "0",
           "showlegend": true,
           "type": "scatter",
           "x": [
            -0.8095213770866394,
            -0.8095213770866394,
            4.300313949584961,
            4.300313949584961,
            -0.8095213770866394
           ],
           "y": [
            -0.8594180941581726,
            1.8320420980453491,
            1.8320420980453491,
            -0.8594180941581726,
            -0.8594180941581726
           ]
          },
          {
           "fill": "toself",
           "marker": {
            "color": "#1f78b4"
           },
           "mode": "lines",
           "name": "1",
           "showlegend": true,
           "type": "scatter",
           "x": [
            10.70911979675293,
            10.70911979675293,
            11.671401977539062,
            11.671401977539062,
            10.70911979675293
           ],
           "y": [
            -0.8473911881446838,
            1.8245904445648193,
            1.8245904445648193,
            -0.8473911881446838,
            -0.8473911881446838
           ]
          },
          {
           "fill": "toself",
           "marker": {
            "color": "#b2df8a"
           },
           "mode": "lines",
           "name": "2",
           "showlegend": true,
           "type": "scatter",
           "x": [
            4.444029808044434,
            4.444029808044434,
            9.651480674743652,
            9.651480674743652,
            4.444029808044434
           ],
           "y": [
            1.663468360900879,
            -0.6736336946487427,
            -0.6736336946487427,
            1.663468360900879,
            1.663468360900879
           ]
          }
         ],
         "name": "33"
        },
        {
         "data": [
          {
           "fill": "toself",
           "marker": {
            "color": "#a6cee3"
           },
           "mode": "lines",
           "name": "0",
           "showlegend": true,
           "type": "scatter",
           "x": [
            -0.8149441480636597,
            -0.8149441480636597,
            4.399177551269531,
            4.399177551269531,
            -0.8149441480636597
           ],
           "y": [
            -0.8768534660339355,
            1.8505151271820068,
            1.8505151271820068,
            -0.8768534660339355,
            -0.8768534660339355
           ]
          },
          {
           "fill": "toself",
           "marker": {
            "color": "#1f78b4"
           },
           "mode": "lines",
           "name": "1",
           "showlegend": true,
           "type": "scatter",
           "x": [
            10.611604690551758,
            10.611604690551758,
            11.570503234863281,
            11.570503234863281,
            10.611604690551758
           ],
           "y": [
            -0.8448390364646912,
            1.8217260837554932,
            1.8217260837554932,
            -0.8448390364646912,
            -0.8448390364646912
           ]
          },
          {
           "fill": "toself",
           "marker": {
            "color": "#b2df8a"
           },
           "mode": "lines",
           "name": "2",
           "showlegend": true,
           "type": "scatter",
           "x": [
            4.54307222366333,
            4.54307222366333,
            9.574810028076172,
            9.574810028076172,
            4.54307222366333
           ],
           "y": [
            1.6965949535369873,
            -0.7068537473678589,
            -0.7068537473678589,
            1.6965949535369873,
            1.6965949535369873
           ]
          }
         ],
         "name": "34"
        },
        {
         "data": [
          {
           "fill": "toself",
           "marker": {
            "color": "#a6cee3"
           },
           "mode": "lines",
           "name": "0",
           "showlegend": true,
           "type": "scatter",
           "x": [
            -0.8200815320014954,
            -0.8200815320014954,
            4.497920989990234,
            4.497920989990234,
            -0.8200815320014954
           ],
           "y": [
            -0.8815508484840393,
            1.8554900884628296,
            1.8554900884628296,
            -0.8815508484840393,
            -0.8815508484840393
           ]
          },
          {
           "fill": "toself",
           "marker": {
            "color": "#1f78b4"
           },
           "mode": "lines",
           "name": "1",
           "showlegend": true,
           "type": "scatter",
           "x": [
            10.5143461227417,
            10.5143461227417,
            11.4696044921875,
            11.4696044921875,
            10.5143461227417
           ],
           "y": [
            -0.8558464050292969,
            1.8335528373718262,
            1.8335528373718262,
            -0.8558464050292969,
            -0.8558464050292969
           ]
          },
          {
           "fill": "toself",
           "marker": {
            "color": "#b2df8a"
           },
           "mode": "lines",
           "name": "2",
           "showlegend": true,
           "type": "scatter",
           "x": [
            4.643556118011475,
            4.643556118011475,
            9.498847007751465,
            9.498847007751465,
            4.643556118011475
           ],
           "y": [
            1.7293678522109985,
            -0.7397184371948242,
            -0.7397184371948242,
            1.7293678522109985,
            1.7293678522109985
           ]
          }
         ],
         "name": "35"
        },
        {
         "data": [
          {
           "fill": "toself",
           "marker": {
            "color": "#a6cee3"
           },
           "mode": "lines",
           "name": "0",
           "showlegend": true,
           "type": "scatter",
           "x": [
            -0.8248685002326965,
            -0.8248685002326965,
            4.596582412719727,
            4.596582412719727,
            -0.8248685002326965
           ],
           "y": [
            -0.8859492540359497,
            1.8601967096328735,
            1.8601967096328735,
            -0.8859492540359497,
            -0.8859492540359497
           ]
          },
          {
           "fill": "toself",
           "marker": {
            "color": "#1f78b4"
           },
           "mode": "lines",
           "name": "1",
           "showlegend": true,
           "type": "scatter",
           "x": [
            10.417376518249512,
            10.417376518249512,
            11.368705749511719,
            11.368705749511719,
            10.417376518249512
           ],
           "y": [
            -0.8668885827064514,
            1.84535813331604,
            1.84535813331604,
            -0.8668885827064514,
            -0.8668885827064514
           ]
          },
          {
           "fill": "toself",
           "marker": {
            "color": "#b2df8a"
           },
           "mode": "lines",
           "name": "2",
           "showlegend": true,
           "type": "scatter",
           "x": [
            4.744315147399902,
            4.744315147399902,
            9.422419548034668,
            9.422419548034668,
            4.744315147399902
           ],
           "y": [
            1.7616065740585327,
            -0.7720468640327454,
            -0.7720468640327454,
            1.7616065740585327,
            1.7616065740585327
           ]
          }
         ],
         "name": "36"
        },
        {
         "data": [
          {
           "fill": "toself",
           "marker": {
            "color": "#a6cee3"
           },
           "mode": "lines",
           "name": "0",
           "showlegend": true,
           "type": "scatter",
           "x": [
            -0.8294395804405212,
            -0.8294395804405212,
            4.695114612579346,
            4.695114612579346,
            -0.8294395804405212
           ],
           "y": [
            -0.8902177810668945,
            1.864763855934143,
            1.864763855934143,
            -0.8902177810668945,
            -0.8902177810668945
           ]
          },
          {
           "fill": "toself",
           "marker": {
            "color": "#1f78b4"
           },
           "mode": "lines",
           "name": "1",
           "showlegend": true,
           "type": "scatter",
           "x": [
            10.320700645446777,
            10.320700645446777,
            11.267733573913574,
            11.267733573913574,
            10.320700645446777
           ],
           "y": [
            -0.8778599500656128,
            1.8570860624313354,
            1.8570860624313354,
            -0.8778599500656128,
            -0.8778599500656128
           ]
          },
          {
           "fill": "toself",
           "marker": {
            "color": "#b2df8a"
           },
           "mode": "lines",
           "name": "2",
           "showlegend": true,
           "type": "scatter",
           "x": [
            4.845973491668701,
            4.845973491668701,
            9.347588539123535,
            9.347588539123535,
            4.845973491668701
           ],
           "y": [
            1.793487548828125,
            -0.8040144443511963,
            -0.8040144443511963,
            1.793487548828125,
            1.793487548828125
           ]
          }
         ],
         "name": "37"
        },
        {
         "data": [
          {
           "fill": "toself",
           "marker": {
            "color": "#a6cee3"
           },
           "mode": "lines",
           "name": "0",
           "showlegend": true,
           "type": "scatter",
           "x": [
            -0.8337538242340088,
            -0.8337538242340088,
            4.793499946594238,
            4.793499946594238,
            -0.8337538242340088
           ],
           "y": [
            -0.9075474739074707,
            1.8829725980758667,
            1.8829725980758667,
            -0.9075474739074707,
            -0.9075474739074707
           ]
          },
          {
           "fill": "toself",
           "marker": {
            "color": "#1f78b4"
           },
           "mode": "lines",
           "name": "1",
           "showlegend": true,
           "type": "scatter",
           "x": [
            10.224377632141113,
            10.224377632141113,
            11.166739463806152,
            11.166739463806152,
            10.224377632141113
           ],
           "y": [
            -0.8733202815055847,
            1.8519850969314575,
            1.8519850969314575,
            -0.8733202815055847,
            -0.8733202815055847
           ]
          },
          {
           "fill": "toself",
           "marker": {
            "color": "#b2df8a"
           },
           "mode": "lines",
           "name": "2",
           "showlegend": true,
           "type": "scatter",
           "x": [
            4.948330879211426,
            4.948330879211426,
            9.274484634399414,
            9.274484634399414,
            4.948330879211426
           ],
           "y": [
            1.8250089883804321,
            -0.8356205224990845,
            -0.8356205224990845,
            1.8250089883804321,
            1.8250089883804321
           ]
          }
         ],
         "name": "38"
        },
        {
         "data": [
          {
           "fill": "toself",
           "marker": {
            "color": "#a6cee3"
           },
           "mode": "lines",
           "name": "0",
           "showlegend": true,
           "type": "scatter",
           "x": [
            -0.8378075957298279,
            -0.8378075957298279,
            4.891729354858398,
            4.891729354858398,
            -0.8378075957298279
           ],
           "y": [
            -0.9112446904182434,
            1.8866832256317139,
            1.8866832256317139,
            -0.9112446904182434,
            -0.9112446904182434
           ]
          },
          {
           "fill": "toself",
           "marker": {
            "color": "#1f78b4"
           },
           "mode": "lines",
           "name": "1",
           "showlegend": true,
           "type": "scatter",
           "x": [
            10.128446578979492,
            10.128446578979492,
            11.065695762634277,
            11.065695762634277,
            10.128446578979492
           ],
           "y": [
            -0.8828458189964294,
            1.8622740507125854,
            1.8622740507125854,
            -0.8828458189964294,
            -0.8828458189964294
           ]
          },
          {
           "fill": "toself",
           "marker": {
            "color": "#b2df8a"
           },
           "mode": "lines",
           "name": "2",
           "showlegend": true,
           "type": "scatter",
           "x": [
            5.051057815551758,
            5.051057815551758,
            9.203763961791992,
            9.203763961791992,
            5.051057815551758
           ],
           "y": [
            1.8563232421875,
            -0.867018461227417,
            -0.867018461227417,
            1.8563232421875,
            1.8563232421875
           ]
          }
         ],
         "name": "39"
        },
        {
         "data": [
          {
           "fill": "toself",
           "marker": {
            "color": "#a6cee3"
           },
           "mode": "lines",
           "name": "0",
           "showlegend": true,
           "type": "scatter",
           "x": [
            -0.8417129516601562,
            -0.8417129516601562,
            4.989805221557617,
            4.989805221557617,
            -0.8417129516601562
           ],
           "y": [
            -0.9146612882614136,
            1.8903032541275024,
            1.8903032541275024,
            -0.9146612882614136,
            -0.9146612882614136
           ]
          },
          {
           "fill": "toself",
           "marker": {
            "color": "#1f78b4"
           },
           "mode": "lines",
           "name": "1",
           "showlegend": true,
           "type": "scatter",
           "x": [
            10.033029556274414,
            10.033029556274414,
            10.964606285095215,
            10.964606285095215,
            10.033029556274414
           ],
           "y": [
            -0.8926849961280823,
            1.8726630210876465,
            1.8726630210876465,
            -0.8926849961280823,
            -0.8926849961280823
           ]
          },
          {
           "fill": "toself",
           "marker": {
            "color": "#b2df8a"
           },
           "mode": "lines",
           "name": "2",
           "showlegend": true,
           "type": "scatter",
           "x": [
            5.153379440307617,
            5.153379440307617,
            9.133780479431152,
            9.133780479431152,
            5.153379440307617
           ],
           "y": [
            1.8876912593841553,
            -0.8984689116477966,
            -0.8984689116477966,
            1.8876912593841553,
            1.8876912593841553
           ]
          }
         ],
         "name": "40"
        },
        {
         "data": [
          {
           "fill": "toself",
           "marker": {
            "color": "#a6cee3"
           },
           "mode": "lines",
           "name": "0",
           "showlegend": true,
           "type": "scatter",
           "x": [
            -0.8453819155693054,
            -0.8453819155693054,
            5.087669372558594,
            5.087669372558594,
            -0.8453819155693054
           ],
           "y": [
            -0.9179202318191528,
            1.9006673097610474,
            1.9006673097610474,
            -0.9179202318191528,
            -0.9179202318191528
           ]
          },
          {
           "fill": "toself",
           "marker": {
            "color": "#1f78b4"
           },
           "mode": "lines",
           "name": "1",
           "showlegend": true,
           "type": "scatter",
           "x": [
            9.938191413879395,
            9.938191413879395,
            10.863436698913574,
            10.863436698913574,
            9.938191413879395
           ],
           "y": [
            -0.9025177955627441,
            1.8754165172576904,
            1.8754165172576904,
            -0.9025177955627441,
            -0.9025177955627441
           ]
          },
          {
           "fill": "toself",
           "marker": {
            "color": "#b2df8a"
           },
           "mode": "lines",
           "name": "2",
           "showlegend": true,
           "type": "scatter",
           "x": [
            5.255612373352051,
            5.255612373352051,
            9.0674467086792,
            9.0674467086792,
            5.255612373352051
           ],
           "y": [
            1.9186797142028809,
            -0.9295382499694824,
            -0.9295382499694824,
            1.9186797142028809,
            1.9186797142028809
           ]
          }
         ],
         "name": "41"
        },
        {
         "data": [
          {
           "fill": "toself",
           "marker": {
            "color": "#a6cee3"
           },
           "mode": "lines",
           "name": "0",
           "showlegend": true,
           "type": "scatter",
           "x": [
            -0.8488803505897522,
            -0.8488803505897522,
            5.185367107391357,
            5.185367107391357,
            -0.8488803505897522
           ],
           "y": [
            -0.9210640788078308,
            1.9115201234817505,
            1.9115201234817505,
            -0.9210640788078308,
            -0.9210640788078308
           ]
          },
          {
           "fill": "toself",
           "marker": {
            "color": "#1f78b4"
           },
           "mode": "lines",
           "name": "1",
           "showlegend": true,
           "type": "scatter",
           "x": [
            9.843948364257812,
            9.843948364257812,
            10.762203216552734,
            10.762203216552734,
            9.843948364257812
           ],
           "y": [
            -0.912487804889679,
            1.8758667707443237,
            1.8758667707443237,
            -0.912487804889679,
            -0.912487804889679
           ]
          },
          {
           "fill": "toself",
           "marker": {
            "color": "#b2df8a"
           },
           "mode": "lines",
           "name": "2",
           "showlegend": true,
           "type": "scatter",
           "x": [
            5.35668420791626,
            5.35668420791626,
            9.004157066345215,
            9.004157066345215,
            5.35668420791626
           ],
           "y": [
            1.949675440788269,
            -0.9606142640113831,
            -0.9606142640113831,
            1.949675440788269,
            1.949675440788269
           ]
          }
         ],
         "name": "42"
        },
        {
         "data": [
          {
           "fill": "toself",
           "marker": {
            "color": "#a6cee3"
           },
           "mode": "lines",
           "name": "0",
           "showlegend": true,
           "type": "scatter",
           "x": [
            -0.8522317409515381,
            -0.8522317409515381,
            5.282822132110596,
            5.282822132110596,
            -0.8522317409515381
           ],
           "y": [
            -0.938866376876831,
            1.9143702983856201,
            1.9143702983856201,
            -0.938866376876831,
            -0.938866376876831
           ]
          },
          {
           "fill": "toself",
           "marker": {
            "color": "#1f78b4"
           },
           "mode": "lines",
           "name": "1",
           "showlegend": true,
           "type": "scatter",
           "x": [
            9.750428199768066,
            9.750428199768066,
            10.660884857177734,
            10.660884857177734,
            9.750428199768066
           ],
           "y": [
            -0.9057807326316833,
            1.8850589990615845,
            1.8850589990615845,
            -0.9057807326316833,
            -0.9057807326316833
           ]
          },
          {
           "fill": "toself",
           "marker": {
            "color": "#b2df8a"
           },
           "mode": "lines",
           "name": "2",
           "showlegend": true,
           "type": "scatter",
           "x": [
            5.4567975997924805,
            5.4567975997924805,
            8.945950508117676,
            8.945950508117676,
            5.4567975997924805
           ],
           "y": [
            1.9807939529418945,
            -0.9918124079704285,
            -0.9918124079704285,
            1.9807939529418945,
            1.9807939529418945
           ]
          }
         ],
         "name": "43"
        },
        {
         "data": [
          {
           "fill": "toself",
           "marker": {
            "color": "#a6cee3"
           },
           "mode": "lines",
           "name": "0",
           "showlegend": true,
           "type": "scatter",
           "x": [
            -0.8553866744041443,
            -0.8553866744041443,
            5.379941463470459,
            5.379941463470459,
            -0.8553866744041443
           ],
           "y": [
            -0.9416220188140869,
            1.9170843362808228,
            1.9170843362808228,
            -0.9416220188140869,
            -0.9416220188140869
           ]
          },
          {
           "fill": "toself",
           "marker": {
            "color": "#1f78b4"
           },
           "mode": "lines",
           "name": "1",
           "showlegend": true,
           "type": "scatter",
           "x": [
            9.657856941223145,
            9.657856941223145,
            10.559465408325195,
            10.559465408325195,
            9.657856941223145
           ],
           "y": [
            -0.9143936634063721,
            1.894446611404419,
            1.894446611404419,
            -0.9143936634063721,
            -0.9143936634063721
           ]
          },
          {
           "fill": "toself",
           "marker": {
            "color": "#b2df8a"
           },
           "mode": "lines",
           "name": "2",
           "showlegend": true,
           "type": "scatter",
           "x": [
            5.556002616882324,
            5.556002616882324,
            8.894455909729004,
            8.894455909729004,
            5.556002616882324
           ],
           "y": [
            2.0120160579681396,
            -1.0231136083602905,
            -1.0231136083602905,
            2.0120160579681396,
            2.0120160579681396
           ]
          }
         ],
         "name": "44"
        },
        {
         "data": [
          {
           "fill": "toself",
           "marker": {
            "color": "#a6cee3"
           },
           "mode": "lines",
           "name": "0",
           "showlegend": true,
           "type": "scatter",
           "x": [
            -0.8584035038948059,
            -0.8584035038948059,
            5.47676944732666,
            5.47676944732666,
            -0.8584035038948059
           ],
           "y": [
            -0.944096565246582,
            1.9197176694869995,
            1.9197176694869995,
            -0.944096565246582,
            -0.944096565246582
           ]
          },
          {
           "fill": "toself",
           "marker": {
            "color": "#1f78b4"
           },
           "mode": "lines",
           "name": "1",
           "showlegend": true,
           "type": "scatter",
           "x": [
            9.56629753112793,
            9.56629753112793,
            10.45793342590332,
            10.45793342590332,
            9.56629753112793
           ],
           "y": [
            -0.9234051704406738,
            1.9040201902389526,
            1.9040201902389526,
            -0.9234051704406738,
            -0.9234051704406738
           ]
          },
          {
           "fill": "toself",
           "marker": {
            "color": "#b2df8a"
           },
           "mode": "lines",
           "name": "2",
           "showlegend": true,
           "type": "scatter",
           "x": [
            5.653167724609375,
            5.653167724609375,
            8.849843978881836,
            8.849843978881836,
            5.653167724609375
           ],
           "y": [
            2.0435118675231934,
            -1.0546886920928955,
            -1.0546886920928955,
            2.0435118675231934,
            2.0435118675231934
           ]
          }
         ],
         "name": "45"
        },
        {
         "data": [
          {
           "fill": "toself",
           "marker": {
            "color": "#a6cee3"
           },
           "mode": "lines",
           "name": "0",
           "showlegend": true,
           "type": "scatter",
           "x": [
            -0.861307680606842,
            -0.861307680606842,
            5.573354244232178,
            5.573354244232178,
            -0.861307680606842
           ],
           "y": [
            -0.9465126395225525,
            1.922288179397583,
            1.922288179397583,
            -0.9465126395225525,
            -0.9465126395225525
           ]
          },
          {
           "fill": "toself",
           "marker": {
            "color": "#1f78b4"
           },
           "mode": "lines",
           "name": "1",
           "showlegend": true,
           "type": "scatter",
           "x": [
            9.475985527038574,
            9.475985527038574,
            10.356250762939453,
            10.356250762939453,
            9.475985527038574
           ],
           "y": [
            -0.9326052069664001,
            1.9137938022613525,
            1.9137938022613525,
            -0.9326052069664001,
            -0.9326052069664001
           ]
          },
          {
           "fill": "toself",
           "marker": {
            "color": "#b2df8a"
           },
           "mode": "lines",
           "name": "2",
           "showlegend": true,
           "type": "scatter",
           "x": [
            5.746147632598877,
            5.746147632598877,
            8.80780029296875,
            8.80780029296875,
            5.746147632598877
           ],
           "y": [
            2.0753679275512695,
            -1.0866256952285767,
            -1.0866256952285767,
            2.0753679275512695,
            2.0753679275512695
           ]
          }
         ],
         "name": "46"
        },
        {
         "data": [
          {
           "fill": "toself",
           "marker": {
            "color": "#a6cee3"
           },
           "mode": "lines",
           "name": "0",
           "showlegend": true,
           "type": "scatter",
           "x": [
            -0.864069402217865,
            -0.864069402217865,
            5.669569492340088,
            5.669569492340088,
            -0.864069402217865
           ],
           "y": [
            -0.9518691897392273,
            1.9408488273620605,
            1.9408488273620605,
            -0.9518691897392273,
            -0.9518691897392273
           ]
          },
          {
           "fill": "toself",
           "marker": {
            "color": "#1f78b4"
           },
           "mode": "lines",
           "name": "1",
           "showlegend": true,
           "type": "scatter",
           "x": [
            9.387081146240234,
            9.387081146240234,
            10.254408836364746,
            10.254408836364746,
            9.387081146240234
           ],
           "y": [
            -0.9387781620025635,
            1.9059579372406006,
            1.9059579372406006,
            -0.9387781620025635,
            -0.9387781620025635
           ]
          },
          {
           "fill": "toself",
           "marker": {
            "color": "#b2df8a"
           },
           "mode": "lines",
           "name": "2",
           "showlegend": true,
           "type": "scatter",
           "x": [
            5.835638046264648,
            5.835638046264648,
            8.774930000305176,
            8.774930000305176,
            5.835638046264648
           ],
           "y": [
            2.107588291168213,
            -1.1189253330230713,
            -1.1189253330230713,
            2.107588291168213,
            2.107588291168213
           ]
          }
         ],
         "name": "47"
        },
        {
         "data": [
          {
           "fill": "toself",
           "marker": {
            "color": "#a6cee3"
           },
           "mode": "lines",
           "name": "0",
           "showlegend": true,
           "type": "scatter",
           "x": [
            -0.8667203187942505,
            -0.8667203187942505,
            5.7654643058776855,
            5.7654643058776855,
            -0.8667203187942505
           ],
           "y": [
            -0.966815173625946,
            1.9431957006454468,
            1.9431957006454468,
            -0.966815173625946,
            -0.966815173625946
           ]
          },
          {
           "fill": "toself",
           "marker": {
            "color": "#1f78b4"
           },
           "mode": "lines",
           "name": "1",
           "showlegend": true,
           "type": "scatter",
           "x": [
            9.29981517791748,
            9.29981517791748,
            10.15237808227539,
            10.15237808227539,
            9.29981517791748
           ],
           "y": [
            -0.9333146214485168,
            1.9144285917282104,
            1.9144285917282104,
            -0.9333146214485168,
            -0.9333146214485168
           ]
          },
          {
           "fill": "toself",
           "marker": {
            "color": "#b2df8a"
           },
           "mode": "lines",
           "name": "2",
           "showlegend": true,
           "type": "scatter",
           "x": [
            5.919841289520264,
            5.919841289520264,
            8.7471923828125,
            8.7471923828125,
            5.919841289520264
           ],
           "y": [
            2.1407601833343506,
            -1.1521780490875244,
            -1.1521780490875244,
            2.1407601833343506,
            2.1407601833343506
           ]
          }
         ],
         "name": "48"
        },
        {
         "data": [
          {
           "fill": "toself",
           "marker": {
            "color": "#a6cee3"
           },
           "mode": "lines",
           "name": "0",
           "showlegend": true,
           "type": "scatter",
           "x": [
            -0.8692938089370728,
            -0.8692938089370728,
            5.8608245849609375,
            5.8608245849609375,
            -0.8692938089370728
           ],
           "y": [
            -0.9687209725379944,
            1.9452018737792969,
            1.9452018737792969,
            -0.9687209725379944,
            -0.9687209725379944
           ]
          },
          {
           "fill": "toself",
           "marker": {
            "color": "#1f78b4"
           },
           "mode": "lines",
           "name": "1",
           "showlegend": true,
           "type": "scatter",
           "x": [
            9.214545249938965,
            9.214545249938965,
            10.050127983093262,
            10.050127983093262,
            9.214545249938965
           ],
           "y": [
            -0.9419668316841125,
            1.9235117435455322,
            1.9235117435455322,
            -0.9419668316841125,
            -0.9419668316841125
           ]
          },
          {
           "fill": "toself",
           "marker": {
            "color": "#b2df8a"
           },
           "mode": "lines",
           "name": "2",
           "showlegend": true,
           "type": "scatter",
           "x": [
            5.999393939971924,
            5.999393939971924,
            8.733820915222168,
            8.733820915222168,
            5.999393939971924
           ],
           "y": [
            2.1746950149536133,
            -1.1861944198608398,
            -1.1861944198608398,
            2.1746950149536133,
            2.1746950149536133
           ]
          }
         ],
         "name": "49"
        },
        {
         "data": [
          {
           "fill": "toself",
           "marker": {
            "color": "#a6cee3"
           },
           "mode": "lines",
           "name": "0",
           "showlegend": true,
           "type": "scatter",
           "x": [
            -0.8717743158340454,
            -0.8717743158340454,
            5.9557390213012695,
            5.9557390213012695,
            -0.8717743158340454
           ],
           "y": [
            -0.9705820679664612,
            1.9471614360809326,
            1.9471614360809326,
            -0.9705820679664612,
            -0.9705820679664612
           ]
          },
          {
           "fill": "toself",
           "marker": {
            "color": "#1f78b4"
           },
           "mode": "lines",
           "name": "1",
           "showlegend": true,
           "type": "scatter",
           "x": [
            9.131528854370117,
            9.131528854370117,
            9.947608947753906,
            9.947608947753906,
            9.131528854370117
           ],
           "y": [
            -0.9509814381599426,
            1.9329745769500732,
            1.9329745769500732,
            -0.9509814381599426,
            -0.9509814381599426
           ]
          },
          {
           "fill": "toself",
           "marker": {
            "color": "#b2df8a"
           },
           "mode": "lines",
           "name": "2",
           "showlegend": true,
           "type": "scatter",
           "x": [
            6.072048187255859,
            6.072048187255859,
            8.729022979736328,
            8.729022979736328,
            6.072048187255859
           ],
           "y": [
            2.209613084793091,
            -1.2211962938308716,
            -1.2211962938308716,
            2.209613084793091,
            2.209613084793091
           ]
          }
         ],
         "name": "50"
        },
        {
         "data": [
          {
           "fill": "toself",
           "marker": {
            "color": "#a6cee3"
           },
           "mode": "lines",
           "name": "0",
           "showlegend": true,
           "type": "scatter",
           "x": [
            -0.8741822242736816,
            -0.8741822242736816,
            6.0501861572265625,
            6.0501861572265625,
            -0.8741822242736816
           ],
           "y": [
            -0.9724128842353821,
            1.9587637186050415,
            1.9587637186050415,
            -0.9724128842353821,
            -0.9724128842353821
           ]
          },
          {
           "fill": "toself",
           "marker": {
            "color": "#1f78b4"
           },
           "mode": "lines",
           "name": "1",
           "showlegend": true,
           "type": "scatter",
           "x": [
            9.051187515258789,
            9.051187515258789,
            9.844779014587402,
            9.844779014587402,
            9.051187515258789
           ],
           "y": [
            -0.960435688495636,
            1.9326404333114624,
            1.9326404333114624,
            -0.960435688495636,
            -0.960435688495636
           ]
          },
          {
           "fill": "toself",
           "marker": {
            "color": "#b2df8a"
           },
           "mode": "lines",
           "name": "2",
           "showlegend": true,
           "type": "scatter",
           "x": [
            6.135969638824463,
            6.135969638824463,
            8.730178833007812,
            8.730178833007812,
            6.135969638824463
           ],
           "y": [
            2.24578595161438,
            -1.257454752922058,
            -1.257454752922058,
            2.24578595161438,
            2.24578595161438
           ]
          }
         ],
         "name": "51"
        },
        {
         "data": [
          {
           "fill": "toself",
           "marker": {
            "color": "#a6cee3"
           },
           "mode": "lines",
           "name": "0",
           "showlegend": true,
           "type": "scatter",
           "x": [
            -0.8764935731887817,
            -0.8764935731887817,
            6.144064903259277,
            6.144064903259277,
            -0.8764935731887817
           ],
           "y": [
            -0.9907800555229187,
            1.9677146673202515,
            1.9677146673202515,
            -0.9907800555229187,
            -0.9907800555229187
           ]
          },
          {
           "fill": "toself",
           "marker": {
            "color": "#1f78b4"
           },
           "mode": "lines",
           "name": "1",
           "showlegend": true,
           "type": "scatter",
           "x": [
            8.973896026611328,
            8.973896026611328,
            9.74159049987793,
            9.74159049987793,
            8.973896026611328
           ],
           "y": [
            -0.9519515037536621,
            1.93366277217865,
            1.93366277217865,
            -0.9519515037536621,
            -0.9519515037536621
           ]
          },
          {
           "fill": "toself",
           "marker": {
            "color": "#b2df8a"
           },
           "mode": "lines",
           "name": "2",
           "showlegend": true,
           "type": "scatter",
           "x": [
            6.190690517425537,
            6.190690517425537,
            8.741100311279297,
            8.741100311279297,
            6.190690517425537
           ],
           "y": [
            2.283344268798828,
            -1.2951011657714844,
            -1.2951011657714844,
            2.283344268798828,
            2.283344268798828
           ]
          }
         ],
         "name": "52"
        },
        {
         "data": [
          {
           "fill": "toself",
           "marker": {
            "color": "#a6cee3"
           },
           "mode": "lines",
           "name": "0",
           "showlegend": true,
           "type": "scatter",
           "x": [
            -0.8787670731544495,
            -0.8787670731544495,
            6.237443923950195,
            6.237443923950195,
            -0.8787670731544495
           ],
           "y": [
            -0.9923040866851807,
            1.9692723751068115,
            1.9692723751068115,
            -0.9923040866851807,
            -0.9923040866851807
           ]
          },
          {
           "fill": "toself",
           "marker": {
            "color": "#1f78b4"
           },
           "mode": "lines",
           "name": "1",
           "showlegend": true,
           "type": "scatter",
           "x": [
            8.900075912475586,
            8.900075912475586,
            9.637984275817871,
            9.637984275817871,
            8.900075912475586
           ],
           "y": [
            -0.9607338905334473,
            1.9428566694259644,
            1.9428566694259644,
            -0.9607338905334473,
            -0.9607338905334473
           ]
          },
          {
           "fill": "toself",
           "marker": {
            "color": "#b2df8a"
           },
           "mode": "lines",
           "name": "2",
           "showlegend": true,
           "type": "scatter",
           "x": [
            6.233487129211426,
            6.233487129211426,
            8.754162788391113,
            8.754162788391113,
            6.233487129211426
           ],
           "y": [
            2.3224503993988037,
            -1.3342963457107544,
            -1.3342963457107544,
            2.3224503993988037,
            2.3224503993988037
           ]
          }
         ],
         "name": "53"
        },
        {
         "data": [
          {
           "fill": "toself",
           "marker": {
            "color": "#a6cee3"
           },
           "mode": "lines",
           "name": "0",
           "showlegend": true,
           "type": "scatter",
           "x": [
            -0.8809864521026611,
            -0.8809864521026611,
            6.330132961273193,
            6.330132961273193,
            -0.8809864521026611
           ],
           "y": [
            -0.9937765598297119,
            1.970811128616333,
            1.970811128616333,
            -0.9937765598297119,
            -0.9937765598297119
           ]
          },
          {
           "fill": "toself",
           "marker": {
            "color": "#1f78b4"
           },
           "mode": "lines",
           "name": "1",
           "showlegend": true,
           "type": "scatter",
           "x": [
            8.830161094665527,
            8.830161094665527,
            9.533893585205078,
            9.533893585205078,
            8.830161094665527
           ],
           "y": [
            -0.9700005650520325,
            1.9525188207626343,
            1.9525188207626343,
            -0.9700005650520325,
            -0.9700005650520325
           ]
          },
          {
           "fill": "toself",
           "marker": {
            "color": "#b2df8a"
           },
           "mode": "lines",
           "name": "2",
           "showlegend": true,
           "type": "scatter",
           "x": [
            6.264837741851807,
            6.264837741851807,
            8.781720161437988,
            8.781720161437988,
            6.264837741851807
           ],
           "y": [
            2.363079786300659,
            -1.3750159740447998,
            -1.3750159740447998,
            2.363079786300659,
            2.363079786300659
           ]
          }
         ],
         "name": "54"
        },
        {
         "data": [
          {
           "fill": "toself",
           "marker": {
            "color": "#a6cee3"
           },
           "mode": "lines",
           "name": "0",
           "showlegend": true,
           "type": "scatter",
           "x": [
            -0.8831779956817627,
            -0.8831779956817627,
            6.422094821929932,
            6.422094821929932,
            -0.8831779956817627
           ],
           "y": [
            -0.9952484965324402,
            1.9723501205444336,
            1.9723501205444336,
            -0.9952484965324402,
            -0.9952484965324402
           ]
          },
          {
           "fill": "toself",
           "marker": {
            "color": "#1f78b4"
           },
           "mode": "lines",
           "name": "1",
           "showlegend": true,
           "type": "scatter",
           "x": [
            8.76445484161377,
            8.76445484161377,
            9.429251670837402,
            9.429251670837402,
            8.76445484161377
           ],
           "y": [
            -0.9797816872596741,
            1.9627163410186768,
            1.9627163410186768,
            -0.9797816872596741,
            -0.9797816872596741
           ]
          },
          {
           "fill": "toself",
           "marker": {
            "color": "#b2df8a"
           },
           "mode": "lines",
           "name": "2",
           "showlegend": true,
           "type": "scatter",
           "x": [
            6.286050319671631,
            6.286050319671631,
            8.825547218322754,
            8.825547218322754,
            6.286050319671631
           ],
           "y": [
            2.405521869659424,
            -1.4175515174865723,
            -1.4175515174865723,
            2.405521869659424,
            2.405521869659424
           ]
          }
         ],
         "name": "55"
        },
        {
         "data": [
          {
           "fill": "toself",
           "marker": {
            "color": "#a6cee3"
           },
           "mode": "lines",
           "name": "0",
           "showlegend": true,
           "type": "scatter",
           "x": [
            -0.8853379487991333,
            -0.8853379487991333,
            6.513412952423096,
            6.513412952423096,
            -0.8853379487991333
           ],
           "y": [
            -1.0136470794677734,
            1.9911175966262817,
            1.9911175966262817,
            -1.0136470794677734,
            -1.0136470794677734
           ]
          },
          {
           "fill": "toself",
           "marker": {
            "color": "#1f78b4"
           },
           "mode": "lines",
           "name": "1",
           "showlegend": true,
           "type": "scatter",
           "x": [
            8.703533172607422,
            8.703533172607422,
            9.323986053466797,
            9.323986053466797,
            8.703533172607422
           ],
           "y": [
            -0.9717914462089539,
            1.9540783166885376,
            1.9540783166885376,
            -0.9717914462089539,
            -0.9717914462089539
           ]
          },
          {
           "fill": "toself",
           "marker": {
            "color": "#b2df8a"
           },
           "mode": "lines",
           "name": "2",
           "showlegend": true,
           "type": "scatter",
           "x": [
            6.294960975646973,
            6.294960975646973,
            8.87438678741455,
            8.87438678741455,
            6.294960975646973
           ],
           "y": [
            2.450047731399536,
            -1.4621729850769043,
            -1.4621729850769043,
            2.450047731399536,
            2.450047731399536
           ]
          }
         ],
         "name": "56"
        },
        {
         "data": [
          {
           "fill": "toself",
           "marker": {
            "color": "#a6cee3"
           },
           "mode": "lines",
           "name": "0",
           "showlegend": true,
           "type": "scatter",
           "x": [
            -0.8874880075454712,
            -0.8874880075454712,
            6.604121208190918,
            6.604121208190918,
            -0.8874880075454712
           ],
           "y": [
            -1.0150033235549927,
            1.9923999309539795,
            1.9923999309539795,
            -1.0150033235549927,
            -1.0150033235549927
           ]
          },
          {
           "fill": "toself",
           "marker": {
            "color": "#1f78b4"
           },
           "mode": "lines",
           "name": "1",
           "showlegend": true,
           "type": "scatter",
           "x": [
            8.647819519042969,
            8.647819519042969,
            9.218019485473633,
            9.218019485473633,
            8.647819519042969
           ],
           "y": [
            -0.9808708429336548,
            1.9636104106903076,
            1.9636104106903076,
            -0.9808708429336548,
            -0.9808708429336548
           ]
          },
          {
           "fill": "toself",
           "marker": {
            "color": "#b2df8a"
           },
           "mode": "lines",
           "name": "2",
           "showlegend": true,
           "type": "scatter",
           "x": [
            6.292532444000244,
            6.292532444000244,
            8.924062728881836,
            8.924062728881836,
            6.292532444000244
           ],
           "y": [
            2.496591091156006,
            -1.5088142156600952,
            -1.5088142156600952,
            2.496591091156006,
            2.496591091156006
           ]
          }
         ],
         "name": "57"
        },
        {
         "data": [
          {
           "fill": "toself",
           "marker": {
            "color": "#a6cee3"
           },
           "mode": "lines",
           "name": "0",
           "showlegend": true,
           "type": "scatter",
           "x": [
            -0.8896212577819824,
            -0.8896212577819824,
            6.694033145904541,
            6.694033145904541,
            -0.8896212577819824
           ],
           "y": [
            -1.0162400007247925,
            1.9936838150024414,
            1.9936838150024414,
            -1.0162400007247925,
            -1.0162400007247925
           ]
          },
          {
           "fill": "toself",
           "marker": {
            "color": "#1f78b4"
           },
           "mode": "lines",
           "name": "1",
           "showlegend": true,
           "type": "scatter",
           "x": [
            8.597949028015137,
            8.597949028015137,
            9.111274719238281,
            9.111274719238281,
            8.597949028015137
           ],
           "y": [
            -0.9905725121498108,
            1.9736567735671997,
            1.9736567735671997,
            -0.9905725121498108,
            -0.9905725121498108
           ]
          },
          {
           "fill": "toself",
           "marker": {
            "color": "#b2df8a"
           },
           "mode": "lines",
           "name": "2",
           "showlegend": true,
           "type": "scatter",
           "x": [
            6.2809295654296875,
            6.2809295654296875,
            8.990660667419434,
            8.990660667419434,
            6.2809295654296875
           ],
           "y": [
            2.5450754165649414,
            -1.557399868965149,
            -1.557399868965149,
            2.5450754165649414,
            2.5450754165649414
           ]
          }
         ],
         "name": "58"
        },
        {
         "data": [
          {
           "fill": "toself",
           "marker": {
            "color": "#a6cee3"
           },
           "mode": "lines",
           "name": "0",
           "showlegend": true,
           "type": "scatter",
           "x": [
            -0.8917483687400818,
            -0.8917483687400818,
            6.783798694610596,
            6.783798694610596,
            -0.8917483687400818
           ],
           "y": [
            -1.017487645149231,
            1.994978666305542,
            1.994978666305542,
            -1.017487645149231,
            -1.017487645149231
           ]
          },
          {
           "fill": "toself",
           "marker": {
            "color": "#1f78b4"
           },
           "mode": "lines",
           "name": "1",
           "showlegend": true,
           "type": "scatter",
           "x": [
            8.55302619934082,
            8.55302619934082,
            8.992172241210938,
            8.992172241210938,
            8.55302619934082
           ],
           "y": [
            -1.0008660554885864,
            1.9843155145645142,
            1.9843155145645142,
            -1.0008660554885864,
            -1.0008660554885864
           ]
          },
          {
           "fill": "toself",
           "marker": {
            "color": "#b2df8a"
           },
           "mode": "lines",
           "name": "2",
           "showlegend": true,
           "type": "scatter",
           "x": [
            6.273061275482178,
            6.273061275482178,
            9.309843063354492,
            9.309843063354492,
            6.273061275482178
           ],
           "y": [
            2.5958993434906006,
            -1.6083263158798218,
            -1.6083263158798218,
            2.5958993434906006,
            2.5958993434906006
           ]
          }
         ],
         "name": "59"
        },
        {
         "data": [
          {
           "fill": "toself",
           "marker": {
            "color": "#a6cee3"
           },
           "mode": "lines",
           "name": "0",
           "showlegend": true,
           "type": "scatter",
           "x": [
            -0.8937883973121643,
            -0.8937883973121643,
            6.87532377243042,
            6.87532377243042,
            -0.8937883973121643
           ],
           "y": [
            -1.0348412990570068,
            2.0136842727661133,
            2.0136842727661133,
            -1.0348412990570068,
            -1.0348412990570068
           ]
          },
          {
           "fill": "toself",
           "marker": {
            "color": "#1f78b4"
           },
           "mode": "lines",
           "name": "1",
           "showlegend": true,
           "type": "scatter",
           "x": [
            8.505083084106445,
            8.505083084106445,
            8.86450481414795,
            8.86450481414795,
            8.505083084106445
           ],
           "y": [
            -0.9938685894012451,
            1.97601318359375,
            1.97601318359375,
            -0.9938685894012451,
            -0.9938685894012451
           ]
          },
          {
           "fill": "toself",
           "marker": {
            "color": "#b2df8a"
           },
           "mode": "lines",
           "name": "2",
           "showlegend": true,
           "type": "scatter",
           "x": [
            6.341357231140137,
            6.341357231140137,
            9.598011016845703,
            9.598011016845703,
            6.341357231140137
           ],
           "y": [
            2.6448020935058594,
            -1.6573257446289062,
            -1.6573257446289062,
            2.6448020935058594,
            2.6448020935058594
           ]
          }
         ],
         "name": "60"
        },
        {
         "data": [
          {
           "fill": "toself",
           "marker": {
            "color": "#a6cee3"
           },
           "mode": "lines",
           "name": "0",
           "showlegend": true,
           "type": "scatter",
           "x": [
            -0.8956920504570007,
            -0.8956920504570007,
            6.9674458503723145,
            6.9674458503723145,
            -0.8956920504570007
           ],
           "y": [
            -1.0370550155639648,
            2.0148966312408447,
            2.0148966312408447,
            -1.0370550155639648,
            -1.0370550155639648
           ]
          },
          {
           "fill": "toself",
           "marker": {
            "color": "#1f78b4"
           },
           "mode": "lines",
           "name": "1",
           "showlegend": true,
           "type": "scatter",
           "x": [
            8.458385467529297,
            8.458385467529297,
            8.740729331970215,
            8.740729331970215,
            8.458385467529297
           ],
           "y": [
            -1.0005227327346802,
            1.9839389324188232,
            1.9839389324188232,
            -1.0005227327346802,
            -1.0005227327346802
           ]
          },
          {
           "fill": "toself",
           "marker": {
            "color": "#b2df8a"
           },
           "mode": "lines",
           "name": "2",
           "showlegend": true,
           "type": "scatter",
           "x": [
            6.44675874710083,
            6.44675874710083,
            9.7965669631958,
            9.7965669631958,
            6.44675874710083
           ],
           "y": [
            2.69113826751709,
            -1.7037506103515625,
            -1.7037506103515625,
            2.69113826751709,
            2.69113826751709
           ]
          }
         ],
         "name": "61"
        },
        {
         "data": [
          {
           "fill": "toself",
           "marker": {
            "color": "#a6cee3"
           },
           "mode": "lines",
           "name": "0",
           "showlegend": true,
           "type": "scatter",
           "x": [
            -0.8974570035934448,
            -0.8974570035934448,
            7.059530735015869,
            7.059530735015869,
            -0.8974570035934448
           ],
           "y": [
            -1.0379408597946167,
            2.0158064365386963,
            2.0158064365386963,
            -1.0379408597946167,
            -1.0379408597946167
           ]
          },
          {
           "fill": "toself",
           "marker": {
            "color": "#1f78b4"
           },
           "mode": "lines",
           "name": "1",
           "showlegend": true,
           "type": "scatter",
           "x": [
            8.41569709777832,
            8.41569709777832,
            8.619410514831543,
            8.619410514831543,
            8.41569709777832
           ],
           "y": [
            -1.0080913305282593,
            1.991716980934143,
            1.991716980934143,
            -1.0080913305282593,
            -1.0080913305282593
           ]
          },
          {
           "fill": "toself",
           "marker": {
            "color": "#b2df8a"
           },
           "mode": "lines",
           "name": "2",
           "showlegend": true,
           "type": "scatter",
           "x": [
            6.56905460357666,
            6.56905460357666,
            9.959965705871582,
            9.959965705871582,
            6.56905460357666
           ],
           "y": [
            2.734928607940674,
            -1.7476235628128052,
            -1.7476235628128052,
            2.734928607940674,
            2.734928607940674
           ]
          }
         ],
         "name": "62"
        },
        {
         "data": [
          {
           "fill": "toself",
           "marker": {
            "color": "#a6cee3"
           },
           "mode": "lines",
           "name": "0",
           "showlegend": true,
           "type": "scatter",
           "x": [
            -0.8990833163261414,
            -0.8990833163261414,
            7.15142822265625,
            7.15142822265625,
            -0.8990833163261414
           ],
           "y": [
            -1.0387660264968872,
            2.0166563987731934,
            2.0166563987731934,
            -1.0387660264968872,
            -1.0387660264968872
           ]
          },
          {
           "fill": "toself",
           "marker": {
            "color": "#1f78b4"
           },
           "mode": "lines",
           "name": "1",
           "showlegend": true,
           "type": "scatter",
           "x": [
            8.37860107421875,
            8.37860107421875,
            8.499837875366211,
            8.499837875366211,
            8.37860107421875
           ],
           "y": [
            -1.0153299570083618,
            1.9991563558578491,
            1.9991563558578491,
            -1.0153299570083618,
            -1.0153299570083618
           ]
          },
          {
           "fill": "toself",
           "marker": {
            "color": "#b2df8a"
           },
           "mode": "lines",
           "name": "2",
           "showlegend": true,
           "type": "scatter",
           "x": [
            6.698309898376465,
            6.698309898376465,
            10.102834701538086,
            10.102834701538086,
            6.698309898376465
           ],
           "y": [
            2.7765004634857178,
            -1.7892735004425049,
            -1.7892735004425049,
            2.7765004634857178,
            2.7765004634857178
           ]
          }
         ],
         "name": "63"
        },
        {
         "data": [
          {
           "fill": "toself",
           "marker": {
            "color": "#a6cee3"
           },
           "mode": "lines",
           "name": "0",
           "showlegend": true,
           "type": "scatter",
           "x": [
            -0.9005835056304932,
            -0.9005835056304932,
            7.242995262145996,
            7.242995262145996,
            -0.9005835056304932
           ],
           "y": [
            -1.039535403251648,
            2.017449378967285,
            2.017449378967285,
            -1.039535403251648,
            -1.039535403251648
           ]
          },
          {
           "fill": "toself",
           "marker": {
            "color": "#1f78b4"
           },
           "mode": "lines",
           "name": "1",
           "showlegend": true,
           "type": "scatter",
           "x": [
            8.348085403442383,
            8.348085403442383,
            8.38156509399414,
            8.38156509399414,
            8.348085403442383
           ],
           "y": [
            -1.0222853422164917,
            2.0063040256500244,
            2.0063040256500244,
            -1.0222853422164917,
            -1.0222853422164917
           ]
          },
          {
           "fill": "toself",
           "marker": {
            "color": "#b2df8a"
           },
           "mode": "lines",
           "name": "2",
           "showlegend": true,
           "type": "scatter",
           "x": [
            6.831965446472168,
            6.831965446472168,
            10.232771873474121,
            10.232771873474121,
            6.831965446472168
           ],
           "y": [
            2.816162109375,
            -1.8290066719055176,
            -1.8290066719055176,
            2.816162109375,
            2.816162109375
           ]
          }
         ],
         "name": "64"
        },
        {
         "data": [
          {
           "fill": "toself",
           "marker": {
            "color": "#a6cee3"
           },
           "mode": "lines",
           "name": "0",
           "showlegend": true,
           "type": "scatter",
           "x": [
            -0.9019695520401001,
            -0.9019695520401001,
            7.334232807159424,
            7.334232807159424,
            -0.9019695520401001
           ],
           "y": [
            -1.0402544736862183,
            2.0181884765625,
            2.0181884765625,
            -1.0402544736862183,
            -1.0402544736862183
           ]
          },
          {
           "fill": "toself",
           "marker": {
            "color": "#1f78b4"
           },
           "mode": "lines",
           "name": "1",
           "showlegend": true,
           "type": "scatter",
           "x": [
            8.325765609741211,
            8.325765609741211,
            8.26427173614502,
            8.26427173614502,
            8.325765609741211
           ],
           "y": [
            -1.0289949178695679,
            2.0131986141204834,
            2.0131986141204834,
            -1.0289949178695679,
            -1.0289949178695679
           ]
          },
          {
           "fill": "toself",
           "marker": {
            "color": "#b2df8a"
           },
           "mode": "lines",
           "name": "2",
           "showlegend": true,
           "type": "scatter",
           "x": [
            6.965638160705566,
            6.965638160705566,
            10.352153778076172,
            10.352153778076172,
            6.965638160705566
           ],
           "y": [
            2.854163646697998,
            -1.8670755624771118,
            -1.8670755624771118,
            2.854163646697998,
            2.854163646697998
           ]
          }
         ],
         "name": "65"
        },
        {
         "data": [
          {
           "fill": "toself",
           "marker": {
            "color": "#a6cee3"
           },
           "mode": "lines",
           "name": "0",
           "showlegend": true,
           "type": "scatter",
           "x": [
            -0.9032448530197144,
            -0.9032448530197144,
            7.425085067749023,
            7.425085067749023,
            -0.9032448530197144
           ],
           "y": [
            -1.0593440532684326,
            2.037463665008545,
            2.037463665008545,
            -1.0593440532684326,
            -1.0593440532684326
           ]
          },
          {
           "fill": "toself",
           "marker": {
            "color": "#1f78b4"
           },
           "mode": "lines",
           "name": "1",
           "showlegend": true,
           "type": "scatter",
           "x": [
            8.312231063842773,
            8.312231063842773,
            8.147704124450684,
            8.147704124450684,
            8.312231063842773
           ],
           "y": [
            -1.0159416198730469,
            1.9998152256011963,
            1.9998152256011963,
            -1.0159416198730469,
            -1.0159416198730469
           ]
          },
          {
           "fill": "toself",
           "marker": {
            "color": "#b2df8a"
           },
           "mode": "lines",
           "name": "2",
           "showlegend": true,
           "type": "scatter",
           "x": [
            7.101370334625244,
            7.101370334625244,
            10.464677810668945,
            10.464677810668945,
            7.101370334625244
           ],
           "y": [
            2.8909249305725098,
            -1.9039019346237183,
            -1.9039019346237183,
            2.8909249305725098,
            2.8909249305725098
           ]
          }
         ],
         "name": "66"
        },
        {
         "data": [
          {
           "fill": "toself",
           "marker": {
            "color": "#a6cee3"
           },
           "mode": "lines",
           "name": "0",
           "showlegend": true,
           "type": "scatter",
           "x": [
            -0.9044288992881775,
            -0.9044288992881775,
            7.515848159790039,
            7.515848159790039,
            -0.9044288992881775
           ],
           "y": [
            -1.059863567352295,
            2.03798246383667,
            2.03798246383667,
            -1.059863567352295,
            -1.059863567352295
           ]
          },
          {
           "fill": "toself",
           "marker": {
            "color": "#1f78b4"
           },
           "mode": "lines",
           "name": "1",
           "showlegend": true,
           "type": "scatter",
           "x": [
            8.308311462402344,
            8.308311462402344,
            8.031671524047852,
            8.031671524047852,
            8.308311462402344
           ],
           "y": [
            -1.0211310386657715,
            2.005138874053955,
            2.005138874053955,
            -1.0211310386657715,
            -1.0211310386657715
           ]
          },
          {
           "fill": "toself",
           "marker": {
            "color": "#b2df8a"
           },
           "mode": "lines",
           "name": "2",
           "showlegend": true,
           "type": "scatter",
           "x": [
            7.236196517944336,
            7.236196517944336,
            10.570487976074219,
            10.570487976074219,
            7.236196517944336
           ],
           "y": [
            2.92655348777771,
            -1.9395933151245117,
            -1.9395933151245117,
            2.92655348777771,
            2.92655348777771
           ]
          }
         ],
         "name": "67"
        },
        {
         "data": [
          {
           "fill": "toself",
           "marker": {
            "color": "#a6cee3"
           },
           "mode": "lines",
           "name": "0",
           "showlegend": true,
           "type": "scatter",
           "x": [
            -0.905520498752594,
            -0.905520498752594,
            7.606106281280518,
            7.606106281280518,
            -0.905520498752594
           ],
           "y": [
            -1.0603340864181519,
            2.038465976715088,
            2.038465976715088,
            -1.0603340864181519,
            -1.0603340864181519
           ]
          },
          {
           "fill": "toself",
           "marker": {
            "color": "#1f78b4"
           },
           "mode": "lines",
           "name": "1",
           "showlegend": true,
           "type": "scatter",
           "x": [
            8.316353797912598,
            8.316353797912598,
            7.916015625,
            7.916015625,
            8.316353797912598
           ],
           "y": [
            -1.0262001752853394,
            2.0103251934051514,
            2.0103251934051514,
            -1.0262001752853394,
            -1.0262001752853394
           ]
          },
          {
           "fill": "toself",
           "marker": {
            "color": "#b2df8a"
           },
           "mode": "lines",
           "name": "2",
           "showlegend": true,
           "type": "scatter",
           "x": [
            7.372185707092285,
            7.372185707092285,
            10.671720504760742,
            10.671720504760742,
            7.372185707092285
           ],
           "y": [
            2.961012125015259,
            -1.9741125106811523,
            -1.9741125106811523,
            2.961012125015259,
            2.961012125015259
           ]
          }
         ],
         "name": "68"
        },
        {
         "data": [
          {
           "fill": "toself",
           "marker": {
            "color": "#a6cee3"
           },
           "mode": "lines",
           "name": "0",
           "showlegend": true,
           "type": "scatter",
           "x": [
            -0.9065432548522949,
            -0.9065432548522949,
            7.695805549621582,
            7.695805549621582,
            -0.9065432548522949
           ],
           "y": [
            -1.0607796907424927,
            2.0389208793640137,
            2.0389208793640137,
            -1.0607796907424927,
            -1.0607796907424927
           ]
          },
          {
           "fill": "toself",
           "marker": {
            "color": "#1f78b4"
           },
           "mode": "lines",
           "name": "1",
           "showlegend": true,
           "type": "scatter",
           "x": [
            8.336928367614746,
            8.336928367614746,
            7.800968170166016,
            7.800968170166016,
            8.336928367614746
           ],
           "y": [
            -1.0311495065689087,
            2.0153887271881104,
            2.0153887271881104,
            -1.0311495065689087,
            -1.0311495065689087
           ]
          },
          {
           "fill": "toself",
           "marker": {
            "color": "#b2df8a"
           },
           "mode": "lines",
           "name": "2",
           "showlegend": true,
           "type": "scatter",
           "x": [
            7.508505821228027,
            7.508505821228027,
            10.768726348876953,
            10.768726348876953,
            7.508505821228027
           ],
           "y": [
            2.9944708347320557,
            -2.007627487182617,
            -2.007627487182617,
            2.9944708347320557,
            2.9944708347320557
           ]
          }
         ],
         "name": "69"
        },
        {
         "data": [
          {
           "fill": "toself",
           "marker": {
            "color": "#a6cee3"
           },
           "mode": "lines",
           "name": "0",
           "showlegend": true,
           "type": "scatter",
           "x": [
            -0.9074919819831848,
            -0.9074919819831848,
            7.7533183097839355,
            7.7533183097839355,
            -0.9074919819831848
           ],
           "y": [
            -1.0611971616744995,
            2.0393471717834473,
            2.0393471717834473,
            -1.0611971616744995,
            -1.0611971616744995
           ]
          },
          {
           "fill": "toself",
           "marker": {
            "color": "#1f78b4"
           },
           "mode": "lines",
           "name": "1",
           "showlegend": true,
           "type": "scatter",
           "x": [
            8.368743896484375,
            8.368743896484375,
            7.71933650970459,
            7.71933650970459,
            8.368743896484375
           ],
           "y": [
            -1.0359915494918823,
            2.020343065261841,
            2.020343065261841,
            -1.0359915494918823,
            -1.0359915494918823
           ]
          },
          {
           "fill": "toself",
           "marker": {
            "color": "#b2df8a"
           },
           "mode": "lines",
           "name": "2",
           "showlegend": true,
           "type": "scatter",
           "x": [
            7.642866611480713,
            7.642866611480713,
            10.861296653747559,
            10.861296653747559,
            7.642866611480713
           ],
           "y": [
            3.0270025730133057,
            -2.0402135848999023,
            -2.0402135848999023,
            3.0270025730133057,
            3.0270025730133057
           ]
          }
         ],
         "name": "70"
        },
        {
         "data": [
          {
           "fill": "toself",
           "marker": {
            "color": "#a6cee3"
           },
           "mode": "lines",
           "name": "0",
           "showlegend": true,
           "type": "scatter",
           "x": [
            -0.9083568453788757,
            -0.9083568453788757,
            7.752731800079346,
            7.752731800079346,
            -0.9083568453788757
           ],
           "y": [
            -1.0615780353546143,
            2.039738416671753,
            2.039738416671753,
            -1.0615780353546143,
            -1.0615780353546143
           ]
          },
          {
           "fill": "toself",
           "marker": {
            "color": "#1f78b4"
           },
           "mode": "lines",
           "name": "1",
           "showlegend": true,
           "type": "scatter",
           "x": [
            8.403698921203613,
            8.403698921203613,
            7.697582721710205,
            7.697582721710205,
            8.403698921203613
           ],
           "y": [
            -1.0407384634017944,
            2.0251994132995605,
            2.0251994132995605,
            -1.0407384634017944,
            -1.0407384634017944
           ]
          },
          {
           "fill": "toself",
           "marker": {
            "color": "#b2df8a"
           },
           "mode": "lines",
           "name": "2",
           "showlegend": true,
           "type": "scatter",
           "x": [
            7.767739772796631,
            7.767739772796631,
            10.949026107788086,
            10.949026107788086,
            7.767739772796631
           ],
           "y": [
            3.058642625808716,
            -2.0719058513641357,
            -2.0719058513641357,
            3.058642625808716,
            3.058642625808716
           ]
          }
         ],
         "name": "71"
        },
        {
         "data": [
          {
           "fill": "toself",
           "marker": {
            "color": "#a6cee3"
           },
           "mode": "lines",
           "name": "0",
           "showlegend": true,
           "type": "scatter",
           "x": [
            -0.9091381430625916,
            -0.9091381430625916,
            7.740696430206299,
            7.740696430206299,
            -0.9091381430625916
           ],
           "y": [
            -1.0619217157363892,
            2.040090322494507,
            2.040090322494507,
            -1.0619217157363892,
            -1.0619217157363892
           ]
          },
          {
           "fill": "toself",
           "marker": {
            "color": "#1f78b4"
           },
           "mode": "lines",
           "name": "1",
           "showlegend": true,
           "type": "scatter",
           "x": [
            8.439312934875488,
            8.439312934875488,
            7.6877827644348145,
            7.6877827644348145,
            8.439312934875488
           ],
           "y": [
            -1.0454000234603882,
            2.0299692153930664,
            2.0299692153930664,
            -1.0454000234603882,
            -1.0454000234603882
           ]
          },
          {
           "fill": "toself",
           "marker": {
            "color": "#b2df8a"
           },
           "mode": "lines",
           "name": "2",
           "showlegend": true,
           "type": "scatter",
           "x": [
            7.880639553070068,
            7.880639553070068,
            11.031901359558105,
            11.031901359558105,
            7.880639553070068
           ],
           "y": [
            3.0894570350646973,
            -2.102771520614624,
            -2.102771520614624,
            3.0894570350646973,
            3.0894570350646973
           ]
          }
         ],
         "name": "72"
        },
        {
         "data": [
          {
           "fill": "toself",
           "marker": {
            "color": "#a6cee3"
           },
           "mode": "lines",
           "name": "0",
           "showlegend": true,
           "type": "scatter",
           "x": [
            -0.9098461866378784,
            -0.9098461866378784,
            7.727681636810303,
            7.727681636810303,
            -0.9098461866378784
           ],
           "y": [
            -1.0622329711914062,
            2.040410041809082,
            2.040410041809082,
            -1.0622329711914062,
            -1.0622329711914062
           ]
          },
          {
           "fill": "toself",
           "marker": {
            "color": "#1f78b4"
           },
           "mode": "lines",
           "name": "1",
           "showlegend": true,
           "type": "scatter",
           "x": [
            8.475550651550293,
            8.475550651550293,
            7.679172992706299,
            7.679172992706299,
            8.475550651550293
           ],
           "y": [
            -1.0499860048294067,
            2.034661054611206,
            2.034661054611206,
            -1.0499860048294067,
            -1.0499860048294067
           ]
          },
          {
           "fill": "toself",
           "marker": {
            "color": "#b2df8a"
           },
           "mode": "lines",
           "name": "2",
           "showlegend": true,
           "type": "scatter",
           "x": [
            7.983308792114258,
            7.983308792114258,
            11.110514640808105,
            11.110514640808105,
            7.983308792114258
           ],
           "y": [
            3.119539499282837,
            -2.132903814315796,
            -2.132903814315796,
            3.119539499282837,
            3.119539499282837
           ]
          }
         ],
         "name": "73"
        },
        {
         "data": [
          {
           "fill": "toself",
           "marker": {
            "color": "#a6cee3"
           },
           "mode": "lines",
           "name": "0",
           "showlegend": true,
           "type": "scatter",
           "x": [
            -0.9104922413825989,
            -0.9104922413825989,
            7.714986324310303,
            7.714986324310303,
            -0.9104922413825989
           ],
           "y": [
            -1.0625171661376953,
            2.0559191703796387,
            2.0559191703796387,
            -1.0625171661376953,
            -1.0625171661376953
           ]
          },
          {
           "fill": "toself",
           "marker": {
            "color": "#1f78b4"
           },
           "mode": "lines",
           "name": "1",
           "showlegend": true,
           "type": "scatter",
           "x": [
            8.51233196258545,
            8.51233196258545,
            7.670391082763672,
            7.670391082763672,
            8.51233196258545
           ],
           "y": [
            -1.0545061826705933,
            2.023796319961548,
            2.023796319961548,
            -1.0545061826705933,
            -1.0545061826705933
           ]
          },
          {
           "fill": "toself",
           "marker": {
            "color": "#b2df8a"
           },
           "mode": "lines",
           "name": "2",
           "showlegend": true,
           "type": "scatter",
           "x": [
            8.07771110534668,
            8.07771110534668,
            11.185481071472168,
            11.185481071472168,
            8.07771110534668
           ],
           "y": [
            3.148982524871826,
            -2.1623947620391846,
            -2.1623947620391846,
            3.148982524871826,
            3.148982524871826
           ]
          }
         ],
         "name": "74"
        },
        {
         "data": [
          {
           "fill": "toself",
           "marker": {
            "color": "#a6cee3"
           },
           "mode": "lines",
           "name": "0",
           "showlegend": true,
           "type": "scatter",
           "x": [
            -0.9110779166221619,
            -0.9110779166221619,
            7.704427242279053,
            7.704427242279053,
            -0.9110779166221619
           ],
           "y": [
            -1.0838593244552612,
            2.0621566772460938,
            2.0621566772460938,
            -1.0838593244552612,
            -1.0838593244552612
           ]
          },
          {
           "fill": "toself",
           "marker": {
            "color": "#1f78b4"
           },
           "mode": "lines",
           "name": "1",
           "showlegend": true,
           "type": "scatter",
           "x": [
            8.549554824829102,
            8.549554824829102,
            7.659514427185059,
            7.659514427185059,
            8.549554824829102
           ],
           "y": [
            -1.0366309881210327,
            2.021155595779419,
            2.021155595779419,
            -1.0366309881210327,
            -1.0366309881210327
           ]
          },
          {
           "fill": "toself",
           "marker": {
            "color": "#b2df8a"
           },
           "mode": "lines",
           "name": "2",
           "showlegend": true,
           "type": "scatter",
           "x": [
            8.165814399719238,
            8.165814399719238,
            11.257458686828613,
            11.257458686828613,
            8.165814399719238
           ],
           "y": [
            3.178130626678467,
            -2.1915900707244873,
            -2.1915900707244873,
            3.178130626678467,
            3.178130626678467
           ]
          }
         ],
         "name": "75"
        },
        {
         "data": [
          {
           "fill": "toself",
           "marker": {
            "color": "#a6cee3"
           },
           "mode": "lines",
           "name": "0",
           "showlegend": true,
           "type": "scatter",
           "x": [
            -0.9116170406341553,
            -0.9116170406341553,
            7.692440032958984,
            7.692440032958984,
            -0.9116170406341553
           ],
           "y": [
            -1.0840346813201904,
            2.0623340606689453,
            2.0623340606689453,
            -1.0840346813201904,
            -1.0840346813201904
           ]
          },
          {
           "fill": "toself",
           "marker": {
            "color": "#1f78b4"
           },
           "mode": "lines",
           "name": "1",
           "showlegend": true,
           "type": "scatter",
           "x": [
            8.587128639221191,
            8.587128639221191,
            7.650227069854736,
            7.650227069854736,
            8.587128639221191
           ],
           "y": [
            -1.0399805307388306,
            2.024569034576416,
            2.024569034576416,
            -1.0399805307388306,
            -1.0399805307388306
           ]
          },
          {
           "fill": "toself",
           "marker": {
            "color": "#b2df8a"
           },
           "mode": "lines",
           "name": "2",
           "showlegend": true,
           "type": "scatter",
           "x": [
            8.24838638305664,
            8.24838638305664,
            11.326659202575684,
            11.326659202575684,
            8.24838638305664
           ],
           "y": [
            3.206820487976074,
            -2.2203261852264404,
            -2.2203261852264404,
            3.206820487976074,
            3.206820487976074
           ]
          }
         ],
         "name": "76"
        },
        {
         "data": [
          {
           "fill": "toself",
           "marker": {
            "color": "#a6cee3"
           },
           "mode": "lines",
           "name": "0",
           "showlegend": true,
           "type": "scatter",
           "x": [
            -0.9121158719062805,
            -0.9121158719062805,
            7.681316375732422,
            7.681316375732422,
            -0.9121158719062805
           ],
           "y": [
            -1.0841957330703735,
            2.0625009536743164,
            2.0625009536743164,
            -1.0841957330703735,
            -1.0841957330703735
           ]
          },
          {
           "fill": "toself",
           "marker": {
            "color": "#1f78b4"
           },
           "mode": "lines",
           "name": "1",
           "showlegend": true,
           "type": "scatter",
           "x": [
            8.62502670288086,
            8.62502670288086,
            7.640117645263672,
            7.640117645263672,
            8.62502670288086
           ],
           "y": [
            -1.0432943105697632,
            2.0279440879821777,
            2.0279440879821777,
            -1.0432943105697632,
            -1.0432943105697632
           ]
          },
          {
           "fill": "toself",
           "marker": {
            "color": "#b2df8a"
           },
           "mode": "lines",
           "name": "2",
           "showlegend": true,
           "type": "scatter",
           "x": [
            8.32653522491455,
            8.32653522491455,
            11.393564224243164,
            11.393564224243164,
            8.32653522491455
           ],
           "y": [
            3.2350451946258545,
            -2.248595714569092,
            -2.248595714569092,
            3.2350451946258545,
            3.2350451946258545
           ]
          }
         ],
         "name": "77"
        },
        {
         "data": [
          {
           "fill": "toself",
           "marker": {
            "color": "#a6cee3"
           },
           "mode": "lines",
           "name": "0",
           "showlegend": true,
           "type": "scatter",
           "x": [
            -0.9125781059265137,
            -0.9125781059265137,
            7.67104434967041,
            7.67104434967041,
            -0.9125781059265137
           ],
           "y": [
            -1.084344744682312,
            2.0626494884490967,
            2.0626494884490967,
            -1.084344744682312,
            -1.084344744682312
           ]
          },
          {
           "fill": "toself",
           "marker": {
            "color": "#1f78b4"
           },
           "mode": "lines",
           "name": "1",
           "showlegend": true,
           "type": "scatter",
           "x": [
            8.663163185119629,
            8.663163185119629,
            7.629220008850098,
            7.629220008850098,
            8.663163185119629
           ],
           "y": [
            -1.0465750694274902,
            2.0312883853912354,
            2.0312883853912354,
            -1.0465750694274902,
            -1.0465750694274902
           ]
          },
          {
           "fill": "toself",
           "marker": {
            "color": "#b2df8a"
           },
           "mode": "lines",
           "name": "2",
           "showlegend": true,
           "type": "scatter",
           "x": [
            8.400777816772461,
            8.400777816772461,
            11.458292961120605,
            11.458292961120605,
            8.400777816772461
           ],
           "y": [
            3.262847661972046,
            -2.276442527770996,
            -2.276442527770996,
            3.262847661972046,
            3.262847661972046
           ]
          }
         ],
         "name": "78"
        },
        {
         "data": [
          {
           "fill": "toself",
           "marker": {
            "color": "#a6cee3"
           },
           "mode": "lines",
           "name": "0",
           "showlegend": true,
           "type": "scatter",
           "x": [
            -0.9130085706710815,
            -0.9130085706710815,
            7.659420967102051,
            7.659420967102051,
            -0.9130085706710815
           ],
           "y": [
            -1.0844837427139282,
            2.0627925395965576,
            2.0627925395965576,
            -1.0844837427139282,
            -1.0844837427139282
           ]
          },
          {
           "fill": "toself",
           "marker": {
            "color": "#1f78b4"
           },
           "mode": "lines",
           "name": "1",
           "showlegend": true,
           "type": "scatter",
           "x": [
            8.701515197753906,
            8.701515197753906,
            7.619760036468506,
            7.619760036468506,
            8.701515197753906
           ],
           "y": [
            -1.0498270988464355,
            2.034600019454956,
            2.034600019454956,
            -1.0498270988464355,
            -1.0498270988464355
           ]
          },
          {
           "fill": "toself",
           "marker": {
            "color": "#b2df8a"
           },
           "mode": "lines",
           "name": "2",
           "showlegend": true,
           "type": "scatter",
           "x": [
            8.47170639038086,
            8.47170639038086,
            11.521142959594727,
            11.521142959594727,
            8.47170639038086
           ],
           "y": [
            3.2902703285217285,
            -2.3039073944091797,
            -2.3039073944091797,
            3.2902703285217285,
            3.2902703285217285
           ]
          }
         ],
         "name": "79"
        },
        {
         "data": [
          {
           "fill": "toself",
           "marker": {
            "color": "#a6cee3"
           },
           "mode": "lines",
           "name": "0",
           "showlegend": true,
           "type": "scatter",
           "x": [
            -0.9134092926979065,
            -0.9134092926979065,
            7.648717403411865,
            7.648717403411865,
            -0.9134092926979065
           ],
           "y": [
            -1.084613561630249,
            2.06292462348938,
            2.06292462348938,
            -1.084613561630249,
            -1.084613561630249
           ]
          },
          {
           "fill": "toself",
           "marker": {
            "color": "#1f78b4"
           },
           "mode": "lines",
           "name": "1",
           "showlegend": true,
           "type": "scatter",
           "x": [
            8.740069389343262,
            8.740069389343262,
            7.609389305114746,
            7.609389305114746,
            8.740069389343262
           ],
           "y": [
            -1.0530519485473633,
            2.037884473800659,
            2.037884473800659,
            -1.0530519485473633,
            -1.0530519485473633
           ]
          },
          {
           "fill": "toself",
           "marker": {
            "color": "#b2df8a"
           },
           "mode": "lines",
           "name": "2",
           "showlegend": true,
           "type": "scatter",
           "x": [
            8.539739608764648,
            8.539739608764648,
            11.582306861877441,
            11.582306861877441,
            8.539739608764648
           ],
           "y": [
            3.3173446655273438,
            -2.331024646759033,
            -2.331024646759033,
            3.3173446655273438,
            3.3173446655273438
           ]
          }
         ],
         "name": "80"
        },
        {
         "data": [
          {
           "fill": "toself",
           "marker": {
            "color": "#a6cee3"
           },
           "mode": "lines",
           "name": "0",
           "showlegend": true,
           "type": "scatter",
           "x": [
            -0.9137840270996094,
            -0.9137840270996094,
            7.637519836425781,
            7.637519836425781,
            -0.9137840270996094
           ],
           "y": [
            -1.0847327709197998,
            2.0630438327789307,
            2.0630438327789307,
            -1.0847327709197998,
            -1.0847327709197998
           ]
          },
          {
           "fill": "toself",
           "marker": {
            "color": "#1f78b4"
           },
           "mode": "lines",
           "name": "1",
           "showlegend": true,
           "type": "scatter",
           "x": [
            8.7787504196167,
            8.7787504196167,
            7.599588394165039,
            7.599588394165039,
            8.7787504196167
           ],
           "y": [
            -1.0562524795532227,
            2.041144847869873,
            2.041144847869873,
            -1.0562524795532227,
            -1.0562524795532227
           ]
          },
          {
           "fill": "toself",
           "marker": {
            "color": "#b2df8a"
           },
           "mode": "lines",
           "name": "2",
           "showlegend": true,
           "type": "scatter",
           "x": [
            8.60503101348877,
            8.60503101348877,
            11.641825675964355,
            11.641825675964355,
            8.60503101348877
           ],
           "y": [
            3.3441052436828613,
            -2.357825756072998,
            -2.357825756072998,
            3.3441052436828613,
            3.3441052436828613
           ]
          }
         ],
         "name": "81"
        },
        {
         "data": [
          {
           "fill": "toself",
           "marker": {
            "color": "#a6cee3"
           },
           "mode": "lines",
           "name": "0",
           "showlegend": true,
           "type": "scatter",
           "x": [
            -0.9141351580619812,
            -0.9141351580619812,
            7.627219200134277,
            7.627219200134277,
            -0.9141351580619812
           ],
           "y": [
            -1.084844946861267,
            2.0631630420684814,
            2.0631630420684814,
            -1.084844946861267,
            -1.084844946861267
           ]
          },
          {
           "fill": "toself",
           "marker": {
            "color": "#1f78b4"
           },
           "mode": "lines",
           "name": "1",
           "showlegend": true,
           "type": "scatter",
           "x": [
            8.81755542755127,
            8.81755542755127,
            7.588886737823486,
            7.588886737823486,
            8.81755542755127
           ],
           "y": [
            -1.0594301223754883,
            2.0443832874298096,
            2.0443832874298096,
            -1.0594301223754883,
            -1.0594301223754883
           ]
          },
          {
           "fill": "toself",
           "marker": {
            "color": "#b2df8a"
           },
           "mode": "lines",
           "name": "2",
           "showlegend": true,
           "type": "scatter",
           "x": [
            8.66806697845459,
            8.66806697845459,
            11.699925422668457,
            11.699925422668457,
            8.66806697845459
           ],
           "y": [
            3.3705766201019287,
            -2.3843376636505127,
            -2.3843376636505127,
            3.3705766201019287,
            3.3705766201019287
           ]
          }
         ],
         "name": "82"
        },
        {
         "data": [
          {
           "fill": "toself",
           "marker": {
            "color": "#a6cee3"
           },
           "mode": "lines",
           "name": "0",
           "showlegend": true,
           "type": "scatter",
           "x": [
            -0.9144647121429443,
            -0.9144647121429443,
            7.616194725036621,
            7.616194725036621,
            -0.9144647121429443
           ],
           "y": [
            -1.0849522352218628,
            2.0632717609405518,
            2.0632717609405518,
            -1.0849522352218628,
            -1.0849522352218628
           ]
          },
          {
           "fill": "toself",
           "marker": {
            "color": "#1f78b4"
           },
           "mode": "lines",
           "name": "1",
           "showlegend": true,
           "type": "scatter",
           "x": [
            8.856440544128418,
            8.856440544128418,
            7.578935146331787,
            7.578935146331787,
            8.856440544128418
           ],
           "y": [
            -1.062587857246399,
            2.0476019382476807,
            2.0476019382476807,
            -1.062587857246399,
            -1.062587857246399
           ]
          },
          {
           "fill": "toself",
           "marker": {
            "color": "#b2df8a"
           },
           "mode": "lines",
           "name": "2",
           "showlegend": true,
           "type": "scatter",
           "x": [
            8.729334831237793,
            8.729334831237793,
            11.756780624389648,
            11.756780624389648,
            8.729334831237793
           ],
           "y": [
            3.3967838287353516,
            -2.4105849266052246,
            -2.4105849266052246,
            3.3967838287353516,
            3.3967838287353516
           ]
          }
         ],
         "name": "83"
        },
        {
         "data": [
          {
           "fill": "toself",
           "marker": {
            "color": "#a6cee3"
           },
           "mode": "lines",
           "name": "0",
           "showlegend": true,
           "type": "scatter",
           "x": [
            -0.9147748351097107,
            -0.9147748351097107,
            7.605188369750977,
            7.605188369750977,
            -0.9147748351097107
           ],
           "y": [
            -1.0850496292114258,
            2.0633671283721924,
            2.0633671283721924,
            -1.0850496292114258,
            -1.0850496292114258
           ]
          },
          {
           "fill": "toself",
           "marker": {
            "color": "#1f78b4"
           },
           "mode": "lines",
           "name": "1",
           "showlegend": true,
           "type": "scatter",
           "x": [
            8.895402908325195,
            8.895402908325195,
            7.5690107345581055,
            7.5690107345581055,
            8.895402908325195
           ],
           "y": [
            -1.065727949142456,
            2.050797700881958,
            2.050797700881958,
            -1.065727949142456,
            -1.065727949142456
           ]
          },
          {
           "fill": "toself",
           "marker": {
            "color": "#b2df8a"
           },
           "mode": "lines",
           "name": "2",
           "showlegend": true,
           "type": "scatter",
           "x": [
            8.7884521484375,
            8.7884521484375,
            11.812321662902832,
            11.812321662902832,
            8.7884521484375
           ],
           "y": [
            3.4227495193481445,
            -2.4365899562835693,
            -2.4365899562835693,
            3.4227495193481445,
            3.4227495193481445
           ]
          }
         ],
         "name": "84"
        },
        {
         "data": [
          {
           "fill": "toself",
           "marker": {
            "color": "#a6cee3"
           },
           "mode": "lines",
           "name": "0",
           "showlegend": true,
           "type": "scatter",
           "x": [
            -0.9150667190551758,
            -0.9150667190551758,
            7.594279766082764,
            7.594279766082764,
            -0.9150667190551758
           ],
           "y": [
            -1.0851449966430664,
            2.063462495803833,
            2.063462495803833,
            -1.0851449966430664,
            -1.0851449966430664
           ]
          },
          {
           "fill": "toself",
           "marker": {
            "color": "#1f78b4"
           },
           "mode": "lines",
           "name": "1",
           "showlegend": true,
           "type": "scatter",
           "x": [
            8.934408187866211,
            8.934408187866211,
            7.559004306793213,
            7.559004306793213,
            8.934408187866211
           ],
           "y": [
            -1.0688507556915283,
            2.053978204727173,
            2.053978204727173,
            -1.0688507556915283,
            -1.0688507556915283
           ]
          },
          {
           "fill": "toself",
           "marker": {
            "color": "#b2df8a"
           },
           "mode": "lines",
           "name": "2",
           "showlegend": true,
           "type": "scatter",
           "x": [
            8.845888137817383,
            8.845888137817383,
            11.866734504699707,
            11.866734504699707,
            8.845888137817383
           ],
           "y": [
            3.4484918117523193,
            -2.4623703956604004,
            -2.4623703956604004,
            3.4484918117523193,
            3.4484918117523193
           ]
          }
         ],
         "name": "85"
        },
        {
         "data": [
          {
           "fill": "toself",
           "marker": {
            "color": "#a6cee3"
           },
           "mode": "lines",
           "name": "0",
           "showlegend": true,
           "type": "scatter",
           "x": [
            -0.915340006351471,
            -0.915340006351471,
            7.583433628082275,
            7.583433628082275,
            -0.915340006351471
           ],
           "y": [
            -1.1092334985733032,
            2.0876786708831787,
            2.0876786708831787,
            -1.1092334985733032,
            -1.1092334985733032
           ]
          },
          {
           "fill": "toself",
           "marker": {
            "color": "#1f78b4"
           },
           "mode": "lines",
           "name": "1",
           "showlegend": true,
           "type": "scatter",
           "x": [
            8.97342300415039,
            8.97342300415039,
            7.5489182472229,
            7.5489182472229,
            8.97342300415039
           ],
           "y": [
            -1.0473569631576538,
            2.032073974609375,
            2.032073974609375,
            -1.0473569631576538,
            -1.0473569631576538
           ]
          },
          {
           "fill": "toself",
           "marker": {
            "color": "#b2df8a"
           },
           "mode": "lines",
           "name": "2",
           "showlegend": true,
           "type": "scatter",
           "x": [
            8.90191650390625,
            8.90191650390625,
            11.920127868652344,
            11.920127868652344,
            8.90191650390625
           ],
           "y": [
            3.474186897277832,
            -2.488105297088623,
            -2.488105297088623,
            3.474186897277832,
            3.474186897277832
           ]
          }
         ],
         "name": "86"
        },
        {
         "data": [
          {
           "fill": "toself",
           "marker": {
            "color": "#a6cee3"
           },
           "mode": "lines",
           "name": "0",
           "showlegend": true,
           "type": "scatter",
           "x": [
            -0.9155960083007812,
            -0.9155960083007812,
            7.572667121887207,
            7.572667121887207,
            -0.9155960083007812
           ],
           "y": [
            -1.1094424724578857,
            2.087735176086426,
            2.087735176086426,
            -1.1094424724578857,
            -1.1094424724578857
           ]
          },
          {
           "fill": "toself",
           "marker": {
            "color": "#1f78b4"
           },
           "mode": "lines",
           "name": "1",
           "showlegend": true,
           "type": "scatter",
           "x": [
            9.012523651123047,
            9.012523651123047,
            7.538755893707275,
            7.538755893707275,
            9.012523651123047
           ],
           "y": [
            -1.0492537021636963,
            2.0341665744781494,
            2.0341665744781494,
            -1.0492537021636963,
            -1.0492537021636963
           ]
          },
          {
           "fill": "toself",
           "marker": {
            "color": "#b2df8a"
           },
           "mode": "lines",
           "name": "2",
           "showlegend": true,
           "type": "scatter",
           "x": [
            8.95654296875,
            8.95654296875,
            11.972527503967285,
            11.972527503967285,
            8.95654296875
           ],
           "y": [
            3.499889850616455,
            -2.5138461589813232,
            -2.5138461589813232,
            3.499889850616455,
            3.499889850616455
           ]
          }
         ],
         "name": "87"
        },
        {
         "data": [
          {
           "fill": "toself",
           "marker": {
            "color": "#a6cee3"
           },
           "mode": "lines",
           "name": "0",
           "showlegend": true,
           "type": "scatter",
           "x": [
            -0.9158380031585693,
            -0.9158380031585693,
            7.561976432800293,
            7.561976432800293,
            -0.9158380031585693
           ],
           "y": [
            -1.109490156173706,
            2.087782859802246,
            2.087782859802246,
            -1.109490156173706,
            -1.109490156173706
           ]
          },
          {
           "fill": "toself",
           "marker": {
            "color": "#1f78b4"
           },
           "mode": "lines",
           "name": "1",
           "showlegend": true,
           "type": "scatter",
           "x": [
            9.051572799682617,
            9.051572799682617,
            7.528524875640869,
            7.528524875640869,
            9.051572799682617
           ],
           "y": [
            -1.0513041019439697,
            2.0362634658813477,
            2.0362634658813477,
            -1.0513041019439697,
            -1.0513041019439697
           ]
          },
          {
           "fill": "toself",
           "marker": {
            "color": "#b2df8a"
           },
           "mode": "lines",
           "name": "2",
           "showlegend": true,
           "type": "scatter",
           "x": [
            9.009904861450195,
            9.009904861450195,
            12.024002075195312,
            12.024002075195312,
            9.009904861450195
           ],
           "y": [
            3.525411367416382,
            -2.539405107498169,
            -2.539405107498169,
            3.525411367416382,
            3.525411367416382
           ]
          }
         ],
         "name": "88"
        },
        {
         "data": [
          {
           "fill": "toself",
           "marker": {
            "color": "#a6cee3"
           },
           "mode": "lines",
           "name": "0",
           "showlegend": true,
           "type": "scatter",
           "x": [
            -0.9160664677619934,
            -0.9160664677619934,
            7.551341533660889,
            7.551341533660889,
            -0.9160664677619934
           ],
           "y": [
            -1.1095378398895264,
            2.0878305435180664,
            2.0878305435180664,
            -1.1095378398895264,
            -1.1095378398895264
           ]
          },
          {
           "fill": "toself",
           "marker": {
            "color": "#1f78b4"
           },
           "mode": "lines",
           "name": "1",
           "showlegend": true,
           "type": "scatter",
           "x": [
            9.090578079223633,
            9.090578079223633,
            7.51822566986084,
            7.51822566986084,
            9.090578079223633
           ],
           "y": [
            -1.053343653678894,
            2.0383377075195312,
            2.0383377075195312,
            -1.053343653678894,
            -1.053343653678894
           ]
          },
          {
           "fill": "toself",
           "marker": {
            "color": "#b2df8a"
           },
           "mode": "lines",
           "name": "2",
           "showlegend": true,
           "type": "scatter",
           "x": [
            9.062158584594727,
            9.062158584594727,
            12.074627876281738,
            12.074627876281738,
            9.062158584594727
           ],
           "y": [
            3.5507652759552,
            -2.5647964477539062,
            -2.5647964477539062,
            3.5507652759552,
            3.5507652759552
           ]
          }
         ],
         "name": "89"
        },
        {
         "data": [
          {
           "fill": "toself",
           "marker": {
            "color": "#a6cee3"
           },
           "mode": "lines",
           "name": "0",
           "showlegend": true,
           "type": "scatter",
           "x": [
            -0.9162835478782654,
            -0.9162835478782654,
            7.5407586097717285,
            7.5407586097717285,
            -0.9162835478782654
           ],
           "y": [
            -1.1095855236053467,
            2.0878782272338867,
            2.0878782272338867,
            -1.1095855236053467,
            -1.1095855236053467
           ]
          },
          {
           "fill": "toself",
           "marker": {
            "color": "#1f78b4"
           },
           "mode": "lines",
           "name": "1",
           "showlegend": true,
           "type": "scatter",
           "x": [
            9.129583358764648,
            9.129583358764648,
            7.50786018371582,
            7.50786018371582,
            9.129583358764648
           ],
           "y": [
            -1.0553821325302124,
            2.040411949157715,
            2.040411949157715,
            -1.0553821325302124,
            -1.0553821325302124
           ]
          },
          {
           "fill": "toself",
           "marker": {
            "color": "#b2df8a"
           },
           "mode": "lines",
           "name": "2",
           "showlegend": true,
           "type": "scatter",
           "x": [
            9.113394737243652,
            9.113394737243652,
            12.1244535446167,
            12.1244535446167,
            9.113394737243652
           ],
           "y": [
            3.5759642124176025,
            -2.5900321006774902,
            -2.5900321006774902,
            3.5759642124176025,
            3.5759642124176025
           ]
          }
         ],
         "name": "90"
        },
        {
         "data": [
          {
           "fill": "toself",
           "marker": {
            "color": "#a6cee3"
           },
           "mode": "lines",
           "name": "0",
           "showlegend": true,
           "type": "scatter",
           "x": [
            -0.9164879322052002,
            -0.9164879322052002,
            7.530251979827881,
            7.530251979827881,
            -0.9164879322052002
           ],
           "y": [
            -1.1096272468566895,
            2.087925910949707,
            2.087925910949707,
            -1.1096272468566895,
            -1.1096272468566895
           ]
          },
          {
           "fill": "toself",
           "marker": {
            "color": "#1f78b4"
           },
           "mode": "lines",
           "name": "1",
           "showlegend": true,
           "type": "scatter",
           "x": [
            9.156271934509277,
            9.156271934509277,
            7.497452259063721,
            7.497452259063721,
            9.156271934509277
           ],
           "y": [
            -1.0574028491973877,
            2.0424768924713135,
            2.0424768924713135,
            -1.0574028491973877,
            -1.0574028491973877
           ]
          },
          {
           "fill": "toself",
           "marker": {
            "color": "#b2df8a"
           },
           "mode": "lines",
           "name": "2",
           "showlegend": true,
           "type": "scatter",
           "x": [
            9.206592559814453,
            9.206592559814453,
            12.173480033874512,
            12.173480033874512,
            9.206592559814453
           ],
           "y": [
            3.6009135246276855,
            -2.6150193214416504,
            -2.6150193214416504,
            3.6009135246276855,
            3.6009135246276855
           ]
          }
         ],
         "name": "91"
        },
        {
         "data": [
          {
           "fill": "toself",
           "marker": {
            "color": "#a6cee3"
           },
           "mode": "lines",
           "name": "0",
           "showlegend": true,
           "type": "scatter",
           "x": [
            -0.9166674613952637,
            -0.9166674613952637,
            7.520273685455322,
            7.520273685455322,
            -0.9166674613952637
           ],
           "y": [
            -1.1096630096435547,
            2.0879673957824707,
            2.0879673957824707,
            -1.1096630096435547,
            -1.1096630096435547
           ]
          },
          {
           "fill": "toself",
           "marker": {
            "color": "#1f78b4"
           },
           "mode": "lines",
           "name": "1",
           "showlegend": true,
           "type": "scatter",
           "x": [
            9.155989646911621,
            9.155989646911621,
            7.4874958992004395,
            7.4874958992004395,
            9.155989646911621
           ],
           "y": [
            -1.0592267513275146,
            2.0443382263183594,
            2.0443382263183594,
            -1.0592267513275146,
            -1.0592267513275146
           ]
          },
          {
           "fill": "toself",
           "marker": {
            "color": "#b2df8a"
           },
           "mode": "lines",
           "name": "2",
           "showlegend": true,
           "type": "scatter",
           "x": [
            9.368332862854004,
            9.368332862854004,
            12.220281600952148,
            12.220281600952148,
            9.368332862854004
           ],
           "y": [
            3.623366594314575,
            -2.6375043392181396,
            -2.6375043392181396,
            3.623366594314575,
            3.623366594314575
           ]
          }
         ],
         "name": "92"
        },
        {
         "data": [
          {
           "fill": "toself",
           "marker": {
            "color": "#a6cee3"
           },
           "mode": "lines",
           "name": "0",
           "showlegend": true,
           "type": "scatter",
           "x": [
            -0.91682368516922,
            -0.91682368516922,
            7.510889530181885,
            7.510889530181885,
            -0.91682368516922
           ],
           "y": [
            -1.10969877243042,
            2.087991237640381,
            2.087991237640381,
            -1.10969877243042,
            -1.10969877243042
           ]
          },
          {
           "fill": "toself",
           "marker": {
            "color": "#1f78b4"
           },
           "mode": "lines",
           "name": "1",
           "showlegend": true,
           "type": "scatter",
           "x": [
            9.155674934387207,
            9.155674934387207,
            7.478120803833008,
            7.478120803833008,
            9.155674934387207
           ],
           "y": [
            -1.0608174800872803,
            2.045959949493408,
            2.045959949493408,
            -1.0608174800872803,
            -1.0608174800872803
           ]
          },
          {
           "fill": "toself",
           "marker": {
            "color": "#b2df8a"
           },
           "mode": "lines",
           "name": "2",
           "showlegend": true,
           "type": "scatter",
           "x": [
            9.50395393371582,
            9.50395393371582,
            12.264659881591797,
            12.264659881591797,
            9.50395393371582
           ],
           "y": [
            3.642923355102539,
            -2.6570897102355957,
            -2.6570897102355957,
            3.642923355102539,
            3.642923355102539
           ]
          }
         ],
         "name": "93"
        },
        {
         "data": [
          {
           "fill": "toself",
           "marker": {
            "color": "#a6cee3"
           },
           "mode": "lines",
           "name": "0",
           "showlegend": true,
           "type": "scatter",
           "x": [
            -0.9169631004333496,
            -0.9169631004333496,
            7.501949310302734,
            7.501949310302734,
            -0.9169631004333496
           ],
           "y": [
            -1.10972261428833,
            2.088015079498291,
            2.088015079498291,
            -1.10972261428833,
            -1.10972261428833
           ]
          },
          {
           "fill": "toself",
           "marker": {
            "color": "#1f78b4"
           },
           "mode": "lines",
           "name": "1",
           "showlegend": true,
           "type": "scatter",
           "x": [
            9.155388832092285,
            9.155388832092285,
            7.46918249130249,
            7.46918249130249,
            9.155388832092285
           ],
           "y": [
            -1.0622411966323853,
            2.0474119186401367,
            2.0474119186401367,
            -1.0622411966323853,
            -1.0622411966323853
           ]
          },
          {
           "fill": "toself",
           "marker": {
            "color": "#b2df8a"
           },
           "mode": "lines",
           "name": "2",
           "showlegend": true,
           "type": "scatter",
           "x": [
            9.622443199157715,
            9.622443199157715,
            12.307228088378906,
            12.307228088378906,
            9.622443199157715
           ],
           "y": [
            3.660410165786743,
            -2.6746017932891846,
            -2.6746017932891846,
            3.660410165786743,
            3.660410165786743
           ]
          }
         ],
         "name": "94"
        },
        {
         "data": [
          {
           "fill": "toself",
           "marker": {
            "color": "#a6cee3"
           },
           "mode": "lines",
           "name": "0",
           "showlegend": true,
           "type": "scatter",
           "x": [
            -0.9170897603034973,
            -0.9170897603034973,
            7.493340015411377,
            7.493340015411377,
            -0.9170897603034973
           ],
           "y": [
            -1.1097464561462402,
            2.088038921356201,
            2.088038921356201,
            -1.1097464561462402,
            -1.1097464561462402
           ]
          },
          {
           "fill": "toself",
           "marker": {
            "color": "#1f78b4"
           },
           "mode": "lines",
           "name": "1",
           "showlegend": true,
           "type": "scatter",
           "x": [
            9.155102729797363,
            9.155102729797363,
            7.460592269897461,
            7.460592269897461,
            9.155102729797363
           ],
           "y": [
            -1.0635390281677246,
            2.048737049102783,
            2.048737049102783,
            -1.0635390281677246,
            -1.0635390281677246
           ]
          },
          {
           "fill": "toself",
           "marker": {
            "color": "#b2df8a"
           },
           "mode": "lines",
           "name": "2",
           "showlegend": true,
           "type": "scatter",
           "x": [
            9.728785514831543,
            9.728785514831543,
            12.348381042480469,
            12.348381042480469,
            9.728785514831543
           ],
           "y": [
            3.6763439178466797,
            -2.690559148788452,
            -2.690559148788452,
            3.6763439178466797,
            3.6763439178466797
           ]
          }
         ],
         "name": "95"
        },
        {
         "data": [
          {
           "fill": "toself",
           "marker": {
            "color": "#a6cee3"
           },
           "mode": "lines",
           "name": "0",
           "showlegend": true,
           "type": "scatter",
           "x": [
            -0.9172058701515198,
            -0.9172058701515198,
            7.486499309539795,
            7.486499309539795,
            -0.9172058701515198
           ],
           "y": [
            -1.1097702980041504,
            2.0880627632141113,
            2.0880627632141113,
            -1.1097702980041504,
            -1.1097702980041504
           ]
          },
          {
           "fill": "toself",
           "marker": {
            "color": "#1f78b4"
           },
           "mode": "lines",
           "name": "1",
           "showlegend": true,
           "type": "scatter",
           "x": [
            9.154816627502441,
            9.154816627502441,
            7.450748443603516,
            7.450748443603516,
            9.154816627502441
           ],
           "y": [
            -1.0647363662719727,
            2.049959182739258,
            2.049959182739258,
            -1.0647363662719727,
            -1.0647363662719727
           ]
          },
          {
           "fill": "toself",
           "marker": {
            "color": "#b2df8a"
           },
           "mode": "lines",
           "name": "2",
           "showlegend": true,
           "type": "scatter",
           "x": [
            9.82595157623291,
            9.82595157623291,
            12.388386726379395,
            12.388386726379395,
            9.82595157623291
           ],
           "y": [
            3.6910367012023926,
            -2.705273151397705,
            -2.705273151397705,
            3.6910367012023926,
            3.6910367012023926
           ]
          }
         ],
         "name": "96"
        },
        {
         "data": [
          {
           "fill": "toself",
           "marker": {
            "color": "#a6cee3"
           },
           "mode": "lines",
           "name": "0",
           "showlegend": true,
           "type": "scatter",
           "x": [
            -0.9173142910003662,
            -0.9173142910003662,
            7.4790778160095215,
            7.4790778160095215,
            -0.9173142910003662
           ],
           "y": [
            -1.1097941398620605,
            2.0880866050720215,
            2.0880866050720215,
            -1.1097941398620605,
            -1.1097941398620605
           ]
          },
          {
           "fill": "toself",
           "marker": {
            "color": "#1f78b4"
           },
           "mode": "lines",
           "name": "1",
           "showlegend": true,
           "type": "scatter",
           "x": [
            9.154619216918945,
            9.154619216918945,
            7.441983699798584,
            7.441983699798584,
            9.154619216918945
           ],
           "y": [
            -1.0658537149429321,
            2.051098585128784,
            2.051098585128784,
            -1.0658537149429321,
            -1.0658537149429321
           ]
          },
          {
           "fill": "toself",
           "marker": {
            "color": "#b2df8a"
           },
           "mode": "lines",
           "name": "2",
           "showlegend": true,
           "type": "scatter",
           "x": [
            9.91599178314209,
            9.91599178314209,
            12.42746353149414,
            12.42746353149414,
            9.91599178314209
           ],
           "y": [
            3.70473575592041,
            -2.718989372253418,
            -2.718989372253418,
            3.70473575592041,
            3.70473575592041
           ]
          }
         ],
         "name": "97"
        },
        {
         "data": [
          {
           "fill": "toself",
           "marker": {
            "color": "#a6cee3"
           },
           "mode": "lines",
           "name": "0",
           "showlegend": true,
           "type": "scatter",
           "x": [
            -0.91741544008255,
            -0.91741544008255,
            7.471155166625977,
            7.471155166625977,
            -0.91741544008255
           ],
           "y": [
            -1.1098179817199707,
            2.0881104469299316,
            2.0881104469299316,
            -1.1098179817199707,
            -1.1098179817199707
           ]
          },
          {
           "fill": "toself",
           "marker": {
            "color": "#1f78b4"
           },
           "mode": "lines",
           "name": "1",
           "showlegend": true,
           "type": "scatter",
           "x": [
            9.154428482055664,
            9.154428482055664,
            7.434114456176758,
            7.434114456176758,
            9.154428482055664
           ],
           "y": [
            -1.0669023990631104,
            2.052168607711792,
            2.052168607711792,
            -1.0669023990631104,
            -1.0669023990631104
           ]
          },
          {
           "fill": "toself",
           "marker": {
            "color": "#b2df8a"
           },
           "mode": "lines",
           "name": "2",
           "showlegend": true,
           "type": "scatter",
           "x": [
            10.00020980834961,
            10.00020980834961,
            12.465733528137207,
            12.465733528137207,
            10.00020980834961
           ],
           "y": [
            3.717587947845459,
            -2.731860637664795,
            -2.731860637664795,
            3.717587947845459,
            3.717587947845459
           ]
          }
         ],
         "name": "98"
        },
        {
         "data": [
          {
           "fill": "toself",
           "marker": {
            "color": "#a6cee3"
           },
           "mode": "lines",
           "name": "0",
           "showlegend": true,
           "type": "scatter",
           "x": [
            -0.9175108075141907,
            -0.9175108075141907,
            7.463393211364746,
            7.463393211364746,
            -0.9175108075141907
           ],
           "y": [
            -1.1098418235778809,
            2.088134288787842,
            2.088134288787842,
            -1.1098418235778809,
            -1.1098418235778809
           ]
          },
          {
           "fill": "toself",
           "marker": {
            "color": "#1f78b4"
           },
           "mode": "lines",
           "name": "1",
           "showlegend": true,
           "type": "scatter",
           "x": [
            9.154237747192383,
            9.154237747192383,
            7.426403522491455,
            7.426403522491455,
            9.154237747192383
           ],
           "y": [
            -1.067893385887146,
            2.053180694580078,
            2.053180694580078,
            -1.067893385887146,
            -1.067893385887146
           ]
          },
          {
           "fill": "toself",
           "marker": {
            "color": "#b2df8a"
           },
           "mode": "lines",
           "name": "2",
           "showlegend": true,
           "type": "scatter",
           "x": [
            10.079645156860352,
            10.079645156860352,
            12.503341674804688,
            12.503341674804688,
            10.079645156860352
           ],
           "y": [
            3.7297401428222656,
            -2.7440309524536133,
            -2.7440309524536133,
            3.7297401428222656,
            3.7297401428222656
           ]
          }
         ],
         "name": "99"
        }
       ],
       "layout": {
        "autosize": true,
        "height": 600,
        "sliders": [
         {
          "active": 0,
          "currentvalue": {
           "font": {
            "size": 20
           },
           "prefix": "Step:",
           "visible": true,
           "xanchor": "right"
          },
          "len": 0.9,
          "pad": {
           "b": 10,
           "t": 50
          },
          "steps": [
           {
            "args": [
             [
              "0"
             ],
             {
              "frame": {
               "duration": 300,
               "redraw": false
              },
              "mode": "immediate",
              "transition": {
               "duration": 300,
               "easing": "linear"
              }
             }
            ],
            "label": "0",
            "method": "animate"
           },
           {
            "args": [
             [
              "1"
             ],
             {
              "frame": {
               "duration": 300,
               "redraw": false
              },
              "mode": "immediate",
              "transition": {
               "duration": 300,
               "easing": "linear"
              }
             }
            ],
            "label": "1",
            "method": "animate"
           },
           {
            "args": [
             [
              "2"
             ],
             {
              "frame": {
               "duration": 300,
               "redraw": false
              },
              "mode": "immediate",
              "transition": {
               "duration": 300,
               "easing": "linear"
              }
             }
            ],
            "label": "2",
            "method": "animate"
           },
           {
            "args": [
             [
              "3"
             ],
             {
              "frame": {
               "duration": 300,
               "redraw": false
              },
              "mode": "immediate",
              "transition": {
               "duration": 300,
               "easing": "linear"
              }
             }
            ],
            "label": "3",
            "method": "animate"
           },
           {
            "args": [
             [
              "4"
             ],
             {
              "frame": {
               "duration": 300,
               "redraw": false
              },
              "mode": "immediate",
              "transition": {
               "duration": 300,
               "easing": "linear"
              }
             }
            ],
            "label": "4",
            "method": "animate"
           },
           {
            "args": [
             [
              "5"
             ],
             {
              "frame": {
               "duration": 300,
               "redraw": false
              },
              "mode": "immediate",
              "transition": {
               "duration": 300,
               "easing": "linear"
              }
             }
            ],
            "label": "5",
            "method": "animate"
           },
           {
            "args": [
             [
              "6"
             ],
             {
              "frame": {
               "duration": 300,
               "redraw": false
              },
              "mode": "immediate",
              "transition": {
               "duration": 300,
               "easing": "linear"
              }
             }
            ],
            "label": "6",
            "method": "animate"
           },
           {
            "args": [
             [
              "7"
             ],
             {
              "frame": {
               "duration": 300,
               "redraw": false
              },
              "mode": "immediate",
              "transition": {
               "duration": 300,
               "easing": "linear"
              }
             }
            ],
            "label": "7",
            "method": "animate"
           },
           {
            "args": [
             [
              "8"
             ],
             {
              "frame": {
               "duration": 300,
               "redraw": false
              },
              "mode": "immediate",
              "transition": {
               "duration": 300,
               "easing": "linear"
              }
             }
            ],
            "label": "8",
            "method": "animate"
           },
           {
            "args": [
             [
              "9"
             ],
             {
              "frame": {
               "duration": 300,
               "redraw": false
              },
              "mode": "immediate",
              "transition": {
               "duration": 300,
               "easing": "linear"
              }
             }
            ],
            "label": "9",
            "method": "animate"
           },
           {
            "args": [
             [
              "10"
             ],
             {
              "frame": {
               "duration": 300,
               "redraw": false
              },
              "mode": "immediate",
              "transition": {
               "duration": 300,
               "easing": "linear"
              }
             }
            ],
            "label": "10",
            "method": "animate"
           },
           {
            "args": [
             [
              "11"
             ],
             {
              "frame": {
               "duration": 300,
               "redraw": false
              },
              "mode": "immediate",
              "transition": {
               "duration": 300,
               "easing": "linear"
              }
             }
            ],
            "label": "11",
            "method": "animate"
           },
           {
            "args": [
             [
              "12"
             ],
             {
              "frame": {
               "duration": 300,
               "redraw": false
              },
              "mode": "immediate",
              "transition": {
               "duration": 300,
               "easing": "linear"
              }
             }
            ],
            "label": "12",
            "method": "animate"
           },
           {
            "args": [
             [
              "13"
             ],
             {
              "frame": {
               "duration": 300,
               "redraw": false
              },
              "mode": "immediate",
              "transition": {
               "duration": 300,
               "easing": "linear"
              }
             }
            ],
            "label": "13",
            "method": "animate"
           },
           {
            "args": [
             [
              "14"
             ],
             {
              "frame": {
               "duration": 300,
               "redraw": false
              },
              "mode": "immediate",
              "transition": {
               "duration": 300,
               "easing": "linear"
              }
             }
            ],
            "label": "14",
            "method": "animate"
           },
           {
            "args": [
             [
              "15"
             ],
             {
              "frame": {
               "duration": 300,
               "redraw": false
              },
              "mode": "immediate",
              "transition": {
               "duration": 300,
               "easing": "linear"
              }
             }
            ],
            "label": "15",
            "method": "animate"
           },
           {
            "args": [
             [
              "16"
             ],
             {
              "frame": {
               "duration": 300,
               "redraw": false
              },
              "mode": "immediate",
              "transition": {
               "duration": 300,
               "easing": "linear"
              }
             }
            ],
            "label": "16",
            "method": "animate"
           },
           {
            "args": [
             [
              "17"
             ],
             {
              "frame": {
               "duration": 300,
               "redraw": false
              },
              "mode": "immediate",
              "transition": {
               "duration": 300,
               "easing": "linear"
              }
             }
            ],
            "label": "17",
            "method": "animate"
           },
           {
            "args": [
             [
              "18"
             ],
             {
              "frame": {
               "duration": 300,
               "redraw": false
              },
              "mode": "immediate",
              "transition": {
               "duration": 300,
               "easing": "linear"
              }
             }
            ],
            "label": "18",
            "method": "animate"
           },
           {
            "args": [
             [
              "19"
             ],
             {
              "frame": {
               "duration": 300,
               "redraw": false
              },
              "mode": "immediate",
              "transition": {
               "duration": 300,
               "easing": "linear"
              }
             }
            ],
            "label": "19",
            "method": "animate"
           },
           {
            "args": [
             [
              "20"
             ],
             {
              "frame": {
               "duration": 300,
               "redraw": false
              },
              "mode": "immediate",
              "transition": {
               "duration": 300,
               "easing": "linear"
              }
             }
            ],
            "label": "20",
            "method": "animate"
           },
           {
            "args": [
             [
              "21"
             ],
             {
              "frame": {
               "duration": 300,
               "redraw": false
              },
              "mode": "immediate",
              "transition": {
               "duration": 300,
               "easing": "linear"
              }
             }
            ],
            "label": "21",
            "method": "animate"
           },
           {
            "args": [
             [
              "22"
             ],
             {
              "frame": {
               "duration": 300,
               "redraw": false
              },
              "mode": "immediate",
              "transition": {
               "duration": 300,
               "easing": "linear"
              }
             }
            ],
            "label": "22",
            "method": "animate"
           },
           {
            "args": [
             [
              "23"
             ],
             {
              "frame": {
               "duration": 300,
               "redraw": false
              },
              "mode": "immediate",
              "transition": {
               "duration": 300,
               "easing": "linear"
              }
             }
            ],
            "label": "23",
            "method": "animate"
           },
           {
            "args": [
             [
              "24"
             ],
             {
              "frame": {
               "duration": 300,
               "redraw": false
              },
              "mode": "immediate",
              "transition": {
               "duration": 300,
               "easing": "linear"
              }
             }
            ],
            "label": "24",
            "method": "animate"
           },
           {
            "args": [
             [
              "25"
             ],
             {
              "frame": {
               "duration": 300,
               "redraw": false
              },
              "mode": "immediate",
              "transition": {
               "duration": 300,
               "easing": "linear"
              }
             }
            ],
            "label": "25",
            "method": "animate"
           },
           {
            "args": [
             [
              "26"
             ],
             {
              "frame": {
               "duration": 300,
               "redraw": false
              },
              "mode": "immediate",
              "transition": {
               "duration": 300,
               "easing": "linear"
              }
             }
            ],
            "label": "26",
            "method": "animate"
           },
           {
            "args": [
             [
              "27"
             ],
             {
              "frame": {
               "duration": 300,
               "redraw": false
              },
              "mode": "immediate",
              "transition": {
               "duration": 300,
               "easing": "linear"
              }
             }
            ],
            "label": "27",
            "method": "animate"
           },
           {
            "args": [
             [
              "28"
             ],
             {
              "frame": {
               "duration": 300,
               "redraw": false
              },
              "mode": "immediate",
              "transition": {
               "duration": 300,
               "easing": "linear"
              }
             }
            ],
            "label": "28",
            "method": "animate"
           },
           {
            "args": [
             [
              "29"
             ],
             {
              "frame": {
               "duration": 300,
               "redraw": false
              },
              "mode": "immediate",
              "transition": {
               "duration": 300,
               "easing": "linear"
              }
             }
            ],
            "label": "29",
            "method": "animate"
           },
           {
            "args": [
             [
              "30"
             ],
             {
              "frame": {
               "duration": 300,
               "redraw": false
              },
              "mode": "immediate",
              "transition": {
               "duration": 300,
               "easing": "linear"
              }
             }
            ],
            "label": "30",
            "method": "animate"
           },
           {
            "args": [
             [
              "31"
             ],
             {
              "frame": {
               "duration": 300,
               "redraw": false
              },
              "mode": "immediate",
              "transition": {
               "duration": 300,
               "easing": "linear"
              }
             }
            ],
            "label": "31",
            "method": "animate"
           },
           {
            "args": [
             [
              "32"
             ],
             {
              "frame": {
               "duration": 300,
               "redraw": false
              },
              "mode": "immediate",
              "transition": {
               "duration": 300,
               "easing": "linear"
              }
             }
            ],
            "label": "32",
            "method": "animate"
           },
           {
            "args": [
             [
              "33"
             ],
             {
              "frame": {
               "duration": 300,
               "redraw": false
              },
              "mode": "immediate",
              "transition": {
               "duration": 300,
               "easing": "linear"
              }
             }
            ],
            "label": "33",
            "method": "animate"
           },
           {
            "args": [
             [
              "34"
             ],
             {
              "frame": {
               "duration": 300,
               "redraw": false
              },
              "mode": "immediate",
              "transition": {
               "duration": 300,
               "easing": "linear"
              }
             }
            ],
            "label": "34",
            "method": "animate"
           },
           {
            "args": [
             [
              "35"
             ],
             {
              "frame": {
               "duration": 300,
               "redraw": false
              },
              "mode": "immediate",
              "transition": {
               "duration": 300,
               "easing": "linear"
              }
             }
            ],
            "label": "35",
            "method": "animate"
           },
           {
            "args": [
             [
              "36"
             ],
             {
              "frame": {
               "duration": 300,
               "redraw": false
              },
              "mode": "immediate",
              "transition": {
               "duration": 300,
               "easing": "linear"
              }
             }
            ],
            "label": "36",
            "method": "animate"
           },
           {
            "args": [
             [
              "37"
             ],
             {
              "frame": {
               "duration": 300,
               "redraw": false
              },
              "mode": "immediate",
              "transition": {
               "duration": 300,
               "easing": "linear"
              }
             }
            ],
            "label": "37",
            "method": "animate"
           },
           {
            "args": [
             [
              "38"
             ],
             {
              "frame": {
               "duration": 300,
               "redraw": false
              },
              "mode": "immediate",
              "transition": {
               "duration": 300,
               "easing": "linear"
              }
             }
            ],
            "label": "38",
            "method": "animate"
           },
           {
            "args": [
             [
              "39"
             ],
             {
              "frame": {
               "duration": 300,
               "redraw": false
              },
              "mode": "immediate",
              "transition": {
               "duration": 300,
               "easing": "linear"
              }
             }
            ],
            "label": "39",
            "method": "animate"
           },
           {
            "args": [
             [
              "40"
             ],
             {
              "frame": {
               "duration": 300,
               "redraw": false
              },
              "mode": "immediate",
              "transition": {
               "duration": 300,
               "easing": "linear"
              }
             }
            ],
            "label": "40",
            "method": "animate"
           },
           {
            "args": [
             [
              "41"
             ],
             {
              "frame": {
               "duration": 300,
               "redraw": false
              },
              "mode": "immediate",
              "transition": {
               "duration": 300,
               "easing": "linear"
              }
             }
            ],
            "label": "41",
            "method": "animate"
           },
           {
            "args": [
             [
              "42"
             ],
             {
              "frame": {
               "duration": 300,
               "redraw": false
              },
              "mode": "immediate",
              "transition": {
               "duration": 300,
               "easing": "linear"
              }
             }
            ],
            "label": "42",
            "method": "animate"
           },
           {
            "args": [
             [
              "43"
             ],
             {
              "frame": {
               "duration": 300,
               "redraw": false
              },
              "mode": "immediate",
              "transition": {
               "duration": 300,
               "easing": "linear"
              }
             }
            ],
            "label": "43",
            "method": "animate"
           },
           {
            "args": [
             [
              "44"
             ],
             {
              "frame": {
               "duration": 300,
               "redraw": false
              },
              "mode": "immediate",
              "transition": {
               "duration": 300,
               "easing": "linear"
              }
             }
            ],
            "label": "44",
            "method": "animate"
           },
           {
            "args": [
             [
              "45"
             ],
             {
              "frame": {
               "duration": 300,
               "redraw": false
              },
              "mode": "immediate",
              "transition": {
               "duration": 300,
               "easing": "linear"
              }
             }
            ],
            "label": "45",
            "method": "animate"
           },
           {
            "args": [
             [
              "46"
             ],
             {
              "frame": {
               "duration": 300,
               "redraw": false
              },
              "mode": "immediate",
              "transition": {
               "duration": 300,
               "easing": "linear"
              }
             }
            ],
            "label": "46",
            "method": "animate"
           },
           {
            "args": [
             [
              "47"
             ],
             {
              "frame": {
               "duration": 300,
               "redraw": false
              },
              "mode": "immediate",
              "transition": {
               "duration": 300,
               "easing": "linear"
              }
             }
            ],
            "label": "47",
            "method": "animate"
           },
           {
            "args": [
             [
              "48"
             ],
             {
              "frame": {
               "duration": 300,
               "redraw": false
              },
              "mode": "immediate",
              "transition": {
               "duration": 300,
               "easing": "linear"
              }
             }
            ],
            "label": "48",
            "method": "animate"
           },
           {
            "args": [
             [
              "49"
             ],
             {
              "frame": {
               "duration": 300,
               "redraw": false
              },
              "mode": "immediate",
              "transition": {
               "duration": 300,
               "easing": "linear"
              }
             }
            ],
            "label": "49",
            "method": "animate"
           },
           {
            "args": [
             [
              "50"
             ],
             {
              "frame": {
               "duration": 300,
               "redraw": false
              },
              "mode": "immediate",
              "transition": {
               "duration": 300,
               "easing": "linear"
              }
             }
            ],
            "label": "50",
            "method": "animate"
           },
           {
            "args": [
             [
              "51"
             ],
             {
              "frame": {
               "duration": 300,
               "redraw": false
              },
              "mode": "immediate",
              "transition": {
               "duration": 300,
               "easing": "linear"
              }
             }
            ],
            "label": "51",
            "method": "animate"
           },
           {
            "args": [
             [
              "52"
             ],
             {
              "frame": {
               "duration": 300,
               "redraw": false
              },
              "mode": "immediate",
              "transition": {
               "duration": 300,
               "easing": "linear"
              }
             }
            ],
            "label": "52",
            "method": "animate"
           },
           {
            "args": [
             [
              "53"
             ],
             {
              "frame": {
               "duration": 300,
               "redraw": false
              },
              "mode": "immediate",
              "transition": {
               "duration": 300,
               "easing": "linear"
              }
             }
            ],
            "label": "53",
            "method": "animate"
           },
           {
            "args": [
             [
              "54"
             ],
             {
              "frame": {
               "duration": 300,
               "redraw": false
              },
              "mode": "immediate",
              "transition": {
               "duration": 300,
               "easing": "linear"
              }
             }
            ],
            "label": "54",
            "method": "animate"
           },
           {
            "args": [
             [
              "55"
             ],
             {
              "frame": {
               "duration": 300,
               "redraw": false
              },
              "mode": "immediate",
              "transition": {
               "duration": 300,
               "easing": "linear"
              }
             }
            ],
            "label": "55",
            "method": "animate"
           },
           {
            "args": [
             [
              "56"
             ],
             {
              "frame": {
               "duration": 300,
               "redraw": false
              },
              "mode": "immediate",
              "transition": {
               "duration": 300,
               "easing": "linear"
              }
             }
            ],
            "label": "56",
            "method": "animate"
           },
           {
            "args": [
             [
              "57"
             ],
             {
              "frame": {
               "duration": 300,
               "redraw": false
              },
              "mode": "immediate",
              "transition": {
               "duration": 300,
               "easing": "linear"
              }
             }
            ],
            "label": "57",
            "method": "animate"
           },
           {
            "args": [
             [
              "58"
             ],
             {
              "frame": {
               "duration": 300,
               "redraw": false
              },
              "mode": "immediate",
              "transition": {
               "duration": 300,
               "easing": "linear"
              }
             }
            ],
            "label": "58",
            "method": "animate"
           },
           {
            "args": [
             [
              "59"
             ],
             {
              "frame": {
               "duration": 300,
               "redraw": false
              },
              "mode": "immediate",
              "transition": {
               "duration": 300,
               "easing": "linear"
              }
             }
            ],
            "label": "59",
            "method": "animate"
           },
           {
            "args": [
             [
              "60"
             ],
             {
              "frame": {
               "duration": 300,
               "redraw": false
              },
              "mode": "immediate",
              "transition": {
               "duration": 300,
               "easing": "linear"
              }
             }
            ],
            "label": "60",
            "method": "animate"
           },
           {
            "args": [
             [
              "61"
             ],
             {
              "frame": {
               "duration": 300,
               "redraw": false
              },
              "mode": "immediate",
              "transition": {
               "duration": 300,
               "easing": "linear"
              }
             }
            ],
            "label": "61",
            "method": "animate"
           },
           {
            "args": [
             [
              "62"
             ],
             {
              "frame": {
               "duration": 300,
               "redraw": false
              },
              "mode": "immediate",
              "transition": {
               "duration": 300,
               "easing": "linear"
              }
             }
            ],
            "label": "62",
            "method": "animate"
           },
           {
            "args": [
             [
              "63"
             ],
             {
              "frame": {
               "duration": 300,
               "redraw": false
              },
              "mode": "immediate",
              "transition": {
               "duration": 300,
               "easing": "linear"
              }
             }
            ],
            "label": "63",
            "method": "animate"
           },
           {
            "args": [
             [
              "64"
             ],
             {
              "frame": {
               "duration": 300,
               "redraw": false
              },
              "mode": "immediate",
              "transition": {
               "duration": 300,
               "easing": "linear"
              }
             }
            ],
            "label": "64",
            "method": "animate"
           },
           {
            "args": [
             [
              "65"
             ],
             {
              "frame": {
               "duration": 300,
               "redraw": false
              },
              "mode": "immediate",
              "transition": {
               "duration": 300,
               "easing": "linear"
              }
             }
            ],
            "label": "65",
            "method": "animate"
           },
           {
            "args": [
             [
              "66"
             ],
             {
              "frame": {
               "duration": 300,
               "redraw": false
              },
              "mode": "immediate",
              "transition": {
               "duration": 300,
               "easing": "linear"
              }
             }
            ],
            "label": "66",
            "method": "animate"
           },
           {
            "args": [
             [
              "67"
             ],
             {
              "frame": {
               "duration": 300,
               "redraw": false
              },
              "mode": "immediate",
              "transition": {
               "duration": 300,
               "easing": "linear"
              }
             }
            ],
            "label": "67",
            "method": "animate"
           },
           {
            "args": [
             [
              "68"
             ],
             {
              "frame": {
               "duration": 300,
               "redraw": false
              },
              "mode": "immediate",
              "transition": {
               "duration": 300,
               "easing": "linear"
              }
             }
            ],
            "label": "68",
            "method": "animate"
           },
           {
            "args": [
             [
              "69"
             ],
             {
              "frame": {
               "duration": 300,
               "redraw": false
              },
              "mode": "immediate",
              "transition": {
               "duration": 300,
               "easing": "linear"
              }
             }
            ],
            "label": "69",
            "method": "animate"
           },
           {
            "args": [
             [
              "70"
             ],
             {
              "frame": {
               "duration": 300,
               "redraw": false
              },
              "mode": "immediate",
              "transition": {
               "duration": 300,
               "easing": "linear"
              }
             }
            ],
            "label": "70",
            "method": "animate"
           },
           {
            "args": [
             [
              "71"
             ],
             {
              "frame": {
               "duration": 300,
               "redraw": false
              },
              "mode": "immediate",
              "transition": {
               "duration": 300,
               "easing": "linear"
              }
             }
            ],
            "label": "71",
            "method": "animate"
           },
           {
            "args": [
             [
              "72"
             ],
             {
              "frame": {
               "duration": 300,
               "redraw": false
              },
              "mode": "immediate",
              "transition": {
               "duration": 300,
               "easing": "linear"
              }
             }
            ],
            "label": "72",
            "method": "animate"
           },
           {
            "args": [
             [
              "73"
             ],
             {
              "frame": {
               "duration": 300,
               "redraw": false
              },
              "mode": "immediate",
              "transition": {
               "duration": 300,
               "easing": "linear"
              }
             }
            ],
            "label": "73",
            "method": "animate"
           },
           {
            "args": [
             [
              "74"
             ],
             {
              "frame": {
               "duration": 300,
               "redraw": false
              },
              "mode": "immediate",
              "transition": {
               "duration": 300,
               "easing": "linear"
              }
             }
            ],
            "label": "74",
            "method": "animate"
           },
           {
            "args": [
             [
              "75"
             ],
             {
              "frame": {
               "duration": 300,
               "redraw": false
              },
              "mode": "immediate",
              "transition": {
               "duration": 300,
               "easing": "linear"
              }
             }
            ],
            "label": "75",
            "method": "animate"
           },
           {
            "args": [
             [
              "76"
             ],
             {
              "frame": {
               "duration": 300,
               "redraw": false
              },
              "mode": "immediate",
              "transition": {
               "duration": 300,
               "easing": "linear"
              }
             }
            ],
            "label": "76",
            "method": "animate"
           },
           {
            "args": [
             [
              "77"
             ],
             {
              "frame": {
               "duration": 300,
               "redraw": false
              },
              "mode": "immediate",
              "transition": {
               "duration": 300,
               "easing": "linear"
              }
             }
            ],
            "label": "77",
            "method": "animate"
           },
           {
            "args": [
             [
              "78"
             ],
             {
              "frame": {
               "duration": 300,
               "redraw": false
              },
              "mode": "immediate",
              "transition": {
               "duration": 300,
               "easing": "linear"
              }
             }
            ],
            "label": "78",
            "method": "animate"
           },
           {
            "args": [
             [
              "79"
             ],
             {
              "frame": {
               "duration": 300,
               "redraw": false
              },
              "mode": "immediate",
              "transition": {
               "duration": 300,
               "easing": "linear"
              }
             }
            ],
            "label": "79",
            "method": "animate"
           },
           {
            "args": [
             [
              "80"
             ],
             {
              "frame": {
               "duration": 300,
               "redraw": false
              },
              "mode": "immediate",
              "transition": {
               "duration": 300,
               "easing": "linear"
              }
             }
            ],
            "label": "80",
            "method": "animate"
           },
           {
            "args": [
             [
              "81"
             ],
             {
              "frame": {
               "duration": 300,
               "redraw": false
              },
              "mode": "immediate",
              "transition": {
               "duration": 300,
               "easing": "linear"
              }
             }
            ],
            "label": "81",
            "method": "animate"
           },
           {
            "args": [
             [
              "82"
             ],
             {
              "frame": {
               "duration": 300,
               "redraw": false
              },
              "mode": "immediate",
              "transition": {
               "duration": 300,
               "easing": "linear"
              }
             }
            ],
            "label": "82",
            "method": "animate"
           },
           {
            "args": [
             [
              "83"
             ],
             {
              "frame": {
               "duration": 300,
               "redraw": false
              },
              "mode": "immediate",
              "transition": {
               "duration": 300,
               "easing": "linear"
              }
             }
            ],
            "label": "83",
            "method": "animate"
           },
           {
            "args": [
             [
              "84"
             ],
             {
              "frame": {
               "duration": 300,
               "redraw": false
              },
              "mode": "immediate",
              "transition": {
               "duration": 300,
               "easing": "linear"
              }
             }
            ],
            "label": "84",
            "method": "animate"
           },
           {
            "args": [
             [
              "85"
             ],
             {
              "frame": {
               "duration": 300,
               "redraw": false
              },
              "mode": "immediate",
              "transition": {
               "duration": 300,
               "easing": "linear"
              }
             }
            ],
            "label": "85",
            "method": "animate"
           },
           {
            "args": [
             [
              "86"
             ],
             {
              "frame": {
               "duration": 300,
               "redraw": false
              },
              "mode": "immediate",
              "transition": {
               "duration": 300,
               "easing": "linear"
              }
             }
            ],
            "label": "86",
            "method": "animate"
           },
           {
            "args": [
             [
              "87"
             ],
             {
              "frame": {
               "duration": 300,
               "redraw": false
              },
              "mode": "immediate",
              "transition": {
               "duration": 300,
               "easing": "linear"
              }
             }
            ],
            "label": "87",
            "method": "animate"
           },
           {
            "args": [
             [
              "88"
             ],
             {
              "frame": {
               "duration": 300,
               "redraw": false
              },
              "mode": "immediate",
              "transition": {
               "duration": 300,
               "easing": "linear"
              }
             }
            ],
            "label": "88",
            "method": "animate"
           },
           {
            "args": [
             [
              "89"
             ],
             {
              "frame": {
               "duration": 300,
               "redraw": false
              },
              "mode": "immediate",
              "transition": {
               "duration": 300,
               "easing": "linear"
              }
             }
            ],
            "label": "89",
            "method": "animate"
           },
           {
            "args": [
             [
              "90"
             ],
             {
              "frame": {
               "duration": 300,
               "redraw": false
              },
              "mode": "immediate",
              "transition": {
               "duration": 300,
               "easing": "linear"
              }
             }
            ],
            "label": "90",
            "method": "animate"
           },
           {
            "args": [
             [
              "91"
             ],
             {
              "frame": {
               "duration": 300,
               "redraw": false
              },
              "mode": "immediate",
              "transition": {
               "duration": 300,
               "easing": "linear"
              }
             }
            ],
            "label": "91",
            "method": "animate"
           },
           {
            "args": [
             [
              "92"
             ],
             {
              "frame": {
               "duration": 300,
               "redraw": false
              },
              "mode": "immediate",
              "transition": {
               "duration": 300,
               "easing": "linear"
              }
             }
            ],
            "label": "92",
            "method": "animate"
           },
           {
            "args": [
             [
              "93"
             ],
             {
              "frame": {
               "duration": 300,
               "redraw": false
              },
              "mode": "immediate",
              "transition": {
               "duration": 300,
               "easing": "linear"
              }
             }
            ],
            "label": "93",
            "method": "animate"
           },
           {
            "args": [
             [
              "94"
             ],
             {
              "frame": {
               "duration": 300,
               "redraw": false
              },
              "mode": "immediate",
              "transition": {
               "duration": 300,
               "easing": "linear"
              }
             }
            ],
            "label": "94",
            "method": "animate"
           },
           {
            "args": [
             [
              "95"
             ],
             {
              "frame": {
               "duration": 300,
               "redraw": false
              },
              "mode": "immediate",
              "transition": {
               "duration": 300,
               "easing": "linear"
              }
             }
            ],
            "label": "95",
            "method": "animate"
           },
           {
            "args": [
             [
              "96"
             ],
             {
              "frame": {
               "duration": 300,
               "redraw": false
              },
              "mode": "immediate",
              "transition": {
               "duration": 300,
               "easing": "linear"
              }
             }
            ],
            "label": "96",
            "method": "animate"
           },
           {
            "args": [
             [
              "97"
             ],
             {
              "frame": {
               "duration": 300,
               "redraw": false
              },
              "mode": "immediate",
              "transition": {
               "duration": 300,
               "easing": "linear"
              }
             }
            ],
            "label": "97",
            "method": "animate"
           },
           {
            "args": [
             [
              "98"
             ],
             {
              "frame": {
               "duration": 300,
               "redraw": false
              },
              "mode": "immediate",
              "transition": {
               "duration": 300,
               "easing": "linear"
              }
             }
            ],
            "label": "98",
            "method": "animate"
           },
           {
            "args": [
             [
              "99"
             ],
             {
              "frame": {
               "duration": 300,
               "redraw": false
              },
              "mode": "immediate",
              "transition": {
               "duration": 300,
               "easing": "linear"
              }
             }
            ],
            "label": "99",
            "method": "animate"
           }
          ],
          "transition": {
           "duration": 300,
           "easing": "linear"
          },
          "x": 0.1,
          "xanchor": "left",
          "y": 0,
          "yanchor": "top"
         }
        ],
        "template": {
         "data": {
          "bar": [
           {
            "error_x": {
             "color": "#2a3f5f"
            },
            "error_y": {
             "color": "#2a3f5f"
            },
            "marker": {
             "line": {
              "color": "#E5ECF6",
              "width": 0.5
             }
            },
            "type": "bar"
           }
          ],
          "barpolar": [
           {
            "marker": {
             "line": {
              "color": "#E5ECF6",
              "width": 0.5
             }
            },
            "type": "barpolar"
           }
          ],
          "carpet": [
           {
            "aaxis": {
             "endlinecolor": "#2a3f5f",
             "gridcolor": "white",
             "linecolor": "white",
             "minorgridcolor": "white",
             "startlinecolor": "#2a3f5f"
            },
            "baxis": {
             "endlinecolor": "#2a3f5f",
             "gridcolor": "white",
             "linecolor": "white",
             "minorgridcolor": "white",
             "startlinecolor": "#2a3f5f"
            },
            "type": "carpet"
           }
          ],
          "choropleth": [
           {
            "colorbar": {
             "outlinewidth": 0,
             "ticks": ""
            },
            "type": "choropleth"
           }
          ],
          "contour": [
           {
            "colorbar": {
             "outlinewidth": 0,
             "ticks": ""
            },
            "colorscale": [
             [
              0,
              "#0d0887"
             ],
             [
              0.1111111111111111,
              "#46039f"
             ],
             [
              0.2222222222222222,
              "#7201a8"
             ],
             [
              0.3333333333333333,
              "#9c179e"
             ],
             [
              0.4444444444444444,
              "#bd3786"
             ],
             [
              0.5555555555555556,
              "#d8576b"
             ],
             [
              0.6666666666666666,
              "#ed7953"
             ],
             [
              0.7777777777777778,
              "#fb9f3a"
             ],
             [
              0.8888888888888888,
              "#fdca26"
             ],
             [
              1,
              "#f0f921"
             ]
            ],
            "type": "contour"
           }
          ],
          "contourcarpet": [
           {
            "colorbar": {
             "outlinewidth": 0,
             "ticks": ""
            },
            "type": "contourcarpet"
           }
          ],
          "heatmap": [
           {
            "colorbar": {
             "outlinewidth": 0,
             "ticks": ""
            },
            "colorscale": [
             [
              0,
              "#0d0887"
             ],
             [
              0.1111111111111111,
              "#46039f"
             ],
             [
              0.2222222222222222,
              "#7201a8"
             ],
             [
              0.3333333333333333,
              "#9c179e"
             ],
             [
              0.4444444444444444,
              "#bd3786"
             ],
             [
              0.5555555555555556,
              "#d8576b"
             ],
             [
              0.6666666666666666,
              "#ed7953"
             ],
             [
              0.7777777777777778,
              "#fb9f3a"
             ],
             [
              0.8888888888888888,
              "#fdca26"
             ],
             [
              1,
              "#f0f921"
             ]
            ],
            "type": "heatmap"
           }
          ],
          "heatmapgl": [
           {
            "colorbar": {
             "outlinewidth": 0,
             "ticks": ""
            },
            "colorscale": [
             [
              0,
              "#0d0887"
             ],
             [
              0.1111111111111111,
              "#46039f"
             ],
             [
              0.2222222222222222,
              "#7201a8"
             ],
             [
              0.3333333333333333,
              "#9c179e"
             ],
             [
              0.4444444444444444,
              "#bd3786"
             ],
             [
              0.5555555555555556,
              "#d8576b"
             ],
             [
              0.6666666666666666,
              "#ed7953"
             ],
             [
              0.7777777777777778,
              "#fb9f3a"
             ],
             [
              0.8888888888888888,
              "#fdca26"
             ],
             [
              1,
              "#f0f921"
             ]
            ],
            "type": "heatmapgl"
           }
          ],
          "histogram": [
           {
            "marker": {
             "colorbar": {
              "outlinewidth": 0,
              "ticks": ""
             }
            },
            "type": "histogram"
           }
          ],
          "histogram2d": [
           {
            "colorbar": {
             "outlinewidth": 0,
             "ticks": ""
            },
            "colorscale": [
             [
              0,
              "#0d0887"
             ],
             [
              0.1111111111111111,
              "#46039f"
             ],
             [
              0.2222222222222222,
              "#7201a8"
             ],
             [
              0.3333333333333333,
              "#9c179e"
             ],
             [
              0.4444444444444444,
              "#bd3786"
             ],
             [
              0.5555555555555556,
              "#d8576b"
             ],
             [
              0.6666666666666666,
              "#ed7953"
             ],
             [
              0.7777777777777778,
              "#fb9f3a"
             ],
             [
              0.8888888888888888,
              "#fdca26"
             ],
             [
              1,
              "#f0f921"
             ]
            ],
            "type": "histogram2d"
           }
          ],
          "histogram2dcontour": [
           {
            "colorbar": {
             "outlinewidth": 0,
             "ticks": ""
            },
            "colorscale": [
             [
              0,
              "#0d0887"
             ],
             [
              0.1111111111111111,
              "#46039f"
             ],
             [
              0.2222222222222222,
              "#7201a8"
             ],
             [
              0.3333333333333333,
              "#9c179e"
             ],
             [
              0.4444444444444444,
              "#bd3786"
             ],
             [
              0.5555555555555556,
              "#d8576b"
             ],
             [
              0.6666666666666666,
              "#ed7953"
             ],
             [
              0.7777777777777778,
              "#fb9f3a"
             ],
             [
              0.8888888888888888,
              "#fdca26"
             ],
             [
              1,
              "#f0f921"
             ]
            ],
            "type": "histogram2dcontour"
           }
          ],
          "mesh3d": [
           {
            "colorbar": {
             "outlinewidth": 0,
             "ticks": ""
            },
            "type": "mesh3d"
           }
          ],
          "parcoords": [
           {
            "line": {
             "colorbar": {
              "outlinewidth": 0,
              "ticks": ""
             }
            },
            "type": "parcoords"
           }
          ],
          "scatter": [
           {
            "marker": {
             "colorbar": {
              "outlinewidth": 0,
              "ticks": ""
             }
            },
            "type": "scatter"
           }
          ],
          "scatter3d": [
           {
            "line": {
             "colorbar": {
              "outlinewidth": 0,
              "ticks": ""
             }
            },
            "marker": {
             "colorbar": {
              "outlinewidth": 0,
              "ticks": ""
             }
            },
            "type": "scatter3d"
           }
          ],
          "scattercarpet": [
           {
            "marker": {
             "colorbar": {
              "outlinewidth": 0,
              "ticks": ""
             }
            },
            "type": "scattercarpet"
           }
          ],
          "scattergeo": [
           {
            "marker": {
             "colorbar": {
              "outlinewidth": 0,
              "ticks": ""
             }
            },
            "type": "scattergeo"
           }
          ],
          "scattergl": [
           {
            "marker": {
             "colorbar": {
              "outlinewidth": 0,
              "ticks": ""
             }
            },
            "type": "scattergl"
           }
          ],
          "scattermapbox": [
           {
            "marker": {
             "colorbar": {
              "outlinewidth": 0,
              "ticks": ""
             }
            },
            "type": "scattermapbox"
           }
          ],
          "scatterpolar": [
           {
            "marker": {
             "colorbar": {
              "outlinewidth": 0,
              "ticks": ""
             }
            },
            "type": "scatterpolar"
           }
          ],
          "scatterpolargl": [
           {
            "marker": {
             "colorbar": {
              "outlinewidth": 0,
              "ticks": ""
             }
            },
            "type": "scatterpolargl"
           }
          ],
          "scatterternary": [
           {
            "marker": {
             "colorbar": {
              "outlinewidth": 0,
              "ticks": ""
             }
            },
            "type": "scatterternary"
           }
          ],
          "surface": [
           {
            "colorbar": {
             "outlinewidth": 0,
             "ticks": ""
            },
            "colorscale": [
             [
              0,
              "#0d0887"
             ],
             [
              0.1111111111111111,
              "#46039f"
             ],
             [
              0.2222222222222222,
              "#7201a8"
             ],
             [
              0.3333333333333333,
              "#9c179e"
             ],
             [
              0.4444444444444444,
              "#bd3786"
             ],
             [
              0.5555555555555556,
              "#d8576b"
             ],
             [
              0.6666666666666666,
              "#ed7953"
             ],
             [
              0.7777777777777778,
              "#fb9f3a"
             ],
             [
              0.8888888888888888,
              "#fdca26"
             ],
             [
              1,
              "#f0f921"
             ]
            ],
            "type": "surface"
           }
          ],
          "table": [
           {
            "cells": {
             "fill": {
              "color": "#EBF0F8"
             },
             "line": {
              "color": "white"
             }
            },
            "header": {
             "fill": {
              "color": "#C8D4E3"
             },
             "line": {
              "color": "white"
             }
            },
            "type": "table"
           }
          ]
         },
         "layout": {
          "annotationdefaults": {
           "arrowcolor": "#2a3f5f",
           "arrowhead": 0,
           "arrowwidth": 1
          },
          "colorscale": {
           "diverging": [
            [
             0,
             "#8e0152"
            ],
            [
             0.1,
             "#c51b7d"
            ],
            [
             0.2,
             "#de77ae"
            ],
            [
             0.3,
             "#f1b6da"
            ],
            [
             0.4,
             "#fde0ef"
            ],
            [
             0.5,
             "#f7f7f7"
            ],
            [
             0.6,
             "#e6f5d0"
            ],
            [
             0.7,
             "#b8e186"
            ],
            [
             0.8,
             "#7fbc41"
            ],
            [
             0.9,
             "#4d9221"
            ],
            [
             1,
             "#276419"
            ]
           ],
           "sequential": [
            [
             0,
             "#0d0887"
            ],
            [
             0.1111111111111111,
             "#46039f"
            ],
            [
             0.2222222222222222,
             "#7201a8"
            ],
            [
             0.3333333333333333,
             "#9c179e"
            ],
            [
             0.4444444444444444,
             "#bd3786"
            ],
            [
             0.5555555555555556,
             "#d8576b"
            ],
            [
             0.6666666666666666,
             "#ed7953"
            ],
            [
             0.7777777777777778,
             "#fb9f3a"
            ],
            [
             0.8888888888888888,
             "#fdca26"
            ],
            [
             1,
             "#f0f921"
            ]
           ],
           "sequentialminus": [
            [
             0,
             "#0d0887"
            ],
            [
             0.1111111111111111,
             "#46039f"
            ],
            [
             0.2222222222222222,
             "#7201a8"
            ],
            [
             0.3333333333333333,
             "#9c179e"
            ],
            [
             0.4444444444444444,
             "#bd3786"
            ],
            [
             0.5555555555555556,
             "#d8576b"
            ],
            [
             0.6666666666666666,
             "#ed7953"
            ],
            [
             0.7777777777777778,
             "#fb9f3a"
            ],
            [
             0.8888888888888888,
             "#fdca26"
            ],
            [
             1,
             "#f0f921"
            ]
           ]
          },
          "colorway": [
           "#636efa",
           "#EF553B",
           "#00cc96",
           "#ab63fa",
           "#FFA15A",
           "#19d3f3",
           "#FF6692",
           "#B6E880",
           "#FF97FF",
           "#FECB52"
          ],
          "font": {
           "color": "#2a3f5f"
          },
          "geo": {
           "bgcolor": "white",
           "lakecolor": "white",
           "landcolor": "#E5ECF6",
           "showlakes": true,
           "showland": true,
           "subunitcolor": "white"
          },
          "hoverlabel": {
           "align": "left"
          },
          "hovermode": "closest",
          "mapbox": {
           "style": "light"
          },
          "paper_bgcolor": "white",
          "plot_bgcolor": "#E5ECF6",
          "polar": {
           "angularaxis": {
            "gridcolor": "white",
            "linecolor": "white",
            "ticks": ""
           },
           "bgcolor": "#E5ECF6",
           "radialaxis": {
            "gridcolor": "white",
            "linecolor": "white",
            "ticks": ""
           }
          },
          "scene": {
           "xaxis": {
            "backgroundcolor": "#E5ECF6",
            "gridcolor": "white",
            "gridwidth": 2,
            "linecolor": "white",
            "showbackground": true,
            "ticks": "",
            "zerolinecolor": "white"
           },
           "yaxis": {
            "backgroundcolor": "#E5ECF6",
            "gridcolor": "white",
            "gridwidth": 2,
            "linecolor": "white",
            "showbackground": true,
            "ticks": "",
            "zerolinecolor": "white"
           },
           "zaxis": {
            "backgroundcolor": "#E5ECF6",
            "gridcolor": "white",
            "gridwidth": 2,
            "linecolor": "white",
            "showbackground": true,
            "ticks": "",
            "zerolinecolor": "white"
           }
          },
          "shapedefaults": {
           "line": {
            "color": "#2a3f5f"
           }
          },
          "ternary": {
           "aaxis": {
            "gridcolor": "white",
            "linecolor": "white",
            "ticks": ""
           },
           "baxis": {
            "gridcolor": "white",
            "linecolor": "white",
            "ticks": ""
           },
           "bgcolor": "#E5ECF6",
           "caxis": {
            "gridcolor": "white",
            "linecolor": "white",
            "ticks": ""
           }
          },
          "title": {
           "x": 0.05
          },
          "xaxis": {
           "automargin": true,
           "gridcolor": "white",
           "linecolor": "white",
           "ticks": "",
           "zerolinecolor": "white",
           "zerolinewidth": 2
          },
          "yaxis": {
           "automargin": true,
           "gridcolor": "white",
           "linecolor": "white",
           "ticks": "",
           "zerolinecolor": "white",
           "zerolinewidth": 2
          }
         }
        },
        "updatemenus": [
         {
          "buttons": [
           {
            "args": [
             null,
             {
              "frame": {
               "duration": 500,
               "redraw": false
              },
              "fromcurrent": true,
              "transition": {
               "duration": 300,
               "easing": "linear"
              }
             }
            ],
            "label": "Play",
            "method": "animate"
           },
           {
            "args": [
             null,
             {
              "frame": {
               "duration": 0,
               "redraw": false
              },
              "mode": "immediate",
              "transition": {
               "duration": 0
              }
             }
            ],
            "label": "Pause",
            "method": "animate"
           }
          ],
          "direction": "left",
          "pad": {
           "r": 10,
           "t": 87
          },
          "showactive": false,
          "type": "buttons",
          "x": 0.1,
          "xanchor": "right",
          "y": 0,
          "yanchor": "top"
         }
        ],
        "width": 600,
        "xaxis": {
         "range": [
          0,
          0.1
         ],
         "showgrid": false,
         "showline": false,
         "showticklabels": false,
         "ticks": "",
         "zeroline": false
        },
        "yaxis": {
         "range": [
          0,
          0.1
         ],
         "scaleanchor": "x",
         "showgrid": false,
         "showline": false,
         "showticklabels": false,
         "ticks": "",
         "zeroline": false
        }
       }
      },
      "text/html": [
       "<div>\n",
       "        \n",
       "        \n",
       "            <div id=\"ba9bd79f-f654-461e-8054-cefcf873d6c6\" class=\"plotly-graph-div\" style=\"height:600px; width:600px;\"></div>\n",
       "            <script type=\"text/javascript\">\n",
       "                require([\"plotly\"], function(Plotly) {\n",
       "                    window.PLOTLYENV=window.PLOTLYENV || {};\n",
       "                    \n",
       "                if (document.getElementById(\"ba9bd79f-f654-461e-8054-cefcf873d6c6\")) {\n",
       "                    Plotly.newPlot(\n",
       "                        'ba9bd79f-f654-461e-8054-cefcf873d6c6',\n",
       "                        [{\"fill\": \"toself\", \"marker\": {\"color\": \"#a6cee3\"}, \"mode\": \"lines\", \"name\": \"0\", \"showlegend\": true, \"type\": \"scatter\", \"x\": [0.0, 0.0, 1.0, 1.0, 0.0], \"y\": [0.0, 1.0, 1.0, 0.0, 0.0]}, {\"fill\": \"toself\", \"marker\": {\"color\": \"#1f78b4\"}, \"mode\": \"lines\", \"name\": \"1\", \"showlegend\": true, \"type\": \"scatter\", \"x\": [14.0, 14.0, 15.0, 15.0, 14.0], \"y\": [0.0, 1.0, 1.0, 0.0, 0.0]}, {\"fill\": \"toself\", \"marker\": {\"color\": \"#b2df8a\"}, \"mode\": \"lines\", \"name\": \"2\", \"showlegend\": true, \"type\": \"scatter\", \"x\": [2.0, 2.0, 12.0, 12.0, 2.0], \"y\": [0.0, 1.0, 1.0, 0.0, 0.0]}],\n",
       "                        {\"autosize\": true, \"height\": 600, \"sliders\": [{\"active\": 0, \"currentvalue\": {\"font\": {\"size\": 20}, \"prefix\": \"Step:\", \"visible\": true, \"xanchor\": \"right\"}, \"len\": 0.9, \"pad\": {\"b\": 10, \"t\": 50}, \"steps\": [{\"args\": [[\"0\"], {\"frame\": {\"duration\": 300, \"redraw\": false}, \"mode\": \"immediate\", \"transition\": {\"duration\": 300, \"easing\": \"linear\"}}], \"label\": \"0\", \"method\": \"animate\"}, {\"args\": [[\"1\"], {\"frame\": {\"duration\": 300, \"redraw\": false}, \"mode\": \"immediate\", \"transition\": {\"duration\": 300, \"easing\": \"linear\"}}], \"label\": \"1\", \"method\": \"animate\"}, {\"args\": [[\"2\"], {\"frame\": {\"duration\": 300, \"redraw\": false}, \"mode\": \"immediate\", \"transition\": {\"duration\": 300, \"easing\": \"linear\"}}], \"label\": \"2\", \"method\": \"animate\"}, {\"args\": [[\"3\"], {\"frame\": {\"duration\": 300, \"redraw\": false}, \"mode\": \"immediate\", \"transition\": {\"duration\": 300, \"easing\": \"linear\"}}], \"label\": \"3\", \"method\": \"animate\"}, {\"args\": [[\"4\"], {\"frame\": {\"duration\": 300, \"redraw\": false}, \"mode\": \"immediate\", \"transition\": {\"duration\": 300, \"easing\": \"linear\"}}], \"label\": \"4\", \"method\": \"animate\"}, {\"args\": [[\"5\"], {\"frame\": {\"duration\": 300, \"redraw\": false}, \"mode\": \"immediate\", \"transition\": {\"duration\": 300, \"easing\": \"linear\"}}], \"label\": \"5\", \"method\": \"animate\"}, {\"args\": [[\"6\"], {\"frame\": {\"duration\": 300, \"redraw\": false}, \"mode\": \"immediate\", \"transition\": {\"duration\": 300, \"easing\": \"linear\"}}], \"label\": \"6\", \"method\": \"animate\"}, {\"args\": [[\"7\"], {\"frame\": {\"duration\": 300, \"redraw\": false}, \"mode\": \"immediate\", \"transition\": {\"duration\": 300, \"easing\": \"linear\"}}], \"label\": \"7\", \"method\": \"animate\"}, {\"args\": [[\"8\"], {\"frame\": {\"duration\": 300, \"redraw\": false}, \"mode\": \"immediate\", \"transition\": {\"duration\": 300, \"easing\": \"linear\"}}], \"label\": \"8\", \"method\": \"animate\"}, {\"args\": [[\"9\"], {\"frame\": {\"duration\": 300, \"redraw\": false}, \"mode\": \"immediate\", \"transition\": {\"duration\": 300, \"easing\": \"linear\"}}], \"label\": \"9\", \"method\": \"animate\"}, {\"args\": [[\"10\"], {\"frame\": {\"duration\": 300, \"redraw\": false}, \"mode\": \"immediate\", \"transition\": {\"duration\": 300, \"easing\": \"linear\"}}], \"label\": \"10\", \"method\": \"animate\"}, {\"args\": [[\"11\"], {\"frame\": {\"duration\": 300, \"redraw\": false}, \"mode\": \"immediate\", \"transition\": {\"duration\": 300, \"easing\": \"linear\"}}], \"label\": \"11\", \"method\": \"animate\"}, {\"args\": [[\"12\"], {\"frame\": {\"duration\": 300, \"redraw\": false}, \"mode\": \"immediate\", \"transition\": {\"duration\": 300, \"easing\": \"linear\"}}], \"label\": \"12\", \"method\": \"animate\"}, {\"args\": [[\"13\"], {\"frame\": {\"duration\": 300, \"redraw\": false}, \"mode\": \"immediate\", \"transition\": {\"duration\": 300, \"easing\": \"linear\"}}], \"label\": \"13\", \"method\": \"animate\"}, {\"args\": [[\"14\"], {\"frame\": {\"duration\": 300, \"redraw\": false}, \"mode\": \"immediate\", \"transition\": {\"duration\": 300, \"easing\": \"linear\"}}], \"label\": \"14\", \"method\": \"animate\"}, {\"args\": [[\"15\"], {\"frame\": {\"duration\": 300, \"redraw\": false}, \"mode\": \"immediate\", \"transition\": {\"duration\": 300, \"easing\": \"linear\"}}], \"label\": \"15\", \"method\": \"animate\"}, {\"args\": [[\"16\"], {\"frame\": {\"duration\": 300, \"redraw\": false}, \"mode\": \"immediate\", \"transition\": {\"duration\": 300, \"easing\": \"linear\"}}], \"label\": \"16\", \"method\": \"animate\"}, {\"args\": [[\"17\"], {\"frame\": {\"duration\": 300, \"redraw\": false}, \"mode\": \"immediate\", \"transition\": {\"duration\": 300, \"easing\": \"linear\"}}], \"label\": \"17\", \"method\": \"animate\"}, {\"args\": [[\"18\"], {\"frame\": {\"duration\": 300, \"redraw\": false}, \"mode\": \"immediate\", \"transition\": {\"duration\": 300, \"easing\": \"linear\"}}], \"label\": \"18\", \"method\": \"animate\"}, {\"args\": [[\"19\"], {\"frame\": {\"duration\": 300, \"redraw\": false}, \"mode\": \"immediate\", \"transition\": {\"duration\": 300, \"easing\": \"linear\"}}], \"label\": \"19\", \"method\": \"animate\"}, {\"args\": [[\"20\"], {\"frame\": {\"duration\": 300, \"redraw\": false}, \"mode\": \"immediate\", \"transition\": {\"duration\": 300, \"easing\": \"linear\"}}], \"label\": \"20\", \"method\": \"animate\"}, {\"args\": [[\"21\"], {\"frame\": {\"duration\": 300, \"redraw\": false}, \"mode\": \"immediate\", \"transition\": {\"duration\": 300, \"easing\": \"linear\"}}], \"label\": \"21\", \"method\": \"animate\"}, {\"args\": [[\"22\"], {\"frame\": {\"duration\": 300, \"redraw\": false}, \"mode\": \"immediate\", \"transition\": {\"duration\": 300, \"easing\": \"linear\"}}], \"label\": \"22\", \"method\": \"animate\"}, {\"args\": [[\"23\"], {\"frame\": {\"duration\": 300, \"redraw\": false}, \"mode\": \"immediate\", \"transition\": {\"duration\": 300, \"easing\": \"linear\"}}], \"label\": \"23\", \"method\": \"animate\"}, {\"args\": [[\"24\"], {\"frame\": {\"duration\": 300, \"redraw\": false}, \"mode\": \"immediate\", \"transition\": {\"duration\": 300, \"easing\": \"linear\"}}], \"label\": \"24\", \"method\": \"animate\"}, {\"args\": [[\"25\"], {\"frame\": {\"duration\": 300, \"redraw\": false}, \"mode\": \"immediate\", \"transition\": {\"duration\": 300, \"easing\": \"linear\"}}], \"label\": \"25\", \"method\": \"animate\"}, {\"args\": [[\"26\"], {\"frame\": {\"duration\": 300, \"redraw\": false}, \"mode\": \"immediate\", \"transition\": {\"duration\": 300, \"easing\": \"linear\"}}], \"label\": \"26\", \"method\": \"animate\"}, {\"args\": [[\"27\"], {\"frame\": {\"duration\": 300, \"redraw\": false}, \"mode\": \"immediate\", \"transition\": {\"duration\": 300, \"easing\": \"linear\"}}], \"label\": \"27\", \"method\": \"animate\"}, {\"args\": [[\"28\"], {\"frame\": {\"duration\": 300, \"redraw\": false}, \"mode\": \"immediate\", \"transition\": {\"duration\": 300, \"easing\": \"linear\"}}], \"label\": \"28\", \"method\": \"animate\"}, {\"args\": [[\"29\"], {\"frame\": {\"duration\": 300, \"redraw\": false}, \"mode\": \"immediate\", \"transition\": {\"duration\": 300, \"easing\": \"linear\"}}], \"label\": \"29\", \"method\": \"animate\"}, {\"args\": [[\"30\"], {\"frame\": {\"duration\": 300, \"redraw\": false}, \"mode\": \"immediate\", \"transition\": {\"duration\": 300, \"easing\": \"linear\"}}], \"label\": \"30\", \"method\": \"animate\"}, {\"args\": [[\"31\"], {\"frame\": {\"duration\": 300, \"redraw\": false}, \"mode\": \"immediate\", \"transition\": {\"duration\": 300, \"easing\": \"linear\"}}], \"label\": \"31\", \"method\": \"animate\"}, {\"args\": [[\"32\"], {\"frame\": {\"duration\": 300, \"redraw\": false}, \"mode\": \"immediate\", \"transition\": {\"duration\": 300, \"easing\": \"linear\"}}], \"label\": \"32\", \"method\": \"animate\"}, {\"args\": [[\"33\"], {\"frame\": {\"duration\": 300, \"redraw\": false}, \"mode\": \"immediate\", \"transition\": {\"duration\": 300, \"easing\": \"linear\"}}], \"label\": \"33\", \"method\": \"animate\"}, {\"args\": [[\"34\"], {\"frame\": {\"duration\": 300, \"redraw\": false}, \"mode\": \"immediate\", \"transition\": {\"duration\": 300, \"easing\": \"linear\"}}], \"label\": \"34\", \"method\": \"animate\"}, {\"args\": [[\"35\"], {\"frame\": {\"duration\": 300, \"redraw\": false}, \"mode\": \"immediate\", \"transition\": {\"duration\": 300, \"easing\": \"linear\"}}], \"label\": \"35\", \"method\": \"animate\"}, {\"args\": [[\"36\"], {\"frame\": {\"duration\": 300, \"redraw\": false}, \"mode\": \"immediate\", \"transition\": {\"duration\": 300, \"easing\": \"linear\"}}], \"label\": \"36\", \"method\": \"animate\"}, {\"args\": [[\"37\"], {\"frame\": {\"duration\": 300, \"redraw\": false}, \"mode\": \"immediate\", \"transition\": {\"duration\": 300, \"easing\": \"linear\"}}], \"label\": \"37\", \"method\": \"animate\"}, {\"args\": [[\"38\"], {\"frame\": {\"duration\": 300, \"redraw\": false}, \"mode\": \"immediate\", \"transition\": {\"duration\": 300, \"easing\": \"linear\"}}], \"label\": \"38\", \"method\": \"animate\"}, {\"args\": [[\"39\"], {\"frame\": {\"duration\": 300, \"redraw\": false}, \"mode\": \"immediate\", \"transition\": {\"duration\": 300, \"easing\": \"linear\"}}], \"label\": \"39\", \"method\": \"animate\"}, {\"args\": [[\"40\"], {\"frame\": {\"duration\": 300, \"redraw\": false}, \"mode\": \"immediate\", \"transition\": {\"duration\": 300, \"easing\": \"linear\"}}], \"label\": \"40\", \"method\": \"animate\"}, {\"args\": [[\"41\"], {\"frame\": {\"duration\": 300, \"redraw\": false}, \"mode\": \"immediate\", \"transition\": {\"duration\": 300, \"easing\": \"linear\"}}], \"label\": \"41\", \"method\": \"animate\"}, {\"args\": [[\"42\"], {\"frame\": {\"duration\": 300, \"redraw\": false}, \"mode\": \"immediate\", \"transition\": {\"duration\": 300, \"easing\": \"linear\"}}], \"label\": \"42\", \"method\": \"animate\"}, {\"args\": [[\"43\"], {\"frame\": {\"duration\": 300, \"redraw\": false}, \"mode\": \"immediate\", \"transition\": {\"duration\": 300, \"easing\": \"linear\"}}], \"label\": \"43\", \"method\": \"animate\"}, {\"args\": [[\"44\"], {\"frame\": {\"duration\": 300, \"redraw\": false}, \"mode\": \"immediate\", \"transition\": {\"duration\": 300, \"easing\": \"linear\"}}], \"label\": \"44\", \"method\": \"animate\"}, {\"args\": [[\"45\"], {\"frame\": {\"duration\": 300, \"redraw\": false}, \"mode\": \"immediate\", \"transition\": {\"duration\": 300, \"easing\": \"linear\"}}], \"label\": \"45\", \"method\": \"animate\"}, {\"args\": [[\"46\"], {\"frame\": {\"duration\": 300, \"redraw\": false}, \"mode\": \"immediate\", \"transition\": {\"duration\": 300, \"easing\": \"linear\"}}], \"label\": \"46\", \"method\": \"animate\"}, {\"args\": [[\"47\"], {\"frame\": {\"duration\": 300, \"redraw\": false}, \"mode\": \"immediate\", \"transition\": {\"duration\": 300, \"easing\": \"linear\"}}], \"label\": \"47\", \"method\": \"animate\"}, {\"args\": [[\"48\"], {\"frame\": {\"duration\": 300, \"redraw\": false}, \"mode\": \"immediate\", \"transition\": {\"duration\": 300, \"easing\": \"linear\"}}], \"label\": \"48\", \"method\": \"animate\"}, {\"args\": [[\"49\"], {\"frame\": {\"duration\": 300, \"redraw\": false}, \"mode\": \"immediate\", \"transition\": {\"duration\": 300, \"easing\": \"linear\"}}], \"label\": \"49\", \"method\": \"animate\"}, {\"args\": [[\"50\"], {\"frame\": {\"duration\": 300, \"redraw\": false}, \"mode\": \"immediate\", \"transition\": {\"duration\": 300, \"easing\": \"linear\"}}], \"label\": \"50\", \"method\": \"animate\"}, {\"args\": [[\"51\"], {\"frame\": {\"duration\": 300, \"redraw\": false}, \"mode\": \"immediate\", \"transition\": {\"duration\": 300, \"easing\": \"linear\"}}], \"label\": \"51\", \"method\": \"animate\"}, {\"args\": [[\"52\"], {\"frame\": {\"duration\": 300, \"redraw\": false}, \"mode\": \"immediate\", \"transition\": {\"duration\": 300, \"easing\": \"linear\"}}], \"label\": \"52\", \"method\": \"animate\"}, {\"args\": [[\"53\"], {\"frame\": {\"duration\": 300, \"redraw\": false}, \"mode\": \"immediate\", \"transition\": {\"duration\": 300, \"easing\": \"linear\"}}], \"label\": \"53\", \"method\": \"animate\"}, {\"args\": [[\"54\"], {\"frame\": {\"duration\": 300, \"redraw\": false}, \"mode\": \"immediate\", \"transition\": {\"duration\": 300, \"easing\": \"linear\"}}], \"label\": \"54\", \"method\": \"animate\"}, {\"args\": [[\"55\"], {\"frame\": {\"duration\": 300, \"redraw\": false}, \"mode\": \"immediate\", \"transition\": {\"duration\": 300, \"easing\": \"linear\"}}], \"label\": \"55\", \"method\": \"animate\"}, {\"args\": [[\"56\"], {\"frame\": {\"duration\": 300, \"redraw\": false}, \"mode\": \"immediate\", \"transition\": {\"duration\": 300, \"easing\": \"linear\"}}], \"label\": \"56\", \"method\": \"animate\"}, {\"args\": [[\"57\"], {\"frame\": {\"duration\": 300, \"redraw\": false}, \"mode\": \"immediate\", \"transition\": {\"duration\": 300, \"easing\": \"linear\"}}], \"label\": \"57\", \"method\": \"animate\"}, {\"args\": [[\"58\"], {\"frame\": {\"duration\": 300, \"redraw\": false}, \"mode\": \"immediate\", \"transition\": {\"duration\": 300, \"easing\": \"linear\"}}], \"label\": \"58\", \"method\": \"animate\"}, {\"args\": [[\"59\"], {\"frame\": {\"duration\": 300, \"redraw\": false}, \"mode\": \"immediate\", \"transition\": {\"duration\": 300, \"easing\": \"linear\"}}], \"label\": \"59\", \"method\": \"animate\"}, {\"args\": [[\"60\"], {\"frame\": {\"duration\": 300, \"redraw\": false}, \"mode\": \"immediate\", \"transition\": {\"duration\": 300, \"easing\": \"linear\"}}], \"label\": \"60\", \"method\": \"animate\"}, {\"args\": [[\"61\"], {\"frame\": {\"duration\": 300, \"redraw\": false}, \"mode\": \"immediate\", \"transition\": {\"duration\": 300, \"easing\": \"linear\"}}], \"label\": \"61\", \"method\": \"animate\"}, {\"args\": [[\"62\"], {\"frame\": {\"duration\": 300, \"redraw\": false}, \"mode\": \"immediate\", \"transition\": {\"duration\": 300, \"easing\": \"linear\"}}], \"label\": \"62\", \"method\": \"animate\"}, {\"args\": [[\"63\"], {\"frame\": {\"duration\": 300, \"redraw\": false}, \"mode\": \"immediate\", \"transition\": {\"duration\": 300, \"easing\": \"linear\"}}], \"label\": \"63\", \"method\": \"animate\"}, {\"args\": [[\"64\"], {\"frame\": {\"duration\": 300, \"redraw\": false}, \"mode\": \"immediate\", \"transition\": {\"duration\": 300, \"easing\": \"linear\"}}], \"label\": \"64\", \"method\": \"animate\"}, {\"args\": [[\"65\"], {\"frame\": {\"duration\": 300, \"redraw\": false}, \"mode\": \"immediate\", \"transition\": {\"duration\": 300, \"easing\": \"linear\"}}], \"label\": \"65\", \"method\": \"animate\"}, {\"args\": [[\"66\"], {\"frame\": {\"duration\": 300, \"redraw\": false}, \"mode\": \"immediate\", \"transition\": {\"duration\": 300, \"easing\": \"linear\"}}], \"label\": \"66\", \"method\": \"animate\"}, {\"args\": [[\"67\"], {\"frame\": {\"duration\": 300, \"redraw\": false}, \"mode\": \"immediate\", \"transition\": {\"duration\": 300, \"easing\": \"linear\"}}], \"label\": \"67\", \"method\": \"animate\"}, {\"args\": [[\"68\"], {\"frame\": {\"duration\": 300, \"redraw\": false}, \"mode\": \"immediate\", \"transition\": {\"duration\": 300, \"easing\": \"linear\"}}], \"label\": \"68\", \"method\": \"animate\"}, {\"args\": [[\"69\"], {\"frame\": {\"duration\": 300, \"redraw\": false}, \"mode\": \"immediate\", \"transition\": {\"duration\": 300, \"easing\": \"linear\"}}], \"label\": \"69\", \"method\": \"animate\"}, {\"args\": [[\"70\"], {\"frame\": {\"duration\": 300, \"redraw\": false}, \"mode\": \"immediate\", \"transition\": {\"duration\": 300, \"easing\": \"linear\"}}], \"label\": \"70\", \"method\": \"animate\"}, {\"args\": [[\"71\"], {\"frame\": {\"duration\": 300, \"redraw\": false}, \"mode\": \"immediate\", \"transition\": {\"duration\": 300, \"easing\": \"linear\"}}], \"label\": \"71\", \"method\": \"animate\"}, {\"args\": [[\"72\"], {\"frame\": {\"duration\": 300, \"redraw\": false}, \"mode\": \"immediate\", \"transition\": {\"duration\": 300, \"easing\": \"linear\"}}], \"label\": \"72\", \"method\": \"animate\"}, {\"args\": [[\"73\"], {\"frame\": {\"duration\": 300, \"redraw\": false}, \"mode\": \"immediate\", \"transition\": {\"duration\": 300, \"easing\": \"linear\"}}], \"label\": \"73\", \"method\": \"animate\"}, {\"args\": [[\"74\"], {\"frame\": {\"duration\": 300, \"redraw\": false}, \"mode\": \"immediate\", \"transition\": {\"duration\": 300, \"easing\": \"linear\"}}], \"label\": \"74\", \"method\": \"animate\"}, {\"args\": [[\"75\"], {\"frame\": {\"duration\": 300, \"redraw\": false}, \"mode\": \"immediate\", \"transition\": {\"duration\": 300, \"easing\": \"linear\"}}], \"label\": \"75\", \"method\": \"animate\"}, {\"args\": [[\"76\"], {\"frame\": {\"duration\": 300, \"redraw\": false}, \"mode\": \"immediate\", \"transition\": {\"duration\": 300, \"easing\": \"linear\"}}], \"label\": \"76\", \"method\": \"animate\"}, {\"args\": [[\"77\"], {\"frame\": {\"duration\": 300, \"redraw\": false}, \"mode\": \"immediate\", \"transition\": {\"duration\": 300, \"easing\": \"linear\"}}], \"label\": \"77\", \"method\": \"animate\"}, {\"args\": [[\"78\"], {\"frame\": {\"duration\": 300, \"redraw\": false}, \"mode\": \"immediate\", \"transition\": {\"duration\": 300, \"easing\": \"linear\"}}], \"label\": \"78\", \"method\": \"animate\"}, {\"args\": [[\"79\"], {\"frame\": {\"duration\": 300, \"redraw\": false}, \"mode\": \"immediate\", \"transition\": {\"duration\": 300, \"easing\": \"linear\"}}], \"label\": \"79\", \"method\": \"animate\"}, {\"args\": [[\"80\"], {\"frame\": {\"duration\": 300, \"redraw\": false}, \"mode\": \"immediate\", \"transition\": {\"duration\": 300, \"easing\": \"linear\"}}], \"label\": \"80\", \"method\": \"animate\"}, {\"args\": [[\"81\"], {\"frame\": {\"duration\": 300, \"redraw\": false}, \"mode\": \"immediate\", \"transition\": {\"duration\": 300, \"easing\": \"linear\"}}], \"label\": \"81\", \"method\": \"animate\"}, {\"args\": [[\"82\"], {\"frame\": {\"duration\": 300, \"redraw\": false}, \"mode\": \"immediate\", \"transition\": {\"duration\": 300, \"easing\": \"linear\"}}], \"label\": \"82\", \"method\": \"animate\"}, {\"args\": [[\"83\"], {\"frame\": {\"duration\": 300, \"redraw\": false}, \"mode\": \"immediate\", \"transition\": {\"duration\": 300, \"easing\": \"linear\"}}], \"label\": \"83\", \"method\": \"animate\"}, {\"args\": [[\"84\"], {\"frame\": {\"duration\": 300, \"redraw\": false}, \"mode\": \"immediate\", \"transition\": {\"duration\": 300, \"easing\": \"linear\"}}], \"label\": \"84\", \"method\": \"animate\"}, {\"args\": [[\"85\"], {\"frame\": {\"duration\": 300, \"redraw\": false}, \"mode\": \"immediate\", \"transition\": {\"duration\": 300, \"easing\": \"linear\"}}], \"label\": \"85\", \"method\": \"animate\"}, {\"args\": [[\"86\"], {\"frame\": {\"duration\": 300, \"redraw\": false}, \"mode\": \"immediate\", \"transition\": {\"duration\": 300, \"easing\": \"linear\"}}], \"label\": \"86\", \"method\": \"animate\"}, {\"args\": [[\"87\"], {\"frame\": {\"duration\": 300, \"redraw\": false}, \"mode\": \"immediate\", \"transition\": {\"duration\": 300, \"easing\": \"linear\"}}], \"label\": \"87\", \"method\": \"animate\"}, {\"args\": [[\"88\"], {\"frame\": {\"duration\": 300, \"redraw\": false}, \"mode\": \"immediate\", \"transition\": {\"duration\": 300, \"easing\": \"linear\"}}], \"label\": \"88\", \"method\": \"animate\"}, {\"args\": [[\"89\"], {\"frame\": {\"duration\": 300, \"redraw\": false}, \"mode\": \"immediate\", \"transition\": {\"duration\": 300, \"easing\": \"linear\"}}], \"label\": \"89\", \"method\": \"animate\"}, {\"args\": [[\"90\"], {\"frame\": {\"duration\": 300, \"redraw\": false}, \"mode\": \"immediate\", \"transition\": {\"duration\": 300, \"easing\": \"linear\"}}], \"label\": \"90\", \"method\": \"animate\"}, {\"args\": [[\"91\"], {\"frame\": {\"duration\": 300, \"redraw\": false}, \"mode\": \"immediate\", \"transition\": {\"duration\": 300, \"easing\": \"linear\"}}], \"label\": \"91\", \"method\": \"animate\"}, {\"args\": [[\"92\"], {\"frame\": {\"duration\": 300, \"redraw\": false}, \"mode\": \"immediate\", \"transition\": {\"duration\": 300, \"easing\": \"linear\"}}], \"label\": \"92\", \"method\": \"animate\"}, {\"args\": [[\"93\"], {\"frame\": {\"duration\": 300, \"redraw\": false}, \"mode\": \"immediate\", \"transition\": {\"duration\": 300, \"easing\": \"linear\"}}], \"label\": \"93\", \"method\": \"animate\"}, {\"args\": [[\"94\"], {\"frame\": {\"duration\": 300, \"redraw\": false}, \"mode\": \"immediate\", \"transition\": {\"duration\": 300, \"easing\": \"linear\"}}], \"label\": \"94\", \"method\": \"animate\"}, {\"args\": [[\"95\"], {\"frame\": {\"duration\": 300, \"redraw\": false}, \"mode\": \"immediate\", \"transition\": {\"duration\": 300, \"easing\": \"linear\"}}], \"label\": \"95\", \"method\": \"animate\"}, {\"args\": [[\"96\"], {\"frame\": {\"duration\": 300, \"redraw\": false}, \"mode\": \"immediate\", \"transition\": {\"duration\": 300, \"easing\": \"linear\"}}], \"label\": \"96\", \"method\": \"animate\"}, {\"args\": [[\"97\"], {\"frame\": {\"duration\": 300, \"redraw\": false}, \"mode\": \"immediate\", \"transition\": {\"duration\": 300, \"easing\": \"linear\"}}], \"label\": \"97\", \"method\": \"animate\"}, {\"args\": [[\"98\"], {\"frame\": {\"duration\": 300, \"redraw\": false}, \"mode\": \"immediate\", \"transition\": {\"duration\": 300, \"easing\": \"linear\"}}], \"label\": \"98\", \"method\": \"animate\"}, {\"args\": [[\"99\"], {\"frame\": {\"duration\": 300, \"redraw\": false}, \"mode\": \"immediate\", \"transition\": {\"duration\": 300, \"easing\": \"linear\"}}], \"label\": \"99\", \"method\": \"animate\"}], \"transition\": {\"duration\": 300, \"easing\": \"linear\"}, \"x\": 0.1, \"xanchor\": \"left\", \"y\": 0, \"yanchor\": \"top\"}], \"template\": {\"data\": {\"bar\": [{\"error_x\": {\"color\": \"#2a3f5f\"}, \"error_y\": {\"color\": \"#2a3f5f\"}, \"marker\": {\"line\": {\"color\": \"#E5ECF6\", \"width\": 0.5}}, \"type\": \"bar\"}], \"barpolar\": [{\"marker\": {\"line\": {\"color\": \"#E5ECF6\", \"width\": 0.5}}, \"type\": \"barpolar\"}], \"carpet\": [{\"aaxis\": {\"endlinecolor\": \"#2a3f5f\", \"gridcolor\": \"white\", \"linecolor\": \"white\", \"minorgridcolor\": \"white\", \"startlinecolor\": \"#2a3f5f\"}, \"baxis\": {\"endlinecolor\": \"#2a3f5f\", \"gridcolor\": \"white\", \"linecolor\": \"white\", \"minorgridcolor\": \"white\", \"startlinecolor\": \"#2a3f5f\"}, \"type\": \"carpet\"}], \"choropleth\": [{\"colorbar\": {\"outlinewidth\": 0, \"ticks\": \"\"}, \"type\": \"choropleth\"}], \"contour\": [{\"colorbar\": {\"outlinewidth\": 0, \"ticks\": \"\"}, \"colorscale\": [[0.0, \"#0d0887\"], [0.1111111111111111, \"#46039f\"], [0.2222222222222222, \"#7201a8\"], [0.3333333333333333, \"#9c179e\"], [0.4444444444444444, \"#bd3786\"], [0.5555555555555556, \"#d8576b\"], [0.6666666666666666, \"#ed7953\"], [0.7777777777777778, \"#fb9f3a\"], [0.8888888888888888, \"#fdca26\"], [1.0, \"#f0f921\"]], \"type\": \"contour\"}], \"contourcarpet\": [{\"colorbar\": {\"outlinewidth\": 0, \"ticks\": \"\"}, \"type\": \"contourcarpet\"}], \"heatmap\": [{\"colorbar\": {\"outlinewidth\": 0, \"ticks\": \"\"}, \"colorscale\": [[0.0, \"#0d0887\"], [0.1111111111111111, \"#46039f\"], [0.2222222222222222, \"#7201a8\"], [0.3333333333333333, \"#9c179e\"], [0.4444444444444444, \"#bd3786\"], [0.5555555555555556, \"#d8576b\"], [0.6666666666666666, \"#ed7953\"], [0.7777777777777778, \"#fb9f3a\"], [0.8888888888888888, \"#fdca26\"], [1.0, \"#f0f921\"]], \"type\": \"heatmap\"}], \"heatmapgl\": [{\"colorbar\": {\"outlinewidth\": 0, \"ticks\": \"\"}, \"colorscale\": [[0.0, \"#0d0887\"], [0.1111111111111111, \"#46039f\"], [0.2222222222222222, \"#7201a8\"], [0.3333333333333333, \"#9c179e\"], [0.4444444444444444, \"#bd3786\"], [0.5555555555555556, \"#d8576b\"], [0.6666666666666666, \"#ed7953\"], [0.7777777777777778, \"#fb9f3a\"], [0.8888888888888888, \"#fdca26\"], [1.0, \"#f0f921\"]], \"type\": \"heatmapgl\"}], \"histogram\": [{\"marker\": {\"colorbar\": {\"outlinewidth\": 0, \"ticks\": \"\"}}, \"type\": \"histogram\"}], \"histogram2d\": [{\"colorbar\": {\"outlinewidth\": 0, \"ticks\": \"\"}, \"colorscale\": [[0.0, \"#0d0887\"], [0.1111111111111111, \"#46039f\"], [0.2222222222222222, \"#7201a8\"], [0.3333333333333333, \"#9c179e\"], [0.4444444444444444, \"#bd3786\"], [0.5555555555555556, \"#d8576b\"], [0.6666666666666666, \"#ed7953\"], [0.7777777777777778, \"#fb9f3a\"], [0.8888888888888888, \"#fdca26\"], [1.0, \"#f0f921\"]], \"type\": \"histogram2d\"}], \"histogram2dcontour\": [{\"colorbar\": {\"outlinewidth\": 0, \"ticks\": \"\"}, \"colorscale\": [[0.0, \"#0d0887\"], [0.1111111111111111, \"#46039f\"], [0.2222222222222222, \"#7201a8\"], [0.3333333333333333, \"#9c179e\"], [0.4444444444444444, \"#bd3786\"], [0.5555555555555556, \"#d8576b\"], [0.6666666666666666, \"#ed7953\"], [0.7777777777777778, \"#fb9f3a\"], [0.8888888888888888, \"#fdca26\"], [1.0, \"#f0f921\"]], \"type\": \"histogram2dcontour\"}], \"mesh3d\": [{\"colorbar\": {\"outlinewidth\": 0, \"ticks\": \"\"}, \"type\": \"mesh3d\"}], \"parcoords\": [{\"line\": {\"colorbar\": {\"outlinewidth\": 0, \"ticks\": \"\"}}, \"type\": \"parcoords\"}], \"scatter\": [{\"marker\": {\"colorbar\": {\"outlinewidth\": 0, \"ticks\": \"\"}}, \"type\": \"scatter\"}], \"scatter3d\": [{\"line\": {\"colorbar\": {\"outlinewidth\": 0, \"ticks\": \"\"}}, \"marker\": {\"colorbar\": {\"outlinewidth\": 0, \"ticks\": \"\"}}, \"type\": \"scatter3d\"}], \"scattercarpet\": [{\"marker\": {\"colorbar\": {\"outlinewidth\": 0, \"ticks\": \"\"}}, \"type\": \"scattercarpet\"}], \"scattergeo\": [{\"marker\": {\"colorbar\": {\"outlinewidth\": 0, \"ticks\": \"\"}}, \"type\": \"scattergeo\"}], \"scattergl\": [{\"marker\": {\"colorbar\": {\"outlinewidth\": 0, \"ticks\": \"\"}}, \"type\": \"scattergl\"}], \"scattermapbox\": [{\"marker\": {\"colorbar\": {\"outlinewidth\": 0, \"ticks\": \"\"}}, \"type\": \"scattermapbox\"}], \"scatterpolar\": [{\"marker\": {\"colorbar\": {\"outlinewidth\": 0, \"ticks\": \"\"}}, \"type\": \"scatterpolar\"}], \"scatterpolargl\": [{\"marker\": {\"colorbar\": {\"outlinewidth\": 0, \"ticks\": \"\"}}, \"type\": \"scatterpolargl\"}], \"scatterternary\": [{\"marker\": {\"colorbar\": {\"outlinewidth\": 0, \"ticks\": \"\"}}, \"type\": \"scatterternary\"}], \"surface\": [{\"colorbar\": {\"outlinewidth\": 0, \"ticks\": \"\"}, \"colorscale\": [[0.0, \"#0d0887\"], [0.1111111111111111, \"#46039f\"], [0.2222222222222222, \"#7201a8\"], [0.3333333333333333, \"#9c179e\"], [0.4444444444444444, \"#bd3786\"], [0.5555555555555556, \"#d8576b\"], [0.6666666666666666, \"#ed7953\"], [0.7777777777777778, \"#fb9f3a\"], [0.8888888888888888, \"#fdca26\"], [1.0, \"#f0f921\"]], \"type\": \"surface\"}], \"table\": [{\"cells\": {\"fill\": {\"color\": \"#EBF0F8\"}, \"line\": {\"color\": \"white\"}}, \"header\": {\"fill\": {\"color\": \"#C8D4E3\"}, \"line\": {\"color\": \"white\"}}, \"type\": \"table\"}]}, \"layout\": {\"annotationdefaults\": {\"arrowcolor\": \"#2a3f5f\", \"arrowhead\": 0, \"arrowwidth\": 1}, \"colorscale\": {\"diverging\": [[0, \"#8e0152\"], [0.1, \"#c51b7d\"], [0.2, \"#de77ae\"], [0.3, \"#f1b6da\"], [0.4, \"#fde0ef\"], [0.5, \"#f7f7f7\"], [0.6, \"#e6f5d0\"], [0.7, \"#b8e186\"], [0.8, \"#7fbc41\"], [0.9, \"#4d9221\"], [1, \"#276419\"]], \"sequential\": [[0.0, \"#0d0887\"], [0.1111111111111111, \"#46039f\"], [0.2222222222222222, \"#7201a8\"], [0.3333333333333333, \"#9c179e\"], [0.4444444444444444, \"#bd3786\"], [0.5555555555555556, \"#d8576b\"], [0.6666666666666666, \"#ed7953\"], [0.7777777777777778, \"#fb9f3a\"], [0.8888888888888888, \"#fdca26\"], [1.0, \"#f0f921\"]], \"sequentialminus\": [[0.0, \"#0d0887\"], [0.1111111111111111, \"#46039f\"], [0.2222222222222222, \"#7201a8\"], [0.3333333333333333, \"#9c179e\"], [0.4444444444444444, \"#bd3786\"], [0.5555555555555556, \"#d8576b\"], [0.6666666666666666, \"#ed7953\"], [0.7777777777777778, \"#fb9f3a\"], [0.8888888888888888, \"#fdca26\"], [1.0, \"#f0f921\"]]}, \"colorway\": [\"#636efa\", \"#EF553B\", \"#00cc96\", \"#ab63fa\", \"#FFA15A\", \"#19d3f3\", \"#FF6692\", \"#B6E880\", \"#FF97FF\", \"#FECB52\"], \"font\": {\"color\": \"#2a3f5f\"}, \"geo\": {\"bgcolor\": \"white\", \"lakecolor\": \"white\", \"landcolor\": \"#E5ECF6\", \"showlakes\": true, \"showland\": true, \"subunitcolor\": \"white\"}, \"hoverlabel\": {\"align\": \"left\"}, \"hovermode\": \"closest\", \"mapbox\": {\"style\": \"light\"}, \"paper_bgcolor\": \"white\", \"plot_bgcolor\": \"#E5ECF6\", \"polar\": {\"angularaxis\": {\"gridcolor\": \"white\", \"linecolor\": \"white\", \"ticks\": \"\"}, \"bgcolor\": \"#E5ECF6\", \"radialaxis\": {\"gridcolor\": \"white\", \"linecolor\": \"white\", \"ticks\": \"\"}}, \"scene\": {\"xaxis\": {\"backgroundcolor\": \"#E5ECF6\", \"gridcolor\": \"white\", \"gridwidth\": 2, \"linecolor\": \"white\", \"showbackground\": true, \"ticks\": \"\", \"zerolinecolor\": \"white\"}, \"yaxis\": {\"backgroundcolor\": \"#E5ECF6\", \"gridcolor\": \"white\", \"gridwidth\": 2, \"linecolor\": \"white\", \"showbackground\": true, \"ticks\": \"\", \"zerolinecolor\": \"white\"}, \"zaxis\": {\"backgroundcolor\": \"#E5ECF6\", \"gridcolor\": \"white\", \"gridwidth\": 2, \"linecolor\": \"white\", \"showbackground\": true, \"ticks\": \"\", \"zerolinecolor\": \"white\"}}, \"shapedefaults\": {\"line\": {\"color\": \"#2a3f5f\"}}, \"ternary\": {\"aaxis\": {\"gridcolor\": \"white\", \"linecolor\": \"white\", \"ticks\": \"\"}, \"baxis\": {\"gridcolor\": \"white\", \"linecolor\": \"white\", \"ticks\": \"\"}, \"bgcolor\": \"#E5ECF6\", \"caxis\": {\"gridcolor\": \"white\", \"linecolor\": \"white\", \"ticks\": \"\"}}, \"title\": {\"x\": 0.05}, \"xaxis\": {\"automargin\": true, \"gridcolor\": \"white\", \"linecolor\": \"white\", \"ticks\": \"\", \"zerolinecolor\": \"white\", \"zerolinewidth\": 2}, \"yaxis\": {\"automargin\": true, \"gridcolor\": \"white\", \"linecolor\": \"white\", \"ticks\": \"\", \"zerolinecolor\": \"white\", \"zerolinewidth\": 2}}}, \"updatemenus\": [{\"buttons\": [{\"args\": [null, {\"frame\": {\"duration\": 500, \"redraw\": false}, \"fromcurrent\": true, \"transition\": {\"duration\": 300, \"easing\": \"linear\"}}], \"label\": \"Play\", \"method\": \"animate\"}, {\"args\": [null, {\"frame\": {\"duration\": 0, \"redraw\": false}, \"mode\": \"immediate\", \"transition\": {\"duration\": 0}}], \"label\": \"Pause\", \"method\": \"animate\"}], \"direction\": \"left\", \"pad\": {\"r\": 10, \"t\": 87}, \"showactive\": false, \"type\": \"buttons\", \"x\": 0.1, \"xanchor\": \"right\", \"y\": 0, \"yanchor\": \"top\"}], \"width\": 600, \"xaxis\": {\"range\": [0, 0.1], \"showgrid\": false, \"showline\": false, \"showticklabels\": false, \"ticks\": \"\", \"zeroline\": false}, \"yaxis\": {\"range\": [0, 0.1], \"scaleanchor\": \"x\", \"showgrid\": false, \"showline\": false, \"showticklabels\": false, \"ticks\": \"\", \"zeroline\": false}},\n",
       "                        {\"responsive\": true}\n",
       "                    ).then(function(){\n",
       "                            Plotly.addFrames('ba9bd79f-f654-461e-8054-cefcf873d6c6', [{\"data\": [{\"fill\": \"toself\", \"marker\": {\"color\": \"#a6cee3\"}, \"mode\": \"lines\", \"name\": \"0\", \"showlegend\": true, \"x\": [0.0, 0.0, 1.0, 1.0, 0.0], \"y\": [0.0, 1.0, 1.0, 0.0, 0.0], \"type\": \"scatter\"}, {\"fill\": \"toself\", \"marker\": {\"color\": \"#1f78b4\"}, \"mode\": \"lines\", \"name\": \"1\", \"showlegend\": true, \"x\": [14.0, 14.0, 15.0, 15.0, 14.0], \"y\": [0.0, 1.0, 1.0, 0.0, 0.0], \"type\": \"scatter\"}, {\"fill\": \"toself\", \"marker\": {\"color\": \"#b2df8a\"}, \"mode\": \"lines\", \"name\": \"2\", \"showlegend\": true, \"x\": [2.0, 2.0, 12.0, 12.0, 2.0], \"y\": [0.0, 1.0, 1.0, 0.0, 0.0], \"type\": \"scatter\"}], \"name\": \"0\"}, {\"data\": [{\"fill\": \"toself\", \"marker\": {\"color\": \"#a6cee3\"}, \"mode\": \"lines\", \"name\": \"0\", \"showlegend\": true, \"x\": [-0.0927918329834938, -0.0927918329834938, 1.1003519296646118, 1.1003519296646118, -0.0927918329834938], \"y\": [-0.07788249105215073, 1.0659700632095337, 1.0659700632095337, -0.07788249105215073, -0.07788249105215073], \"type\": \"scatter\"}, {\"fill\": \"toself\", \"marker\": {\"color\": \"#1f78b4\"}, \"mode\": \"lines\", \"name\": \"1\", \"showlegend\": true, \"x\": [13.899556159973145, 13.899556159973145, 14.899847030639648, 14.899847030639648, 13.899556159973145], \"y\": [-0.05203567072749138, 1.0235532522201538, 1.0235532522201538, -0.05203567072749138, -0.05203567072749138], \"type\": \"scatter\"}, {\"fill\": \"toself\", \"marker\": {\"color\": \"#b2df8a\"}, \"mode\": \"lines\", \"name\": \"2\", \"showlegend\": true, \"x\": [2.0943493843078613, 2.0943493843078613, 11.90262222290039, 11.90262222290039, 2.0943493843078613], \"y\": [0.09589552879333496, 0.9021338224411011, 0.9021338224411011, 0.09589552879333496, 0.09589552879333496], \"type\": \"scatter\"}], \"name\": \"1\"}, {\"data\": [{\"fill\": \"toself\", \"marker\": {\"color\": \"#a6cee3\"}, \"mode\": \"lines\", \"name\": \"0\", \"showlegend\": true, \"x\": [-0.16873419284820557, -0.16873419284820557, 1.200907826423645, 1.200907826423645, -0.16873419284820557], \"y\": [-0.14844800531864166, 1.129870891571045, 1.129870891571045, -0.14844800531864166, -0.14844800531864166], \"type\": \"scatter\"}, {\"fill\": \"toself\", \"marker\": {\"color\": \"#1f78b4\"}, \"mode\": \"lines\", \"name\": \"1\", \"showlegend\": true, \"x\": [13.799202919006348, 13.799202919006348, 14.799324035644531, 14.799324035644531, 13.799202919006348], \"y\": [-0.121769979596138, 1.068231463432312, 1.068231463432312, -0.121769979596138, -0.121769979596138], \"type\": \"scatter\"}, {\"fill\": \"toself\", \"marker\": {\"color\": \"#b2df8a\"}, \"mode\": \"lines\", \"name\": \"2\", \"showlegend\": true, \"x\": [2.175870180130005, 2.175870180130005, 11.812623023986816, 11.812623023986816, 2.175870180130005], \"y\": [0.1811951994895935, 0.8155499696731567, 0.8155499696731567, 0.1811951994895935, 0.1811951994895935], \"type\": \"scatter\"}], \"name\": \"2\"}, {\"data\": [{\"fill\": \"toself\", \"marker\": {\"color\": \"#a6cee3\"}, \"mode\": \"lines\", \"name\": \"0\", \"showlegend\": true, \"x\": [-0.23269908130168915, -0.23269908130168915, 1.3016853332519531, 1.3016853332519531, -0.23269908130168915], \"y\": [-0.20961357653141022, 1.1863725185394287, 1.1863725185394287, -0.20961357653141022, -0.20961357653141022], \"type\": \"scatter\"}, {\"fill\": \"toself\", \"marker\": {\"color\": \"#1f78b4\"}, \"mode\": \"lines\", \"name\": \"1\", \"showlegend\": true, \"x\": [13.6985502243042, 13.6985502243042, 14.69853687286377, 14.69853687286377, 13.6985502243042], \"y\": [-0.1888371706008911, 1.1144521236419678, 1.1144521236419678, -0.1888371706008911, -0.1888371706008911], \"type\": \"scatter\"}, {\"fill\": \"toself\", \"marker\": {\"color\": \"#b2df8a\"}, \"mode\": \"lines\", \"name\": \"2\", \"showlegend\": true, \"x\": [2.2488791942596436, 2.2488791942596436, 11.72879409790039, 11.72879409790039, 2.2488791942596436], \"y\": [0.25903308391571045, 0.7369183897972107, 0.7369183897972107, 0.25903308391571045, 0.25903308391571045], \"type\": \"scatter\"}], \"name\": \"3\"}, {\"data\": [{\"fill\": \"toself\", \"marker\": {\"color\": \"#a6cee3\"}, \"mode\": \"lines\", \"name\": \"0\", \"showlegend\": true, \"x\": [-0.28777286410331726, -0.28777286410331726, 1.4024651050567627, 1.4024651050567627, -0.28777286410331726], \"y\": [-0.26330551505088806, 1.2364046573638916, 1.2364046573638916, -0.26330551505088806, -0.26330551505088806], \"type\": \"scatter\"}, {\"fill\": \"toself\", \"marker\": {\"color\": \"#1f78b4\"}, \"mode\": \"lines\", \"name\": \"1\", \"showlegend\": true, \"x\": [13.597933769226074, 13.597933769226074, 14.5975923538208, 14.5975923538208, 13.597933769226074], \"y\": [-0.2518235146999359, 1.1596676111221313, 1.1596676111221313, -0.2518235146999359, -0.2518235146999359], \"type\": \"scatter\"}, {\"fill\": \"toself\", \"marker\": {\"color\": \"#b2df8a\"}, \"mode\": \"lines\", \"name\": \"2\", \"showlegend\": true, \"x\": [2.316127061843872, 2.316127061843872, 11.649823188781738, 11.649823188781738, 2.316127061843872], \"y\": [0.3313293755054474, 0.6640312671661377, 0.6640312671661377, 0.3313293755054474, 0.3313293755054474], \"type\": \"scatter\"}], \"name\": \"4\"}, {\"data\": [{\"fill\": \"toself\", \"marker\": {\"color\": \"#a6cee3\"}, \"mode\": \"lines\", \"name\": \"0\", \"showlegend\": true, \"x\": [-0.33595237135887146, -0.33595237135887146, 1.5032832622528076, 1.5032832622528076, -0.33595237135887146], \"y\": [-0.3152780830860138, 1.2811552286148071, 1.2811552286148071, -0.3152780830860138, -0.3152780830860138], \"type\": \"scatter\"}, {\"fill\": \"toself\", \"marker\": {\"color\": \"#1f78b4\"}, \"mode\": \"lines\", \"name\": \"1\", \"showlegend\": true, \"x\": [13.497196197509766, 13.497196197509766, 14.496576309204102, 14.496576309204102, 13.497196197509766], \"y\": [-0.3005697727203369, 1.2031415700912476, 1.2031415700912476, -0.3005697727203369, -0.3005697727203369], \"type\": \"scatter\"}, {\"fill\": \"toself\", \"marker\": {\"color\": \"#b2df8a\"}, \"mode\": \"lines\", \"name\": \"2\", \"showlegend\": true, \"x\": [2.379375457763672, 2.379375457763672, 11.57468318939209, 11.57468318939209, 2.379375457763672], \"y\": [0.39929133653640747, 0.5955910682678223, 0.5955910682678223, 0.39929133653640747, 0.39929133653640747], \"type\": \"scatter\"}], \"name\": \"5\"}, {\"data\": [{\"fill\": \"toself\", \"marker\": {\"color\": \"#a6cee3\"}, \"mode\": \"lines\", \"name\": \"0\", \"showlegend\": true, \"x\": [-0.3785434067249298, -0.3785434067249298, 1.6041433811187744, 1.6041433811187744, -0.3785434067249298], \"y\": [-0.36069852113723755, 1.3214445114135742, 1.3214445114135742, -0.36069852113723755, -0.36069852113723755], \"type\": \"scatter\"}, {\"fill\": \"toself\", \"marker\": {\"color\": \"#1f78b4\"}, \"mode\": \"lines\", \"name\": \"1\", \"showlegend\": true, \"x\": [13.396320343017578, 13.396320343017578, 14.395486831665039, 14.395486831665039, 13.396320343017578], \"y\": [-0.33635106682777405, 1.2453871965408325, 1.2453871965408325, -0.33635106682777405, -0.33635106682777405], \"type\": \"scatter\"}, {\"fill\": \"toself\", \"marker\": {\"color\": \"#b2df8a\"}, \"mode\": \"lines\", \"name\": \"2\", \"showlegend\": true, \"x\": [2.4398012161254883, 2.4398012161254883, 11.50199031829834, 11.50199031829834, 2.4398012161254883], \"y\": [0.4639202356338501, 0.530555248260498, 0.530555248260498, 0.4639202356338501, 0.4639202356338501], \"type\": \"scatter\"}], \"name\": \"6\"}, {\"data\": [{\"fill\": \"toself\", \"marker\": {\"color\": \"#a6cee3\"}, \"mode\": \"lines\", \"name\": \"0\", \"showlegend\": true, \"x\": [-0.4167097806930542, -0.4167097806930542, 1.7049345970153809, 1.7049345970153809, -0.4167097806930542], \"y\": [-0.3970228433609009, 1.3582704067230225, 1.3582704067230225, -0.3970228433609009, -0.3970228433609009], \"type\": \"scatter\"}, {\"fill\": \"toself\", \"marker\": {\"color\": \"#1f78b4\"}, \"mode\": \"lines\", \"name\": \"1\", \"showlegend\": true, \"x\": [13.295516967773438, 13.295516967773438, 14.294397354125977, 14.294397354125977, 13.295516967773438], \"y\": [-0.3797666132450104, 1.285937786102295, 1.285937786102295, -0.3797666132450104, -0.3797666132450104], \"type\": \"scatter\"}, {\"fill\": \"toself\", \"marker\": {\"color\": \"#b2df8a\"}, \"mode\": \"lines\", \"name\": \"2\", \"showlegend\": true, \"x\": [2.4984946250915527, 2.4984946250915527, 11.43166732788086, 11.43166732788086, 2.4984946250915527], \"y\": [0.5257603526115417, 0.4683580696582794, 0.4683580696582794, 0.5257603526115417, 0.5257603526115417], \"type\": \"scatter\"}], \"name\": \"7\"}, {\"data\": [{\"fill\": \"toself\", \"marker\": {\"color\": \"#a6cee3\"}, \"mode\": \"lines\", \"name\": \"0\", \"showlegend\": true, \"x\": [-0.45114225149154663, -0.45114225149154663, 1.805641770362854, 1.805641770362854, -0.45114225149154663], \"y\": [-0.4304589629173279, 1.3921575546264648, 1.3921575546264648, -0.4304589629173279, -0.4304589629173279], \"type\": \"scatter\"}, {\"fill\": \"toself\", \"marker\": {\"color\": \"#1f78b4\"}, \"mode\": \"lines\", \"name\": \"1\", \"showlegend\": true, \"x\": [13.194801330566406, 13.194801330566406, 14.193307876586914, 14.193307876586914, 13.194801330566406], \"y\": [-0.42131727933883667, 1.3248324394226074, 1.3248324394226074, -0.42131727933883667, -0.42131727933883667], \"type\": \"scatter\"}, {\"fill\": \"toself\", \"marker\": {\"color\": \"#b2df8a\"}, \"mode\": \"lines\", \"name\": \"2\", \"showlegend\": true, \"x\": [2.5561606884002686, 2.5561606884002686, 11.363306999206543, 11.363306999206543, 2.5561606884002686], \"y\": [0.5851729512214661, 0.4086269438266754, 0.4086269438266754, 0.5851729512214661, 0.5851729512214661], \"type\": \"scatter\"}], \"name\": \"8\"}, {\"data\": [{\"fill\": \"toself\", \"marker\": {\"color\": \"#a6cee3\"}, \"mode\": \"lines\", \"name\": \"0\", \"showlegend\": true, \"x\": [-0.48239123821258545, -0.48239123821258545, 1.9062918424606323, 1.9062918424606323, -0.48239123821258545], \"y\": [-0.4669698178768158, 1.4235042333602905, 1.4235042333602905, -0.4669698178768158, -0.4669698178768158], \"type\": \"scatter\"}, {\"fill\": \"toself\", \"marker\": {\"color\": \"#1f78b4\"}, \"mode\": \"lines\", \"name\": \"1\", \"showlegend\": true, \"x\": [13.09411907196045, 13.09411907196045, 14.092218399047852, 14.092218399047852, 13.09411907196045], \"y\": [-0.449694961309433, 1.3621996641159058, 1.3621996641159058, -0.449694961309433, -0.449694961309433], \"type\": \"scatter\"}, {\"fill\": \"toself\", \"marker\": {\"color\": \"#b2df8a\"}, \"mode\": \"lines\", \"name\": \"2\", \"showlegend\": true, \"x\": [2.6133317947387695, 2.6133317947387695, 11.296463012695312, 11.296463012695312, 2.6133317947387695], \"y\": [0.6424461007118225, 0.35106468200683594, 0.35106468200683594, 0.6424461007118225, 0.6424461007118225], \"type\": \"scatter\"}], \"name\": \"9\"}, {\"data\": [{\"fill\": \"toself\", \"marker\": {\"color\": \"#a6cee3\"}, \"mode\": \"lines\", \"name\": \"0\", \"showlegend\": true, \"x\": [-0.5108642578125, -0.5108642578125, 2.0068612098693848, 2.0068612098693848, -0.5108642578125], \"y\": [-0.4947485327720642, 1.4525889158248901, 1.4525889158248901, -0.4947485327720642, -0.4947485327720642], \"type\": \"scatter\"}, {\"fill\": \"toself\", \"marker\": {\"color\": \"#1f78b4\"}, \"mode\": \"lines\", \"name\": \"1\", \"showlegend\": true, \"x\": [12.993535995483398, 12.993535995483398, 13.991128921508789, 13.991128921508789, 12.993535995483398], \"y\": [-0.48488327860832214, 1.3984187841415405, 1.3984187841415405, -0.48488327860832214, -0.48488327860832214], \"type\": \"scatter\"}, {\"fill\": \"toself\", \"marker\": {\"color\": \"#b2df8a\"}, \"mode\": \"lines\", \"name\": \"2\", \"showlegend\": true, \"x\": [2.6704680919647217, 2.6704680919647217, 11.230597496032715, 11.230597496032715, 2.6704680919647217], \"y\": [0.6979017853736877, 0.2953440845012665, 0.2953440845012665, 0.6979017853736877, 0.6979017853736877], \"type\": \"scatter\"}], \"name\": \"10\"}, {\"data\": [{\"fill\": \"toself\", \"marker\": {\"color\": \"#a6cee3\"}, \"mode\": \"lines\", \"name\": \"0\", \"showlegend\": true, \"x\": [-0.53691565990448, -0.53691565990448, 2.1073520183563232, 2.1073520183563232, -0.53691565990448], \"y\": [-0.5261290073394775, 1.4796860218048096, 1.4796860218048096, -0.5261290073394775, -0.5261290073394775], \"type\": \"scatter\"}, {\"fill\": \"toself\", \"marker\": {\"color\": \"#1f78b4\"}, \"mode\": \"lines\", \"name\": \"1\", \"showlegend\": true, \"x\": [12.893038749694824, 12.893038749694824, 13.890122413635254, 13.890122413635254, 12.893038749694824], \"y\": [-0.5065087676048279, 1.433538556098938, 1.433538556098938, -0.5065087676048279, -0.5065087676048279], \"type\": \"scatter\"}, {\"fill\": \"toself\", \"marker\": {\"color\": \"#b2df8a\"}, \"mode\": \"lines\", \"name\": \"2\", \"showlegend\": true, \"x\": [2.727970600128174, 2.727970600128174, 11.165492057800293, 11.165492057800293, 2.727970600128174], \"y\": [0.7516797780990601, 0.24132053554058075, 0.24132053554058075, 0.7516797780990601, 0.7516797780990601], \"type\": \"scatter\"}], \"name\": \"11\"}, {\"data\": [{\"fill\": \"toself\", \"marker\": {\"color\": \"#a6cee3\"}, \"mode\": \"lines\", \"name\": \"0\", \"showlegend\": true, \"x\": [-0.5608558654785156, -0.5608558654785156, 2.207794189453125, 2.207794189453125, -0.5608558654785156], \"y\": [-0.5494930148124695, 1.5050666332244873, 1.5050666332244873, -0.5494930148124695, -0.5494930148124695], \"type\": \"scatter\"}, {\"fill\": \"toself\", \"marker\": {\"color\": \"#1f78b4\"}, \"mode\": \"lines\", \"name\": \"1\", \"showlegend\": true, \"x\": [12.792557716369629, 12.792557716369629, 13.789128303527832, 13.789128303527832, 12.792557716369629], \"y\": [-0.5370965003967285, 1.4674708843231201, 1.4674708843231201, -0.5370965003967285, -0.5370965003967285], \"type\": \"scatter\"}, {\"fill\": \"toself\", \"marker\": {\"color\": \"#b2df8a\"}, \"mode\": \"lines\", \"name\": \"2\", \"showlegend\": true, \"x\": [2.786224126815796, 2.786224126815796, 11.101127624511719, 11.101127624511719, 2.786224126815796], \"y\": [0.8038566708564758, 0.1889151632785797, 0.1889151632785797, 0.8038566708564758, 0.8038566708564758], \"type\": \"scatter\"}], \"name\": \"12\"}, {\"data\": [{\"fill\": \"toself\", \"marker\": {\"color\": \"#a6cee3\"}, \"mode\": \"lines\", \"name\": \"0\", \"showlegend\": true, \"x\": [-0.5829353332519531, -0.5829353332519531, 2.3081328868865967, 2.3081328868865967, -0.5829353332519531], \"y\": [-0.5714754462242126, 1.5289325714111328, 1.5289325714111328, -0.5714754462242126, -0.5714754462242126], \"type\": \"scatter\"}, {\"fill\": \"toself\", \"marker\": {\"color\": \"#1f78b4\"}, \"mode\": \"lines\", \"name\": \"1\", \"showlegend\": true, \"x\": [12.692214012145996, 12.692214012145996, 13.68813419342041, 13.68813419342041, 12.692214012145996], \"y\": [-0.56670081615448, 1.5002636909484863, 1.5002636909484863, -0.56670081615448, -0.56670081615448], \"type\": \"scatter\"}, {\"fill\": \"toself\", \"marker\": {\"color\": \"#b2df8a\"}, \"mode\": \"lines\", \"name\": \"2\", \"showlegend\": true, \"x\": [2.8455657958984375, 2.8455657958984375, 11.037313461303711, 11.037313461303711, 2.8455657958984375], \"y\": [0.854550302028656, 0.1380077749490738, 0.1380077749490738, 0.854550302028656, 0.854550302028656], \"type\": \"scatter\"}], \"name\": \"13\"}, {\"data\": [{\"fill\": \"toself\", \"marker\": {\"color\": \"#a6cee3\"}, \"mode\": \"lines\", \"name\": \"0\", \"showlegend\": true, \"x\": [-0.6033267378807068, -0.6033267378807068, 2.408398389816284, 2.408398389816284, -0.6033267378807068], \"y\": [-0.598543643951416, 1.5513637065887451, 1.5513637065887451, -0.598543643951416, -0.598543643951416], \"type\": \"scatter\"}, {\"fill\": \"toself\", \"marker\": {\"color\": \"#1f78b4\"}, \"mode\": \"lines\", \"name\": \"1\", \"showlegend\": true, \"x\": [12.591967582702637, 12.591967582702637, 13.587140083312988, 13.587140083312988, 12.591967582702637], \"y\": [-0.5826410055160522, 1.5322859287261963, 1.5322859287261963, -0.5826410055160522, -0.5826410055160522], \"type\": \"scatter\"}, {\"fill\": \"toself\", \"marker\": {\"color\": \"#b2df8a\"}, \"mode\": \"lines\", \"name\": \"2\", \"showlegend\": true, \"x\": [2.9062082767486572, 2.9062082767486572, 10.97354507446289, 10.97354507446289, 2.9062082767486572], \"y\": [0.9039662480354309, 0.08839073777198792, 0.08839073777198792, 0.9039662480354309, 0.9039662480354309], \"type\": \"scatter\"}], \"name\": \"14\"}, {\"data\": [{\"fill\": \"toself\", \"marker\": {\"color\": \"#a6cee3\"}, \"mode\": \"lines\", \"name\": \"0\", \"showlegend\": true, \"x\": [-0.622229814529419, -0.622229814529419, 2.508589744567871, 2.508589744567871, -0.622229814529419], \"y\": [-0.6173518896102905, 1.5725491046905518, 1.5725491046905518, -0.6173518896102905, -0.6173518896102905], \"type\": \"scatter\"}, {\"fill\": \"toself\", \"marker\": {\"color\": \"#1f78b4\"}, \"mode\": \"lines\", \"name\": \"1\", \"showlegend\": true, \"x\": [12.491809844970703, 12.491809844970703, 13.486225128173828, 13.486225128173828, 12.491809844970703], \"y\": [-0.608642578125, 1.5634088516235352, 1.5634088516235352, -0.608642578125, -0.608642578125], \"type\": \"scatter\"}, {\"fill\": \"toself\", \"marker\": {\"color\": \"#b2df8a\"}, \"mode\": \"lines\", \"name\": \"2\", \"showlegend\": true, \"x\": [2.9683735370635986, 2.9683735370635986, 10.909862518310547, 10.909862518310547, 2.9683735370635986], \"y\": [0.9521188735961914, 0.040047869086265564, 0.040047869086265564, 0.9521188735961914, 0.9521188735961914], \"type\": \"scatter\"}], \"name\": \"15\"}, {\"data\": [{\"fill\": \"toself\", \"marker\": {\"color\": \"#a6cee3\"}, \"mode\": \"lines\", \"name\": \"0\", \"showlegend\": true, \"x\": [-0.6397409439086914, -0.6397409439086914, 2.608708620071411, 2.608708620071411, -0.6397409439086914], \"y\": [-0.642493724822998, 1.6005213260650635, 1.6005213260650635, -0.642493724822998, -0.642493724822998], \"type\": \"scatter\"}, {\"fill\": \"toself\", \"marker\": {\"color\": \"#1f78b4\"}, \"mode\": \"lines\", \"name\": \"1\", \"showlegend\": true, \"x\": [12.391754150390625, 12.391754150390625, 13.385326385498047, 13.385326385498047, 12.391754150390625], \"y\": [-0.6220800280570984, 1.5790766477584839, 1.5790766477584839, -0.6220800280570984, -0.6220800280570984], \"type\": \"scatter\"}, {\"fill\": \"toself\", \"marker\": {\"color\": \"#b2df8a\"}, \"mode\": \"lines\", \"name\": \"2\", \"showlegend\": true, \"x\": [3.032271385192871, 3.032271385192871, 10.846061706542969, 10.846061706542969, 3.032271385192871], \"y\": [0.9990367889404297, -0.00704996706917882, -0.00704996706917882, 0.9990367889404297, 0.9990367889404297], \"type\": \"scatter\"}], \"name\": \"16\"}, {\"data\": [{\"fill\": \"toself\", \"marker\": {\"color\": \"#a6cee3\"}, \"mode\": \"lines\", \"name\": \"0\", \"showlegend\": true, \"x\": [-0.6559890508651733, -0.6559890508651733, 2.7087562084198, 2.7087562084198, -0.6559890508651733], \"y\": [-0.6586208939552307, 1.6184337139129639, 1.6184337139129639, -0.6586208939552307, -0.6586208939552307], \"type\": \"scatter\"}, {\"fill\": \"toself\", \"marker\": {\"color\": \"#1f78b4\"}, \"mode\": \"lines\", \"name\": \"1\", \"showlegend\": true, \"x\": [12.291791915893555, 12.291791915893555, 13.284427642822266, 13.284427642822266, 12.291791915893555], \"y\": [-0.6451234817504883, 1.6058646440505981, 1.6058646440505981, -0.6451234817504883, -0.6451234817504883], \"type\": \"scatter\"}, {\"fill\": \"toself\", \"marker\": {\"color\": \"#b2df8a\"}, \"mode\": \"lines\", \"name\": \"2\", \"showlegend\": true, \"x\": [3.0980677604675293, 3.0980677604675293, 10.781819343566895, 10.781819343566895, 3.0980677604675293], \"y\": [1.0449048280715942, -0.05308937281370163, -0.05308937281370163, 1.0449048280715942, 1.0449048280715942], \"type\": \"scatter\"}], \"name\": \"17\"}, {\"data\": [{\"fill\": \"toself\", \"marker\": {\"color\": \"#a6cee3\"}, \"mode\": \"lines\", \"name\": \"0\", \"showlegend\": true, \"x\": [-0.6711525917053223, -0.6711525917053223, 2.808732509613037, 2.808732509613037, -0.6711525917053223], \"y\": [-0.6739007234573364, 1.6354560852050781, 1.6354560852050781, -0.6739007234573364, -0.6739007234573364], \"type\": \"scatter\"}, {\"fill\": \"toself\", \"marker\": {\"color\": \"#1f78b4\"}, \"mode\": \"lines\", \"name\": \"1\", \"showlegend\": true, \"x\": [12.191917419433594, 12.191917419433594, 13.183528900146484, 13.183528900146484, 12.191917419433594], \"y\": [-0.6677457094192505, 1.6320465803146362, 1.6320465803146362, -0.6677457094192505, -0.6677457094192505], \"type\": \"scatter\"}, {\"fill\": \"toself\", \"marker\": {\"color\": \"#b2df8a\"}, \"mode\": \"lines\", \"name\": \"2\", \"showlegend\": true, \"x\": [3.1659529209136963, 3.1659529209136963, 10.717208862304688, 10.717208862304688, 3.1659529209136963], \"y\": [1.0897151231765747, -0.09806320071220398, -0.09806320071220398, 1.0897151231765747, 1.0897151231765747], \"type\": \"scatter\"}], \"name\": \"18\"}, {\"data\": [{\"fill\": \"toself\", \"marker\": {\"color\": \"#a6cee3\"}, \"mode\": \"lines\", \"name\": \"0\", \"showlegend\": true, \"x\": [-0.6852438449859619, -0.6852438449859619, 2.908639669418335, 2.908639669418335, -0.6852438449859619], \"y\": [-0.6963416934013367, 1.6601638793945312, 1.6601638793945312, -0.6963416934013367, -0.6963416934013367], \"type\": \"scatter\"}, {\"fill\": \"toself\", \"marker\": {\"color\": \"#1f78b4\"}, \"mode\": \"lines\", \"name\": \"1\", \"showlegend\": true, \"x\": [12.092164993286133, 12.092164993286133, 13.08267593383789, 13.08267593383789, 12.092164993286133], \"y\": [-0.6771366000175476, 1.6427345275878906, 1.6427345275878906, -0.6771366000175476, -0.6771366000175476], \"type\": \"scatter\"}, {\"fill\": \"toself\", \"marker\": {\"color\": \"#b2df8a\"}, \"mode\": \"lines\", \"name\": \"2\", \"showlegend\": true, \"x\": [3.2359628677368164, 3.2359628677368164, 10.652013778686523, 10.652013778686523, 3.2359628677368164], \"y\": [1.1335177421569824, -0.14202195405960083, -0.14202195405960083, 1.1335177421569824, 1.1335177421569824], \"type\": \"scatter\"}], \"name\": \"19\"}, {\"data\": [{\"fill\": \"toself\", \"marker\": {\"color\": \"#a6cee3\"}, \"mode\": \"lines\", \"name\": \"0\", \"showlegend\": true, \"x\": [-0.6983566284179688, -0.6983566284179688, 3.0084822177886963, 3.0084822177886963, -0.6983566284179688], \"y\": [-0.709385097026825, 1.6833449602127075, 1.6833449602127075, -0.709385097026825, -0.709385097026825], \"type\": \"scatter\"}, {\"fill\": \"toself\", \"marker\": {\"color\": \"#1f78b4\"}, \"mode\": \"lines\", \"name\": \"1\", \"showlegend\": true, \"x\": [11.992533683776855, 11.992533683776855, 12.98187255859375, 12.98187255859375, 11.992533683776855], \"y\": [-0.6975196003913879, 1.6517329216003418, 1.6517329216003418, -0.6975196003913879, -0.6975196003913879], \"type\": \"scatter\"}, {\"fill\": \"toself\", \"marker\": {\"color\": \"#b2df8a\"}, \"mode\": \"lines\", \"name\": \"2\", \"showlegend\": true, \"x\": [3.3081398010253906, 3.3081398010253906, 10.585983276367188, 10.585983276367188, 3.3081398010253906], \"y\": [1.1764030456542969, -0.18505658209323883, -0.18505658209323883, 1.1764030456542969, 1.1764030456542969], \"type\": \"scatter\"}], \"name\": \"20\"}, {\"data\": [{\"fill\": \"toself\", \"marker\": {\"color\": \"#a6cee3\"}, \"mode\": \"lines\", \"name\": \"0\", \"showlegend\": true, \"x\": [-0.7106055617332458, -0.7106055617332458, 3.1082539558410645, 3.1082539558410645, -0.7106055617332458], \"y\": [-0.7217850685119629, 1.6962957382202148, 1.6962957382202148, -0.7217850685119629, -0.7217850685119629], \"type\": \"scatter\"}, {\"fill\": \"toself\", \"marker\": {\"color\": \"#1f78b4\"}, \"mode\": \"lines\", \"name\": \"1\", \"showlegend\": true, \"x\": [11.892998695373535, 11.892998695373535, 12.88106918334961, 12.88106918334961, 11.892998695373535], \"y\": [-0.717624306678772, 1.672283411026001, 1.672283411026001, -0.717624306678772, -0.717624306678772], \"type\": \"scatter\"}, {\"fill\": \"toself\", \"marker\": {\"color\": \"#b2df8a\"}, \"mode\": \"lines\", \"name\": \"2\", \"showlegend\": true, \"x\": [3.3826839923858643, 3.3826839923858643, 10.519303321838379, 10.519303321838379, 3.3826839923858643], \"y\": [1.2183716297149658, -0.22716830670833588, -0.22716830670833588, 1.2183716297149658, 1.2183716297149658], \"type\": \"scatter\"}], \"name\": \"21\"}, {\"data\": [{\"fill\": \"toself\", \"marker\": {\"color\": \"#a6cee3\"}, \"mode\": \"lines\", \"name\": \"0\", \"showlegend\": true, \"x\": [-0.7220602035522461, -0.7220602035522461, 3.2079646587371826, 3.2079646587371826, -0.7220602035522461], \"y\": [-0.742310643196106, 1.7172478437423706, 1.7172478437423706, -0.742310643196106, -0.742310643196106], \"type\": \"scatter\"}, {\"fill\": \"toself\", \"marker\": {\"color\": \"#1f78b4\"}, \"mode\": \"lines\", \"name\": \"1\", \"showlegend\": true, \"x\": [11.79357624053955, 11.79357624053955, 12.780265808105469, 12.780265808105469, 11.79357624053955], \"y\": [-0.7238216400146484, 1.68081796169281, 1.68081796169281, -0.7238216400146484, -0.7238216400146484], \"type\": \"scatter\"}, {\"fill\": \"toself\", \"marker\": {\"color\": \"#b2df8a\"}, \"mode\": \"lines\", \"name\": \"2\", \"showlegend\": true, \"x\": [3.4594337940216064, 3.4594337940216064, 10.451791763305664, 10.451791763305664, 3.4594337940216064], \"y\": [1.2594460248947144, -0.26838040351867676, -0.26838040351867676, 1.2594460248947144, 1.2594460248947144], \"type\": \"scatter\"}], \"name\": \"22\"}, {\"data\": [{\"fill\": \"toself\", \"marker\": {\"color\": \"#a6cee3\"}, \"mode\": \"lines\", \"name\": \"0\", \"showlegend\": true, \"x\": [-0.7327591180801392, -0.7327591180801392, 3.3076064586639404, 3.3076064586639404, -0.7327591180801392], \"y\": [-0.7529388666152954, 1.7293509244918823, 1.7293509244918823, -0.7529388666152954, -0.7529388666152954], \"type\": \"scatter\"}, {\"fill\": \"toself\", \"marker\": {\"color\": \"#1f78b4\"}, \"mode\": \"lines\", \"name\": \"1\", \"showlegend\": true, \"x\": [11.694276809692383, 11.694276809692383, 12.679462432861328, 12.679462432861328, 11.694276809692383], \"y\": [-0.7419074177742004, 1.6977403163909912, 1.6977403163909912, -0.7419074177742004, -0.7419074177742004], \"type\": \"scatter\"}, {\"fill\": \"toself\", \"marker\": {\"color\": \"#b2df8a\"}, \"mode\": \"lines\", \"name\": \"2\", \"showlegend\": true, \"x\": [3.538597822189331, 3.538597822189331, 10.383234977722168, 10.383234977722168, 3.538597822189331], \"y\": [1.2997684478759766, -0.30883556604385376, -0.30883556604385376, 1.2997684478759766, 1.2997684478759766], \"type\": \"scatter\"}], \"name\": \"23\"}, {\"data\": [{\"fill\": \"toself\", \"marker\": {\"color\": \"#a6cee3\"}, \"mode\": \"lines\", \"name\": \"0\", \"showlegend\": true, \"x\": [-0.7428094744682312, -0.7428094744682312, 3.4071829319000244, 3.4071829319000244, -0.7428094744682312], \"y\": [-0.7649821043014526, 1.7398881912231445, 1.7398881912231445, -0.7649821043014526, -0.7649821043014526], \"type\": \"scatter\"}, {\"fill\": \"toself\", \"marker\": {\"color\": \"#1f78b4\"}, \"mode\": \"lines\", \"name\": \"1\", \"showlegend\": true, \"x\": [11.595102310180664, 11.595102310180664, 12.578659057617188, 12.578659057617188, 11.595102310180664], \"y\": [-0.7572966814041138, 1.7158006429672241, 1.7158006429672241, -0.7572966814041138, -0.7572966814041138], \"type\": \"scatter\"}, {\"fill\": \"toself\", \"marker\": {\"color\": \"#b2df8a\"}, \"mode\": \"lines\", \"name\": \"2\", \"showlegend\": true, \"x\": [3.620060682296753, 3.620060682296753, 10.313934326171875, 10.313934326171875, 3.620060682296753], \"y\": [1.3392857313156128, -0.348479688167572, -0.348479688167572, 1.3392857313156128, 1.3392857313156128], \"type\": \"scatter\"}], \"name\": \"24\"}, {\"data\": [{\"fill\": \"toself\", \"marker\": {\"color\": \"#a6cee3\"}, \"mode\": \"lines\", \"name\": \"0\", \"showlegend\": true, \"x\": [-0.7522037625312805, -0.7522037625312805, 3.506697177886963, 3.506697177886963, -0.7522037625312805], \"y\": [-0.7821718454360962, 1.7498973608016968, 1.7498973608016968, -0.7821718454360962, -0.7821718454360962], \"type\": \"scatter\"}, {\"fill\": \"toself\", \"marker\": {\"color\": \"#1f78b4\"}, \"mode\": \"lines\", \"name\": \"1\", \"showlegend\": true, \"x\": [11.49605655670166, 11.49605655670166, 12.477855682373047, 12.477855682373047, 11.49605655670166], \"y\": [-0.7631074786186218, 1.7337027788162231, 1.7337027788162231, -0.7631074786186218, -0.7631074786186218], \"type\": \"scatter\"}, {\"fill\": \"toself\", \"marker\": {\"color\": \"#b2df8a\"}, \"mode\": \"lines\", \"name\": \"2\", \"showlegend\": true, \"x\": [3.703728675842285, 3.703728675842285, 10.243570327758789, 10.243570327758789, 3.703728675842285], \"y\": [1.3779921531677246, -0.3873087465763092, -0.3873087465763092, 1.3779921531677246, 1.3779921531677246], \"type\": \"scatter\"}], \"name\": \"25\"}, {\"data\": [{\"fill\": \"toself\", \"marker\": {\"color\": \"#a6cee3\"}, \"mode\": \"lines\", \"name\": \"0\", \"showlegend\": true, \"x\": [-0.761055588722229, -0.761055588722229, 3.606152296066284, 3.606152296066284, -0.761055588722229], \"y\": [-0.7909154891967773, 1.7594975233078003, 1.7594975233078003, -0.7909154891967773, -0.7909154891967773], \"type\": \"scatter\"}, {\"fill\": \"toself\", \"marker\": {\"color\": \"#1f78b4\"}, \"mode\": \"lines\", \"name\": \"1\", \"showlegend\": true, \"x\": [11.397139549255371, 11.397139549255371, 12.377052307128906, 12.377052307128906, 11.397139549255371], \"y\": [-0.7789236903190613, 1.7512974739074707, 1.7512974739074707, -0.7789236903190613, -0.7789236903190613], \"type\": \"scatter\"}, {\"fill\": \"toself\", \"marker\": {\"color\": \"#b2df8a\"}, \"mode\": \"lines\", \"name\": \"2\", \"showlegend\": true, \"x\": [3.789506435394287, 3.789506435394287, 10.172258377075195, 10.172258377075195, 3.789506435394287], \"y\": [1.4158918857574463, -0.42532676458358765, -0.42532676458358765, 1.4158918857574463, 1.4158918857574463], \"type\": \"scatter\"}], \"name\": \"26\"}, {\"data\": [{\"fill\": \"toself\", \"marker\": {\"color\": \"#a6cee3\"}, \"mode\": \"lines\", \"name\": \"0\", \"showlegend\": true, \"x\": [-0.7693281769752502, -0.7693281769752502, 3.705533981323242, 3.705533981323242, -0.7693281769752502], \"y\": [-0.8078182339668274, 1.7795172929763794, 1.7795172929763794, -0.8078182339668274, -0.8078182339668274], \"type\": \"scatter\"}, {\"fill\": \"toself\", \"marker\": {\"color\": \"#1f78b4\"}, \"mode\": \"lines\", \"name\": \"1\", \"showlegend\": true, \"x\": [11.29837417602539, 11.29837417602539, 12.276248931884766, 12.276248931884766, 11.29837417602539], \"y\": [-0.7837336659431458, 1.7535885572433472, 1.7535885572433472, -0.7837336659431458, -0.7837336659431458], \"type\": \"scatter\"}, {\"fill\": \"toself\", \"marker\": {\"color\": \"#b2df8a\"}, \"mode\": \"lines\", \"name\": \"2\", \"showlegend\": true, \"x\": [3.877525806427002, 3.877525806427002, 10.100098609924316, 10.100098609924316, 3.877525806427002], \"y\": [1.4530521631240845, -0.46260175108909607, -0.46260175108909607, 1.4530521631240845, 1.4530521631240845], \"type\": \"scatter\"}], \"name\": \"27\"}, {\"data\": [{\"fill\": \"toself\", \"marker\": {\"color\": \"#a6cee3\"}, \"mode\": \"lines\", \"name\": \"0\", \"showlegend\": true, \"x\": [-0.7770935893058777, -0.7770935893058777, 3.804847240447998, 3.804847240447998, -0.7770935893058777], \"y\": [-0.8172160983085632, 1.7875860929489136, 1.7875860929489136, -0.8172160983085632, -0.8172160983085632], \"type\": \"scatter\"}, {\"fill\": \"toself\", \"marker\": {\"color\": \"#1f78b4\"}, \"mode\": \"lines\", \"name\": \"1\", \"showlegend\": true, \"x\": [11.199738502502441, 11.199738502502441, 12.175445556640625, 12.175445556640625, 11.199738502502441], \"y\": [-0.7955368757247925, 1.769167184829712, 1.769167184829712, -0.7955368757247925, -0.7955368757247925], \"type\": \"scatter\"}, {\"fill\": \"toself\", \"marker\": {\"color\": \"#b2df8a\"}, \"mode\": \"lines\", \"name\": \"2\", \"showlegend\": true, \"x\": [3.9676501750946045, 3.9676501750946045, 10.02709674835205, 10.02709674835205, 3.9676501750946045], \"y\": [1.4896564483642578, -0.49931633472442627, -0.49931633472442627, 1.4896564483642578, 1.4896564483642578], \"type\": \"scatter\"}], \"name\": \"28\"}, {\"data\": [{\"fill\": \"toself\", \"marker\": {\"color\": \"#a6cee3\"}, \"mode\": \"lines\", \"name\": \"0\", \"showlegend\": true, \"x\": [-0.7844096422195435, -0.7844096422195435, 3.9040889739990234, 3.9040889739990234, -0.7844096422195435], \"y\": [-0.8243070244789124, 1.8065544366836548, 1.8065544366836548, -0.8243070244789124, -0.8243070244789124], \"type\": \"scatter\"}, {\"fill\": \"toself\", \"marker\": {\"color\": \"#1f78b4\"}, \"mode\": \"lines\", \"name\": \"1\", \"showlegend\": true, \"x\": [11.10126781463623, 11.10126781463623, 12.074642181396484, 12.074642181396484, 11.10126781463623], \"y\": [-0.8096973299980164, 1.7699799537658691, 1.7699799537658691, -0.8096973299980164, -0.8096973299980164], \"type\": \"scatter\"}, {\"fill\": \"toself\", \"marker\": {\"color\": \"#b2df8a\"}, \"mode\": \"lines\", \"name\": \"2\", \"showlegend\": true, \"x\": [4.059695720672607, 4.059695720672607, 9.95312213897705, 9.95312213897705, 4.059695720672607], \"y\": [1.525649070739746, -0.5354164838790894, -0.5354164838790894, 1.525649070739746, 1.525649070739746], \"type\": \"scatter\"}], \"name\": \"29\"}, {\"data\": [{\"fill\": \"toself\", \"marker\": {\"color\": \"#a6cee3\"}, \"mode\": \"lines\", \"name\": \"0\", \"showlegend\": true, \"x\": [-0.7912594676017761, -0.7912594676017761, 4.003266334533691, 4.003266334533691, -0.7912594676017761], \"y\": [-0.8420066833496094, 1.813378095626831, 1.813378095626831, -0.8420066833496094, -0.8420066833496094], \"type\": \"scatter\"}, {\"fill\": \"toself\", \"marker\": {\"color\": \"#1f78b4\"}, \"mode\": \"lines\", \"name\": \"1\", \"showlegend\": true, \"x\": [11.002957344055176, 11.002957344055176, 11.973838806152344, 11.973838806152344, 11.002957344055176], \"y\": [-0.8099738955497742, 1.7837376594543457, 1.7837376594543457, -0.8099738955497742, -0.8099738955497742], \"type\": \"scatter\"}, {\"fill\": \"toself\", \"marker\": {\"color\": \"#b2df8a\"}, \"mode\": \"lines\", \"name\": \"2\", \"showlegend\": true, \"x\": [4.153390884399414, 4.153390884399414, 9.878409385681152, 9.878409385681152, 4.153390884399414], \"y\": [1.5609642267227173, -0.5708358883857727, -0.5708358883857727, 1.5609642267227173, 1.5609642267227173], \"type\": \"scatter\"}], \"name\": \"30\"}, {\"data\": [{\"fill\": \"toself\", \"marker\": {\"color\": \"#a6cee3\"}, \"mode\": \"lines\", \"name\": \"0\", \"showlegend\": true, \"x\": [-0.7977093458175659, -0.7977093458175659, 4.102365016937256, 4.102365016937256, -0.7977093458175659], \"y\": [-0.8481668829917908, 1.8198621273040771, 1.8198621273040771, -0.8481668829917908, -0.8481668829917908], \"type\": \"scatter\"}, {\"fill\": \"toself\", \"marker\": {\"color\": \"#1f78b4\"}, \"mode\": \"lines\", \"name\": \"1\", \"showlegend\": true, \"x\": [10.904806137084961, 10.904806137084961, 11.873035430908203, 11.873035430908203, 10.904806137084961], \"y\": [-0.8224287033081055, 1.7974853515625, 1.7974853515625, -0.8224287033081055, -0.8224287033081055], \"type\": \"scatter\"}, {\"fill\": \"toself\", \"marker\": {\"color\": \"#b2df8a\"}, \"mode\": \"lines\", \"name\": \"2\", \"showlegend\": true, \"x\": [4.248817443847656, 4.248817443847656, 9.803205490112305, 9.803205490112305, 4.248817443847656], \"y\": [1.5957235097885132, -0.6056960225105286, -0.6056960225105286, 1.5957235097885132, 1.5957235097885132], \"type\": \"scatter\"}], \"name\": \"31\"}, {\"data\": [{\"fill\": \"toself\", \"marker\": {\"color\": \"#a6cee3\"}, \"mode\": \"lines\", \"name\": \"0\", \"showlegend\": true, \"x\": [-0.8037769198417664, -0.8037769198417664, 4.201394081115723, 4.201394081115723, -0.8037769198417664], \"y\": [-0.8538987040519714, 1.8260670900344849, 1.8260670900344849, -0.8538987040519714, -0.8538987040519714], \"type\": \"scatter\"}, {\"fill\": \"toself\", \"marker\": {\"color\": \"#1f78b4\"}, \"mode\": \"lines\", \"name\": \"1\", \"showlegend\": true, \"x\": [10.806849479675293, 10.806849479675293, 11.772232055664062, 11.772232055664062, 10.806849479675293], \"y\": [-0.83497154712677, 1.8111059665679932, 1.8111059665679932, -0.83497154712677, -0.83497154712677], \"type\": \"scatter\"}, {\"fill\": \"toself\", \"marker\": {\"color\": \"#b2df8a\"}, \"mode\": \"lines\", \"name\": \"2\", \"showlegend\": true, \"x\": [4.345548629760742, 4.345548629760742, 9.727413177490234, 9.727413177490234, 4.345548629760742], \"y\": [1.6298673152923584, -0.6399376392364502, -0.6399376392364502, 1.6298673152923584, 1.6298673152923584], \"type\": \"scatter\"}], \"name\": \"32\"}, {\"data\": [{\"fill\": \"toself\", \"marker\": {\"color\": \"#a6cee3\"}, \"mode\": \"lines\", \"name\": \"0\", \"showlegend\": true, \"x\": [-0.8095213770866394, -0.8095213770866394, 4.300313949584961, 4.300313949584961, -0.8095213770866394], \"y\": [-0.8594180941581726, 1.8320420980453491, 1.8320420980453491, -0.8594180941581726, -0.8594180941581726], \"type\": \"scatter\"}, {\"fill\": \"toself\", \"marker\": {\"color\": \"#1f78b4\"}, \"mode\": \"lines\", \"name\": \"1\", \"showlegend\": true, \"x\": [10.70911979675293, 10.70911979675293, 11.671401977539062, 11.671401977539062, 10.70911979675293], \"y\": [-0.8473911881446838, 1.8245904445648193, 1.8245904445648193, -0.8473911881446838, -0.8473911881446838], \"type\": \"scatter\"}, {\"fill\": \"toself\", \"marker\": {\"color\": \"#b2df8a\"}, \"mode\": \"lines\", \"name\": \"2\", \"showlegend\": true, \"x\": [4.444029808044434, 4.444029808044434, 9.651480674743652, 9.651480674743652, 4.444029808044434], \"y\": [1.663468360900879, -0.6736336946487427, -0.6736336946487427, 1.663468360900879, 1.663468360900879], \"type\": \"scatter\"}], \"name\": \"33\"}, {\"data\": [{\"fill\": \"toself\", \"marker\": {\"color\": \"#a6cee3\"}, \"mode\": \"lines\", \"name\": \"0\", \"showlegend\": true, \"x\": [-0.8149441480636597, -0.8149441480636597, 4.399177551269531, 4.399177551269531, -0.8149441480636597], \"y\": [-0.8768534660339355, 1.8505151271820068, 1.8505151271820068, -0.8768534660339355, -0.8768534660339355], \"type\": \"scatter\"}, {\"fill\": \"toself\", \"marker\": {\"color\": \"#1f78b4\"}, \"mode\": \"lines\", \"name\": \"1\", \"showlegend\": true, \"x\": [10.611604690551758, 10.611604690551758, 11.570503234863281, 11.570503234863281, 10.611604690551758], \"y\": [-0.8448390364646912, 1.8217260837554932, 1.8217260837554932, -0.8448390364646912, -0.8448390364646912], \"type\": \"scatter\"}, {\"fill\": \"toself\", \"marker\": {\"color\": \"#b2df8a\"}, \"mode\": \"lines\", \"name\": \"2\", \"showlegend\": true, \"x\": [4.54307222366333, 4.54307222366333, 9.574810028076172, 9.574810028076172, 4.54307222366333], \"y\": [1.6965949535369873, -0.7068537473678589, -0.7068537473678589, 1.6965949535369873, 1.6965949535369873], \"type\": \"scatter\"}], \"name\": \"34\"}, {\"data\": [{\"fill\": \"toself\", \"marker\": {\"color\": \"#a6cee3\"}, \"mode\": \"lines\", \"name\": \"0\", \"showlegend\": true, \"x\": [-0.8200815320014954, -0.8200815320014954, 4.497920989990234, 4.497920989990234, -0.8200815320014954], \"y\": [-0.8815508484840393, 1.8554900884628296, 1.8554900884628296, -0.8815508484840393, -0.8815508484840393], \"type\": \"scatter\"}, {\"fill\": \"toself\", \"marker\": {\"color\": \"#1f78b4\"}, \"mode\": \"lines\", \"name\": \"1\", \"showlegend\": true, \"x\": [10.5143461227417, 10.5143461227417, 11.4696044921875, 11.4696044921875, 10.5143461227417], \"y\": [-0.8558464050292969, 1.8335528373718262, 1.8335528373718262, -0.8558464050292969, -0.8558464050292969], \"type\": \"scatter\"}, {\"fill\": \"toself\", \"marker\": {\"color\": \"#b2df8a\"}, \"mode\": \"lines\", \"name\": \"2\", \"showlegend\": true, \"x\": [4.643556118011475, 4.643556118011475, 9.498847007751465, 9.498847007751465, 4.643556118011475], \"y\": [1.7293678522109985, -0.7397184371948242, -0.7397184371948242, 1.7293678522109985, 1.7293678522109985], \"type\": \"scatter\"}], \"name\": \"35\"}, {\"data\": [{\"fill\": \"toself\", \"marker\": {\"color\": \"#a6cee3\"}, \"mode\": \"lines\", \"name\": \"0\", \"showlegend\": true, \"x\": [-0.8248685002326965, -0.8248685002326965, 4.596582412719727, 4.596582412719727, -0.8248685002326965], \"y\": [-0.8859492540359497, 1.8601967096328735, 1.8601967096328735, -0.8859492540359497, -0.8859492540359497], \"type\": \"scatter\"}, {\"fill\": \"toself\", \"marker\": {\"color\": \"#1f78b4\"}, \"mode\": \"lines\", \"name\": \"1\", \"showlegend\": true, \"x\": [10.417376518249512, 10.417376518249512, 11.368705749511719, 11.368705749511719, 10.417376518249512], \"y\": [-0.8668885827064514, 1.84535813331604, 1.84535813331604, -0.8668885827064514, -0.8668885827064514], \"type\": \"scatter\"}, {\"fill\": \"toself\", \"marker\": {\"color\": \"#b2df8a\"}, \"mode\": \"lines\", \"name\": \"2\", \"showlegend\": true, \"x\": [4.744315147399902, 4.744315147399902, 9.422419548034668, 9.422419548034668, 4.744315147399902], \"y\": [1.7616065740585327, -0.7720468640327454, -0.7720468640327454, 1.7616065740585327, 1.7616065740585327], \"type\": \"scatter\"}], \"name\": \"36\"}, {\"data\": [{\"fill\": \"toself\", \"marker\": {\"color\": \"#a6cee3\"}, \"mode\": \"lines\", \"name\": \"0\", \"showlegend\": true, \"x\": [-0.8294395804405212, -0.8294395804405212, 4.695114612579346, 4.695114612579346, -0.8294395804405212], \"y\": [-0.8902177810668945, 1.864763855934143, 1.864763855934143, -0.8902177810668945, -0.8902177810668945], \"type\": \"scatter\"}, {\"fill\": \"toself\", \"marker\": {\"color\": \"#1f78b4\"}, \"mode\": \"lines\", \"name\": \"1\", \"showlegend\": true, \"x\": [10.320700645446777, 10.320700645446777, 11.267733573913574, 11.267733573913574, 10.320700645446777], \"y\": [-0.8778599500656128, 1.8570860624313354, 1.8570860624313354, -0.8778599500656128, -0.8778599500656128], \"type\": \"scatter\"}, {\"fill\": \"toself\", \"marker\": {\"color\": \"#b2df8a\"}, \"mode\": \"lines\", \"name\": \"2\", \"showlegend\": true, \"x\": [4.845973491668701, 4.845973491668701, 9.347588539123535, 9.347588539123535, 4.845973491668701], \"y\": [1.793487548828125, -0.8040144443511963, -0.8040144443511963, 1.793487548828125, 1.793487548828125], \"type\": \"scatter\"}], \"name\": \"37\"}, {\"data\": [{\"fill\": \"toself\", \"marker\": {\"color\": \"#a6cee3\"}, \"mode\": \"lines\", \"name\": \"0\", \"showlegend\": true, \"x\": [-0.8337538242340088, -0.8337538242340088, 4.793499946594238, 4.793499946594238, -0.8337538242340088], \"y\": [-0.9075474739074707, 1.8829725980758667, 1.8829725980758667, -0.9075474739074707, -0.9075474739074707], \"type\": \"scatter\"}, {\"fill\": \"toself\", \"marker\": {\"color\": \"#1f78b4\"}, \"mode\": \"lines\", \"name\": \"1\", \"showlegend\": true, \"x\": [10.224377632141113, 10.224377632141113, 11.166739463806152, 11.166739463806152, 10.224377632141113], \"y\": [-0.8733202815055847, 1.8519850969314575, 1.8519850969314575, -0.8733202815055847, -0.8733202815055847], \"type\": \"scatter\"}, {\"fill\": \"toself\", \"marker\": {\"color\": \"#b2df8a\"}, \"mode\": \"lines\", \"name\": \"2\", \"showlegend\": true, \"x\": [4.948330879211426, 4.948330879211426, 9.274484634399414, 9.274484634399414, 4.948330879211426], \"y\": [1.8250089883804321, -0.8356205224990845, -0.8356205224990845, 1.8250089883804321, 1.8250089883804321], \"type\": \"scatter\"}], \"name\": \"38\"}, {\"data\": [{\"fill\": \"toself\", \"marker\": {\"color\": \"#a6cee3\"}, \"mode\": \"lines\", \"name\": \"0\", \"showlegend\": true, \"x\": [-0.8378075957298279, -0.8378075957298279, 4.891729354858398, 4.891729354858398, -0.8378075957298279], \"y\": [-0.9112446904182434, 1.8866832256317139, 1.8866832256317139, -0.9112446904182434, -0.9112446904182434], \"type\": \"scatter\"}, {\"fill\": \"toself\", \"marker\": {\"color\": \"#1f78b4\"}, \"mode\": \"lines\", \"name\": \"1\", \"showlegend\": true, \"x\": [10.128446578979492, 10.128446578979492, 11.065695762634277, 11.065695762634277, 10.128446578979492], \"y\": [-0.8828458189964294, 1.8622740507125854, 1.8622740507125854, -0.8828458189964294, -0.8828458189964294], \"type\": \"scatter\"}, {\"fill\": \"toself\", \"marker\": {\"color\": \"#b2df8a\"}, \"mode\": \"lines\", \"name\": \"2\", \"showlegend\": true, \"x\": [5.051057815551758, 5.051057815551758, 9.203763961791992, 9.203763961791992, 5.051057815551758], \"y\": [1.8563232421875, -0.867018461227417, -0.867018461227417, 1.8563232421875, 1.8563232421875], \"type\": \"scatter\"}], \"name\": \"39\"}, {\"data\": [{\"fill\": \"toself\", \"marker\": {\"color\": \"#a6cee3\"}, \"mode\": \"lines\", \"name\": \"0\", \"showlegend\": true, \"x\": [-0.8417129516601562, -0.8417129516601562, 4.989805221557617, 4.989805221557617, -0.8417129516601562], \"y\": [-0.9146612882614136, 1.8903032541275024, 1.8903032541275024, -0.9146612882614136, -0.9146612882614136], \"type\": \"scatter\"}, {\"fill\": \"toself\", \"marker\": {\"color\": \"#1f78b4\"}, \"mode\": \"lines\", \"name\": \"1\", \"showlegend\": true, \"x\": [10.033029556274414, 10.033029556274414, 10.964606285095215, 10.964606285095215, 10.033029556274414], \"y\": [-0.8926849961280823, 1.8726630210876465, 1.8726630210876465, -0.8926849961280823, -0.8926849961280823], \"type\": \"scatter\"}, {\"fill\": \"toself\", \"marker\": {\"color\": \"#b2df8a\"}, \"mode\": \"lines\", \"name\": \"2\", \"showlegend\": true, \"x\": [5.153379440307617, 5.153379440307617, 9.133780479431152, 9.133780479431152, 5.153379440307617], \"y\": [1.8876912593841553, -0.8984689116477966, -0.8984689116477966, 1.8876912593841553, 1.8876912593841553], \"type\": \"scatter\"}], \"name\": \"40\"}, {\"data\": [{\"fill\": \"toself\", \"marker\": {\"color\": \"#a6cee3\"}, \"mode\": \"lines\", \"name\": \"0\", \"showlegend\": true, \"x\": [-0.8453819155693054, -0.8453819155693054, 5.087669372558594, 5.087669372558594, -0.8453819155693054], \"y\": [-0.9179202318191528, 1.9006673097610474, 1.9006673097610474, -0.9179202318191528, -0.9179202318191528], \"type\": \"scatter\"}, {\"fill\": \"toself\", \"marker\": {\"color\": \"#1f78b4\"}, \"mode\": \"lines\", \"name\": \"1\", \"showlegend\": true, \"x\": [9.938191413879395, 9.938191413879395, 10.863436698913574, 10.863436698913574, 9.938191413879395], \"y\": [-0.9025177955627441, 1.8754165172576904, 1.8754165172576904, -0.9025177955627441, -0.9025177955627441], \"type\": \"scatter\"}, {\"fill\": \"toself\", \"marker\": {\"color\": \"#b2df8a\"}, \"mode\": \"lines\", \"name\": \"2\", \"showlegend\": true, \"x\": [5.255612373352051, 5.255612373352051, 9.0674467086792, 9.0674467086792, 5.255612373352051], \"y\": [1.9186797142028809, -0.9295382499694824, -0.9295382499694824, 1.9186797142028809, 1.9186797142028809], \"type\": \"scatter\"}], \"name\": \"41\"}, {\"data\": [{\"fill\": \"toself\", \"marker\": {\"color\": \"#a6cee3\"}, \"mode\": \"lines\", \"name\": \"0\", \"showlegend\": true, \"x\": [-0.8488803505897522, -0.8488803505897522, 5.185367107391357, 5.185367107391357, -0.8488803505897522], \"y\": [-0.9210640788078308, 1.9115201234817505, 1.9115201234817505, -0.9210640788078308, -0.9210640788078308], \"type\": \"scatter\"}, {\"fill\": \"toself\", \"marker\": {\"color\": \"#1f78b4\"}, \"mode\": \"lines\", \"name\": \"1\", \"showlegend\": true, \"x\": [9.843948364257812, 9.843948364257812, 10.762203216552734, 10.762203216552734, 9.843948364257812], \"y\": [-0.912487804889679, 1.8758667707443237, 1.8758667707443237, -0.912487804889679, -0.912487804889679], \"type\": \"scatter\"}, {\"fill\": \"toself\", \"marker\": {\"color\": \"#b2df8a\"}, \"mode\": \"lines\", \"name\": \"2\", \"showlegend\": true, \"x\": [5.35668420791626, 5.35668420791626, 9.004157066345215, 9.004157066345215, 5.35668420791626], \"y\": [1.949675440788269, -0.9606142640113831, -0.9606142640113831, 1.949675440788269, 1.949675440788269], \"type\": \"scatter\"}], \"name\": \"42\"}, {\"data\": [{\"fill\": \"toself\", \"marker\": {\"color\": \"#a6cee3\"}, \"mode\": \"lines\", \"name\": \"0\", \"showlegend\": true, \"x\": [-0.8522317409515381, -0.8522317409515381, 5.282822132110596, 5.282822132110596, -0.8522317409515381], \"y\": [-0.938866376876831, 1.9143702983856201, 1.9143702983856201, -0.938866376876831, -0.938866376876831], \"type\": \"scatter\"}, {\"fill\": \"toself\", \"marker\": {\"color\": \"#1f78b4\"}, \"mode\": \"lines\", \"name\": \"1\", \"showlegend\": true, \"x\": [9.750428199768066, 9.750428199768066, 10.660884857177734, 10.660884857177734, 9.750428199768066], \"y\": [-0.9057807326316833, 1.8850589990615845, 1.8850589990615845, -0.9057807326316833, -0.9057807326316833], \"type\": \"scatter\"}, {\"fill\": \"toself\", \"marker\": {\"color\": \"#b2df8a\"}, \"mode\": \"lines\", \"name\": \"2\", \"showlegend\": true, \"x\": [5.4567975997924805, 5.4567975997924805, 8.945950508117676, 8.945950508117676, 5.4567975997924805], \"y\": [1.9807939529418945, -0.9918124079704285, -0.9918124079704285, 1.9807939529418945, 1.9807939529418945], \"type\": \"scatter\"}], \"name\": \"43\"}, {\"data\": [{\"fill\": \"toself\", \"marker\": {\"color\": \"#a6cee3\"}, \"mode\": \"lines\", \"name\": \"0\", \"showlegend\": true, \"x\": [-0.8553866744041443, -0.8553866744041443, 5.379941463470459, 5.379941463470459, -0.8553866744041443], \"y\": [-0.9416220188140869, 1.9170843362808228, 1.9170843362808228, -0.9416220188140869, -0.9416220188140869], \"type\": \"scatter\"}, {\"fill\": \"toself\", \"marker\": {\"color\": \"#1f78b4\"}, \"mode\": \"lines\", \"name\": \"1\", \"showlegend\": true, \"x\": [9.657856941223145, 9.657856941223145, 10.559465408325195, 10.559465408325195, 9.657856941223145], \"y\": [-0.9143936634063721, 1.894446611404419, 1.894446611404419, -0.9143936634063721, -0.9143936634063721], \"type\": \"scatter\"}, {\"fill\": \"toself\", \"marker\": {\"color\": \"#b2df8a\"}, \"mode\": \"lines\", \"name\": \"2\", \"showlegend\": true, \"x\": [5.556002616882324, 5.556002616882324, 8.894455909729004, 8.894455909729004, 5.556002616882324], \"y\": [2.0120160579681396, -1.0231136083602905, -1.0231136083602905, 2.0120160579681396, 2.0120160579681396], \"type\": \"scatter\"}], \"name\": \"44\"}, {\"data\": [{\"fill\": \"toself\", \"marker\": {\"color\": \"#a6cee3\"}, \"mode\": \"lines\", \"name\": \"0\", \"showlegend\": true, \"x\": [-0.8584035038948059, -0.8584035038948059, 5.47676944732666, 5.47676944732666, -0.8584035038948059], \"y\": [-0.944096565246582, 1.9197176694869995, 1.9197176694869995, -0.944096565246582, -0.944096565246582], \"type\": \"scatter\"}, {\"fill\": \"toself\", \"marker\": {\"color\": \"#1f78b4\"}, \"mode\": \"lines\", \"name\": \"1\", \"showlegend\": true, \"x\": [9.56629753112793, 9.56629753112793, 10.45793342590332, 10.45793342590332, 9.56629753112793], \"y\": [-0.9234051704406738, 1.9040201902389526, 1.9040201902389526, -0.9234051704406738, -0.9234051704406738], \"type\": \"scatter\"}, {\"fill\": \"toself\", \"marker\": {\"color\": \"#b2df8a\"}, \"mode\": \"lines\", \"name\": \"2\", \"showlegend\": true, \"x\": [5.653167724609375, 5.653167724609375, 8.849843978881836, 8.849843978881836, 5.653167724609375], \"y\": [2.0435118675231934, -1.0546886920928955, -1.0546886920928955, 2.0435118675231934, 2.0435118675231934], \"type\": \"scatter\"}], \"name\": \"45\"}, {\"data\": [{\"fill\": \"toself\", \"marker\": {\"color\": \"#a6cee3\"}, \"mode\": \"lines\", \"name\": \"0\", \"showlegend\": true, \"x\": [-0.861307680606842, -0.861307680606842, 5.573354244232178, 5.573354244232178, -0.861307680606842], \"y\": [-0.9465126395225525, 1.922288179397583, 1.922288179397583, -0.9465126395225525, -0.9465126395225525], \"type\": \"scatter\"}, {\"fill\": \"toself\", \"marker\": {\"color\": \"#1f78b4\"}, \"mode\": \"lines\", \"name\": \"1\", \"showlegend\": true, \"x\": [9.475985527038574, 9.475985527038574, 10.356250762939453, 10.356250762939453, 9.475985527038574], \"y\": [-0.9326052069664001, 1.9137938022613525, 1.9137938022613525, -0.9326052069664001, -0.9326052069664001], \"type\": \"scatter\"}, {\"fill\": \"toself\", \"marker\": {\"color\": \"#b2df8a\"}, \"mode\": \"lines\", \"name\": \"2\", \"showlegend\": true, \"x\": [5.746147632598877, 5.746147632598877, 8.80780029296875, 8.80780029296875, 5.746147632598877], \"y\": [2.0753679275512695, -1.0866256952285767, -1.0866256952285767, 2.0753679275512695, 2.0753679275512695], \"type\": \"scatter\"}], \"name\": \"46\"}, {\"data\": [{\"fill\": \"toself\", \"marker\": {\"color\": \"#a6cee3\"}, \"mode\": \"lines\", \"name\": \"0\", \"showlegend\": true, \"x\": [-0.864069402217865, -0.864069402217865, 5.669569492340088, 5.669569492340088, -0.864069402217865], \"y\": [-0.9518691897392273, 1.9408488273620605, 1.9408488273620605, -0.9518691897392273, -0.9518691897392273], \"type\": \"scatter\"}, {\"fill\": \"toself\", \"marker\": {\"color\": \"#1f78b4\"}, \"mode\": \"lines\", \"name\": \"1\", \"showlegend\": true, \"x\": [9.387081146240234, 9.387081146240234, 10.254408836364746, 10.254408836364746, 9.387081146240234], \"y\": [-0.9387781620025635, 1.9059579372406006, 1.9059579372406006, -0.9387781620025635, -0.9387781620025635], \"type\": \"scatter\"}, {\"fill\": \"toself\", \"marker\": {\"color\": \"#b2df8a\"}, \"mode\": \"lines\", \"name\": \"2\", \"showlegend\": true, \"x\": [5.835638046264648, 5.835638046264648, 8.774930000305176, 8.774930000305176, 5.835638046264648], \"y\": [2.107588291168213, -1.1189253330230713, -1.1189253330230713, 2.107588291168213, 2.107588291168213], \"type\": \"scatter\"}], \"name\": \"47\"}, {\"data\": [{\"fill\": \"toself\", \"marker\": {\"color\": \"#a6cee3\"}, \"mode\": \"lines\", \"name\": \"0\", \"showlegend\": true, \"x\": [-0.8667203187942505, -0.8667203187942505, 5.7654643058776855, 5.7654643058776855, -0.8667203187942505], \"y\": [-0.966815173625946, 1.9431957006454468, 1.9431957006454468, -0.966815173625946, -0.966815173625946], \"type\": \"scatter\"}, {\"fill\": \"toself\", \"marker\": {\"color\": \"#1f78b4\"}, \"mode\": \"lines\", \"name\": \"1\", \"showlegend\": true, \"x\": [9.29981517791748, 9.29981517791748, 10.15237808227539, 10.15237808227539, 9.29981517791748], \"y\": [-0.9333146214485168, 1.9144285917282104, 1.9144285917282104, -0.9333146214485168, -0.9333146214485168], \"type\": \"scatter\"}, {\"fill\": \"toself\", \"marker\": {\"color\": \"#b2df8a\"}, \"mode\": \"lines\", \"name\": \"2\", \"showlegend\": true, \"x\": [5.919841289520264, 5.919841289520264, 8.7471923828125, 8.7471923828125, 5.919841289520264], \"y\": [2.1407601833343506, -1.1521780490875244, -1.1521780490875244, 2.1407601833343506, 2.1407601833343506], \"type\": \"scatter\"}], \"name\": \"48\"}, {\"data\": [{\"fill\": \"toself\", \"marker\": {\"color\": \"#a6cee3\"}, \"mode\": \"lines\", \"name\": \"0\", \"showlegend\": true, \"x\": [-0.8692938089370728, -0.8692938089370728, 5.8608245849609375, 5.8608245849609375, -0.8692938089370728], \"y\": [-0.9687209725379944, 1.9452018737792969, 1.9452018737792969, -0.9687209725379944, -0.9687209725379944], \"type\": \"scatter\"}, {\"fill\": \"toself\", \"marker\": {\"color\": \"#1f78b4\"}, \"mode\": \"lines\", \"name\": \"1\", \"showlegend\": true, \"x\": [9.214545249938965, 9.214545249938965, 10.050127983093262, 10.050127983093262, 9.214545249938965], \"y\": [-0.9419668316841125, 1.9235117435455322, 1.9235117435455322, -0.9419668316841125, -0.9419668316841125], \"type\": \"scatter\"}, {\"fill\": \"toself\", \"marker\": {\"color\": \"#b2df8a\"}, \"mode\": \"lines\", \"name\": \"2\", \"showlegend\": true, \"x\": [5.999393939971924, 5.999393939971924, 8.733820915222168, 8.733820915222168, 5.999393939971924], \"y\": [2.1746950149536133, -1.1861944198608398, -1.1861944198608398, 2.1746950149536133, 2.1746950149536133], \"type\": \"scatter\"}], \"name\": \"49\"}, {\"data\": [{\"fill\": \"toself\", \"marker\": {\"color\": \"#a6cee3\"}, \"mode\": \"lines\", \"name\": \"0\", \"showlegend\": true, \"x\": [-0.8717743158340454, -0.8717743158340454, 5.9557390213012695, 5.9557390213012695, -0.8717743158340454], \"y\": [-0.9705820679664612, 1.9471614360809326, 1.9471614360809326, -0.9705820679664612, -0.9705820679664612], \"type\": \"scatter\"}, {\"fill\": \"toself\", \"marker\": {\"color\": \"#1f78b4\"}, \"mode\": \"lines\", \"name\": \"1\", \"showlegend\": true, \"x\": [9.131528854370117, 9.131528854370117, 9.947608947753906, 9.947608947753906, 9.131528854370117], \"y\": [-0.9509814381599426, 1.9329745769500732, 1.9329745769500732, -0.9509814381599426, -0.9509814381599426], \"type\": \"scatter\"}, {\"fill\": \"toself\", \"marker\": {\"color\": \"#b2df8a\"}, \"mode\": \"lines\", \"name\": \"2\", \"showlegend\": true, \"x\": [6.072048187255859, 6.072048187255859, 8.729022979736328, 8.729022979736328, 6.072048187255859], \"y\": [2.209613084793091, -1.2211962938308716, -1.2211962938308716, 2.209613084793091, 2.209613084793091], \"type\": \"scatter\"}], \"name\": \"50\"}, {\"data\": [{\"fill\": \"toself\", \"marker\": {\"color\": \"#a6cee3\"}, \"mode\": \"lines\", \"name\": \"0\", \"showlegend\": true, \"x\": [-0.8741822242736816, -0.8741822242736816, 6.0501861572265625, 6.0501861572265625, -0.8741822242736816], \"y\": [-0.9724128842353821, 1.9587637186050415, 1.9587637186050415, -0.9724128842353821, -0.9724128842353821], \"type\": \"scatter\"}, {\"fill\": \"toself\", \"marker\": {\"color\": \"#1f78b4\"}, \"mode\": \"lines\", \"name\": \"1\", \"showlegend\": true, \"x\": [9.051187515258789, 9.051187515258789, 9.844779014587402, 9.844779014587402, 9.051187515258789], \"y\": [-0.960435688495636, 1.9326404333114624, 1.9326404333114624, -0.960435688495636, -0.960435688495636], \"type\": \"scatter\"}, {\"fill\": \"toself\", \"marker\": {\"color\": \"#b2df8a\"}, \"mode\": \"lines\", \"name\": \"2\", \"showlegend\": true, \"x\": [6.135969638824463, 6.135969638824463, 8.730178833007812, 8.730178833007812, 6.135969638824463], \"y\": [2.24578595161438, -1.257454752922058, -1.257454752922058, 2.24578595161438, 2.24578595161438], \"type\": \"scatter\"}], \"name\": \"51\"}, {\"data\": [{\"fill\": \"toself\", \"marker\": {\"color\": \"#a6cee3\"}, \"mode\": \"lines\", \"name\": \"0\", \"showlegend\": true, \"x\": [-0.8764935731887817, -0.8764935731887817, 6.144064903259277, 6.144064903259277, -0.8764935731887817], \"y\": [-0.9907800555229187, 1.9677146673202515, 1.9677146673202515, -0.9907800555229187, -0.9907800555229187], \"type\": \"scatter\"}, {\"fill\": \"toself\", \"marker\": {\"color\": \"#1f78b4\"}, \"mode\": \"lines\", \"name\": \"1\", \"showlegend\": true, \"x\": [8.973896026611328, 8.973896026611328, 9.74159049987793, 9.74159049987793, 8.973896026611328], \"y\": [-0.9519515037536621, 1.93366277217865, 1.93366277217865, -0.9519515037536621, -0.9519515037536621], \"type\": \"scatter\"}, {\"fill\": \"toself\", \"marker\": {\"color\": \"#b2df8a\"}, \"mode\": \"lines\", \"name\": \"2\", \"showlegend\": true, \"x\": [6.190690517425537, 6.190690517425537, 8.741100311279297, 8.741100311279297, 6.190690517425537], \"y\": [2.283344268798828, -1.2951011657714844, -1.2951011657714844, 2.283344268798828, 2.283344268798828], \"type\": \"scatter\"}], \"name\": \"52\"}, {\"data\": [{\"fill\": \"toself\", \"marker\": {\"color\": \"#a6cee3\"}, \"mode\": \"lines\", \"name\": \"0\", \"showlegend\": true, \"x\": [-0.8787670731544495, -0.8787670731544495, 6.237443923950195, 6.237443923950195, -0.8787670731544495], \"y\": [-0.9923040866851807, 1.9692723751068115, 1.9692723751068115, -0.9923040866851807, -0.9923040866851807], \"type\": \"scatter\"}, {\"fill\": \"toself\", \"marker\": {\"color\": \"#1f78b4\"}, \"mode\": \"lines\", \"name\": \"1\", \"showlegend\": true, \"x\": [8.900075912475586, 8.900075912475586, 9.637984275817871, 9.637984275817871, 8.900075912475586], \"y\": [-0.9607338905334473, 1.9428566694259644, 1.9428566694259644, -0.9607338905334473, -0.9607338905334473], \"type\": \"scatter\"}, {\"fill\": \"toself\", \"marker\": {\"color\": \"#b2df8a\"}, \"mode\": \"lines\", \"name\": \"2\", \"showlegend\": true, \"x\": [6.233487129211426, 6.233487129211426, 8.754162788391113, 8.754162788391113, 6.233487129211426], \"y\": [2.3224503993988037, -1.3342963457107544, -1.3342963457107544, 2.3224503993988037, 2.3224503993988037], \"type\": \"scatter\"}], \"name\": \"53\"}, {\"data\": [{\"fill\": \"toself\", \"marker\": {\"color\": \"#a6cee3\"}, \"mode\": \"lines\", \"name\": \"0\", \"showlegend\": true, \"x\": [-0.8809864521026611, -0.8809864521026611, 6.330132961273193, 6.330132961273193, -0.8809864521026611], \"y\": [-0.9937765598297119, 1.970811128616333, 1.970811128616333, -0.9937765598297119, -0.9937765598297119], \"type\": \"scatter\"}, {\"fill\": \"toself\", \"marker\": {\"color\": \"#1f78b4\"}, \"mode\": \"lines\", \"name\": \"1\", \"showlegend\": true, \"x\": [8.830161094665527, 8.830161094665527, 9.533893585205078, 9.533893585205078, 8.830161094665527], \"y\": [-0.9700005650520325, 1.9525188207626343, 1.9525188207626343, -0.9700005650520325, -0.9700005650520325], \"type\": \"scatter\"}, {\"fill\": \"toself\", \"marker\": {\"color\": \"#b2df8a\"}, \"mode\": \"lines\", \"name\": \"2\", \"showlegend\": true, \"x\": [6.264837741851807, 6.264837741851807, 8.781720161437988, 8.781720161437988, 6.264837741851807], \"y\": [2.363079786300659, -1.3750159740447998, -1.3750159740447998, 2.363079786300659, 2.363079786300659], \"type\": \"scatter\"}], \"name\": \"54\"}, {\"data\": [{\"fill\": \"toself\", \"marker\": {\"color\": \"#a6cee3\"}, \"mode\": \"lines\", \"name\": \"0\", \"showlegend\": true, \"x\": [-0.8831779956817627, -0.8831779956817627, 6.422094821929932, 6.422094821929932, -0.8831779956817627], \"y\": [-0.9952484965324402, 1.9723501205444336, 1.9723501205444336, -0.9952484965324402, -0.9952484965324402], \"type\": \"scatter\"}, {\"fill\": \"toself\", \"marker\": {\"color\": \"#1f78b4\"}, \"mode\": \"lines\", \"name\": \"1\", \"showlegend\": true, \"x\": [8.76445484161377, 8.76445484161377, 9.429251670837402, 9.429251670837402, 8.76445484161377], \"y\": [-0.9797816872596741, 1.9627163410186768, 1.9627163410186768, -0.9797816872596741, -0.9797816872596741], \"type\": \"scatter\"}, {\"fill\": \"toself\", \"marker\": {\"color\": \"#b2df8a\"}, \"mode\": \"lines\", \"name\": \"2\", \"showlegend\": true, \"x\": [6.286050319671631, 6.286050319671631, 8.825547218322754, 8.825547218322754, 6.286050319671631], \"y\": [2.405521869659424, -1.4175515174865723, -1.4175515174865723, 2.405521869659424, 2.405521869659424], \"type\": \"scatter\"}], \"name\": \"55\"}, {\"data\": [{\"fill\": \"toself\", \"marker\": {\"color\": \"#a6cee3\"}, \"mode\": \"lines\", \"name\": \"0\", \"showlegend\": true, \"x\": [-0.8853379487991333, -0.8853379487991333, 6.513412952423096, 6.513412952423096, -0.8853379487991333], \"y\": [-1.0136470794677734, 1.9911175966262817, 1.9911175966262817, -1.0136470794677734, -1.0136470794677734], \"type\": \"scatter\"}, {\"fill\": \"toself\", \"marker\": {\"color\": \"#1f78b4\"}, \"mode\": \"lines\", \"name\": \"1\", \"showlegend\": true, \"x\": [8.703533172607422, 8.703533172607422, 9.323986053466797, 9.323986053466797, 8.703533172607422], \"y\": [-0.9717914462089539, 1.9540783166885376, 1.9540783166885376, -0.9717914462089539, -0.9717914462089539], \"type\": \"scatter\"}, {\"fill\": \"toself\", \"marker\": {\"color\": \"#b2df8a\"}, \"mode\": \"lines\", \"name\": \"2\", \"showlegend\": true, \"x\": [6.294960975646973, 6.294960975646973, 8.87438678741455, 8.87438678741455, 6.294960975646973], \"y\": [2.450047731399536, -1.4621729850769043, -1.4621729850769043, 2.450047731399536, 2.450047731399536], \"type\": \"scatter\"}], \"name\": \"56\"}, {\"data\": [{\"fill\": \"toself\", \"marker\": {\"color\": \"#a6cee3\"}, \"mode\": \"lines\", \"name\": \"0\", \"showlegend\": true, \"x\": [-0.8874880075454712, -0.8874880075454712, 6.604121208190918, 6.604121208190918, -0.8874880075454712], \"y\": [-1.0150033235549927, 1.9923999309539795, 1.9923999309539795, -1.0150033235549927, -1.0150033235549927], \"type\": \"scatter\"}, {\"fill\": \"toself\", \"marker\": {\"color\": \"#1f78b4\"}, \"mode\": \"lines\", \"name\": \"1\", \"showlegend\": true, \"x\": [8.647819519042969, 8.647819519042969, 9.218019485473633, 9.218019485473633, 8.647819519042969], \"y\": [-0.9808708429336548, 1.9636104106903076, 1.9636104106903076, -0.9808708429336548, -0.9808708429336548], \"type\": \"scatter\"}, {\"fill\": \"toself\", \"marker\": {\"color\": \"#b2df8a\"}, \"mode\": \"lines\", \"name\": \"2\", \"showlegend\": true, \"x\": [6.292532444000244, 6.292532444000244, 8.924062728881836, 8.924062728881836, 6.292532444000244], \"y\": [2.496591091156006, -1.5088142156600952, -1.5088142156600952, 2.496591091156006, 2.496591091156006], \"type\": \"scatter\"}], \"name\": \"57\"}, {\"data\": [{\"fill\": \"toself\", \"marker\": {\"color\": \"#a6cee3\"}, \"mode\": \"lines\", \"name\": \"0\", \"showlegend\": true, \"x\": [-0.8896212577819824, -0.8896212577819824, 6.694033145904541, 6.694033145904541, -0.8896212577819824], \"y\": [-1.0162400007247925, 1.9936838150024414, 1.9936838150024414, -1.0162400007247925, -1.0162400007247925], \"type\": \"scatter\"}, {\"fill\": \"toself\", \"marker\": {\"color\": \"#1f78b4\"}, \"mode\": \"lines\", \"name\": \"1\", \"showlegend\": true, \"x\": [8.597949028015137, 8.597949028015137, 9.111274719238281, 9.111274719238281, 8.597949028015137], \"y\": [-0.9905725121498108, 1.9736567735671997, 1.9736567735671997, -0.9905725121498108, -0.9905725121498108], \"type\": \"scatter\"}, {\"fill\": \"toself\", \"marker\": {\"color\": \"#b2df8a\"}, \"mode\": \"lines\", \"name\": \"2\", \"showlegend\": true, \"x\": [6.2809295654296875, 6.2809295654296875, 8.990660667419434, 8.990660667419434, 6.2809295654296875], \"y\": [2.5450754165649414, -1.557399868965149, -1.557399868965149, 2.5450754165649414, 2.5450754165649414], \"type\": \"scatter\"}], \"name\": \"58\"}, {\"data\": [{\"fill\": \"toself\", \"marker\": {\"color\": \"#a6cee3\"}, \"mode\": \"lines\", \"name\": \"0\", \"showlegend\": true, \"x\": [-0.8917483687400818, -0.8917483687400818, 6.783798694610596, 6.783798694610596, -0.8917483687400818], \"y\": [-1.017487645149231, 1.994978666305542, 1.994978666305542, -1.017487645149231, -1.017487645149231], \"type\": \"scatter\"}, {\"fill\": \"toself\", \"marker\": {\"color\": \"#1f78b4\"}, \"mode\": \"lines\", \"name\": \"1\", \"showlegend\": true, \"x\": [8.55302619934082, 8.55302619934082, 8.992172241210938, 8.992172241210938, 8.55302619934082], \"y\": [-1.0008660554885864, 1.9843155145645142, 1.9843155145645142, -1.0008660554885864, -1.0008660554885864], \"type\": \"scatter\"}, {\"fill\": \"toself\", \"marker\": {\"color\": \"#b2df8a\"}, \"mode\": \"lines\", \"name\": \"2\", \"showlegend\": true, \"x\": [6.273061275482178, 6.273061275482178, 9.309843063354492, 9.309843063354492, 6.273061275482178], \"y\": [2.5958993434906006, -1.6083263158798218, -1.6083263158798218, 2.5958993434906006, 2.5958993434906006], \"type\": \"scatter\"}], \"name\": \"59\"}, {\"data\": [{\"fill\": \"toself\", \"marker\": {\"color\": \"#a6cee3\"}, \"mode\": \"lines\", \"name\": \"0\", \"showlegend\": true, \"x\": [-0.8937883973121643, -0.8937883973121643, 6.87532377243042, 6.87532377243042, -0.8937883973121643], \"y\": [-1.0348412990570068, 2.0136842727661133, 2.0136842727661133, -1.0348412990570068, -1.0348412990570068], \"type\": \"scatter\"}, {\"fill\": \"toself\", \"marker\": {\"color\": \"#1f78b4\"}, \"mode\": \"lines\", \"name\": \"1\", \"showlegend\": true, \"x\": [8.505083084106445, 8.505083084106445, 8.86450481414795, 8.86450481414795, 8.505083084106445], \"y\": [-0.9938685894012451, 1.97601318359375, 1.97601318359375, -0.9938685894012451, -0.9938685894012451], \"type\": \"scatter\"}, {\"fill\": \"toself\", \"marker\": {\"color\": \"#b2df8a\"}, \"mode\": \"lines\", \"name\": \"2\", \"showlegend\": true, \"x\": [6.341357231140137, 6.341357231140137, 9.598011016845703, 9.598011016845703, 6.341357231140137], \"y\": [2.6448020935058594, -1.6573257446289062, -1.6573257446289062, 2.6448020935058594, 2.6448020935058594], \"type\": \"scatter\"}], \"name\": \"60\"}, {\"data\": [{\"fill\": \"toself\", \"marker\": {\"color\": \"#a6cee3\"}, \"mode\": \"lines\", \"name\": \"0\", \"showlegend\": true, \"x\": [-0.8956920504570007, -0.8956920504570007, 6.9674458503723145, 6.9674458503723145, -0.8956920504570007], \"y\": [-1.0370550155639648, 2.0148966312408447, 2.0148966312408447, -1.0370550155639648, -1.0370550155639648], \"type\": \"scatter\"}, {\"fill\": \"toself\", \"marker\": {\"color\": \"#1f78b4\"}, \"mode\": \"lines\", \"name\": \"1\", \"showlegend\": true, \"x\": [8.458385467529297, 8.458385467529297, 8.740729331970215, 8.740729331970215, 8.458385467529297], \"y\": [-1.0005227327346802, 1.9839389324188232, 1.9839389324188232, -1.0005227327346802, -1.0005227327346802], \"type\": \"scatter\"}, {\"fill\": \"toself\", \"marker\": {\"color\": \"#b2df8a\"}, \"mode\": \"lines\", \"name\": \"2\", \"showlegend\": true, \"x\": [6.44675874710083, 6.44675874710083, 9.7965669631958, 9.7965669631958, 6.44675874710083], \"y\": [2.69113826751709, -1.7037506103515625, -1.7037506103515625, 2.69113826751709, 2.69113826751709], \"type\": \"scatter\"}], \"name\": \"61\"}, {\"data\": [{\"fill\": \"toself\", \"marker\": {\"color\": \"#a6cee3\"}, \"mode\": \"lines\", \"name\": \"0\", \"showlegend\": true, \"x\": [-0.8974570035934448, -0.8974570035934448, 7.059530735015869, 7.059530735015869, -0.8974570035934448], \"y\": [-1.0379408597946167, 2.0158064365386963, 2.0158064365386963, -1.0379408597946167, -1.0379408597946167], \"type\": \"scatter\"}, {\"fill\": \"toself\", \"marker\": {\"color\": \"#1f78b4\"}, \"mode\": \"lines\", \"name\": \"1\", \"showlegend\": true, \"x\": [8.41569709777832, 8.41569709777832, 8.619410514831543, 8.619410514831543, 8.41569709777832], \"y\": [-1.0080913305282593, 1.991716980934143, 1.991716980934143, -1.0080913305282593, -1.0080913305282593], \"type\": \"scatter\"}, {\"fill\": \"toself\", \"marker\": {\"color\": \"#b2df8a\"}, \"mode\": \"lines\", \"name\": \"2\", \"showlegend\": true, \"x\": [6.56905460357666, 6.56905460357666, 9.959965705871582, 9.959965705871582, 6.56905460357666], \"y\": [2.734928607940674, -1.7476235628128052, -1.7476235628128052, 2.734928607940674, 2.734928607940674], \"type\": \"scatter\"}], \"name\": \"62\"}, {\"data\": [{\"fill\": \"toself\", \"marker\": {\"color\": \"#a6cee3\"}, \"mode\": \"lines\", \"name\": \"0\", \"showlegend\": true, \"x\": [-0.8990833163261414, -0.8990833163261414, 7.15142822265625, 7.15142822265625, -0.8990833163261414], \"y\": [-1.0387660264968872, 2.0166563987731934, 2.0166563987731934, -1.0387660264968872, -1.0387660264968872], \"type\": \"scatter\"}, {\"fill\": \"toself\", \"marker\": {\"color\": \"#1f78b4\"}, \"mode\": \"lines\", \"name\": \"1\", \"showlegend\": true, \"x\": [8.37860107421875, 8.37860107421875, 8.499837875366211, 8.499837875366211, 8.37860107421875], \"y\": [-1.0153299570083618, 1.9991563558578491, 1.9991563558578491, -1.0153299570083618, -1.0153299570083618], \"type\": \"scatter\"}, {\"fill\": \"toself\", \"marker\": {\"color\": \"#b2df8a\"}, \"mode\": \"lines\", \"name\": \"2\", \"showlegend\": true, \"x\": [6.698309898376465, 6.698309898376465, 10.102834701538086, 10.102834701538086, 6.698309898376465], \"y\": [2.7765004634857178, -1.7892735004425049, -1.7892735004425049, 2.7765004634857178, 2.7765004634857178], \"type\": \"scatter\"}], \"name\": \"63\"}, {\"data\": [{\"fill\": \"toself\", \"marker\": {\"color\": \"#a6cee3\"}, \"mode\": \"lines\", \"name\": \"0\", \"showlegend\": true, \"x\": [-0.9005835056304932, -0.9005835056304932, 7.242995262145996, 7.242995262145996, -0.9005835056304932], \"y\": [-1.039535403251648, 2.017449378967285, 2.017449378967285, -1.039535403251648, -1.039535403251648], \"type\": \"scatter\"}, {\"fill\": \"toself\", \"marker\": {\"color\": \"#1f78b4\"}, \"mode\": \"lines\", \"name\": \"1\", \"showlegend\": true, \"x\": [8.348085403442383, 8.348085403442383, 8.38156509399414, 8.38156509399414, 8.348085403442383], \"y\": [-1.0222853422164917, 2.0063040256500244, 2.0063040256500244, -1.0222853422164917, -1.0222853422164917], \"type\": \"scatter\"}, {\"fill\": \"toself\", \"marker\": {\"color\": \"#b2df8a\"}, \"mode\": \"lines\", \"name\": \"2\", \"showlegend\": true, \"x\": [6.831965446472168, 6.831965446472168, 10.232771873474121, 10.232771873474121, 6.831965446472168], \"y\": [2.816162109375, -1.8290066719055176, -1.8290066719055176, 2.816162109375, 2.816162109375], \"type\": \"scatter\"}], \"name\": \"64\"}, {\"data\": [{\"fill\": \"toself\", \"marker\": {\"color\": \"#a6cee3\"}, \"mode\": \"lines\", \"name\": \"0\", \"showlegend\": true, \"x\": [-0.9019695520401001, -0.9019695520401001, 7.334232807159424, 7.334232807159424, -0.9019695520401001], \"y\": [-1.0402544736862183, 2.0181884765625, 2.0181884765625, -1.0402544736862183, -1.0402544736862183], \"type\": \"scatter\"}, {\"fill\": \"toself\", \"marker\": {\"color\": \"#1f78b4\"}, \"mode\": \"lines\", \"name\": \"1\", \"showlegend\": true, \"x\": [8.325765609741211, 8.325765609741211, 8.26427173614502, 8.26427173614502, 8.325765609741211], \"y\": [-1.0289949178695679, 2.0131986141204834, 2.0131986141204834, -1.0289949178695679, -1.0289949178695679], \"type\": \"scatter\"}, {\"fill\": \"toself\", \"marker\": {\"color\": \"#b2df8a\"}, \"mode\": \"lines\", \"name\": \"2\", \"showlegend\": true, \"x\": [6.965638160705566, 6.965638160705566, 10.352153778076172, 10.352153778076172, 6.965638160705566], \"y\": [2.854163646697998, -1.8670755624771118, -1.8670755624771118, 2.854163646697998, 2.854163646697998], \"type\": \"scatter\"}], \"name\": \"65\"}, {\"data\": [{\"fill\": \"toself\", \"marker\": {\"color\": \"#a6cee3\"}, \"mode\": \"lines\", \"name\": \"0\", \"showlegend\": true, \"x\": [-0.9032448530197144, -0.9032448530197144, 7.425085067749023, 7.425085067749023, -0.9032448530197144], \"y\": [-1.0593440532684326, 2.037463665008545, 2.037463665008545, -1.0593440532684326, -1.0593440532684326], \"type\": \"scatter\"}, {\"fill\": \"toself\", \"marker\": {\"color\": \"#1f78b4\"}, \"mode\": \"lines\", \"name\": \"1\", \"showlegend\": true, \"x\": [8.312231063842773, 8.312231063842773, 8.147704124450684, 8.147704124450684, 8.312231063842773], \"y\": [-1.0159416198730469, 1.9998152256011963, 1.9998152256011963, -1.0159416198730469, -1.0159416198730469], \"type\": \"scatter\"}, {\"fill\": \"toself\", \"marker\": {\"color\": \"#b2df8a\"}, \"mode\": \"lines\", \"name\": \"2\", \"showlegend\": true, \"x\": [7.101370334625244, 7.101370334625244, 10.464677810668945, 10.464677810668945, 7.101370334625244], \"y\": [2.8909249305725098, -1.9039019346237183, -1.9039019346237183, 2.8909249305725098, 2.8909249305725098], \"type\": \"scatter\"}], \"name\": \"66\"}, {\"data\": [{\"fill\": \"toself\", \"marker\": {\"color\": \"#a6cee3\"}, \"mode\": \"lines\", \"name\": \"0\", \"showlegend\": true, \"x\": [-0.9044288992881775, -0.9044288992881775, 7.515848159790039, 7.515848159790039, -0.9044288992881775], \"y\": [-1.059863567352295, 2.03798246383667, 2.03798246383667, -1.059863567352295, -1.059863567352295], \"type\": \"scatter\"}, {\"fill\": \"toself\", \"marker\": {\"color\": \"#1f78b4\"}, \"mode\": \"lines\", \"name\": \"1\", \"showlegend\": true, \"x\": [8.308311462402344, 8.308311462402344, 8.031671524047852, 8.031671524047852, 8.308311462402344], \"y\": [-1.0211310386657715, 2.005138874053955, 2.005138874053955, -1.0211310386657715, -1.0211310386657715], \"type\": \"scatter\"}, {\"fill\": \"toself\", \"marker\": {\"color\": \"#b2df8a\"}, \"mode\": \"lines\", \"name\": \"2\", \"showlegend\": true, \"x\": [7.236196517944336, 7.236196517944336, 10.570487976074219, 10.570487976074219, 7.236196517944336], \"y\": [2.92655348777771, -1.9395933151245117, -1.9395933151245117, 2.92655348777771, 2.92655348777771], \"type\": \"scatter\"}], \"name\": \"67\"}, {\"data\": [{\"fill\": \"toself\", \"marker\": {\"color\": \"#a6cee3\"}, \"mode\": \"lines\", \"name\": \"0\", \"showlegend\": true, \"x\": [-0.905520498752594, -0.905520498752594, 7.606106281280518, 7.606106281280518, -0.905520498752594], \"y\": [-1.0603340864181519, 2.038465976715088, 2.038465976715088, -1.0603340864181519, -1.0603340864181519], \"type\": \"scatter\"}, {\"fill\": \"toself\", \"marker\": {\"color\": \"#1f78b4\"}, \"mode\": \"lines\", \"name\": \"1\", \"showlegend\": true, \"x\": [8.316353797912598, 8.316353797912598, 7.916015625, 7.916015625, 8.316353797912598], \"y\": [-1.0262001752853394, 2.0103251934051514, 2.0103251934051514, -1.0262001752853394, -1.0262001752853394], \"type\": \"scatter\"}, {\"fill\": \"toself\", \"marker\": {\"color\": \"#b2df8a\"}, \"mode\": \"lines\", \"name\": \"2\", \"showlegend\": true, \"x\": [7.372185707092285, 7.372185707092285, 10.671720504760742, 10.671720504760742, 7.372185707092285], \"y\": [2.961012125015259, -1.9741125106811523, -1.9741125106811523, 2.961012125015259, 2.961012125015259], \"type\": \"scatter\"}], \"name\": \"68\"}, {\"data\": [{\"fill\": \"toself\", \"marker\": {\"color\": \"#a6cee3\"}, \"mode\": \"lines\", \"name\": \"0\", \"showlegend\": true, \"x\": [-0.9065432548522949, -0.9065432548522949, 7.695805549621582, 7.695805549621582, -0.9065432548522949], \"y\": [-1.0607796907424927, 2.0389208793640137, 2.0389208793640137, -1.0607796907424927, -1.0607796907424927], \"type\": \"scatter\"}, {\"fill\": \"toself\", \"marker\": {\"color\": \"#1f78b4\"}, \"mode\": \"lines\", \"name\": \"1\", \"showlegend\": true, \"x\": [8.336928367614746, 8.336928367614746, 7.800968170166016, 7.800968170166016, 8.336928367614746], \"y\": [-1.0311495065689087, 2.0153887271881104, 2.0153887271881104, -1.0311495065689087, -1.0311495065689087], \"type\": \"scatter\"}, {\"fill\": \"toself\", \"marker\": {\"color\": \"#b2df8a\"}, \"mode\": \"lines\", \"name\": \"2\", \"showlegend\": true, \"x\": [7.508505821228027, 7.508505821228027, 10.768726348876953, 10.768726348876953, 7.508505821228027], \"y\": [2.9944708347320557, -2.007627487182617, -2.007627487182617, 2.9944708347320557, 2.9944708347320557], \"type\": \"scatter\"}], \"name\": \"69\"}, {\"data\": [{\"fill\": \"toself\", \"marker\": {\"color\": \"#a6cee3\"}, \"mode\": \"lines\", \"name\": \"0\", \"showlegend\": true, \"x\": [-0.9074919819831848, -0.9074919819831848, 7.7533183097839355, 7.7533183097839355, -0.9074919819831848], \"y\": [-1.0611971616744995, 2.0393471717834473, 2.0393471717834473, -1.0611971616744995, -1.0611971616744995], \"type\": \"scatter\"}, {\"fill\": \"toself\", \"marker\": {\"color\": \"#1f78b4\"}, \"mode\": \"lines\", \"name\": \"1\", \"showlegend\": true, \"x\": [8.368743896484375, 8.368743896484375, 7.71933650970459, 7.71933650970459, 8.368743896484375], \"y\": [-1.0359915494918823, 2.020343065261841, 2.020343065261841, -1.0359915494918823, -1.0359915494918823], \"type\": \"scatter\"}, {\"fill\": \"toself\", \"marker\": {\"color\": \"#b2df8a\"}, \"mode\": \"lines\", \"name\": \"2\", \"showlegend\": true, \"x\": [7.642866611480713, 7.642866611480713, 10.861296653747559, 10.861296653747559, 7.642866611480713], \"y\": [3.0270025730133057, -2.0402135848999023, -2.0402135848999023, 3.0270025730133057, 3.0270025730133057], \"type\": \"scatter\"}], \"name\": \"70\"}, {\"data\": [{\"fill\": \"toself\", \"marker\": {\"color\": \"#a6cee3\"}, \"mode\": \"lines\", \"name\": \"0\", \"showlegend\": true, \"x\": [-0.9083568453788757, -0.9083568453788757, 7.752731800079346, 7.752731800079346, -0.9083568453788757], \"y\": [-1.0615780353546143, 2.039738416671753, 2.039738416671753, -1.0615780353546143, -1.0615780353546143], \"type\": \"scatter\"}, {\"fill\": \"toself\", \"marker\": {\"color\": \"#1f78b4\"}, \"mode\": \"lines\", \"name\": \"1\", \"showlegend\": true, \"x\": [8.403698921203613, 8.403698921203613, 7.697582721710205, 7.697582721710205, 8.403698921203613], \"y\": [-1.0407384634017944, 2.0251994132995605, 2.0251994132995605, -1.0407384634017944, -1.0407384634017944], \"type\": \"scatter\"}, {\"fill\": \"toself\", \"marker\": {\"color\": \"#b2df8a\"}, \"mode\": \"lines\", \"name\": \"2\", \"showlegend\": true, \"x\": [7.767739772796631, 7.767739772796631, 10.949026107788086, 10.949026107788086, 7.767739772796631], \"y\": [3.058642625808716, -2.0719058513641357, -2.0719058513641357, 3.058642625808716, 3.058642625808716], \"type\": \"scatter\"}], \"name\": \"71\"}, {\"data\": [{\"fill\": \"toself\", \"marker\": {\"color\": \"#a6cee3\"}, \"mode\": \"lines\", \"name\": \"0\", \"showlegend\": true, \"x\": [-0.9091381430625916, -0.9091381430625916, 7.740696430206299, 7.740696430206299, -0.9091381430625916], \"y\": [-1.0619217157363892, 2.040090322494507, 2.040090322494507, -1.0619217157363892, -1.0619217157363892], \"type\": \"scatter\"}, {\"fill\": \"toself\", \"marker\": {\"color\": \"#1f78b4\"}, \"mode\": \"lines\", \"name\": \"1\", \"showlegend\": true, \"x\": [8.439312934875488, 8.439312934875488, 7.6877827644348145, 7.6877827644348145, 8.439312934875488], \"y\": [-1.0454000234603882, 2.0299692153930664, 2.0299692153930664, -1.0454000234603882, -1.0454000234603882], \"type\": \"scatter\"}, {\"fill\": \"toself\", \"marker\": {\"color\": \"#b2df8a\"}, \"mode\": \"lines\", \"name\": \"2\", \"showlegend\": true, \"x\": [7.880639553070068, 7.880639553070068, 11.031901359558105, 11.031901359558105, 7.880639553070068], \"y\": [3.0894570350646973, -2.102771520614624, -2.102771520614624, 3.0894570350646973, 3.0894570350646973], \"type\": \"scatter\"}], \"name\": \"72\"}, {\"data\": [{\"fill\": \"toself\", \"marker\": {\"color\": \"#a6cee3\"}, \"mode\": \"lines\", \"name\": \"0\", \"showlegend\": true, \"x\": [-0.9098461866378784, -0.9098461866378784, 7.727681636810303, 7.727681636810303, -0.9098461866378784], \"y\": [-1.0622329711914062, 2.040410041809082, 2.040410041809082, -1.0622329711914062, -1.0622329711914062], \"type\": \"scatter\"}, {\"fill\": \"toself\", \"marker\": {\"color\": \"#1f78b4\"}, \"mode\": \"lines\", \"name\": \"1\", \"showlegend\": true, \"x\": [8.475550651550293, 8.475550651550293, 7.679172992706299, 7.679172992706299, 8.475550651550293], \"y\": [-1.0499860048294067, 2.034661054611206, 2.034661054611206, -1.0499860048294067, -1.0499860048294067], \"type\": \"scatter\"}, {\"fill\": \"toself\", \"marker\": {\"color\": \"#b2df8a\"}, \"mode\": \"lines\", \"name\": \"2\", \"showlegend\": true, \"x\": [7.983308792114258, 7.983308792114258, 11.110514640808105, 11.110514640808105, 7.983308792114258], \"y\": [3.119539499282837, -2.132903814315796, -2.132903814315796, 3.119539499282837, 3.119539499282837], \"type\": \"scatter\"}], \"name\": \"73\"}, {\"data\": [{\"fill\": \"toself\", \"marker\": {\"color\": \"#a6cee3\"}, \"mode\": \"lines\", \"name\": \"0\", \"showlegend\": true, \"x\": [-0.9104922413825989, -0.9104922413825989, 7.714986324310303, 7.714986324310303, -0.9104922413825989], \"y\": [-1.0625171661376953, 2.0559191703796387, 2.0559191703796387, -1.0625171661376953, -1.0625171661376953], \"type\": \"scatter\"}, {\"fill\": \"toself\", \"marker\": {\"color\": \"#1f78b4\"}, \"mode\": \"lines\", \"name\": \"1\", \"showlegend\": true, \"x\": [8.51233196258545, 8.51233196258545, 7.670391082763672, 7.670391082763672, 8.51233196258545], \"y\": [-1.0545061826705933, 2.023796319961548, 2.023796319961548, -1.0545061826705933, -1.0545061826705933], \"type\": \"scatter\"}, {\"fill\": \"toself\", \"marker\": {\"color\": \"#b2df8a\"}, \"mode\": \"lines\", \"name\": \"2\", \"showlegend\": true, \"x\": [8.07771110534668, 8.07771110534668, 11.185481071472168, 11.185481071472168, 8.07771110534668], \"y\": [3.148982524871826, -2.1623947620391846, -2.1623947620391846, 3.148982524871826, 3.148982524871826], \"type\": \"scatter\"}], \"name\": \"74\"}, {\"data\": [{\"fill\": \"toself\", \"marker\": {\"color\": \"#a6cee3\"}, \"mode\": \"lines\", \"name\": \"0\", \"showlegend\": true, \"x\": [-0.9110779166221619, -0.9110779166221619, 7.704427242279053, 7.704427242279053, -0.9110779166221619], \"y\": [-1.0838593244552612, 2.0621566772460938, 2.0621566772460938, -1.0838593244552612, -1.0838593244552612], \"type\": \"scatter\"}, {\"fill\": \"toself\", \"marker\": {\"color\": \"#1f78b4\"}, \"mode\": \"lines\", \"name\": \"1\", \"showlegend\": true, \"x\": [8.549554824829102, 8.549554824829102, 7.659514427185059, 7.659514427185059, 8.549554824829102], \"y\": [-1.0366309881210327, 2.021155595779419, 2.021155595779419, -1.0366309881210327, -1.0366309881210327], \"type\": \"scatter\"}, {\"fill\": \"toself\", \"marker\": {\"color\": \"#b2df8a\"}, \"mode\": \"lines\", \"name\": \"2\", \"showlegend\": true, \"x\": [8.165814399719238, 8.165814399719238, 11.257458686828613, 11.257458686828613, 8.165814399719238], \"y\": [3.178130626678467, -2.1915900707244873, -2.1915900707244873, 3.178130626678467, 3.178130626678467], \"type\": \"scatter\"}], \"name\": \"75\"}, {\"data\": [{\"fill\": \"toself\", \"marker\": {\"color\": \"#a6cee3\"}, \"mode\": \"lines\", \"name\": \"0\", \"showlegend\": true, \"x\": [-0.9116170406341553, -0.9116170406341553, 7.692440032958984, 7.692440032958984, -0.9116170406341553], \"y\": [-1.0840346813201904, 2.0623340606689453, 2.0623340606689453, -1.0840346813201904, -1.0840346813201904], \"type\": \"scatter\"}, {\"fill\": \"toself\", \"marker\": {\"color\": \"#1f78b4\"}, \"mode\": \"lines\", \"name\": \"1\", \"showlegend\": true, \"x\": [8.587128639221191, 8.587128639221191, 7.650227069854736, 7.650227069854736, 8.587128639221191], \"y\": [-1.0399805307388306, 2.024569034576416, 2.024569034576416, -1.0399805307388306, -1.0399805307388306], \"type\": \"scatter\"}, {\"fill\": \"toself\", \"marker\": {\"color\": \"#b2df8a\"}, \"mode\": \"lines\", \"name\": \"2\", \"showlegend\": true, \"x\": [8.24838638305664, 8.24838638305664, 11.326659202575684, 11.326659202575684, 8.24838638305664], \"y\": [3.206820487976074, -2.2203261852264404, -2.2203261852264404, 3.206820487976074, 3.206820487976074], \"type\": \"scatter\"}], \"name\": \"76\"}, {\"data\": [{\"fill\": \"toself\", \"marker\": {\"color\": \"#a6cee3\"}, \"mode\": \"lines\", \"name\": \"0\", \"showlegend\": true, \"x\": [-0.9121158719062805, -0.9121158719062805, 7.681316375732422, 7.681316375732422, -0.9121158719062805], \"y\": [-1.0841957330703735, 2.0625009536743164, 2.0625009536743164, -1.0841957330703735, -1.0841957330703735], \"type\": \"scatter\"}, {\"fill\": \"toself\", \"marker\": {\"color\": \"#1f78b4\"}, \"mode\": \"lines\", \"name\": \"1\", \"showlegend\": true, \"x\": [8.62502670288086, 8.62502670288086, 7.640117645263672, 7.640117645263672, 8.62502670288086], \"y\": [-1.0432943105697632, 2.0279440879821777, 2.0279440879821777, -1.0432943105697632, -1.0432943105697632], \"type\": \"scatter\"}, {\"fill\": \"toself\", \"marker\": {\"color\": \"#b2df8a\"}, \"mode\": \"lines\", \"name\": \"2\", \"showlegend\": true, \"x\": [8.32653522491455, 8.32653522491455, 11.393564224243164, 11.393564224243164, 8.32653522491455], \"y\": [3.2350451946258545, -2.248595714569092, -2.248595714569092, 3.2350451946258545, 3.2350451946258545], \"type\": \"scatter\"}], \"name\": \"77\"}, {\"data\": [{\"fill\": \"toself\", \"marker\": {\"color\": \"#a6cee3\"}, \"mode\": \"lines\", \"name\": \"0\", \"showlegend\": true, \"x\": [-0.9125781059265137, -0.9125781059265137, 7.67104434967041, 7.67104434967041, -0.9125781059265137], \"y\": [-1.084344744682312, 2.0626494884490967, 2.0626494884490967, -1.084344744682312, -1.084344744682312], \"type\": \"scatter\"}, {\"fill\": \"toself\", \"marker\": {\"color\": \"#1f78b4\"}, \"mode\": \"lines\", \"name\": \"1\", \"showlegend\": true, \"x\": [8.663163185119629, 8.663163185119629, 7.629220008850098, 7.629220008850098, 8.663163185119629], \"y\": [-1.0465750694274902, 2.0312883853912354, 2.0312883853912354, -1.0465750694274902, -1.0465750694274902], \"type\": \"scatter\"}, {\"fill\": \"toself\", \"marker\": {\"color\": \"#b2df8a\"}, \"mode\": \"lines\", \"name\": \"2\", \"showlegend\": true, \"x\": [8.400777816772461, 8.400777816772461, 11.458292961120605, 11.458292961120605, 8.400777816772461], \"y\": [3.262847661972046, -2.276442527770996, -2.276442527770996, 3.262847661972046, 3.262847661972046], \"type\": \"scatter\"}], \"name\": \"78\"}, {\"data\": [{\"fill\": \"toself\", \"marker\": {\"color\": \"#a6cee3\"}, \"mode\": \"lines\", \"name\": \"0\", \"showlegend\": true, \"x\": [-0.9130085706710815, -0.9130085706710815, 7.659420967102051, 7.659420967102051, -0.9130085706710815], \"y\": [-1.0844837427139282, 2.0627925395965576, 2.0627925395965576, -1.0844837427139282, -1.0844837427139282], \"type\": \"scatter\"}, {\"fill\": \"toself\", \"marker\": {\"color\": \"#1f78b4\"}, \"mode\": \"lines\", \"name\": \"1\", \"showlegend\": true, \"x\": [8.701515197753906, 8.701515197753906, 7.619760036468506, 7.619760036468506, 8.701515197753906], \"y\": [-1.0498270988464355, 2.034600019454956, 2.034600019454956, -1.0498270988464355, -1.0498270988464355], \"type\": \"scatter\"}, {\"fill\": \"toself\", \"marker\": {\"color\": \"#b2df8a\"}, \"mode\": \"lines\", \"name\": \"2\", \"showlegend\": true, \"x\": [8.47170639038086, 8.47170639038086, 11.521142959594727, 11.521142959594727, 8.47170639038086], \"y\": [3.2902703285217285, -2.3039073944091797, -2.3039073944091797, 3.2902703285217285, 3.2902703285217285], \"type\": \"scatter\"}], \"name\": \"79\"}, {\"data\": [{\"fill\": \"toself\", \"marker\": {\"color\": \"#a6cee3\"}, \"mode\": \"lines\", \"name\": \"0\", \"showlegend\": true, \"x\": [-0.9134092926979065, -0.9134092926979065, 7.648717403411865, 7.648717403411865, -0.9134092926979065], \"y\": [-1.084613561630249, 2.06292462348938, 2.06292462348938, -1.084613561630249, -1.084613561630249], \"type\": \"scatter\"}, {\"fill\": \"toself\", \"marker\": {\"color\": \"#1f78b4\"}, \"mode\": \"lines\", \"name\": \"1\", \"showlegend\": true, \"x\": [8.740069389343262, 8.740069389343262, 7.609389305114746, 7.609389305114746, 8.740069389343262], \"y\": [-1.0530519485473633, 2.037884473800659, 2.037884473800659, -1.0530519485473633, -1.0530519485473633], \"type\": \"scatter\"}, {\"fill\": \"toself\", \"marker\": {\"color\": \"#b2df8a\"}, \"mode\": \"lines\", \"name\": \"2\", \"showlegend\": true, \"x\": [8.539739608764648, 8.539739608764648, 11.582306861877441, 11.582306861877441, 8.539739608764648], \"y\": [3.3173446655273438, -2.331024646759033, -2.331024646759033, 3.3173446655273438, 3.3173446655273438], \"type\": \"scatter\"}], \"name\": \"80\"}, {\"data\": [{\"fill\": \"toself\", \"marker\": {\"color\": \"#a6cee3\"}, \"mode\": \"lines\", \"name\": \"0\", \"showlegend\": true, \"x\": [-0.9137840270996094, -0.9137840270996094, 7.637519836425781, 7.637519836425781, -0.9137840270996094], \"y\": [-1.0847327709197998, 2.0630438327789307, 2.0630438327789307, -1.0847327709197998, -1.0847327709197998], \"type\": \"scatter\"}, {\"fill\": \"toself\", \"marker\": {\"color\": \"#1f78b4\"}, \"mode\": \"lines\", \"name\": \"1\", \"showlegend\": true, \"x\": [8.7787504196167, 8.7787504196167, 7.599588394165039, 7.599588394165039, 8.7787504196167], \"y\": [-1.0562524795532227, 2.041144847869873, 2.041144847869873, -1.0562524795532227, -1.0562524795532227], \"type\": \"scatter\"}, {\"fill\": \"toself\", \"marker\": {\"color\": \"#b2df8a\"}, \"mode\": \"lines\", \"name\": \"2\", \"showlegend\": true, \"x\": [8.60503101348877, 8.60503101348877, 11.641825675964355, 11.641825675964355, 8.60503101348877], \"y\": [3.3441052436828613, -2.357825756072998, -2.357825756072998, 3.3441052436828613, 3.3441052436828613], \"type\": \"scatter\"}], \"name\": \"81\"}, {\"data\": [{\"fill\": \"toself\", \"marker\": {\"color\": \"#a6cee3\"}, \"mode\": \"lines\", \"name\": \"0\", \"showlegend\": true, \"x\": [-0.9141351580619812, -0.9141351580619812, 7.627219200134277, 7.627219200134277, -0.9141351580619812], \"y\": [-1.084844946861267, 2.0631630420684814, 2.0631630420684814, -1.084844946861267, -1.084844946861267], \"type\": \"scatter\"}, {\"fill\": \"toself\", \"marker\": {\"color\": \"#1f78b4\"}, \"mode\": \"lines\", \"name\": \"1\", \"showlegend\": true, \"x\": [8.81755542755127, 8.81755542755127, 7.588886737823486, 7.588886737823486, 8.81755542755127], \"y\": [-1.0594301223754883, 2.0443832874298096, 2.0443832874298096, -1.0594301223754883, -1.0594301223754883], \"type\": \"scatter\"}, {\"fill\": \"toself\", \"marker\": {\"color\": \"#b2df8a\"}, \"mode\": \"lines\", \"name\": \"2\", \"showlegend\": true, \"x\": [8.66806697845459, 8.66806697845459, 11.699925422668457, 11.699925422668457, 8.66806697845459], \"y\": [3.3705766201019287, -2.3843376636505127, -2.3843376636505127, 3.3705766201019287, 3.3705766201019287], \"type\": \"scatter\"}], \"name\": \"82\"}, {\"data\": [{\"fill\": \"toself\", \"marker\": {\"color\": \"#a6cee3\"}, \"mode\": \"lines\", \"name\": \"0\", \"showlegend\": true, \"x\": [-0.9144647121429443, -0.9144647121429443, 7.616194725036621, 7.616194725036621, -0.9144647121429443], \"y\": [-1.0849522352218628, 2.0632717609405518, 2.0632717609405518, -1.0849522352218628, -1.0849522352218628], \"type\": \"scatter\"}, {\"fill\": \"toself\", \"marker\": {\"color\": \"#1f78b4\"}, \"mode\": \"lines\", \"name\": \"1\", \"showlegend\": true, \"x\": [8.856440544128418, 8.856440544128418, 7.578935146331787, 7.578935146331787, 8.856440544128418], \"y\": [-1.062587857246399, 2.0476019382476807, 2.0476019382476807, -1.062587857246399, -1.062587857246399], \"type\": \"scatter\"}, {\"fill\": \"toself\", \"marker\": {\"color\": \"#b2df8a\"}, \"mode\": \"lines\", \"name\": \"2\", \"showlegend\": true, \"x\": [8.729334831237793, 8.729334831237793, 11.756780624389648, 11.756780624389648, 8.729334831237793], \"y\": [3.3967838287353516, -2.4105849266052246, -2.4105849266052246, 3.3967838287353516, 3.3967838287353516], \"type\": \"scatter\"}], \"name\": \"83\"}, {\"data\": [{\"fill\": \"toself\", \"marker\": {\"color\": \"#a6cee3\"}, \"mode\": \"lines\", \"name\": \"0\", \"showlegend\": true, \"x\": [-0.9147748351097107, -0.9147748351097107, 7.605188369750977, 7.605188369750977, -0.9147748351097107], \"y\": [-1.0850496292114258, 2.0633671283721924, 2.0633671283721924, -1.0850496292114258, -1.0850496292114258], \"type\": \"scatter\"}, {\"fill\": \"toself\", \"marker\": {\"color\": \"#1f78b4\"}, \"mode\": \"lines\", \"name\": \"1\", \"showlegend\": true, \"x\": [8.895402908325195, 8.895402908325195, 7.5690107345581055, 7.5690107345581055, 8.895402908325195], \"y\": [-1.065727949142456, 2.050797700881958, 2.050797700881958, -1.065727949142456, -1.065727949142456], \"type\": \"scatter\"}, {\"fill\": \"toself\", \"marker\": {\"color\": \"#b2df8a\"}, \"mode\": \"lines\", \"name\": \"2\", \"showlegend\": true, \"x\": [8.7884521484375, 8.7884521484375, 11.812321662902832, 11.812321662902832, 8.7884521484375], \"y\": [3.4227495193481445, -2.4365899562835693, -2.4365899562835693, 3.4227495193481445, 3.4227495193481445], \"type\": \"scatter\"}], \"name\": \"84\"}, {\"data\": [{\"fill\": \"toself\", \"marker\": {\"color\": \"#a6cee3\"}, \"mode\": \"lines\", \"name\": \"0\", \"showlegend\": true, \"x\": [-0.9150667190551758, -0.9150667190551758, 7.594279766082764, 7.594279766082764, -0.9150667190551758], \"y\": [-1.0851449966430664, 2.063462495803833, 2.063462495803833, -1.0851449966430664, -1.0851449966430664], \"type\": \"scatter\"}, {\"fill\": \"toself\", \"marker\": {\"color\": \"#1f78b4\"}, \"mode\": \"lines\", \"name\": \"1\", \"showlegend\": true, \"x\": [8.934408187866211, 8.934408187866211, 7.559004306793213, 7.559004306793213, 8.934408187866211], \"y\": [-1.0688507556915283, 2.053978204727173, 2.053978204727173, -1.0688507556915283, -1.0688507556915283], \"type\": \"scatter\"}, {\"fill\": \"toself\", \"marker\": {\"color\": \"#b2df8a\"}, \"mode\": \"lines\", \"name\": \"2\", \"showlegend\": true, \"x\": [8.845888137817383, 8.845888137817383, 11.866734504699707, 11.866734504699707, 8.845888137817383], \"y\": [3.4484918117523193, -2.4623703956604004, -2.4623703956604004, 3.4484918117523193, 3.4484918117523193], \"type\": \"scatter\"}], \"name\": \"85\"}, {\"data\": [{\"fill\": \"toself\", \"marker\": {\"color\": \"#a6cee3\"}, \"mode\": \"lines\", \"name\": \"0\", \"showlegend\": true, \"x\": [-0.915340006351471, -0.915340006351471, 7.583433628082275, 7.583433628082275, -0.915340006351471], \"y\": [-1.1092334985733032, 2.0876786708831787, 2.0876786708831787, -1.1092334985733032, -1.1092334985733032], \"type\": \"scatter\"}, {\"fill\": \"toself\", \"marker\": {\"color\": \"#1f78b4\"}, \"mode\": \"lines\", \"name\": \"1\", \"showlegend\": true, \"x\": [8.97342300415039, 8.97342300415039, 7.5489182472229, 7.5489182472229, 8.97342300415039], \"y\": [-1.0473569631576538, 2.032073974609375, 2.032073974609375, -1.0473569631576538, -1.0473569631576538], \"type\": \"scatter\"}, {\"fill\": \"toself\", \"marker\": {\"color\": \"#b2df8a\"}, \"mode\": \"lines\", \"name\": \"2\", \"showlegend\": true, \"x\": [8.90191650390625, 8.90191650390625, 11.920127868652344, 11.920127868652344, 8.90191650390625], \"y\": [3.474186897277832, -2.488105297088623, -2.488105297088623, 3.474186897277832, 3.474186897277832], \"type\": \"scatter\"}], \"name\": \"86\"}, {\"data\": [{\"fill\": \"toself\", \"marker\": {\"color\": \"#a6cee3\"}, \"mode\": \"lines\", \"name\": \"0\", \"showlegend\": true, \"x\": [-0.9155960083007812, -0.9155960083007812, 7.572667121887207, 7.572667121887207, -0.9155960083007812], \"y\": [-1.1094424724578857, 2.087735176086426, 2.087735176086426, -1.1094424724578857, -1.1094424724578857], \"type\": \"scatter\"}, {\"fill\": \"toself\", \"marker\": {\"color\": \"#1f78b4\"}, \"mode\": \"lines\", \"name\": \"1\", \"showlegend\": true, \"x\": [9.012523651123047, 9.012523651123047, 7.538755893707275, 7.538755893707275, 9.012523651123047], \"y\": [-1.0492537021636963, 2.0341665744781494, 2.0341665744781494, -1.0492537021636963, -1.0492537021636963], \"type\": \"scatter\"}, {\"fill\": \"toself\", \"marker\": {\"color\": \"#b2df8a\"}, \"mode\": \"lines\", \"name\": \"2\", \"showlegend\": true, \"x\": [8.95654296875, 8.95654296875, 11.972527503967285, 11.972527503967285, 8.95654296875], \"y\": [3.499889850616455, -2.5138461589813232, -2.5138461589813232, 3.499889850616455, 3.499889850616455], \"type\": \"scatter\"}], \"name\": \"87\"}, {\"data\": [{\"fill\": \"toself\", \"marker\": {\"color\": \"#a6cee3\"}, \"mode\": \"lines\", \"name\": \"0\", \"showlegend\": true, \"x\": [-0.9158380031585693, -0.9158380031585693, 7.561976432800293, 7.561976432800293, -0.9158380031585693], \"y\": [-1.109490156173706, 2.087782859802246, 2.087782859802246, -1.109490156173706, -1.109490156173706], \"type\": \"scatter\"}, {\"fill\": \"toself\", \"marker\": {\"color\": \"#1f78b4\"}, \"mode\": \"lines\", \"name\": \"1\", \"showlegend\": true, \"x\": [9.051572799682617, 9.051572799682617, 7.528524875640869, 7.528524875640869, 9.051572799682617], \"y\": [-1.0513041019439697, 2.0362634658813477, 2.0362634658813477, -1.0513041019439697, -1.0513041019439697], \"type\": \"scatter\"}, {\"fill\": \"toself\", \"marker\": {\"color\": \"#b2df8a\"}, \"mode\": \"lines\", \"name\": \"2\", \"showlegend\": true, \"x\": [9.009904861450195, 9.009904861450195, 12.024002075195312, 12.024002075195312, 9.009904861450195], \"y\": [3.525411367416382, -2.539405107498169, -2.539405107498169, 3.525411367416382, 3.525411367416382], \"type\": \"scatter\"}], \"name\": \"88\"}, {\"data\": [{\"fill\": \"toself\", \"marker\": {\"color\": \"#a6cee3\"}, \"mode\": \"lines\", \"name\": \"0\", \"showlegend\": true, \"x\": [-0.9160664677619934, -0.9160664677619934, 7.551341533660889, 7.551341533660889, -0.9160664677619934], \"y\": [-1.1095378398895264, 2.0878305435180664, 2.0878305435180664, -1.1095378398895264, -1.1095378398895264], \"type\": \"scatter\"}, {\"fill\": \"toself\", \"marker\": {\"color\": \"#1f78b4\"}, \"mode\": \"lines\", \"name\": \"1\", \"showlegend\": true, \"x\": [9.090578079223633, 9.090578079223633, 7.51822566986084, 7.51822566986084, 9.090578079223633], \"y\": [-1.053343653678894, 2.0383377075195312, 2.0383377075195312, -1.053343653678894, -1.053343653678894], \"type\": \"scatter\"}, {\"fill\": \"toself\", \"marker\": {\"color\": \"#b2df8a\"}, \"mode\": \"lines\", \"name\": \"2\", \"showlegend\": true, \"x\": [9.062158584594727, 9.062158584594727, 12.074627876281738, 12.074627876281738, 9.062158584594727], \"y\": [3.5507652759552, -2.5647964477539062, -2.5647964477539062, 3.5507652759552, 3.5507652759552], \"type\": \"scatter\"}], \"name\": \"89\"}, {\"data\": [{\"fill\": \"toself\", \"marker\": {\"color\": \"#a6cee3\"}, \"mode\": \"lines\", \"name\": \"0\", \"showlegend\": true, \"x\": [-0.9162835478782654, -0.9162835478782654, 7.5407586097717285, 7.5407586097717285, -0.9162835478782654], \"y\": [-1.1095855236053467, 2.0878782272338867, 2.0878782272338867, -1.1095855236053467, -1.1095855236053467], \"type\": \"scatter\"}, {\"fill\": \"toself\", \"marker\": {\"color\": \"#1f78b4\"}, \"mode\": \"lines\", \"name\": \"1\", \"showlegend\": true, \"x\": [9.129583358764648, 9.129583358764648, 7.50786018371582, 7.50786018371582, 9.129583358764648], \"y\": [-1.0553821325302124, 2.040411949157715, 2.040411949157715, -1.0553821325302124, -1.0553821325302124], \"type\": \"scatter\"}, {\"fill\": \"toself\", \"marker\": {\"color\": \"#b2df8a\"}, \"mode\": \"lines\", \"name\": \"2\", \"showlegend\": true, \"x\": [9.113394737243652, 9.113394737243652, 12.1244535446167, 12.1244535446167, 9.113394737243652], \"y\": [3.5759642124176025, -2.5900321006774902, -2.5900321006774902, 3.5759642124176025, 3.5759642124176025], \"type\": \"scatter\"}], \"name\": \"90\"}, {\"data\": [{\"fill\": \"toself\", \"marker\": {\"color\": \"#a6cee3\"}, \"mode\": \"lines\", \"name\": \"0\", \"showlegend\": true, \"x\": [-0.9164879322052002, -0.9164879322052002, 7.530251979827881, 7.530251979827881, -0.9164879322052002], \"y\": [-1.1096272468566895, 2.087925910949707, 2.087925910949707, -1.1096272468566895, -1.1096272468566895], \"type\": \"scatter\"}, {\"fill\": \"toself\", \"marker\": {\"color\": \"#1f78b4\"}, \"mode\": \"lines\", \"name\": \"1\", \"showlegend\": true, \"x\": [9.156271934509277, 9.156271934509277, 7.497452259063721, 7.497452259063721, 9.156271934509277], \"y\": [-1.0574028491973877, 2.0424768924713135, 2.0424768924713135, -1.0574028491973877, -1.0574028491973877], \"type\": \"scatter\"}, {\"fill\": \"toself\", \"marker\": {\"color\": \"#b2df8a\"}, \"mode\": \"lines\", \"name\": \"2\", \"showlegend\": true, \"x\": [9.206592559814453, 9.206592559814453, 12.173480033874512, 12.173480033874512, 9.206592559814453], \"y\": [3.6009135246276855, -2.6150193214416504, -2.6150193214416504, 3.6009135246276855, 3.6009135246276855], \"type\": \"scatter\"}], \"name\": \"91\"}, {\"data\": [{\"fill\": \"toself\", \"marker\": {\"color\": \"#a6cee3\"}, \"mode\": \"lines\", \"name\": \"0\", \"showlegend\": true, \"x\": [-0.9166674613952637, -0.9166674613952637, 7.520273685455322, 7.520273685455322, -0.9166674613952637], \"y\": [-1.1096630096435547, 2.0879673957824707, 2.0879673957824707, -1.1096630096435547, -1.1096630096435547], \"type\": \"scatter\"}, {\"fill\": \"toself\", \"marker\": {\"color\": \"#1f78b4\"}, \"mode\": \"lines\", \"name\": \"1\", \"showlegend\": true, \"x\": [9.155989646911621, 9.155989646911621, 7.4874958992004395, 7.4874958992004395, 9.155989646911621], \"y\": [-1.0592267513275146, 2.0443382263183594, 2.0443382263183594, -1.0592267513275146, -1.0592267513275146], \"type\": \"scatter\"}, {\"fill\": \"toself\", \"marker\": {\"color\": \"#b2df8a\"}, \"mode\": \"lines\", \"name\": \"2\", \"showlegend\": true, \"x\": [9.368332862854004, 9.368332862854004, 12.220281600952148, 12.220281600952148, 9.368332862854004], \"y\": [3.623366594314575, -2.6375043392181396, -2.6375043392181396, 3.623366594314575, 3.623366594314575], \"type\": \"scatter\"}], \"name\": \"92\"}, {\"data\": [{\"fill\": \"toself\", \"marker\": {\"color\": \"#a6cee3\"}, \"mode\": \"lines\", \"name\": \"0\", \"showlegend\": true, \"x\": [-0.91682368516922, -0.91682368516922, 7.510889530181885, 7.510889530181885, -0.91682368516922], \"y\": [-1.10969877243042, 2.087991237640381, 2.087991237640381, -1.10969877243042, -1.10969877243042], \"type\": \"scatter\"}, {\"fill\": \"toself\", \"marker\": {\"color\": \"#1f78b4\"}, \"mode\": \"lines\", \"name\": \"1\", \"showlegend\": true, \"x\": [9.155674934387207, 9.155674934387207, 7.478120803833008, 7.478120803833008, 9.155674934387207], \"y\": [-1.0608174800872803, 2.045959949493408, 2.045959949493408, -1.0608174800872803, -1.0608174800872803], \"type\": \"scatter\"}, {\"fill\": \"toself\", \"marker\": {\"color\": \"#b2df8a\"}, \"mode\": \"lines\", \"name\": \"2\", \"showlegend\": true, \"x\": [9.50395393371582, 9.50395393371582, 12.264659881591797, 12.264659881591797, 9.50395393371582], \"y\": [3.642923355102539, -2.6570897102355957, -2.6570897102355957, 3.642923355102539, 3.642923355102539], \"type\": \"scatter\"}], \"name\": \"93\"}, {\"data\": [{\"fill\": \"toself\", \"marker\": {\"color\": \"#a6cee3\"}, \"mode\": \"lines\", \"name\": \"0\", \"showlegend\": true, \"x\": [-0.9169631004333496, -0.9169631004333496, 7.501949310302734, 7.501949310302734, -0.9169631004333496], \"y\": [-1.10972261428833, 2.088015079498291, 2.088015079498291, -1.10972261428833, -1.10972261428833], \"type\": \"scatter\"}, {\"fill\": \"toself\", \"marker\": {\"color\": \"#1f78b4\"}, \"mode\": \"lines\", \"name\": \"1\", \"showlegend\": true, \"x\": [9.155388832092285, 9.155388832092285, 7.46918249130249, 7.46918249130249, 9.155388832092285], \"y\": [-1.0622411966323853, 2.0474119186401367, 2.0474119186401367, -1.0622411966323853, -1.0622411966323853], \"type\": \"scatter\"}, {\"fill\": \"toself\", \"marker\": {\"color\": \"#b2df8a\"}, \"mode\": \"lines\", \"name\": \"2\", \"showlegend\": true, \"x\": [9.622443199157715, 9.622443199157715, 12.307228088378906, 12.307228088378906, 9.622443199157715], \"y\": [3.660410165786743, -2.6746017932891846, -2.6746017932891846, 3.660410165786743, 3.660410165786743], \"type\": \"scatter\"}], \"name\": \"94\"}, {\"data\": [{\"fill\": \"toself\", \"marker\": {\"color\": \"#a6cee3\"}, \"mode\": \"lines\", \"name\": \"0\", \"showlegend\": true, \"x\": [-0.9170897603034973, -0.9170897603034973, 7.493340015411377, 7.493340015411377, -0.9170897603034973], \"y\": [-1.1097464561462402, 2.088038921356201, 2.088038921356201, -1.1097464561462402, -1.1097464561462402], \"type\": \"scatter\"}, {\"fill\": \"toself\", \"marker\": {\"color\": \"#1f78b4\"}, \"mode\": \"lines\", \"name\": \"1\", \"showlegend\": true, \"x\": [9.155102729797363, 9.155102729797363, 7.460592269897461, 7.460592269897461, 9.155102729797363], \"y\": [-1.0635390281677246, 2.048737049102783, 2.048737049102783, -1.0635390281677246, -1.0635390281677246], \"type\": \"scatter\"}, {\"fill\": \"toself\", \"marker\": {\"color\": \"#b2df8a\"}, \"mode\": \"lines\", \"name\": \"2\", \"showlegend\": true, \"x\": [9.728785514831543, 9.728785514831543, 12.348381042480469, 12.348381042480469, 9.728785514831543], \"y\": [3.6763439178466797, -2.690559148788452, -2.690559148788452, 3.6763439178466797, 3.6763439178466797], \"type\": \"scatter\"}], \"name\": \"95\"}, {\"data\": [{\"fill\": \"toself\", \"marker\": {\"color\": \"#a6cee3\"}, \"mode\": \"lines\", \"name\": \"0\", \"showlegend\": true, \"x\": [-0.9172058701515198, -0.9172058701515198, 7.486499309539795, 7.486499309539795, -0.9172058701515198], \"y\": [-1.1097702980041504, 2.0880627632141113, 2.0880627632141113, -1.1097702980041504, -1.1097702980041504], \"type\": \"scatter\"}, {\"fill\": \"toself\", \"marker\": {\"color\": \"#1f78b4\"}, \"mode\": \"lines\", \"name\": \"1\", \"showlegend\": true, \"x\": [9.154816627502441, 9.154816627502441, 7.450748443603516, 7.450748443603516, 9.154816627502441], \"y\": [-1.0647363662719727, 2.049959182739258, 2.049959182739258, -1.0647363662719727, -1.0647363662719727], \"type\": \"scatter\"}, {\"fill\": \"toself\", \"marker\": {\"color\": \"#b2df8a\"}, \"mode\": \"lines\", \"name\": \"2\", \"showlegend\": true, \"x\": [9.82595157623291, 9.82595157623291, 12.388386726379395, 12.388386726379395, 9.82595157623291], \"y\": [3.6910367012023926, -2.705273151397705, -2.705273151397705, 3.6910367012023926, 3.6910367012023926], \"type\": \"scatter\"}], \"name\": \"96\"}, {\"data\": [{\"fill\": \"toself\", \"marker\": {\"color\": \"#a6cee3\"}, \"mode\": \"lines\", \"name\": \"0\", \"showlegend\": true, \"x\": [-0.9173142910003662, -0.9173142910003662, 7.4790778160095215, 7.4790778160095215, -0.9173142910003662], \"y\": [-1.1097941398620605, 2.0880866050720215, 2.0880866050720215, -1.1097941398620605, -1.1097941398620605], \"type\": \"scatter\"}, {\"fill\": \"toself\", \"marker\": {\"color\": \"#1f78b4\"}, \"mode\": \"lines\", \"name\": \"1\", \"showlegend\": true, \"x\": [9.154619216918945, 9.154619216918945, 7.441983699798584, 7.441983699798584, 9.154619216918945], \"y\": [-1.0658537149429321, 2.051098585128784, 2.051098585128784, -1.0658537149429321, -1.0658537149429321], \"type\": \"scatter\"}, {\"fill\": \"toself\", \"marker\": {\"color\": \"#b2df8a\"}, \"mode\": \"lines\", \"name\": \"2\", \"showlegend\": true, \"x\": [9.91599178314209, 9.91599178314209, 12.42746353149414, 12.42746353149414, 9.91599178314209], \"y\": [3.70473575592041, -2.718989372253418, -2.718989372253418, 3.70473575592041, 3.70473575592041], \"type\": \"scatter\"}], \"name\": \"97\"}, {\"data\": [{\"fill\": \"toself\", \"marker\": {\"color\": \"#a6cee3\"}, \"mode\": \"lines\", \"name\": \"0\", \"showlegend\": true, \"x\": [-0.91741544008255, -0.91741544008255, 7.471155166625977, 7.471155166625977, -0.91741544008255], \"y\": [-1.1098179817199707, 2.0881104469299316, 2.0881104469299316, -1.1098179817199707, -1.1098179817199707], \"type\": \"scatter\"}, {\"fill\": \"toself\", \"marker\": {\"color\": \"#1f78b4\"}, \"mode\": \"lines\", \"name\": \"1\", \"showlegend\": true, \"x\": [9.154428482055664, 9.154428482055664, 7.434114456176758, 7.434114456176758, 9.154428482055664], \"y\": [-1.0669023990631104, 2.052168607711792, 2.052168607711792, -1.0669023990631104, -1.0669023990631104], \"type\": \"scatter\"}, {\"fill\": \"toself\", \"marker\": {\"color\": \"#b2df8a\"}, \"mode\": \"lines\", \"name\": \"2\", \"showlegend\": true, \"x\": [10.00020980834961, 10.00020980834961, 12.465733528137207, 12.465733528137207, 10.00020980834961], \"y\": [3.717587947845459, -2.731860637664795, -2.731860637664795, 3.717587947845459, 3.717587947845459], \"type\": \"scatter\"}], \"name\": \"98\"}, {\"data\": [{\"fill\": \"toself\", \"marker\": {\"color\": \"#a6cee3\"}, \"mode\": \"lines\", \"name\": \"0\", \"showlegend\": true, \"x\": [-0.9175108075141907, -0.9175108075141907, 7.463393211364746, 7.463393211364746, -0.9175108075141907], \"y\": [-1.1098418235778809, 2.088134288787842, 2.088134288787842, -1.1098418235778809, -1.1098418235778809], \"type\": \"scatter\"}, {\"fill\": \"toself\", \"marker\": {\"color\": \"#1f78b4\"}, \"mode\": \"lines\", \"name\": \"1\", \"showlegend\": true, \"x\": [9.154237747192383, 9.154237747192383, 7.426403522491455, 7.426403522491455, 9.154237747192383], \"y\": [-1.067893385887146, 2.053180694580078, 2.053180694580078, -1.067893385887146, -1.067893385887146], \"type\": \"scatter\"}, {\"fill\": \"toself\", \"marker\": {\"color\": \"#b2df8a\"}, \"mode\": \"lines\", \"name\": \"2\", \"showlegend\": true, \"x\": [10.079645156860352, 10.079645156860352, 12.503341674804688, 12.503341674804688, 10.079645156860352], \"y\": [3.7297401428222656, -2.7440309524536133, -2.7440309524536133, 3.7297401428222656, 3.7297401428222656], \"type\": \"scatter\"}], \"name\": \"99\"}]);\n",
       "                        }).then(function(){\n",
       "                            \n",
       "var gd = document.getElementById('ba9bd79f-f654-461e-8054-cefcf873d6c6');\n",
       "var x = new MutationObserver(function (mutations, observer) {{\n",
       "        var display = window.getComputedStyle(gd).display;\n",
       "        if (!display || display === 'none') {{\n",
       "            console.log([gd, 'removed!']);\n",
       "            Plotly.purge(gd);\n",
       "            observer.disconnect();\n",
       "        }}\n",
       "}});\n",
       "\n",
       "// Listen for the removal of the full notebook cells\n",
       "var notebookContainer = gd.closest('#notebook-container');\n",
       "if (notebookContainer) {{\n",
       "    x.observe(notebookContainer, {childList: true});\n",
       "}}\n",
       "\n",
       "// Listen for the clearing of the current output cell\n",
       "var outputEl = gd.closest('.output');\n",
       "if (outputEl) {{\n",
       "    x.observe(outputEl, {childList: true});\n",
       "}}\n",
       "\n",
       "                        })\n",
       "                };\n",
       "                });\n",
       "            </script>\n",
       "        </div>"
      ]
     },
     "metadata": {},
     "output_type": "display_data"
    }
   ],
   "source": [
    "plot(embeddings)"
   ]
  },
  {
   "cell_type": "code",
   "execution_count": null,
   "metadata": {},
   "outputs": [],
   "source": [
    "node_hist = NodeHistoryToy.create(name2idx, embeddings)\n",
    "fig_dict = node_hist.fig_dict()\n",
    "fig=go.Figure(fig_dict)\n",
    "fig.show()"
   ]
  },
  {
   "cell_type": "code",
   "execution_count": null,
   "metadata": {},
   "outputs": [],
   "source": [
    "my_net = toy_box_bayes(10)\n",
    "optimizer = optim.Adam(my_net.parameters(), lr = 0.001)\n",
    "embeddings = train_loop(my_net)"
   ]
  },
  {
   "cell_type": "code",
   "execution_count": null,
   "metadata": {},
   "outputs": [],
   "source": [
    "1/4"
   ]
  },
  {
   "cell_type": "code",
   "execution_count": null,
   "metadata": {},
   "outputs": [],
   "source": []
  },
  {
   "cell_type": "code",
   "execution_count": null,
   "metadata": {},
   "outputs": [],
   "source": [
    "plot(embeddings)"
   ]
  }
 ],
 "metadata": {
  "kernelspec": {
   "display_name": "Python 3",
   "language": "python",
   "name": "python3"
  },
  "language_info": {
   "codemirror_mode": {
    "name": "ipython",
    "version": 3
   },
   "file_extension": ".py",
   "mimetype": "text/x-python",
   "name": "python",
   "nbconvert_exporter": "python",
   "pygments_lexer": "ipython3",
   "version": "3.7.4"
  }
 },
 "nbformat": 4,
 "nbformat_minor": 2
}
